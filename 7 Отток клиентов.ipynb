{
 "cells": [
  {
   "attachments": {},
   "cell_type": "markdown",
   "metadata": {},
   "source": [
    "# Отток клиентов"
   ]
  },
  {
   "attachments": {},
   "cell_type": "markdown",
   "metadata": {},
   "source": [
    "Из «Бета-Банка» стали уходить клиенты. Каждый месяц. Немного, но заметно. Банковские маркетологи посчитали: сохранять текущих клиентов дешевле, чем привлекать новых.\n",
    "\n",
    "Нужно спрогнозировать, уйдёт клиент из банка в ближайшее время или нет. Вам предоставлены исторические данные о поведении клиентов и расторжении договоров с банком. \n",
    "\n",
    "Постройте модель с предельно большим значением *F1*-меры. Чтобы сдать проект успешно, нужно довести метрику до 0.59. Проверьте *F1*-меру на тестовой выборке самостоятельно.\n",
    "\n",
    "Дополнительно измеряйте *AUC-ROC*, сравнивайте её значение с *F1*-мерой."
   ]
  },
  {
   "attachments": {},
   "cell_type": "markdown",
   "metadata": {},
   "source": [
    "## Подготовка данных"
   ]
  },
  {
   "attachments": {},
   "cell_type": "markdown",
   "metadata": {},
   "source": [
    "### Импортирование необходимых библиотек"
   ]
  },
  {
   "cell_type": "code",
   "execution_count": 1,
   "metadata": {},
   "outputs": [
    {
     "name": "stdout",
     "output_type": "stream",
     "text": [
      "Requirement already satisfied: scikit-learn in /opt/conda/lib/python3.9/site-packages (0.24.1)\n",
      "Collecting scikit-learn\n",
      "  Downloading scikit_learn-1.1.3-cp39-cp39-manylinux_2_17_x86_64.manylinux2014_x86_64.whl (30.8 MB)\n",
      "\u001b[K     |████████████████████████████████| 30.8 MB 47 kB/s  eta 0:00:01\n",
      "\u001b[?25hRequirement already satisfied: threadpoolctl>=2.0.0 in /opt/conda/lib/python3.9/site-packages (from scikit-learn) (3.1.0)\n",
      "Requirement already satisfied: numpy>=1.17.3 in /opt/conda/lib/python3.9/site-packages (from scikit-learn) (1.21.1)\n",
      "Requirement already satisfied: joblib>=1.0.0 in /opt/conda/lib/python3.9/site-packages (from scikit-learn) (1.1.0)\n",
      "Requirement already satisfied: scipy>=1.3.2 in /opt/conda/lib/python3.9/site-packages (from scikit-learn) (1.9.1)\n",
      "Installing collected packages: scikit-learn\n",
      "  Attempting uninstall: scikit-learn\n",
      "    Found existing installation: scikit-learn 0.24.1\n",
      "    Uninstalling scikit-learn-0.24.1:\n",
      "      Successfully uninstalled scikit-learn-0.24.1\n",
      "Successfully installed scikit-learn-1.1.3\n"
     ]
    }
   ],
   "source": [
    "!pip install scikit-learn --upgrade"
   ]
  },
  {
   "cell_type": "code",
   "execution_count": 1,
   "metadata": {},
   "outputs": [],
   "source": [
    "import pandas as pd\n",
    "import numpy as np\n",
    "import seaborn as sns\n",
    "import matplotlib.pyplot as plt #библиотека для построения графиков и задания определенных параметров\n",
    "\n",
    "from sklearn import metrics\n",
    "from sklearn.impute import KNNImputer\n",
    "\n",
    "from sklearn.model_selection import train_test_split #импорт модуля разделения из специального модуля библиотеки sklearn\n",
    "\n",
    "from sklearn.linear_model import LogisticRegression #логистическая регрессия\n",
    "from sklearn.tree import DecisionTreeClassifier #импорт модуля дерева решений из специального модуля библиотеки sklearn\n",
    "from sklearn.ensemble import RandomForestClassifier #импорт модуля случайного леса\n",
    "\n",
    "from sklearn.preprocessing import OneHotEncoder\n",
    "from sklearn.preprocessing import OrdinalEncoder #энкодер для замены категориальных признаков целочисленным массивом\n",
    "from sklearn.preprocessing import StandardScaler #метод масштабирования по стандартным отклонениям\n",
    "\n",
    "from sklearn.metrics import accuracy_score, f1_score #расчет метрик\n",
    "from sklearn.metrics import precision_recall_curve, precision_score, recall_score #для построения кривых, рассчета метрик\n",
    "from sklearn.metrics import roc_curve #для построения AUC-ROC\n",
    "from sklearn.metrics import roc_auc_score\n",
    "\n",
    "from sklearn.utils import shuffle #метод для перемешивания при upsampling\n"
   ]
  },
  {
   "attachments": {},
   "cell_type": "markdown",
   "metadata": {},
   "source": [
    "### Знакомство с данными"
   ]
  },
  {
   "attachments": {},
   "cell_type": "markdown",
   "metadata": {},
   "source": [
    "Признаки из датасета для обучения моделей:\n",
    "- `RowNumber` — индекс строки в данных\n",
    "- `CustomerId` — уникальный идентификатор клиента\n",
    "- `Surname` — фамилия\n",
    "- `CreditScore` — кредитный рейтинг\n",
    "- `Geography` — страна проживания\n",
    "- `Gender` — пол\n",
    "- `Age` — возраст\n",
    "- `Tenure` — сколько лет человек является клиентом банка\n",
    "- `Balance` — баланс на счёте\n",
    "- `NumOfProducts` — количество продуктов банка, используемых клиентом\n",
    "- `HasCrCard` — наличие кредитной карты\n",
    "- `IsActiveMember` — активность клиента\n",
    "- `EstimatedSalary` — предполагаемая зарплата\n",
    "\n",
    "Целевой признак:\n",
    "- `Exited` — факт ухода клиента"
   ]
  },
  {
   "cell_type": "code",
   "execution_count": 16,
   "metadata": {},
   "outputs": [
    {
     "data": {
      "text/html": [
       "<div>\n",
       "<style scoped>\n",
       "    .dataframe tbody tr th:only-of-type {\n",
       "        vertical-align: middle;\n",
       "    }\n",
       "\n",
       "    .dataframe tbody tr th {\n",
       "        vertical-align: top;\n",
       "    }\n",
       "\n",
       "    .dataframe thead th {\n",
       "        text-align: right;\n",
       "    }\n",
       "</style>\n",
       "<table border=\"1\" class=\"dataframe\">\n",
       "  <thead>\n",
       "    <tr style=\"text-align: right;\">\n",
       "      <th></th>\n",
       "      <th>RowNumber</th>\n",
       "      <th>CustomerId</th>\n",
       "      <th>Surname</th>\n",
       "      <th>CreditScore</th>\n",
       "      <th>Geography</th>\n",
       "      <th>Gender</th>\n",
       "      <th>Age</th>\n",
       "      <th>Tenure</th>\n",
       "      <th>Balance</th>\n",
       "      <th>NumOfProducts</th>\n",
       "      <th>HasCrCard</th>\n",
       "      <th>IsActiveMember</th>\n",
       "      <th>EstimatedSalary</th>\n",
       "      <th>Exited</th>\n",
       "    </tr>\n",
       "  </thead>\n",
       "  <tbody>\n",
       "    <tr>\n",
       "      <th>0</th>\n",
       "      <td>1</td>\n",
       "      <td>15634602</td>\n",
       "      <td>Hargrave</td>\n",
       "      <td>619</td>\n",
       "      <td>France</td>\n",
       "      <td>Female</td>\n",
       "      <td>42</td>\n",
       "      <td>2.0</td>\n",
       "      <td>0.00</td>\n",
       "      <td>1</td>\n",
       "      <td>1</td>\n",
       "      <td>1</td>\n",
       "      <td>101348.88</td>\n",
       "      <td>1</td>\n",
       "    </tr>\n",
       "    <tr>\n",
       "      <th>1</th>\n",
       "      <td>2</td>\n",
       "      <td>15647311</td>\n",
       "      <td>Hill</td>\n",
       "      <td>608</td>\n",
       "      <td>Spain</td>\n",
       "      <td>Female</td>\n",
       "      <td>41</td>\n",
       "      <td>1.0</td>\n",
       "      <td>83807.86</td>\n",
       "      <td>1</td>\n",
       "      <td>0</td>\n",
       "      <td>1</td>\n",
       "      <td>112542.58</td>\n",
       "      <td>0</td>\n",
       "    </tr>\n",
       "    <tr>\n",
       "      <th>2</th>\n",
       "      <td>3</td>\n",
       "      <td>15619304</td>\n",
       "      <td>Onio</td>\n",
       "      <td>502</td>\n",
       "      <td>France</td>\n",
       "      <td>Female</td>\n",
       "      <td>42</td>\n",
       "      <td>8.0</td>\n",
       "      <td>159660.80</td>\n",
       "      <td>3</td>\n",
       "      <td>1</td>\n",
       "      <td>0</td>\n",
       "      <td>113931.57</td>\n",
       "      <td>1</td>\n",
       "    </tr>\n",
       "    <tr>\n",
       "      <th>3</th>\n",
       "      <td>4</td>\n",
       "      <td>15701354</td>\n",
       "      <td>Boni</td>\n",
       "      <td>699</td>\n",
       "      <td>France</td>\n",
       "      <td>Female</td>\n",
       "      <td>39</td>\n",
       "      <td>1.0</td>\n",
       "      <td>0.00</td>\n",
       "      <td>2</td>\n",
       "      <td>0</td>\n",
       "      <td>0</td>\n",
       "      <td>93826.63</td>\n",
       "      <td>0</td>\n",
       "    </tr>\n",
       "    <tr>\n",
       "      <th>4</th>\n",
       "      <td>5</td>\n",
       "      <td>15737888</td>\n",
       "      <td>Mitchell</td>\n",
       "      <td>850</td>\n",
       "      <td>Spain</td>\n",
       "      <td>Female</td>\n",
       "      <td>43</td>\n",
       "      <td>2.0</td>\n",
       "      <td>125510.82</td>\n",
       "      <td>1</td>\n",
       "      <td>1</td>\n",
       "      <td>1</td>\n",
       "      <td>79084.10</td>\n",
       "      <td>0</td>\n",
       "    </tr>\n",
       "    <tr>\n",
       "      <th>...</th>\n",
       "      <td>...</td>\n",
       "      <td>...</td>\n",
       "      <td>...</td>\n",
       "      <td>...</td>\n",
       "      <td>...</td>\n",
       "      <td>...</td>\n",
       "      <td>...</td>\n",
       "      <td>...</td>\n",
       "      <td>...</td>\n",
       "      <td>...</td>\n",
       "      <td>...</td>\n",
       "      <td>...</td>\n",
       "      <td>...</td>\n",
       "      <td>...</td>\n",
       "    </tr>\n",
       "    <tr>\n",
       "      <th>9995</th>\n",
       "      <td>9996</td>\n",
       "      <td>15606229</td>\n",
       "      <td>Obijiaku</td>\n",
       "      <td>771</td>\n",
       "      <td>France</td>\n",
       "      <td>Male</td>\n",
       "      <td>39</td>\n",
       "      <td>5.0</td>\n",
       "      <td>0.00</td>\n",
       "      <td>2</td>\n",
       "      <td>1</td>\n",
       "      <td>0</td>\n",
       "      <td>96270.64</td>\n",
       "      <td>0</td>\n",
       "    </tr>\n",
       "    <tr>\n",
       "      <th>9996</th>\n",
       "      <td>9997</td>\n",
       "      <td>15569892</td>\n",
       "      <td>Johnstone</td>\n",
       "      <td>516</td>\n",
       "      <td>France</td>\n",
       "      <td>Male</td>\n",
       "      <td>35</td>\n",
       "      <td>10.0</td>\n",
       "      <td>57369.61</td>\n",
       "      <td>1</td>\n",
       "      <td>1</td>\n",
       "      <td>1</td>\n",
       "      <td>101699.77</td>\n",
       "      <td>0</td>\n",
       "    </tr>\n",
       "    <tr>\n",
       "      <th>9997</th>\n",
       "      <td>9998</td>\n",
       "      <td>15584532</td>\n",
       "      <td>Liu</td>\n",
       "      <td>709</td>\n",
       "      <td>France</td>\n",
       "      <td>Female</td>\n",
       "      <td>36</td>\n",
       "      <td>7.0</td>\n",
       "      <td>0.00</td>\n",
       "      <td>1</td>\n",
       "      <td>0</td>\n",
       "      <td>1</td>\n",
       "      <td>42085.58</td>\n",
       "      <td>1</td>\n",
       "    </tr>\n",
       "    <tr>\n",
       "      <th>9998</th>\n",
       "      <td>9999</td>\n",
       "      <td>15682355</td>\n",
       "      <td>Sabbatini</td>\n",
       "      <td>772</td>\n",
       "      <td>Germany</td>\n",
       "      <td>Male</td>\n",
       "      <td>42</td>\n",
       "      <td>3.0</td>\n",
       "      <td>75075.31</td>\n",
       "      <td>2</td>\n",
       "      <td>1</td>\n",
       "      <td>0</td>\n",
       "      <td>92888.52</td>\n",
       "      <td>1</td>\n",
       "    </tr>\n",
       "    <tr>\n",
       "      <th>9999</th>\n",
       "      <td>10000</td>\n",
       "      <td>15628319</td>\n",
       "      <td>Walker</td>\n",
       "      <td>792</td>\n",
       "      <td>France</td>\n",
       "      <td>Female</td>\n",
       "      <td>28</td>\n",
       "      <td>NaN</td>\n",
       "      <td>130142.79</td>\n",
       "      <td>1</td>\n",
       "      <td>1</td>\n",
       "      <td>0</td>\n",
       "      <td>38190.78</td>\n",
       "      <td>0</td>\n",
       "    </tr>\n",
       "  </tbody>\n",
       "</table>\n",
       "<p>10000 rows × 14 columns</p>\n",
       "</div>"
      ],
      "text/plain": [
       "      RowNumber  CustomerId    Surname  CreditScore Geography  Gender  Age  \\\n",
       "0             1    15634602   Hargrave          619    France  Female   42   \n",
       "1             2    15647311       Hill          608     Spain  Female   41   \n",
       "2             3    15619304       Onio          502    France  Female   42   \n",
       "3             4    15701354       Boni          699    France  Female   39   \n",
       "4             5    15737888   Mitchell          850     Spain  Female   43   \n",
       "...         ...         ...        ...          ...       ...     ...  ...   \n",
       "9995       9996    15606229   Obijiaku          771    France    Male   39   \n",
       "9996       9997    15569892  Johnstone          516    France    Male   35   \n",
       "9997       9998    15584532        Liu          709    France  Female   36   \n",
       "9998       9999    15682355  Sabbatini          772   Germany    Male   42   \n",
       "9999      10000    15628319     Walker          792    France  Female   28   \n",
       "\n",
       "      Tenure    Balance  NumOfProducts  HasCrCard  IsActiveMember  \\\n",
       "0        2.0       0.00              1          1               1   \n",
       "1        1.0   83807.86              1          0               1   \n",
       "2        8.0  159660.80              3          1               0   \n",
       "3        1.0       0.00              2          0               0   \n",
       "4        2.0  125510.82              1          1               1   \n",
       "...      ...        ...            ...        ...             ...   \n",
       "9995     5.0       0.00              2          1               0   \n",
       "9996    10.0   57369.61              1          1               1   \n",
       "9997     7.0       0.00              1          0               1   \n",
       "9998     3.0   75075.31              2          1               0   \n",
       "9999     NaN  130142.79              1          1               0   \n",
       "\n",
       "      EstimatedSalary  Exited  \n",
       "0           101348.88       1  \n",
       "1           112542.58       0  \n",
       "2           113931.57       1  \n",
       "3            93826.63       0  \n",
       "4            79084.10       0  \n",
       "...               ...     ...  \n",
       "9995         96270.64       0  \n",
       "9996        101699.77       0  \n",
       "9997         42085.58       1  \n",
       "9998         92888.52       1  \n",
       "9999         38190.78       0  \n",
       "\n",
       "[10000 rows x 14 columns]"
      ]
     },
     "execution_count": 16,
     "metadata": {},
     "output_type": "execute_result"
    }
   ],
   "source": [
    "# открываем таблицу:\n",
    "try:\n",
    "    df = pd.read_csv('/datasets/Churn.csv')\n",
    "except:\n",
    "    try:\n",
    "        df = pd.read_csv(r'E:\\Practicum\\2_Projects_Git\\7_learning_with_teacher_customer_outflow\\Churn.csv')\n",
    "    except:\n",
    "        df = pd.read_csv('Churn.csv')\n",
    "df"
   ]
  },
  {
   "attachments": {},
   "cell_type": "markdown",
   "metadata": {},
   "source": [
    "Целевой признак является категориальным, следовательно, для решения нужен алгоритм классификации."
   ]
  },
  {
   "cell_type": "code",
   "execution_count": 4,
   "metadata": {},
   "outputs": [
    {
     "name": "stdout",
     "output_type": "stream",
     "text": [
      "<class 'pandas.core.frame.DataFrame'>\n",
      "RangeIndex: 10000 entries, 0 to 9999\n",
      "Data columns (total 14 columns):\n",
      " #   Column           Non-Null Count  Dtype  \n",
      "---  ------           --------------  -----  \n",
      " 0   RowNumber        10000 non-null  int64  \n",
      " 1   CustomerId       10000 non-null  int64  \n",
      " 2   Surname          10000 non-null  object \n",
      " 3   CreditScore      10000 non-null  int64  \n",
      " 4   Geography        10000 non-null  object \n",
      " 5   Gender           10000 non-null  object \n",
      " 6   Age              10000 non-null  int64  \n",
      " 7   Tenure           9091 non-null   float64\n",
      " 8   Balance          10000 non-null  float64\n",
      " 9   NumOfProducts    10000 non-null  int64  \n",
      " 10  HasCrCard        10000 non-null  int64  \n",
      " 11  IsActiveMember   10000 non-null  int64  \n",
      " 12  EstimatedSalary  10000 non-null  float64\n",
      " 13  Exited           10000 non-null  int64  \n",
      "dtypes: float64(3), int64(8), object(3)\n",
      "memory usage: 1.1+ MB\n"
     ]
    }
   ],
   "source": [
    "df.info(); "
   ]
  },
  {
   "attachments": {},
   "cell_type": "markdown",
   "metadata": {},
   "source": [
    "Видим, что в столбце `Tenure` не хватает данных: 909 строк, или 9,1% от всех данных. Для обучения модели необходимо, чтобы не было пропусков. Но столько данных мы удалить не можем. Также, для выполнения логистической регрессии необходимо, чтобы категории были выражены численными значениями.\n",
    "\n",
    "Следовательно, нужно заполнить пробелы и преобразовать категории. Проведем предобработку данных."
   ]
  },
  {
   "attachments": {},
   "cell_type": "markdown",
   "metadata": {},
   "source": [
    "### Предобработка данных"
   ]
  },
  {
   "attachments": {},
   "cell_type": "markdown",
   "metadata": {},
   "source": [
    "#### Проверка на дубликаты"
   ]
  },
  {
   "cell_type": "code",
   "execution_count": 5,
   "metadata": {},
   "outputs": [
    {
     "data": {
      "text/plain": [
       "0"
      ]
     },
     "execution_count": 5,
     "metadata": {},
     "output_type": "execute_result"
    }
   ],
   "source": [
    "df.duplicated().sum()"
   ]
  },
  {
   "attachments": {},
   "cell_type": "markdown",
   "metadata": {},
   "source": [
    "Явных дубликатов нет."
   ]
  },
  {
   "attachments": {},
   "cell_type": "markdown",
   "metadata": {},
   "source": [
    "#### Удаление \"лишних\" данных"
   ]
  },
  {
   "attachments": {},
   "cell_type": "markdown",
   "metadata": {},
   "source": [
    "Удалим из датасета столбец с фамилиями, т.к. он никакого отношения к обучению не будет иметь.\n",
    "\n",
    "Также, удалим из датасета данные `RowNumber`, т.к. это просто номер строки датасета +1."
   ]
  },
  {
   "cell_type": "code",
   "execution_count": 6,
   "metadata": {},
   "outputs": [],
   "source": [
    "df = df.drop(['Surname'], axis=1)\n",
    "df = df.drop(['RowNumber'], axis=1)\n"
   ]
  },
  {
   "attachments": {},
   "cell_type": "markdown",
   "metadata": {},
   "source": [
    "#### Проверка на аномалии с помощью гистограмм"
   ]
  },
  {
   "cell_type": "code",
   "execution_count": 7,
   "metadata": {},
   "outputs": [
    {
     "data": {
      "text/plain": [
       "CustomerId         10000\n",
       "CreditScore          460\n",
       "Geography              3\n",
       "Gender                 2\n",
       "Age                   70\n",
       "Tenure                11\n",
       "Balance             6382\n",
       "NumOfProducts          4\n",
       "HasCrCard              2\n",
       "IsActiveMember         2\n",
       "EstimatedSalary     9999\n",
       "Exited                 2\n",
       "dtype: int64"
      ]
     },
     "execution_count": 7,
     "metadata": {},
     "output_type": "execute_result"
    }
   ],
   "source": [
    "df.nunique() #количество уникальных значений в каждом столбце"
   ]
  },
  {
   "cell_type": "code",
   "execution_count": 8,
   "metadata": {},
   "outputs": [
    {
     "data": {
      "image/png": "[encoded data removed]",
      "text/plain": [
       "<Figure size 1080x1440 with 12 Axes>"
      ]
     },
     "metadata": {
      "needs_background": "light"
     },
     "output_type": "display_data"
    }
   ],
   "source": [
    "df.hist(figsize=(15, 20));"
   ]
  },
  {
   "attachments": {},
   "cell_type": "markdown",
   "metadata": {},
   "source": [
    "Учитывая, что в реальной жизни, в некоторых банках, в которых мы являемся клиентами, мы не держим на активном балансе деньги, выброс в области значения 0 столбца `Balance` выглядит правдоподобным. В остальном каких-либо аномалий не наблюдается:\n",
    "- идентификаторы, ожидаемая зарплата, стаж клиента распределены равномерно,\n",
    "- возраст и кредитный лимит - близкими к нормальному (или его производным) распределению. Максимальные и минимальные значения для этих параметров - адекватные,\n",
    "- все остальные категориальные параметры в целом не вызывают вопросов. Не вошли в этот перечень столбцы с полом и страной. Но там никаких аномалий быть не может, т.к. в `.nunique()` мы проверили количество уникальных значений в том числе и для этих столбцов."
   ]
  },
  {
   "attachments": {},
   "cell_type": "markdown",
   "metadata": {},
   "source": [
    "#### Рассматриваем пропущенные значения"
   ]
  },
  {
   "cell_type": "code",
   "execution_count": 9,
   "metadata": {},
   "outputs": [
    {
     "data": {
      "text/html": [
       "<div>\n",
       "<style scoped>\n",
       "    .dataframe tbody tr th:only-of-type {\n",
       "        vertical-align: middle;\n",
       "    }\n",
       "\n",
       "    .dataframe tbody tr th {\n",
       "        vertical-align: top;\n",
       "    }\n",
       "\n",
       "    .dataframe thead th {\n",
       "        text-align: right;\n",
       "    }\n",
       "</style>\n",
       "<table border=\"1\" class=\"dataframe\">\n",
       "  <thead>\n",
       "    <tr style=\"text-align: right;\">\n",
       "      <th></th>\n",
       "      <th>CustomerId</th>\n",
       "      <th>CreditScore</th>\n",
       "      <th>Geography</th>\n",
       "      <th>Gender</th>\n",
       "      <th>Age</th>\n",
       "      <th>Tenure</th>\n",
       "      <th>Balance</th>\n",
       "      <th>NumOfProducts</th>\n",
       "      <th>HasCrCard</th>\n",
       "      <th>IsActiveMember</th>\n",
       "      <th>EstimatedSalary</th>\n",
       "      <th>Exited</th>\n",
       "    </tr>\n",
       "  </thead>\n",
       "  <tbody>\n",
       "    <tr>\n",
       "      <th>30</th>\n",
       "      <td>15589475</td>\n",
       "      <td>591</td>\n",
       "      <td>Spain</td>\n",
       "      <td>Female</td>\n",
       "      <td>39</td>\n",
       "      <td>NaN</td>\n",
       "      <td>0.00</td>\n",
       "      <td>3</td>\n",
       "      <td>1</td>\n",
       "      <td>0</td>\n",
       "      <td>140469.38</td>\n",
       "      <td>1</td>\n",
       "    </tr>\n",
       "    <tr>\n",
       "      <th>48</th>\n",
       "      <td>15766205</td>\n",
       "      <td>550</td>\n",
       "      <td>Germany</td>\n",
       "      <td>Male</td>\n",
       "      <td>38</td>\n",
       "      <td>NaN</td>\n",
       "      <td>103391.38</td>\n",
       "      <td>1</td>\n",
       "      <td>0</td>\n",
       "      <td>1</td>\n",
       "      <td>90878.13</td>\n",
       "      <td>0</td>\n",
       "    </tr>\n",
       "    <tr>\n",
       "      <th>51</th>\n",
       "      <td>15768193</td>\n",
       "      <td>585</td>\n",
       "      <td>Germany</td>\n",
       "      <td>Male</td>\n",
       "      <td>36</td>\n",
       "      <td>NaN</td>\n",
       "      <td>146050.97</td>\n",
       "      <td>2</td>\n",
       "      <td>0</td>\n",
       "      <td>0</td>\n",
       "      <td>86424.57</td>\n",
       "      <td>0</td>\n",
       "    </tr>\n",
       "    <tr>\n",
       "      <th>53</th>\n",
       "      <td>15702298</td>\n",
       "      <td>655</td>\n",
       "      <td>Germany</td>\n",
       "      <td>Male</td>\n",
       "      <td>41</td>\n",
       "      <td>NaN</td>\n",
       "      <td>125561.97</td>\n",
       "      <td>1</td>\n",
       "      <td>0</td>\n",
       "      <td>0</td>\n",
       "      <td>164040.94</td>\n",
       "      <td>1</td>\n",
       "    </tr>\n",
       "    <tr>\n",
       "      <th>60</th>\n",
       "      <td>15651280</td>\n",
       "      <td>742</td>\n",
       "      <td>Germany</td>\n",
       "      <td>Male</td>\n",
       "      <td>35</td>\n",
       "      <td>NaN</td>\n",
       "      <td>136857.00</td>\n",
       "      <td>1</td>\n",
       "      <td>0</td>\n",
       "      <td>0</td>\n",
       "      <td>84509.57</td>\n",
       "      <td>0</td>\n",
       "    </tr>\n",
       "  </tbody>\n",
       "</table>\n",
       "</div>"
      ],
      "text/plain": [
       "    CustomerId  CreditScore Geography  Gender  Age  Tenure    Balance  \\\n",
       "30    15589475          591     Spain  Female   39     NaN       0.00   \n",
       "48    15766205          550   Germany    Male   38     NaN  103391.38   \n",
       "51    15768193          585   Germany    Male   36     NaN  146050.97   \n",
       "53    15702298          655   Germany    Male   41     NaN  125561.97   \n",
       "60    15651280          742   Germany    Male   35     NaN  136857.00   \n",
       "\n",
       "    NumOfProducts  HasCrCard  IsActiveMember  EstimatedSalary  Exited  \n",
       "30              3          1               0        140469.38       1  \n",
       "48              1          0               1         90878.13       0  \n",
       "51              2          0               0         86424.57       0  \n",
       "53              1          0               0        164040.94       1  \n",
       "60              1          0               0         84509.57       0  "
      ]
     },
     "metadata": {},
     "output_type": "display_data"
    },
    {
     "data": {
      "image/png": "[encoded data removed]",
      "text/plain": [
       "<Figure size 1080x1440 with 12 Axes>"
      ]
     },
     "metadata": {
      "needs_background": "light"
     },
     "output_type": "display_data"
    }
   ],
   "source": [
    "null_tenture_df = df[df.isnull().any(axis=1)] #отбор строк, в любом столбце которых есть пропуск\n",
    "display(null_tenture_df.head()) #вывод первых 5 строк\n",
    "null_tenture_df.hist(figsize=(15, 20)); #строим гистограммы"
   ]
  },
  {
   "attachments": {},
   "cell_type": "markdown",
   "metadata": {},
   "source": [
    "Как можно увидеть из основного набора гистограмм, данные в этой выборке практически полностью повторяют исходную совокупность. Т.к. обучение не может работать с пустыми значениями, необходимо заполнить пропуски.\n",
    "\n",
    "Проверим несколько вариантов заполнения ячеек. На время, за которое человек является клиентом банка влияют:\n",
    "- его возраст. Например, если клиенту 18 лет, то наверное, он не может быть клиентом в течение 10 лет;\n",
    "- его кредитный лимит. Возможно, кредитный лимит увеличивается со стажем клиента;\n",
    "- другие зависимости - проверим корреляцией параметров.\n",
    "\n",
    "Некоторые признаки, такие как пол и др. вряд ли подскажут необходимую информацию для определения времени, за которе человек был клиентом банка."
   ]
  },
  {
   "attachments": {},
   "cell_type": "markdown",
   "metadata": {},
   "source": [
    "##### Устанавливаем зависимости"
   ]
  },
  {
   "attachments": {},
   "cell_type": "markdown",
   "metadata": {},
   "source": [
    "Проверим предположение о возрасте:"
   ]
  },
  {
   "cell_type": "code",
   "execution_count": 10,
   "metadata": {},
   "outputs": [
    {
     "data": {
      "text/plain": [
       "5.05"
      ]
     },
     "execution_count": 10,
     "metadata": {},
     "output_type": "execute_result"
    }
   ],
   "source": [
    "df[df['Age'] == 18]['Tenure'].mean() #для 18-ти летних средний Tenure"
   ]
  },
  {
   "cell_type": "code",
   "execution_count": 11,
   "metadata": {},
   "outputs": [
    {
     "data": {
      "image/png": "[encoded data removed]",
      "text/plain": [
       "<Figure size 1224x360 with 1 Axes>"
      ]
     },
     "metadata": {
      "needs_background": "light"
     },
     "output_type": "display_data"
    }
   ],
   "source": [
    "df_graf_mean_age = df.groupby('Tenure')['Age'].mean() #группируем возраст по Tenure\n",
    "\n",
    "plt.figure(figsize=(17, 5)) #задаем размеры графика с помощью plt\n",
    "\n",
    "#строим график с параметрами:\n",
    "df_graf_mean_age.plot(\n",
    "    x='Tenure', y='Age', #оси X и Y\n",
    "    style='o-b', #стиль точки-круги, линия, синий цвет\n",
    "    alpha=0.7, #прозрачность\n",
    "    label=\"Среднее зависимости возраста клиента и стажа клиента\",  #подпись для легенды\n",
    "    lw=5,  #толщина линии\n",
    "    mec='b',  #цвет контура точек\n",
    "    mew=2,  #размер контура точек\n",
    "    ms=10 #рамер точек\n",
    "    )\n",
    "\n",
    "plt.legend() #легенда\n",
    "plt.grid(True) #сетка\n"
   ]
  },
  {
   "attachments": {},
   "cell_type": "markdown",
   "metadata": {},
   "source": [
    "Видим, что у 18-ти летнего клиента общий средний стаж клиента 5 лет. На графике более подробный вывод по средней зависимости возраста клиента и стажа клиента. Возраст не влияет на `Tenure`, а предположение не подтвердилось. В Европейских странах у подростков уже есть свои счета в банках.\n",
    "\n",
    "Проверим предположение о кредитном лимите:"
   ]
  },
  {
   "cell_type": "code",
   "execution_count": 12,
   "metadata": {},
   "outputs": [
    {
     "data": {
      "image/png": "[encoded data removed]",
      "text/plain": [
       "<Figure size 1224x360 with 1 Axes>"
      ]
     },
     "metadata": {
      "needs_background": "light"
     },
     "output_type": "display_data"
    }
   ],
   "source": [
    "df_graf_min_credit = df.groupby('Tenure')['CreditScore'].min() #группируем CreditScore по Tenure\n",
    "\n",
    "plt.figure(figsize=(17, 5))\n",
    "\n",
    "df_graf_min_credit.plot(x='Tenure', y='CreditScore', style='o-g', alpha=0.7,\n",
    "                    label=\"Динамика изменения минимального значения кредитного лимита по стажу\", lw=5, mec='g', mew=2, ms=10)\n",
    "\n",
    "plt.legend()\n",
    "plt.grid(True)\n"
   ]
  },
  {
   "attachments": {},
   "cell_type": "markdown",
   "metadata": {},
   "source": [
    "Предположение о том, что кредитный лимит зависит от стажа не состоятельна. Низкий минимальный лимит наблюдается и при 0 лет, и при 3 годах стажа.\n",
    "\n",
    "Чтобы не гадать о зависимостях между данными, построим карту корреляции между `Tenure` и всеми остальными признаками."
   ]
  },
  {
   "cell_type": "code",
   "execution_count": 13,
   "metadata": {},
   "outputs": [
    {
     "data": {
      "text/plain": [
       "<AxesSubplot:>"
      ]
     },
     "execution_count": 13,
     "metadata": {},
     "output_type": "execute_result"
    },
    {
     "data": {
      "image/png": "[encoded data removed]",
      "text/plain": [
       "<Figure size 432x288 with 2 Axes>"
      ]
     },
     "metadata": {
      "needs_background": "light"
     },
     "output_type": "display_data"
    }
   ],
   "source": [
    "#с помощью sns строим тепловую карту корреляций признака Tenure ко всем остальным (выраженным численно)\n",
    "sns.heatmap(df.corr()[['Tenure']], vmin = -1, vmax = +1, annot = True, cmap = 'coolwarm')"
   ]
  },
  {
   "attachments": {},
   "cell_type": "markdown",
   "metadata": {},
   "source": [
    "Для всех признаков корреляция является незначительной, околонулевой. Но все же есть некоторые признаки, возможно, имеющие влияние на искомый параметр. Рассмотрим признаки с наибольшим влиянием по абсолютному значению."
   ]
  },
  {
   "cell_type": "code",
   "execution_count": 14,
   "metadata": {},
   "outputs": [
    {
     "data": {
      "text/html": [
       "<div>\n",
       "<style scoped>\n",
       "    .dataframe tbody tr th:only-of-type {\n",
       "        vertical-align: middle;\n",
       "    }\n",
       "\n",
       "    .dataframe tbody tr th {\n",
       "        vertical-align: top;\n",
       "    }\n",
       "\n",
       "    .dataframe thead th {\n",
       "        text-align: right;\n",
       "    }\n",
       "</style>\n",
       "<table border=\"1\" class=\"dataframe\">\n",
       "  <thead>\n",
       "    <tr style=\"text-align: right;\">\n",
       "      <th></th>\n",
       "      <th>Tenure</th>\n",
       "    </tr>\n",
       "  </thead>\n",
       "  <tbody>\n",
       "    <tr>\n",
       "      <th>IsActiveMember</th>\n",
       "      <td>0.032178</td>\n",
       "    </tr>\n",
       "    <tr>\n",
       "      <th>CustomerId</th>\n",
       "      <td>0.021418</td>\n",
       "    </tr>\n",
       "    <tr>\n",
       "      <th>Exited</th>\n",
       "      <td>0.016761</td>\n",
       "    </tr>\n",
       "    <tr>\n",
       "      <th>Age</th>\n",
       "      <td>0.013134</td>\n",
       "    </tr>\n",
       "    <tr>\n",
       "      <th>Balance</th>\n",
       "      <td>0.007911</td>\n",
       "    </tr>\n",
       "  </tbody>\n",
       "</table>\n",
       "</div>"
      ],
      "text/plain": [
       "                  Tenure\n",
       "IsActiveMember  0.032178\n",
       "CustomerId      0.021418\n",
       "Exited          0.016761\n",
       "Age             0.013134\n",
       "Balance         0.007911"
      ]
     },
     "execution_count": 14,
     "metadata": {},
     "output_type": "execute_result"
    }
   ],
   "source": [
    "#таблица корреляции признака Tenure к остальным, корр. выражены в абсолютных значениях, отсортированы по убыванию, выведено 5 строк\n",
    "abs(df.corr()[['Tenure']].sort_values(by='Tenure', ascending=True)).head()"
   ]
  },
  {
   "attachments": {},
   "cell_type": "markdown",
   "metadata": {},
   "source": [
    "Рассмотрим две наибольшие по модулю корреляции: `IsActiveMember` и `CustomerId`. Ниже на графиках видно, что при увеличении значения `Tenure` для каждого параметра свойственна тенденция убывания значения. Что подтверждает отрицательная корреляция."
   ]
  },
  {
   "cell_type": "code",
   "execution_count": 15,
   "metadata": {},
   "outputs": [
    {
     "data": {
      "image/png": "[encoded data removed]",
      "text/plain": [
       "<Figure size 1224x360 with 1 Axes>"
      ]
     },
     "metadata": {
      "needs_background": "light"
     },
     "output_type": "display_data"
    }
   ],
   "source": [
    "df_graf_id = df.groupby('Tenure')['IsActiveMember'].mean()\n",
    "\n",
    "plt.figure(figsize=(17, 5))\n",
    "\n",
    "df_graf_id.plot(x='Tenure', y='IsActiveMember', style='o-b', alpha=0.7,\n",
    "                    label=\"Зависимость между IsActiveMember и Tenure\", lw=5, mec='b', mew=2, ms=10)\n",
    "\n",
    "plt.legend()\n",
    "plt.grid(True)\n"
   ]
  },
  {
   "attachments": {},
   "cell_type": "markdown",
   "metadata": {},
   "source": [
    "Этот параметр тоже не даст никаких результатов, т.к. для каждого значения года, значение `IsActiveMember` колеблется в пределах 50%, клиент либо активный, либо не активный."
   ]
  },
  {
   "cell_type": "code",
   "execution_count": 16,
   "metadata": {},
   "outputs": [
    {
     "data": {
      "image/png": "[encoded data removed]",
      "text/plain": [
       "<Figure size 1224x360 with 1 Axes>"
      ]
     },
     "metadata": {
      "needs_background": "light"
     },
     "output_type": "display_data"
    }
   ],
   "source": [
    "df_graf_id = df.groupby('Tenure')['CustomerId'].mean()\n",
    "\n",
    "plt.figure(figsize=(17, 5))\n",
    "\n",
    "df_graf_id.plot(x='Tenure', y='CustomerId', style='o-b', alpha=0.7,\n",
    "                    label=\"Зависимость между CustomerId и Tenure\", lw=5, mec='b', mew=2, ms=10)\n",
    "\n",
    "plt.legend()\n",
    "plt.grid(True)\n"
   ]
  },
  {
   "attachments": {},
   "cell_type": "markdown",
   "metadata": {},
   "source": [
    "Если бы идентификатор имел отношение к `Tenure`, тогда бы это была строго убывающая функция (чем дольше клиент - тем меньше номер идентификатора). Значит, этот признак тоже не подходит для определения `Tenure`."
   ]
  },
  {
   "attachments": {},
   "cell_type": "markdown",
   "metadata": {},
   "source": [
    "Ни одно из изначальных предположений не подтвердилось. Для дальнейшего расчета будем считать клиентов с пропущенным значением `Tenure` - новыми, со значением `Tenure` = 0."
   ]
  },
  {
   "attachments": {},
   "cell_type": "markdown",
   "metadata": {},
   "source": [
    "##### Заполняем пропуски"
   ]
  },
  {
   "attachments": {},
   "cell_type": "markdown",
   "metadata": {},
   "source": [
    "Есть много способов заполнить данные, некоторые из них:\n",
    "- заполнить нулями,\n",
    "- заполнить каким-нибудь значением (обычно медианой),\n",
    "- применить какой-либо метод, считающий приблизительные данные.\n",
    "\n",
    "Ранее было решено, что данные по отдельности слабо коррелируют или не коррелируют вовсе с `Tenure`.\n",
    "\n",
    "Проверим, как будет заполнен данными столбец без изменения, с 0 вместо пропуска и с медианным значением вместо пропуска:"
   ]
  },
  {
   "cell_type": "code",
   "execution_count": 17,
   "metadata": {},
   "outputs": [
    {
     "data": {
      "text/html": [
       "<div>\n",
       "<style scoped>\n",
       "    .dataframe tbody tr th:only-of-type {\n",
       "        vertical-align: middle;\n",
       "    }\n",
       "\n",
       "    .dataframe tbody tr th {\n",
       "        vertical-align: top;\n",
       "    }\n",
       "\n",
       "    .dataframe thead th {\n",
       "        text-align: right;\n",
       "    }\n",
       "</style>\n",
       "<table border=\"1\" class=\"dataframe\">\n",
       "  <thead>\n",
       "    <tr style=\"text-align: right;\">\n",
       "      <th></th>\n",
       "      <th>Tenure_empty</th>\n",
       "      <th>Tenure_zero</th>\n",
       "      <th>Tenure_median</th>\n",
       "    </tr>\n",
       "  </thead>\n",
       "  <tbody>\n",
       "    <tr>\n",
       "      <th>0</th>\n",
       "      <td>2.0</td>\n",
       "      <td>2.0</td>\n",
       "      <td>2.0</td>\n",
       "    </tr>\n",
       "    <tr>\n",
       "      <th>1</th>\n",
       "      <td>1.0</td>\n",
       "      <td>1.0</td>\n",
       "      <td>1.0</td>\n",
       "    </tr>\n",
       "    <tr>\n",
       "      <th>2</th>\n",
       "      <td>8.0</td>\n",
       "      <td>8.0</td>\n",
       "      <td>8.0</td>\n",
       "    </tr>\n",
       "    <tr>\n",
       "      <th>3</th>\n",
       "      <td>1.0</td>\n",
       "      <td>1.0</td>\n",
       "      <td>1.0</td>\n",
       "    </tr>\n",
       "    <tr>\n",
       "      <th>4</th>\n",
       "      <td>2.0</td>\n",
       "      <td>2.0</td>\n",
       "      <td>2.0</td>\n",
       "    </tr>\n",
       "    <tr>\n",
       "      <th>...</th>\n",
       "      <td>...</td>\n",
       "      <td>...</td>\n",
       "      <td>...</td>\n",
       "    </tr>\n",
       "    <tr>\n",
       "      <th>9995</th>\n",
       "      <td>5.0</td>\n",
       "      <td>5.0</td>\n",
       "      <td>5.0</td>\n",
       "    </tr>\n",
       "    <tr>\n",
       "      <th>9996</th>\n",
       "      <td>10.0</td>\n",
       "      <td>10.0</td>\n",
       "      <td>10.0</td>\n",
       "    </tr>\n",
       "    <tr>\n",
       "      <th>9997</th>\n",
       "      <td>7.0</td>\n",
       "      <td>7.0</td>\n",
       "      <td>7.0</td>\n",
       "    </tr>\n",
       "    <tr>\n",
       "      <th>9998</th>\n",
       "      <td>3.0</td>\n",
       "      <td>3.0</td>\n",
       "      <td>3.0</td>\n",
       "    </tr>\n",
       "    <tr>\n",
       "      <th>9999</th>\n",
       "      <td>NaN</td>\n",
       "      <td>0.0</td>\n",
       "      <td>5.0</td>\n",
       "    </tr>\n",
       "  </tbody>\n",
       "</table>\n",
       "<p>10000 rows × 3 columns</p>\n",
       "</div>"
      ],
      "text/plain": [
       "      Tenure_empty  Tenure_zero  Tenure_median\n",
       "0              2.0          2.0            2.0\n",
       "1              1.0          1.0            1.0\n",
       "2              8.0          8.0            8.0\n",
       "3              1.0          1.0            1.0\n",
       "4              2.0          2.0            2.0\n",
       "...            ...          ...            ...\n",
       "9995           5.0          5.0            5.0\n",
       "9996          10.0         10.0           10.0\n",
       "9997           7.0          7.0            7.0\n",
       "9998           3.0          3.0            3.0\n",
       "9999           NaN          0.0            5.0\n",
       "\n",
       "[10000 rows x 3 columns]"
      ]
     },
     "execution_count": 17,
     "metadata": {},
     "output_type": "execute_result"
    }
   ],
   "source": [
    "df_tenure_empty = df['Tenure'] #создаем объект series без изменения\n",
    "df_tenure_empty = df_tenure_empty.rename(\"Tenure_empty\") #переименовываем столбец\n",
    "\n",
    "df_tenure_zero = df['Tenure'].fillna(0) #создаем объект series, заполняя пропуски 0\n",
    "df_tenure_zero = df_tenure_zero.rename(\"Tenure_zero\") #переименовываем столбец\n",
    "\n",
    "df_tenure_median = df['Tenure'].fillna(df['Tenure'].median()) #создаем объект series заполняя пропуски медианой\n",
    "df_tenure_median = df_tenure_median.rename(\"Tenure_median\") #переименовываем столбец\n",
    "\n",
    "#создаем из нескольких series датасет\n",
    "df_tenure_full = pd.concat([df_tenure_empty, df_tenure_zero, df_tenure_median], axis=1)\n",
    "df_tenure_full"
   ]
  },
  {
   "cell_type": "code",
   "execution_count": 18,
   "metadata": {},
   "outputs": [
    {
     "data": {
      "image/png": "[encoded data removed]",
      "text/plain": [
       "<Figure size 864x648 with 4 Axes>"
      ]
     },
     "metadata": {
      "needs_background": "light"
     },
     "output_type": "display_data"
    }
   ],
   "source": [
    "df_tenure_full.hist(bins=11, figsize=(12, 9)); #показываем гистограммы"
   ]
  },
  {
   "attachments": {},
   "cell_type": "markdown",
   "metadata": {},
   "source": [
    "Здесь мы видим, насколько изменились данные - появились выбросы там, где их не было. Нулями мы тоже не можем заполнить, т.к. это не точный показатель - потому что нулевые значения в датасете тоже были.\n",
    "\n",
    "Посмотрим информацию по датасетам:"
   ]
  },
  {
   "cell_type": "code",
   "execution_count": 19,
   "metadata": {},
   "outputs": [
    {
     "data": {
      "text/html": [
       "<div>\n",
       "<style scoped>\n",
       "    .dataframe tbody tr th:only-of-type {\n",
       "        vertical-align: middle;\n",
       "    }\n",
       "\n",
       "    .dataframe tbody tr th {\n",
       "        vertical-align: top;\n",
       "    }\n",
       "\n",
       "    .dataframe thead th {\n",
       "        text-align: right;\n",
       "    }\n",
       "</style>\n",
       "<table border=\"1\" class=\"dataframe\">\n",
       "  <thead>\n",
       "    <tr style=\"text-align: right;\">\n",
       "      <th></th>\n",
       "      <th>Tenure_empty</th>\n",
       "      <th>Tenure_zero</th>\n",
       "      <th>Tenure_median</th>\n",
       "    </tr>\n",
       "  </thead>\n",
       "  <tbody>\n",
       "    <tr>\n",
       "      <th>count</th>\n",
       "      <td>9091.000000</td>\n",
       "      <td>10000.000000</td>\n",
       "      <td>10000.00000</td>\n",
       "    </tr>\n",
       "    <tr>\n",
       "      <th>mean</th>\n",
       "      <td>4.997690</td>\n",
       "      <td>4.543400</td>\n",
       "      <td>4.99790</td>\n",
       "    </tr>\n",
       "    <tr>\n",
       "      <th>std</th>\n",
       "      <td>2.894723</td>\n",
       "      <td>3.111573</td>\n",
       "      <td>2.76001</td>\n",
       "    </tr>\n",
       "    <tr>\n",
       "      <th>min</th>\n",
       "      <td>0.000000</td>\n",
       "      <td>0.000000</td>\n",
       "      <td>0.00000</td>\n",
       "    </tr>\n",
       "    <tr>\n",
       "      <th>25%</th>\n",
       "      <td>2.000000</td>\n",
       "      <td>2.000000</td>\n",
       "      <td>3.00000</td>\n",
       "    </tr>\n",
       "    <tr>\n",
       "      <th>50%</th>\n",
       "      <td>5.000000</td>\n",
       "      <td>4.000000</td>\n",
       "      <td>5.00000</td>\n",
       "    </tr>\n",
       "    <tr>\n",
       "      <th>75%</th>\n",
       "      <td>7.000000</td>\n",
       "      <td>7.000000</td>\n",
       "      <td>7.00000</td>\n",
       "    </tr>\n",
       "    <tr>\n",
       "      <th>max</th>\n",
       "      <td>10.000000</td>\n",
       "      <td>10.000000</td>\n",
       "      <td>10.00000</td>\n",
       "    </tr>\n",
       "  </tbody>\n",
       "</table>\n",
       "</div>"
      ],
      "text/plain": [
       "       Tenure_empty   Tenure_zero  Tenure_median\n",
       "count   9091.000000  10000.000000    10000.00000\n",
       "mean       4.997690      4.543400        4.99790\n",
       "std        2.894723      3.111573        2.76001\n",
       "min        0.000000      0.000000        0.00000\n",
       "25%        2.000000      2.000000        3.00000\n",
       "50%        5.000000      4.000000        5.00000\n",
       "75%        7.000000      7.000000        7.00000\n",
       "max       10.000000     10.000000       10.00000"
      ]
     },
     "metadata": {},
     "output_type": "display_data"
    }
   ],
   "source": [
    "display(df_tenure_full.describe()); #описание данных"
   ]
  },
  {
   "attachments": {},
   "cell_type": "markdown",
   "metadata": {},
   "source": [
    "Видим, что медиана, несмотря на то, что делает выброс на значении 5, намного ближе по параметрам к исходным данным (у нее почти такое же среднее, не сильно изменяется и стандартное отклонение). Единственное значение, которое сильно исказилось - это 25% - нижняя граница ящика с усами. Она изменится при любом ненулевом заполнении данными.\n",
    "\n",
    "Таким образом, разумно будет заполнить пропущенные значения медианой."
   ]
  },
  {
   "cell_type": "code",
   "execution_count": 20,
   "metadata": {},
   "outputs": [],
   "source": [
    "df['Tenure'] = df['Tenure'].fillna(5) #заполняем пропуски 0"
   ]
  },
  {
   "attachments": {},
   "cell_type": "markdown",
   "metadata": {},
   "source": [
    "На этом предобработка данных завершена. Переходим к этапу машинного обучения."
   ]
  },
  {
   "attachments": {},
   "cell_type": "markdown",
   "metadata": {},
   "source": [
    "## Исследование задачи"
   ]
  },
  {
   "attachments": {},
   "cell_type": "markdown",
   "metadata": {},
   "source": [
    "### Преобразование"
   ]
  },
  {
   "attachments": {},
   "cell_type": "markdown",
   "metadata": {},
   "source": [
    "#### Разбиение данных"
   ]
  },
  {
   "attachments": {},
   "cell_type": "markdown",
   "metadata": {},
   "source": [
    "Разобьем датасет на 3 выборки:\n",
    "- тренировочную - на которой мы обучаьем модели,\n",
    "- валидационную - на которой они проходят проверку качества,\n",
    "- тестовую - на которой проверяется полученная модель.\n",
    "\n",
    "Делить будем в пропорции 60/20/20. Так как метод `train_test_split` делит исходную выборку на две, а в аргументе `test_size` указывается доля размера для второй выборки, то при первой итерации `test_size` примет значение 0.4 (0.2+0.2), а во второй итерации - значение 0.5 (т.к. будем делить выборки поровну)."
   ]
  },
  {
   "cell_type": "code",
   "execution_count": 21,
   "metadata": {},
   "outputs": [],
   "source": [
    "RANDOM_STATE = 1 #выносим константную переменную\n",
    "#разделение исходного датасета на две выборки, обучающую и временную валидационную\n",
    "df_train, df_temp = train_test_split(df, test_size=0.4, random_state=RANDOM_STATE) \n",
    "#разделение временной выборки на валидационную и тестовую\n",
    "df_valid, df_test = train_test_split(df_temp, test_size=0.5, random_state=RANDOM_STATE) "
   ]
  },
  {
   "attachments": {},
   "cell_type": "markdown",
   "metadata": {},
   "source": [
    "#### Признаки для обучения"
   ]
  },
  {
   "cell_type": "code",
   "execution_count": 22,
   "metadata": {},
   "outputs": [],
   "source": [
    "features_train = df_train.drop(['Exited'], axis=1) #признаки\n",
    "target_train = df_train['Exited'].reset_index(drop=True) #целевой признак (сбрасываем индекс, потом будет нужно)\n",
    "\n",
    "features_valid = df_valid.drop(['Exited'], axis=1) #признаки\n",
    "target_valid = df_valid['Exited'].reset_index(drop=True) #целевой признак\n",
    "\n",
    "features_test = df_test.drop(['Exited'], axis=1) #признаки\n",
    "target_test = df_test['Exited'].reset_index(drop=True) #целевой признак"
   ]
  },
  {
   "attachments": {},
   "cell_type": "markdown",
   "metadata": {},
   "source": [
    "#### Прямое кодирование"
   ]
  },
  {
   "attachments": {},
   "cell_type": "markdown",
   "metadata": {},
   "source": [
    "Для обучения модели необходимо, чтобы значения во всех столбцах были выражены числами, в том числе и категории. \n",
    "\n",
    "С помощью метода `OneHotEncoder()` сделаем столбцы с полом и географией категориальными числовыми, и удалим один зависимый столбец (первый)."
   ]
  },
  {
   "cell_type": "code",
   "execution_count": 23,
   "metadata": {},
   "outputs": [
    {
     "data": {
      "text/plain": [
       "{'categories': 'auto',\n",
       " 'drop': 'first',\n",
       " 'dtype': numpy.float64,\n",
       " 'handle_unknown': 'ignore',\n",
       " 'max_categories': None,\n",
       " 'min_frequency': None,\n",
       " 'sparse': False}"
      ]
     },
     "execution_count": 23,
     "metadata": {},
     "output_type": "execute_result"
    }
   ],
   "source": [
    "ohe_train = OneHotEncoder(handle_unknown='ignore',sparse=False) #применяем OneHotEncoder\n",
    "ohe_train.set_params(drop= 'first') #применяем параметр удалить первый столбец\n",
    "\n",
    "#обучаем и сразу трансформируем обучающую выборку, столбцы 'Gender','Geography'\n",
    "features_train_ohe = ohe_train.fit_transform(features_train.loc[:,['Gender','Geography']]) \n",
    "features_valid_ohe = ohe_train.transform(features_valid.loc[:,['Gender','Geography']]) #трансформируем\n",
    "features_test_ohe = ohe_train.transform(features_test.loc[:,['Gender','Geography']]) #трансформируем\n",
    "ohe_train.get_params() #смотрим параметры"
   ]
  },
  {
   "cell_type": "code",
   "execution_count": 24,
   "metadata": {},
   "outputs": [
    {
     "data": {
      "text/plain": [
       "array(['Gender_Male', 'Geography_Germany', 'Geography_Spain'],\n",
       "      dtype=object)"
      ]
     },
     "execution_count": 24,
     "metadata": {},
     "output_type": "execute_result"
    }
   ],
   "source": [
    "ohe_train.get_feature_names_out() #смотрим имена столбцов (как видим, нет первых - Женщин и Франции)"
   ]
  },
  {
   "cell_type": "code",
   "execution_count": 25,
   "metadata": {},
   "outputs": [],
   "source": [
    "#удаляем столбцы 'Geography', 'Gender', сбрасываем индексы\n",
    "features_train_temp = features_train.drop(['Geography', 'Gender'], axis=1).reset_index(drop=True)\n",
    "features_valid_temp = features_valid.drop(['Geography', 'Gender'], axis=1).reset_index(drop=True)\n",
    "features_test_temp = features_test.drop(['Geography', 'Gender'], axis=1).reset_index(drop=True)"
   ]
  },
  {
   "cell_type": "code",
   "execution_count": 26,
   "metadata": {},
   "outputs": [],
   "source": [
    "#преобразовываем массивы в датафреймы со столбцами из перечня. индексы у них уже сброшены\n",
    "array_temp_features_train_ohe = pd.DataFrame(features_train_ohe, columns =['Gender_Male',\n",
    "       'Geography_Germany', 'Geography_Spain'])\n",
    "array_temp_features_valid_ohe = pd.DataFrame(features_valid_ohe, columns =['Gender_Male',\n",
    "       'Geography_Germany', 'Geography_Spain'])\n",
    "array_temp_features_test_ohe = pd.DataFrame(features_test_ohe, columns =['Gender_Male',\n",
    "       'Geography_Germany', 'Geography_Spain'])"
   ]
  },
  {
   "cell_type": "code",
   "execution_count": 27,
   "metadata": {},
   "outputs": [],
   "source": [
    "#для каждой выборки признаков склеиваем с новыми данными из массива. т.к. все индексы сброшены, перемешивания не будет.\n",
    "features_train = pd.concat([features_train_temp, array_temp_features_train_ohe], axis=1)\n",
    "features_valid = pd.concat([features_valid_temp, array_temp_features_valid_ohe], axis=1)\n",
    "features_test = pd.concat([features_test_temp, array_temp_features_test_ohe], axis=1)\n",
    "\n",
    "#перемешаем выборки\n",
    "features_train, target_train = shuffle(features_train, target_train, random_state=RANDOM_STATE)\n",
    "features_valid, target_valid = shuffle(features_valid, target_valid, random_state=RANDOM_STATE)\n",
    "features_test, target_test = shuffle(features_test, target_test, random_state=RANDOM_STATE)\n"
   ]
  },
  {
   "attachments": {},
   "cell_type": "markdown",
   "metadata": {},
   "source": [
    "#### Масштабирование признаков"
   ]
  },
  {
   "attachments": {},
   "cell_type": "markdown",
   "metadata": {},
   "source": [
    "Объединим все количественные признаки:"
   ]
  },
  {
   "cell_type": "code",
   "execution_count": 28,
   "metadata": {},
   "outputs": [],
   "source": [
    "numeric = ['CustomerId', 'CreditScore', 'Age', 'Tenure', 'Balance', 'NumOfProducts', 'EstimatedSalary']"
   ]
  },
  {
   "cell_type": "code",
   "execution_count": 29,
   "metadata": {},
   "outputs": [],
   "source": [
    "scaler = StandardScaler() #вводим скейлер\n",
    "scaler.fit(features_train[numeric]) #обучаем на тестовой выборке\n",
    "features_train[numeric] = scaler.transform(features_train[numeric]) #трансформируем выборки\n",
    "features_valid[numeric] = scaler.transform(features_valid[numeric])\n",
    "features_test[numeric] = scaler.transform(features_test[numeric])"
   ]
  },
  {
   "attachments": {},
   "cell_type": "markdown",
   "metadata": {},
   "source": [
    "#### Пробное обучение"
   ]
  },
  {
   "cell_type": "code",
   "execution_count": 30,
   "metadata": {},
   "outputs": [
    {
     "data": {
      "text/html": [
       "<style>#sk-container-id-1 {color: black;background-color: white;}#sk-container-id-1 pre{padding: 0;}#sk-container-id-1 div.sk-toggleable {background-color: white;}#sk-container-id-1 label.sk-toggleable__label {cursor: pointer;display: block;width: 100%;margin-bottom: 0;padding: 0.3em;box-sizing: border-box;text-align: center;}#sk-container-id-1 label.sk-toggleable__label-arrow:before {content: \"▸\";float: left;margin-right: 0.25em;color: #696969;}#sk-container-id-1 label.sk-toggleable__label-arrow:hover:before {color: black;}#sk-container-id-1 div.sk-estimator:hover label.sk-toggleable__label-arrow:before {color: black;}#sk-container-id-1 div.sk-toggleable__content {max-height: 0;max-width: 0;overflow: hidden;text-align: left;background-color: #f0f8ff;}#sk-container-id-1 div.sk-toggleable__content pre {margin: 0.2em;color: black;border-radius: 0.25em;background-color: #f0f8ff;}#sk-container-id-1 input.sk-toggleable__control:checked~div.sk-toggleable__content {max-height: 200px;max-width: 100%;overflow: auto;}#sk-container-id-1 input.sk-toggleable__control:checked~label.sk-toggleable__label-arrow:before {content: \"▾\";}#sk-container-id-1 div.sk-estimator input.sk-toggleable__control:checked~label.sk-toggleable__label {background-color: #d4ebff;}#sk-container-id-1 div.sk-label input.sk-toggleable__control:checked~label.sk-toggleable__label {background-color: #d4ebff;}#sk-container-id-1 input.sk-hidden--visually {border: 0;clip: rect(1px 1px 1px 1px);clip: rect(1px, 1px, 1px, 1px);height: 1px;margin: -1px;overflow: hidden;padding: 0;position: absolute;width: 1px;}#sk-container-id-1 div.sk-estimator {font-family: monospace;background-color: #f0f8ff;border: 1px dotted black;border-radius: 0.25em;box-sizing: border-box;margin-bottom: 0.5em;}#sk-container-id-1 div.sk-estimator:hover {background-color: #d4ebff;}#sk-container-id-1 div.sk-parallel-item::after {content: \"\";width: 100%;border-bottom: 1px solid gray;flex-grow: 1;}#sk-container-id-1 div.sk-label:hover label.sk-toggleable__label {background-color: #d4ebff;}#sk-container-id-1 div.sk-serial::before {content: \"\";position: absolute;border-left: 1px solid gray;box-sizing: border-box;top: 0;bottom: 0;left: 50%;z-index: 0;}#sk-container-id-1 div.sk-serial {display: flex;flex-direction: column;align-items: center;background-color: white;padding-right: 0.2em;padding-left: 0.2em;position: relative;}#sk-container-id-1 div.sk-item {position: relative;z-index: 1;}#sk-container-id-1 div.sk-parallel {display: flex;align-items: stretch;justify-content: center;background-color: white;position: relative;}#sk-container-id-1 div.sk-item::before, #sk-container-id-1 div.sk-parallel-item::before {content: \"\";position: absolute;border-left: 1px solid gray;box-sizing: border-box;top: 0;bottom: 0;left: 50%;z-index: -1;}#sk-container-id-1 div.sk-parallel-item {display: flex;flex-direction: column;z-index: 1;position: relative;background-color: white;}#sk-container-id-1 div.sk-parallel-item:first-child::after {align-self: flex-end;width: 50%;}#sk-container-id-1 div.sk-parallel-item:last-child::after {align-self: flex-start;width: 50%;}#sk-container-id-1 div.sk-parallel-item:only-child::after {width: 0;}#sk-container-id-1 div.sk-dashed-wrapped {border: 1px dashed gray;margin: 0 0.4em 0.5em 0.4em;box-sizing: border-box;padding-bottom: 0.4em;background-color: white;}#sk-container-id-1 div.sk-label label {font-family: monospace;font-weight: bold;display: inline-block;line-height: 1.2em;}#sk-container-id-1 div.sk-label-container {text-align: center;}#sk-container-id-1 div.sk-container {/* jupyter's `normalize.less` sets `[hidden] { display: none; }` but bootstrap.min.css set `[hidden] { display: none !important; }` so we also need the `!important` here to be able to override the default hidden behavior on the sphinx rendered scikit-learn.org. See: https://github.com/scikit-learn/scikit-learn/issues/21755 */display: inline-block !important;position: relative;}#sk-container-id-1 div.sk-text-repr-fallback {display: none;}</style><div id=\"sk-container-id-1\" class=\"sk-top-container\"><div class=\"sk-text-repr-fallback\"><pre>LogisticRegression(random_state=1)</pre><b>In a Jupyter environment, please rerun this cell to show the HTML representation or trust the notebook. <br />On GitHub, the HTML representation is unable to render, please try loading this page with nbviewer.org.</b></div><div class=\"sk-container\" hidden><div class=\"sk-item\"><div class=\"sk-estimator sk-toggleable\"><input class=\"sk-toggleable__control sk-hidden--visually\" id=\"sk-estimator-id-1\" type=\"checkbox\" checked><label for=\"sk-estimator-id-1\" class=\"sk-toggleable__label sk-toggleable__label-arrow\">LogisticRegression</label><div class=\"sk-toggleable__content\"><pre>LogisticRegression(random_state=1)</pre></div></div></div></div></div>"
      ],
      "text/plain": [
       "LogisticRegression(random_state=1)"
      ]
     },
     "execution_count": 30,
     "metadata": {},
     "output_type": "execute_result"
    }
   ],
   "source": [
    "model_check = LogisticRegression(random_state=RANDOM_STATE)\n",
    "model_check.fit(features_train, target_train) "
   ]
  },
  {
   "attachments": {},
   "cell_type": "markdown",
   "metadata": {},
   "source": [
    "Ошибки нет, следовательно, входные данные для обучения корректны. На этом преобразование завершено."
   ]
  },
  {
   "attachments": {},
   "cell_type": "markdown",
   "metadata": {},
   "source": [
    "### Баланс классов"
   ]
  },
  {
   "cell_type": "code",
   "execution_count": 31,
   "metadata": {},
   "outputs": [
    {
     "data": {
      "text/html": [
       "<div>\n",
       "<style scoped>\n",
       "    .dataframe tbody tr th:only-of-type {\n",
       "        vertical-align: middle;\n",
       "    }\n",
       "\n",
       "    .dataframe tbody tr th {\n",
       "        vertical-align: top;\n",
       "    }\n",
       "\n",
       "    .dataframe thead th {\n",
       "        text-align: right;\n",
       "    }\n",
       "</style>\n",
       "<table border=\"1\" class=\"dataframe\">\n",
       "  <thead>\n",
       "    <tr style=\"text-align: right;\">\n",
       "      <th></th>\n",
       "      <th>Значение 0-класса</th>\n",
       "      <th>Значение 1-класса</th>\n",
       "    </tr>\n",
       "    <tr>\n",
       "      <th>Баланс классов</th>\n",
       "      <th></th>\n",
       "      <th></th>\n",
       "    </tr>\n",
       "  </thead>\n",
       "  <tbody>\n",
       "    <tr>\n",
       "      <th>обучающей выборки</th>\n",
       "      <td>0.800667</td>\n",
       "      <td>0.199333</td>\n",
       "    </tr>\n",
       "    <tr>\n",
       "      <th>валидационной выборки</th>\n",
       "      <td>0.789500</td>\n",
       "      <td>0.210500</td>\n",
       "    </tr>\n",
       "    <tr>\n",
       "      <th>тестовой выборки</th>\n",
       "      <td>0.790000</td>\n",
       "      <td>0.210000</td>\n",
       "    </tr>\n",
       "  </tbody>\n",
       "</table>\n",
       "</div>"
      ],
      "text/plain": [
       "                       Значение 0-класса  Значение 1-класса\n",
       "Баланс классов                                             \n",
       "обучающей выборки               0.800667           0.199333\n",
       "валидационной выборки           0.789500           0.210500\n",
       "тестовой выборки                0.790000           0.210000"
      ]
     },
     "execution_count": 31,
     "metadata": {},
     "output_type": "execute_result"
    }
   ],
   "source": [
    "# Создаем датасет со значениями баланса классов\n",
    "model_list = [\n",
    "    'обучающей выборки', \n",
    "    'валидационной выборки', \n",
    "    'тестовой выборки'\n",
    "    ]\n",
    "    \n",
    "zero_list = [\n",
    "    target_train.value_counts(normalize=True)[0], #нулевой класс\n",
    "    target_valid.value_counts(normalize=True)[0], \n",
    "    target_test.value_counts(normalize=True)[0]\n",
    "    ]\n",
    "\n",
    "one_list = [\n",
    "    target_train.value_counts(normalize=True)[1], #первый класс\n",
    "    target_valid.value_counts(normalize=True)[1], \n",
    "    target_test.value_counts(normalize=True)[1]\n",
    "    ]\n",
    "\n",
    "balance_class = pd.DataFrame({ #созаем датафрейм\n",
    "    'Баланс классов': model_list, #\n",
    "    'Значение 0-класса': zero_list, #\n",
    "    'Значение 1-класса': one_list, \n",
    "}) #\n",
    "\n",
    "balance_class = balance_class.set_index('Баланс классов')\n",
    "balance_class"
   ]
  },
  {
   "attachments": {},
   "cell_type": "markdown",
   "metadata": {},
   "source": [
    "Имеем большой дисбаланс классов, в среднем 80:20 % отношение 0:1."
   ]
  },
  {
   "cell_type": "code",
   "execution_count": 32,
   "metadata": {},
   "outputs": [
    {
     "data": {
      "image/png": "[encoded data removed]",
      "text/plain": [
       "<Figure size 1224x504 with 1 Axes>"
      ]
     },
     "metadata": {
      "needs_background": "light"
     },
     "output_type": "display_data"
    }
   ],
   "source": [
    "balance_class.plot(kind='bar', figsize=(17, 7))\n",
    "\n",
    "bw = 0.5 #толщина столбика\n",
    "plt.title('Баланс классов', fontsize=20) #имя графика\n",
    "plt.xticks(fontsize=14, rotation=0) #показать подпись, убрать поворот\n",
    "plt.legend(fontsize=14); #показать легенду"
   ]
  },
  {
   "attachments": {},
   "cell_type": "markdown",
   "metadata": {},
   "source": [
    "### Обучение моделей"
   ]
  },
  {
   "attachments": {},
   "cell_type": "markdown",
   "metadata": {},
   "source": [
    "#### Логистическая регрессия"
   ]
  },
  {
   "cell_type": "code",
   "execution_count": 33,
   "metadata": {},
   "outputs": [
    {
     "name": "stdout",
     "output_type": "stream",
     "text": [
      "F1: 0.323943661971831\n",
      "Accuracy: 0.808\n"
     ]
    }
   ],
   "source": [
    "log_reg = LogisticRegression(random_state=RANDOM_STATE) #вводим логистическую регрессию\n",
    "log_reg.fit(features_train, target_train) #обучаем модель на тестовых\n",
    "prediction_log_reg = log_reg.predict(features_valid) #предсказываем по валидационным\n",
    "f1_log_reg = f1_score(target_valid, prediction_log_reg)\n",
    "accuracy_log_reg = accuracy_score(target_valid, prediction_log_reg)\n",
    "print(\"F1:\", f1_log_reg) #находим метрику F1\n",
    "print(\"Accuracy:\", accuracy_log_reg) #находим метрику Accuracy"
   ]
  },
  {
   "attachments": {},
   "cell_type": "markdown",
   "metadata": {},
   "source": [
    "`AUC-ROC` - это площадь под кривой (метрик доли ложноположительных ответов (`FPR`), отсчитывающейся по оси X, и доли истинно положительных ответов (`TPR`))."
   ]
  },
  {
   "cell_type": "code",
   "execution_count": 34,
   "metadata": {},
   "outputs": [
    {
     "data": {
      "image/png": "[encoded data removed]",
      "text/plain": [
       "<Figure size 432x288 with 1 Axes>"
      ]
     },
     "metadata": {
      "needs_background": "light"
     },
     "output_type": "display_data"
    }
   ],
   "source": [
    "log_reg_pred_one = log_reg.predict_proba(features_valid)[:, 1]\n",
    "\n",
    "fpr, tpr, thresholds = roc_curve(target_valid, log_reg_pred_one)\n",
    "\n",
    "plt.figure()\n",
    "\n",
    "plt.plot([0, 1], [0, 1], linestyle='--')\n",
    "plt.xlim([0, 1])\n",
    "plt.ylim([0, 1])\n",
    "\n",
    "plt.xlabel('False Positive Rate')\n",
    "plt.ylabel('True Positive Rate')\n",
    "plt.title('ROC-кривая')\n",
    "plt.plot(fpr, tpr, linestyle='--')\n",
    "\n",
    "plt.show()"
   ]
  },
  {
   "cell_type": "code",
   "execution_count": 35,
   "metadata": {},
   "outputs": [
    {
     "data": {
      "text/plain": [
       "0.7717894755843847"
      ]
     },
     "execution_count": 35,
     "metadata": {},
     "output_type": "execute_result"
    }
   ],
   "source": [
    "roc_auc_log_reg = roc_auc_score(target_valid, log_reg_pred_one) #значение roc_auc\n",
    "roc_auc_log_reg"
   ]
  },
  {
   "attachments": {},
   "cell_type": "markdown",
   "metadata": {},
   "source": [
    "Значение F1 невысокое. Площадь `AUC-ROC` - маленькая."
   ]
  },
  {
   "attachments": {},
   "cell_type": "markdown",
   "metadata": {},
   "source": [
    "#### Дерево решений"
   ]
  },
  {
   "cell_type": "code",
   "execution_count": 36,
   "metadata": {},
   "outputs": [],
   "source": [
    "accuracy_valid_trees_list = [] #создаем пустой список accuracy\n",
    "f1_valid_trees_list = [] #создаем пустой список f1\n",
    "roc_auc_score_list = []\n",
    "\n",
    "for depth in range(1, 16): #цикл для глубины дерева, до 15\n",
    "    model_trees = DecisionTreeClassifier(random_state=RANDOM_STATE, max_depth=depth) #модель дерева решений с меняющейся глубиной\n",
    "    model_trees.fit(features_train, target_train) #обучение модели на тренировочной выборке\n",
    "    predictions_trees_valid = model_trees.predict(features_valid) #предсказание целевого признака на основе валидационных признаков\n",
    "    accuracy_valid_trees = accuracy_score(target_valid, predictions_trees_valid) #accuracy\n",
    "    accuracy_valid_trees_list.append(accuracy_valid_trees) #добавление оценки точности в список\n",
    "    f1_valid_trees = f1_score(target_valid, predictions_trees_valid) #f1 метрика\n",
    "    f1_valid_trees_list.append(f1_valid_trees) #добавление оценки f1 в список\n",
    "    trees_roc_auc_score = roc_auc_score(target_valid, model_trees.predict_proba(features_valid)[:, 1]) #значение roc_auc\n",
    "    roc_auc_score_list.append(trees_roc_auc_score)\n",
    "\n",
    "depth_list = list(range(1, 16)) #создаем список значений глубины дерева\n",
    "df_trees = pd.DataFrame({ #созаем датафрейм\n",
    "    'Depth': depth_list, #глубина - из списка\n",
    "    'accuracy_valid_trees': accuracy_valid_trees_list, #качество тренировочных данных\n",
    "    'f1_valid_trees': f1_valid_trees_list,\n",
    "    'roc_auc_score': roc_auc_score_list\n",
    "    \n",
    "}) #"
   ]
  },
  {
   "cell_type": "code",
   "execution_count": 37,
   "metadata": {},
   "outputs": [
    {
     "data": {
      "image/png": "[encoded data removed]",
      "text/plain": [
       "<Figure size 1224x504 with 1 Axes>"
      ]
     },
     "metadata": {
      "needs_background": "light"
     },
     "output_type": "display_data"
    }
   ],
   "source": [
    "ax = df_trees.plot( #строим график plot\n",
    "    x='Depth', y='accuracy_valid_trees', #оси Х и Y\n",
    "    style='o-g', sharex=False, grid=True, alpha=0.7, #линия с точками, сетка, прозрачность 0.7\n",
    "    label=\"Accuracy\", #легенда\n",
    "    lw=5, mew=2, ms=10, figsize=(17, 7)); #толщина линии, величина точек, размеры графика\n",
    "\n",
    "df_trees.plot(\n",
    "    x='Depth', y='f1_valid_trees', style='o-b', sharex=False, grid=True,\n",
    "    alpha=0.7, label=\"F1\",\n",
    "    lw=5, mew=2, ms=10, figsize=(17, 7), ax=ax)\\\n",
    ".set_title(\n",
    "    'Зависимости метрик Accuracy и F1 от глубины дерева' + \"\\n\", #название графика\n",
    "    fontsize = 16, color = 'Black'); #размер шрифта, цвет"
   ]
  },
  {
   "cell_type": "code",
   "execution_count": 38,
   "metadata": {},
   "outputs": [
    {
     "data": {
      "text/html": [
       "<div>\n",
       "<style scoped>\n",
       "    .dataframe tbody tr th:only-of-type {\n",
       "        vertical-align: middle;\n",
       "    }\n",
       "\n",
       "    .dataframe tbody tr th {\n",
       "        vertical-align: top;\n",
       "    }\n",
       "\n",
       "    .dataframe thead th {\n",
       "        text-align: right;\n",
       "    }\n",
       "</style>\n",
       "<table border=\"1\" class=\"dataframe\">\n",
       "  <thead>\n",
       "    <tr style=\"text-align: right;\">\n",
       "      <th></th>\n",
       "      <th>Depth</th>\n",
       "      <th>accuracy_valid_trees</th>\n",
       "      <th>f1_valid_trees</th>\n",
       "      <th>roc_auc_score</th>\n",
       "    </tr>\n",
       "  </thead>\n",
       "  <tbody>\n",
       "    <tr>\n",
       "      <th>6</th>\n",
       "      <td>7</td>\n",
       "      <td>0.8555</td>\n",
       "      <td>0.609987</td>\n",
       "      <td>0.845711</td>\n",
       "    </tr>\n",
       "    <tr>\n",
       "      <th>7</th>\n",
       "      <td>8</td>\n",
       "      <td>0.8545</td>\n",
       "      <td>0.596394</td>\n",
       "      <td>0.823908</td>\n",
       "    </tr>\n",
       "    <tr>\n",
       "      <th>5</th>\n",
       "      <td>6</td>\n",
       "      <td>0.8625</td>\n",
       "      <td>0.594993</td>\n",
       "      <td>0.847044</td>\n",
       "    </tr>\n",
       "    <tr>\n",
       "      <th>8</th>\n",
       "      <td>9</td>\n",
       "      <td>0.8410</td>\n",
       "      <td>0.570270</td>\n",
       "      <td>0.787611</td>\n",
       "    </tr>\n",
       "    <tr>\n",
       "      <th>9</th>\n",
       "      <td>10</td>\n",
       "      <td>0.8380</td>\n",
       "      <td>0.569149</td>\n",
       "      <td>0.758552</td>\n",
       "    </tr>\n",
       "  </tbody>\n",
       "</table>\n",
       "</div>"
      ],
      "text/plain": [
       "   Depth  accuracy_valid_trees  f1_valid_trees  roc_auc_score\n",
       "6      7                0.8555        0.609987       0.845711\n",
       "7      8                0.8545        0.596394       0.823908\n",
       "5      6                0.8625        0.594993       0.847044\n",
       "8      9                0.8410        0.570270       0.787611\n",
       "9     10                0.8380        0.569149       0.758552"
      ]
     },
     "execution_count": 38,
     "metadata": {},
     "output_type": "execute_result"
    }
   ],
   "source": [
    "df_trees.sort_values(by='f1_valid_trees', ascending=False).head() #вывод отсортированного датасета с результатами, обучен на дереве"
   ]
  },
  {
   "attachments": {},
   "cell_type": "markdown",
   "metadata": {},
   "source": [
    "#### Случайный лес"
   ]
  },
  {
   "cell_type": "code",
   "execution_count": 39,
   "metadata": {},
   "outputs": [],
   "source": [
    "accuracy_valid_forest_list = [] #создаем пустой список accuracy\n",
    "f1_valid_forest_list = [] #создаем пустой список f1\n",
    "roc_auc_score_list = []\n",
    "\n",
    "for value in range(1, 31): #цикл для глубины дерева, до 30\n",
    "    model_forest = RandomForestClassifier(random_state=RANDOM_STATE, n_estimators=value) #модель леса с меняющимся количеством деревьев\n",
    "    model_forest.fit(features_train, target_train) #обучение модели на тренировочной выборке\n",
    "    predictions_forest_valid = model_forest.predict(features_valid) #предсказание на основе валидационных признаков\n",
    "    accuracy_valid_forest = accuracy_score(target_valid, predictions_forest_valid) #accuracy метрика\n",
    "    accuracy_valid_forest_list.append(accuracy_valid_forest) #добавление в список\n",
    "    f1_valid_forest = f1_score(target_valid, predictions_forest_valid) #f1 метрика\n",
    "    f1_valid_forest_list.append(f1_valid_forest) #добавление в список\n",
    "    forest_roc_auc_score = roc_auc_score(target_valid, model_forest.predict_proba(features_valid)[:, 1]) #значение roc_auc\n",
    "    roc_auc_score_list.append(forest_roc_auc_score)\n",
    "\n",
    "estimator_list = list(range(1, 31)) #создаем список значений количества деревьев\n",
    "df_forest = pd.DataFrame({ #созаем датафрейм\n",
    "    'estimator': estimator_list, #количество - из списка\n",
    "    'accuracy_valid_forest': accuracy_valid_forest_list, #к\n",
    "    'f1_valid_forest': f1_valid_forest_list, #\n",
    "    'roc_auc_score': roc_auc_score_list\n",
    "\n",
    "}) #"
   ]
  },
  {
   "cell_type": "code",
   "execution_count": 40,
   "metadata": {},
   "outputs": [
    {
     "data": {
      "image/png": "[encoded data removed]",
      "text/plain": [
       "<Figure size 1224x504 with 1 Axes>"
      ]
     },
     "metadata": {
      "needs_background": "light"
     },
     "output_type": "display_data"
    }
   ],
   "source": [
    "ax = df_forest.plot( #строим график plot\n",
    "    x='estimator', y='accuracy_valid_forest', #оси Х и Y\n",
    "    style='o-g', sharex=False, grid=True, alpha=0.7, #линия с точками, сетка, прозрачность 0.7\n",
    "    label=\"Accuracy\", #легенда\n",
    "    lw=5, mew=2, ms=10, figsize=(17, 7)); #толщина линии, величина точек, размеры графика\n",
    "\n",
    "df_forest.plot(\n",
    "    x='estimator', y='f1_valid_forest', style='o-b', sharex=False, grid=True,\n",
    "    alpha=0.7, label=\"F1\",\n",
    "    lw=5, mew=2, ms=10, figsize=(17, 7), ax=ax)\\\n",
    ".set_title(\n",
    "    'Зависимости метрик Accuracy и F1 от количества деревьев' + \"\\n\", #название графика\n",
    "    fontsize = 16, color = 'Black'); #размер шрифта, цвет"
   ]
  },
  {
   "cell_type": "code",
   "execution_count": 41,
   "metadata": {},
   "outputs": [
    {
     "data": {
      "text/html": [
       "<div>\n",
       "<style scoped>\n",
       "    .dataframe tbody tr th:only-of-type {\n",
       "        vertical-align: middle;\n",
       "    }\n",
       "\n",
       "    .dataframe tbody tr th {\n",
       "        vertical-align: top;\n",
       "    }\n",
       "\n",
       "    .dataframe thead th {\n",
       "        text-align: right;\n",
       "    }\n",
       "</style>\n",
       "<table border=\"1\" class=\"dataframe\">\n",
       "  <thead>\n",
       "    <tr style=\"text-align: right;\">\n",
       "      <th></th>\n",
       "      <th>estimator</th>\n",
       "      <th>accuracy_valid_forest</th>\n",
       "      <th>f1_valid_forest</th>\n",
       "      <th>roc_auc_score</th>\n",
       "    </tr>\n",
       "  </thead>\n",
       "  <tbody>\n",
       "    <tr>\n",
       "      <th>20</th>\n",
       "      <td>21</td>\n",
       "      <td>0.8585</td>\n",
       "      <td>0.588064</td>\n",
       "      <td>0.829789</td>\n",
       "    </tr>\n",
       "    <tr>\n",
       "      <th>18</th>\n",
       "      <td>19</td>\n",
       "      <td>0.8560</td>\n",
       "      <td>0.582609</td>\n",
       "      <td>0.828098</td>\n",
       "    </tr>\n",
       "    <tr>\n",
       "      <th>16</th>\n",
       "      <td>17</td>\n",
       "      <td>0.8555</td>\n",
       "      <td>0.581766</td>\n",
       "      <td>0.821714</td>\n",
       "    </tr>\n",
       "    <tr>\n",
       "      <th>22</th>\n",
       "      <td>23</td>\n",
       "      <td>0.8575</td>\n",
       "      <td>0.581498</td>\n",
       "      <td>0.833432</td>\n",
       "    </tr>\n",
       "    <tr>\n",
       "      <th>26</th>\n",
       "      <td>27</td>\n",
       "      <td>0.8565</td>\n",
       "      <td>0.579795</td>\n",
       "      <td>0.836796</td>\n",
       "    </tr>\n",
       "  </tbody>\n",
       "</table>\n",
       "</div>"
      ],
      "text/plain": [
       "    estimator  accuracy_valid_forest  f1_valid_forest  roc_auc_score\n",
       "20         21                 0.8585         0.588064       0.829789\n",
       "18         19                 0.8560         0.582609       0.828098\n",
       "16         17                 0.8555         0.581766       0.821714\n",
       "22         23                 0.8575         0.581498       0.833432\n",
       "26         27                 0.8565         0.579795       0.836796"
      ]
     },
     "execution_count": 41,
     "metadata": {},
     "output_type": "execute_result"
    }
   ],
   "source": [
    "df_forest.sort_values(by='f1_valid_forest', ascending=False).head() #вывод отсортированного датасета с результатами, обучен на лесе"
   ]
  },
  {
   "attachments": {},
   "cell_type": "markdown",
   "metadata": {},
   "source": [
    "#### Случайный лес с глубиной"
   ]
  },
  {
   "cell_type": "code",
   "execution_count": 42,
   "metadata": {},
   "outputs": [
    {
     "name": "stdout",
     "output_type": "stream",
     "text": [
      "F1: 0.6014814814814815 \n",
      "Accuracy: 0.8655 \n",
      "Estimators: 21 \n",
      "Depth: 15\n"
     ]
    }
   ],
   "source": [
    "f1_valid_forest0 = -0.1 #задаем параметры для циклов. отрицательная f1\n",
    "best_est = 0 #деревьев 0\n",
    "best_depth = 0 #глубина 0\n",
    "best_accuracy = 0 #\n",
    "for est in range(1, 31, 5): #количество деревьев варьируем от 1 до 30 с шагом 5\n",
    "    for depth in range (1, 20): #глубина\n",
    "        model_forest_depth = RandomForestClassifier(random_state=RANDOM_STATE, n_estimators=est, max_depth=depth) #модель леса с меняющимся количеством деревьев и глубиной\n",
    "        model_forest_depth.fit(features_train, target_train) #обучение модели на тренировочной выборке\n",
    "        predictions_forest_depth_valid = model_forest_depth.predict(features_valid) #предсказание на основе валидационных признаков\n",
    "        accuracy_valid_forest_depth = accuracy_score(target_valid, predictions_forest_depth_valid) #accuracy\n",
    "        f1_valid_forest_depth = f1_score(target_valid, predictions_forest_depth_valid) #f1\n",
    "        if f1_valid_forest_depth > f1_valid_forest0: #сравнение с начальным значением, если удовлетворяет, то:\n",
    "            f1_valid_forest0 = f1_valid_forest_depth #переназначаем начальное значение\n",
    "            best_est = est #количество\n",
    "            best_depth = depth #глубина\n",
    "            best_accuracy = accuracy_valid_forest_depth #\n",
    "print(\"F1:\", f1_valid_forest0, '\\nAccuracy:', best_accuracy, '\\nEstimators:', best_est, '\\nDepth:', best_depth) #вывод"
   ]
  },
  {
   "attachments": {},
   "cell_type": "markdown",
   "metadata": {},
   "source": [
    "Здесь, максимальное значение метрики F1 достигается при количестве деревьев равном 21 и глубине равной 15."
   ]
  },
  {
   "cell_type": "code",
   "execution_count": 43,
   "metadata": {},
   "outputs": [
    {
     "data": {
      "text/plain": [
       "0.8377005802102717"
      ]
     },
     "execution_count": 43,
     "metadata": {},
     "output_type": "execute_result"
    }
   ],
   "source": [
    "model_forest_depth = RandomForestClassifier(random_state=RANDOM_STATE, n_estimators=21, max_depth=15) \n",
    "model_forest_depth.fit(features_train, target_train)\n",
    "roc_auc_score(target_valid, model_forest_depth.predict_proba(features_valid)[:, 1]) #значение roc_auc"
   ]
  },
  {
   "attachments": {},
   "cell_type": "markdown",
   "metadata": {},
   "source": [
    "Сделаем классификатор для случайного леса, для того, чтобы оценить важность каждого признака на обучение:"
   ]
  },
  {
   "cell_type": "code",
   "execution_count": 44,
   "metadata": {},
   "outputs": [
    {
     "data": {
      "text/plain": [
       "Age                  0.218466\n",
       "EstimatedSalary      0.124181\n",
       "Balance              0.123555\n",
       "NumOfProducts        0.119991\n",
       "CustomerId           0.118493\n",
       "CreditScore          0.114603\n",
       "Tenure               0.068992\n",
       "IsActiveMember       0.038423\n",
       "Geography_Germany    0.025936\n",
       "Gender_Male          0.018192\n",
       "HasCrCard            0.016573\n",
       "Geography_Spain      0.012595\n",
       "dtype: float64"
      ]
     },
     "execution_count": 44,
     "metadata": {},
     "output_type": "execute_result"
    }
   ],
   "source": [
    "classifier = RandomForestClassifier(random_state=RANDOM_STATE) #вводим классификатор для модели случайного леса\n",
    "classifier.fit(features_train, target_train) #обучаем на тренировочной\n",
    "fi = classifier.feature_importances_ #классификация важности признаков\n",
    "\n",
    "#создаем объект Series и сортируем по убыванию важности\n",
    "importance = pd.Series(fi, index=features_train.columns).sort_values(ascending=False)\n",
    "importance"
   ]
  },
  {
   "attachments": {},
   "cell_type": "markdown",
   "metadata": {},
   "source": [
    "По предварительному обучению имеем такие показатели:"
   ]
  },
  {
   "cell_type": "code",
   "execution_count": 45,
   "metadata": {},
   "outputs": [
    {
     "data": {
      "text/html": [
       "<div>\n",
       "<style scoped>\n",
       "    .dataframe tbody tr th:only-of-type {\n",
       "        vertical-align: middle;\n",
       "    }\n",
       "\n",
       "    .dataframe tbody tr th {\n",
       "        vertical-align: top;\n",
       "    }\n",
       "\n",
       "    .dataframe thead th {\n",
       "        text-align: right;\n",
       "    }\n",
       "</style>\n",
       "<table border=\"1\" class=\"dataframe\">\n",
       "  <thead>\n",
       "    <tr style=\"text-align: right;\">\n",
       "      <th></th>\n",
       "      <th>Model</th>\n",
       "      <th>F1</th>\n",
       "      <th>Accuracy</th>\n",
       "      <th>Depth</th>\n",
       "      <th>Estimators</th>\n",
       "      <th>AUC-ROC</th>\n",
       "    </tr>\n",
       "  </thead>\n",
       "  <tbody>\n",
       "    <tr>\n",
       "      <th>0</th>\n",
       "      <td>Логистическая регрессия</td>\n",
       "      <td>0.323944</td>\n",
       "      <td>0.8080</td>\n",
       "      <td>-</td>\n",
       "      <td>-</td>\n",
       "      <td>0.771789</td>\n",
       "    </tr>\n",
       "    <tr>\n",
       "      <th>1</th>\n",
       "      <td>Дерево решений</td>\n",
       "      <td>0.609987</td>\n",
       "      <td>0.8555</td>\n",
       "      <td>7</td>\n",
       "      <td>-</td>\n",
       "      <td>0.845711</td>\n",
       "    </tr>\n",
       "    <tr>\n",
       "      <th>2</th>\n",
       "      <td>Случайный лес</td>\n",
       "      <td>0.588064</td>\n",
       "      <td>0.8585</td>\n",
       "      <td>-</td>\n",
       "      <td>21</td>\n",
       "      <td>0.829789</td>\n",
       "    </tr>\n",
       "    <tr>\n",
       "      <th>3</th>\n",
       "      <td>Случайный лес с глубиной</td>\n",
       "      <td>0.601481</td>\n",
       "      <td>0.8655</td>\n",
       "      <td>15</td>\n",
       "      <td>21</td>\n",
       "      <td>0.837701</td>\n",
       "    </tr>\n",
       "  </tbody>\n",
       "</table>\n",
       "</div>"
      ],
      "text/plain": [
       "                      Model        F1  Accuracy Depth Estimators   AUC-ROC\n",
       "0   Логистическая регрессия  0.323944    0.8080     -          -  0.771789\n",
       "1            Дерево решений  0.609987    0.8555     7          -  0.845711\n",
       "2             Случайный лес  0.588064    0.8585     -         21  0.829789\n",
       "3  Случайный лес с глубиной  0.601481    0.8655    15         21  0.837701"
      ]
     },
     "execution_count": 45,
     "metadata": {},
     "output_type": "execute_result"
    }
   ],
   "source": [
    "# Создаем датасет с набором полученных ранее значений.\n",
    "\n",
    "model_list = [\n",
    "    'Логистическая регрессия', \n",
    "    'Дерево решений', \n",
    "    'Случайный лес', \n",
    "    'Случайный лес с глубиной'\n",
    "    ]\n",
    "    \n",
    "f1_list = [\n",
    "    f1_log_reg, \n",
    "    df_trees['f1_valid_trees'].max(), \n",
    "    df_forest['f1_valid_forest'].max(), \n",
    "    f1_valid_forest0\n",
    "    ]\n",
    "\n",
    "accuracy_list = [\n",
    "    accuracy_log_reg, \n",
    "    df_trees.sort_values(by='f1_valid_trees', ascending=False).head(1)['accuracy_valid_trees'].max(), \n",
    "    df_forest.sort_values(by='f1_valid_forest', ascending=False).head(1)['accuracy_valid_forest'].max(), \n",
    "    best_accuracy\n",
    "    ]\n",
    "\n",
    "depth_list = [\n",
    "    '-', \n",
    "    df_trees.sort_values(by='f1_valid_trees', ascending=False).head(1)['Depth'].max(), \n",
    "    '-', \n",
    "    best_depth\n",
    "    ]\n",
    "\n",
    "estimators_list = [\n",
    "    '-', \n",
    "    '-', \n",
    "    df_forest.sort_values(by='f1_valid_forest', ascending=False).head(1)['estimator'].max(), \n",
    "    best_est\n",
    "    ]\n",
    "\n",
    "auc_roc_list = [\n",
    "    roc_auc_log_reg, \n",
    "    df_trees.sort_values(by='f1_valid_trees', ascending=False).head(1)['roc_auc_score'].max(), \n",
    "    df_forest.sort_values(by='f1_valid_forest', ascending=False).head(1)['roc_auc_score'].max(), \n",
    "    roc_auc_score(target_valid, model_forest_depth.predict_proba(features_valid)[:, 1])\n",
    "    ]\n",
    "\n",
    "df_pred_results = pd.DataFrame({ #созаем датафрейм\n",
    "    'Model': model_list, #глубина - из списка\n",
    "    'F1': f1_list, #качество валидационных данных\n",
    "    'Accuracy': accuracy_list, #качество тренировочных данных\n",
    "    'Depth': depth_list,\n",
    "    'Estimators': estimators_list,\n",
    "    'AUC-ROC': auc_roc_list\n",
    "}) #\n",
    "\n",
    "df_pred_results"
   ]
  },
  {
   "cell_type": "code",
   "execution_count": 46,
   "metadata": {},
   "outputs": [
    {
     "data": {
      "image/png": "[encoded data removed]",
      "text/plain": [
       "<Figure size 432x288 with 1 Axes>"
      ]
     },
     "metadata": {
      "needs_background": "light"
     },
     "output_type": "display_data"
    }
   ],
   "source": [
    "probabilities_valid = model_forest_depth.predict_proba(features_valid)\n",
    "probabilities_one_valid = probabilities_valid[:, 1]\n",
    "\n",
    "fpr, tpr, thresholds = roc_curve(target_valid, probabilities_one_valid)\n",
    "\n",
    "plt.figure()\n",
    "\n",
    "plt.plot([0, 1], [0, 1], linestyle='--')\n",
    "plt.xlim([0, 1])\n",
    "plt.ylim([0, 1])\n",
    "\n",
    "plt.xlabel('False Positive Rate')\n",
    "plt.ylabel('True Positive Rate')\n",
    "plt.title('ROC-кривая')\n",
    "plt.plot(fpr, tpr, linestyle='--')\n",
    "\n",
    "plt.show()"
   ]
  },
  {
   "attachments": {},
   "cell_type": "markdown",
   "metadata": {},
   "source": [
    "Линия молели вытянута вверх больше, чем в случае логистической регресси, а значит, модель дает больше истинноположительных предсказаний.\n",
    "\n",
    "Наилучшая F1 у дерева решений, так же как и Accuracy и метрики `AUC-ROC`."
   ]
  },
  {
   "attachments": {},
   "cell_type": "markdown",
   "metadata": {},
   "source": [
    "### Выводы по результатам исследования задачи"
   ]
  },
  {
   "attachments": {},
   "cell_type": "markdown",
   "metadata": {},
   "source": [
    "На данном этапе проведена предобработка данных, а также датасет был подготовлен к обучению:\n",
    "- прямым кодированием номинальные категориальные признаки изменены на числовые категориальные,\n",
    "- данные разделены на выборки в необходимой пропорции,\n",
    "- признаки масштабированы,\n",
    "- оценен баланс классов для целевого признака,\n",
    "- обучены разные модели, некоторые с перебором параметров.\n",
    "\n",
    "На данном этапе получено максимальное значение F1 метрики для модели дерева решений с глубиной 7.\n",
    "\n",
    "Значение F1 метрики равно 0.61, Accuracy 0.856. Значение `AUC-ROC` 0.846, построен график."
   ]
  },
  {
   "attachments": {},
   "cell_type": "markdown",
   "metadata": {},
   "source": [
    "## Борьба с дисбалансом"
   ]
  },
  {
   "attachments": {},
   "cell_type": "markdown",
   "metadata": {},
   "source": [
    "### Взвешивание классов"
   ]
  },
  {
   "attachments": {},
   "cell_type": "markdown",
   "metadata": {},
   "source": [
    "#### Логистическая регрессия"
   ]
  },
  {
   "cell_type": "code",
   "execution_count": 47,
   "metadata": {},
   "outputs": [
    {
     "name": "stdout",
     "output_type": "stream",
     "text": [
      "F1: 0.5080440304826418\n",
      "Accuracy: 0.7095\n"
     ]
    }
   ],
   "source": [
    "log_reg_bal = LogisticRegression(random_state=RANDOM_STATE, solver='liblinear', class_weight='balanced') #вводим логистическую регрессию\n",
    "log_reg_bal.fit(features_train, target_train) #обучаем модель на тестовых\n",
    "predictions_log_reg_bal = log_reg_bal.predict(features_valid) #предсказываем по валидационным\n",
    "f1_log_reg_bal = f1_score(target_valid, predictions_log_reg_bal)\n",
    "accuracy_log_reg_bal = accuracy_score(target_valid, predictions_log_reg_bal)\n",
    "print(\"F1:\", f1_log_reg_bal) #находим метрику F1\n",
    "print(\"Accuracy:\", accuracy_log_reg_bal) #находим метрику Accuracy"
   ]
  },
  {
   "cell_type": "code",
   "execution_count": 48,
   "metadata": {},
   "outputs": [
    {
     "data": {
      "text/plain": [
       "0.7760722306881139"
      ]
     },
     "execution_count": 48,
     "metadata": {},
     "output_type": "execute_result"
    }
   ],
   "source": [
    "roc_auc_log_reg_bal = roc_auc_score(target_valid, log_reg_bal.predict_proba(features_valid)[:, 1]) #значение roc_auc\n",
    "roc_auc_log_reg_bal"
   ]
  },
  {
   "attachments": {},
   "cell_type": "markdown",
   "metadata": {},
   "source": [
    "Значение F1 выросло почти в 2 раза, благодаря балансировке. Значение метрики `roc_auc_score` практически не изменилось."
   ]
  },
  {
   "attachments": {},
   "cell_type": "markdown",
   "metadata": {},
   "source": [
    "#### Дерево решений"
   ]
  },
  {
   "cell_type": "code",
   "execution_count": 49,
   "metadata": {},
   "outputs": [
    {
     "data": {
      "text/html": [
       "<div>\n",
       "<style scoped>\n",
       "    .dataframe tbody tr th:only-of-type {\n",
       "        vertical-align: middle;\n",
       "    }\n",
       "\n",
       "    .dataframe tbody tr th {\n",
       "        vertical-align: top;\n",
       "    }\n",
       "\n",
       "    .dataframe thead th {\n",
       "        text-align: right;\n",
       "    }\n",
       "</style>\n",
       "<table border=\"1\" class=\"dataframe\">\n",
       "  <thead>\n",
       "    <tr style=\"text-align: right;\">\n",
       "      <th></th>\n",
       "      <th>Depth</th>\n",
       "      <th>accuracy_valid_trees</th>\n",
       "      <th>f1_valid_trees</th>\n",
       "      <th>roc_auc_score</th>\n",
       "    </tr>\n",
       "  </thead>\n",
       "  <tbody>\n",
       "    <tr>\n",
       "      <th>6</th>\n",
       "      <td>7</td>\n",
       "      <td>0.779</td>\n",
       "      <td>0.593002</td>\n",
       "      <td>0.843009</td>\n",
       "    </tr>\n",
       "  </tbody>\n",
       "</table>\n",
       "</div>"
      ],
      "text/plain": [
       "   Depth  accuracy_valid_trees  f1_valid_trees  roc_auc_score\n",
       "6      7                 0.779        0.593002       0.843009"
      ]
     },
     "execution_count": 49,
     "metadata": {},
     "output_type": "execute_result"
    }
   ],
   "source": [
    "accuracy_valid_trees_list = [] #создаем пустой список accuracy\n",
    "f1_valid_trees_list = [] #создаем пустой список f1\n",
    "roc_auc_score_list = []\n",
    "\n",
    "for depth in range(1, 16): #цикл для глубины дерева, до 15\n",
    "    model_trees = DecisionTreeClassifier(random_state=RANDOM_STATE, max_depth=depth, class_weight='balanced') #модель дерева решений с меняющейся глубиной\n",
    "    model_trees.fit(features_train, target_train) #обучение модели на тренировочной выборке\n",
    "    predictions_trees_valid = model_trees.predict(features_valid) #предсказание целевого признака на основе валидационных признаков\n",
    "    accuracy_valid_trees = accuracy_score(target_valid, predictions_trees_valid) #accuracy\n",
    "    accuracy_valid_trees_list.append(accuracy_valid_trees) #добавление оценки точности в список\n",
    "    f1_valid_trees = f1_score(target_valid, predictions_trees_valid) #f1 метрика\n",
    "    f1_valid_trees_list.append(f1_valid_trees) #добавление оценки f1 в список\n",
    "    trees_roc_auc_score = roc_auc_score(target_valid, model_trees.predict_proba(features_valid)[:, 1]) #значение roc_auc\n",
    "    roc_auc_score_list.append(trees_roc_auc_score)\n",
    "\n",
    "depth_list = list(range(1, 16)) #создаем список значений глубины дерева\n",
    "df_trees_bal = pd.DataFrame({ #созаем датафрейм\n",
    "    'Depth': depth_list, #глубина - из списка\n",
    "    'accuracy_valid_trees': accuracy_valid_trees_list, #качество тренировочных данных\n",
    "    'f1_valid_trees': f1_valid_trees_list, #качество валидационных данных\n",
    "    'roc_auc_score': roc_auc_score_list\n",
    "}) \n",
    "\n",
    "df_trees_bal.sort_values(by='f1_valid_trees', ascending=False).head(1) #вывод отсортированного датасета с результатами, обучен на дереве"
   ]
  },
  {
   "attachments": {},
   "cell_type": "markdown",
   "metadata": {},
   "source": [
    "#### Случайный лес"
   ]
  },
  {
   "cell_type": "code",
   "execution_count": 50,
   "metadata": {},
   "outputs": [
    {
     "data": {
      "text/html": [
       "<div>\n",
       "<style scoped>\n",
       "    .dataframe tbody tr th:only-of-type {\n",
       "        vertical-align: middle;\n",
       "    }\n",
       "\n",
       "    .dataframe tbody tr th {\n",
       "        vertical-align: top;\n",
       "    }\n",
       "\n",
       "    .dataframe thead th {\n",
       "        text-align: right;\n",
       "    }\n",
       "</style>\n",
       "<table border=\"1\" class=\"dataframe\">\n",
       "  <thead>\n",
       "    <tr style=\"text-align: right;\">\n",
       "      <th></th>\n",
       "      <th>estimator</th>\n",
       "      <th>accuracy_valid_forest</th>\n",
       "      <th>f1_valid_forest</th>\n",
       "      <th>roc_auc_score</th>\n",
       "    </tr>\n",
       "  </thead>\n",
       "  <tbody>\n",
       "    <tr>\n",
       "      <th>10</th>\n",
       "      <td>11</td>\n",
       "      <td>0.856</td>\n",
       "      <td>0.582609</td>\n",
       "      <td>0.826596</td>\n",
       "    </tr>\n",
       "  </tbody>\n",
       "</table>\n",
       "</div>"
      ],
      "text/plain": [
       "    estimator  accuracy_valid_forest  f1_valid_forest  roc_auc_score\n",
       "10         11                  0.856         0.582609       0.826596"
      ]
     },
     "execution_count": 50,
     "metadata": {},
     "output_type": "execute_result"
    }
   ],
   "source": [
    "accuracy_valid_forest_list = [] #создаем пустой список accuracy\n",
    "f1_valid_forest_list = [] #создаем пустой список f1\n",
    "roc_auc_score_list = []\n",
    "\n",
    "for value in range(1, 31): #цикл для глубины дерева, до 30\n",
    "    model_forest = RandomForestClassifier(random_state=RANDOM_STATE, n_estimators=value, class_weight='balanced') #модель леса с меняющимся количеством деревьев\n",
    "    model_forest.fit(features_train, target_train) #обучение модели на тренировочной выборке\n",
    "    predictions_forest_valid = model_forest.predict(features_valid) #предсказание на основе валидационных признаков\n",
    "    accuracy_valid_forest = accuracy_score(target_valid, predictions_forest_valid) #accuracy метрика\n",
    "    accuracy_valid_forest_list.append(accuracy_valid_forest) #добавление в список\n",
    "    f1_valid_forest = f1_score(target_valid, predictions_forest_valid) #f1 метрика\n",
    "    f1_valid_forest_list.append(f1_valid_forest) #добавление в список\n",
    "    forest_roc_auc_score = roc_auc_score(target_valid, model_forest.predict_proba(features_valid)[:, 1]) #значение roc_auc\n",
    "    roc_auc_score_list.append(forest_roc_auc_score)\n",
    "\n",
    "estimator_list = list(range(1, 31)) #создаем список значений количества деревьев\n",
    "df_forest_bal = pd.DataFrame({ #созаем датафрейм\n",
    "    'estimator': estimator_list, #количество - из списка\n",
    "    'accuracy_valid_forest': accuracy_valid_forest_list, #к\n",
    "    'f1_valid_forest': f1_valid_forest_list, #\n",
    "    'roc_auc_score': roc_auc_score_list\n",
    "}) #\n",
    "\n",
    "df_forest_bal.sort_values(by='f1_valid_forest', ascending=False).head(1) #вывод отсортированного датасета с результатами, обучен на лесе"
   ]
  },
  {
   "attachments": {},
   "cell_type": "markdown",
   "metadata": {},
   "source": [
    "#### Случайный лес с глубиной"
   ]
  },
  {
   "cell_type": "code",
   "execution_count": 51,
   "metadata": {},
   "outputs": [
    {
     "name": "stdout",
     "output_type": "stream",
     "text": [
      "F1: 0.6407766990291263 \n",
      "Accuracy: 0.8335 \n",
      "Estimators: 66 \n",
      "Depth: 8\n"
     ]
    }
   ],
   "source": [
    "f1_valid_forest_bal = -0.1 #задаем параметры для циклов. отрицательная f1\n",
    "best_est_bal = 0 #деревьев 0\n",
    "best_depth_bal = 0 #глубина 0\n",
    "best_accuracy_bal = 0 #\n",
    "for est in range(51, 71, 5): #количество деревьев варьируем от 1 до 30 с шагом 5\n",
    "    for depth in range (1, 15): #глубина\n",
    "        model_forest_depth = RandomForestClassifier(random_state=RANDOM_STATE, n_estimators=est, max_depth=depth, class_weight='balanced') #модель леса с меняющимся количеством деревьев и глубиной\n",
    "        model_forest_depth.fit(features_train, target_train) #обучение модели на тренировочной выборке\n",
    "        predictions_forest_depth_valid = model_forest_depth.predict(features_valid) #предсказание на основе валидационных признаков\n",
    "        accuracy_valid_forest_depth = accuracy_score(target_valid, predictions_forest_depth_valid) #accuracy\n",
    "        f1_valid_forest_depth = f1_score(target_valid, predictions_forest_depth_valid) #f1\n",
    "        if f1_valid_forest_depth > f1_valid_forest_bal: #сравнение с начальным значением, если удовлетворяет, то:\n",
    "            f1_valid_forest_bal = f1_valid_forest_depth #переназначаем начальное значение\n",
    "            best_est_bal = est #количество\n",
    "            best_depth_bal = depth #глубина\n",
    "            best_accuracy_bal = accuracy_valid_forest_depth #\n",
    "print(\"F1:\", f1_valid_forest_bal, '\\nAccuracy:', best_accuracy_bal, '\\nEstimators:', best_est_bal, '\\nDepth:', best_depth_bal) #вывод"
   ]
  },
  {
   "attachments": {},
   "cell_type": "markdown",
   "metadata": {},
   "source": [
    "Заранее проведя расчет очень крупного леса, берем диапазон значений `est`, дающий значение `F1`, близкое к максимальному. Метрика F1 увеличилась до 0.641, благодаря балансировке классов."
   ]
  },
  {
   "cell_type": "code",
   "execution_count": 52,
   "metadata": {},
   "outputs": [
    {
     "data": {
      "text/plain": [
       "0.862640445635185"
      ]
     },
     "execution_count": 52,
     "metadata": {},
     "output_type": "execute_result"
    }
   ],
   "source": [
    "model_forest_depth = RandomForestClassifier(random_state=RANDOM_STATE, n_estimators=66, max_depth=8, class_weight='balanced') \n",
    "model_forest_depth.fit(features_train, target_train)\n",
    "roc_auc_score_for_bal = roc_auc_score(target_valid, model_forest_depth.predict_proba(features_valid)[:, 1]) #значение roc_auc\n",
    "roc_auc_score_for_bal"
   ]
  },
  {
   "attachments": {},
   "cell_type": "markdown",
   "metadata": {},
   "source": [
    "Добавив к перебору гиперпараметров моделей взвешивание классов, мы получили новые значения метрик F1. Все новые значения метрики F1 получились выше, чем при обучении с дисбалансом. Ниже представлена таблица с результатами."
   ]
  },
  {
   "cell_type": "code",
   "execution_count": 53,
   "metadata": {},
   "outputs": [],
   "source": [
    "# Создаем датасет с набором полученных ранее значений.\n",
    "\n",
    "model_list = [\n",
    "    'Логистическая регрессия', \n",
    "    'Дерево решений', \n",
    "    'Случайный лес', \n",
    "    'Случайный лес с глубиной'\n",
    "\n",
    "    ]\n",
    "    \n",
    "f1_list = [\n",
    "    f1_log_reg_bal, \n",
    "    df_trees_bal['f1_valid_trees'].max(), \n",
    "    df_forest_bal['f1_valid_forest'].max(), \n",
    "    f1_valid_forest_bal\n",
    "    ]\n",
    "\n",
    "accuracy_list = [\n",
    "    accuracy_log_reg_bal, \n",
    "    df_trees_bal.sort_values(by='f1_valid_trees', ascending=False).head(1)['accuracy_valid_trees'].max(), \n",
    "    df_forest_bal.sort_values(by='f1_valid_forest', ascending=False).head(1)['accuracy_valid_forest'].max(), \n",
    "    best_accuracy_bal\n",
    "    ]\n",
    "\n",
    "depth_list = [\n",
    "    '-', \n",
    "    df_trees_bal.sort_values(by='f1_valid_trees', ascending=False).head(1)['Depth'].max(), \n",
    "    '-', \n",
    "    best_depth_bal\n",
    "    ]\n",
    "\n",
    "estimators_list = [\n",
    "    '-', \n",
    "    '-', \n",
    "    df_forest_bal.sort_values(by='f1_valid_forest', ascending=False).head(1)['estimator'].max(), \n",
    "    best_est_bal\n",
    "    ]\n",
    "\n",
    "auc_roc_list = [\n",
    "    roc_auc_log_reg_bal, \n",
    "    df_trees_bal.sort_values(by='f1_valid_trees', ascending=False).head(1)['roc_auc_score'].max(), \n",
    "    df_forest_bal.sort_values(by='f1_valid_forest', ascending=False).head(1)['roc_auc_score'].max(), \n",
    "    roc_auc_score_for_bal\n",
    "    ]\n",
    "\n",
    "balance = pd.DataFrame({ #созаем датафрейм\n",
    "    'Model': model_list, #глубина - из списка\n",
    "    'F1': f1_list, #качество валидационных данных\n",
    "    'Accuracy': accuracy_list, #качество тренировочных данных\n",
    "    'Depth': depth_list,\n",
    "    'Estimators': estimators_list,\n",
    "    'AUC-ROC': auc_roc_list\n",
    "}) #\n"
   ]
  },
  {
   "cell_type": "code",
   "execution_count": 54,
   "metadata": {},
   "outputs": [
    {
     "data": {
      "text/html": [
       "<style  type=\"text/css\" >\n",
       "</style><table id=\"T_44169_\" ><caption>Вес класса - баланс</caption><thead>    <tr>        <th class=\"blank level0\" ></th>        <th class=\"col_heading level0 col0\" >Model</th>        <th class=\"col_heading level0 col1\" >F1</th>        <th class=\"col_heading level0 col2\" >Accuracy</th>        <th class=\"col_heading level0 col3\" >Depth</th>        <th class=\"col_heading level0 col4\" >Estimators</th>        <th class=\"col_heading level0 col5\" >AUC-ROC</th>    </tr></thead><tbody>\n",
       "                <tr>\n",
       "                        <th id=\"T_44169_level0_row0\" class=\"row_heading level0 row0\" >0</th>\n",
       "                        <td id=\"T_44169_row0_col0\" class=\"data row0 col0\" >Логистическая регрессия</td>\n",
       "                        <td id=\"T_44169_row0_col1\" class=\"data row0 col1\" >0.508044</td>\n",
       "                        <td id=\"T_44169_row0_col2\" class=\"data row0 col2\" >0.709500</td>\n",
       "                        <td id=\"T_44169_row0_col3\" class=\"data row0 col3\" >-</td>\n",
       "                        <td id=\"T_44169_row0_col4\" class=\"data row0 col4\" >-</td>\n",
       "                        <td id=\"T_44169_row0_col5\" class=\"data row0 col5\" >0.776072</td>\n",
       "            </tr>\n",
       "            <tr>\n",
       "                        <th id=\"T_44169_level0_row1\" class=\"row_heading level0 row1\" >1</th>\n",
       "                        <td id=\"T_44169_row1_col0\" class=\"data row1 col0\" >Дерево решений</td>\n",
       "                        <td id=\"T_44169_row1_col1\" class=\"data row1 col1\" >0.593002</td>\n",
       "                        <td id=\"T_44169_row1_col2\" class=\"data row1 col2\" >0.779000</td>\n",
       "                        <td id=\"T_44169_row1_col3\" class=\"data row1 col3\" >7</td>\n",
       "                        <td id=\"T_44169_row1_col4\" class=\"data row1 col4\" >-</td>\n",
       "                        <td id=\"T_44169_row1_col5\" class=\"data row1 col5\" >0.843009</td>\n",
       "            </tr>\n",
       "            <tr>\n",
       "                        <th id=\"T_44169_level0_row2\" class=\"row_heading level0 row2\" >2</th>\n",
       "                        <td id=\"T_44169_row2_col0\" class=\"data row2 col0\" >Случайный лес</td>\n",
       "                        <td id=\"T_44169_row2_col1\" class=\"data row2 col1\" >0.582609</td>\n",
       "                        <td id=\"T_44169_row2_col2\" class=\"data row2 col2\" >0.856000</td>\n",
       "                        <td id=\"T_44169_row2_col3\" class=\"data row2 col3\" >-</td>\n",
       "                        <td id=\"T_44169_row2_col4\" class=\"data row2 col4\" >11</td>\n",
       "                        <td id=\"T_44169_row2_col5\" class=\"data row2 col5\" >0.826596</td>\n",
       "            </tr>\n",
       "            <tr>\n",
       "                        <th id=\"T_44169_level0_row3\" class=\"row_heading level0 row3\" >3</th>\n",
       "                        <td id=\"T_44169_row3_col0\" class=\"data row3 col0\" >Случайный лес с глубиной</td>\n",
       "                        <td id=\"T_44169_row3_col1\" class=\"data row3 col1\" >0.640777</td>\n",
       "                        <td id=\"T_44169_row3_col2\" class=\"data row3 col2\" >0.833500</td>\n",
       "                        <td id=\"T_44169_row3_col3\" class=\"data row3 col3\" >8</td>\n",
       "                        <td id=\"T_44169_row3_col4\" class=\"data row3 col4\" >66</td>\n",
       "                        <td id=\"T_44169_row3_col5\" class=\"data row3 col5\" >0.862640</td>\n",
       "            </tr>\n",
       "    </tbody></table>"
      ],
      "text/plain": [
       "<pandas.io.formats.style.Styler at 0x7fab39134eb0>"
      ]
     },
     "execution_count": 54,
     "metadata": {},
     "output_type": "execute_result"
    }
   ],
   "source": [
    "balance = balance.style.set_caption(\"Вес класса - баланс\")\n",
    "balance"
   ]
  },
  {
   "attachments": {},
   "cell_type": "markdown",
   "metadata": {},
   "source": [
    "### Увеличение выборки"
   ]
  },
  {
   "cell_type": "code",
   "execution_count": 55,
   "metadata": {},
   "outputs": [],
   "source": [
    "def upsample(features, target, repeat): #создаем функцию с тремя переменными, в том числе число повторов\n",
    "    features_zeros = features[target == 0] # делим выборки на нулевые и единичные\n",
    "    features_ones = features[target == 1] #\n",
    "    target_zeros = target[target == 0] #\n",
    "    target_ones = target[target == 1] #\n",
    "\n",
    "    #т.к. 1 было меньше, делаем выборки с увеличением класса 1 \n",
    "    features_upsampled = pd.concat([features_zeros] + [features_ones] * repeat)  \n",
    "    target_upsampled = pd.concat([target_zeros] + [target_ones] * repeat) #\n",
    "    \n",
    "     #перемешиваем полученные выборки\n",
    "    features_upsampled, target_upsampled = shuffle(\n",
    "        features_upsampled, target_upsampled, random_state=RANDOM_STATE)\n",
    "    \n",
    "    return features_upsampled, target_upsampled  #возвращаем выборки\n",
    "\n",
    "#третяя переменная repeat=4, т.к. класс 0 > класса 1 в 4 раза.\n",
    "features_upsampled, target_upsampled = upsample(features_train, target_train, 4) "
   ]
  },
  {
   "attachments": {},
   "cell_type": "markdown",
   "metadata": {},
   "source": [
    "#### Логистическая регрессия"
   ]
  },
  {
   "cell_type": "code",
   "execution_count": 56,
   "metadata": {},
   "outputs": [
    {
     "name": "stdout",
     "output_type": "stream",
     "text": [
      "F1: 0.5067796610169492\n"
     ]
    }
   ],
   "source": [
    "log_reg_up = LogisticRegression(random_state=RANDOM_STATE, solver='liblinear')\n",
    "log_reg_up.fit(features_upsampled, target_upsampled) #обучение на увеличенной выборке\n",
    "prediction_log_reg_up = log_reg_up.predict(features_valid)\n",
    "f1_log_upsample = f1_score(target_valid, prediction_log_reg_up)\n",
    "print(\"F1:\", f1_log_upsample)\n",
    "accuracy_log_upsample = accuracy_score(target_valid, prediction_log_reg_up)\n",
    "roc_auc_score_log_upsample = roc_auc_score(target_valid, log_reg_up.predict_proba(features_valid)[:, 1]) #значение roc_auc"
   ]
  },
  {
   "attachments": {},
   "cell_type": "markdown",
   "metadata": {},
   "source": [
    "Результат немного хуже, чем при балансировке веса. Но, тем не менее, намного выше, чем при отсутствии любого вида баланса классов."
   ]
  },
  {
   "attachments": {},
   "cell_type": "markdown",
   "metadata": {},
   "source": [
    "#### Дерево решений"
   ]
  },
  {
   "cell_type": "code",
   "execution_count": 57,
   "metadata": {},
   "outputs": [
    {
     "data": {
      "text/html": [
       "<div>\n",
       "<style scoped>\n",
       "    .dataframe tbody tr th:only-of-type {\n",
       "        vertical-align: middle;\n",
       "    }\n",
       "\n",
       "    .dataframe tbody tr th {\n",
       "        vertical-align: top;\n",
       "    }\n",
       "\n",
       "    .dataframe thead th {\n",
       "        text-align: right;\n",
       "    }\n",
       "</style>\n",
       "<table border=\"1\" class=\"dataframe\">\n",
       "  <thead>\n",
       "    <tr style=\"text-align: right;\">\n",
       "      <th></th>\n",
       "      <th>Depth</th>\n",
       "      <th>accuracy_valid_trees</th>\n",
       "      <th>f1_valid_trees</th>\n",
       "      <th>roc_auc_score</th>\n",
       "    </tr>\n",
       "  </thead>\n",
       "  <tbody>\n",
       "    <tr>\n",
       "      <th>6</th>\n",
       "      <td>7</td>\n",
       "      <td>0.78</td>\n",
       "      <td>0.593346</td>\n",
       "      <td>0.842775</td>\n",
       "    </tr>\n",
       "  </tbody>\n",
       "</table>\n",
       "</div>"
      ],
      "text/plain": [
       "   Depth  accuracy_valid_trees  f1_valid_trees  roc_auc_score\n",
       "6      7                  0.78        0.593346       0.842775"
      ]
     },
     "execution_count": 57,
     "metadata": {},
     "output_type": "execute_result"
    }
   ],
   "source": [
    "accuracy_valid_trees_list = [] #создаем пустой список accuracy\n",
    "f1_valid_trees_list = [] #создаем пустой список f1\n",
    "roc_auc_score_list = []\n",
    "\n",
    "for depth in range(1, 16): #цикл для глубины дерева, до 15\n",
    "    model_trees = DecisionTreeClassifier(random_state=RANDOM_STATE, max_depth=depth) #модель дерева решений с меняющейся глубиной\n",
    "    model_trees.fit(features_upsampled, target_upsampled) #обучение модели на увеличенной выборке\n",
    "    predictions_trees_valid = model_trees.predict(features_valid) #предсказание целевого признака на основе валидационных признаков\n",
    "    accuracy_valid_trees = accuracy_score(target_valid, predictions_trees_valid) #accuracy\n",
    "    accuracy_valid_trees_list.append(accuracy_valid_trees) #добавление оценки точности в список\n",
    "    f1_valid_trees = f1_score(target_valid, predictions_trees_valid) #f1 метрика\n",
    "    f1_valid_trees_list.append(f1_valid_trees) #добавление оценки f1 в список\n",
    "    trees_roc_auc_score = roc_auc_score(target_valid, model_trees.predict_proba(features_valid)[:, 1]) #значение roc_auc\n",
    "    roc_auc_score_list.append(trees_roc_auc_score)\n",
    "\n",
    "depth_list = list(range(1, 16)) #создаем список значений глубины дерева\n",
    "df_trees_up = pd.DataFrame({ #созаем датафрейм\n",
    "    'Depth': depth_list, #глубина - из списка\n",
    "    'accuracy_valid_trees': accuracy_valid_trees_list, #качество тренировочных данных\n",
    "    'f1_valid_trees': f1_valid_trees_list, #качество валидационных данных\n",
    "    'roc_auc_score': roc_auc_score_list\n",
    "}) \n",
    "\n",
    "df_trees_up.sort_values(by='f1_valid_trees', ascending=False).head(1) #вывод отсортированного датасета с результатами, обучен на дереве"
   ]
  },
  {
   "attachments": {},
   "cell_type": "markdown",
   "metadata": {},
   "source": [
    "При увеличении выборки качество F1 метрики для дерева немного выросло."
   ]
  },
  {
   "attachments": {},
   "cell_type": "markdown",
   "metadata": {},
   "source": [
    "#### Случайный лес"
   ]
  },
  {
   "cell_type": "code",
   "execution_count": 58,
   "metadata": {},
   "outputs": [
    {
     "data": {
      "text/html": [
       "<div>\n",
       "<style scoped>\n",
       "    .dataframe tbody tr th:only-of-type {\n",
       "        vertical-align: middle;\n",
       "    }\n",
       "\n",
       "    .dataframe tbody tr th {\n",
       "        vertical-align: top;\n",
       "    }\n",
       "\n",
       "    .dataframe thead th {\n",
       "        text-align: right;\n",
       "    }\n",
       "</style>\n",
       "<table border=\"1\" class=\"dataframe\">\n",
       "  <thead>\n",
       "    <tr style=\"text-align: right;\">\n",
       "      <th></th>\n",
       "      <th>estimator</th>\n",
       "      <th>accuracy_valid_forest</th>\n",
       "      <th>f1_valid_forest</th>\n",
       "      <th>roc_auc_score</th>\n",
       "    </tr>\n",
       "  </thead>\n",
       "  <tbody>\n",
       "    <tr>\n",
       "      <th>26</th>\n",
       "      <td>27</td>\n",
       "      <td>0.8545</td>\n",
       "      <td>0.608345</td>\n",
       "      <td>0.838481</td>\n",
       "    </tr>\n",
       "  </tbody>\n",
       "</table>\n",
       "</div>"
      ],
      "text/plain": [
       "    estimator  accuracy_valid_forest  f1_valid_forest  roc_auc_score\n",
       "26         27                 0.8545         0.608345       0.838481"
      ]
     },
     "execution_count": 58,
     "metadata": {},
     "output_type": "execute_result"
    }
   ],
   "source": [
    "accuracy_valid_forest_list = [] #создаем пустой список accuracy\n",
    "f1_valid_forest_list = [] #создаем пустой список f1\n",
    "roc_auc_score_list = []\n",
    "\n",
    "for value in range(1, 31): #цикл для глубины дерева, до 30\n",
    "    model_forest = RandomForestClassifier(random_state=RANDOM_STATE, n_estimators=value) #модель леса с меняющимся количеством деревьев\n",
    "    model_forest.fit(features_upsampled, target_upsampled) #обучение модели на увеличенной выборке\n",
    "    predictions_forest_valid = model_forest.predict(features_valid) #предсказание на основе валидационных признаков\n",
    "    accuracy_valid_forest = accuracy_score(target_valid, predictions_forest_valid) #accuracy метрика\n",
    "    accuracy_valid_forest_list.append(accuracy_valid_forest) #добавление в список\n",
    "    f1_valid_forest = f1_score(target_valid, predictions_forest_valid) #f1 метрика\n",
    "    f1_valid_forest_list.append(f1_valid_forest) #добавление в список\n",
    "    forest_roc_auc_score = roc_auc_score(target_valid, model_forest.predict_proba(features_valid)[:, 1]) #значение roc_auc\n",
    "    roc_auc_score_list.append(forest_roc_auc_score)\n",
    "\n",
    "estimator_list = list(range(1, 31)) #создаем список значений количества деревьев\n",
    "df_forest_up = pd.DataFrame({ #созаем датафрейм\n",
    "    'estimator': estimator_list, #количество - из списка\n",
    "    'accuracy_valid_forest': accuracy_valid_forest_list, #к\n",
    "    'f1_valid_forest': f1_valid_forest_list, #\n",
    "    'roc_auc_score': roc_auc_score_list\n",
    "}) #\n",
    "\n",
    "df_forest_up.sort_values(by='f1_valid_forest', ascending=False).head(1) #вывод отсортированного датасета с результатами, обучен на лесе"
   ]
  },
  {
   "attachments": {},
   "cell_type": "markdown",
   "metadata": {},
   "source": [
    "#### Случайный лес с глубиной"
   ]
  },
  {
   "cell_type": "code",
   "execution_count": 59,
   "metadata": {},
   "outputs": [
    {
     "name": "stdout",
     "output_type": "stream",
     "text": [
      "F1: 0.6292629262926293 \n",
      "Accuracy: 0.8315 \n",
      "Estimators: 26 \n",
      "Depth: 10\n"
     ]
    }
   ],
   "source": [
    "f1_valid_forest_up = -0.1 #задаем параметры для циклов. отрицательная f1\n",
    "best_est_up = 0 #деревьев 0\n",
    "best_depth_up = 0 #глубина 0\n",
    "best_accuracy_up = 0 #\n",
    "for est in range(1, 31, 5): #количество деревьев варьируем от 1 до 30 с шагом 5\n",
    "    for depth in range (1, 15): #глубина\n",
    "        model_forest_depth = RandomForestClassifier(random_state=RANDOM_STATE, n_estimators=est, max_depth=depth) #модель леса с меняющимся количеством деревьев и глубиной\n",
    "        model_forest_depth.fit(features_upsampled, target_upsampled) #обучение модели на увеличенной выборке\n",
    "        predictions_forest_depth_valid = model_forest_depth.predict(features_valid) #предсказание на основе валидационных признаков\n",
    "        accuracy_valid_forest_depth = accuracy_score(target_valid, predictions_forest_depth_valid) #accuracy\n",
    "        f1_valid_forest_depth = f1_score(target_valid, predictions_forest_depth_valid) #f1\n",
    "        if f1_valid_forest_depth > f1_valid_forest_up: #сравнение с начальным значением, если удовлетворяет, то:\n",
    "            f1_valid_forest_up = f1_valid_forest_depth #переназначаем начальное значение\n",
    "            best_est_up = est #количество\n",
    "            best_depth_up = depth #глубина\n",
    "            best_accuracy_up = accuracy_valid_forest_depth #\n",
    "print(\"F1:\", f1_valid_forest_up, '\\nAccuracy:', best_accuracy_up, '\\nEstimators:', best_est_up, '\\nDepth:', best_depth_up) #вывод"
   ]
  },
  {
   "cell_type": "code",
   "execution_count": 60,
   "metadata": {},
   "outputs": [
    {
     "data": {
      "text/plain": [
       "0.8555581797313011"
      ]
     },
     "execution_count": 60,
     "metadata": {},
     "output_type": "execute_result"
    }
   ],
   "source": [
    "model_forest_depth = RandomForestClassifier(random_state=RANDOM_STATE, n_estimators=26, max_depth=10) \n",
    "model_forest_depth.fit(features_upsampled, target_upsampled)\n",
    "roc_auc_score_for_up = roc_auc_score(target_valid, model_forest_depth.predict_proba(features_valid)[:, 1]) #значение roc_auc\n",
    "roc_auc_score_for_up"
   ]
  },
  {
   "attachments": {},
   "cell_type": "markdown",
   "metadata": {},
   "source": [
    "При использовании `upsample` видим, что случайный лес возвращает наибольшее значение F1 ~0.63, что является лучшим показателем, чем случайный лес при увеличенной выборке, но хуже, чем лес с глубиной при балансе."
   ]
  },
  {
   "cell_type": "code",
   "execution_count": 61,
   "metadata": {},
   "outputs": [],
   "source": [
    "# Создаем датасет с набором полученных ранее значений.\n",
    "\n",
    "model_list = [\n",
    "    'Логистическая регрессия', \n",
    "    'Дерево решений', \n",
    "    'Случайный лес', \n",
    "    'Случайный лес с глубиной'\n",
    "\n",
    "    ]\n",
    "    \n",
    "f1_list = [\n",
    "    f1_log_upsample, \n",
    "    df_trees_up['f1_valid_trees'].max(), \n",
    "    df_forest_up['f1_valid_forest'].max(), \n",
    "    f1_valid_forest_up\n",
    "    ]\n",
    "\n",
    "accuracy_list = [\n",
    "    accuracy_log_upsample, \n",
    "    df_trees_up.sort_values(by='f1_valid_trees', ascending=False).head(1)['accuracy_valid_trees'].max(), \n",
    "    df_forest_up.sort_values(by='f1_valid_forest', ascending=False).head(1)['accuracy_valid_forest'].max(), \n",
    "    best_accuracy_up\n",
    "    ]\n",
    "\n",
    "depth_list = [\n",
    "    '-', \n",
    "    df_trees_up.sort_values(by='f1_valid_trees', ascending=False).head(1)['Depth'].max(), \n",
    "    '-', \n",
    "    best_depth_up\n",
    "    ]\n",
    "\n",
    "estimators_list = [\n",
    "    '-', \n",
    "    '-', \n",
    "    df_forest_up.sort_values(by='f1_valid_forest', ascending=False).head(1)['estimator'].max(), \n",
    "    best_est_up\n",
    "    ]\n",
    "\n",
    "auc_roc_list = [\n",
    "    roc_auc_score_log_upsample, \n",
    "    df_trees_up.sort_values(by='f1_valid_trees', ascending=False).head(1)['roc_auc_score'].max(), \n",
    "    df_forest_up.sort_values(by='f1_valid_forest', ascending=False).head(1)['roc_auc_score'].max(), \n",
    "    roc_auc_score_for_up\n",
    "    ]\n",
    "\n",
    "upsample_table = pd.DataFrame({ #созаем датафрейм\n",
    "    'Model': model_list, #глубина - из списка\n",
    "    'F1': f1_list, #качество валидационных данных\n",
    "    'Accuracy': accuracy_list, #качество тренировочных данных\n",
    "    'Depth': depth_list,\n",
    "    'Estimators': estimators_list,\n",
    "    'AUC-ROC': auc_roc_list\n",
    "}) #"
   ]
  },
  {
   "cell_type": "code",
   "execution_count": 62,
   "metadata": {},
   "outputs": [
    {
     "data": {
      "text/html": [
       "<style  type=\"text/css\" >\n",
       "</style><table id=\"T_5f703_\" ><caption>Увеличение выборки</caption><thead>    <tr>        <th class=\"blank level0\" ></th>        <th class=\"col_heading level0 col0\" >Model</th>        <th class=\"col_heading level0 col1\" >F1</th>        <th class=\"col_heading level0 col2\" >Accuracy</th>        <th class=\"col_heading level0 col3\" >Depth</th>        <th class=\"col_heading level0 col4\" >Estimators</th>        <th class=\"col_heading level0 col5\" >AUC-ROC</th>    </tr></thead><tbody>\n",
       "                <tr>\n",
       "                        <th id=\"T_5f703_level0_row0\" class=\"row_heading level0 row0\" >0</th>\n",
       "                        <td id=\"T_5f703_row0_col0\" class=\"data row0 col0\" >Логистическая регрессия</td>\n",
       "                        <td id=\"T_5f703_row0_col1\" class=\"data row0 col1\" >0.506780</td>\n",
       "                        <td id=\"T_5f703_row0_col2\" class=\"data row0 col2\" >0.709000</td>\n",
       "                        <td id=\"T_5f703_row0_col3\" class=\"data row0 col3\" >-</td>\n",
       "                        <td id=\"T_5f703_row0_col4\" class=\"data row0 col4\" >-</td>\n",
       "                        <td id=\"T_5f703_row0_col5\" class=\"data row0 col5\" >0.776053</td>\n",
       "            </tr>\n",
       "            <tr>\n",
       "                        <th id=\"T_5f703_level0_row1\" class=\"row_heading level0 row1\" >1</th>\n",
       "                        <td id=\"T_5f703_row1_col0\" class=\"data row1 col0\" >Дерево решений</td>\n",
       "                        <td id=\"T_5f703_row1_col1\" class=\"data row1 col1\" >0.593346</td>\n",
       "                        <td id=\"T_5f703_row1_col2\" class=\"data row1 col2\" >0.780000</td>\n",
       "                        <td id=\"T_5f703_row1_col3\" class=\"data row1 col3\" >7</td>\n",
       "                        <td id=\"T_5f703_row1_col4\" class=\"data row1 col4\" >-</td>\n",
       "                        <td id=\"T_5f703_row1_col5\" class=\"data row1 col5\" >0.842775</td>\n",
       "            </tr>\n",
       "            <tr>\n",
       "                        <th id=\"T_5f703_level0_row2\" class=\"row_heading level0 row2\" >2</th>\n",
       "                        <td id=\"T_5f703_row2_col0\" class=\"data row2 col0\" >Случайный лес</td>\n",
       "                        <td id=\"T_5f703_row2_col1\" class=\"data row2 col1\" >0.608345</td>\n",
       "                        <td id=\"T_5f703_row2_col2\" class=\"data row2 col2\" >0.854500</td>\n",
       "                        <td id=\"T_5f703_row2_col3\" class=\"data row2 col3\" >-</td>\n",
       "                        <td id=\"T_5f703_row2_col4\" class=\"data row2 col4\" >27</td>\n",
       "                        <td id=\"T_5f703_row2_col5\" class=\"data row2 col5\" >0.838481</td>\n",
       "            </tr>\n",
       "            <tr>\n",
       "                        <th id=\"T_5f703_level0_row3\" class=\"row_heading level0 row3\" >3</th>\n",
       "                        <td id=\"T_5f703_row3_col0\" class=\"data row3 col0\" >Случайный лес с глубиной</td>\n",
       "                        <td id=\"T_5f703_row3_col1\" class=\"data row3 col1\" >0.629263</td>\n",
       "                        <td id=\"T_5f703_row3_col2\" class=\"data row3 col2\" >0.831500</td>\n",
       "                        <td id=\"T_5f703_row3_col3\" class=\"data row3 col3\" >10</td>\n",
       "                        <td id=\"T_5f703_row3_col4\" class=\"data row3 col4\" >26</td>\n",
       "                        <td id=\"T_5f703_row3_col5\" class=\"data row3 col5\" >0.855558</td>\n",
       "            </tr>\n",
       "    </tbody></table>"
      ],
      "text/plain": [
       "<pandas.io.formats.style.Styler at 0x7fab38e73340>"
      ]
     },
     "execution_count": 62,
     "metadata": {},
     "output_type": "execute_result"
    }
   ],
   "source": [
    "upsample_table = upsample_table.style.set_caption(\"Увеличение выборки\")\n",
    "upsample_table"
   ]
  },
  {
   "attachments": {},
   "cell_type": "markdown",
   "metadata": {},
   "source": [
    "### Уменьшение выборки"
   ]
  },
  {
   "cell_type": "code",
   "execution_count": 63,
   "metadata": {},
   "outputs": [],
   "source": [
    "def downsample(features, target, fraction): #создаем функцию с тремя переменными\n",
    "    features_zeros = features[target == 0] #делим выборки на 0 и 1\n",
    "    features_ones = features[target == 1]\n",
    "    target_zeros = target[target == 0]\n",
    "    target_ones = target[target == 1]\n",
    "\n",
    "    # делаем новые выборки с прореженным случайным образом классом 0\n",
    "    features_downsampled = pd.concat(\n",
    "        [features_zeros.sample(frac=fraction, random_state=RANDOM_STATE)] + [features_ones])\n",
    "    target_downsampled = pd.concat(\n",
    "        [target_zeros.sample(frac=fraction, random_state=RANDOM_STATE)] + [target_ones])\n",
    "\n",
    "    #перемешиваем\n",
    "    features_downsampled, target_downsampled = shuffle(features_downsampled, target_downsampled, random_state=RANDOM_STATE)\n",
    "\n",
    "    #возвращаем\n",
    "    return features_downsampled, target_downsampled\n",
    "\n",
    "#третья переменная - коэффициент уменьшения (0.25 = уменьшить в 4 раза)\n",
    "features_downsampled, target_downsampled = downsample(features_train, target_train, 0.25)"
   ]
  },
  {
   "attachments": {},
   "cell_type": "markdown",
   "metadata": {},
   "source": [
    "#### Логистическая регрессия"
   ]
  },
  {
   "cell_type": "code",
   "execution_count": 64,
   "metadata": {},
   "outputs": [
    {
     "name": "stdout",
     "output_type": "stream",
     "text": [
      "F1: 0.505902192242833\n",
      "AUC-ROC: 0.7746551757855102\n"
     ]
    }
   ],
   "source": [
    "model = LogisticRegression(random_state=RANDOM_STATE, solver='liblinear')\n",
    "model.fit(features_downsampled, target_downsampled) #обучаем на уменьшенной выборке\n",
    "predicted_valid = model.predict(features_valid)\n",
    "f1_down = f1_score(target_valid, predicted_valid)\n",
    "roc_auc_score_log_down = roc_auc_score(target_valid, model.predict_proba(features_valid)[:, 1]) #значение roc_auc\n",
    "print(\"F1:\", f1_down)\n",
    "print(\"AUC-ROC:\", roc_auc_score_log_down)"
   ]
  },
  {
   "attachments": {},
   "cell_type": "markdown",
   "metadata": {},
   "source": [
    "Значение даже выше, чем при увеличении выборки. Проверим дополнительно только на случайном лесе с глубиной. Так как эта модель является самой точной для всего, что мы проверили, тогда, если она покажет невысокое значение метрики F1 - мы не будем рассматривать метод на остальных моделях."
   ]
  },
  {
   "attachments": {},
   "cell_type": "markdown",
   "metadata": {},
   "source": [
    "#### Случайный лес с глубиной"
   ]
  },
  {
   "cell_type": "code",
   "execution_count": 65,
   "metadata": {},
   "outputs": [
    {
     "name": "stdout",
     "output_type": "stream",
     "text": [
      "F1: 0.6015473887814313 \n",
      "Accuracy: 0.794 \n",
      "Estimators: 26 \n",
      "Depth: 4\n"
     ]
    }
   ],
   "source": [
    "f1_valid_forest0 = -0.1 #задаем параметры для циклов. отрицательная f1\n",
    "best_est = 0 #деревьев 0\n",
    "best_depth = 0 #глубина 0\n",
    "best_accuracy = 0 #\n",
    "for est in range(1, 31, 5): #количество деревьев варьируем от 1 до 30 с шагом 5\n",
    "    for depth in range (1, 15): #глубина\n",
    "        model_forest_depth = RandomForestClassifier(random_state=RANDOM_STATE, n_estimators=est, max_depth=depth) #модель леса с меняющимся количеством деревьев и глубиной\n",
    "        model_forest_depth.fit(features_downsampled, target_downsampled) #обучаем на уменьшенной выборке\n",
    "        predictions_forest_depth_valid = model_forest_depth.predict(features_valid) #предсказание на основе валидационных признаков\n",
    "        accuracy_valid_forest_depth = accuracy_score(target_valid, predictions_forest_depth_valid) #accuracy\n",
    "        f1_valid_forest_depth = f1_score(target_valid, predictions_forest_depth_valid) #f1\n",
    "        if f1_valid_forest_depth > f1_valid_forest0: #сравнение с начальным значением, если удовлетворяет, то:\n",
    "            f1_valid_forest0 = f1_valid_forest_depth #переназначаем начальное значение\n",
    "            best_est = est #количество\n",
    "            best_depth = depth #глубина\n",
    "            best_accuracy = accuracy_valid_forest_depth #\n",
    "print(\"F1:\", f1_valid_forest0, '\\nAccuracy:', best_accuracy, '\\nEstimators:', best_est, '\\nDepth:', best_depth) #вывод"
   ]
  },
  {
   "attachments": {},
   "cell_type": "markdown",
   "metadata": {},
   "source": [
    "Значение метрики упало. Другие модели тестировать не будем."
   ]
  },
  {
   "attachments": {},
   "cell_type": "markdown",
   "metadata": {},
   "source": [
    "### Изменение значения порога"
   ]
  },
  {
   "attachments": {},
   "cell_type": "markdown",
   "metadata": {},
   "source": [
    "Построим график зависимости точности и полноты от порога для модели classifier (случайного леса):"
   ]
  },
  {
   "cell_type": "code",
   "execution_count": 66,
   "metadata": {},
   "outputs": [
    {
     "data": {
      "image/png": "[encoded data removed]",
      "text/plain": [
       "<Figure size 432x288 with 1 Axes>"
      ]
     },
     "metadata": {
      "needs_background": "light"
     },
     "output_type": "display_data"
    }
   ],
   "source": [
    "#перебор порогов на основе валид. фич, на классе 1,\n",
    "features_valid_scores = model_forest_depth.predict_proba(features_valid)[:, 1] \n",
    "\n",
    "#строим кривые\n",
    "precision, recall, thresholds = precision_recall_curve(target_valid, features_valid_scores)\n",
    "\n",
    "#задаем параметры графика\n",
    "plt.plot(thresholds, precision[:-1], \"g-\", label=\"Precision\")\n",
    "plt.plot(thresholds, recall[:-1], \"r-\", label=\"Recall\")\n",
    "plt.xlabel(\"Threshold\")\n",
    "plt.legend()\n",
    "plt.show()"
   ]
  },
  {
   "cell_type": "code",
   "execution_count": 67,
   "metadata": {},
   "outputs": [
    {
     "name": "stdout",
     "output_type": "stream",
     "text": [
      "Максимальное значение метрики F1 для выборки, равное 0.6056497175141243 , достигается при значении порога 0.6208791208791209 .\n",
      "Значение precision равно 0.5775862068965517 .\n",
      "Значение recall 0.6365795724465558\n"
     ]
    }
   ],
   "source": [
    "#рассчитываем, при каких значениях метрик получаем максимальный F1\n",
    "f_1 = 0\n",
    "thho = 0\n",
    "answer = 2 * (precision * recall) / (precision + recall)\n",
    "for i in range(len(thresholds)):\n",
    "    if answer[i] > f_1:\n",
    "        f_1 = answer[i]\n",
    "        thho = thresholds[i]\n",
    "        prec = precision[i]\n",
    "        rec = recall[i]\n",
    "\n",
    "print(\"Максимальное значение метрики F1 для выборки, равное\", f_1, ', достигается при значении порога', thho,\n",
    "'.\\nЗначение precision равно', prec, '.\\nЗначение recall', rec)\n"
   ]
  },
  {
   "attachments": {},
   "cell_type": "markdown",
   "metadata": {},
   "source": [
    "При достаточно высоком F1, получили слабые метрики `precision` и `recall`. "
   ]
  },
  {
   "attachments": {},
   "cell_type": "markdown",
   "metadata": {},
   "source": [
    "#### Логистическая регрессия"
   ]
  },
  {
   "cell_type": "code",
   "execution_count": 68,
   "metadata": {},
   "outputs": [
    {
     "name": "stdout",
     "output_type": "stream",
     "text": [
      "Порог = 0.00 | Точность = 0.210, Полнота = 1.000, | f1 = 0.348\n",
      "Порог = 0.05 | Точность = 0.236, Полнота = 0.981, | f1 = 0.380\n",
      "Порог = 0.10 | Точность = 0.280, Полнота = 0.903, | f1 = 0.427\n",
      "Порог = 0.15 | Точность = 0.333, Полнота = 0.815, | f1 = 0.473\n",
      "Порог = 0.20 | Точность = 0.386, Полнота = 0.698, | f1 = 0.497\n",
      "Порог = 0.25 | Точность = 0.427, Полнота = 0.608, | f1 = 0.502\n",
      "Порог = 0.30 | Точность = 0.490, Полнота = 0.518, | f1 = 0.503\n",
      "Порог = 0.35 | Точность = 0.524, Полнота = 0.420, | f1 = 0.466\n",
      "Порог = 0.40 | Точность = 0.558, Полнота = 0.354, | f1 = 0.433\n",
      "Порог = 0.45 | Точность = 0.586, Полнота = 0.283, | f1 = 0.381\n",
      "Порог = 0.50 | Точность = 0.626, Полнота = 0.219, | f1 = 0.324\n",
      "Порог = 0.55 | Точность = 0.691, Полнота = 0.159, | f1 = 0.259\n"
     ]
    }
   ],
   "source": [
    "model = LogisticRegression(random_state=RANDOM_STATE, solver='liblinear')\n",
    "model.fit(features_train, target_train)\n",
    "probabilities_valid = model.predict_proba(features_valid)\n",
    "probabilities_one_valid = probabilities_valid[:, 1]\n",
    "\n",
    "for threshold in np.arange(0.0, 0.6, 0.05):\n",
    "    predicted_valid = probabilities_one_valid > threshold \n",
    "    precision = precision_score(target_valid, predicted_valid)\n",
    "    recall = recall_score(target_valid, predicted_valid)\n",
    "    f1 = f1_score(target_valid, predicted_valid)\n",
    "    print(\"Порог = {:.2f} | Точность = {:.3f}, Полнота = {:.3f}, | f1 = {:.3f}\".format(\n",
    "        threshold, precision, recall, f1))"
   ]
  },
  {
   "attachments": {},
   "cell_type": "markdown",
   "metadata": {},
   "source": [
    "При пороге 0.3 метрика F1 показывает значение 0.503.\n",
    "\n",
    "Изменение значения порога хоть и влияет достаточно сильно на значение метрики F1, но все же в меньшей степени, чем, например, баланс веса класса."
   ]
  },
  {
   "attachments": {},
   "cell_type": "markdown",
   "metadata": {},
   "source": [
    "### Выбор лучшей модели:"
   ]
  },
  {
   "cell_type": "code",
   "execution_count": 69,
   "metadata": {},
   "outputs": [
    {
     "data": {
      "text/html": [
       "<div>\n",
       "<style scoped>\n",
       "    .dataframe tbody tr th:only-of-type {\n",
       "        vertical-align: middle;\n",
       "    }\n",
       "\n",
       "    .dataframe tbody tr th {\n",
       "        vertical-align: top;\n",
       "    }\n",
       "\n",
       "    .dataframe thead th {\n",
       "        text-align: right;\n",
       "    }\n",
       "</style>\n",
       "<table border=\"1\" class=\"dataframe\">\n",
       "  <thead>\n",
       "    <tr style=\"text-align: right;\">\n",
       "      <th></th>\n",
       "      <th>Model</th>\n",
       "      <th>F1</th>\n",
       "      <th>Accuracy</th>\n",
       "      <th>Depth</th>\n",
       "      <th>Estimators</th>\n",
       "      <th>AUC-ROC</th>\n",
       "    </tr>\n",
       "  </thead>\n",
       "  <tbody>\n",
       "    <tr>\n",
       "      <th>0</th>\n",
       "      <td>Логистическая регрессия</td>\n",
       "      <td>0.323944</td>\n",
       "      <td>0.8080</td>\n",
       "      <td>-</td>\n",
       "      <td>-</td>\n",
       "      <td>0.771789</td>\n",
       "    </tr>\n",
       "    <tr>\n",
       "      <th>1</th>\n",
       "      <td>Дерево решений</td>\n",
       "      <td>0.609987</td>\n",
       "      <td>0.8555</td>\n",
       "      <td>7</td>\n",
       "      <td>-</td>\n",
       "      <td>0.845711</td>\n",
       "    </tr>\n",
       "    <tr>\n",
       "      <th>2</th>\n",
       "      <td>Случайный лес</td>\n",
       "      <td>0.588064</td>\n",
       "      <td>0.8585</td>\n",
       "      <td>-</td>\n",
       "      <td>21</td>\n",
       "      <td>0.829789</td>\n",
       "    </tr>\n",
       "    <tr>\n",
       "      <th>3</th>\n",
       "      <td>Случайный лес с глубиной</td>\n",
       "      <td>0.601481</td>\n",
       "      <td>0.8655</td>\n",
       "      <td>15</td>\n",
       "      <td>21</td>\n",
       "      <td>0.837701</td>\n",
       "    </tr>\n",
       "  </tbody>\n",
       "</table>\n",
       "</div>"
      ],
      "text/plain": [
       "                      Model        F1  Accuracy Depth Estimators   AUC-ROC\n",
       "0   Логистическая регрессия  0.323944    0.8080     -          -  0.771789\n",
       "1            Дерево решений  0.609987    0.8555     7          -  0.845711\n",
       "2             Случайный лес  0.588064    0.8585     -         21  0.829789\n",
       "3  Случайный лес с глубиной  0.601481    0.8655    15         21  0.837701"
      ]
     },
     "metadata": {},
     "output_type": "display_data"
    },
    {
     "data": {
      "text/html": [
       "<style  type=\"text/css\" >\n",
       "</style><table id=\"T_44169_\" ><caption>Вес класса - баланс</caption><thead>    <tr>        <th class=\"blank level0\" ></th>        <th class=\"col_heading level0 col0\" >Model</th>        <th class=\"col_heading level0 col1\" >F1</th>        <th class=\"col_heading level0 col2\" >Accuracy</th>        <th class=\"col_heading level0 col3\" >Depth</th>        <th class=\"col_heading level0 col4\" >Estimators</th>        <th class=\"col_heading level0 col5\" >AUC-ROC</th>    </tr></thead><tbody>\n",
       "                <tr>\n",
       "                        <th id=\"T_44169_level0_row0\" class=\"row_heading level0 row0\" >0</th>\n",
       "                        <td id=\"T_44169_row0_col0\" class=\"data row0 col0\" >Логистическая регрессия</td>\n",
       "                        <td id=\"T_44169_row0_col1\" class=\"data row0 col1\" >0.508044</td>\n",
       "                        <td id=\"T_44169_row0_col2\" class=\"data row0 col2\" >0.709500</td>\n",
       "                        <td id=\"T_44169_row0_col3\" class=\"data row0 col3\" >-</td>\n",
       "                        <td id=\"T_44169_row0_col4\" class=\"data row0 col4\" >-</td>\n",
       "                        <td id=\"T_44169_row0_col5\" class=\"data row0 col5\" >0.776072</td>\n",
       "            </tr>\n",
       "            <tr>\n",
       "                        <th id=\"T_44169_level0_row1\" class=\"row_heading level0 row1\" >1</th>\n",
       "                        <td id=\"T_44169_row1_col0\" class=\"data row1 col0\" >Дерево решений</td>\n",
       "                        <td id=\"T_44169_row1_col1\" class=\"data row1 col1\" >0.593002</td>\n",
       "                        <td id=\"T_44169_row1_col2\" class=\"data row1 col2\" >0.779000</td>\n",
       "                        <td id=\"T_44169_row1_col3\" class=\"data row1 col3\" >7</td>\n",
       "                        <td id=\"T_44169_row1_col4\" class=\"data row1 col4\" >-</td>\n",
       "                        <td id=\"T_44169_row1_col5\" class=\"data row1 col5\" >0.843009</td>\n",
       "            </tr>\n",
       "            <tr>\n",
       "                        <th id=\"T_44169_level0_row2\" class=\"row_heading level0 row2\" >2</th>\n",
       "                        <td id=\"T_44169_row2_col0\" class=\"data row2 col0\" >Случайный лес</td>\n",
       "                        <td id=\"T_44169_row2_col1\" class=\"data row2 col1\" >0.582609</td>\n",
       "                        <td id=\"T_44169_row2_col2\" class=\"data row2 col2\" >0.856000</td>\n",
       "                        <td id=\"T_44169_row2_col3\" class=\"data row2 col3\" >-</td>\n",
       "                        <td id=\"T_44169_row2_col4\" class=\"data row2 col4\" >11</td>\n",
       "                        <td id=\"T_44169_row2_col5\" class=\"data row2 col5\" >0.826596</td>\n",
       "            </tr>\n",
       "            <tr>\n",
       "                        <th id=\"T_44169_level0_row3\" class=\"row_heading level0 row3\" >3</th>\n",
       "                        <td id=\"T_44169_row3_col0\" class=\"data row3 col0\" >Случайный лес с глубиной</td>\n",
       "                        <td id=\"T_44169_row3_col1\" class=\"data row3 col1\" >0.640777</td>\n",
       "                        <td id=\"T_44169_row3_col2\" class=\"data row3 col2\" >0.833500</td>\n",
       "                        <td id=\"T_44169_row3_col3\" class=\"data row3 col3\" >8</td>\n",
       "                        <td id=\"T_44169_row3_col4\" class=\"data row3 col4\" >66</td>\n",
       "                        <td id=\"T_44169_row3_col5\" class=\"data row3 col5\" >0.862640</td>\n",
       "            </tr>\n",
       "    </tbody></table>"
      ],
      "text/plain": [
       "<pandas.io.formats.style.Styler at 0x7fab39134eb0>"
      ]
     },
     "metadata": {},
     "output_type": "display_data"
    },
    {
     "data": {
      "text/html": [
       "<style  type=\"text/css\" >\n",
       "</style><table id=\"T_5f703_\" ><caption>Увеличение выборки</caption><thead>    <tr>        <th class=\"blank level0\" ></th>        <th class=\"col_heading level0 col0\" >Model</th>        <th class=\"col_heading level0 col1\" >F1</th>        <th class=\"col_heading level0 col2\" >Accuracy</th>        <th class=\"col_heading level0 col3\" >Depth</th>        <th class=\"col_heading level0 col4\" >Estimators</th>        <th class=\"col_heading level0 col5\" >AUC-ROC</th>    </tr></thead><tbody>\n",
       "                <tr>\n",
       "                        <th id=\"T_5f703_level0_row0\" class=\"row_heading level0 row0\" >0</th>\n",
       "                        <td id=\"T_5f703_row0_col0\" class=\"data row0 col0\" >Логистическая регрессия</td>\n",
       "                        <td id=\"T_5f703_row0_col1\" class=\"data row0 col1\" >0.506780</td>\n",
       "                        <td id=\"T_5f703_row0_col2\" class=\"data row0 col2\" >0.709000</td>\n",
       "                        <td id=\"T_5f703_row0_col3\" class=\"data row0 col3\" >-</td>\n",
       "                        <td id=\"T_5f703_row0_col4\" class=\"data row0 col4\" >-</td>\n",
       "                        <td id=\"T_5f703_row0_col5\" class=\"data row0 col5\" >0.776053</td>\n",
       "            </tr>\n",
       "            <tr>\n",
       "                        <th id=\"T_5f703_level0_row1\" class=\"row_heading level0 row1\" >1</th>\n",
       "                        <td id=\"T_5f703_row1_col0\" class=\"data row1 col0\" >Дерево решений</td>\n",
       "                        <td id=\"T_5f703_row1_col1\" class=\"data row1 col1\" >0.593346</td>\n",
       "                        <td id=\"T_5f703_row1_col2\" class=\"data row1 col2\" >0.780000</td>\n",
       "                        <td id=\"T_5f703_row1_col3\" class=\"data row1 col3\" >7</td>\n",
       "                        <td id=\"T_5f703_row1_col4\" class=\"data row1 col4\" >-</td>\n",
       "                        <td id=\"T_5f703_row1_col5\" class=\"data row1 col5\" >0.842775</td>\n",
       "            </tr>\n",
       "            <tr>\n",
       "                        <th id=\"T_5f703_level0_row2\" class=\"row_heading level0 row2\" >2</th>\n",
       "                        <td id=\"T_5f703_row2_col0\" class=\"data row2 col0\" >Случайный лес</td>\n",
       "                        <td id=\"T_5f703_row2_col1\" class=\"data row2 col1\" >0.608345</td>\n",
       "                        <td id=\"T_5f703_row2_col2\" class=\"data row2 col2\" >0.854500</td>\n",
       "                        <td id=\"T_5f703_row2_col3\" class=\"data row2 col3\" >-</td>\n",
       "                        <td id=\"T_5f703_row2_col4\" class=\"data row2 col4\" >27</td>\n",
       "                        <td id=\"T_5f703_row2_col5\" class=\"data row2 col5\" >0.838481</td>\n",
       "            </tr>\n",
       "            <tr>\n",
       "                        <th id=\"T_5f703_level0_row3\" class=\"row_heading level0 row3\" >3</th>\n",
       "                        <td id=\"T_5f703_row3_col0\" class=\"data row3 col0\" >Случайный лес с глубиной</td>\n",
       "                        <td id=\"T_5f703_row3_col1\" class=\"data row3 col1\" >0.629263</td>\n",
       "                        <td id=\"T_5f703_row3_col2\" class=\"data row3 col2\" >0.831500</td>\n",
       "                        <td id=\"T_5f703_row3_col3\" class=\"data row3 col3\" >10</td>\n",
       "                        <td id=\"T_5f703_row3_col4\" class=\"data row3 col4\" >26</td>\n",
       "                        <td id=\"T_5f703_row3_col5\" class=\"data row3 col5\" >0.855558</td>\n",
       "            </tr>\n",
       "    </tbody></table>"
      ],
      "text/plain": [
       "<pandas.io.formats.style.Styler at 0x7fab38e73340>"
      ]
     },
     "metadata": {},
     "output_type": "display_data"
    }
   ],
   "source": [
    "display(df_pred_results)\n",
    "display(balance)\n",
    "display(upsample_table)"
   ]
  },
  {
   "attachments": {},
   "cell_type": "markdown",
   "metadata": {},
   "source": [
    "Самыми высокими показателями метрик F1 и AOC-ROC является случайный лес с глубиной 8 и 66 деревьями, со сбалансированным весом классов."
   ]
  },
  {
   "cell_type": "code",
   "execution_count": 70,
   "metadata": {},
   "outputs": [
    {
     "name": "stdout",
     "output_type": "stream",
     "text": [
      "F1: 0.6407766990291263 \n",
      "Accuracy: 0.8335\n"
     ]
    }
   ],
   "source": [
    "model_forest_depth = RandomForestClassifier(random_state=RANDOM_STATE, n_estimators=66, max_depth=8, class_weight='balanced') #модель леса с меняющимся количеством деревьев и глубиной\n",
    "model_forest_depth.fit(features_train, target_train) #обучение модели на тренировочной выборке\n",
    "predictions_forest_depth_valid = model_forest_depth.predict(features_valid) #предсказание на основе валидационных признаков\n",
    "accuracy_valid_forest_depth = accuracy_score(target_valid, predictions_forest_depth_valid) #accuracy\n",
    "f1_valid_forest_depth = f1_score(target_valid, predictions_forest_depth_valid) #f1\n",
    "print(\"F1:\", f1_valid_forest_depth, '\\nAccuracy:', accuracy_valid_forest_depth) #вывод"
   ]
  },
  {
   "attachments": {},
   "cell_type": "markdown",
   "metadata": {},
   "source": [
    "### Выводы по разделу борьбы с дисбалансом классов"
   ]
  },
  {
   "attachments": {},
   "cell_type": "markdown",
   "metadata": {},
   "source": [
    "На данном этапе, борьбе с  дисбалансом, было использовано несколько приемов:\n",
    "- балансировка веса классов,\n",
    "- увеличение выборки,\n",
    "- уменьшение выборки,\n",
    "- изменение значения порога.\n",
    "\n",
    "Не все методы прошли проверку, как и не все модели показали достаточно высокое значение метрики F1. \n",
    "\n",
    "Выбрана наилучшая модель для проверки на тестовой выборке."
   ]
  },
  {
   "attachments": {},
   "cell_type": "markdown",
   "metadata": {},
   "source": [
    "## Тестирование модели"
   ]
  },
  {
   "cell_type": "code",
   "execution_count": 71,
   "metadata": {},
   "outputs": [
    {
     "name": "stdout",
     "output_type": "stream",
     "text": [
      "F1: 0.6134831460674158 \n",
      "Accuracy: 0.828\n"
     ]
    }
   ],
   "source": [
    "model_forest_depth_best = RandomForestClassifier(random_state=RANDOM_STATE, n_estimators=66, max_depth=8, class_weight='balanced') #модель леса с меняющимся количеством деревьев и глубиной\n",
    "model_forest_depth_best.fit(features_train, target_train) #обучение модели на тренировочной выборке\n",
    "predictions_forest_depth_test_best = model_forest_depth_best.predict(features_test) #предсказание на основе валидационных признаков\n",
    "accuracy_test_forest_depth_best = accuracy_score(target_test, predictions_forest_depth_test_best) #accuracy\n",
    "f1_test_forest_depth_best = f1_score(target_test, predictions_forest_depth_test_best) #f1\n",
    "print(\"F1:\", f1_test_forest_depth_best, '\\nAccuracy:', accuracy_test_forest_depth_best) #вывод"
   ]
  },
  {
   "cell_type": "code",
   "execution_count": 72,
   "metadata": {},
   "outputs": [
    {
     "name": "stdout",
     "output_type": "stream",
     "text": [
      "              precision    recall  f1-score   support\n",
      "\n",
      "           0      0.904     0.875     0.889      1580\n",
      "           1      0.581     0.650     0.613       420\n",
      "\n",
      "    accuracy                          0.828      2000\n",
      "   macro avg      0.742     0.763     0.751      2000\n",
      "weighted avg      0.836     0.828     0.831      2000\n",
      "\n"
     ]
    }
   ],
   "source": [
    "#вывод таблицы метрик\n",
    "print(metrics.classification_report(target_test, predictions_forest_depth_test_best, digits=3))"
   ]
  },
  {
   "attachments": {},
   "cell_type": "markdown",
   "metadata": {},
   "source": [
    "### Вывод по тесту модели"
   ]
  },
  {
   "attachments": {},
   "cell_type": "markdown",
   "metadata": {},
   "source": [
    "Модель случайного леса с гиперпараметрами `n_estimators`=66, `max_depth`=8 и `class_weight`=`balanced` протестирована на тестовом наборе данных, при этом, получено значение метрики `F1`=0.613, что удовлетворяет поставленной задаче."
   ]
  },
  {
   "attachments": {},
   "cell_type": "markdown",
   "metadata": {},
   "source": [
    "## Исследование метрики `AUC-ROC` на тестовой модели"
   ]
  },
  {
   "cell_type": "code",
   "execution_count": 73,
   "metadata": {},
   "outputs": [
    {
     "data": {
      "image/png": "[encoded data removed]",
      "text/plain": [
       "<Figure size 432x288 with 1 Axes>"
      ]
     },
     "metadata": {
      "needs_background": "light"
     },
     "output_type": "display_data"
    }
   ],
   "source": [
    "probabilities_valid = model_forest_depth_best.predict_proba(features_valid)\n",
    "probabilities_one_valid = probabilities_valid[:, 1]\n",
    "\n",
    "fpr, tpr, thresholds = roc_curve(target_valid, probabilities_one_valid)\n",
    "\n",
    "plt.figure()\n",
    "\n",
    "plt.plot([0, 1], [0, 1], linestyle='--')\n",
    "plt.xlim([0, 1])\n",
    "plt.ylim([0, 1])\n",
    "\n",
    "plt.xlabel('False Positive Rate')\n",
    "plt.ylabel('True Positive Rate')\n",
    "plt.title('ROC-кривая')\n",
    "plt.plot(fpr, tpr, linestyle='--')\n",
    "\n",
    "plt.show()"
   ]
  },
  {
   "cell_type": "code",
   "execution_count": 74,
   "metadata": {},
   "outputs": [
    {
     "data": {
      "text/plain": [
       "0.862640445635185"
      ]
     },
     "execution_count": 74,
     "metadata": {},
     "output_type": "execute_result"
    }
   ],
   "source": [
    "roc_auc_score(target_valid, model_forest_depth_best.predict_proba(features_valid)[:, 1]) #значение roc_auc"
   ]
  },
  {
   "attachments": {},
   "cell_type": "markdown",
   "metadata": {},
   "source": [
    "### Вывод по метрике `AUC-ROC`"
   ]
  },
  {
   "attachments": {},
   "cell_type": "markdown",
   "metadata": {},
   "source": [
    "ROC-кривая показала хороший результат, а значение `AUC-ROC` - достаточно высокое. Модель хорошо работает."
   ]
  },
  {
   "attachments": {},
   "cell_type": "markdown",
   "metadata": {},
   "source": [
    "## Общий вывод"
   ]
  },
  {
   "attachments": {},
   "cell_type": "markdown",
   "metadata": {},
   "source": [
    "В проекте нужно было спрогнозировать по имеющимся данным, уйдет ли в ближайшее время клиент, или нет.\n",
    "\n",
    "Для решения были проведены стандартные действия по подготовке данных и их предобработке: \n",
    "- импортированы необходимые библиотеки, \n",
    "- обозначены признаки и целевой признак,\n",
    "- проведена проверка на дубликаты, заполнение отсутствующих данных и удаление лишних.\n",
    "\n",
    "Для подготовки датасета к машинному обучению также были:\n",
    "- преобразованы классы с помощью прямого кодирования, \n",
    "- исходный датасет разделен на необходимые выборки в нужных пропорциях, выделены целевой признак и признаки выборок,\n",
    "- проведено пробное обучение для того, чтобы понять, имеются ли ошибки датасета или нет,\n",
    "- признаки были отмасштабированы, для того, чтобы числовые значения не перевешивали своей значимостью категориальные значения.\n",
    "\n",
    "На этом этапе мы оценили баланс классов целевого признака для каждой выборки и убедились, что имеется значительный дисбаланс.\n",
    "\n",
    "Далее, мы обучали несколько видов моделей, варьируя их гиперпараметры, но не работая с исправлением дисбаланса классов. На этом этапе очень плохо себя показала логистическая регрессия, с результатом, меньшим, чем у остальных моделей, почти в два раза. Наилучший результат показало дерево решений с заданной глубиной со значением метрики `F1` = 0.61. \n",
    "\n",
    "Параметры дерева: \n",
    "- `F1` = 0.61, \n",
    "- `Accuracy` = 0.856,\n",
    "- `Depth` 7.\n",
    "\n",
    "К тому же мы выяснили, что параметрами, оказывающее наибольшее влияние, являются:\n",
    "\n",
    "- `Age` около 0.22,\n",
    "- `NumOfProducts`, `Balance`, `CreditScore`, `CustomerId` и `EstimatedSalary` со значением, близким к 0.12\n",
    "- остальные признаки имеют значимость от 0.06 до 0.01.\n",
    "\n",
    "Для борьбы с дисбалансом мы применяли разные параметры, такие как: `class_weight = balanced`, `upsampling`, `downsampling` и изменение значение порога `threshold`.\n",
    "\n",
    "Самые высокие показатели для F1 с балансом классов `class_weight = balanced` на лучшей модели. Также высокие значения показывает `upsampling`.\n",
    "\n",
    "Лучшей моделью снова стал случайный лес с глубиной: с параметром `class_weight = balanced`, со значением метрики `F1` ~ 0.641. \n",
    "\n",
    "Так, выбранная модель для теста - случайный лес с глубиной. Параметры:\n",
    "- `Depth` 8,\n",
    "- `Estimators` 66,\n",
    "- `class_weight = balanced`.\n",
    "\n",
    "Модель протестирована на тестовых данных и показала значение метрики `F1` = 0.613, что удовлетворяет поставленному условию (> 0.59).\n",
    "\n",
    "Исследована метрика `AUC-ROC`, найдено значение площади `AUC-ROC` ~0.863, что является высоким показателем, а значит, модель работает достаточно хорошо. "
   ]
  }
 ],
 "metadata": {
  "ExecuteTimeLog": [
   {
    "duration": 1856,
    "start_time": "2022-11-25T11:58:24.004Z"
   },
   {
    "duration": 165,
    "start_time": "2022-11-25T11:58:25.862Z"
   },
   {
    "duration": 17,
    "start_time": "2022-11-25T11:58:26.029Z"
   },
   {
    "duration": 12,
    "start_time": "2022-11-25T11:58:26.048Z"
   },
   {
    "duration": 6,
    "start_time": "2022-11-25T11:58:26.061Z"
   },
   {
    "duration": 24,
    "start_time": "2022-11-25T11:58:26.069Z"
   },
   {
    "duration": 1481,
    "start_time": "2022-11-25T11:58:26.095Z"
   },
   {
    "duration": 1345,
    "start_time": "2022-11-25T11:58:27.577Z"
   },
   {
    "duration": 6,
    "start_time": "2022-11-25T11:58:28.924Z"
   },
   {
    "duration": 198,
    "start_time": "2022-11-25T11:58:28.933Z"
   },
   {
    "duration": 225,
    "start_time": "2022-11-25T11:58:29.134Z"
   },
   {
    "duration": 505,
    "start_time": "2022-11-25T11:58:29.361Z"
   },
   {
    "duration": 14,
    "start_time": "2022-11-25T11:58:29.868Z"
   },
   {
    "duration": 351,
    "start_time": "2022-11-25T11:58:29.884Z"
   },
   {
    "duration": 194,
    "start_time": "2022-11-25T11:58:30.238Z"
   },
   {
    "duration": 4,
    "start_time": "2022-11-25T11:58:30.434Z"
   },
   {
    "duration": 30,
    "start_time": "2022-11-25T11:58:30.450Z"
   },
   {
    "duration": 9,
    "start_time": "2022-11-25T11:58:30.483Z"
   },
   {
    "duration": 16,
    "start_time": "2022-11-25T11:58:30.493Z"
   },
   {
    "duration": 647,
    "start_time": "2022-11-25T11:58:30.511Z"
   },
   {
    "duration": 91,
    "start_time": "2022-11-25T11:58:31.161Z"
   },
   {
    "duration": 144,
    "start_time": "2022-11-25T11:58:31.254Z"
   },
   {
    "duration": 10,
    "start_time": "2022-11-25T11:58:31.400Z"
   },
   {
    "duration": 345,
    "start_time": "2022-11-25T11:58:31.412Z"
   },
   {
    "duration": 528,
    "start_time": "2022-11-25T11:58:31.760Z"
   },
   {
    "duration": 214,
    "start_time": "2022-11-25T11:58:32.289Z"
   },
   {
    "duration": 9,
    "start_time": "2022-11-25T11:58:32.505Z"
   },
   {
    "duration": 4018,
    "start_time": "2022-11-25T11:58:32.518Z"
   },
   {
    "duration": 226,
    "start_time": "2022-11-25T11:58:36.538Z"
   },
   {
    "duration": 9,
    "start_time": "2022-11-25T11:58:36.767Z"
   },
   {
    "duration": 8358,
    "start_time": "2022-11-25T11:58:36.779Z"
   },
   {
    "duration": 824,
    "start_time": "2022-11-25T11:58:45.139Z"
   },
   {
    "duration": 19,
    "start_time": "2022-11-25T11:58:45.965Z"
   },
   {
    "duration": 69,
    "start_time": "2022-11-25T11:58:45.985Z"
   },
   {
    "duration": 518,
    "start_time": "2022-11-25T11:58:46.056Z"
   },
   {
    "duration": 4095,
    "start_time": "2022-11-25T11:58:46.576Z"
   },
   {
    "duration": 8190,
    "start_time": "2022-11-25T11:58:50.673Z"
   },
   {
    "duration": 13,
    "start_time": "2022-11-25T11:58:58.865Z"
   },
   {
    "duration": 71,
    "start_time": "2022-11-25T11:58:58.880Z"
   },
   {
    "duration": 607,
    "start_time": "2022-11-25T11:58:58.954Z"
   },
   {
    "duration": 5586,
    "start_time": "2022-11-25T11:58:59.563Z"
   },
   {
    "duration": 11085,
    "start_time": "2022-11-25T11:59:05.151Z"
   },
   {
    "duration": 15,
    "start_time": "2022-11-25T11:59:16.238Z"
   },
   {
    "duration": 18,
    "start_time": "2022-11-25T11:59:16.255Z"
   },
   {
    "duration": 5181,
    "start_time": "2022-11-25T11:59:16.276Z"
   },
   {
    "duration": 228,
    "start_time": "2022-11-25T11:59:21.459Z"
   },
   {
    "duration": 7,
    "start_time": "2022-11-25T11:59:21.688Z"
   },
   {
    "duration": 197,
    "start_time": "2022-11-25T11:59:21.697Z"
   },
   {
    "duration": 231,
    "start_time": "2022-11-25T11:59:21.896Z"
   },
   {
    "duration": 227,
    "start_time": "2022-11-25T11:59:22.129Z"
   },
   {
    "duration": 10,
    "start_time": "2022-11-25T11:59:22.358Z"
   },
   {
    "duration": 159,
    "start_time": "2022-11-25T11:59:22.370Z"
   },
   {
    "duration": 28,
    "start_time": "2022-11-25T11:59:22.531Z"
   },
   {
    "duration": 1723,
    "start_time": "2022-11-27T13:21:14.967Z"
   },
   {
    "duration": 173,
    "start_time": "2022-11-27T13:21:16.693Z"
   },
   {
    "duration": 13,
    "start_time": "2022-11-27T13:21:16.868Z"
   },
   {
    "duration": 11,
    "start_time": "2022-11-27T13:21:16.883Z"
   },
   {
    "duration": 6,
    "start_time": "2022-11-27T13:21:16.895Z"
   },
   {
    "duration": 15,
    "start_time": "2022-11-27T13:21:16.903Z"
   },
   {
    "duration": 1363,
    "start_time": "2022-11-27T13:21:16.919Z"
   },
   {
    "duration": 1437,
    "start_time": "2022-11-27T13:21:18.284Z"
   },
   {
    "duration": 16,
    "start_time": "2022-11-27T13:21:19.722Z"
   },
   {
    "duration": 200,
    "start_time": "2022-11-27T13:21:19.741Z"
   },
   {
    "duration": 196,
    "start_time": "2022-11-27T13:21:19.944Z"
   },
   {
    "duration": 384,
    "start_time": "2022-11-27T13:21:20.142Z"
   },
   {
    "duration": 17,
    "start_time": "2022-11-27T13:21:20.528Z"
   },
   {
    "duration": 305,
    "start_time": "2022-11-27T13:21:20.546Z"
   },
   {
    "duration": 184,
    "start_time": "2022-11-27T13:21:20.853Z"
   },
   {
    "duration": 16,
    "start_time": "2022-11-27T13:21:21.039Z"
   },
   {
    "duration": 380,
    "start_time": "2022-11-27T13:21:21.057Z"
   },
   {
    "duration": 19,
    "start_time": "2022-11-27T13:21:21.439Z"
   },
   {
    "duration": 3,
    "start_time": "2022-11-27T13:21:21.459Z"
   },
   {
    "duration": 9,
    "start_time": "2022-11-27T13:21:21.464Z"
   },
   {
    "duration": 8,
    "start_time": "2022-11-27T13:21:21.474Z"
   },
   {
    "duration": 139,
    "start_time": "2022-11-27T13:21:21.484Z"
   },
   {
    "duration": 0,
    "start_time": "2022-11-27T13:21:21.626Z"
   },
   {
    "duration": 0,
    "start_time": "2022-11-27T13:21:21.627Z"
   },
   {
    "duration": 0,
    "start_time": "2022-11-27T13:21:21.629Z"
   },
   {
    "duration": 1,
    "start_time": "2022-11-27T13:21:21.637Z"
   },
   {
    "duration": 0,
    "start_time": "2022-11-27T13:21:21.639Z"
   },
   {
    "duration": 0,
    "start_time": "2022-11-27T13:21:21.640Z"
   },
   {
    "duration": 0,
    "start_time": "2022-11-27T13:21:21.641Z"
   },
   {
    "duration": 0,
    "start_time": "2022-11-27T13:21:21.642Z"
   },
   {
    "duration": 0,
    "start_time": "2022-11-27T13:21:21.643Z"
   },
   {
    "duration": 0,
    "start_time": "2022-11-27T13:21:21.644Z"
   },
   {
    "duration": 0,
    "start_time": "2022-11-27T13:21:21.645Z"
   },
   {
    "duration": 0,
    "start_time": "2022-11-27T13:21:21.646Z"
   },
   {
    "duration": 0,
    "start_time": "2022-11-27T13:21:21.647Z"
   },
   {
    "duration": 0,
    "start_time": "2022-11-27T13:21:21.648Z"
   },
   {
    "duration": 0,
    "start_time": "2022-11-27T13:21:21.649Z"
   },
   {
    "duration": 0,
    "start_time": "2022-11-27T13:21:21.651Z"
   },
   {
    "duration": 0,
    "start_time": "2022-11-27T13:21:21.652Z"
   },
   {
    "duration": 0,
    "start_time": "2022-11-27T13:21:21.653Z"
   },
   {
    "duration": 0,
    "start_time": "2022-11-27T13:21:21.654Z"
   },
   {
    "duration": 0,
    "start_time": "2022-11-27T13:21:21.655Z"
   },
   {
    "duration": 0,
    "start_time": "2022-11-27T13:21:21.656Z"
   },
   {
    "duration": 0,
    "start_time": "2022-11-27T13:21:21.657Z"
   },
   {
    "duration": 0,
    "start_time": "2022-11-27T13:21:21.658Z"
   },
   {
    "duration": 0,
    "start_time": "2022-11-27T13:21:21.659Z"
   },
   {
    "duration": 0,
    "start_time": "2022-11-27T13:21:21.661Z"
   },
   {
    "duration": 0,
    "start_time": "2022-11-27T13:21:21.662Z"
   },
   {
    "duration": 0,
    "start_time": "2022-11-27T13:21:21.663Z"
   },
   {
    "duration": 0,
    "start_time": "2022-11-27T13:21:21.665Z"
   },
   {
    "duration": 0,
    "start_time": "2022-11-27T13:21:21.666Z"
   },
   {
    "duration": 0,
    "start_time": "2022-11-27T13:21:21.667Z"
   },
   {
    "duration": 0,
    "start_time": "2022-11-27T13:21:21.668Z"
   },
   {
    "duration": 0,
    "start_time": "2022-11-27T13:21:21.669Z"
   },
   {
    "duration": 0,
    "start_time": "2022-11-27T13:21:21.671Z"
   },
   {
    "duration": 0,
    "start_time": "2022-11-27T13:21:21.672Z"
   },
   {
    "duration": 0,
    "start_time": "2022-11-27T13:21:21.737Z"
   },
   {
    "duration": 0,
    "start_time": "2022-11-27T13:21:21.738Z"
   },
   {
    "duration": 0,
    "start_time": "2022-11-27T13:21:21.739Z"
   },
   {
    "duration": 0,
    "start_time": "2022-11-27T13:21:21.741Z"
   },
   {
    "duration": 0,
    "start_time": "2022-11-27T13:21:21.742Z"
   },
   {
    "duration": 0,
    "start_time": "2022-11-27T13:21:21.742Z"
   },
   {
    "duration": 0,
    "start_time": "2022-11-27T13:21:21.743Z"
   },
   {
    "duration": 0,
    "start_time": "2022-11-27T13:21:21.745Z"
   },
   {
    "duration": 0,
    "start_time": "2022-11-27T13:21:21.746Z"
   },
   {
    "duration": 0,
    "start_time": "2022-11-27T13:21:21.747Z"
   },
   {
    "duration": 0,
    "start_time": "2022-11-27T13:21:21.748Z"
   },
   {
    "duration": 0,
    "start_time": "2022-11-27T13:21:21.749Z"
   },
   {
    "duration": 0,
    "start_time": "2022-11-27T13:21:21.750Z"
   },
   {
    "duration": 0,
    "start_time": "2022-11-27T13:21:21.751Z"
   },
   {
    "duration": 0,
    "start_time": "2022-11-27T13:21:21.752Z"
   },
   {
    "duration": 0,
    "start_time": "2022-11-27T13:21:21.753Z"
   },
   {
    "duration": 0,
    "start_time": "2022-11-27T13:21:21.754Z"
   },
   {
    "duration": 7719,
    "start_time": "2022-11-27T13:25:30.469Z"
   },
   {
    "duration": 1241,
    "start_time": "2022-11-27T13:25:38.190Z"
   },
   {
    "duration": 59,
    "start_time": "2022-11-27T13:25:39.433Z"
   },
   {
    "duration": 12,
    "start_time": "2022-11-27T13:25:39.493Z"
   },
   {
    "duration": 12,
    "start_time": "2022-11-27T13:25:39.507Z"
   },
   {
    "duration": 4,
    "start_time": "2022-11-27T13:25:39.521Z"
   },
   {
    "duration": 15,
    "start_time": "2022-11-27T13:25:39.527Z"
   },
   {
    "duration": 1308,
    "start_time": "2022-11-27T13:25:39.544Z"
   },
   {
    "duration": 1357,
    "start_time": "2022-11-27T13:25:40.854Z"
   },
   {
    "duration": 8,
    "start_time": "2022-11-27T13:25:42.213Z"
   },
   {
    "duration": 188,
    "start_time": "2022-11-27T13:25:42.222Z"
   },
   {
    "duration": 183,
    "start_time": "2022-11-27T13:25:42.412Z"
   },
   {
    "duration": 380,
    "start_time": "2022-11-27T13:25:42.597Z"
   },
   {
    "duration": 12,
    "start_time": "2022-11-27T13:25:42.980Z"
   },
   {
    "duration": 191,
    "start_time": "2022-11-27T13:25:42.994Z"
   },
   {
    "duration": 172,
    "start_time": "2022-11-27T13:25:43.187Z"
   },
   {
    "duration": 15,
    "start_time": "2022-11-27T13:25:43.362Z"
   },
   {
    "duration": 497,
    "start_time": "2022-11-27T13:25:43.379Z"
   },
   {
    "duration": 20,
    "start_time": "2022-11-27T13:25:43.879Z"
   },
   {
    "duration": 4,
    "start_time": "2022-11-27T13:25:43.901Z"
   },
   {
    "duration": 33,
    "start_time": "2022-11-27T13:25:43.907Z"
   },
   {
    "duration": 8,
    "start_time": "2022-11-27T13:25:43.942Z"
   },
   {
    "duration": 22,
    "start_time": "2022-11-27T13:25:43.952Z"
   },
   {
    "duration": 4,
    "start_time": "2022-11-27T13:25:43.975Z"
   },
   {
    "duration": 6,
    "start_time": "2022-11-27T13:25:43.981Z"
   },
   {
    "duration": 4,
    "start_time": "2022-11-27T13:25:43.989Z"
   },
   {
    "duration": 13,
    "start_time": "2022-11-27T13:25:43.994Z"
   },
   {
    "duration": 3,
    "start_time": "2022-11-27T13:25:44.009Z"
   },
   {
    "duration": 25,
    "start_time": "2022-11-27T13:25:44.038Z"
   },
   {
    "duration": 174,
    "start_time": "2022-11-27T13:25:44.065Z"
   },
   {
    "duration": 103,
    "start_time": "2022-11-27T13:25:44.240Z"
   },
   {
    "duration": 205,
    "start_time": "2022-11-27T13:25:44.345Z"
   },
   {
    "duration": 187,
    "start_time": "2022-11-27T13:25:44.552Z"
   },
   {
    "duration": 307,
    "start_time": "2022-11-27T13:25:44.742Z"
   },
   {
    "duration": 7,
    "start_time": "2022-11-27T13:25:45.050Z"
   },
   {
    "duration": 440,
    "start_time": "2022-11-27T13:25:45.059Z"
   },
   {
    "duration": 223,
    "start_time": "2022-11-27T13:25:45.501Z"
   },
   {
    "duration": 18,
    "start_time": "2022-11-27T13:25:45.725Z"
   },
   {
    "duration": 4285,
    "start_time": "2022-11-27T13:25:45.745Z"
   },
   {
    "duration": 217,
    "start_time": "2022-11-27T13:25:50.032Z"
   },
   {
    "duration": 10,
    "start_time": "2022-11-27T13:25:50.254Z"
   },
   {
    "duration": 10192,
    "start_time": "2022-11-27T13:25:50.267Z"
   },
   {
    "duration": 194,
    "start_time": "2022-11-27T13:26:00.462Z"
   },
   {
    "duration": 789,
    "start_time": "2022-11-27T13:26:00.658Z"
   },
   {
    "duration": 43,
    "start_time": "2022-11-27T13:26:01.449Z"
   },
   {
    "duration": 154,
    "start_time": "2022-11-27T13:26:01.494Z"
   },
   {
    "duration": 95,
    "start_time": "2022-11-27T13:26:01.650Z"
   },
   {
    "duration": 103,
    "start_time": "2022-11-27T13:26:01.747Z"
   },
   {
    "duration": 617,
    "start_time": "2022-11-27T13:26:01.854Z"
   },
   {
    "duration": 4204,
    "start_time": "2022-11-27T13:26:02.474Z"
   },
   {
    "duration": 17435,
    "start_time": "2022-11-27T13:26:06.681Z"
   },
   {
    "duration": 383,
    "start_time": "2022-11-27T13:26:24.118Z"
   },
   {
    "duration": 118,
    "start_time": "2022-11-27T13:26:24.503Z"
   },
   {
    "duration": 0,
    "start_time": "2022-11-27T13:26:24.622Z"
   },
   {
    "duration": 0,
    "start_time": "2022-11-27T13:26:24.624Z"
   },
   {
    "duration": 0,
    "start_time": "2022-11-27T13:26:24.636Z"
   },
   {
    "duration": 0,
    "start_time": "2022-11-27T13:26:24.638Z"
   },
   {
    "duration": 0,
    "start_time": "2022-11-27T13:26:24.639Z"
   },
   {
    "duration": 0,
    "start_time": "2022-11-27T13:26:24.640Z"
   },
   {
    "duration": 0,
    "start_time": "2022-11-27T13:26:24.641Z"
   },
   {
    "duration": 0,
    "start_time": "2022-11-27T13:26:24.642Z"
   },
   {
    "duration": 0,
    "start_time": "2022-11-27T13:26:24.643Z"
   },
   {
    "duration": 0,
    "start_time": "2022-11-27T13:26:24.644Z"
   },
   {
    "duration": 0,
    "start_time": "2022-11-27T13:26:24.645Z"
   },
   {
    "duration": 0,
    "start_time": "2022-11-27T13:26:24.646Z"
   },
   {
    "duration": 0,
    "start_time": "2022-11-27T13:26:24.647Z"
   },
   {
    "duration": 0,
    "start_time": "2022-11-27T13:26:24.648Z"
   },
   {
    "duration": 1,
    "start_time": "2022-11-27T13:26:24.650Z"
   },
   {
    "duration": 0,
    "start_time": "2022-11-27T13:26:24.652Z"
   },
   {
    "duration": 0,
    "start_time": "2022-11-27T13:26:24.654Z"
   },
   {
    "duration": 0,
    "start_time": "2022-11-27T13:26:24.655Z"
   },
   {
    "duration": 0,
    "start_time": "2022-11-27T13:26:24.656Z"
   },
   {
    "duration": 0,
    "start_time": "2022-11-27T13:26:24.657Z"
   },
   {
    "duration": 0,
    "start_time": "2022-11-27T13:26:24.659Z"
   },
   {
    "duration": 82,
    "start_time": "2022-11-27T15:33:43.415Z"
   },
   {
    "duration": 12440,
    "start_time": "2022-11-27T15:33:54.728Z"
   },
   {
    "duration": 1910,
    "start_time": "2022-11-27T15:34:07.172Z"
   },
   {
    "duration": 215,
    "start_time": "2022-11-27T15:34:09.084Z"
   },
   {
    "duration": 24,
    "start_time": "2022-11-27T15:34:09.304Z"
   },
   {
    "duration": 21,
    "start_time": "2022-11-27T15:34:09.331Z"
   },
   {
    "duration": 13,
    "start_time": "2022-11-27T15:34:09.355Z"
   },
   {
    "duration": 24,
    "start_time": "2022-11-27T15:34:09.375Z"
   },
   {
    "duration": 1941,
    "start_time": "2022-11-27T15:34:09.402Z"
   },
   {
    "duration": 1970,
    "start_time": "2022-11-27T15:34:11.345Z"
   },
   {
    "duration": 11,
    "start_time": "2022-11-27T15:34:13.319Z"
   },
   {
    "duration": 283,
    "start_time": "2022-11-27T15:34:13.332Z"
   },
   {
    "duration": 214,
    "start_time": "2022-11-27T15:34:13.618Z"
   },
   {
    "duration": 459,
    "start_time": "2022-11-27T15:34:13.833Z"
   },
   {
    "duration": 16,
    "start_time": "2022-11-27T15:34:14.296Z"
   },
   {
    "duration": 353,
    "start_time": "2022-11-27T15:34:14.315Z"
   },
   {
    "duration": 211,
    "start_time": "2022-11-27T15:34:14.674Z"
   },
   {
    "duration": 18,
    "start_time": "2022-11-27T15:34:14.887Z"
   },
   {
    "duration": 717,
    "start_time": "2022-11-27T15:34:14.908Z"
   },
   {
    "duration": 51,
    "start_time": "2022-11-27T15:34:15.628Z"
   },
   {
    "duration": 5,
    "start_time": "2022-11-27T15:34:15.681Z"
   },
   {
    "duration": 13,
    "start_time": "2022-11-27T15:34:15.689Z"
   },
   {
    "duration": 12,
    "start_time": "2022-11-27T15:34:15.705Z"
   },
   {
    "duration": 56,
    "start_time": "2022-11-27T15:34:15.719Z"
   },
   {
    "duration": 6,
    "start_time": "2022-11-27T15:34:15.784Z"
   },
   {
    "duration": 13,
    "start_time": "2022-11-27T15:34:15.792Z"
   },
   {
    "duration": 6,
    "start_time": "2022-11-27T15:34:15.806Z"
   },
   {
    "duration": 17,
    "start_time": "2022-11-27T15:34:15.814Z"
   },
   {
    "duration": 3,
    "start_time": "2022-11-27T15:34:15.835Z"
   },
   {
    "duration": 69,
    "start_time": "2022-11-27T15:34:15.840Z"
   },
   {
    "duration": 171,
    "start_time": "2022-11-27T15:34:15.911Z"
   },
   {
    "duration": 95,
    "start_time": "2022-11-27T15:34:16.160Z"
   },
   {
    "duration": 263,
    "start_time": "2022-11-27T15:34:16.257Z"
   },
   {
    "duration": 268,
    "start_time": "2022-11-27T15:34:16.522Z"
   },
   {
    "duration": 319,
    "start_time": "2022-11-27T15:34:16.859Z"
   },
   {
    "duration": 7,
    "start_time": "2022-11-27T15:34:17.180Z"
   },
   {
    "duration": 534,
    "start_time": "2022-11-27T15:34:17.190Z"
   },
   {
    "duration": 262,
    "start_time": "2022-11-27T15:34:17.726Z"
   },
   {
    "duration": 15,
    "start_time": "2022-11-27T15:34:17.992Z"
   },
   {
    "duration": 5260,
    "start_time": "2022-11-27T15:34:18.009Z"
   },
   {
    "duration": 250,
    "start_time": "2022-11-27T15:34:23.270Z"
   },
   {
    "duration": 35,
    "start_time": "2022-11-27T15:34:23.522Z"
   },
   {
    "duration": 12769,
    "start_time": "2022-11-27T15:34:23.562Z"
   },
   {
    "duration": 232,
    "start_time": "2022-11-27T15:34:36.332Z"
   },
   {
    "duration": 1037,
    "start_time": "2022-11-27T15:34:36.567Z"
   },
   {
    "duration": 55,
    "start_time": "2022-11-27T15:34:37.606Z"
   },
   {
    "duration": 1053,
    "start_time": "2022-11-27T15:34:37.667Z"
   },
   {
    "duration": 270,
    "start_time": "2022-11-27T15:34:38.723Z"
   },
   {
    "duration": 38,
    "start_time": "2022-11-27T15:34:39.051Z"
   },
   {
    "duration": 771,
    "start_time": "2022-11-27T15:34:39.153Z"
   },
   {
    "duration": 5541,
    "start_time": "2022-11-27T15:34:39.927Z"
   },
   {
    "duration": 21170,
    "start_time": "2022-11-27T15:34:45.476Z"
   },
   {
    "duration": 588,
    "start_time": "2022-11-27T15:35:06.651Z"
   },
   {
    "duration": 143,
    "start_time": "2022-11-27T15:35:07.242Z"
   },
   {
    "duration": 0,
    "start_time": "2022-11-27T15:35:07.388Z"
   },
   {
    "duration": 0,
    "start_time": "2022-11-27T15:35:07.390Z"
   },
   {
    "duration": 0,
    "start_time": "2022-11-27T15:35:07.394Z"
   },
   {
    "duration": 0,
    "start_time": "2022-11-27T15:35:07.396Z"
   },
   {
    "duration": 0,
    "start_time": "2022-11-27T15:35:07.397Z"
   },
   {
    "duration": 0,
    "start_time": "2022-11-27T15:35:07.398Z"
   },
   {
    "duration": 0,
    "start_time": "2022-11-27T15:35:07.401Z"
   },
   {
    "duration": 0,
    "start_time": "2022-11-27T15:35:07.402Z"
   },
   {
    "duration": 0,
    "start_time": "2022-11-27T15:35:07.404Z"
   },
   {
    "duration": 0,
    "start_time": "2022-11-27T15:35:07.405Z"
   },
   {
    "duration": 0,
    "start_time": "2022-11-27T15:35:07.407Z"
   },
   {
    "duration": 0,
    "start_time": "2022-11-27T15:35:07.409Z"
   },
   {
    "duration": 0,
    "start_time": "2022-11-27T15:35:07.410Z"
   },
   {
    "duration": 0,
    "start_time": "2022-11-27T15:35:07.412Z"
   },
   {
    "duration": 0,
    "start_time": "2022-11-27T15:35:07.416Z"
   },
   {
    "duration": 0,
    "start_time": "2022-11-27T15:35:07.417Z"
   },
   {
    "duration": 0,
    "start_time": "2022-11-27T15:35:07.418Z"
   },
   {
    "duration": 0,
    "start_time": "2022-11-27T15:35:07.419Z"
   },
   {
    "duration": 0,
    "start_time": "2022-11-27T15:35:07.420Z"
   },
   {
    "duration": 0,
    "start_time": "2022-11-27T15:35:07.421Z"
   },
   {
    "duration": 1,
    "start_time": "2022-11-27T15:35:07.421Z"
   },
   {
    "duration": 3305,
    "start_time": "2022-11-27T16:27:51.067Z"
   },
   {
    "duration": 9,
    "start_time": "2022-11-27T16:27:54.375Z"
   },
   {
    "duration": 89,
    "start_time": "2022-11-27T16:27:54.386Z"
   },
   {
    "duration": 21,
    "start_time": "2022-11-27T16:27:54.477Z"
   },
   {
    "duration": 17,
    "start_time": "2022-11-27T16:27:54.501Z"
   },
   {
    "duration": 8,
    "start_time": "2022-11-27T16:27:54.520Z"
   },
   {
    "duration": 42,
    "start_time": "2022-11-27T16:27:54.530Z"
   },
   {
    "duration": 1685,
    "start_time": "2022-11-27T16:27:54.577Z"
   },
   {
    "duration": 1557,
    "start_time": "2022-11-27T16:27:56.265Z"
   },
   {
    "duration": 8,
    "start_time": "2022-11-27T16:27:57.826Z"
   },
   {
    "duration": 242,
    "start_time": "2022-11-27T16:27:57.836Z"
   },
   {
    "duration": 394,
    "start_time": "2022-11-27T16:27:58.080Z"
   },
   {
    "duration": 379,
    "start_time": "2022-11-27T16:27:58.477Z"
   },
   {
    "duration": 16,
    "start_time": "2022-11-27T16:27:58.864Z"
   },
   {
    "duration": 239,
    "start_time": "2022-11-27T16:27:58.882Z"
   },
   {
    "duration": 284,
    "start_time": "2022-11-27T16:27:59.124Z"
   },
   {
    "duration": 25,
    "start_time": "2022-11-27T16:27:59.410Z"
   },
   {
    "duration": 591,
    "start_time": "2022-11-27T16:27:59.454Z"
   },
   {
    "duration": 42,
    "start_time": "2022-11-27T16:28:00.052Z"
   },
   {
    "duration": 156,
    "start_time": "2022-11-27T16:28:00.096Z"
   },
   {
    "duration": 45,
    "start_time": "2022-11-27T16:28:00.255Z"
   },
   {
    "duration": 23,
    "start_time": "2022-11-27T16:28:00.302Z"
   },
   {
    "duration": 41,
    "start_time": "2022-11-27T16:28:00.328Z"
   },
   {
    "duration": 70,
    "start_time": "2022-11-27T16:28:00.371Z"
   },
   {
    "duration": 54,
    "start_time": "2022-11-27T16:28:00.444Z"
   },
   {
    "duration": 4,
    "start_time": "2022-11-27T16:29:40.083Z"
   },
   {
    "duration": 27,
    "start_time": "2022-11-27T16:29:49.708Z"
   },
   {
    "duration": 26,
    "start_time": "2022-11-27T16:29:52.280Z"
   },
   {
    "duration": 7,
    "start_time": "2022-11-27T16:29:59.173Z"
   },
   {
    "duration": 19,
    "start_time": "2022-11-27T16:29:59.189Z"
   },
   {
    "duration": 92,
    "start_time": "2022-11-27T16:29:59.211Z"
   },
   {
    "duration": 16,
    "start_time": "2022-11-27T16:29:59.305Z"
   },
   {
    "duration": 14,
    "start_time": "2022-11-27T16:29:59.324Z"
   },
   {
    "duration": 16,
    "start_time": "2022-11-27T16:29:59.341Z"
   },
   {
    "duration": 39,
    "start_time": "2022-11-27T16:29:59.359Z"
   },
   {
    "duration": 1977,
    "start_time": "2022-11-27T16:29:59.400Z"
   },
   {
    "duration": 1902,
    "start_time": "2022-11-27T16:30:01.380Z"
   },
   {
    "duration": 10,
    "start_time": "2022-11-27T16:30:03.284Z"
   },
   {
    "duration": 250,
    "start_time": "2022-11-27T16:30:03.296Z"
   },
   {
    "duration": 240,
    "start_time": "2022-11-27T16:30:03.549Z"
   },
   {
    "duration": 538,
    "start_time": "2022-11-27T16:30:03.792Z"
   },
   {
    "duration": 31,
    "start_time": "2022-11-27T16:30:04.332Z"
   },
   {
    "duration": 266,
    "start_time": "2022-11-27T16:30:04.367Z"
   },
   {
    "duration": 436,
    "start_time": "2022-11-27T16:30:04.635Z"
   },
   {
    "duration": 19,
    "start_time": "2022-11-27T16:30:05.072Z"
   },
   {
    "duration": 494,
    "start_time": "2022-11-27T16:30:05.094Z"
   },
   {
    "duration": 23,
    "start_time": "2022-11-27T16:30:05.591Z"
   },
   {
    "duration": 8,
    "start_time": "2022-11-27T16:30:05.616Z"
   },
   {
    "duration": 36,
    "start_time": "2022-11-27T16:30:05.627Z"
   },
   {
    "duration": 37,
    "start_time": "2022-11-27T16:30:05.669Z"
   },
   {
    "duration": 55,
    "start_time": "2022-11-27T16:30:05.708Z"
   },
   {
    "duration": 28,
    "start_time": "2022-11-27T16:30:10.078Z"
   },
   {
    "duration": 5,
    "start_time": "2022-11-27T16:30:12.233Z"
   },
   {
    "duration": 78,
    "start_time": "2022-11-27T16:30:28.094Z"
   },
   {
    "duration": 3,
    "start_time": "2022-11-27T16:30:44.841Z"
   },
   {
    "duration": 1568,
    "start_time": "2022-11-27T16:30:44.848Z"
   },
   {
    "duration": 89,
    "start_time": "2022-11-27T16:30:46.419Z"
   },
   {
    "duration": 15,
    "start_time": "2022-11-27T16:30:46.510Z"
   },
   {
    "duration": 40,
    "start_time": "2022-11-27T16:30:46.529Z"
   },
   {
    "duration": 13,
    "start_time": "2022-11-27T16:30:46.570Z"
   },
   {
    "duration": 18,
    "start_time": "2022-11-27T16:30:46.586Z"
   },
   {
    "duration": 1629,
    "start_time": "2022-11-27T16:30:46.606Z"
   },
   {
    "duration": 1882,
    "start_time": "2022-11-27T16:30:48.238Z"
   },
   {
    "duration": 7,
    "start_time": "2022-11-27T16:30:50.123Z"
   },
   {
    "duration": 250,
    "start_time": "2022-11-27T16:30:50.134Z"
   },
   {
    "duration": 231,
    "start_time": "2022-11-27T16:30:50.386Z"
   },
   {
    "duration": 418,
    "start_time": "2022-11-27T16:30:50.619Z"
   },
   {
    "duration": 33,
    "start_time": "2022-11-27T16:30:51.039Z"
   },
   {
    "duration": 210,
    "start_time": "2022-11-27T16:30:51.075Z"
   },
   {
    "duration": 205,
    "start_time": "2022-11-27T16:30:51.286Z"
   },
   {
    "duration": 17,
    "start_time": "2022-11-27T16:30:51.493Z"
   },
   {
    "duration": 566,
    "start_time": "2022-11-27T16:30:51.512Z"
   },
   {
    "duration": 27,
    "start_time": "2022-11-27T16:30:52.080Z"
   },
   {
    "duration": 4,
    "start_time": "2022-11-27T16:30:52.109Z"
   },
   {
    "duration": 39,
    "start_time": "2022-11-27T16:30:52.116Z"
   },
   {
    "duration": 16,
    "start_time": "2022-11-27T16:30:52.159Z"
   },
   {
    "duration": 25,
    "start_time": "2022-11-27T16:30:52.178Z"
   },
   {
    "duration": 19,
    "start_time": "2022-11-27T16:30:52.205Z"
   },
   {
    "duration": 27,
    "start_time": "2022-11-27T16:30:52.227Z"
   },
   {
    "duration": 5,
    "start_time": "2022-11-27T16:30:52.257Z"
   },
   {
    "duration": 15,
    "start_time": "2022-11-27T16:30:52.264Z"
   },
   {
    "duration": 4,
    "start_time": "2022-11-27T16:30:52.281Z"
   },
   {
    "duration": 31,
    "start_time": "2022-11-27T16:30:52.289Z"
   },
   {
    "duration": 647,
    "start_time": "2022-11-27T16:30:52.322Z"
   },
   {
    "duration": 118,
    "start_time": "2022-11-27T16:30:53.050Z"
   },
   {
    "duration": 246,
    "start_time": "2022-11-27T16:30:53.170Z"
   },
   {
    "duration": 569,
    "start_time": "2022-11-27T16:30:53.418Z"
   },
   {
    "duration": 327,
    "start_time": "2022-11-27T16:30:54.058Z"
   },
   {
    "duration": 6,
    "start_time": "2022-11-27T16:30:54.387Z"
   },
   {
    "duration": 517,
    "start_time": "2022-11-27T16:30:54.395Z"
   },
   {
    "duration": 278,
    "start_time": "2022-11-27T16:30:54.914Z"
   },
   {
    "duration": 16,
    "start_time": "2022-11-27T16:30:55.194Z"
   },
   {
    "duration": 4812,
    "start_time": "2022-11-27T16:30:55.213Z"
   },
   {
    "duration": 309,
    "start_time": "2022-11-27T16:31:00.027Z"
   },
   {
    "duration": 31,
    "start_time": "2022-11-27T16:31:00.338Z"
   },
   {
    "duration": 11971,
    "start_time": "2022-11-27T16:31:00.373Z"
   },
   {
    "duration": 222,
    "start_time": "2022-11-27T16:31:12.346Z"
   },
   {
    "duration": 916,
    "start_time": "2022-11-27T16:31:12.571Z"
   },
   {
    "duration": 45,
    "start_time": "2022-11-27T16:31:13.489Z"
   },
   {
    "duration": 173,
    "start_time": "2022-11-27T16:31:13.535Z"
   },
   {
    "duration": 61,
    "start_time": "2022-11-27T16:31:13.710Z"
   },
   {
    "duration": 97,
    "start_time": "2022-11-27T16:31:13.782Z"
   },
   {
    "duration": 775,
    "start_time": "2022-11-27T16:31:13.887Z"
   },
   {
    "duration": 5221,
    "start_time": "2022-11-27T16:31:14.664Z"
   },
   {
    "duration": 23559,
    "start_time": "2022-11-27T16:31:19.887Z"
   },
   {
    "duration": 503,
    "start_time": "2022-11-27T16:31:43.448Z"
   },
   {
    "duration": 177,
    "start_time": "2022-11-27T16:31:43.960Z"
   },
   {
    "duration": 0,
    "start_time": "2022-11-27T16:31:44.139Z"
   },
   {
    "duration": 0,
    "start_time": "2022-11-27T16:31:44.141Z"
   },
   {
    "duration": 0,
    "start_time": "2022-11-27T16:31:44.142Z"
   },
   {
    "duration": 0,
    "start_time": "2022-11-27T16:31:44.144Z"
   },
   {
    "duration": 0,
    "start_time": "2022-11-27T16:31:44.152Z"
   },
   {
    "duration": 0,
    "start_time": "2022-11-27T16:31:44.153Z"
   },
   {
    "duration": 0,
    "start_time": "2022-11-27T16:31:44.155Z"
   },
   {
    "duration": 0,
    "start_time": "2022-11-27T16:31:44.156Z"
   },
   {
    "duration": 0,
    "start_time": "2022-11-27T16:31:44.157Z"
   },
   {
    "duration": 0,
    "start_time": "2022-11-27T16:31:44.163Z"
   },
   {
    "duration": 0,
    "start_time": "2022-11-27T16:31:44.164Z"
   },
   {
    "duration": 0,
    "start_time": "2022-11-27T16:31:44.165Z"
   },
   {
    "duration": 0,
    "start_time": "2022-11-27T16:31:44.167Z"
   },
   {
    "duration": 0,
    "start_time": "2022-11-27T16:31:44.168Z"
   },
   {
    "duration": 0,
    "start_time": "2022-11-27T16:31:44.170Z"
   },
   {
    "duration": 0,
    "start_time": "2022-11-27T16:31:44.171Z"
   },
   {
    "duration": 0,
    "start_time": "2022-11-27T16:31:44.173Z"
   },
   {
    "duration": 0,
    "start_time": "2022-11-27T16:31:44.174Z"
   },
   {
    "duration": 0,
    "start_time": "2022-11-27T16:31:44.177Z"
   },
   {
    "duration": 0,
    "start_time": "2022-11-27T16:31:44.179Z"
   },
   {
    "duration": 0,
    "start_time": "2022-11-27T16:31:44.180Z"
   },
   {
    "duration": 3238,
    "start_time": "2022-11-27T16:32:42.866Z"
   },
   {
    "duration": 23,
    "start_time": "2022-11-27T16:32:59.825Z"
   },
   {
    "duration": 21,
    "start_time": "2022-11-27T16:33:01.134Z"
   },
   {
    "duration": 53,
    "start_time": "2022-11-27T16:33:02.427Z"
   },
   {
    "duration": 670,
    "start_time": "2022-11-27T16:33:04.945Z"
   },
   {
    "duration": 6686,
    "start_time": "2022-11-27T16:33:07.375Z"
   },
   {
    "duration": 10661,
    "start_time": "2022-11-27T16:33:14.069Z"
   },
   {
    "duration": 342,
    "start_time": "2022-11-27T16:33:24.733Z"
   },
   {
    "duration": 19,
    "start_time": "2022-11-27T16:33:25.077Z"
   },
   {
    "duration": 92,
    "start_time": "2022-11-27T16:33:25.099Z"
   },
   {
    "duration": 17,
    "start_time": "2022-11-27T16:33:25.193Z"
   },
   {
    "duration": 134,
    "start_time": "2022-11-27T16:33:28.430Z"
   },
   {
    "duration": 4602,
    "start_time": "2022-11-27T16:33:30.986Z"
   },
   {
    "duration": 240,
    "start_time": "2022-11-27T16:33:35.728Z"
   },
   {
    "duration": 7,
    "start_time": "2022-11-27T16:33:37.285Z"
   },
   {
    "duration": 236,
    "start_time": "2022-11-27T16:33:43.372Z"
   },
   {
    "duration": 24,
    "start_time": "2022-11-27T16:33:48.926Z"
   },
   {
    "duration": 458,
    "start_time": "2022-11-27T16:33:53.236Z"
   },
   {
    "duration": 584,
    "start_time": "2022-11-27T16:34:10.375Z"
   },
   {
    "duration": 12,
    "start_time": "2022-11-27T16:34:11.070Z"
   },
   {
    "duration": 194,
    "start_time": "2022-11-27T16:34:14.034Z"
   },
   {
    "duration": 39,
    "start_time": "2022-11-27T16:34:14.934Z"
   },
   {
    "duration": 14,
    "start_time": "2022-11-27T16:36:51.775Z"
   },
   {
    "duration": 8,
    "start_time": "2022-11-27T16:36:56.789Z"
   },
   {
    "duration": 19,
    "start_time": "2022-11-27T16:36:58.651Z"
   },
   {
    "duration": 76,
    "start_time": "2022-11-27T16:36:59.189Z"
   },
   {
    "duration": 636,
    "start_time": "2022-11-27T16:37:00.546Z"
   },
   {
    "duration": 6681,
    "start_time": "2022-11-27T16:37:08.100Z"
   },
   {
    "duration": 11044,
    "start_time": "2022-11-27T16:37:14.784Z"
   },
   {
    "duration": 308,
    "start_time": "2022-11-27T16:37:25.829Z"
   },
   {
    "duration": 24,
    "start_time": "2022-11-27T16:37:26.139Z"
   },
   {
    "duration": 30,
    "start_time": "2022-11-27T16:37:26.172Z"
   },
   {
    "duration": 16,
    "start_time": "2022-11-27T16:37:26.204Z"
   },
   {
    "duration": 141,
    "start_time": "2022-11-27T16:37:26.222Z"
   },
   {
    "duration": 5072,
    "start_time": "2022-11-27T16:37:26.381Z"
   },
   {
    "duration": 184,
    "start_time": "2022-11-27T16:37:31.466Z"
   },
   {
    "duration": 8,
    "start_time": "2022-11-27T16:37:31.653Z"
   },
   {
    "duration": 242,
    "start_time": "2022-11-27T16:37:31.664Z"
   },
   {
    "duration": 21,
    "start_time": "2022-11-27T16:37:31.908Z"
   },
   {
    "duration": 503,
    "start_time": "2022-11-27T16:37:40.229Z"
   },
   {
    "duration": 543,
    "start_time": "2022-11-27T16:37:45.748Z"
   },
   {
    "duration": 12,
    "start_time": "2022-11-27T16:37:46.296Z"
   },
   {
    "duration": 192,
    "start_time": "2022-11-27T16:37:49.026Z"
   },
   {
    "duration": 59,
    "start_time": "2022-11-27T16:37:49.220Z"
   },
   {
    "duration": 11,
    "start_time": "2022-11-27T16:39:18.436Z"
   },
   {
    "duration": 3024,
    "start_time": "2022-11-27T16:39:34.685Z"
   },
   {
    "duration": 7,
    "start_time": "2022-11-27T16:39:37.711Z"
   },
   {
    "duration": 86,
    "start_time": "2022-11-27T16:39:37.720Z"
   },
   {
    "duration": 14,
    "start_time": "2022-11-27T16:39:37.809Z"
   },
   {
    "duration": 34,
    "start_time": "2022-11-27T16:39:37.824Z"
   },
   {
    "duration": 10,
    "start_time": "2022-11-27T16:39:37.859Z"
   },
   {
    "duration": 23,
    "start_time": "2022-11-27T16:39:37.871Z"
   },
   {
    "duration": 1543,
    "start_time": "2022-11-27T16:39:37.896Z"
   },
   {
    "duration": 1785,
    "start_time": "2022-11-27T16:39:39.441Z"
   },
   {
    "duration": 7,
    "start_time": "2022-11-27T16:39:41.229Z"
   },
   {
    "duration": 229,
    "start_time": "2022-11-27T16:39:41.253Z"
   },
   {
    "duration": 237,
    "start_time": "2022-11-27T16:39:41.484Z"
   },
   {
    "duration": 424,
    "start_time": "2022-11-27T16:39:41.724Z"
   },
   {
    "duration": 24,
    "start_time": "2022-11-27T16:39:42.151Z"
   },
   {
    "duration": 209,
    "start_time": "2022-11-27T16:39:42.180Z"
   },
   {
    "duration": 279,
    "start_time": "2022-11-27T16:39:42.390Z"
   },
   {
    "duration": 19,
    "start_time": "2022-11-27T16:39:42.671Z"
   },
   {
    "duration": 531,
    "start_time": "2022-11-27T16:39:42.692Z"
   },
   {
    "duration": 38,
    "start_time": "2022-11-27T16:39:43.225Z"
   },
   {
    "duration": 5,
    "start_time": "2022-11-27T16:39:43.265Z"
   },
   {
    "duration": 9,
    "start_time": "2022-11-27T16:39:43.273Z"
   },
   {
    "duration": 9,
    "start_time": "2022-11-27T16:39:43.284Z"
   },
   {
    "duration": 29,
    "start_time": "2022-11-27T16:39:43.295Z"
   },
   {
    "duration": 38,
    "start_time": "2022-11-27T16:39:43.325Z"
   },
   {
    "duration": 20,
    "start_time": "2022-11-27T16:39:43.365Z"
   },
   {
    "duration": 7,
    "start_time": "2022-11-27T16:39:43.387Z"
   },
   {
    "duration": 19,
    "start_time": "2022-11-27T16:39:43.396Z"
   },
   {
    "duration": 3,
    "start_time": "2022-11-27T16:39:43.420Z"
   },
   {
    "duration": 57,
    "start_time": "2022-11-27T16:39:43.425Z"
   },
   {
    "duration": 575,
    "start_time": "2022-11-27T16:39:43.484Z"
   },
   {
    "duration": 89,
    "start_time": "2022-11-27T16:39:44.061Z"
   },
   {
    "duration": 261,
    "start_time": "2022-11-27T16:39:44.152Z"
   },
   {
    "duration": 253,
    "start_time": "2022-11-27T16:39:44.414Z"
   },
   {
    "duration": 414,
    "start_time": "2022-11-27T16:39:44.669Z"
   },
   {
    "duration": 10,
    "start_time": "2022-11-27T16:39:45.086Z"
   },
   {
    "duration": 536,
    "start_time": "2022-11-27T16:39:45.098Z"
   },
   {
    "duration": 249,
    "start_time": "2022-11-27T16:39:45.636Z"
   },
   {
    "duration": 11,
    "start_time": "2022-11-27T16:39:45.887Z"
   },
   {
    "duration": 4876,
    "start_time": "2022-11-27T16:39:45.900Z"
   },
   {
    "duration": 251,
    "start_time": "2022-11-27T16:39:50.778Z"
   },
   {
    "duration": 10,
    "start_time": "2022-11-27T16:39:51.031Z"
   },
   {
    "duration": 12115,
    "start_time": "2022-11-27T16:39:51.053Z"
   },
   {
    "duration": 219,
    "start_time": "2022-11-27T16:40:03.171Z"
   },
   {
    "duration": 891,
    "start_time": "2022-11-27T16:40:03.392Z"
   },
   {
    "duration": 39,
    "start_time": "2022-11-27T16:40:04.285Z"
   },
   {
    "duration": 165,
    "start_time": "2022-11-27T16:40:04.326Z"
   },
   {
    "duration": 77,
    "start_time": "2022-11-27T16:40:04.493Z"
   },
   {
    "duration": 27,
    "start_time": "2022-11-27T16:40:04.650Z"
   },
   {
    "duration": 721,
    "start_time": "2022-11-27T16:40:04.679Z"
   },
   {
    "duration": 4921,
    "start_time": "2022-11-27T16:40:05.402Z"
   },
   {
    "duration": 20606,
    "start_time": "2022-11-27T16:40:10.325Z"
   },
   {
    "duration": 464,
    "start_time": "2022-11-27T16:40:30.933Z"
   },
   {
    "duration": 14,
    "start_time": "2022-11-27T16:40:31.400Z"
   },
   {
    "duration": 10,
    "start_time": "2022-11-27T16:40:31.419Z"
   },
   {
    "duration": 13,
    "start_time": "2022-11-27T16:40:33.573Z"
   },
   {
    "duration": 130,
    "start_time": "2022-11-27T16:40:34.351Z"
   },
   {
    "duration": 641,
    "start_time": "2022-11-27T16:40:35.333Z"
   },
   {
    "duration": 6521,
    "start_time": "2022-11-27T16:40:35.976Z"
   },
   {
    "duration": 10701,
    "start_time": "2022-11-27T16:40:42.499Z"
   },
   {
    "duration": 335,
    "start_time": "2022-11-27T16:40:53.202Z"
   },
   {
    "duration": 31,
    "start_time": "2022-11-27T16:40:53.540Z"
   },
   {
    "duration": 14,
    "start_time": "2022-11-27T16:40:53.573Z"
   },
   {
    "duration": 17,
    "start_time": "2022-11-27T16:40:53.590Z"
   },
   {
    "duration": 63,
    "start_time": "2022-11-27T16:40:53.609Z"
   },
   {
    "duration": 5281,
    "start_time": "2022-11-27T16:40:53.675Z"
   },
   {
    "duration": 252,
    "start_time": "2022-11-27T16:40:59.978Z"
   },
   {
    "duration": 254,
    "start_time": "2022-11-27T16:41:10.790Z"
   },
   {
    "duration": 235,
    "start_time": "2022-11-27T16:41:12.991Z"
   },
   {
    "duration": 11,
    "start_time": "2022-11-27T16:41:13.283Z"
   },
   {
    "duration": 291,
    "start_time": "2022-11-27T16:41:13.742Z"
   },
   {
    "duration": 53,
    "start_time": "2022-11-27T16:41:14.254Z"
   },
   {
    "duration": 543,
    "start_time": "2022-11-27T16:41:15.176Z"
   },
   {
    "duration": 498,
    "start_time": "2022-11-27T16:41:20.680Z"
   },
   {
    "duration": 13,
    "start_time": "2022-11-27T16:41:21.932Z"
   },
   {
    "duration": 229,
    "start_time": "2022-11-27T16:41:24.029Z"
   },
   {
    "duration": 43,
    "start_time": "2022-11-27T16:41:24.377Z"
   },
   {
    "duration": 3882,
    "start_time": "2022-11-27T17:58:56.304Z"
   },
   {
    "duration": 1731,
    "start_time": "2022-11-27T17:59:00.189Z"
   },
   {
    "duration": 96,
    "start_time": "2022-11-27T17:59:01.923Z"
   },
   {
    "duration": 17,
    "start_time": "2022-11-27T17:59:02.021Z"
   },
   {
    "duration": 35,
    "start_time": "2022-11-27T17:59:02.042Z"
   },
   {
    "duration": 54,
    "start_time": "2022-11-27T17:59:02.080Z"
   },
   {
    "duration": 93,
    "start_time": "2022-11-27T17:59:02.136Z"
   },
   {
    "duration": 1914,
    "start_time": "2022-11-27T17:59:02.230Z"
   },
   {
    "duration": 1883,
    "start_time": "2022-11-27T17:59:04.146Z"
   },
   {
    "duration": 38,
    "start_time": "2022-11-27T17:59:06.031Z"
   },
   {
    "duration": 302,
    "start_time": "2022-11-27T17:59:06.083Z"
   },
   {
    "duration": 321,
    "start_time": "2022-11-27T17:59:06.401Z"
   },
   {
    "duration": 486,
    "start_time": "2022-11-27T17:59:06.724Z"
   },
   {
    "duration": 14,
    "start_time": "2022-11-27T17:59:07.214Z"
   },
   {
    "duration": 290,
    "start_time": "2022-11-27T17:59:07.230Z"
   },
   {
    "duration": 301,
    "start_time": "2022-11-27T17:59:07.522Z"
   },
   {
    "duration": 17,
    "start_time": "2022-11-27T17:59:07.825Z"
   },
   {
    "duration": 818,
    "start_time": "2022-11-27T17:59:07.844Z"
   },
   {
    "duration": 51,
    "start_time": "2022-11-27T17:59:08.665Z"
   },
   {
    "duration": 5,
    "start_time": "2022-11-27T17:59:08.719Z"
   },
   {
    "duration": 9,
    "start_time": "2022-11-27T17:59:08.725Z"
   },
   {
    "duration": 11,
    "start_time": "2022-11-27T17:59:08.736Z"
   },
   {
    "duration": 99,
    "start_time": "2022-11-27T17:59:08.749Z"
   },
   {
    "duration": 10,
    "start_time": "2022-11-27T17:59:08.855Z"
   },
   {
    "duration": 51,
    "start_time": "2022-11-27T17:59:08.868Z"
   },
   {
    "duration": 7,
    "start_time": "2022-11-27T17:59:08.920Z"
   },
   {
    "duration": 19,
    "start_time": "2022-11-27T17:59:08.929Z"
   },
   {
    "duration": 29,
    "start_time": "2022-11-27T17:59:08.950Z"
   },
   {
    "duration": 59,
    "start_time": "2022-11-27T17:59:08.981Z"
   },
   {
    "duration": 127,
    "start_time": "2022-11-27T17:59:09.042Z"
   },
   {
    "duration": 117,
    "start_time": "2022-11-27T17:59:09.198Z"
   },
   {
    "duration": 294,
    "start_time": "2022-11-27T17:59:09.318Z"
   },
   {
    "duration": 157,
    "start_time": "2022-11-27T17:59:09.615Z"
   },
   {
    "duration": 375,
    "start_time": "2022-11-27T17:59:09.787Z"
   },
   {
    "duration": 14,
    "start_time": "2022-11-27T17:59:10.164Z"
   },
   {
    "duration": 736,
    "start_time": "2022-11-27T17:59:10.180Z"
   },
   {
    "duration": 310,
    "start_time": "2022-11-27T17:59:10.919Z"
   },
   {
    "duration": 10,
    "start_time": "2022-11-27T17:59:11.231Z"
   },
   {
    "duration": 6104,
    "start_time": "2022-11-27T17:59:11.243Z"
   },
   {
    "duration": 295,
    "start_time": "2022-11-27T17:59:17.349Z"
   },
   {
    "duration": 21,
    "start_time": "2022-11-27T17:59:17.650Z"
   },
   {
    "duration": 14222,
    "start_time": "2022-11-27T17:59:17.675Z"
   },
   {
    "duration": 246,
    "start_time": "2022-11-27T17:59:31.900Z"
   },
   {
    "duration": 1228,
    "start_time": "2022-11-27T17:59:32.171Z"
   },
   {
    "duration": 46,
    "start_time": "2022-11-27T17:59:33.405Z"
   },
   {
    "duration": 190,
    "start_time": "2022-11-27T17:59:33.456Z"
   },
   {
    "duration": 68,
    "start_time": "2022-11-27T17:59:33.653Z"
   },
   {
    "duration": 95,
    "start_time": "2022-11-27T17:59:33.760Z"
   },
   {
    "duration": 718,
    "start_time": "2022-11-27T17:59:33.857Z"
   },
   {
    "duration": 5847,
    "start_time": "2022-11-27T17:59:34.584Z"
   },
   {
    "duration": 25510,
    "start_time": "2022-11-27T17:59:40.435Z"
   },
   {
    "duration": 596,
    "start_time": "2022-11-27T18:00:05.951Z"
   },
   {
    "duration": 36,
    "start_time": "2022-11-27T18:00:06.551Z"
   },
   {
    "duration": 113,
    "start_time": "2022-11-27T18:00:06.593Z"
   },
   {
    "duration": 24,
    "start_time": "2022-11-27T18:00:06.709Z"
   },
   {
    "duration": 151,
    "start_time": "2022-11-27T18:00:06.735Z"
   },
   {
    "duration": 1082,
    "start_time": "2022-11-27T18:00:06.903Z"
   },
   {
    "duration": 8130,
    "start_time": "2022-11-27T18:00:07.987Z"
   },
   {
    "duration": 12601,
    "start_time": "2022-11-27T18:00:16.122Z"
   },
   {
    "duration": 386,
    "start_time": "2022-11-27T18:00:28.725Z"
   },
   {
    "duration": 15,
    "start_time": "2022-11-27T18:00:29.113Z"
   },
   {
    "duration": 11,
    "start_time": "2022-11-27T18:00:29.130Z"
   },
   {
    "duration": 67,
    "start_time": "2022-11-27T18:00:29.159Z"
   },
   {
    "duration": 73,
    "start_time": "2022-11-27T18:00:29.228Z"
   },
   {
    "duration": 5652,
    "start_time": "2022-11-27T18:00:29.365Z"
   },
   {
    "duration": 225,
    "start_time": "2022-11-27T18:00:35.020Z"
   },
   {
    "duration": 28,
    "start_time": "2022-11-27T18:00:35.247Z"
   },
   {
    "duration": 251,
    "start_time": "2022-11-27T18:00:35.291Z"
   },
   {
    "duration": 35,
    "start_time": "2022-11-27T18:00:35.544Z"
   },
   {
    "duration": 662,
    "start_time": "2022-11-27T18:00:35.582Z"
   },
   {
    "duration": 663,
    "start_time": "2022-11-27T18:00:36.246Z"
   },
   {
    "duration": 13,
    "start_time": "2022-11-27T18:00:36.911Z"
   },
   {
    "duration": 217,
    "start_time": "2022-11-27T18:00:36.925Z"
   },
   {
    "duration": 55,
    "start_time": "2022-11-27T18:00:37.144Z"
   },
   {
    "duration": 7587,
    "start_time": "2022-11-27T21:09:49.728Z"
   },
   {
    "duration": 1634,
    "start_time": "2022-11-27T21:09:57.317Z"
   },
   {
    "duration": 222,
    "start_time": "2022-11-27T21:09:58.958Z"
   },
   {
    "duration": 14,
    "start_time": "2022-11-27T21:09:59.182Z"
   },
   {
    "duration": 19,
    "start_time": "2022-11-27T21:09:59.197Z"
   },
   {
    "duration": 6,
    "start_time": "2022-11-27T21:09:59.217Z"
   },
   {
    "duration": 19,
    "start_time": "2022-11-27T21:09:59.225Z"
   },
   {
    "duration": 1333,
    "start_time": "2022-11-27T21:09:59.246Z"
   },
   {
    "duration": 1566,
    "start_time": "2022-11-27T21:10:00.582Z"
   },
   {
    "duration": 15,
    "start_time": "2022-11-27T21:10:02.150Z"
   },
   {
    "duration": 198,
    "start_time": "2022-11-27T21:10:02.167Z"
   },
   {
    "duration": 181,
    "start_time": "2022-11-27T21:10:02.367Z"
   },
   {
    "duration": 391,
    "start_time": "2022-11-27T21:10:02.551Z"
   },
   {
    "duration": 12,
    "start_time": "2022-11-27T21:10:02.944Z"
   },
   {
    "duration": 231,
    "start_time": "2022-11-27T21:10:02.958Z"
   },
   {
    "duration": 198,
    "start_time": "2022-11-27T21:10:03.190Z"
   },
   {
    "duration": 16,
    "start_time": "2022-11-27T21:10:03.390Z"
   },
   {
    "duration": 580,
    "start_time": "2022-11-27T21:10:03.407Z"
   },
   {
    "duration": 20,
    "start_time": "2022-11-27T21:10:03.989Z"
   },
   {
    "duration": 3,
    "start_time": "2022-11-27T21:10:04.011Z"
   },
   {
    "duration": 34,
    "start_time": "2022-11-27T21:10:04.016Z"
   },
   {
    "duration": 19,
    "start_time": "2022-11-27T21:10:04.052Z"
   },
   {
    "duration": 45,
    "start_time": "2022-11-27T21:10:04.073Z"
   },
   {
    "duration": 20,
    "start_time": "2022-11-27T21:10:04.120Z"
   },
   {
    "duration": 34,
    "start_time": "2022-11-27T21:10:04.142Z"
   },
   {
    "duration": 22,
    "start_time": "2022-11-27T21:10:04.178Z"
   },
   {
    "duration": 35,
    "start_time": "2022-11-27T21:10:04.205Z"
   },
   {
    "duration": 6,
    "start_time": "2022-11-27T21:10:04.242Z"
   },
   {
    "duration": 45,
    "start_time": "2022-11-27T21:10:04.251Z"
   },
   {
    "duration": 748,
    "start_time": "2022-11-27T21:10:04.298Z"
   },
   {
    "duration": 113,
    "start_time": "2022-11-27T21:10:05.049Z"
   },
   {
    "duration": 229,
    "start_time": "2022-11-27T21:10:05.165Z"
   },
   {
    "duration": 466,
    "start_time": "2022-11-27T21:10:05.396Z"
   },
   {
    "duration": 312,
    "start_time": "2022-11-27T21:10:05.944Z"
   },
   {
    "duration": 7,
    "start_time": "2022-11-27T21:10:06.259Z"
   },
   {
    "duration": 506,
    "start_time": "2022-11-27T21:10:06.267Z"
   },
   {
    "duration": 258,
    "start_time": "2022-11-27T21:10:06.775Z"
   },
   {
    "duration": 16,
    "start_time": "2022-11-27T21:10:07.038Z"
   },
   {
    "duration": 4547,
    "start_time": "2022-11-27T21:10:07.056Z"
   },
   {
    "duration": 210,
    "start_time": "2022-11-27T21:10:11.605Z"
   },
   {
    "duration": 11,
    "start_time": "2022-11-27T21:10:11.817Z"
   },
   {
    "duration": 10828,
    "start_time": "2022-11-27T21:10:11.841Z"
   },
   {
    "duration": 205,
    "start_time": "2022-11-27T21:10:22.671Z"
   },
   {
    "duration": 906,
    "start_time": "2022-11-27T21:10:22.878Z"
   },
   {
    "duration": 38,
    "start_time": "2022-11-27T21:10:23.786Z"
   },
   {
    "duration": 163,
    "start_time": "2022-11-27T21:10:23.842Z"
   },
   {
    "duration": 40,
    "start_time": "2022-11-27T21:10:24.007Z"
   },
   {
    "duration": 184,
    "start_time": "2022-11-27T21:10:24.052Z"
   },
   {
    "duration": 585,
    "start_time": "2022-11-27T21:10:24.249Z"
   },
   {
    "duration": 4491,
    "start_time": "2022-11-27T21:10:24.838Z"
   },
   {
    "duration": 18213,
    "start_time": "2022-11-27T21:10:29.330Z"
   },
   {
    "duration": 444,
    "start_time": "2022-11-27T21:10:47.546Z"
   },
   {
    "duration": 13,
    "start_time": "2022-11-27T21:10:47.991Z"
   },
   {
    "duration": 82,
    "start_time": "2022-11-27T21:10:48.006Z"
   },
   {
    "duration": 11,
    "start_time": "2022-11-27T21:10:48.090Z"
   },
   {
    "duration": 137,
    "start_time": "2022-11-27T21:10:48.103Z"
   },
   {
    "duration": 697,
    "start_time": "2022-11-27T21:10:48.257Z"
   },
   {
    "duration": 5954,
    "start_time": "2022-11-27T21:10:48.958Z"
   },
   {
    "duration": 9090,
    "start_time": "2022-11-27T21:10:54.914Z"
   },
   {
    "duration": 260,
    "start_time": "2022-11-27T21:11:04.006Z"
   },
   {
    "duration": 12,
    "start_time": "2022-11-27T21:11:04.268Z"
   },
   {
    "duration": 12,
    "start_time": "2022-11-27T21:11:04.281Z"
   },
   {
    "duration": 13,
    "start_time": "2022-11-27T21:11:04.294Z"
   },
   {
    "duration": 137,
    "start_time": "2022-11-27T21:11:04.308Z"
   },
   {
    "duration": 4311,
    "start_time": "2022-11-27T21:11:04.448Z"
   },
   {
    "duration": 201,
    "start_time": "2022-11-27T21:11:08.761Z"
   },
   {
    "duration": 9,
    "start_time": "2022-11-27T21:11:08.966Z"
   },
   {
    "duration": 206,
    "start_time": "2022-11-27T21:11:08.978Z"
   },
   {
    "duration": 15,
    "start_time": "2022-11-27T21:11:09.186Z"
   },
   {
    "duration": 458,
    "start_time": "2022-11-27T21:11:09.203Z"
   },
   {
    "duration": 510,
    "start_time": "2022-11-27T21:11:09.663Z"
   },
   {
    "duration": 11,
    "start_time": "2022-11-27T21:11:10.175Z"
   },
   {
    "duration": 185,
    "start_time": "2022-11-27T21:11:10.188Z"
   },
   {
    "duration": 31,
    "start_time": "2022-11-27T21:11:10.375Z"
   }
  ],
  "kernelspec": {
   "display_name": "Python 3 (ipykernel)",
   "language": "python",
   "name": "python3"
  },
  "language_info": {
   "codemirror_mode": {
    "name": "ipython",
    "version": 3
   },
   "file_extension": ".py",
   "mimetype": "text/x-python",
   "name": "python",
   "nbconvert_exporter": "python",
   "pygments_lexer": "ipython3",
   "version": "3.9.13"
  },
  "toc": {
   "base_numbering": 1,
   "nav_menu": {},
   "number_sections": true,
   "sideBar": true,
   "skip_h1_title": true,
   "title_cell": "Содержание",
   "title_sidebar": "Contents",
   "toc_cell": true,
   "toc_position": {},
   "toc_section_display": true,
   "toc_window_display": true
  },
  "vscode": {
   "interpreter": {
    "hash": "eb45e10f7f1bf7bb3ee1a2b2fdb3b72b753c887550b73c99c003bd2847d6a5ff"
   }
  }
 },
 "nbformat": 4,
 "nbformat_minor": 2
}
