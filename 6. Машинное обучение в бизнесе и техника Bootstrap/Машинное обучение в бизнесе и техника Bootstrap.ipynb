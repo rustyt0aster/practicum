{
 "cells": [
  {
   "attachments": {},
   "cell_type": "markdown",
   "metadata": {
    "toc": true
   },
   "source": [
    "<h1>Содержание<span class=\"tocSkip\"></span></h1>\n",
    "<div class=\"toc\"><ul class=\"toc-item\"><li><span><a href=\"#Загрузка-и-подготовка-данных\" data-toc-modified-id=\"Загрузка-и-подготовка-данных-1\"><span class=\"toc-item-num\">1&nbsp;&nbsp;</span>Загрузка и подготовка данных</a></span><ul class=\"toc-item\"><li><span><a href=\"#Импортируем-необходимые-библиотеки\" data-toc-modified-id=\"Импортируем-необходимые-библиотеки-1.1\"><span class=\"toc-item-num\">1.1&nbsp;&nbsp;</span>Импортируем необходимые библиотеки</a></span></li><li><span><a href=\"#Загружаем-данные\" data-toc-modified-id=\"Загружаем-данные-1.2\"><span class=\"toc-item-num\">1.2&nbsp;&nbsp;</span>Загружаем данные</a></span><ul class=\"toc-item\"><li><span><a href=\"#Описание-данных\" data-toc-modified-id=\"Описание-данных-1.2.1\"><span class=\"toc-item-num\">1.2.1&nbsp;&nbsp;</span>Описание данных</a></span></li><li><span><a href=\"#Условия-задачи\" data-toc-modified-id=\"Условия-задачи-1.2.2\"><span class=\"toc-item-num\">1.2.2&nbsp;&nbsp;</span>Условия задачи</a></span></li><li><span><a href=\"#Загрузка-датасетов\" data-toc-modified-id=\"Загрузка-датасетов-1.2.3\"><span class=\"toc-item-num\">1.2.3&nbsp;&nbsp;</span>Загрузка датасетов</a></span></li></ul></li><li><span><a href=\"#Предобработка-данных\" data-toc-modified-id=\"Предобработка-данных-1.3\"><span class=\"toc-item-num\">1.3&nbsp;&nbsp;</span>Предобработка данных</a></span><ul class=\"toc-item\"><li><span><a href=\"#Пропуски\" data-toc-modified-id=\"Пропуски-1.3.1\"><span class=\"toc-item-num\">1.3.1&nbsp;&nbsp;</span>Пропуски</a></span></li><li><span><a href=\"#Типы-данных\" data-toc-modified-id=\"Типы-данных-1.3.2\"><span class=\"toc-item-num\">1.3.2&nbsp;&nbsp;</span>Типы данных</a></span></li><li><span><a href=\"#Явные-дубликаты\" data-toc-modified-id=\"Явные-дубликаты-1.3.3\"><span class=\"toc-item-num\">1.3.3&nbsp;&nbsp;</span>Явные дубликаты</a></span></li><li><span><a href=\"#Строим-гистограммы\" data-toc-modified-id=\"Строим-гистограммы-1.3.4\"><span class=\"toc-item-num\">1.3.4&nbsp;&nbsp;</span>Строим гистограммы</a></span></li><li><span><a href=\"#Удаление-лишних-данных\" data-toc-modified-id=\"Удаление-лишних-данных-1.3.5\"><span class=\"toc-item-num\">1.3.5&nbsp;&nbsp;</span>Удаление лишних данных</a></span></li></ul></li><li><span><a href=\"#Выводы-по-подготовке-данных\" data-toc-modified-id=\"Выводы-по-подготовке-данных-1.4\"><span class=\"toc-item-num\">1.4&nbsp;&nbsp;</span>Выводы по подготовке данных</a></span></li></ul></li><li><span><a href=\"#Обучение-и-проверка-модели\" data-toc-modified-id=\"Обучение-и-проверка-модели-2\"><span class=\"toc-item-num\">2&nbsp;&nbsp;</span>Обучение и проверка модели</a></span><ul class=\"toc-item\"><li><span><a href=\"#Разбиение-данных\" data-toc-modified-id=\"Разбиение-данных-2.1\"><span class=\"toc-item-num\">2.1&nbsp;&nbsp;</span>Разбиение данных</a></span></li><li><span><a href=\"#Обучение-модели\" data-toc-modified-id=\"Обучение-модели-2.2\"><span class=\"toc-item-num\">2.2&nbsp;&nbsp;</span>Обучение модели</a></span></li><li><span><a href=\"#Предсказания-и-правильные-ответы\" data-toc-modified-id=\"Предсказания-и-правильные-ответы-2.3\"><span class=\"toc-item-num\">2.3&nbsp;&nbsp;</span>Предсказания и правильные ответы</a></span><ul class=\"toc-item\"><li><span><a href=\"#Первый-регион\" data-toc-modified-id=\"Первый-регион-2.3.1\"><span class=\"toc-item-num\">2.3.1&nbsp;&nbsp;</span>Первый регион</a></span></li><li><span><a href=\"#Второй-регион\" data-toc-modified-id=\"Второй-регион-2.3.2\"><span class=\"toc-item-num\">2.3.2&nbsp;&nbsp;</span>Второй регион</a></span></li><li><span><a href=\"#Третий-регион\" data-toc-modified-id=\"Третий-регион-2.3.3\"><span class=\"toc-item-num\">2.3.3&nbsp;&nbsp;</span>Третий регион</a></span></li></ul></li><li><span><a href=\"#Полученные-результаты\" data-toc-modified-id=\"Полученные-результаты-2.4\"><span class=\"toc-item-num\">2.4&nbsp;&nbsp;</span>Полученные результаты</a></span></li><li><span><a href=\"#Выводы-по-обучению-моделей\" data-toc-modified-id=\"Выводы-по-обучению-моделей-2.5\"><span class=\"toc-item-num\">2.5&nbsp;&nbsp;</span>Выводы по обучению моделей</a></span></li></ul></li><li><span><a href=\"#Подготовка-к-расчёту-прибыли\" data-toc-modified-id=\"Подготовка-к-расчёту-прибыли-3\"><span class=\"toc-item-num\">3&nbsp;&nbsp;</span>Подготовка к расчёту прибыли</a></span><ul class=\"toc-item\"><li><span><a href=\"#Введем-константы\" data-toc-modified-id=\"Введем-константы-3.1\"><span class=\"toc-item-num\">3.1&nbsp;&nbsp;</span>Введем константы</a></span></li><li><span><a href=\"#Безубыточная-добыча\" data-toc-modified-id=\"Безубыточная-добыча-3.2\"><span class=\"toc-item-num\">3.2&nbsp;&nbsp;</span>Безубыточная добыча</a></span></li><li><span><a href=\"#Вывод-по-разделу\" data-toc-modified-id=\"Вывод-по-разделу-3.3\"><span class=\"toc-item-num\">3.3&nbsp;&nbsp;</span>Вывод по разделу</a></span></li></ul></li><li><span><a href=\"#Расчёт-прибыли-и-рисков\" data-toc-modified-id=\"Расчёт-прибыли-и-рисков-4\"><span class=\"toc-item-num\">4&nbsp;&nbsp;</span>Расчёт прибыли и рисков</a></span><ul class=\"toc-item\"><li><span><a href=\"#Расчет-прибыли\" data-toc-modified-id=\"Расчет-прибыли-4.1\"><span class=\"toc-item-num\">4.1&nbsp;&nbsp;</span>Расчет прибыли</a></span></li><li><span><a href=\"#Расчет-рисков\" data-toc-modified-id=\"Расчет-рисков-4.2\"><span class=\"toc-item-num\">4.2&nbsp;&nbsp;</span>Расчет рисков</a></span></li></ul></li><li><span><a href=\"#Выводы\" data-toc-modified-id=\"Выводы-5\"><span class=\"toc-item-num\">5&nbsp;&nbsp;</span>Выводы</a></span></li></ul></div>"
   ]
  },
  {
   "attachments": {},
   "cell_type": "markdown",
   "metadata": {},
   "source": [
    "# Машинное обучение в бизнесе и техника Bootstrap"
   ]
  },
  {
   "attachments": {},
   "cell_type": "markdown",
   "metadata": {},
   "source": [
    "Допустим, вы работаете в добывающей компании «ГлавРосГосНефть». Нужно решить, где бурить новую скважину.\n",
    "\n",
    "Вам предоставлены пробы нефти в трёх регионах: в каждом 100 000 месторождений, где измерили качество нефти и объём её запасов. Постройте модель машинного обучения, которая поможет определить регион, где добыча принесёт наибольшую прибыль. Проанализируйте возможную прибыль и риски техникой *Bootstrap.*\n",
    "\n",
    "Шаги для выбора локации:\n",
    "\n",
    "- В избранном регионе ищут месторождения, для каждого определяют значения признаков;\n",
    "- Строят модель и оценивают объём запасов;\n",
    "- Выбирают месторождения с самым высокими оценками значений. Количество месторождений зависит от бюджета компании и стоимости разработки одной скважины;\n",
    "- Прибыль равна суммарной прибыли отобранных месторождений."
   ]
  },
  {
   "attachments": {},
   "cell_type": "markdown",
   "metadata": {},
   "source": [
    "## Загрузка и подготовка данных"
   ]
  },
  {
   "attachments": {},
   "cell_type": "markdown",
   "metadata": {},
   "source": [
    "### Импортируем необходимые библиотеки"
   ]
  },
  {
   "cell_type": "code",
   "execution_count": 1,
   "metadata": {},
   "outputs": [],
   "source": [
    "import pandas as pd\n",
    "import numpy as np"
   ]
  },
  {
   "cell_type": "code",
   "execution_count": 2,
   "metadata": {},
   "outputs": [],
   "source": [
    "from sklearn.model_selection import train_test_split #импорт модуля разделения из специального модуля библиотеки sklearn\n",
    "from sklearn.linear_model import LinearRegression #импорт модуля линейной регрессии\n",
    "from sklearn.metrics import mean_squared_error #квадратичные отклонения"
   ]
  },
  {
   "attachments": {},
   "cell_type": "markdown",
   "metadata": {},
   "source": [
    "### Загружаем данные"
   ]
  },
  {
   "attachments": {},
   "cell_type": "markdown",
   "metadata": {},
   "source": [
    "#### Описание данных"
   ]
  },
  {
   "attachments": {},
   "cell_type": "markdown",
   "metadata": {},
   "source": [
    "- `id` — уникальный идентификатор скважины;\n",
    "- `f0`, `f1`, `f2` — три признака точек;\n",
    "- `product` — объём запасов в скважине (тыс. баррелей)."
   ]
  },
  {
   "attachments": {},
   "cell_type": "markdown",
   "metadata": {},
   "source": [
    "#### Условия задачи"
   ]
  },
  {
   "attachments": {},
   "cell_type": "markdown",
   "metadata": {},
   "source": [
    "- Для обучения модели подходит только линейная регрессия (остальные — недостаточно предсказуемые).\n",
    "- При разведке региона исследуют 500 точек, из которых с помощью машинного обучения выбирают 200 лучших для разработки.\n",
    "- Бюджет на разработку скважин в регионе — 10 млрд рублей.\n",
    "- При нынешних ценах один баррель сырья приносит 450 рублей дохода. Доход с каждой единицы продукта составляет 450 тыс. рублей, поскольку объём указан в тысячах баррелей.\n",
    "- После оценки рисков нужно оставить лишь те регионы, в которых вероятность убытков меньше 2.5%. Среди них выбирают регион с наибольшей средней прибылью.\n",
    "\n",
    "*Данные синтетические: детали контрактов и характеристики месторождений не разглашаются.*"
   ]
  },
  {
   "attachments": {},
   "cell_type": "markdown",
   "metadata": {},
   "source": [
    "#### Загрузка датасетов"
   ]
  },
  {
   "cell_type": "code",
   "execution_count": 3,
   "metadata": {},
   "outputs": [
    {
     "data": {
      "text/html": [
       "<div>\n",
       "<style scoped>\n",
       "    .dataframe tbody tr th:only-of-type {\n",
       "        vertical-align: middle;\n",
       "    }\n",
       "\n",
       "    .dataframe tbody tr th {\n",
       "        vertical-align: top;\n",
       "    }\n",
       "\n",
       "    .dataframe thead th {\n",
       "        text-align: right;\n",
       "    }\n",
       "</style>\n",
       "<table border=\"1\" class=\"dataframe\">\n",
       "  <thead>\n",
       "    <tr style=\"text-align: right;\">\n",
       "      <th></th>\n",
       "      <th>id</th>\n",
       "      <th>f0</th>\n",
       "      <th>f1</th>\n",
       "      <th>f2</th>\n",
       "      <th>product</th>\n",
       "    </tr>\n",
       "  </thead>\n",
       "  <tbody>\n",
       "    <tr>\n",
       "      <th>0</th>\n",
       "      <td>txEyH</td>\n",
       "      <td>0.705745</td>\n",
       "      <td>-0.497823</td>\n",
       "      <td>1.221170</td>\n",
       "      <td>105.280062</td>\n",
       "    </tr>\n",
       "    <tr>\n",
       "      <th>1</th>\n",
       "      <td>2acmU</td>\n",
       "      <td>1.334711</td>\n",
       "      <td>-0.340164</td>\n",
       "      <td>4.365080</td>\n",
       "      <td>73.037750</td>\n",
       "    </tr>\n",
       "    <tr>\n",
       "      <th>2</th>\n",
       "      <td>409Wp</td>\n",
       "      <td>1.022732</td>\n",
       "      <td>0.151990</td>\n",
       "      <td>1.419926</td>\n",
       "      <td>85.265647</td>\n",
       "    </tr>\n",
       "    <tr>\n",
       "      <th>3</th>\n",
       "      <td>iJLyR</td>\n",
       "      <td>-0.032172</td>\n",
       "      <td>0.139033</td>\n",
       "      <td>2.978566</td>\n",
       "      <td>168.620776</td>\n",
       "    </tr>\n",
       "    <tr>\n",
       "      <th>4</th>\n",
       "      <td>Xdl7t</td>\n",
       "      <td>1.988431</td>\n",
       "      <td>0.155413</td>\n",
       "      <td>4.751769</td>\n",
       "      <td>154.036647</td>\n",
       "    </tr>\n",
       "    <tr>\n",
       "      <th>...</th>\n",
       "      <td>...</td>\n",
       "      <td>...</td>\n",
       "      <td>...</td>\n",
       "      <td>...</td>\n",
       "      <td>...</td>\n",
       "    </tr>\n",
       "    <tr>\n",
       "      <th>99995</th>\n",
       "      <td>DLsed</td>\n",
       "      <td>0.971957</td>\n",
       "      <td>0.370953</td>\n",
       "      <td>6.075346</td>\n",
       "      <td>110.744026</td>\n",
       "    </tr>\n",
       "    <tr>\n",
       "      <th>99996</th>\n",
       "      <td>QKivN</td>\n",
       "      <td>1.392429</td>\n",
       "      <td>-0.382606</td>\n",
       "      <td>1.273912</td>\n",
       "      <td>122.346843</td>\n",
       "    </tr>\n",
       "    <tr>\n",
       "      <th>99997</th>\n",
       "      <td>3rnvd</td>\n",
       "      <td>1.029585</td>\n",
       "      <td>0.018787</td>\n",
       "      <td>-1.348308</td>\n",
       "      <td>64.375443</td>\n",
       "    </tr>\n",
       "    <tr>\n",
       "      <th>99998</th>\n",
       "      <td>7kl59</td>\n",
       "      <td>0.998163</td>\n",
       "      <td>-0.528582</td>\n",
       "      <td>1.583869</td>\n",
       "      <td>74.040764</td>\n",
       "    </tr>\n",
       "    <tr>\n",
       "      <th>99999</th>\n",
       "      <td>1CWhH</td>\n",
       "      <td>1.764754</td>\n",
       "      <td>-0.266417</td>\n",
       "      <td>5.722849</td>\n",
       "      <td>149.633246</td>\n",
       "    </tr>\n",
       "  </tbody>\n",
       "</table>\n",
       "<p>100000 rows × 5 columns</p>\n",
       "</div>"
      ],
      "text/plain": [
       "          id        f0        f1        f2     product\n",
       "0      txEyH  0.705745 -0.497823  1.221170  105.280062\n",
       "1      2acmU  1.334711 -0.340164  4.365080   73.037750\n",
       "2      409Wp  1.022732  0.151990  1.419926   85.265647\n",
       "3      iJLyR -0.032172  0.139033  2.978566  168.620776\n",
       "4      Xdl7t  1.988431  0.155413  4.751769  154.036647\n",
       "...      ...       ...       ...       ...         ...\n",
       "99995  DLsed  0.971957  0.370953  6.075346  110.744026\n",
       "99996  QKivN  1.392429 -0.382606  1.273912  122.346843\n",
       "99997  3rnvd  1.029585  0.018787 -1.348308   64.375443\n",
       "99998  7kl59  0.998163 -0.528582  1.583869   74.040764\n",
       "99999  1CWhH  1.764754 -0.266417  5.722849  149.633246\n",
       "\n",
       "[100000 rows x 5 columns]"
      ]
     },
     "execution_count": 3,
     "metadata": {},
     "output_type": "execute_result"
    }
   ],
   "source": [
    "# открываем таблицу geo_data_0:\n",
    "try:\n",
    "    first_region = pd.read_csv('/datasets/geo_data_0.csv')\n",
    "except:\n",
    "    try:\n",
    "        first_region = pd.read_csv(r'E:\\Practicum\\2_Projects_Git\\8_business_ml_borehole\\geo_data_0.csv')\n",
    "    except:\n",
    "        first_region = pd.read_csv('geo_data_0.csv')\n",
    "first_region"
   ]
  },
  {
   "cell_type": "code",
   "execution_count": 4,
   "metadata": {},
   "outputs": [
    {
     "data": {
      "text/html": [
       "<div>\n",
       "<style scoped>\n",
       "    .dataframe tbody tr th:only-of-type {\n",
       "        vertical-align: middle;\n",
       "    }\n",
       "\n",
       "    .dataframe tbody tr th {\n",
       "        vertical-align: top;\n",
       "    }\n",
       "\n",
       "    .dataframe thead th {\n",
       "        text-align: right;\n",
       "    }\n",
       "</style>\n",
       "<table border=\"1\" class=\"dataframe\">\n",
       "  <thead>\n",
       "    <tr style=\"text-align: right;\">\n",
       "      <th></th>\n",
       "      <th>id</th>\n",
       "      <th>f0</th>\n",
       "      <th>f1</th>\n",
       "      <th>f2</th>\n",
       "      <th>product</th>\n",
       "    </tr>\n",
       "  </thead>\n",
       "  <tbody>\n",
       "    <tr>\n",
       "      <th>0</th>\n",
       "      <td>kBEdx</td>\n",
       "      <td>-15.001348</td>\n",
       "      <td>-8.276000</td>\n",
       "      <td>-0.005876</td>\n",
       "      <td>3.179103</td>\n",
       "    </tr>\n",
       "    <tr>\n",
       "      <th>1</th>\n",
       "      <td>62mP7</td>\n",
       "      <td>14.272088</td>\n",
       "      <td>-3.475083</td>\n",
       "      <td>0.999183</td>\n",
       "      <td>26.953261</td>\n",
       "    </tr>\n",
       "    <tr>\n",
       "      <th>2</th>\n",
       "      <td>vyE1P</td>\n",
       "      <td>6.263187</td>\n",
       "      <td>-5.948386</td>\n",
       "      <td>5.001160</td>\n",
       "      <td>134.766305</td>\n",
       "    </tr>\n",
       "    <tr>\n",
       "      <th>3</th>\n",
       "      <td>KcrkZ</td>\n",
       "      <td>-13.081196</td>\n",
       "      <td>-11.506057</td>\n",
       "      <td>4.999415</td>\n",
       "      <td>137.945408</td>\n",
       "    </tr>\n",
       "    <tr>\n",
       "      <th>4</th>\n",
       "      <td>AHL4O</td>\n",
       "      <td>12.702195</td>\n",
       "      <td>-8.147433</td>\n",
       "      <td>5.004363</td>\n",
       "      <td>134.766305</td>\n",
       "    </tr>\n",
       "    <tr>\n",
       "      <th>...</th>\n",
       "      <td>...</td>\n",
       "      <td>...</td>\n",
       "      <td>...</td>\n",
       "      <td>...</td>\n",
       "      <td>...</td>\n",
       "    </tr>\n",
       "    <tr>\n",
       "      <th>99995</th>\n",
       "      <td>QywKC</td>\n",
       "      <td>9.535637</td>\n",
       "      <td>-6.878139</td>\n",
       "      <td>1.998296</td>\n",
       "      <td>53.906522</td>\n",
       "    </tr>\n",
       "    <tr>\n",
       "      <th>99996</th>\n",
       "      <td>ptvty</td>\n",
       "      <td>-10.160631</td>\n",
       "      <td>-12.558096</td>\n",
       "      <td>5.005581</td>\n",
       "      <td>137.945408</td>\n",
       "    </tr>\n",
       "    <tr>\n",
       "      <th>99997</th>\n",
       "      <td>09gWa</td>\n",
       "      <td>-7.378891</td>\n",
       "      <td>-3.084104</td>\n",
       "      <td>4.998651</td>\n",
       "      <td>137.945408</td>\n",
       "    </tr>\n",
       "    <tr>\n",
       "      <th>99998</th>\n",
       "      <td>rqwUm</td>\n",
       "      <td>0.665714</td>\n",
       "      <td>-6.152593</td>\n",
       "      <td>1.000146</td>\n",
       "      <td>30.132364</td>\n",
       "    </tr>\n",
       "    <tr>\n",
       "      <th>99999</th>\n",
       "      <td>relB0</td>\n",
       "      <td>-3.426139</td>\n",
       "      <td>-7.794274</td>\n",
       "      <td>-0.003299</td>\n",
       "      <td>3.179103</td>\n",
       "    </tr>\n",
       "  </tbody>\n",
       "</table>\n",
       "<p>100000 rows × 5 columns</p>\n",
       "</div>"
      ],
      "text/plain": [
       "          id         f0         f1        f2     product\n",
       "0      kBEdx -15.001348  -8.276000 -0.005876    3.179103\n",
       "1      62mP7  14.272088  -3.475083  0.999183   26.953261\n",
       "2      vyE1P   6.263187  -5.948386  5.001160  134.766305\n",
       "3      KcrkZ -13.081196 -11.506057  4.999415  137.945408\n",
       "4      AHL4O  12.702195  -8.147433  5.004363  134.766305\n",
       "...      ...        ...        ...       ...         ...\n",
       "99995  QywKC   9.535637  -6.878139  1.998296   53.906522\n",
       "99996  ptvty -10.160631 -12.558096  5.005581  137.945408\n",
       "99997  09gWa  -7.378891  -3.084104  4.998651  137.945408\n",
       "99998  rqwUm   0.665714  -6.152593  1.000146   30.132364\n",
       "99999  relB0  -3.426139  -7.794274 -0.003299    3.179103\n",
       "\n",
       "[100000 rows x 5 columns]"
      ]
     },
     "execution_count": 4,
     "metadata": {},
     "output_type": "execute_result"
    }
   ],
   "source": [
    "# открываем таблицу geo_data_1:\n",
    "try:\n",
    "    second_region = pd.read_csv('/datasets/geo_data_1.csv')\n",
    "except:\n",
    "    try:\n",
    "        second_region = pd.read_csv(r'E:\\Practicum\\2_Projects_Git\\8_business_ml_borehole\\geo_data_1.csv')\n",
    "    except:\n",
    "        second_region = pd.read_csv('geo_data_1.csv')\n",
    "second_region"
   ]
  },
  {
   "cell_type": "code",
   "execution_count": 5,
   "metadata": {},
   "outputs": [
    {
     "data": {
      "text/html": [
       "<div>\n",
       "<style scoped>\n",
       "    .dataframe tbody tr th:only-of-type {\n",
       "        vertical-align: middle;\n",
       "    }\n",
       "\n",
       "    .dataframe tbody tr th {\n",
       "        vertical-align: top;\n",
       "    }\n",
       "\n",
       "    .dataframe thead th {\n",
       "        text-align: right;\n",
       "    }\n",
       "</style>\n",
       "<table border=\"1\" class=\"dataframe\">\n",
       "  <thead>\n",
       "    <tr style=\"text-align: right;\">\n",
       "      <th></th>\n",
       "      <th>id</th>\n",
       "      <th>f0</th>\n",
       "      <th>f1</th>\n",
       "      <th>f2</th>\n",
       "      <th>product</th>\n",
       "    </tr>\n",
       "  </thead>\n",
       "  <tbody>\n",
       "    <tr>\n",
       "      <th>0</th>\n",
       "      <td>fwXo0</td>\n",
       "      <td>-1.146987</td>\n",
       "      <td>0.963328</td>\n",
       "      <td>-0.828965</td>\n",
       "      <td>27.758673</td>\n",
       "    </tr>\n",
       "    <tr>\n",
       "      <th>1</th>\n",
       "      <td>WJtFt</td>\n",
       "      <td>0.262778</td>\n",
       "      <td>0.269839</td>\n",
       "      <td>-2.530187</td>\n",
       "      <td>56.069697</td>\n",
       "    </tr>\n",
       "    <tr>\n",
       "      <th>2</th>\n",
       "      <td>ovLUW</td>\n",
       "      <td>0.194587</td>\n",
       "      <td>0.289035</td>\n",
       "      <td>-5.586433</td>\n",
       "      <td>62.871910</td>\n",
       "    </tr>\n",
       "    <tr>\n",
       "      <th>3</th>\n",
       "      <td>q6cA6</td>\n",
       "      <td>2.236060</td>\n",
       "      <td>-0.553760</td>\n",
       "      <td>0.930038</td>\n",
       "      <td>114.572842</td>\n",
       "    </tr>\n",
       "    <tr>\n",
       "      <th>4</th>\n",
       "      <td>WPMUX</td>\n",
       "      <td>-0.515993</td>\n",
       "      <td>1.716266</td>\n",
       "      <td>5.899011</td>\n",
       "      <td>149.600746</td>\n",
       "    </tr>\n",
       "    <tr>\n",
       "      <th>...</th>\n",
       "      <td>...</td>\n",
       "      <td>...</td>\n",
       "      <td>...</td>\n",
       "      <td>...</td>\n",
       "      <td>...</td>\n",
       "    </tr>\n",
       "    <tr>\n",
       "      <th>99995</th>\n",
       "      <td>4GxBu</td>\n",
       "      <td>-1.777037</td>\n",
       "      <td>1.125220</td>\n",
       "      <td>6.263374</td>\n",
       "      <td>172.327046</td>\n",
       "    </tr>\n",
       "    <tr>\n",
       "      <th>99996</th>\n",
       "      <td>YKFjq</td>\n",
       "      <td>-1.261523</td>\n",
       "      <td>-0.894828</td>\n",
       "      <td>2.524545</td>\n",
       "      <td>138.748846</td>\n",
       "    </tr>\n",
       "    <tr>\n",
       "      <th>99997</th>\n",
       "      <td>tKPY3</td>\n",
       "      <td>-1.199934</td>\n",
       "      <td>-2.957637</td>\n",
       "      <td>5.219411</td>\n",
       "      <td>157.080080</td>\n",
       "    </tr>\n",
       "    <tr>\n",
       "      <th>99998</th>\n",
       "      <td>nmxp2</td>\n",
       "      <td>-2.419896</td>\n",
       "      <td>2.417221</td>\n",
       "      <td>-5.548444</td>\n",
       "      <td>51.795253</td>\n",
       "    </tr>\n",
       "    <tr>\n",
       "      <th>99999</th>\n",
       "      <td>V9kWn</td>\n",
       "      <td>-2.551421</td>\n",
       "      <td>-2.025625</td>\n",
       "      <td>6.090891</td>\n",
       "      <td>102.775767</td>\n",
       "    </tr>\n",
       "  </tbody>\n",
       "</table>\n",
       "<p>100000 rows × 5 columns</p>\n",
       "</div>"
      ],
      "text/plain": [
       "          id        f0        f1        f2     product\n",
       "0      fwXo0 -1.146987  0.963328 -0.828965   27.758673\n",
       "1      WJtFt  0.262778  0.269839 -2.530187   56.069697\n",
       "2      ovLUW  0.194587  0.289035 -5.586433   62.871910\n",
       "3      q6cA6  2.236060 -0.553760  0.930038  114.572842\n",
       "4      WPMUX -0.515993  1.716266  5.899011  149.600746\n",
       "...      ...       ...       ...       ...         ...\n",
       "99995  4GxBu -1.777037  1.125220  6.263374  172.327046\n",
       "99996  YKFjq -1.261523 -0.894828  2.524545  138.748846\n",
       "99997  tKPY3 -1.199934 -2.957637  5.219411  157.080080\n",
       "99998  nmxp2 -2.419896  2.417221 -5.548444   51.795253\n",
       "99999  V9kWn -2.551421 -2.025625  6.090891  102.775767\n",
       "\n",
       "[100000 rows x 5 columns]"
      ]
     },
     "execution_count": 5,
     "metadata": {},
     "output_type": "execute_result"
    }
   ],
   "source": [
    "# открываем таблицу geo_data_2:\n",
    "try:\n",
    "    third_region = pd.read_csv('/datasets/geo_data_2.csv')\n",
    "except:\n",
    "    try:\n",
    "        third_region = pd.read_csv(r'E:\\Practicum\\2_Projects_Git\\8_business_ml_borehole\\geo_data_2.csv')\n",
    "    except:\n",
    "        third_region = pd.read_csv('geo_data_2.csv')\n",
    "third_region"
   ]
  },
  {
   "attachments": {},
   "cell_type": "markdown",
   "metadata": {},
   "source": [
    "### Предобработка данных"
   ]
  },
  {
   "attachments": {},
   "cell_type": "markdown",
   "metadata": {},
   "source": [
    "#### Пропуски"
   ]
  },
  {
   "cell_type": "code",
   "execution_count": 6,
   "metadata": {},
   "outputs": [
    {
     "name": "stdout",
     "output_type": "stream",
     "text": [
      "<class 'pandas.core.frame.DataFrame'>\n",
      "RangeIndex: 100000 entries, 0 to 99999\n",
      "Data columns (total 5 columns):\n",
      " #   Column   Non-Null Count   Dtype  \n",
      "---  ------   --------------   -----  \n",
      " 0   id       100000 non-null  object \n",
      " 1   f0       100000 non-null  float64\n",
      " 2   f1       100000 non-null  float64\n",
      " 3   f2       100000 non-null  float64\n",
      " 4   product  100000 non-null  float64\n",
      "dtypes: float64(4), object(1)\n",
      "memory usage: 3.8+ MB\n"
     ]
    }
   ],
   "source": [
    "first_region.info() #выводим инвормацию"
   ]
  },
  {
   "cell_type": "code",
   "execution_count": 7,
   "metadata": {},
   "outputs": [
    {
     "name": "stdout",
     "output_type": "stream",
     "text": [
      "<class 'pandas.core.frame.DataFrame'>\n",
      "RangeIndex: 100000 entries, 0 to 99999\n",
      "Data columns (total 5 columns):\n",
      " #   Column   Non-Null Count   Dtype  \n",
      "---  ------   --------------   -----  \n",
      " 0   id       100000 non-null  object \n",
      " 1   f0       100000 non-null  float64\n",
      " 2   f1       100000 non-null  float64\n",
      " 3   f2       100000 non-null  float64\n",
      " 4   product  100000 non-null  float64\n",
      "dtypes: float64(4), object(1)\n",
      "memory usage: 3.8+ MB\n"
     ]
    }
   ],
   "source": [
    "second_region.info()"
   ]
  },
  {
   "cell_type": "code",
   "execution_count": 8,
   "metadata": {},
   "outputs": [
    {
     "name": "stdout",
     "output_type": "stream",
     "text": [
      "<class 'pandas.core.frame.DataFrame'>\n",
      "RangeIndex: 100000 entries, 0 to 99999\n",
      "Data columns (total 5 columns):\n",
      " #   Column   Non-Null Count   Dtype  \n",
      "---  ------   --------------   -----  \n",
      " 0   id       100000 non-null  object \n",
      " 1   f0       100000 non-null  float64\n",
      " 2   f1       100000 non-null  float64\n",
      " 3   f2       100000 non-null  float64\n",
      " 4   product  100000 non-null  float64\n",
      "dtypes: float64(4), object(1)\n",
      "memory usage: 3.8+ MB\n"
     ]
    }
   ],
   "source": [
    "third_region.info()"
   ]
  },
  {
   "attachments": {},
   "cell_type": "markdown",
   "metadata": {},
   "source": [
    "Все датасеты заполнены данными. Пропусков - нет."
   ]
  },
  {
   "attachments": {},
   "cell_type": "markdown",
   "metadata": {},
   "source": [
    "#### Типы данных"
   ]
  },
  {
   "attachments": {},
   "cell_type": "markdown",
   "metadata": {},
   "source": [
    "Из информации выше видим, что все типы данных заполнены корректно."
   ]
  },
  {
   "attachments": {},
   "cell_type": "markdown",
   "metadata": {},
   "source": [
    "#### Явные дубликаты"
   ]
  },
  {
   "cell_type": "code",
   "execution_count": 9,
   "metadata": {},
   "outputs": [
    {
     "data": {
      "text/plain": [
       "0"
      ]
     },
     "metadata": {},
     "output_type": "display_data"
    },
    {
     "data": {
      "text/plain": [
       "0"
      ]
     },
     "metadata": {},
     "output_type": "display_data"
    },
    {
     "data": {
      "text/plain": [
       "0"
      ]
     },
     "metadata": {},
     "output_type": "display_data"
    }
   ],
   "source": [
    "display(first_region.duplicated().sum()) #показать дубликаты\n",
    "display(second_region.duplicated().sum())\n",
    "display(third_region.duplicated().sum())\n"
   ]
  },
  {
   "attachments": {},
   "cell_type": "markdown",
   "metadata": {},
   "source": [
    "Явных дубликатов нет. Несмотря на то, что это разные регионы, проверим, нет ли в среди них общих данных."
   ]
  },
  {
   "cell_type": "code",
   "execution_count": 10,
   "metadata": {},
   "outputs": [
    {
     "data": {
      "text/plain": [
       "0"
      ]
     },
     "metadata": {},
     "output_type": "display_data"
    }
   ],
   "source": [
    "frames = [first_region, second_region, third_region] #список датасетов\n",
    "common_table_to_find_duplicate = pd.concat(frames) #склеить\n",
    "display(common_table_to_find_duplicate.duplicated().sum()) #показать дубликаты\n"
   ]
  },
  {
   "attachments": {},
   "cell_type": "markdown",
   "metadata": {},
   "source": [
    "#### Строим гистограммы"
   ]
  },
  {
   "attachments": {},
   "cell_type": "markdown",
   "metadata": {},
   "source": [
    "Построив гистограммы, сможем проследить, есть ли явные выбросы в признаках."
   ]
  },
  {
   "cell_type": "code",
   "execution_count": 11,
   "metadata": {},
   "outputs": [
    {
     "data": {
      "image/png": "[encoded data removed]",
      "text/plain": [
       "<Figure size 640x480 with 4 Axes>"
      ]
     },
     "metadata": {},
     "output_type": "display_data"
    }
   ],
   "source": [
    "first_region.hist(); #строим гистограммы"
   ]
  },
  {
   "cell_type": "code",
   "execution_count": 12,
   "metadata": {},
   "outputs": [
    {
     "data": {
      "image/png": "[encoded data removed]",
      "text/plain": [
       "<Figure size 640x480 with 4 Axes>"
      ]
     },
     "metadata": {},
     "output_type": "display_data"
    }
   ],
   "source": [
    "second_region.hist();"
   ]
  },
  {
   "cell_type": "code",
   "execution_count": 13,
   "metadata": {},
   "outputs": [
    {
     "data": {
      "image/png": "[encoded data removed]",
      "text/plain": [
       "<Figure size 640x480 with 4 Axes>"
      ]
     },
     "metadata": {},
     "output_type": "display_data"
    }
   ],
   "source": [
    "third_region.hist();"
   ]
  },
  {
   "attachments": {},
   "cell_type": "markdown",
   "metadata": {},
   "source": [
    "Так как мы по условию не знаем, что это за признаки, судить о том, что изображено на гистограммах сложно. Главное сейчас то, что мы видим, что явных выбросов данных не наблюдается."
   ]
  },
  {
   "attachments": {},
   "cell_type": "markdown",
   "metadata": {},
   "source": [
    "#### Удаление лишних данных"
   ]
  },
  {
   "attachments": {},
   "cell_type": "markdown",
   "metadata": {},
   "source": [
    "Идентификаторы скважин не помогут при обучении модели, тем более, что модель должна работать с числовыми данными."
   ]
  },
  {
   "cell_type": "code",
   "execution_count": 14,
   "metadata": {},
   "outputs": [],
   "source": [
    "first_region = first_region.drop(['id'], axis=1) #удаляем ненужный столбец\n",
    "second_region = second_region.drop(['id'], axis=1)\n",
    "third_region = third_region.drop(['id'], axis=1)"
   ]
  },
  {
   "attachments": {},
   "cell_type": "markdown",
   "metadata": {},
   "source": [
    "### Выводы по подготовке данных"
   ]
  },
  {
   "attachments": {},
   "cell_type": "markdown",
   "metadata": {},
   "source": [
    "Здесь были загружены и рассмотрены данные. В целом, данные чистые, без пропусков и выбросов."
   ]
  },
  {
   "attachments": {},
   "cell_type": "markdown",
   "metadata": {},
   "source": [
    "## Обучение и проверка модели"
   ]
  },
  {
   "attachments": {},
   "cell_type": "markdown",
   "metadata": {},
   "source": [
    "Из условия - для обучения модели подходит только линейная регрессия, т.к. остальные модели недостаточно предсказуемые. \n",
    "\n",
    "Загружаем необходимые библиотеки (все библиотеке находятся в начале проекта)."
   ]
  },
  {
   "attachments": {},
   "cell_type": "markdown",
   "metadata": {},
   "source": [
    "### Разбиение данных"
   ]
  },
  {
   "attachments": {},
   "cell_type": "markdown",
   "metadata": {},
   "source": [
    "Разобьем датасеты на 2 выборки:\n",
    "\n",
    "- тренировочную - на которой мы обучаем модели,\n",
    "- валидационную - на которой они проходят проверку качества.\n",
    "\n",
    "Разбиваем данные в отношении 75/25."
   ]
  },
  {
   "cell_type": "code",
   "execution_count": 15,
   "metadata": {},
   "outputs": [],
   "source": [
    "RANDOM_STATE = 1000 #выносим константную переменную"
   ]
  },
  {
   "cell_type": "code",
   "execution_count": 16,
   "metadata": {},
   "outputs": [],
   "source": [
    "#разделение исходного датасета на две выборки, обучающую и валидационную одновременно с разделением на матрицу признаков и целевой признак\n",
    "\n",
    "first_region_features_train, first_region_features_valid, first_region_target_train, first_region_target_valid = train_test_split( #создаем 4 датасета, два признаков (тест+валидация) и два целевых, \n",
    "    first_region.drop(columns='product'), #для датасетов признаков удаляем целевой\n",
    "    first_region['product'], #для целевого оставляем только целевой\n",
    "    test_size=0.25, #с соотношением 75/25\n",
    "    random_state=RANDOM_STATE) #с заданной опорой для рандома "
   ]
  },
  {
   "cell_type": "code",
   "execution_count": 17,
   "metadata": {},
   "outputs": [],
   "source": [
    "second_region_features_train, second_region_features_valid, second_region_target_train, second_region_target_valid = train_test_split( #создаем 4 датасета, два признаков (тест+валидация) и два целевых, \n",
    "    second_region.drop(columns='product'), #для датасетов признаков удаляем целевой\n",
    "    second_region['product'], #для целевого оставляем только целевой\n",
    "    test_size=0.25, #с соотношением 75/25\n",
    "    random_state=RANDOM_STATE) #с заданной опорой для рандома "
   ]
  },
  {
   "cell_type": "code",
   "execution_count": 18,
   "metadata": {},
   "outputs": [],
   "source": [
    "third_region_features_train, third_region_features_valid, third_region_target_train, third_region_target_valid = train_test_split( #создаем 4 датасета, два признаков (тест+валидация) и два целевых, \n",
    "    third_region.drop(columns='product'), #для датасетов признаков удаляем целевой\n",
    "    third_region['product'], #для целевого оставляем только целевой\n",
    "    test_size=0.25, #с соотношением 75/25\n",
    "    random_state=RANDOM_STATE) #с заданной опорой для рандома "
   ]
  },
  {
   "attachments": {},
   "cell_type": "markdown",
   "metadata": {},
   "source": [
    "### Обучение модели"
   ]
  },
  {
   "cell_type": "code",
   "execution_count": 19,
   "metadata": {},
   "outputs": [],
   "source": [
    "first_region_model = LinearRegression()\n",
    "first_region_model.fit(first_region_features_train, first_region_target_train) # обучаем модель на тренировочной выборке\n",
    "first_region_predictions_valid = first_region_model.predict(first_region_features_valid) # получаем предсказания модели на валидационной выборке\n",
    "\n",
    "first_region_rmse = mean_squared_error(first_region_target_valid, first_region_predictions_valid)**0.5 # считаем значение метрики RMSE на валидационной выборке"
   ]
  },
  {
   "cell_type": "code",
   "execution_count": 20,
   "metadata": {},
   "outputs": [],
   "source": [
    "second_region_model = LinearRegression()\n",
    "second_region_model.fit(second_region_features_train, second_region_target_train) # обучаем модель на тренировочной выборке\n",
    "second_region_predictions_valid = second_region_model.predict(second_region_features_valid) # получаем предсказания модели на валидационной выборке\n",
    "\n",
    "second_region_rmse = mean_squared_error(second_region_target_valid, second_region_predictions_valid)**0.5 # считаем значение метрики RMSE на валидационной выборке"
   ]
  },
  {
   "cell_type": "code",
   "execution_count": 21,
   "metadata": {},
   "outputs": [],
   "source": [
    "third_region_model = LinearRegression()\n",
    "third_region_model.fit(third_region_features_train, third_region_target_train) # обучаем модель на тренировочной выборке\n",
    "third_region_predictions_valid = third_region_model.predict(third_region_features_valid) # получаем предсказания модели на валидационной выборке\n",
    "\n",
    "third_region_rmse = mean_squared_error(third_region_target_valid, third_region_predictions_valid)**0.5 # считаем значение метрики RMSE на валидационной выборке"
   ]
  },
  {
   "attachments": {},
   "cell_type": "markdown",
   "metadata": {},
   "source": [
    "### Предсказания и правильные ответы"
   ]
  },
  {
   "attachments": {},
   "cell_type": "markdown",
   "metadata": {},
   "source": [
    "#### Первый регион"
   ]
  },
  {
   "cell_type": "code",
   "execution_count": 22,
   "metadata": {},
   "outputs": [
    {
     "data": {
      "text/html": [
       "<div>\n",
       "<style scoped>\n",
       "    .dataframe tbody tr th:only-of-type {\n",
       "        vertical-align: middle;\n",
       "    }\n",
       "\n",
       "    .dataframe tbody tr th {\n",
       "        vertical-align: top;\n",
       "    }\n",
       "\n",
       "    .dataframe thead th {\n",
       "        text-align: right;\n",
       "    }\n",
       "</style>\n",
       "<table border=\"1\" class=\"dataframe\">\n",
       "  <thead>\n",
       "    <tr style=\"text-align: right;\">\n",
       "      <th></th>\n",
       "      <th>Реальные данные (тыс.барр.)</th>\n",
       "      <th>Предсказания (тыс.барр.)</th>\n",
       "      <th>Отклонение (тыс.барр.)</th>\n",
       "    </tr>\n",
       "  </thead>\n",
       "  <tbody>\n",
       "    <tr>\n",
       "      <th>81768</th>\n",
       "      <td>100.045890</td>\n",
       "      <td>67.733720</td>\n",
       "      <td>32.312170</td>\n",
       "    </tr>\n",
       "    <tr>\n",
       "      <th>72785</th>\n",
       "      <td>78.683928</td>\n",
       "      <td>105.404537</td>\n",
       "      <td>-26.720610</td>\n",
       "    </tr>\n",
       "    <tr>\n",
       "      <th>16208</th>\n",
       "      <td>107.657789</td>\n",
       "      <td>81.851305</td>\n",
       "      <td>25.806485</td>\n",
       "    </tr>\n",
       "    <tr>\n",
       "      <th>39960</th>\n",
       "      <td>24.215565</td>\n",
       "      <td>95.388786</td>\n",
       "      <td>-71.173220</td>\n",
       "    </tr>\n",
       "    <tr>\n",
       "      <th>61947</th>\n",
       "      <td>132.930497</td>\n",
       "      <td>102.793228</td>\n",
       "      <td>30.137269</td>\n",
       "    </tr>\n",
       "    <tr>\n",
       "      <th>...</th>\n",
       "      <td>...</td>\n",
       "      <td>...</td>\n",
       "      <td>...</td>\n",
       "    </tr>\n",
       "    <tr>\n",
       "      <th>14547</th>\n",
       "      <td>99.818540</td>\n",
       "      <td>125.038339</td>\n",
       "      <td>-25.219799</td>\n",
       "    </tr>\n",
       "    <tr>\n",
       "      <th>24357</th>\n",
       "      <td>79.679482</td>\n",
       "      <td>73.082671</td>\n",
       "      <td>6.596812</td>\n",
       "    </tr>\n",
       "    <tr>\n",
       "      <th>87579</th>\n",
       "      <td>36.131852</td>\n",
       "      <td>93.630333</td>\n",
       "      <td>-57.498481</td>\n",
       "    </tr>\n",
       "    <tr>\n",
       "      <th>11835</th>\n",
       "      <td>107.307639</td>\n",
       "      <td>62.276899</td>\n",
       "      <td>45.030739</td>\n",
       "    </tr>\n",
       "    <tr>\n",
       "      <th>52786</th>\n",
       "      <td>76.290801</td>\n",
       "      <td>121.910438</td>\n",
       "      <td>-45.619637</td>\n",
       "    </tr>\n",
       "  </tbody>\n",
       "</table>\n",
       "<p>25000 rows × 3 columns</p>\n",
       "</div>"
      ],
      "text/plain": [
       "       Реальные данные (тыс.барр.)  Предсказания (тыс.барр.)  \\\n",
       "81768                   100.045890                 67.733720   \n",
       "72785                    78.683928                105.404537   \n",
       "16208                   107.657789                 81.851305   \n",
       "39960                    24.215565                 95.388786   \n",
       "61947                   132.930497                102.793228   \n",
       "...                            ...                       ...   \n",
       "14547                    99.818540                125.038339   \n",
       "24357                    79.679482                 73.082671   \n",
       "87579                    36.131852                 93.630333   \n",
       "11835                   107.307639                 62.276899   \n",
       "52786                    76.290801                121.910438   \n",
       "\n",
       "       Отклонение (тыс.барр.)  \n",
       "81768               32.312170  \n",
       "72785              -26.720610  \n",
       "16208               25.806485  \n",
       "39960              -71.173220  \n",
       "61947               30.137269  \n",
       "...                       ...  \n",
       "14547              -25.219799  \n",
       "24357                6.596812  \n",
       "87579              -57.498481  \n",
       "11835               45.030739  \n",
       "52786              -45.619637  \n",
       "\n",
       "[25000 rows x 3 columns]"
      ]
     },
     "metadata": {},
     "output_type": "display_data"
    },
    {
     "name": "stdout",
     "output_type": "stream",
     "text": [
      "Квадратный корень из среднего квадратичного отклонения для первого региона равен 37.76 тысяч баррелей.\n",
      "Средний запас предсказанного сырья в первом регионе равен 92.83 тысяч баррелей.\n"
     ]
    }
   ],
   "source": [
    "first_region_valid_predictions_compare = pd.DataFrame({ #созаем датафрейм\n",
    "    'Реальные данные (тыс.барр.)': first_region_target_valid, #значения первого столбца\n",
    "    'Предсказания (тыс.барр.)': first_region_predictions_valid, #второго столбца\n",
    "    'Отклонение (тыс.барр.)': first_region_target_valid - first_region_predictions_valid, #третьего столбца\n",
    "}) #\n",
    "\n",
    "display(first_region_valid_predictions_compare) #выводим датасет\n",
    "print('Квадратный корень из среднего квадратичного отклонения для первого региона равен',\\\n",
    "first_region_rmse.round(2), 'тысяч баррелей.') #выводим значение округленное до двух знаков после запятой\n",
    "print('Средний запас предсказанного сырья в первом регионе равен',\\\n",
    "first_region_valid_predictions_compare['Предсказания (тыс.барр.)'].mean().round(2), 'тысяч баррелей.')"
   ]
  },
  {
   "attachments": {},
   "cell_type": "markdown",
   "metadata": {},
   "source": [
    "#### Второй регион"
   ]
  },
  {
   "cell_type": "code",
   "execution_count": 23,
   "metadata": {},
   "outputs": [
    {
     "data": {
      "text/html": [
       "<div>\n",
       "<style scoped>\n",
       "    .dataframe tbody tr th:only-of-type {\n",
       "        vertical-align: middle;\n",
       "    }\n",
       "\n",
       "    .dataframe tbody tr th {\n",
       "        vertical-align: top;\n",
       "    }\n",
       "\n",
       "    .dataframe thead th {\n",
       "        text-align: right;\n",
       "    }\n",
       "</style>\n",
       "<table border=\"1\" class=\"dataframe\">\n",
       "  <thead>\n",
       "    <tr style=\"text-align: right;\">\n",
       "      <th></th>\n",
       "      <th>Реальные данные (тыс.барр.)</th>\n",
       "      <th>Предсказания (тыс.барр.)</th>\n",
       "      <th>Отклонение (тыс.барр.)</th>\n",
       "    </tr>\n",
       "  </thead>\n",
       "  <tbody>\n",
       "    <tr>\n",
       "      <th>81768</th>\n",
       "      <td>137.945408</td>\n",
       "      <td>137.902269</td>\n",
       "      <td>0.043139</td>\n",
       "    </tr>\n",
       "    <tr>\n",
       "      <th>72785</th>\n",
       "      <td>3.179103</td>\n",
       "      <td>2.263871</td>\n",
       "      <td>0.915231</td>\n",
       "    </tr>\n",
       "    <tr>\n",
       "      <th>16208</th>\n",
       "      <td>53.906522</td>\n",
       "      <td>55.220075</td>\n",
       "      <td>-1.313553</td>\n",
       "    </tr>\n",
       "    <tr>\n",
       "      <th>39960</th>\n",
       "      <td>57.085625</td>\n",
       "      <td>56.276908</td>\n",
       "      <td>0.808717</td>\n",
       "    </tr>\n",
       "    <tr>\n",
       "      <th>61947</th>\n",
       "      <td>84.038886</td>\n",
       "      <td>82.161567</td>\n",
       "      <td>1.877319</td>\n",
       "    </tr>\n",
       "    <tr>\n",
       "      <th>...</th>\n",
       "      <td>...</td>\n",
       "      <td>...</td>\n",
       "      <td>...</td>\n",
       "    </tr>\n",
       "    <tr>\n",
       "      <th>14547</th>\n",
       "      <td>110.992147</td>\n",
       "      <td>109.996572</td>\n",
       "      <td>0.995575</td>\n",
       "    </tr>\n",
       "    <tr>\n",
       "      <th>24357</th>\n",
       "      <td>26.953261</td>\n",
       "      <td>28.423620</td>\n",
       "      <td>-1.470359</td>\n",
       "    </tr>\n",
       "    <tr>\n",
       "      <th>87579</th>\n",
       "      <td>26.953261</td>\n",
       "      <td>27.337965</td>\n",
       "      <td>-0.384704</td>\n",
       "    </tr>\n",
       "    <tr>\n",
       "      <th>11835</th>\n",
       "      <td>57.085625</td>\n",
       "      <td>57.525416</td>\n",
       "      <td>-0.439792</td>\n",
       "    </tr>\n",
       "    <tr>\n",
       "      <th>52786</th>\n",
       "      <td>110.992147</td>\n",
       "      <td>109.875706</td>\n",
       "      <td>1.116441</td>\n",
       "    </tr>\n",
       "  </tbody>\n",
       "</table>\n",
       "<p>25000 rows × 3 columns</p>\n",
       "</div>"
      ],
      "text/plain": [
       "       Реальные данные (тыс.барр.)  Предсказания (тыс.барр.)  \\\n",
       "81768                   137.945408                137.902269   \n",
       "72785                     3.179103                  2.263871   \n",
       "16208                    53.906522                 55.220075   \n",
       "39960                    57.085625                 56.276908   \n",
       "61947                    84.038886                 82.161567   \n",
       "...                            ...                       ...   \n",
       "14547                   110.992147                109.996572   \n",
       "24357                    26.953261                 28.423620   \n",
       "87579                    26.953261                 27.337965   \n",
       "11835                    57.085625                 57.525416   \n",
       "52786                   110.992147                109.875706   \n",
       "\n",
       "       Отклонение (тыс.барр.)  \n",
       "81768                0.043139  \n",
       "72785                0.915231  \n",
       "16208               -1.313553  \n",
       "39960                0.808717  \n",
       "61947                1.877319  \n",
       "...                       ...  \n",
       "14547                0.995575  \n",
       "24357               -1.470359  \n",
       "87579               -0.384704  \n",
       "11835               -0.439792  \n",
       "52786                1.116441  \n",
       "\n",
       "[25000 rows x 3 columns]"
      ]
     },
     "metadata": {},
     "output_type": "display_data"
    },
    {
     "name": "stdout",
     "output_type": "stream",
     "text": [
      "Квадратный корень из среднего квадратичного отклонения для второго региона равен 0.89 тысяч баррелей.\n",
      "Средний запас предсказанного сырья в первом регионе равен 68.87 тысяч баррелей.\n"
     ]
    }
   ],
   "source": [
    "second_region_valid_predictions_compare = pd.DataFrame({ #созаем датафрейм\n",
    "    'Реальные данные (тыс.барр.)': second_region_target_valid, #\n",
    "    'Предсказания (тыс.барр.)': second_region_predictions_valid, #\n",
    "    'Отклонение (тыс.барр.)': second_region_target_valid - second_region_predictions_valid, \n",
    "}) #\n",
    "\n",
    "display(second_region_valid_predictions_compare)\n",
    "print('Квадратный корень из среднего квадратичного отклонения для второго региона равен',\n",
    "second_region_rmse.round(2), 'тысяч баррелей.')\n",
    "print('Средний запас предсказанного сырья в первом регионе равен',\\\n",
    "second_region_valid_predictions_compare['Предсказания (тыс.барр.)'].mean().round(2), 'тысяч баррелей.')"
   ]
  },
  {
   "attachments": {},
   "cell_type": "markdown",
   "metadata": {},
   "source": [
    "#### Третий регион"
   ]
  },
  {
   "cell_type": "code",
   "execution_count": 24,
   "metadata": {},
   "outputs": [
    {
     "data": {
      "text/html": [
       "<div>\n",
       "<style scoped>\n",
       "    .dataframe tbody tr th:only-of-type {\n",
       "        vertical-align: middle;\n",
       "    }\n",
       "\n",
       "    .dataframe tbody tr th {\n",
       "        vertical-align: top;\n",
       "    }\n",
       "\n",
       "    .dataframe thead th {\n",
       "        text-align: right;\n",
       "    }\n",
       "</style>\n",
       "<table border=\"1\" class=\"dataframe\">\n",
       "  <thead>\n",
       "    <tr style=\"text-align: right;\">\n",
       "      <th></th>\n",
       "      <th>Реальные данные (тыс.барр.)</th>\n",
       "      <th>Предсказания (тыс.барр.)</th>\n",
       "      <th>Отклонение (тыс.барр.)</th>\n",
       "    </tr>\n",
       "  </thead>\n",
       "  <tbody>\n",
       "    <tr>\n",
       "      <th>81768</th>\n",
       "      <td>115.049411</td>\n",
       "      <td>104.703919</td>\n",
       "      <td>10.345492</td>\n",
       "    </tr>\n",
       "    <tr>\n",
       "      <th>72785</th>\n",
       "      <td>21.295180</td>\n",
       "      <td>75.184100</td>\n",
       "      <td>-53.888920</td>\n",
       "    </tr>\n",
       "    <tr>\n",
       "      <th>16208</th>\n",
       "      <td>100.392207</td>\n",
       "      <td>85.507941</td>\n",
       "      <td>14.884266</td>\n",
       "    </tr>\n",
       "    <tr>\n",
       "      <th>39960</th>\n",
       "      <td>128.373088</td>\n",
       "      <td>105.440508</td>\n",
       "      <td>22.932580</td>\n",
       "    </tr>\n",
       "    <tr>\n",
       "      <th>61947</th>\n",
       "      <td>41.165072</td>\n",
       "      <td>101.834554</td>\n",
       "      <td>-60.669481</td>\n",
       "    </tr>\n",
       "    <tr>\n",
       "      <th>...</th>\n",
       "      <td>...</td>\n",
       "      <td>...</td>\n",
       "      <td>...</td>\n",
       "    </tr>\n",
       "    <tr>\n",
       "      <th>14547</th>\n",
       "      <td>159.330951</td>\n",
       "      <td>114.757953</td>\n",
       "      <td>44.572998</td>\n",
       "    </tr>\n",
       "    <tr>\n",
       "      <th>24357</th>\n",
       "      <td>138.107642</td>\n",
       "      <td>95.790620</td>\n",
       "      <td>42.317022</td>\n",
       "    </tr>\n",
       "    <tr>\n",
       "      <th>87579</th>\n",
       "      <td>42.824350</td>\n",
       "      <td>64.284792</td>\n",
       "      <td>-21.460442</td>\n",
       "    </tr>\n",
       "    <tr>\n",
       "      <th>11835</th>\n",
       "      <td>155.678207</td>\n",
       "      <td>110.231534</td>\n",
       "      <td>45.446673</td>\n",
       "    </tr>\n",
       "    <tr>\n",
       "      <th>52786</th>\n",
       "      <td>88.530501</td>\n",
       "      <td>83.400912</td>\n",
       "      <td>5.129590</td>\n",
       "    </tr>\n",
       "  </tbody>\n",
       "</table>\n",
       "<p>25000 rows × 3 columns</p>\n",
       "</div>"
      ],
      "text/plain": [
       "       Реальные данные (тыс.барр.)  Предсказания (тыс.барр.)  \\\n",
       "81768                   115.049411                104.703919   \n",
       "72785                    21.295180                 75.184100   \n",
       "16208                   100.392207                 85.507941   \n",
       "39960                   128.373088                105.440508   \n",
       "61947                    41.165072                101.834554   \n",
       "...                            ...                       ...   \n",
       "14547                   159.330951                114.757953   \n",
       "24357                   138.107642                 95.790620   \n",
       "87579                    42.824350                 64.284792   \n",
       "11835                   155.678207                110.231534   \n",
       "52786                    88.530501                 83.400912   \n",
       "\n",
       "       Отклонение (тыс.барр.)  \n",
       "81768               10.345492  \n",
       "72785              -53.888920  \n",
       "16208               14.884266  \n",
       "39960               22.932580  \n",
       "61947              -60.669481  \n",
       "...                       ...  \n",
       "14547               44.572998  \n",
       "24357               42.317022  \n",
       "87579              -21.460442  \n",
       "11835               45.446673  \n",
       "52786                5.129590  \n",
       "\n",
       "[25000 rows x 3 columns]"
      ]
     },
     "metadata": {},
     "output_type": "display_data"
    },
    {
     "name": "stdout",
     "output_type": "stream",
     "text": [
      "Квадратный корень из среднего квадратичного отклонения для третьего региона равен 39.88 тысяч баррелей.\n",
      "Средний запас предсказанного сырья в первом регионе равен 94.95 тысяч баррелей.\n"
     ]
    }
   ],
   "source": [
    "third_region_valid_predictions_compare = pd.DataFrame({ #созаем датафрейм\n",
    "    'Реальные данные (тыс.барр.)': third_region_target_valid, #\n",
    "    'Предсказания (тыс.барр.)': third_region_predictions_valid, #\n",
    "    'Отклонение (тыс.барр.)': third_region_target_valid - third_region_predictions_valid, \n",
    "}) #\n",
    "\n",
    "display(third_region_valid_predictions_compare)\n",
    "print('Квадратный корень из среднего квадратичного отклонения для третьего региона равен',\n",
    "third_region_rmse.round(2), 'тысяч баррелей.')\n",
    "print('Средний запас предсказанного сырья в первом регионе равен',\\\n",
    "third_region_valid_predictions_compare['Предсказания (тыс.барр.)'].mean().round(2), 'тысяч баррелей.')"
   ]
  },
  {
   "attachments": {},
   "cell_type": "markdown",
   "metadata": {},
   "source": [
    "### Полученные результаты"
   ]
  },
  {
   "cell_type": "code",
   "execution_count": 25,
   "metadata": {},
   "outputs": [
    {
     "data": {
      "text/html": [
       "<div>\n",
       "<style scoped>\n",
       "    .dataframe tbody tr th:only-of-type {\n",
       "        vertical-align: middle;\n",
       "    }\n",
       "\n",
       "    .dataframe tbody tr th {\n",
       "        vertical-align: top;\n",
       "    }\n",
       "\n",
       "    .dataframe thead th {\n",
       "        text-align: right;\n",
       "    }\n",
       "</style>\n",
       "<table border=\"1\" class=\"dataframe\">\n",
       "  <thead>\n",
       "    <tr style=\"text-align: right;\">\n",
       "      <th></th>\n",
       "      <th>Регион</th>\n",
       "      <th>Реальный объем (сред., тыс. барр.)</th>\n",
       "      <th>Предсказанный объем (сред., тыс. барр.)</th>\n",
       "      <th>RMSE</th>\n",
       "    </tr>\n",
       "  </thead>\n",
       "  <tbody>\n",
       "    <tr>\n",
       "      <th>0</th>\n",
       "      <td>first_region</td>\n",
       "      <td>92.35</td>\n",
       "      <td>92.83</td>\n",
       "      <td>37.76</td>\n",
       "    </tr>\n",
       "    <tr>\n",
       "      <th>1</th>\n",
       "      <td>second_region</td>\n",
       "      <td>68.85</td>\n",
       "      <td>68.87</td>\n",
       "      <td>0.89</td>\n",
       "    </tr>\n",
       "    <tr>\n",
       "      <th>2</th>\n",
       "      <td>third_region</td>\n",
       "      <td>94.70</td>\n",
       "      <td>94.95</td>\n",
       "      <td>39.88</td>\n",
       "    </tr>\n",
       "  </tbody>\n",
       "</table>\n",
       "</div>"
      ],
      "text/plain": [
       "          Регион  Реальный объем (сред., тыс. барр.)  \\\n",
       "0   first_region                               92.35   \n",
       "1  second_region                               68.85   \n",
       "2   third_region                               94.70   \n",
       "\n",
       "   Предсказанный объем (сред., тыс. барр.)   RMSE  \n",
       "0                                    92.83  37.76  \n",
       "1                                    68.87   0.89  \n",
       "2                                    94.95  39.88  "
      ]
     },
     "execution_count": 25,
     "metadata": {},
     "output_type": "execute_result"
    }
   ],
   "source": [
    "df_mean_values = pd.DataFrame({ #созаем датафрейм\n",
    "    'Регион': ['first_region', 'second_region', 'third_region'], #\n",
    "    'Реальный объем (сред., тыс. барр.)': [\n",
    "        first_region_valid_predictions_compare['Реальные данные (тыс.барр.)'].mean().round(2), #забираем значения реальных данных из датафреймов, считаем среднее для каждого, округляем\n",
    "        second_region_valid_predictions_compare['Реальные данные (тыс.барр.)'].mean().round(2),\n",
    "        third_region_valid_predictions_compare['Реальные данные (тыс.барр.)'].mean().round(2)\n",
    "        ], #\n",
    "    'Предсказанный объем (сред., тыс. барр.)': [\n",
    "        first_region_valid_predictions_compare['Предсказания (тыс.барр.)'].mean().round(2), #забираем значения предсказанных данных из датафреймов, считаем среднее для каждого, округляем\n",
    "        second_region_valid_predictions_compare['Предсказания (тыс.барр.)'].mean().round(2),\n",
    "        third_region_valid_predictions_compare['Предсказания (тыс.барр.)'].mean().round(2)\n",
    "        ],\n",
    "    'RMSE': [first_region_rmse.round(2), second_region_rmse.round(2), third_region_rmse.round(2)] #значения RMSE\n",
    "}) #\n",
    "df_mean_values #вывод датасета\n"
   ]
  },
  {
   "attachments": {},
   "cell_type": "markdown",
   "metadata": {},
   "source": [
    "### Выводы по обучению моделей"
   ]
  },
  {
   "attachments": {},
   "cell_type": "markdown",
   "metadata": {},
   "source": [
    "Данные были разбиты на матрицу признаков и целевой признак, а также на тренировочные и валидационные выборки в нужной пропорции. Модели линейной регрессии были обучены, найдены квадратные корни из средних квадратичных отклонений. Исходя из полученных результатов, пока видим, что данные из `second_region` - то есть второго региона, имеют наименьший разброс. Также, разницу между распределением целевого признака датасетов можем у видеть на гистограммах.\n",
    "\n",
    "Составлены таблицы предсказаний и отклонений от реальных данных. Исходя из полученных данных и гистограмм, можно увидеть, что первый и третий регионы по набору данных похожи. Второй регион значительно отличается."
   ]
  },
  {
   "attachments": {},
   "cell_type": "markdown",
   "metadata": {},
   "source": [
    "## Подготовка к расчёту прибыли"
   ]
  },
  {
   "attachments": {},
   "cell_type": "markdown",
   "metadata": {},
   "source": [
    "### Введем константы"
   ]
  },
  {
   "cell_type": "code",
   "execution_count": 26,
   "metadata": {},
   "outputs": [],
   "source": [
    "#вводим константы\n",
    "points = 500 \n",
    "best_points = 200\n",
    "budget = 10*10**9 #\n",
    "benefit = 450*10**3"
   ]
  },
  {
   "attachments": {},
   "cell_type": "markdown",
   "metadata": {},
   "source": [
    "### Безубыточная добыча"
   ]
  },
  {
   "attachments": {},
   "cell_type": "markdown",
   "metadata": {},
   "source": [
    "Так как бюджет на разработку скважин в регионе включает в себя 200 лучших скважин, то на разработку одной скважины в одном регионе бюджет (рублей):"
   ]
  },
  {
   "cell_type": "code",
   "execution_count": 27,
   "metadata": {},
   "outputs": [
    {
     "data": {
      "text/plain": [
       "50000000.0"
      ]
     },
     "execution_count": 27,
     "metadata": {},
     "output_type": "execute_result"
    }
   ],
   "source": [
    "budget_per_one = budget / best_points #бюджет на одну скважину\n",
    "budget_per_one"
   ]
  },
  {
   "attachments": {},
   "cell_type": "markdown",
   "metadata": {},
   "source": [
    "Т.к. доход с каждой единицы 450 000 рублей, можем найти среднее значение необходимого количества баррелей, для неубыточной скважины:"
   ]
  },
  {
   "cell_type": "code",
   "execution_count": 28,
   "metadata": {},
   "outputs": [
    {
     "data": {
      "text/plain": [
       "111.11111111111111"
      ]
     },
     "execution_count": 28,
     "metadata": {},
     "output_type": "execute_result"
    }
   ],
   "source": [
    "mean_value_barr = budget_per_one / benefit #среднее значение количества нефти, для окупаемости скважины\n",
    "mean_value_barr"
   ]
  },
  {
   "attachments": {},
   "cell_type": "markdown",
   "metadata": {},
   "source": [
    "### Вывод по разделу"
   ]
  },
  {
   "attachments": {},
   "cell_type": "markdown",
   "metadata": {},
   "source": [
    "Итак, чтобы разработка двухсот скважин при заданном бюджете и стоимости нефти окупилась, в среднем они должны приносить 111.11 тыс. баррелей нефти.\n",
    "\n",
    "Из данных, полученных выше, следует, что текущие реальные и предсказанные средние показатели намного ниже, особенно во втором регионе `second_region`."
   ]
  },
  {
   "attachments": {},
   "cell_type": "markdown",
   "metadata": {},
   "source": [
    "## Расчёт прибыли и рисков "
   ]
  },
  {
   "attachments": {},
   "cell_type": "markdown",
   "metadata": {},
   "source": [
    "### Расчет прибыли"
   ]
  },
  {
   "attachments": {},
   "cell_type": "markdown",
   "metadata": {},
   "source": [
    "Напишем функцию для расчета прибыли для духсот самых успешных,согласно предсказанию,скважин. Но при этом прибыль будем считать на реальных данных: прибыль - это оборот минус себестоимость (бюджет)."
   ]
  },
  {
   "cell_type": "code",
   "execution_count": 29,
   "metadata": {},
   "outputs": [],
   "source": [
    "def revenue(target, probabilities, count): #создаем функцию\n",
    "    probs_sorted = pd.Series(probabilities).sort_values(ascending=False) #предсказанные значения отсортированы в порядке убывания (применяем к ним Series)\n",
    "    selected = target[probs_sorted.index][:count] #реальные данные с индексами предсказаний, срез до константного значения\n",
    "    return benefit * selected.sum() - budget #возвращаем это значение"
   ]
  },
  {
   "cell_type": "code",
   "execution_count": 63,
   "metadata": {},
   "outputs": [
    {
     "data": {
      "text/html": [
       "<div>\n",
       "<style scoped>\n",
       "    .dataframe tbody tr th:only-of-type {\n",
       "        vertical-align: middle;\n",
       "    }\n",
       "\n",
       "    .dataframe tbody tr th {\n",
       "        vertical-align: top;\n",
       "    }\n",
       "\n",
       "    .dataframe thead th {\n",
       "        text-align: right;\n",
       "    }\n",
       "</style>\n",
       "<table border=\"1\" class=\"dataframe\">\n",
       "  <thead>\n",
       "    <tr style=\"text-align: right;\">\n",
       "      <th></th>\n",
       "      <th>Регион</th>\n",
       "      <th>Прибыль</th>\n",
       "    </tr>\n",
       "  </thead>\n",
       "  <tbody>\n",
       "    <tr>\n",
       "      <th>0</th>\n",
       "      <td>first_region</td>\n",
       "      <td>3.120037e+09</td>\n",
       "    </tr>\n",
       "    <tr>\n",
       "      <th>1</th>\n",
       "      <td>second_region</td>\n",
       "      <td>2.415087e+09</td>\n",
       "    </tr>\n",
       "    <tr>\n",
       "      <th>2</th>\n",
       "      <td>third_region</td>\n",
       "      <td>2.588875e+09</td>\n",
       "    </tr>\n",
       "  </tbody>\n",
       "</table>\n",
       "</div>"
      ],
      "text/plain": [
       "          Регион       Прибыль\n",
       "0   first_region  3.120037e+09\n",
       "1  second_region  2.415087e+09\n",
       "2   third_region  2.588875e+09"
      ]
     },
     "execution_count": 63,
     "metadata": {},
     "output_type": "execute_result"
    }
   ],
   "source": [
    "bore_first = revenue(first_region_valid_predictions_compare['Реальные данные (тыс.барр.)'], \\\n",
    "    first_region_valid_predictions_compare['Предсказания (тыс.барр.)'], best_points) #применяем к функции аргументы, для которых операции описаны в теле функции\n",
    "\n",
    "bore_second = revenue(second_region_valid_predictions_compare['Реальные данные (тыс.барр.)'], \\\n",
    "    second_region_valid_predictions_compare['Предсказания (тыс.барр.)'], best_points)\n",
    "\n",
    "bore_third = revenue(third_region_valid_predictions_compare['Реальные данные (тыс.барр.)'], \\\n",
    "    third_region_valid_predictions_compare['Предсказания (тыс.барр.)'], best_points)\n",
    "\n",
    "bore_table = pd.DataFrame({ #созаем датафрейм\n",
    "    'Регион': ['first_region', 'second_region', 'third_region'], #\n",
    "    'Прибыль': [bore_first, bore_second, bore_third],\n",
    "}) #\n",
    "bore_table"
   ]
  },
  {
   "attachments": {},
   "cell_type": "markdown",
   "metadata": {},
   "source": [
    "Найдены значения прибыли для каждого региона, основанные на реальных данных, но для самых потенциально прибыльных скважин. Наибольшую прибыль может обеспечить первый регион, за ним, с большим отрывом следуют третий и второй регионы.\n",
    "\n",
    "Прибыль - порядка 2.5 - 3 млрд. рублей для самых потенциально прибыльных скважин, что составляет порядка 25 - 30% от вложений на разработку, помимо, конечно, 100% окупаемости."
   ]
  },
  {
   "attachments": {},
   "cell_type": "markdown",
   "metadata": {},
   "source": [
    "### Расчет рисков"
   ]
  },
  {
   "attachments": {},
   "cell_type": "markdown",
   "metadata": {},
   "source": [
    "Для того, чтобы найти вероятность того, что скважины в регионе могут быть убыточными, нужно найти те, что не приносят доход. То есть из прибыль < 0 рублей.\n",
    "\n",
    "Оценим вероятность убытков для каждого региона, взяв для исследования 500 скважин, и исследуя 200 лучших из них. Также найдем среднюю прибыль для каждого региона и 95%-й доверительный интервал, применяя метод Bootstrap."
   ]
  },
  {
   "cell_type": "code",
   "execution_count": 97,
   "metadata": {},
   "outputs": [],
   "source": [
    "def bootstrap(target, probabilities, common_count): #создаем функцию\n",
    "\n",
    "    state = np.random.RandomState(RANDOM_STATE) #вводим дляэтой функции рандомайз (иначе будет считать одно и то же значение)\n",
    "    values = [] #создаем пустой список\n",
    "    count=0 #счетчик\n",
    "\n",
    "    for i in range(1000): #bootstrep c 1000 перебираемых значений\n",
    "        target_subsample = target.sample(common_count, replace=True, random_state=state) #данные для таргета, количество - по аргументу\n",
    "        probs_subsample = probabilities[target_subsample.index] #предсказания с индексом таргета (здесь наоборот)\n",
    "        values.append(revenue(target_subsample, probs_subsample, best_points)) #добавляем в список первую функцию с ее аргументами и операциями над ними, описанными выше\n",
    "\n",
    "    for i in values: #включаем счетчик\n",
    "        if i < 0:\n",
    "            count +=1 #считаем число убыточных скважин\n",
    "\n",
    "    values = pd.Series(values) #преобразовываем список в объект сериес\n",
    "    lower = values.quantile(.025) #2.5% квантиль - значение, ниже которого 2.5% данных\n",
    "    upper = values.quantile(.975) #97.5% квантиль - значение, выше которого 2.5% данных, в сумме - доверительный интервал 95%\n",
    "    mean = values.mean() #среднее\n",
    "    \n",
    "    print(\"Средняя прибыль:\", mean.round(2)) #вывод с округлением до 2 знаков после ,\n",
    "    print(\"2.5%-квантиль:\", lower.round(2))\n",
    "    print(\"97.5%-квантиль:\", upper.round(2))\n",
    "    print ('Вероятность убытка: {:.1%}'.format(count/1000)) #вывод %. делим на 1000, т.к. количество values = 1000\n"
   ]
  },
  {
   "cell_type": "code",
   "execution_count": 103,
   "metadata": {},
   "outputs": [
    {
     "name": "stdout",
     "output_type": "stream",
     "text": [
      "Средняя прибыль: 435079550.95\n",
      "2.5%-квантиль: -95943225.87\n",
      "97.5%-квантиль: 949409968.24\n",
      "Вероятность убытка: 5.6%\n"
     ]
    }
   ],
   "source": [
    "bootstrap(first_region_valid_predictions_compare['Реальные данные (тыс.барр.)'], \\\n",
    "    first_region_valid_predictions_compare['Предсказания (тыс.барр.)'], points) #применяем к функции аргументы, для которых операции описаны в теле функции"
   ]
  },
  {
   "cell_type": "code",
   "execution_count": 99,
   "metadata": {},
   "outputs": [
    {
     "name": "stdout",
     "output_type": "stream",
     "text": [
      "Средняя прибыль: 500573282.14\n",
      "2.5%-квантиль: 45318148.56\n",
      "97.5%-квантиль: 925747456.82\n",
      "Вероятность убытка: 1.2%\n"
     ]
    }
   ],
   "source": [
    "bootstrap(second_region_valid_predictions_compare['Реальные данные (тыс.барр.)'], \\\n",
    "    second_region_valid_predictions_compare['Предсказания (тыс.барр.)'], points)"
   ]
  },
  {
   "cell_type": "code",
   "execution_count": 100,
   "metadata": {},
   "outputs": [
    {
     "name": "stdout",
     "output_type": "stream",
     "text": [
      "Средняя прибыль: 402347292.09\n",
      "2.5%-квантиль: -145122898.89\n",
      "97.5%-квантиль: 947350954.88\n",
      "Вероятность убытка: 6.5%\n"
     ]
    }
   ],
   "source": [
    "bootstrap(third_region_valid_predictions_compare['Реальные данные (тыс.барр.)'], \\\n",
    "    third_region_valid_predictions_compare['Предсказания (тыс.барр.)'], points)"
   ]
  },
  {
   "cell_type": "code",
   "execution_count": 101,
   "metadata": {},
   "outputs": [
    {
     "data": {
      "text/html": [
       "<div>\n",
       "<style scoped>\n",
       "    .dataframe tbody tr th:only-of-type {\n",
       "        vertical-align: middle;\n",
       "    }\n",
       "\n",
       "    .dataframe tbody tr th {\n",
       "        vertical-align: top;\n",
       "    }\n",
       "\n",
       "    .dataframe thead th {\n",
       "        text-align: right;\n",
       "    }\n",
       "</style>\n",
       "<table border=\"1\" class=\"dataframe\">\n",
       "  <thead>\n",
       "    <tr style=\"text-align: right;\">\n",
       "      <th></th>\n",
       "      <th>first_region</th>\n",
       "      <th>second_region</th>\n",
       "      <th>third_region</th>\n",
       "    </tr>\n",
       "  </thead>\n",
       "  <tbody>\n",
       "    <tr>\n",
       "      <th>Средняя прибыль скважины в регионе, руб</th>\n",
       "      <td>435079550.95</td>\n",
       "      <td>500573282.14</td>\n",
       "      <td>402347292.09</td>\n",
       "    </tr>\n",
       "    <tr>\n",
       "      <th>2.5%-квантиль, руб</th>\n",
       "      <td>-95943225.87</td>\n",
       "      <td>45318148.56</td>\n",
       "      <td>-145122898.89</td>\n",
       "    </tr>\n",
       "    <tr>\n",
       "      <th>97.5%-квантиль, руб</th>\n",
       "      <td>949409968.24</td>\n",
       "      <td>925747456.82</td>\n",
       "      <td>947350954.88</td>\n",
       "    </tr>\n",
       "    <tr>\n",
       "      <th>Вероятность убытка, %</th>\n",
       "      <td>5.6%</td>\n",
       "      <td>1.2%</td>\n",
       "      <td>6.5%</td>\n",
       "    </tr>\n",
       "  </tbody>\n",
       "</table>\n",
       "</div>"
      ],
      "text/plain": [
       "                                         first_region second_region  \\\n",
       "Средняя прибыль скважины в регионе, руб  435079550.95  500573282.14   \n",
       "2.5%-квантиль, руб                       -95943225.87   45318148.56   \n",
       "97.5%-квантиль, руб                      949409968.24  925747456.82   \n",
       "Вероятность убытка, %                            5.6%          1.2%   \n",
       "\n",
       "                                          third_region  \n",
       "Средняя прибыль скважины в регионе, руб   402347292.09  \n",
       "2.5%-квантиль, руб                       -145122898.89  \n",
       "97.5%-квантиль, руб                       947350954.88  \n",
       "Вероятность убытка, %                             6.5%  "
      ]
     },
     "execution_count": 101,
     "metadata": {},
     "output_type": "execute_result"
    }
   ],
   "source": [
    "#собираем датасет из полученных данных\n",
    "resuls_table = pd.DataFrame(index=['Средняя прибыль скважины в регионе, руб', '2.5%-квантиль, руб', '97.5%-квантиль, руб', 'Вероятность убытка, %'], \\\n",
    "    columns=['first_region','second_region','third_region'])\n",
    "\n",
    "resuls_table['first_region'] = '435079550.95', '-95943225.87', '949409968.24', '5.6%'\n",
    "resuls_table['second_region'] = '500573282.14', '45318148.56', '925747456.82', '1.2%'\n",
    "resuls_table['third_region'] = '402347292.09', '-145122898.89', '947350954.88', '6.5%'\n",
    "resuls_table\n"
   ]
  },
  {
   "attachments": {},
   "cell_type": "markdown",
   "metadata": {},
   "source": [
    "Мы видим, что только второй регион удовлетворяет условию: вероятность убытков меньше 2.5%."
   ]
  },
  {
   "attachments": {},
   "cell_type": "markdown",
   "metadata": {},
   "source": [
    "## Выводы"
   ]
  },
  {
   "attachments": {},
   "cell_type": "markdown",
   "metadata": {},
   "source": [
    "В проекте мы рассмотрели три региона, где можно добывать нефть. Мы обработали данные, построили обучающие модели и предсказали, какие скважины максимально потенциально прибыльные. \n",
    "\n",
    "Были рассчитаны реальные объемы добытой нефти для этих скважин и найдены средние значения. \n",
    "\n",
    "Так как одной из задач проекта было рассчитать прибыль и риски, были рассчитаны средние показатели окупаемости, причем, ни один из регионов по среднему значению добываемой нефти не превосходит значение окупаемости. \n",
    "- Значение добываемой нефти для окупаемости для текущих исходных данных: 111.11 тыс. баррелей.\n",
    "- Средние значения для скважины в первом регионе - около 92 тыс. баррелей, во втором регионе - около 69 тыс. баррелей, в третьем - около 95 тыс. баррелей. При этом для первого и третьего регионов разброс значений превышает почти в 50 раз второй регион.\n",
    "\n",
    "Поэтому, для кажного региона взяты случайные 500 скважин, и для 200 лучших из них рассчитаны значения суммарной прибыли. Суммарная прибыль с этих скважин максимальна для первого региона и составляет около 3 млрд. и 120 млн. рублей. Второй и третий регионы принесут порядка 2.4-2.6 млрд. рублей.\n",
    "\n",
    "Тем не менее, несмотря на то, что первый регион является самым потенциально прибыльным, он не проходит проверку на допустимые риски, порог которых составляет 2,5%. Риски для регионов:\n",
    "- первый регион 5,6%,\n",
    "- второй регион 1,2%,\n",
    "- третий регион 6,5%.\n",
    "\n",
    "Также, была рассчитана средняя прибыль по регионам, которая показала максимальное значение для второго региона: ~500 млн. рублей (для остальных - около 400-430 млн. рублей).\n",
    "\n",
    "Найдены 95%-е доверительные интервалы с помощью квантилей (здесь значения приблизительные).\n",
    "- первый регион от -96 до 950 млн. рублей,\n",
    "- второй регион от 450 до 925 млн. рублей,\n",
    "- третий регион от -145 до 947 млн. рублей.\n",
    "\n",
    "Видим, что второй регион обладает минимальным разбросом.\n",
    "\n",
    "Из всего вышеперечисленного следует, что при текущих исходных данных и заданных условиях, единственный регион, который можно предложить для разработки - второй."
   ]
  }
 ],
 "metadata": {
  "ExecuteTimeLog": [
   {
    "duration": 1656,
    "start_time": "2022-12-03T18:34:38.411Z"
   },
   {
    "duration": 581,
    "start_time": "2022-12-03T18:34:40.070Z"
   },
   {
    "duration": 525,
    "start_time": "2022-12-03T18:34:40.653Z"
   },
   {
    "duration": 535,
    "start_time": "2022-12-03T18:34:41.180Z"
   },
   {
    "duration": 15,
    "start_time": "2022-12-03T18:34:41.717Z"
   },
   {
    "duration": 17,
    "start_time": "2022-12-03T18:34:41.734Z"
   },
   {
    "duration": 13,
    "start_time": "2022-12-03T18:34:41.753Z"
   },
   {
    "duration": 153,
    "start_time": "2022-12-03T18:34:41.768Z"
   },
   {
    "duration": 218,
    "start_time": "2022-12-03T18:34:41.923Z"
   },
   {
    "duration": 802,
    "start_time": "2022-12-03T18:34:42.144Z"
   },
   {
    "duration": 366,
    "start_time": "2022-12-03T18:34:42.949Z"
   },
   {
    "duration": 432,
    "start_time": "2022-12-03T18:34:43.318Z"
   },
   {
    "duration": 9,
    "start_time": "2022-12-03T18:34:43.752Z"
   },
   {
    "duration": 9,
    "start_time": "2022-12-03T18:34:43.763Z"
   },
   {
    "duration": 24,
    "start_time": "2022-12-03T18:34:43.773Z"
   },
   {
    "duration": 14,
    "start_time": "2022-12-03T18:34:43.799Z"
   },
   {
    "duration": 31,
    "start_time": "2022-12-03T18:34:43.814Z"
   },
   {
    "duration": 95,
    "start_time": "2022-12-03T18:34:43.847Z"
   },
   {
    "duration": 193,
    "start_time": "2022-12-03T18:34:43.945Z"
   },
   {
    "duration": 104,
    "start_time": "2022-12-03T18:34:44.141Z"
   },
   {
    "duration": 193,
    "start_time": "2022-12-03T18:34:44.248Z"
   },
   {
    "duration": 15,
    "start_time": "2022-12-03T18:34:44.443Z"
   },
   {
    "duration": 18,
    "start_time": "2022-12-03T18:34:44.460Z"
   },
   {
    "duration": 15,
    "start_time": "2022-12-03T18:34:44.479Z"
   },
   {
    "duration": 3,
    "start_time": "2022-12-03T18:34:44.496Z"
   },
   {
    "duration": 4,
    "start_time": "2022-12-03T18:34:44.538Z"
   },
   {
    "duration": 4,
    "start_time": "2022-12-03T18:34:44.543Z"
   },
   {
    "duration": 4,
    "start_time": "2022-12-03T18:34:44.550Z"
   },
   {
    "duration": 29,
    "start_time": "2022-12-03T18:34:44.556Z"
   },
   {
    "duration": 6,
    "start_time": "2022-12-03T18:34:44.587Z"
   },
   {
    "duration": 1444,
    "start_time": "2022-12-03T18:34:44.595Z"
   },
   {
    "duration": 1406,
    "start_time": "2022-12-03T18:34:46.041Z"
   },
   {
    "duration": 1414,
    "start_time": "2022-12-03T18:34:47.449Z"
   },
   {
    "duration": 15,
    "start_time": "2022-12-03T18:34:48.865Z"
   },
   {
    "duration": 6,
    "start_time": "2022-12-03T19:05:36.047Z"
   },
   {
    "duration": 6,
    "start_time": "2022-12-03T19:05:56.703Z"
   }
  ],
  "kernelspec": {
   "display_name": "Python 3 (ipykernel)",
   "language": "python",
   "name": "python3"
  },
  "language_info": {
   "codemirror_mode": {
    "name": "ipython",
    "version": 3
   },
   "file_extension": ".py",
   "mimetype": "text/x-python",
   "name": "python",
   "nbconvert_exporter": "python",
   "pygments_lexer": "ipython3",
   "version": "3.9.13"
  },
  "toc": {
   "base_numbering": 1,
   "nav_menu": {},
   "number_sections": true,
   "sideBar": true,
   "skip_h1_title": true,
   "title_cell": "Содержание",
   "title_sidebar": "Содержание",
   "toc_cell": true,
   "toc_position": {
    "height": "calc(100% - 180px)",
    "left": "10px",
    "top": "150px",
    "width": "339.391px"
   },
   "toc_section_display": true,
   "toc_window_display": true
  },
  "vscode": {
   "interpreter": {
    "hash": "af7472ffbb6f11e94eca2dc243fc9b09d1dc0fb11170c3918ea151f7aad82d25"
   }
  }
 },
 "nbformat": 4,
 "nbformat_minor": 2
}
