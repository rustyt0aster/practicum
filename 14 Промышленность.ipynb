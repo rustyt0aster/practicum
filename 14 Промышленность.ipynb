{
 "cells": [
  {
   "attachments": {},
   "cell_type": "markdown",
   "metadata": {},
   "source": [
    "# Промышленность"
   ]
  },
  {
   "attachments": {},
   "cell_type": "markdown",
   "metadata": {},
   "source": [
    "Чтобы оптимизировать производственные расходы, металлургический комбинат ООО «Так закаляем сталь» решил уменьшить потребление электроэнергии на этапе обработки стали. \n",
    "\n",
    "Цель проекта:\n",
    "\n",
    "- построить модель, которая предскажет температуру стали."
   ]
  },
  {
   "attachments": {},
   "cell_type": "markdown",
   "metadata": {},
   "source": [
    "## Описание этапа обработки - технологического процесса"
   ]
  },
  {
   "attachments": {},
   "cell_type": "markdown",
   "metadata": {},
   "source": [
    "Сталь обрабатывают в металлическом ковше вместимостью около 100 тонн. Чтобы ковш выдерживал высокие температуры, изнутри его облицовывают огнеупорным кирпичом. Расплавленную сталь заливают в ковш и подогревают до нужной температуры графитовыми электродами. Они установлены в крышке ковша. \n",
    "\n",
    "Из сплава выводится сера (десульфурация), добавлением примесей корректируется химический состав и отбираются пробы. Сталь легируют — изменяют её состав — подавая куски сплава из бункера для сыпучих материалов или проволоку через специальный трайб-аппарат (англ. tribe, «масса»).\n",
    "\n",
    "Перед тем как первый раз ввести легирующие добавки, измеряют температуру стали и производят её химический анализ. Потом температуру на несколько минут повышают, добавляют легирующие материалы и продувают сплав инертным газом. Затем его перемешивают и снова проводят измерения. Такой цикл повторяется до достижения целевого химического состава и оптимальной температуры плавки.\n",
    "\n",
    "Тогда расплавленная сталь отправляется на доводку металла или поступает в машину непрерывной разливки. Оттуда готовый продукт выходит в виде заготовок-слябов (англ. *slab*, «плита»)."
   ]
  },
  {
   "attachments": {},
   "cell_type": "markdown",
   "metadata": {},
   "source": [
    "## Описание данных"
   ]
  },
  {
   "attachments": {},
   "cell_type": "markdown",
   "metadata": {},
   "source": [
    "Данные состоят из файлов, полученных из разных источников:\n",
    "\n",
    "- `data_arc.csv` — данные об электродах;\n",
    "- `data_bulk.csv` — данные о подаче сыпучих материалов (объём);\n",
    "- `data_bulk_time.csv` — данные о подаче сыпучих материалов (время);\n",
    "- `data_gas.csv` — данные о продувке сплава газом;\n",
    "- `data_temp.csv` — результаты измерения температуры;\n",
    "- `data_wire.csv` — данные о проволочных материалах (объём);\n",
    "- `data_wire_time.csv` — данные о проволочных материалах (время).\n",
    "\n",
    "Во всех файлах столбец `key` содержит номер партии. В файлах может быть несколько строк с одинаковым значением `key`: они соответствуют разным итерациям обработки."
   ]
  },
  {
   "attachments": {},
   "cell_type": "markdown",
   "metadata": {},
   "source": [
    "## Импорт необходимых библиотек"
   ]
  },
  {
   "cell_type": "code",
   "execution_count": 1,
   "metadata": {},
   "outputs": [],
   "source": [
    "# pip install lightgbm; # устанавливаем, если необходимо библиотеку"
   ]
  },
  {
   "cell_type": "code",
   "execution_count": 2,
   "metadata": {},
   "outputs": [],
   "source": [
    "import pandas as pd\n",
    "import matplotlib.pyplot as plt\n",
    "import numpy as np\n",
    "import seaborn as sns\n",
    "import lightgbm as lgb "
   ]
  },
  {
   "cell_type": "code",
   "execution_count": 3,
   "metadata": {},
   "outputs": [],
   "source": [
    "from sklearn import linear_model\n",
    "\n",
    "from sklearn.model_selection import train_test_split\n",
    "from sklearn.model_selection import cross_val_score\n",
    "from sklearn.model_selection import RandomizedSearchCV\n",
    "from sklearn.model_selection import GridSearchCV\n",
    "\n",
    "from sklearn.dummy import DummyRegressor #импорт \"глупого\" классификатора, для создания baseline модели\n",
    "from sklearn.decomposition import PCA\n",
    "from sklearn.ensemble import RandomForestRegressor\n",
    "from sklearn.linear_model import LinearRegression #импорт модуля линейной регрессии\n",
    "from sklearn.metrics import mean_absolute_error #импорт метрики среднего абсолютного значения\n",
    "from sklearn.preprocessing import StandardScaler #метод масштабирования по стандартным отклонениям\n",
    "from sklearn.pipeline import Pipeline\n",
    "from sklearn.utils import shuffle\n",
    "\n",
    "from pandas import option_context\n",
    "\n",
    "from statsmodels.stats.outliers_influence import variance_inflation_factor  \n",
    "from statsmodels.tools.tools import add_constant \n"
   ]
  },
  {
   "cell_type": "code",
   "execution_count": 4,
   "metadata": {},
   "outputs": [],
   "source": [
    "import warnings\n",
    "warnings.filterwarnings('ignore')"
   ]
  },
  {
   "attachments": {},
   "cell_type": "markdown",
   "metadata": {},
   "source": [
    "## Подготовка констант"
   ]
  },
  {
   "cell_type": "code",
   "execution_count": 5,
   "metadata": {},
   "outputs": [],
   "source": [
    "RANDOM_STATE = 100423"
   ]
  },
  {
   "attachments": {},
   "cell_type": "markdown",
   "metadata": {},
   "source": [
    "## Знакомство с данными"
   ]
  },
  {
   "attachments": {},
   "cell_type": "markdown",
   "metadata": {},
   "source": [
    "### Данные об электродах"
   ]
  },
  {
   "cell_type": "code",
   "execution_count": 6,
   "metadata": {},
   "outputs": [],
   "source": [
    "try:\n",
    "    data_arc = pd.read_csv(r'E:\\Practicum\\2_Projects_Git\\14_manufactory\\data_arc.csv')\n",
    "except:\n",
    "    data_arc = pd.read_csv('/datasets/final_steel/data_arc.csv')"
   ]
  },
  {
   "cell_type": "code",
   "execution_count": 7,
   "metadata": {
    "scrolled": true
   },
   "outputs": [
    {
     "data": {
      "text/html": [
       "<div>\n",
       "<style scoped>\n",
       "    .dataframe tbody tr th:only-of-type {\n",
       "        vertical-align: middle;\n",
       "    }\n",
       "\n",
       "    .dataframe tbody tr th {\n",
       "        vertical-align: top;\n",
       "    }\n",
       "\n",
       "    .dataframe thead th {\n",
       "        text-align: right;\n",
       "    }\n",
       "</style>\n",
       "<table border=\"1\" class=\"dataframe\">\n",
       "  <thead>\n",
       "    <tr style=\"text-align: right;\">\n",
       "      <th></th>\n",
       "      <th>key</th>\n",
       "      <th>Начало нагрева дугой</th>\n",
       "      <th>Конец нагрева дугой</th>\n",
       "      <th>Активная мощность</th>\n",
       "      <th>Реактивная мощность</th>\n",
       "    </tr>\n",
       "  </thead>\n",
       "  <tbody>\n",
       "    <tr>\n",
       "      <th>0</th>\n",
       "      <td>1</td>\n",
       "      <td>2019-05-03 11:02:14</td>\n",
       "      <td>2019-05-03 11:06:02</td>\n",
       "      <td>0.976059</td>\n",
       "      <td>0.687084</td>\n",
       "    </tr>\n",
       "    <tr>\n",
       "      <th>1</th>\n",
       "      <td>1</td>\n",
       "      <td>2019-05-03 11:07:28</td>\n",
       "      <td>2019-05-03 11:10:33</td>\n",
       "      <td>0.805607</td>\n",
       "      <td>0.520285</td>\n",
       "    </tr>\n",
       "    <tr>\n",
       "      <th>2</th>\n",
       "      <td>1</td>\n",
       "      <td>2019-05-03 11:11:44</td>\n",
       "      <td>2019-05-03 11:14:36</td>\n",
       "      <td>0.744363</td>\n",
       "      <td>0.498805</td>\n",
       "    </tr>\n",
       "    <tr>\n",
       "      <th>3</th>\n",
       "      <td>1</td>\n",
       "      <td>2019-05-03 11:18:14</td>\n",
       "      <td>2019-05-03 11:24:19</td>\n",
       "      <td>1.659363</td>\n",
       "      <td>1.062669</td>\n",
       "    </tr>\n",
       "    <tr>\n",
       "      <th>4</th>\n",
       "      <td>1</td>\n",
       "      <td>2019-05-03 11:26:09</td>\n",
       "      <td>2019-05-03 11:28:37</td>\n",
       "      <td>0.692755</td>\n",
       "      <td>0.414397</td>\n",
       "    </tr>\n",
       "  </tbody>\n",
       "</table>\n",
       "</div>"
      ],
      "text/plain": [
       "   key Начало нагрева дугой  Конец нагрева дугой  Активная мощность  \\\n",
       "0    1  2019-05-03 11:02:14  2019-05-03 11:06:02           0.976059   \n",
       "1    1  2019-05-03 11:07:28  2019-05-03 11:10:33           0.805607   \n",
       "2    1  2019-05-03 11:11:44  2019-05-03 11:14:36           0.744363   \n",
       "3    1  2019-05-03 11:18:14  2019-05-03 11:24:19           1.659363   \n",
       "4    1  2019-05-03 11:26:09  2019-05-03 11:28:37           0.692755   \n",
       "\n",
       "   Реактивная мощность  \n",
       "0             0.687084  \n",
       "1             0.520285  \n",
       "2             0.498805  \n",
       "3             1.062669  \n",
       "4             0.414397  "
      ]
     },
     "execution_count": 7,
     "metadata": {},
     "output_type": "execute_result"
    }
   ],
   "source": [
    "data_arc.head()"
   ]
  },
  {
   "cell_type": "code",
   "execution_count": 8,
   "metadata": {},
   "outputs": [
    {
     "name": "stdout",
     "output_type": "stream",
     "text": [
      "<class 'pandas.core.frame.DataFrame'>\n",
      "RangeIndex: 14876 entries, 0 to 14875\n",
      "Data columns (total 5 columns):\n",
      " #   Column                Non-Null Count  Dtype  \n",
      "---  ------                --------------  -----  \n",
      " 0   key                   14876 non-null  int64  \n",
      " 1   Начало нагрева дугой  14876 non-null  object \n",
      " 2   Конец нагрева дугой   14876 non-null  object \n",
      " 3   Активная мощность     14876 non-null  float64\n",
      " 4   Реактивная мощность   14876 non-null  float64\n",
      "dtypes: float64(2), int64(1), object(2)\n",
      "memory usage: 581.2+ KB\n"
     ]
    }
   ],
   "source": [
    "data_arc.info()"
   ]
  },
  {
   "attachments": {},
   "cell_type": "markdown",
   "metadata": {},
   "source": [
    "Таблица содержит 5 столбцов (в т.ч. `key`) и 14876 строк. Не имеет пустых ячеек. Данные о времени имеют тип `object`, что требует корректировки на этапе предобработки данных."
   ]
  },
  {
   "cell_type": "code",
   "execution_count": 9,
   "metadata": {},
   "outputs": [
    {
     "data": {
      "image/png": "[encoded data removed]",
      "text/plain": [
       "<Figure size 1000x700 with 1 Axes>"
      ]
     },
     "metadata": {},
     "output_type": "display_data"
    }
   ],
   "source": [
    "#строим гистограмму для столбца с возрастом\n",
    "fig, ax = plt.subplots() #добавить действия для работы над фигурой и осями из библиотеки\n",
    "ax.set_xlabel('Активная мощность') #подпись оси х\n",
    "ax.set_ylabel('Количество') #подпись оси y\n",
    "\n",
    "(\n",
    "    data_arc['Активная мощность'] #столбец с данными\n",
    "    .hist(bins=100, figsize=(10, 7), color='green', grid=True) #гистограмма определенного размера, цвета и количества корзин\n",
    "    .set_title('Гистограмма: распределение электродов по значению активной мощности', fontsize = 16, color = 'Black') #название гистограммы и его оформление\n",
    ");"
   ]
  },
  {
   "cell_type": "code",
   "execution_count": 10,
   "metadata": {},
   "outputs": [
    {
     "data": {
      "text/plain": [
       "count    14876.000000\n",
       "mean         0.670441\n",
       "std          0.408159\n",
       "min          0.030002\n",
       "25%          0.395297\n",
       "50%          0.555517\n",
       "75%          0.857034\n",
       "max          3.731596\n",
       "Name: Активная мощность, dtype: float64"
      ]
     },
     "metadata": {},
     "output_type": "display_data"
    }
   ],
   "source": [
    "display(data_arc['Активная мощность'].describe()); #описание данных"
   ]
  },
  {
   "attachments": {},
   "cell_type": "markdown",
   "metadata": {},
   "source": [
    "Имеется длинный хвост справа, возможно, будем работать с ними, как с выбросами."
   ]
  },
  {
   "cell_type": "code",
   "execution_count": 11,
   "metadata": {},
   "outputs": [
    {
     "data": {
      "image/png": "[encoded data removed]",
      "text/plain": [
       "<Figure size 1000x700 with 1 Axes>"
      ]
     },
     "metadata": {},
     "output_type": "display_data"
    }
   ],
   "source": [
    "#строим гистограмму для столбца с возрастом\n",
    "fig, ax = plt.subplots() #добавить действия для работы над фигурой и осями из библиотеки\n",
    "ax.set_xlabel('Реактивная мощность') #подпись оси х\n",
    "ax.set_ylabel('Количество') #подпись оси y\n",
    "\n",
    "(\n",
    "    data_arc['Реактивная мощность'] #столбец с данными\n",
    "    .hist(bins=100, figsize=(10, 7), color='green', grid=True) #гистограмма определенного размера, цвета и количества корзин\n",
    "    .set_title('Гистограмма: распределение электродов по значению реактивной мощности', fontsize = 16, color = 'Black') #название гистограммы и его оформление\n",
    ");"
   ]
  },
  {
   "attachments": {},
   "cell_type": "markdown",
   "metadata": {},
   "source": [
    "В столбце \"Реактивной мощности\" встречаются выбросы слева, в пределах значения -700. Такой мощности быть не может, поэтому от таких значений нужно будет избавиться."
   ]
  },
  {
   "cell_type": "code",
   "execution_count": 12,
   "metadata": {},
   "outputs": [
    {
     "data": {
      "text/plain": [
       "count    14876.000000\n",
       "mean         0.452592\n",
       "std          5.878702\n",
       "min       -715.504924\n",
       "25%          0.290991\n",
       "50%          0.415962\n",
       "75%          0.637371\n",
       "max          2.676388\n",
       "Name: Реактивная мощность, dtype: float64"
      ]
     },
     "metadata": {},
     "output_type": "display_data"
    }
   ],
   "source": [
    "display(data_arc['Реактивная мощность'].describe()); #описание данных"
   ]
  },
  {
   "attachments": {},
   "cell_type": "markdown",
   "metadata": {},
   "source": [
    "Посмотрим на корреляцию между мощностями на непредобработанных данных. При просмотре первых пяти строк датасета мы видим четкую зависимость: \n",
    "\n",
    "- реактивная мощность обычно меньше активной;\n",
    "- чем выше активная, тем выше реактивная мощность.\n",
    "\n",
    "На непредобработанных данных не будет такой четкой картины, но оценить корреляцию стоит уже сейчас."
   ]
  },
  {
   "cell_type": "code",
   "execution_count": 13,
   "metadata": {},
   "outputs": [
    {
     "data": {
      "text/plain": [
       "0.05443724339693738"
      ]
     },
     "metadata": {},
     "output_type": "display_data"
    },
    {
     "data": {
      "image/png": "[encoded data removed]",
      "text/plain": [
       "<Figure size 640x480 with 1 Axes>"
      ]
     },
     "metadata": {},
     "output_type": "display_data"
    }
   ],
   "source": [
    "display(data_arc['Реактивная мощность'].corr(data_arc['Активная мощность'])) #отобразить корреляцию\n",
    "\n",
    "ax = data_arc.plot(x='Реактивная мощность', y='Активная мощность', #по фильтру, по х - мировые продажи, по у - оценки пользователей\n",
    "          kind='scatter', sharex=False, grid=True, xlim=(0,4), ylim=(0,4), #вид - диаг. рассеяния, сетка, пределы по осям\n",
    "          alpha=0.3, c='g') #прозрачность, цвет"
   ]
  },
  {
   "attachments": {},
   "cell_type": "markdown",
   "metadata": {},
   "source": [
    "Полная мощность - это квадратный корень из суммы квадратов реактивной (не несущей полезного эффекта) и активной (полезной) мощности. Таким образом, можем вычислить значение полной мощности или/и КПД системы, что может являться новыми признаками."
   ]
  },
  {
   "attachments": {},
   "cell_type": "markdown",
   "metadata": {},
   "source": [
    "Также, имеем данные времени нагрева. С помощью них мы сможем посчитать суммарное время, затраченное на нагрев при средней полной мощности и КПД."
   ]
  },
  {
   "attachments": {},
   "cell_type": "markdown",
   "metadata": {},
   "source": [
    "#### Краткий вывод"
   ]
  },
  {
   "attachments": {},
   "cell_type": "markdown",
   "metadata": {},
   "source": [
    "Данные для электродов описаны. Имеются несовпадения типа данных, которые нужно будет привести к нужному виду. Также имеюся выбросы с которыми нужно бует поработать."
   ]
  },
  {
   "attachments": {},
   "cell_type": "markdown",
   "metadata": {},
   "source": [
    "### Данные о подаче сыпучих материалов (объём)"
   ]
  },
  {
   "cell_type": "code",
   "execution_count": 14,
   "metadata": {},
   "outputs": [],
   "source": [
    "try:\n",
    "    data_bulk = pd.read_csv(r'E:\\Practicum\\2_Projects_Git\\14_manufactory\\data_bulk.csv')\n",
    "except:\n",
    "    data_bulk = pd.read_csv('/datasets/final_steel/data_bulk.csv')"
   ]
  },
  {
   "cell_type": "code",
   "execution_count": 15,
   "metadata": {},
   "outputs": [
    {
     "data": {
      "text/html": [
       "<div>\n",
       "<style scoped>\n",
       "    .dataframe tbody tr th:only-of-type {\n",
       "        vertical-align: middle;\n",
       "    }\n",
       "\n",
       "    .dataframe tbody tr th {\n",
       "        vertical-align: top;\n",
       "    }\n",
       "\n",
       "    .dataframe thead th {\n",
       "        text-align: right;\n",
       "    }\n",
       "</style>\n",
       "<table border=\"1\" class=\"dataframe\">\n",
       "  <thead>\n",
       "    <tr style=\"text-align: right;\">\n",
       "      <th></th>\n",
       "      <th>key</th>\n",
       "      <th>Bulk 1</th>\n",
       "      <th>Bulk 2</th>\n",
       "      <th>Bulk 3</th>\n",
       "      <th>Bulk 4</th>\n",
       "      <th>Bulk 5</th>\n",
       "      <th>Bulk 6</th>\n",
       "      <th>Bulk 7</th>\n",
       "      <th>Bulk 8</th>\n",
       "      <th>Bulk 9</th>\n",
       "      <th>Bulk 10</th>\n",
       "      <th>Bulk 11</th>\n",
       "      <th>Bulk 12</th>\n",
       "      <th>Bulk 13</th>\n",
       "      <th>Bulk 14</th>\n",
       "      <th>Bulk 15</th>\n",
       "    </tr>\n",
       "  </thead>\n",
       "  <tbody>\n",
       "    <tr>\n",
       "      <th>0</th>\n",
       "      <td>1</td>\n",
       "      <td>NaN</td>\n",
       "      <td>NaN</td>\n",
       "      <td>NaN</td>\n",
       "      <td>43.0</td>\n",
       "      <td>NaN</td>\n",
       "      <td>NaN</td>\n",
       "      <td>NaN</td>\n",
       "      <td>NaN</td>\n",
       "      <td>NaN</td>\n",
       "      <td>NaN</td>\n",
       "      <td>NaN</td>\n",
       "      <td>206.0</td>\n",
       "      <td>NaN</td>\n",
       "      <td>150.0</td>\n",
       "      <td>154.0</td>\n",
       "    </tr>\n",
       "    <tr>\n",
       "      <th>1</th>\n",
       "      <td>2</td>\n",
       "      <td>NaN</td>\n",
       "      <td>NaN</td>\n",
       "      <td>NaN</td>\n",
       "      <td>73.0</td>\n",
       "      <td>NaN</td>\n",
       "      <td>NaN</td>\n",
       "      <td>NaN</td>\n",
       "      <td>NaN</td>\n",
       "      <td>NaN</td>\n",
       "      <td>NaN</td>\n",
       "      <td>NaN</td>\n",
       "      <td>206.0</td>\n",
       "      <td>NaN</td>\n",
       "      <td>149.0</td>\n",
       "      <td>154.0</td>\n",
       "    </tr>\n",
       "    <tr>\n",
       "      <th>2</th>\n",
       "      <td>3</td>\n",
       "      <td>NaN</td>\n",
       "      <td>NaN</td>\n",
       "      <td>NaN</td>\n",
       "      <td>34.0</td>\n",
       "      <td>NaN</td>\n",
       "      <td>NaN</td>\n",
       "      <td>NaN</td>\n",
       "      <td>NaN</td>\n",
       "      <td>NaN</td>\n",
       "      <td>NaN</td>\n",
       "      <td>NaN</td>\n",
       "      <td>205.0</td>\n",
       "      <td>NaN</td>\n",
       "      <td>152.0</td>\n",
       "      <td>153.0</td>\n",
       "    </tr>\n",
       "    <tr>\n",
       "      <th>3</th>\n",
       "      <td>4</td>\n",
       "      <td>NaN</td>\n",
       "      <td>NaN</td>\n",
       "      <td>NaN</td>\n",
       "      <td>81.0</td>\n",
       "      <td>NaN</td>\n",
       "      <td>NaN</td>\n",
       "      <td>NaN</td>\n",
       "      <td>NaN</td>\n",
       "      <td>NaN</td>\n",
       "      <td>NaN</td>\n",
       "      <td>NaN</td>\n",
       "      <td>207.0</td>\n",
       "      <td>NaN</td>\n",
       "      <td>153.0</td>\n",
       "      <td>154.0</td>\n",
       "    </tr>\n",
       "    <tr>\n",
       "      <th>4</th>\n",
       "      <td>5</td>\n",
       "      <td>NaN</td>\n",
       "      <td>NaN</td>\n",
       "      <td>NaN</td>\n",
       "      <td>78.0</td>\n",
       "      <td>NaN</td>\n",
       "      <td>NaN</td>\n",
       "      <td>NaN</td>\n",
       "      <td>NaN</td>\n",
       "      <td>NaN</td>\n",
       "      <td>NaN</td>\n",
       "      <td>NaN</td>\n",
       "      <td>203.0</td>\n",
       "      <td>NaN</td>\n",
       "      <td>151.0</td>\n",
       "      <td>152.0</td>\n",
       "    </tr>\n",
       "  </tbody>\n",
       "</table>\n",
       "</div>"
      ],
      "text/plain": [
       "   key  Bulk 1  Bulk 2  Bulk 3  Bulk 4  Bulk 5  Bulk 6  Bulk 7  Bulk 8  \\\n",
       "0    1     NaN     NaN     NaN    43.0     NaN     NaN     NaN     NaN   \n",
       "1    2     NaN     NaN     NaN    73.0     NaN     NaN     NaN     NaN   \n",
       "2    3     NaN     NaN     NaN    34.0     NaN     NaN     NaN     NaN   \n",
       "3    4     NaN     NaN     NaN    81.0     NaN     NaN     NaN     NaN   \n",
       "4    5     NaN     NaN     NaN    78.0     NaN     NaN     NaN     NaN   \n",
       "\n",
       "   Bulk 9  Bulk 10  Bulk 11  Bulk 12  Bulk 13  Bulk 14  Bulk 15  \n",
       "0     NaN      NaN      NaN    206.0      NaN    150.0    154.0  \n",
       "1     NaN      NaN      NaN    206.0      NaN    149.0    154.0  \n",
       "2     NaN      NaN      NaN    205.0      NaN    152.0    153.0  \n",
       "3     NaN      NaN      NaN    207.0      NaN    153.0    154.0  \n",
       "4     NaN      NaN      NaN    203.0      NaN    151.0    152.0  "
      ]
     },
     "execution_count": 15,
     "metadata": {},
     "output_type": "execute_result"
    }
   ],
   "source": [
    "data_bulk.head()"
   ]
  },
  {
   "cell_type": "code",
   "execution_count": 16,
   "metadata": {},
   "outputs": [
    {
     "name": "stdout",
     "output_type": "stream",
     "text": [
      "<class 'pandas.core.frame.DataFrame'>\n",
      "RangeIndex: 3129 entries, 0 to 3128\n",
      "Data columns (total 16 columns):\n",
      " #   Column   Non-Null Count  Dtype  \n",
      "---  ------   --------------  -----  \n",
      " 0   key      3129 non-null   int64  \n",
      " 1   Bulk 1   252 non-null    float64\n",
      " 2   Bulk 2   22 non-null     float64\n",
      " 3   Bulk 3   1298 non-null   float64\n",
      " 4   Bulk 4   1014 non-null   float64\n",
      " 5   Bulk 5   77 non-null     float64\n",
      " 6   Bulk 6   576 non-null    float64\n",
      " 7   Bulk 7   25 non-null     float64\n",
      " 8   Bulk 8   1 non-null      float64\n",
      " 9   Bulk 9   19 non-null     float64\n",
      " 10  Bulk 10  176 non-null    float64\n",
      " 11  Bulk 11  177 non-null    float64\n",
      " 12  Bulk 12  2450 non-null   float64\n",
      " 13  Bulk 13  18 non-null     float64\n",
      " 14  Bulk 14  2806 non-null   float64\n",
      " 15  Bulk 15  2248 non-null   float64\n",
      "dtypes: float64(15), int64(1)\n",
      "memory usage: 391.2 KB\n"
     ]
    }
   ],
   "source": [
    "data_bulk.info()"
   ]
  },
  {
   "attachments": {},
   "cell_type": "markdown",
   "metadata": {},
   "source": [
    "Датасет с информацией о подаче объема сыпучих материалов содержит огромное количество пустых ячеек во всех столбцах. Где-то заполнено до 80-85% данных, где-то только одно значение из 3129 строк. \n",
    "\n",
    "Датасет содержит, как указал ранее, 3129 строк, а также 16 столбцов (здесь и далее буду писать количество столбцов всегда с учетом столбца `key`). Данные распределены неравномерно. Также мы не знаем, какие вещества (или группы веществ) зашифрованы в названиях столбцов."
   ]
  },
  {
   "cell_type": "code",
   "execution_count": 17,
   "metadata": {},
   "outputs": [
    {
     "data": {
      "image/png": "[encoded data removed]",
      "text/plain": [
       "<Figure size 1700x1000 with 16 Axes>"
      ]
     },
     "metadata": {},
     "output_type": "display_data"
    }
   ],
   "source": [
    "(\n",
    "    data_bulk #данные\n",
    "    .hist(bins=20, figsize=(17, 10), color='orange', grid=True) #гистограмма определенного размера, цвета и количества корзин\n",
    ");"
   ]
  },
  {
   "attachments": {},
   "cell_type": "markdown",
   "metadata": {},
   "source": [
    "Что-либо \"вытащить\" из этих данных на данном этапе не представляеся возможным.\n",
    "\n",
    "Посмотрим на объемы каждого сыпучего компонента."
   ]
  },
  {
   "cell_type": "code",
   "execution_count": 18,
   "metadata": {},
   "outputs": [
    {
     "data": {
      "text/html": [
       "<div>\n",
       "<style scoped>\n",
       "    .dataframe tbody tr th:only-of-type {\n",
       "        vertical-align: middle;\n",
       "    }\n",
       "\n",
       "    .dataframe tbody tr th {\n",
       "        vertical-align: top;\n",
       "    }\n",
       "\n",
       "    .dataframe thead th {\n",
       "        text-align: right;\n",
       "    }\n",
       "</style>\n",
       "<table border=\"1\" class=\"dataframe\">\n",
       "  <thead>\n",
       "    <tr style=\"text-align: right;\">\n",
       "      <th></th>\n",
       "      <th>Объем</th>\n",
       "      <th>Количество добавлений</th>\n",
       "    </tr>\n",
       "  </thead>\n",
       "  <tbody>\n",
       "    <tr>\n",
       "      <th>Bulk 12</th>\n",
       "      <td>638154.0</td>\n",
       "      <td>2450</td>\n",
       "    </tr>\n",
       "    <tr>\n",
       "      <th>Bulk 14</th>\n",
       "      <td>477819.0</td>\n",
       "      <td>2806</td>\n",
       "    </tr>\n",
       "    <tr>\n",
       "      <th>Bulk 15</th>\n",
       "      <td>360834.0</td>\n",
       "      <td>2248</td>\n",
       "    </tr>\n",
       "    <tr>\n",
       "      <th>Bulk 3</th>\n",
       "      <td>147815.0</td>\n",
       "      <td>1298</td>\n",
       "    </tr>\n",
       "    <tr>\n",
       "      <th>Bulk 4</th>\n",
       "      <td>105856.0</td>\n",
       "      <td>1014</td>\n",
       "    </tr>\n",
       "    <tr>\n",
       "      <th>Bulk 6</th>\n",
       "      <td>68501.0</td>\n",
       "      <td>576</td>\n",
       "    </tr>\n",
       "    <tr>\n",
       "      <th>Bulk 10</th>\n",
       "      <td>14658.0</td>\n",
       "      <td>176</td>\n",
       "    </tr>\n",
       "    <tr>\n",
       "      <th>Bulk 11</th>\n",
       "      <td>13597.0</td>\n",
       "      <td>177</td>\n",
       "    </tr>\n",
       "    <tr>\n",
       "      <th>Bulk 1</th>\n",
       "      <td>9889.0</td>\n",
       "      <td>252</td>\n",
       "    </tr>\n",
       "    <tr>\n",
       "      <th>Bulk 5</th>\n",
       "      <td>8241.0</td>\n",
       "      <td>77</td>\n",
       "    </tr>\n",
       "    <tr>\n",
       "      <th>Bulk 7</th>\n",
       "      <td>7640.0</td>\n",
       "      <td>25</td>\n",
       "    </tr>\n",
       "    <tr>\n",
       "      <th>Bulk 2</th>\n",
       "      <td>5567.0</td>\n",
       "      <td>22</td>\n",
       "    </tr>\n",
       "    <tr>\n",
       "      <th>Bulk 13</th>\n",
       "      <td>3260.0</td>\n",
       "      <td>18</td>\n",
       "    </tr>\n",
       "    <tr>\n",
       "      <th>Bulk 9</th>\n",
       "      <td>1450.0</td>\n",
       "      <td>19</td>\n",
       "    </tr>\n",
       "    <tr>\n",
       "      <th>Bulk 8</th>\n",
       "      <td>49.0</td>\n",
       "      <td>1</td>\n",
       "    </tr>\n",
       "  </tbody>\n",
       "</table>\n",
       "</div>"
      ],
      "text/plain": [
       "            Объем  Количество добавлений\n",
       "Bulk 12  638154.0                   2450\n",
       "Bulk 14  477819.0                   2806\n",
       "Bulk 15  360834.0                   2248\n",
       "Bulk 3   147815.0                   1298\n",
       "Bulk 4   105856.0                   1014\n",
       "Bulk 6    68501.0                    576\n",
       "Bulk 10   14658.0                    176\n",
       "Bulk 11   13597.0                    177\n",
       "Bulk 1     9889.0                    252\n",
       "Bulk 5     8241.0                     77\n",
       "Bulk 7     7640.0                     25\n",
       "Bulk 2     5567.0                     22\n",
       "Bulk 13    3260.0                     18\n",
       "Bulk 9     1450.0                     19\n",
       "Bulk 8       49.0                      1"
      ]
     },
     "execution_count": 18,
     "metadata": {},
     "output_type": "execute_result"
    }
   ],
   "source": [
    "data_bulk_volume = data_bulk.drop(columns='key').sum().sort_values(ascending= False).to_frame() #суммируем и сортируем по объему\n",
    "data_bulk_quant = data_bulk.drop(columns='key').count().sort_values(ascending= False).to_frame() #считаем количество добавлений\n",
    "data_bulk_f = pd.merge(data_bulk_volume, data_bulk_quant, left_index=True, right_index=True) #соединяем таблицы\n",
    "data_bulk_f.rename(columns = {'0_x':'Объем', '0_y': 'Количество добавлений'}, inplace = True ) #переименовываем\n",
    "data_bulk_f"
   ]
  },
  {
   "attachments": {},
   "cell_type": "markdown",
   "metadata": {},
   "source": [
    "Постоим столбчатую диаграмму распределения объемов и количества засыпаний для каждого компонента. \n",
    "\n",
    "- фиолетовый градиент - это значение с количеством раз, когда добавку осуществляли, \n",
    "- зеленый градиент - это общий объем добавок."
   ]
  },
  {
   "cell_type": "code",
   "execution_count": 19,
   "metadata": {},
   "outputs": [
    {
     "data": {
      "image/png": "[encoded data removed]",
      "text/plain": [
       "<Figure size 1600x700 with 2 Axes>"
      ]
     },
     "metadata": {},
     "output_type": "display_data"
    }
   ],
   "source": [
    "fig, ax = plt.subplots(figsize=(16, 7)) # задаем размер\n",
    "ax2 =ax.twinx()\n",
    "\n",
    "# строим столбчатую гистограмму по столбу с объемом, зеленого градиента\n",
    "sns.barplot(\n",
    "    x=data_bulk_f.index, \n",
    "    y=data_bulk_f.iloc[:, 0], \n",
    "    alpha=0.95,\n",
    "    palette=sns.color_palette(\"BuGn_r\", n_colors=len(data_bulk_f)), \n",
    "    ax=ax2)\n",
    "    \n",
    "# строим столбчатую гистограмму по столбу с количеством , фиолетового градиента\n",
    "sns.barplot(\n",
    "    x=data_bulk_f.index, \n",
    "    y=data_bulk_f.iloc[:, 1], \n",
    "    alpha=0.95,\n",
    "    palette=sns.color_palette(\"Purples_r\", n_colors=len(data_bulk_f)), \n",
    "    ax=ax).set_title(\n",
    "        'Диаграмма распределения объемов и количества добавлений сыпучих материалов',\n",
    "        fontsize = 20,\n",
    "        color = 'Black')\n",
    "\n",
    "ax.set_xticklabels(ax.get_xticklabels(), rotation=90, horizontalalignment='right')\n",
    "plt.show()"
   ]
  },
  {
   "attachments": {},
   "cell_type": "markdown",
   "metadata": {},
   "source": [
    "Из диаграммы видно, что добавки Bulk 1, 2, 5, 7, 8, 9, 10, 11 и 13 имеют очень малый объем в общем количестве примесей."
   ]
  },
  {
   "attachments": {},
   "cell_type": "markdown",
   "metadata": {},
   "source": [
    "#### Краткий вывод"
   ]
  },
  {
   "attachments": {},
   "cell_type": "markdown",
   "metadata": {},
   "source": [
    "В данных о подаче по объему содержится много столбцов, много пропусков и как-либо интерпретировать полученные данные на данном этапе не представляется возможным. Ничего нельзя сказать и про выбросы. Зато с типом данных проблем нет: все данные - вещественные значения.\n",
    "\n",
    "Был произведен анализ сыпучих материалов, найдено и показано их распределение в процессе плавления."
   ]
  },
  {
   "attachments": {},
   "cell_type": "markdown",
   "metadata": {},
   "source": [
    "### Данные о подаче сыпучих материалов (время)"
   ]
  },
  {
   "cell_type": "code",
   "execution_count": 20,
   "metadata": {},
   "outputs": [],
   "source": [
    "try:\n",
    "    data_bulk_time = pd.read_csv(r'E:\\Practicum\\2_Projects_Git\\14_manufactory\\data_bulk_time.csv')\n",
    "except:\n",
    "    data_bulk_time = pd.read_csv('/datasets/final_steel/data_bulk_time.csv')"
   ]
  },
  {
   "cell_type": "code",
   "execution_count": 21,
   "metadata": {},
   "outputs": [
    {
     "data": {
      "text/html": [
       "<div>\n",
       "<style scoped>\n",
       "    .dataframe tbody tr th:only-of-type {\n",
       "        vertical-align: middle;\n",
       "    }\n",
       "\n",
       "    .dataframe tbody tr th {\n",
       "        vertical-align: top;\n",
       "    }\n",
       "\n",
       "    .dataframe thead th {\n",
       "        text-align: right;\n",
       "    }\n",
       "</style>\n",
       "<table border=\"1\" class=\"dataframe\">\n",
       "  <thead>\n",
       "    <tr style=\"text-align: right;\">\n",
       "      <th></th>\n",
       "      <th>key</th>\n",
       "      <th>Bulk 1</th>\n",
       "      <th>Bulk 2</th>\n",
       "      <th>Bulk 3</th>\n",
       "      <th>Bulk 4</th>\n",
       "      <th>Bulk 5</th>\n",
       "      <th>Bulk 6</th>\n",
       "      <th>Bulk 7</th>\n",
       "      <th>Bulk 8</th>\n",
       "      <th>Bulk 9</th>\n",
       "      <th>Bulk 10</th>\n",
       "      <th>Bulk 11</th>\n",
       "      <th>Bulk 12</th>\n",
       "      <th>Bulk 13</th>\n",
       "      <th>Bulk 14</th>\n",
       "      <th>Bulk 15</th>\n",
       "    </tr>\n",
       "  </thead>\n",
       "  <tbody>\n",
       "    <tr>\n",
       "      <th>0</th>\n",
       "      <td>1</td>\n",
       "      <td>NaN</td>\n",
       "      <td>NaN</td>\n",
       "      <td>NaN</td>\n",
       "      <td>2019-05-03 11:21:30</td>\n",
       "      <td>NaN</td>\n",
       "      <td>NaN</td>\n",
       "      <td>NaN</td>\n",
       "      <td>NaN</td>\n",
       "      <td>NaN</td>\n",
       "      <td>NaN</td>\n",
       "      <td>NaN</td>\n",
       "      <td>2019-05-03 11:03:52</td>\n",
       "      <td>NaN</td>\n",
       "      <td>2019-05-03 11:03:52</td>\n",
       "      <td>2019-05-03 11:03:52</td>\n",
       "    </tr>\n",
       "    <tr>\n",
       "      <th>1</th>\n",
       "      <td>2</td>\n",
       "      <td>NaN</td>\n",
       "      <td>NaN</td>\n",
       "      <td>NaN</td>\n",
       "      <td>2019-05-03 11:46:38</td>\n",
       "      <td>NaN</td>\n",
       "      <td>NaN</td>\n",
       "      <td>NaN</td>\n",
       "      <td>NaN</td>\n",
       "      <td>NaN</td>\n",
       "      <td>NaN</td>\n",
       "      <td>NaN</td>\n",
       "      <td>2019-05-03 11:40:20</td>\n",
       "      <td>NaN</td>\n",
       "      <td>2019-05-03 11:40:20</td>\n",
       "      <td>2019-05-03 11:40:20</td>\n",
       "    </tr>\n",
       "    <tr>\n",
       "      <th>2</th>\n",
       "      <td>3</td>\n",
       "      <td>NaN</td>\n",
       "      <td>NaN</td>\n",
       "      <td>NaN</td>\n",
       "      <td>2019-05-03 12:31:06</td>\n",
       "      <td>NaN</td>\n",
       "      <td>NaN</td>\n",
       "      <td>NaN</td>\n",
       "      <td>NaN</td>\n",
       "      <td>NaN</td>\n",
       "      <td>NaN</td>\n",
       "      <td>NaN</td>\n",
       "      <td>2019-05-03 12:09:40</td>\n",
       "      <td>NaN</td>\n",
       "      <td>2019-05-03 12:09:40</td>\n",
       "      <td>2019-05-03 12:09:40</td>\n",
       "    </tr>\n",
       "    <tr>\n",
       "      <th>3</th>\n",
       "      <td>4</td>\n",
       "      <td>NaN</td>\n",
       "      <td>NaN</td>\n",
       "      <td>NaN</td>\n",
       "      <td>2019-05-03 12:48:43</td>\n",
       "      <td>NaN</td>\n",
       "      <td>NaN</td>\n",
       "      <td>NaN</td>\n",
       "      <td>NaN</td>\n",
       "      <td>NaN</td>\n",
       "      <td>NaN</td>\n",
       "      <td>NaN</td>\n",
       "      <td>2019-05-03 12:41:24</td>\n",
       "      <td>NaN</td>\n",
       "      <td>2019-05-03 12:41:24</td>\n",
       "      <td>2019-05-03 12:41:24</td>\n",
       "    </tr>\n",
       "    <tr>\n",
       "      <th>4</th>\n",
       "      <td>5</td>\n",
       "      <td>NaN</td>\n",
       "      <td>NaN</td>\n",
       "      <td>NaN</td>\n",
       "      <td>2019-05-03 13:18:50</td>\n",
       "      <td>NaN</td>\n",
       "      <td>NaN</td>\n",
       "      <td>NaN</td>\n",
       "      <td>NaN</td>\n",
       "      <td>NaN</td>\n",
       "      <td>NaN</td>\n",
       "      <td>NaN</td>\n",
       "      <td>2019-05-03 13:12:56</td>\n",
       "      <td>NaN</td>\n",
       "      <td>2019-05-03 13:12:56</td>\n",
       "      <td>2019-05-03 13:12:56</td>\n",
       "    </tr>\n",
       "  </tbody>\n",
       "</table>\n",
       "</div>"
      ],
      "text/plain": [
       "   key Bulk 1 Bulk 2 Bulk 3               Bulk 4 Bulk 5 Bulk 6 Bulk 7 Bulk 8  \\\n",
       "0    1    NaN    NaN    NaN  2019-05-03 11:21:30    NaN    NaN    NaN    NaN   \n",
       "1    2    NaN    NaN    NaN  2019-05-03 11:46:38    NaN    NaN    NaN    NaN   \n",
       "2    3    NaN    NaN    NaN  2019-05-03 12:31:06    NaN    NaN    NaN    NaN   \n",
       "3    4    NaN    NaN    NaN  2019-05-03 12:48:43    NaN    NaN    NaN    NaN   \n",
       "4    5    NaN    NaN    NaN  2019-05-03 13:18:50    NaN    NaN    NaN    NaN   \n",
       "\n",
       "  Bulk 9 Bulk 10 Bulk 11              Bulk 12 Bulk 13              Bulk 14  \\\n",
       "0    NaN     NaN     NaN  2019-05-03 11:03:52     NaN  2019-05-03 11:03:52   \n",
       "1    NaN     NaN     NaN  2019-05-03 11:40:20     NaN  2019-05-03 11:40:20   \n",
       "2    NaN     NaN     NaN  2019-05-03 12:09:40     NaN  2019-05-03 12:09:40   \n",
       "3    NaN     NaN     NaN  2019-05-03 12:41:24     NaN  2019-05-03 12:41:24   \n",
       "4    NaN     NaN     NaN  2019-05-03 13:12:56     NaN  2019-05-03 13:12:56   \n",
       "\n",
       "               Bulk 15  \n",
       "0  2019-05-03 11:03:52  \n",
       "1  2019-05-03 11:40:20  \n",
       "2  2019-05-03 12:09:40  \n",
       "3  2019-05-03 12:41:24  \n",
       "4  2019-05-03 13:12:56  "
      ]
     },
     "execution_count": 21,
     "metadata": {},
     "output_type": "execute_result"
    }
   ],
   "source": [
    "data_bulk_time.head()"
   ]
  },
  {
   "cell_type": "code",
   "execution_count": 22,
   "metadata": {},
   "outputs": [
    {
     "name": "stdout",
     "output_type": "stream",
     "text": [
      "<class 'pandas.core.frame.DataFrame'>\n",
      "RangeIndex: 3129 entries, 0 to 3128\n",
      "Data columns (total 16 columns):\n",
      " #   Column   Non-Null Count  Dtype \n",
      "---  ------   --------------  ----- \n",
      " 0   key      3129 non-null   int64 \n",
      " 1   Bulk 1   252 non-null    object\n",
      " 2   Bulk 2   22 non-null     object\n",
      " 3   Bulk 3   1298 non-null   object\n",
      " 4   Bulk 4   1014 non-null   object\n",
      " 5   Bulk 5   77 non-null     object\n",
      " 6   Bulk 6   576 non-null    object\n",
      " 7   Bulk 7   25 non-null     object\n",
      " 8   Bulk 8   1 non-null      object\n",
      " 9   Bulk 9   19 non-null     object\n",
      " 10  Bulk 10  176 non-null    object\n",
      " 11  Bulk 11  177 non-null    object\n",
      " 12  Bulk 12  2450 non-null   object\n",
      " 13  Bulk 13  18 non-null     object\n",
      " 14  Bulk 14  2806 non-null   object\n",
      " 15  Bulk 15  2248 non-null   object\n",
      "dtypes: int64(1), object(15)\n",
      "memory usage: 391.2+ KB\n"
     ]
    }
   ],
   "source": [
    "data_bulk_time.info()"
   ]
  },
  {
   "attachments": {},
   "cell_type": "markdown",
   "metadata": {},
   "source": [
    "#### Краткие выводы"
   ]
  },
  {
   "attachments": {},
   "cell_type": "markdown",
   "metadata": {},
   "source": [
    "Имеем полное совпадение по количеству пропусков, что и в таблице объемов. Думаю, что эта таблица - копия предыдущей, только данные другие - время.\n",
    "\n",
    "Тип данных требует корректировки и приведения его вида ко времени."
   ]
  },
  {
   "attachments": {},
   "cell_type": "markdown",
   "metadata": {},
   "source": [
    "### Данные о продувке сплава газом"
   ]
  },
  {
   "cell_type": "code",
   "execution_count": 23,
   "metadata": {},
   "outputs": [],
   "source": [
    "try:\n",
    "    data_gas = pd.read_csv(r'E:\\Practicum\\2_Projects_Git\\14_manufactory\\data_gas.csv')\n",
    "except:\n",
    "    data_gas = pd.read_csv('/datasets/final_steel/data_gas.csv')"
   ]
  },
  {
   "cell_type": "code",
   "execution_count": 24,
   "metadata": {},
   "outputs": [
    {
     "data": {
      "text/html": [
       "<div>\n",
       "<style scoped>\n",
       "    .dataframe tbody tr th:only-of-type {\n",
       "        vertical-align: middle;\n",
       "    }\n",
       "\n",
       "    .dataframe tbody tr th {\n",
       "        vertical-align: top;\n",
       "    }\n",
       "\n",
       "    .dataframe thead th {\n",
       "        text-align: right;\n",
       "    }\n",
       "</style>\n",
       "<table border=\"1\" class=\"dataframe\">\n",
       "  <thead>\n",
       "    <tr style=\"text-align: right;\">\n",
       "      <th></th>\n",
       "      <th>key</th>\n",
       "      <th>Газ 1</th>\n",
       "    </tr>\n",
       "  </thead>\n",
       "  <tbody>\n",
       "    <tr>\n",
       "      <th>0</th>\n",
       "      <td>1</td>\n",
       "      <td>29.749986</td>\n",
       "    </tr>\n",
       "    <tr>\n",
       "      <th>1</th>\n",
       "      <td>2</td>\n",
       "      <td>12.555561</td>\n",
       "    </tr>\n",
       "    <tr>\n",
       "      <th>2</th>\n",
       "      <td>3</td>\n",
       "      <td>28.554793</td>\n",
       "    </tr>\n",
       "    <tr>\n",
       "      <th>3</th>\n",
       "      <td>4</td>\n",
       "      <td>18.841219</td>\n",
       "    </tr>\n",
       "    <tr>\n",
       "      <th>4</th>\n",
       "      <td>5</td>\n",
       "      <td>5.413692</td>\n",
       "    </tr>\n",
       "  </tbody>\n",
       "</table>\n",
       "</div>"
      ],
      "text/plain": [
       "   key      Газ 1\n",
       "0    1  29.749986\n",
       "1    2  12.555561\n",
       "2    3  28.554793\n",
       "3    4  18.841219\n",
       "4    5   5.413692"
      ]
     },
     "execution_count": 24,
     "metadata": {},
     "output_type": "execute_result"
    }
   ],
   "source": [
    "data_gas.head()"
   ]
  },
  {
   "cell_type": "code",
   "execution_count": 25,
   "metadata": {},
   "outputs": [
    {
     "name": "stdout",
     "output_type": "stream",
     "text": [
      "<class 'pandas.core.frame.DataFrame'>\n",
      "RangeIndex: 3239 entries, 0 to 3238\n",
      "Data columns (total 2 columns):\n",
      " #   Column  Non-Null Count  Dtype  \n",
      "---  ------  --------------  -----  \n",
      " 0   key     3239 non-null   int64  \n",
      " 1   Газ 1   3239 non-null   float64\n",
      "dtypes: float64(1), int64(1)\n",
      "memory usage: 50.7 KB\n"
     ]
    }
   ],
   "source": [
    "data_gas.info()"
   ]
  },
  {
   "attachments": {},
   "cell_type": "markdown",
   "metadata": {},
   "source": [
    "Датасет содержит только ключ и столбец с данными о газе (возможно, объем). Пропусков нет, количество строк 3239."
   ]
  },
  {
   "cell_type": "code",
   "execution_count": 26,
   "metadata": {},
   "outputs": [
    {
     "data": {
      "image/png": "[encoded data removed]",
      "text/plain": [
       "<Figure size 1000x700 with 1 Axes>"
      ]
     },
     "metadata": {},
     "output_type": "display_data"
    }
   ],
   "source": [
    "#строим гистограмму для столбца с возрастом\n",
    "fig, ax = plt.subplots() #добавить действия для работы над фигурой и осями из библиотеки\n",
    "ax.set_xlabel('Газ 1') #подпись оси х\n",
    "ax.set_ylabel('Количество') #подпись оси y\n",
    "\n",
    "(\n",
    "    data_gas['Газ 1'] #столбец с данными\n",
    "    .hist(bins=100, figsize=(10, 7), color='grey', grid=True) #гистограмма определенного размера, цвета и количества корзин\n",
    "    .set_title('Гистограмма: распределение данных столбца Газ 1', fontsize = 16, color = 'Black') #название гистограммы и его оформление\n",
    ");"
   ]
  },
  {
   "cell_type": "code",
   "execution_count": 27,
   "metadata": {},
   "outputs": [
    {
     "data": {
      "text/plain": [
       "count    3239.000000\n",
       "mean       11.002062\n",
       "std         6.220327\n",
       "min         0.008399\n",
       "25%         7.043089\n",
       "50%         9.836267\n",
       "75%        13.769915\n",
       "max        77.995040\n",
       "Name: Газ 1, dtype: float64"
      ]
     },
     "execution_count": 27,
     "metadata": {},
     "output_type": "execute_result"
    }
   ],
   "source": [
    "data_gas['Газ 1'].describe()"
   ]
  },
  {
   "attachments": {},
   "cell_type": "markdown",
   "metadata": {},
   "source": [
    "#### Краткие выводы"
   ]
  },
  {
   "attachments": {},
   "cell_type": "markdown",
   "metadata": {},
   "source": [
    "Датасет не имеет пропусков и проблем с типом файла. Согласно построенной гистограмме, датасет все же имеет хвост справа - выбросы, с которыми нужно будет поработать."
   ]
  },
  {
   "attachments": {},
   "cell_type": "markdown",
   "metadata": {},
   "source": [
    "### Результаты измерения температуры"
   ]
  },
  {
   "cell_type": "code",
   "execution_count": 28,
   "metadata": {},
   "outputs": [],
   "source": [
    "try:\n",
    "    data_temp = pd.read_csv(r'E:\\Practicum\\2_Projects_Git\\14_manufactory\\data_temp.csv')\n",
    "except:\n",
    "    data_temp = pd.read_csv('/datasets/final_steel/data_temp.csv')"
   ]
  },
  {
   "cell_type": "code",
   "execution_count": 29,
   "metadata": {},
   "outputs": [
    {
     "data": {
      "text/html": [
       "<div>\n",
       "<style scoped>\n",
       "    .dataframe tbody tr th:only-of-type {\n",
       "        vertical-align: middle;\n",
       "    }\n",
       "\n",
       "    .dataframe tbody tr th {\n",
       "        vertical-align: top;\n",
       "    }\n",
       "\n",
       "    .dataframe thead th {\n",
       "        text-align: right;\n",
       "    }\n",
       "</style>\n",
       "<table border=\"1\" class=\"dataframe\">\n",
       "  <thead>\n",
       "    <tr style=\"text-align: right;\">\n",
       "      <th></th>\n",
       "      <th>key</th>\n",
       "      <th>Время замера</th>\n",
       "      <th>Температура</th>\n",
       "    </tr>\n",
       "  </thead>\n",
       "  <tbody>\n",
       "    <tr>\n",
       "      <th>0</th>\n",
       "      <td>1</td>\n",
       "      <td>2019-05-03 11:16:18</td>\n",
       "      <td>1571.0</td>\n",
       "    </tr>\n",
       "    <tr>\n",
       "      <th>1</th>\n",
       "      <td>1</td>\n",
       "      <td>2019-05-03 11:25:53</td>\n",
       "      <td>1604.0</td>\n",
       "    </tr>\n",
       "    <tr>\n",
       "      <th>2</th>\n",
       "      <td>1</td>\n",
       "      <td>2019-05-03 11:29:11</td>\n",
       "      <td>1618.0</td>\n",
       "    </tr>\n",
       "    <tr>\n",
       "      <th>3</th>\n",
       "      <td>1</td>\n",
       "      <td>2019-05-03 11:30:01</td>\n",
       "      <td>1601.0</td>\n",
       "    </tr>\n",
       "    <tr>\n",
       "      <th>4</th>\n",
       "      <td>1</td>\n",
       "      <td>2019-05-03 11:30:39</td>\n",
       "      <td>1613.0</td>\n",
       "    </tr>\n",
       "  </tbody>\n",
       "</table>\n",
       "</div>"
      ],
      "text/plain": [
       "   key         Время замера  Температура\n",
       "0    1  2019-05-03 11:16:18       1571.0\n",
       "1    1  2019-05-03 11:25:53       1604.0\n",
       "2    1  2019-05-03 11:29:11       1618.0\n",
       "3    1  2019-05-03 11:30:01       1601.0\n",
       "4    1  2019-05-03 11:30:39       1613.0"
      ]
     },
     "execution_count": 29,
     "metadata": {},
     "output_type": "execute_result"
    }
   ],
   "source": [
    "data_temp.head()"
   ]
  },
  {
   "attachments": {},
   "cell_type": "markdown",
   "metadata": {},
   "source": [
    "Данный датасет содержит целевой признак для будующей модели - температуру стали. "
   ]
  },
  {
   "cell_type": "code",
   "execution_count": 30,
   "metadata": {},
   "outputs": [
    {
     "name": "stdout",
     "output_type": "stream",
     "text": [
      "<class 'pandas.core.frame.DataFrame'>\n",
      "RangeIndex: 15907 entries, 0 to 15906\n",
      "Data columns (total 3 columns):\n",
      " #   Column        Non-Null Count  Dtype  \n",
      "---  ------        --------------  -----  \n",
      " 0   key           15907 non-null  int64  \n",
      " 1   Время замера  15907 non-null  object \n",
      " 2   Температура   13006 non-null  float64\n",
      "dtypes: float64(1), int64(1), object(1)\n",
      "memory usage: 372.9+ KB\n"
     ]
    }
   ],
   "source": [
    "data_temp.info()"
   ]
  },
  {
   "attachments": {},
   "cell_type": "markdown",
   "metadata": {},
   "source": [
    "Имеем пропуски в целевом признаке (возможно это те данные, что мы будем предсказывать). Датасет содержит 15907 строк и 3 столбца. Тип данных для времени указан неверно. "
   ]
  },
  {
   "cell_type": "code",
   "execution_count": 31,
   "metadata": {},
   "outputs": [
    {
     "data": {
      "image/png": "[encoded data removed]",
      "text/plain": [
       "<Figure size 1000x700 with 1 Axes>"
      ]
     },
     "metadata": {},
     "output_type": "display_data"
    }
   ],
   "source": [
    "#строим гистограмму для столбца с возрастом\n",
    "fig, ax = plt.subplots() #добавить действия для работы над фигурой и осями из библиотеки\n",
    "ax.set_xlabel('Температура') #подпись оси х\n",
    "ax.set_ylabel('Количество') #подпись оси y\n",
    "\n",
    "(\n",
    "    data_temp['Температура'] #столбец с данными\n",
    "    .hist(bins=100, figsize=(10, 7), color='red', grid=True) #гистограмма определенного размера, цвета и количества корзин\n",
    "    .set_title('Гистограмма: Температура', fontsize = 16, color = 'Black') #название гистограммы и его оформление\n",
    ");"
   ]
  },
  {
   "cell_type": "code",
   "execution_count": 32,
   "metadata": {},
   "outputs": [
    {
     "data": {
      "text/plain": [
       "count    13006.000000\n",
       "mean      1591.840920\n",
       "std         21.375851\n",
       "min       1191.000000\n",
       "25%       1581.000000\n",
       "50%       1591.000000\n",
       "75%       1601.000000\n",
       "max       1705.000000\n",
       "Name: Температура, dtype: float64"
      ]
     },
     "execution_count": 32,
     "metadata": {},
     "output_type": "execute_result"
    }
   ],
   "source": [
    "data_temp['Температура'].describe()"
   ]
  },
  {
   "attachments": {},
   "cell_type": "markdown",
   "metadata": {},
   "source": [
    "#### Краткие выводы"
   ]
  },
  {
   "attachments": {},
   "cell_type": "markdown",
   "metadata": {},
   "source": [
    "Согласно описанию столбца температур, мы имеем очень точное совпадение по среднему и медианному значению, следвательно хвост слева - это, действительно, единичные случаи температуры, не вписывающейся в нормальное распределение (судя по гистограмме), а следовательно, точно являются выбросами.\n",
    "\n",
    "Дополнительно к этому, одно из условий ТЗ - температуры менее 1500 являются выбросами. Такие данные нужно будет убрать."
   ]
  },
  {
   "cell_type": "code",
   "execution_count": 33,
   "metadata": {},
   "outputs": [],
   "source": [
    "try:\n",
    "    data_wire = pd.read_csv(r'E:\\Practicum\\2_Projects_Git\\14_manufactory\\data_wire.csv')\n",
    "except:\n",
    "    data_wire = pd.read_csv('/datasets/final_steel/data_wire.csv')"
   ]
  },
  {
   "attachments": {},
   "cell_type": "markdown",
   "metadata": {},
   "source": [
    "### Данные о проволочных материалах (объём)"
   ]
  },
  {
   "cell_type": "code",
   "execution_count": 34,
   "metadata": {},
   "outputs": [
    {
     "data": {
      "text/html": [
       "<div>\n",
       "<style scoped>\n",
       "    .dataframe tbody tr th:only-of-type {\n",
       "        vertical-align: middle;\n",
       "    }\n",
       "\n",
       "    .dataframe tbody tr th {\n",
       "        vertical-align: top;\n",
       "    }\n",
       "\n",
       "    .dataframe thead th {\n",
       "        text-align: right;\n",
       "    }\n",
       "</style>\n",
       "<table border=\"1\" class=\"dataframe\">\n",
       "  <thead>\n",
       "    <tr style=\"text-align: right;\">\n",
       "      <th></th>\n",
       "      <th>key</th>\n",
       "      <th>Wire 1</th>\n",
       "      <th>Wire 2</th>\n",
       "      <th>Wire 3</th>\n",
       "      <th>Wire 4</th>\n",
       "      <th>Wire 5</th>\n",
       "      <th>Wire 6</th>\n",
       "      <th>Wire 7</th>\n",
       "      <th>Wire 8</th>\n",
       "      <th>Wire 9</th>\n",
       "    </tr>\n",
       "  </thead>\n",
       "  <tbody>\n",
       "    <tr>\n",
       "      <th>0</th>\n",
       "      <td>1</td>\n",
       "      <td>60.059998</td>\n",
       "      <td>NaN</td>\n",
       "      <td>NaN</td>\n",
       "      <td>NaN</td>\n",
       "      <td>NaN</td>\n",
       "      <td>NaN</td>\n",
       "      <td>NaN</td>\n",
       "      <td>NaN</td>\n",
       "      <td>NaN</td>\n",
       "    </tr>\n",
       "    <tr>\n",
       "      <th>1</th>\n",
       "      <td>2</td>\n",
       "      <td>96.052315</td>\n",
       "      <td>NaN</td>\n",
       "      <td>NaN</td>\n",
       "      <td>NaN</td>\n",
       "      <td>NaN</td>\n",
       "      <td>NaN</td>\n",
       "      <td>NaN</td>\n",
       "      <td>NaN</td>\n",
       "      <td>NaN</td>\n",
       "    </tr>\n",
       "    <tr>\n",
       "      <th>2</th>\n",
       "      <td>3</td>\n",
       "      <td>91.160157</td>\n",
       "      <td>NaN</td>\n",
       "      <td>NaN</td>\n",
       "      <td>NaN</td>\n",
       "      <td>NaN</td>\n",
       "      <td>NaN</td>\n",
       "      <td>NaN</td>\n",
       "      <td>NaN</td>\n",
       "      <td>NaN</td>\n",
       "    </tr>\n",
       "    <tr>\n",
       "      <th>3</th>\n",
       "      <td>4</td>\n",
       "      <td>89.063515</td>\n",
       "      <td>NaN</td>\n",
       "      <td>NaN</td>\n",
       "      <td>NaN</td>\n",
       "      <td>NaN</td>\n",
       "      <td>NaN</td>\n",
       "      <td>NaN</td>\n",
       "      <td>NaN</td>\n",
       "      <td>NaN</td>\n",
       "    </tr>\n",
       "    <tr>\n",
       "      <th>4</th>\n",
       "      <td>5</td>\n",
       "      <td>89.238236</td>\n",
       "      <td>9.11456</td>\n",
       "      <td>NaN</td>\n",
       "      <td>NaN</td>\n",
       "      <td>NaN</td>\n",
       "      <td>NaN</td>\n",
       "      <td>NaN</td>\n",
       "      <td>NaN</td>\n",
       "      <td>NaN</td>\n",
       "    </tr>\n",
       "  </tbody>\n",
       "</table>\n",
       "</div>"
      ],
      "text/plain": [
       "   key     Wire 1   Wire 2  Wire 3  Wire 4  Wire 5  Wire 6  Wire 7  Wire 8  \\\n",
       "0    1  60.059998      NaN     NaN     NaN     NaN     NaN     NaN     NaN   \n",
       "1    2  96.052315      NaN     NaN     NaN     NaN     NaN     NaN     NaN   \n",
       "2    3  91.160157      NaN     NaN     NaN     NaN     NaN     NaN     NaN   \n",
       "3    4  89.063515      NaN     NaN     NaN     NaN     NaN     NaN     NaN   \n",
       "4    5  89.238236  9.11456     NaN     NaN     NaN     NaN     NaN     NaN   \n",
       "\n",
       "   Wire 9  \n",
       "0     NaN  \n",
       "1     NaN  \n",
       "2     NaN  \n",
       "3     NaN  \n",
       "4     NaN  "
      ]
     },
     "execution_count": 34,
     "metadata": {},
     "output_type": "execute_result"
    }
   ],
   "source": [
    "data_wire.head()"
   ]
  },
  {
   "cell_type": "code",
   "execution_count": 35,
   "metadata": {},
   "outputs": [
    {
     "name": "stdout",
     "output_type": "stream",
     "text": [
      "<class 'pandas.core.frame.DataFrame'>\n",
      "RangeIndex: 3081 entries, 0 to 3080\n",
      "Data columns (total 10 columns):\n",
      " #   Column  Non-Null Count  Dtype  \n",
      "---  ------  --------------  -----  \n",
      " 0   key     3081 non-null   int64  \n",
      " 1   Wire 1  3055 non-null   float64\n",
      " 2   Wire 2  1079 non-null   float64\n",
      " 3   Wire 3  63 non-null     float64\n",
      " 4   Wire 4  14 non-null     float64\n",
      " 5   Wire 5  1 non-null      float64\n",
      " 6   Wire 6  73 non-null     float64\n",
      " 7   Wire 7  11 non-null     float64\n",
      " 8   Wire 8  19 non-null     float64\n",
      " 9   Wire 9  29 non-null     float64\n",
      "dtypes: float64(9), int64(1)\n",
      "memory usage: 240.8 KB\n"
     ]
    }
   ],
   "source": [
    "data_wire.info()"
   ]
  },
  {
   "cell_type": "code",
   "execution_count": 36,
   "metadata": {},
   "outputs": [
    {
     "data": {
      "text/html": [
       "<div>\n",
       "<style scoped>\n",
       "    .dataframe tbody tr th:only-of-type {\n",
       "        vertical-align: middle;\n",
       "    }\n",
       "\n",
       "    .dataframe tbody tr th {\n",
       "        vertical-align: top;\n",
       "    }\n",
       "\n",
       "    .dataframe thead th {\n",
       "        text-align: right;\n",
       "    }\n",
       "</style>\n",
       "<table border=\"1\" class=\"dataframe\">\n",
       "  <thead>\n",
       "    <tr style=\"text-align: right;\">\n",
       "      <th></th>\n",
       "      <th>key</th>\n",
       "      <th>Wire 1</th>\n",
       "      <th>Wire 2</th>\n",
       "      <th>Wire 3</th>\n",
       "      <th>Wire 4</th>\n",
       "      <th>Wire 5</th>\n",
       "      <th>Wire 6</th>\n",
       "      <th>Wire 7</th>\n",
       "      <th>Wire 8</th>\n",
       "      <th>Wire 9</th>\n",
       "    </tr>\n",
       "  </thead>\n",
       "  <tbody>\n",
       "    <tr>\n",
       "      <th>count</th>\n",
       "      <td>3081.000000</td>\n",
       "      <td>3055.000000</td>\n",
       "      <td>1079.000000</td>\n",
       "      <td>63.000000</td>\n",
       "      <td>14.000000</td>\n",
       "      <td>1.000</td>\n",
       "      <td>73.000000</td>\n",
       "      <td>11.000000</td>\n",
       "      <td>19.000000</td>\n",
       "      <td>29.000000</td>\n",
       "    </tr>\n",
       "    <tr>\n",
       "      <th>mean</th>\n",
       "      <td>1623.426485</td>\n",
       "      <td>100.895853</td>\n",
       "      <td>50.577323</td>\n",
       "      <td>189.482681</td>\n",
       "      <td>57.442841</td>\n",
       "      <td>15.132</td>\n",
       "      <td>48.016974</td>\n",
       "      <td>10.039007</td>\n",
       "      <td>53.625193</td>\n",
       "      <td>34.155752</td>\n",
       "    </tr>\n",
       "    <tr>\n",
       "      <th>std</th>\n",
       "      <td>932.996726</td>\n",
       "      <td>42.012518</td>\n",
       "      <td>39.320216</td>\n",
       "      <td>99.513444</td>\n",
       "      <td>28.824667</td>\n",
       "      <td>NaN</td>\n",
       "      <td>33.919845</td>\n",
       "      <td>8.610584</td>\n",
       "      <td>16.881728</td>\n",
       "      <td>19.931616</td>\n",
       "    </tr>\n",
       "    <tr>\n",
       "      <th>min</th>\n",
       "      <td>1.000000</td>\n",
       "      <td>1.918800</td>\n",
       "      <td>0.030160</td>\n",
       "      <td>0.144144</td>\n",
       "      <td>24.148801</td>\n",
       "      <td>15.132</td>\n",
       "      <td>0.034320</td>\n",
       "      <td>0.234208</td>\n",
       "      <td>45.076721</td>\n",
       "      <td>4.622800</td>\n",
       "    </tr>\n",
       "    <tr>\n",
       "      <th>25%</th>\n",
       "      <td>823.000000</td>\n",
       "      <td>72.115684</td>\n",
       "      <td>20.193680</td>\n",
       "      <td>95.135044</td>\n",
       "      <td>40.807002</td>\n",
       "      <td>15.132</td>\n",
       "      <td>25.053600</td>\n",
       "      <td>6.762756</td>\n",
       "      <td>46.094879</td>\n",
       "      <td>22.058401</td>\n",
       "    </tr>\n",
       "    <tr>\n",
       "      <th>50%</th>\n",
       "      <td>1619.000000</td>\n",
       "      <td>100.158234</td>\n",
       "      <td>40.142956</td>\n",
       "      <td>235.194977</td>\n",
       "      <td>45.234282</td>\n",
       "      <td>15.132</td>\n",
       "      <td>42.076324</td>\n",
       "      <td>9.017009</td>\n",
       "      <td>46.279999</td>\n",
       "      <td>30.066399</td>\n",
       "    </tr>\n",
       "    <tr>\n",
       "      <th>75%</th>\n",
       "      <td>2434.000000</td>\n",
       "      <td>126.060483</td>\n",
       "      <td>70.227558</td>\n",
       "      <td>276.252014</td>\n",
       "      <td>76.124619</td>\n",
       "      <td>15.132</td>\n",
       "      <td>64.212723</td>\n",
       "      <td>11.886057</td>\n",
       "      <td>48.089603</td>\n",
       "      <td>43.862003</td>\n",
       "    </tr>\n",
       "    <tr>\n",
       "      <th>max</th>\n",
       "      <td>3241.000000</td>\n",
       "      <td>330.314424</td>\n",
       "      <td>282.780152</td>\n",
       "      <td>385.008668</td>\n",
       "      <td>113.231044</td>\n",
       "      <td>15.132</td>\n",
       "      <td>180.454575</td>\n",
       "      <td>32.847674</td>\n",
       "      <td>102.762401</td>\n",
       "      <td>90.053604</td>\n",
       "    </tr>\n",
       "  </tbody>\n",
       "</table>\n",
       "</div>"
      ],
      "text/plain": [
       "               key       Wire 1       Wire 2      Wire 3      Wire 4  Wire 5  \\\n",
       "count  3081.000000  3055.000000  1079.000000   63.000000   14.000000   1.000   \n",
       "mean   1623.426485   100.895853    50.577323  189.482681   57.442841  15.132   \n",
       "std     932.996726    42.012518    39.320216   99.513444   28.824667     NaN   \n",
       "min       1.000000     1.918800     0.030160    0.144144   24.148801  15.132   \n",
       "25%     823.000000    72.115684    20.193680   95.135044   40.807002  15.132   \n",
       "50%    1619.000000   100.158234    40.142956  235.194977   45.234282  15.132   \n",
       "75%    2434.000000   126.060483    70.227558  276.252014   76.124619  15.132   \n",
       "max    3241.000000   330.314424   282.780152  385.008668  113.231044  15.132   \n",
       "\n",
       "           Wire 6     Wire 7      Wire 8     Wire 9  \n",
       "count   73.000000  11.000000   19.000000  29.000000  \n",
       "mean    48.016974  10.039007   53.625193  34.155752  \n",
       "std     33.919845   8.610584   16.881728  19.931616  \n",
       "min      0.034320   0.234208   45.076721   4.622800  \n",
       "25%     25.053600   6.762756   46.094879  22.058401  \n",
       "50%     42.076324   9.017009   46.279999  30.066399  \n",
       "75%     64.212723  11.886057   48.089603  43.862003  \n",
       "max    180.454575  32.847674  102.762401  90.053604  "
      ]
     },
     "execution_count": 36,
     "metadata": {},
     "output_type": "execute_result"
    }
   ],
   "source": [
    "data_wire.describe()"
   ]
  },
  {
   "cell_type": "code",
   "execution_count": 37,
   "metadata": {
    "scrolled": true
   },
   "outputs": [
    {
     "data": {
      "image/png": "[encoded data removed]",
      "text/plain": [
       "<Figure size 1700x1000 with 12 Axes>"
      ]
     },
     "metadata": {},
     "output_type": "display_data"
    }
   ],
   "source": [
    "(\n",
    "    data_wire #данные\n",
    "    .hist(bins=20, figsize=(17, 10), color='pink', grid=True) #гистограмма определенного размера, цвета и количества корзин\n",
    ");"
   ]
  },
  {
   "attachments": {},
   "cell_type": "markdown",
   "metadata": {},
   "source": [
    "Найдем объемы добавляемых в сплав проволок."
   ]
  },
  {
   "cell_type": "code",
   "execution_count": 38,
   "metadata": {},
   "outputs": [
    {
     "data": {
      "text/html": [
       "<div>\n",
       "<style scoped>\n",
       "    .dataframe tbody tr th:only-of-type {\n",
       "        vertical-align: middle;\n",
       "    }\n",
       "\n",
       "    .dataframe tbody tr th {\n",
       "        vertical-align: top;\n",
       "    }\n",
       "\n",
       "    .dataframe thead th {\n",
       "        text-align: right;\n",
       "    }\n",
       "</style>\n",
       "<table border=\"1\" class=\"dataframe\">\n",
       "  <thead>\n",
       "    <tr style=\"text-align: right;\">\n",
       "      <th></th>\n",
       "      <th>Объем</th>\n",
       "      <th>Количество добавлений</th>\n",
       "    </tr>\n",
       "  </thead>\n",
       "  <tbody>\n",
       "    <tr>\n",
       "      <th>Wire 1</th>\n",
       "      <td>308236.830606</td>\n",
       "      <td>3055</td>\n",
       "    </tr>\n",
       "    <tr>\n",
       "      <th>Wire 2</th>\n",
       "      <td>54572.931650</td>\n",
       "      <td>1079</td>\n",
       "    </tr>\n",
       "    <tr>\n",
       "      <th>Wire 3</th>\n",
       "      <td>11937.408916</td>\n",
       "      <td>63</td>\n",
       "    </tr>\n",
       "    <tr>\n",
       "      <th>Wire 6</th>\n",
       "      <td>3505.239099</td>\n",
       "      <td>73</td>\n",
       "    </tr>\n",
       "    <tr>\n",
       "      <th>Wire 8</th>\n",
       "      <td>1018.878666</td>\n",
       "      <td>19</td>\n",
       "    </tr>\n",
       "    <tr>\n",
       "      <th>Wire 9</th>\n",
       "      <td>990.516814</td>\n",
       "      <td>29</td>\n",
       "    </tr>\n",
       "    <tr>\n",
       "      <th>Wire 4</th>\n",
       "      <td>804.199781</td>\n",
       "      <td>14</td>\n",
       "    </tr>\n",
       "    <tr>\n",
       "      <th>Wire 7</th>\n",
       "      <td>110.429080</td>\n",
       "      <td>11</td>\n",
       "    </tr>\n",
       "    <tr>\n",
       "      <th>Wire 5</th>\n",
       "      <td>15.132000</td>\n",
       "      <td>1</td>\n",
       "    </tr>\n",
       "  </tbody>\n",
       "</table>\n",
       "</div>"
      ],
      "text/plain": [
       "                Объем  Количество добавлений\n",
       "Wire 1  308236.830606                   3055\n",
       "Wire 2   54572.931650                   1079\n",
       "Wire 3   11937.408916                     63\n",
       "Wire 6    3505.239099                     73\n",
       "Wire 8    1018.878666                     19\n",
       "Wire 9     990.516814                     29\n",
       "Wire 4     804.199781                     14\n",
       "Wire 7     110.429080                     11\n",
       "Wire 5      15.132000                      1"
      ]
     },
     "execution_count": 38,
     "metadata": {},
     "output_type": "execute_result"
    }
   ],
   "source": [
    "data_wire_volume = data_wire.drop(columns='key').sum().sort_values(ascending= False).to_frame() #суммируем и сортируем по объему\n",
    "data_wire_quant = data_wire.drop(columns='key').count().sort_values(ascending= False).to_frame() #считаем количество добавлений\n",
    "data_wire_f = pd.merge(data_wire_volume, data_wire_quant, left_index=True, right_index=True) #соединяем таблицы\n",
    "data_wire_f.rename(columns = {'0_x':'Объем', '0_y': 'Количество добавлений'}, inplace = True ) #переименовываем\n",
    "data_wire_f"
   ]
  },
  {
   "attachments": {},
   "cell_type": "markdown",
   "metadata": {},
   "source": [
    "Постоим столбчатую диаграмму распределения объемов и количества добавлений для каждого компонента. \n",
    "\n",
    "- синий градиент - это значение с количеством раз, когда добавку проволоки осуществляли, \n",
    "- розовый градиент - это общий объем добавок."
   ]
  },
  {
   "cell_type": "code",
   "execution_count": 39,
   "metadata": {},
   "outputs": [
    {
     "data": {
      "image/png": "[encoded data removed]",
      "text/plain": [
       "<Figure size 1600x700 with 2 Axes>"
      ]
     },
     "metadata": {},
     "output_type": "display_data"
    }
   ],
   "source": [
    "fig, ax = plt.subplots(figsize=(16, 7)) # задаем размер\n",
    "ax2 =ax.twinx()\n",
    "\n",
    "# строим столбчатую гистограмму по столбу с объемом, розового градиента\n",
    "sns.barplot(\n",
    "    x=data_wire_f.index, \n",
    "    y=data_wire_f.iloc[:, 0], \n",
    "    alpha=0.8,\n",
    "    palette=sns.color_palette(\"RdPu_r\", n_colors=len(data_wire_f)), \n",
    "    ax=ax2)\n",
    "    \n",
    "# строим столбчатую гистограмму по столбу с количеством , синего градиента\n",
    "sns.barplot(\n",
    "    x=data_wire_f.index, \n",
    "    y=data_wire_f.iloc[:, 1], \n",
    "    alpha=0.8,\n",
    "    palette=sns.color_palette(\"PuBu_r\", n_colors=len(data_wire_f)), \n",
    "    ax=ax).set_title(\n",
    "        'Диаграмма распределения объемов и количества добавлений проволоки',\n",
    "        fontsize = 20,\n",
    "        color = 'Black')\n",
    "\n",
    "ax.set_xticklabels(ax.get_xticklabels(), rotation=90, horizontalalignment='right')\n",
    "plt.show()"
   ]
  },
  {
   "attachments": {},
   "cell_type": "markdown",
   "metadata": {},
   "source": [
    "Из диаграммы видно, что все проволоки, кроме Wire 1 и Wire 2 - очень незачительны по объему."
   ]
  },
  {
   "attachments": {},
   "cell_type": "markdown",
   "metadata": {},
   "source": [
    "### Данные о проволочных материалах (время)"
   ]
  },
  {
   "cell_type": "code",
   "execution_count": 40,
   "metadata": {},
   "outputs": [],
   "source": [
    "try:\n",
    "    data_wire_time = pd.read_csv(r'E:\\Practicum\\2_Projects_Git\\14_manufactory\\data_wire_time.csv')\n",
    "except:\n",
    "    data_wire_time = pd.read_csv('/datasets/final_steel/data_wire_time.csv')"
   ]
  },
  {
   "cell_type": "code",
   "execution_count": 41,
   "metadata": {},
   "outputs": [
    {
     "data": {
      "text/html": [
       "<div>\n",
       "<style scoped>\n",
       "    .dataframe tbody tr th:only-of-type {\n",
       "        vertical-align: middle;\n",
       "    }\n",
       "\n",
       "    .dataframe tbody tr th {\n",
       "        vertical-align: top;\n",
       "    }\n",
       "\n",
       "    .dataframe thead th {\n",
       "        text-align: right;\n",
       "    }\n",
       "</style>\n",
       "<table border=\"1\" class=\"dataframe\">\n",
       "  <thead>\n",
       "    <tr style=\"text-align: right;\">\n",
       "      <th></th>\n",
       "      <th>key</th>\n",
       "      <th>Wire 1</th>\n",
       "      <th>Wire 2</th>\n",
       "      <th>Wire 3</th>\n",
       "      <th>Wire 4</th>\n",
       "      <th>Wire 5</th>\n",
       "      <th>Wire 6</th>\n",
       "      <th>Wire 7</th>\n",
       "      <th>Wire 8</th>\n",
       "      <th>Wire 9</th>\n",
       "    </tr>\n",
       "  </thead>\n",
       "  <tbody>\n",
       "    <tr>\n",
       "      <th>0</th>\n",
       "      <td>1</td>\n",
       "      <td>2019-05-03 11:11:41</td>\n",
       "      <td>NaN</td>\n",
       "      <td>NaN</td>\n",
       "      <td>NaN</td>\n",
       "      <td>NaN</td>\n",
       "      <td>NaN</td>\n",
       "      <td>NaN</td>\n",
       "      <td>NaN</td>\n",
       "      <td>NaN</td>\n",
       "    </tr>\n",
       "    <tr>\n",
       "      <th>1</th>\n",
       "      <td>2</td>\n",
       "      <td>2019-05-03 11:46:10</td>\n",
       "      <td>NaN</td>\n",
       "      <td>NaN</td>\n",
       "      <td>NaN</td>\n",
       "      <td>NaN</td>\n",
       "      <td>NaN</td>\n",
       "      <td>NaN</td>\n",
       "      <td>NaN</td>\n",
       "      <td>NaN</td>\n",
       "    </tr>\n",
       "    <tr>\n",
       "      <th>2</th>\n",
       "      <td>3</td>\n",
       "      <td>2019-05-03 12:13:47</td>\n",
       "      <td>NaN</td>\n",
       "      <td>NaN</td>\n",
       "      <td>NaN</td>\n",
       "      <td>NaN</td>\n",
       "      <td>NaN</td>\n",
       "      <td>NaN</td>\n",
       "      <td>NaN</td>\n",
       "      <td>NaN</td>\n",
       "    </tr>\n",
       "    <tr>\n",
       "      <th>3</th>\n",
       "      <td>4</td>\n",
       "      <td>2019-05-03 12:48:05</td>\n",
       "      <td>NaN</td>\n",
       "      <td>NaN</td>\n",
       "      <td>NaN</td>\n",
       "      <td>NaN</td>\n",
       "      <td>NaN</td>\n",
       "      <td>NaN</td>\n",
       "      <td>NaN</td>\n",
       "      <td>NaN</td>\n",
       "    </tr>\n",
       "    <tr>\n",
       "      <th>4</th>\n",
       "      <td>5</td>\n",
       "      <td>2019-05-03 13:18:15</td>\n",
       "      <td>2019-05-03 13:32:06</td>\n",
       "      <td>NaN</td>\n",
       "      <td>NaN</td>\n",
       "      <td>NaN</td>\n",
       "      <td>NaN</td>\n",
       "      <td>NaN</td>\n",
       "      <td>NaN</td>\n",
       "      <td>NaN</td>\n",
       "    </tr>\n",
       "  </tbody>\n",
       "</table>\n",
       "</div>"
      ],
      "text/plain": [
       "   key               Wire 1               Wire 2 Wire 3 Wire 4 Wire 5 Wire 6  \\\n",
       "0    1  2019-05-03 11:11:41                  NaN    NaN    NaN    NaN    NaN   \n",
       "1    2  2019-05-03 11:46:10                  NaN    NaN    NaN    NaN    NaN   \n",
       "2    3  2019-05-03 12:13:47                  NaN    NaN    NaN    NaN    NaN   \n",
       "3    4  2019-05-03 12:48:05                  NaN    NaN    NaN    NaN    NaN   \n",
       "4    5  2019-05-03 13:18:15  2019-05-03 13:32:06    NaN    NaN    NaN    NaN   \n",
       "\n",
       "  Wire 7 Wire 8 Wire 9  \n",
       "0    NaN    NaN    NaN  \n",
       "1    NaN    NaN    NaN  \n",
       "2    NaN    NaN    NaN  \n",
       "3    NaN    NaN    NaN  \n",
       "4    NaN    NaN    NaN  "
      ]
     },
     "execution_count": 41,
     "metadata": {},
     "output_type": "execute_result"
    }
   ],
   "source": [
    "data_wire_time.head()"
   ]
  },
  {
   "cell_type": "code",
   "execution_count": 42,
   "metadata": {},
   "outputs": [
    {
     "name": "stdout",
     "output_type": "stream",
     "text": [
      "<class 'pandas.core.frame.DataFrame'>\n",
      "RangeIndex: 3081 entries, 0 to 3080\n",
      "Data columns (total 10 columns):\n",
      " #   Column  Non-Null Count  Dtype \n",
      "---  ------  --------------  ----- \n",
      " 0   key     3081 non-null   int64 \n",
      " 1   Wire 1  3055 non-null   object\n",
      " 2   Wire 2  1079 non-null   object\n",
      " 3   Wire 3  63 non-null     object\n",
      " 4   Wire 4  14 non-null     object\n",
      " 5   Wire 5  1 non-null      object\n",
      " 6   Wire 6  73 non-null     object\n",
      " 7   Wire 7  11 non-null     object\n",
      " 8   Wire 8  19 non-null     object\n",
      " 9   Wire 9  29 non-null     object\n",
      "dtypes: int64(1), object(9)\n",
      "memory usage: 240.8+ KB\n"
     ]
    }
   ],
   "source": [
    "data_wire_time.info()"
   ]
  },
  {
   "attachments": {},
   "cell_type": "markdown",
   "metadata": {},
   "source": [
    "#### Краткий вывод"
   ]
  },
  {
   "attachments": {},
   "cell_type": "markdown",
   "metadata": {},
   "source": [
    "В последних двух датасетах наблюдаем похожую картину: есть какой-то набор проводов. Не все добавлены, и соответственно, имеется много пропусков. Там, где провод есть - есть и значение времени. Все как и в датасетах сыпучих материалов, только другие значения и размеры сетов. Там, где данных нет - не использовали провод, следовательно, будем принимать нулевое значение."
   ]
  },
  {
   "attachments": {},
   "cell_type": "markdown",
   "metadata": {},
   "source": [
    "## План"
   ]
  },
  {
   "attachments": {},
   "cell_type": "markdown",
   "metadata": {},
   "source": [
    "После ознакомления с данными, имеется такой план дейтвий:\n",
    "\n",
    "Предобработка данных:\n",
    "\n",
    "1. В `data_arc`:\n",
    "\n",
    "- Убрать выбросы отрицательной мощности (по ключу `key`, здесь и далее),\n",
    "- Создать столбец полной мощности,\n",
    "- Создать столбец КПД,\n",
    "- Перевести дату в нужный тип и посчитать временные интервалы с секундах.\n",
    "\n",
    "2. В `data_bulk`:\n",
    "\n",
    "- так как поля со значениями `NaN` значат то, что никакие сыпучие материалы не добавлялись, то пропуски заполняем нулями,\n",
    "\n",
    "3. В `data_bulk_time`:\n",
    "\n",
    "- Учитывая, что пока значение времени сложно оценить в расчете модели, возможным действием с этими значениями может быть: зная время начала нагрева из `data_arc` для первой итерации, можно посчитать разницу между значением времени в `data_arc` и значением времени в `data_bulk_time` в секундах (изменить тип). Если это негативно скажется на будущих моделях, имеет смысл исключить датасет из данных,\n",
    "- `NaN` заполнить нулями. \n",
    "\n",
    "4. В `data_gas`:\n",
    "\n",
    "- Датасет готов к работе.\n",
    "\n",
    "5. В `data_temp`:\n",
    "\n",
    "- В этом датасете есть целевой признак - температура. На этапе предобработки нужно убрать данные о температуре (по ключу), в которых встречаются значения температуры менее 1500 градусов,\n",
    "- также, по ключу, убираем данные, где нет конечного значения температуры для ключа. Промежуточные значения температур не используются для признаков. Начальное значение температуры можно принять признаком, а конечное значение - таргетом.\n",
    "\n",
    "6. В `data_wire`:\n",
    "\n",
    "- Аналогично п. 2.\n",
    "\n",
    "7. В `data_wire_time`:\n",
    "\n",
    "- Аналогично п. 3.\n",
    "\n",
    "\n",
    "Важно учитывать, что выбросы по температуре и отрицательной мощности мы убираем со всего датасета. Остальные выбросы (если мы их будем таковыми рассматривать), только с тренировочных данных. В тестовую выборку должны попасть честные данные.\n",
    "\n",
    "Перед началом обучения и после предобработки все таблицы мы объединяем по ключу и агрегируем тоже по ключу. Разбиваем данные в соотношении 75% (`train`) к 25% (`test`) и с значением `random_state` = 110423.\n",
    "\n",
    "После этого, мы можем также убрать все оставшиеся выбросы из `train`, если это необходимо.\n",
    "\n",
    "Данные можно стандартизировать (т.к. на деревянные модели это не влияет, зато это нужно для линейных моделей).\n",
    "\n",
    "Используем несколько моделей для обучения (в том числе дамми модель средней температуры, чтобы было с чем сравнивать) с перебором гиперпараметров и обязательной кросс-валидацией (можно также использовать `pipeline` и другие конструкты).\n",
    "\n",
    "Метрикой качества в проекте выступает `MAE`. Мае должна быть менее 6.8 (удовлетворительно; 6.3 - хорошо; 6 и ниже - отлично).\n",
    "\n",
    "Лучшая модель с лучшими гиперпараметрами, которая покажет оценку не хуже требуемой - будет являться конечной целью проекта.\n",
    "\n",
    "В конце будут написаны выводы по проделанной работе."
   ]
  },
  {
   "attachments": {},
   "cell_type": "markdown",
   "metadata": {},
   "source": [
    "На данном этапе вопросов нет"
   ]
  },
  {
   "attachments": {},
   "cell_type": "markdown",
   "metadata": {},
   "source": [
    "## Предобработка данных"
   ]
  },
  {
   "attachments": {},
   "cell_type": "markdown",
   "metadata": {},
   "source": [
    "### `data_arc`"
   ]
  },
  {
   "cell_type": "code",
   "execution_count": 279,
   "metadata": {},
   "outputs": [
    {
     "data": {
      "text/html": [
       "<div>\n",
       "<style scoped>\n",
       "    .dataframe tbody tr th:only-of-type {\n",
       "        vertical-align: middle;\n",
       "    }\n",
       "\n",
       "    .dataframe tbody tr th {\n",
       "        vertical-align: top;\n",
       "    }\n",
       "\n",
       "    .dataframe thead th {\n",
       "        text-align: right;\n",
       "    }\n",
       "</style>\n",
       "<table border=\"1\" class=\"dataframe\">\n",
       "  <thead>\n",
       "    <tr style=\"text-align: right;\">\n",
       "      <th></th>\n",
       "      <th>key</th>\n",
       "      <th>Активная мощность</th>\n",
       "      <th>Реактивная мощность</th>\n",
       "    </tr>\n",
       "  </thead>\n",
       "  <tbody>\n",
       "    <tr>\n",
       "      <th>count</th>\n",
       "      <td>14876.000000</td>\n",
       "      <td>14876.000000</td>\n",
       "      <td>14876.000000</td>\n",
       "    </tr>\n",
       "    <tr>\n",
       "      <th>mean</th>\n",
       "      <td>1615.220422</td>\n",
       "      <td>0.670441</td>\n",
       "      <td>0.452592</td>\n",
       "    </tr>\n",
       "    <tr>\n",
       "      <th>std</th>\n",
       "      <td>934.571502</td>\n",
       "      <td>0.408159</td>\n",
       "      <td>5.878702</td>\n",
       "    </tr>\n",
       "    <tr>\n",
       "      <th>min</th>\n",
       "      <td>1.000000</td>\n",
       "      <td>0.030002</td>\n",
       "      <td>-715.504924</td>\n",
       "    </tr>\n",
       "    <tr>\n",
       "      <th>25%</th>\n",
       "      <td>806.000000</td>\n",
       "      <td>0.395297</td>\n",
       "      <td>0.290991</td>\n",
       "    </tr>\n",
       "    <tr>\n",
       "      <th>50%</th>\n",
       "      <td>1617.000000</td>\n",
       "      <td>0.555517</td>\n",
       "      <td>0.415962</td>\n",
       "    </tr>\n",
       "    <tr>\n",
       "      <th>75%</th>\n",
       "      <td>2429.000000</td>\n",
       "      <td>0.857034</td>\n",
       "      <td>0.637371</td>\n",
       "    </tr>\n",
       "    <tr>\n",
       "      <th>max</th>\n",
       "      <td>3241.000000</td>\n",
       "      <td>3.731596</td>\n",
       "      <td>2.676388</td>\n",
       "    </tr>\n",
       "  </tbody>\n",
       "</table>\n",
       "</div>"
      ],
      "text/plain": [
       "                key  Активная мощность  Реактивная мощность\n",
       "count  14876.000000       14876.000000         14876.000000\n",
       "mean    1615.220422           0.670441             0.452592\n",
       "std      934.571502           0.408159             5.878702\n",
       "min        1.000000           0.030002          -715.504924\n",
       "25%      806.000000           0.395297             0.290991\n",
       "50%     1617.000000           0.555517             0.415962\n",
       "75%     2429.000000           0.857034             0.637371\n",
       "max     3241.000000           3.731596             2.676388"
      ]
     },
     "execution_count": 279,
     "metadata": {},
     "output_type": "execute_result"
    }
   ],
   "source": [
    "data_arc.describe()"
   ]
  },
  {
   "attachments": {},
   "cell_type": "markdown",
   "metadata": {},
   "source": [
    "Найдем отрицательные значения для реактивной мощности."
   ]
  },
  {
   "cell_type": "code",
   "execution_count": 280,
   "metadata": {},
   "outputs": [
    {
     "data": {
      "text/html": [
       "<div>\n",
       "<style scoped>\n",
       "    .dataframe tbody tr th:only-of-type {\n",
       "        vertical-align: middle;\n",
       "    }\n",
       "\n",
       "    .dataframe tbody tr th {\n",
       "        vertical-align: top;\n",
       "    }\n",
       "\n",
       "    .dataframe thead th {\n",
       "        text-align: right;\n",
       "    }\n",
       "</style>\n",
       "<table border=\"1\" class=\"dataframe\">\n",
       "  <thead>\n",
       "    <tr style=\"text-align: right;\">\n",
       "      <th></th>\n",
       "      <th>key</th>\n",
       "      <th>Начало нагрева дугой</th>\n",
       "      <th>Конец нагрева дугой</th>\n",
       "      <th>Активная мощность</th>\n",
       "      <th>Реактивная мощность</th>\n",
       "    </tr>\n",
       "  </thead>\n",
       "  <tbody>\n",
       "    <tr>\n",
       "      <th>9780</th>\n",
       "      <td>2116</td>\n",
       "      <td>2019-07-24 00:44:48</td>\n",
       "      <td>2019-07-24 00:46:37</td>\n",
       "      <td>0.495782</td>\n",
       "      <td>-715.504924</td>\n",
       "    </tr>\n",
       "  </tbody>\n",
       "</table>\n",
       "</div>"
      ],
      "text/plain": [
       "       key Начало нагрева дугой  Конец нагрева дугой  Активная мощность  \\\n",
       "9780  2116  2019-07-24 00:44:48  2019-07-24 00:46:37           0.495782   \n",
       "\n",
       "      Реактивная мощность  \n",
       "9780          -715.504924  "
      ]
     },
     "execution_count": 280,
     "metadata": {},
     "output_type": "execute_result"
    }
   ],
   "source": [
    "data_arc.loc[data_arc.loc[:, 'Реактивная мощность'] < 0] #фильтр реактивной мощности меньше нуля"
   ]
  },
  {
   "attachments": {},
   "cell_type": "markdown",
   "metadata": {},
   "source": [
    "Это всего одно значение с ключом 2116. Просмотрим все строки с этим ключом."
   ]
  },
  {
   "cell_type": "code",
   "execution_count": 281,
   "metadata": {},
   "outputs": [
    {
     "data": {
      "text/html": [
       "<div>\n",
       "<style scoped>\n",
       "    .dataframe tbody tr th:only-of-type {\n",
       "        vertical-align: middle;\n",
       "    }\n",
       "\n",
       "    .dataframe tbody tr th {\n",
       "        vertical-align: top;\n",
       "    }\n",
       "\n",
       "    .dataframe thead th {\n",
       "        text-align: right;\n",
       "    }\n",
       "</style>\n",
       "<table border=\"1\" class=\"dataframe\">\n",
       "  <thead>\n",
       "    <tr style=\"text-align: right;\">\n",
       "      <th></th>\n",
       "      <th>key</th>\n",
       "      <th>Начало нагрева дугой</th>\n",
       "      <th>Конец нагрева дугой</th>\n",
       "      <th>Активная мощность</th>\n",
       "      <th>Реактивная мощность</th>\n",
       "    </tr>\n",
       "  </thead>\n",
       "  <tbody>\n",
       "    <tr>\n",
       "      <th>9778</th>\n",
       "      <td>2116</td>\n",
       "      <td>2019-07-24 00:29:52</td>\n",
       "      <td>2019-07-24 00:31:54</td>\n",
       "      <td>0.433266</td>\n",
       "      <td>0.306141</td>\n",
       "    </tr>\n",
       "    <tr>\n",
       "      <th>9779</th>\n",
       "      <td>2116</td>\n",
       "      <td>2019-07-24 00:35:50</td>\n",
       "      <td>2019-07-24 00:38:05</td>\n",
       "      <td>0.620265</td>\n",
       "      <td>0.408352</td>\n",
       "    </tr>\n",
       "    <tr>\n",
       "      <th>9780</th>\n",
       "      <td>2116</td>\n",
       "      <td>2019-07-24 00:44:48</td>\n",
       "      <td>2019-07-24 00:46:37</td>\n",
       "      <td>0.495782</td>\n",
       "      <td>-715.504924</td>\n",
       "    </tr>\n",
       "    <tr>\n",
       "      <th>9781</th>\n",
       "      <td>2116</td>\n",
       "      <td>2019-07-24 00:51:51</td>\n",
       "      <td>2019-07-24 00:52:58</td>\n",
       "      <td>0.299368</td>\n",
       "      <td>0.198796</td>\n",
       "    </tr>\n",
       "  </tbody>\n",
       "</table>\n",
       "</div>"
      ],
      "text/plain": [
       "       key Начало нагрева дугой  Конец нагрева дугой  Активная мощность  \\\n",
       "9778  2116  2019-07-24 00:29:52  2019-07-24 00:31:54           0.433266   \n",
       "9779  2116  2019-07-24 00:35:50  2019-07-24 00:38:05           0.620265   \n",
       "9780  2116  2019-07-24 00:44:48  2019-07-24 00:46:37           0.495782   \n",
       "9781  2116  2019-07-24 00:51:51  2019-07-24 00:52:58           0.299368   \n",
       "\n",
       "      Реактивная мощность  \n",
       "9778             0.306141  \n",
       "9779             0.408352  \n",
       "9780          -715.504924  \n",
       "9781             0.198796  "
      ]
     },
     "execution_count": 281,
     "metadata": {},
     "output_type": "execute_result"
    }
   ],
   "source": [
    "data_arc.loc[data_arc.loc[:, 'key'] == 2116] #поиск - фильтр по ключу"
   ]
  },
  {
   "attachments": {},
   "cell_type": "markdown",
   "metadata": {},
   "source": [
    "Действительно, такие значения мощности вызывают вопросы, поэтому мы должны убрать все данные с этим ключом."
   ]
  },
  {
   "cell_type": "code",
   "execution_count": 282,
   "metadata": {},
   "outputs": [],
   "source": [
    "# фильтр с перезаписью данных. остаются значения не равные выбранном key. перезапись индексов\n",
    "data_arc = data_arc.loc[data_arc.loc[:, 'key'] != 2116].reset_index(drop= True)"
   ]
  },
  {
   "attachments": {},
   "cell_type": "markdown",
   "metadata": {},
   "source": [
    "Так как таблицы будут объединяться по ключу `key` у нас не будет проблем со смещением данных после удаления строк.\n",
    "\n",
    "Посчитаем полную мощность и КПД и добавим эти значения в столбцы справа."
   ]
  },
  {
   "cell_type": "code",
   "execution_count": 283,
   "metadata": {},
   "outputs": [],
   "source": [
    "# полная мощность - теорема Пифагора\n",
    "data_arc['Полная мощность'] = (data_arc['Активная мощность']**2 + data_arc['Реактивная мощность']**2)**0.5\n",
    "\n",
    "# значение КПД\n",
    "data_arc['КПД'] = data_arc['Активная мощность'] / data_arc['Полная мощность']"
   ]
  },
  {
   "cell_type": "code",
   "execution_count": 284,
   "metadata": {},
   "outputs": [
    {
     "data": {
      "text/html": [
       "<div>\n",
       "<style scoped>\n",
       "    .dataframe tbody tr th:only-of-type {\n",
       "        vertical-align: middle;\n",
       "    }\n",
       "\n",
       "    .dataframe tbody tr th {\n",
       "        vertical-align: top;\n",
       "    }\n",
       "\n",
       "    .dataframe thead th {\n",
       "        text-align: right;\n",
       "    }\n",
       "</style>\n",
       "<table border=\"1\" class=\"dataframe\">\n",
       "  <thead>\n",
       "    <tr style=\"text-align: right;\">\n",
       "      <th></th>\n",
       "      <th>key</th>\n",
       "      <th>Начало нагрева дугой</th>\n",
       "      <th>Конец нагрева дугой</th>\n",
       "      <th>Активная мощность</th>\n",
       "      <th>Реактивная мощность</th>\n",
       "      <th>Полная мощность</th>\n",
       "      <th>КПД</th>\n",
       "    </tr>\n",
       "  </thead>\n",
       "  <tbody>\n",
       "    <tr>\n",
       "      <th>0</th>\n",
       "      <td>1</td>\n",
       "      <td>2019-05-03 11:02:14</td>\n",
       "      <td>2019-05-03 11:06:02</td>\n",
       "      <td>0.976059</td>\n",
       "      <td>0.687084</td>\n",
       "      <td>1.193639</td>\n",
       "      <td>0.817717</td>\n",
       "    </tr>\n",
       "    <tr>\n",
       "      <th>1</th>\n",
       "      <td>1</td>\n",
       "      <td>2019-05-03 11:07:28</td>\n",
       "      <td>2019-05-03 11:10:33</td>\n",
       "      <td>0.805607</td>\n",
       "      <td>0.520285</td>\n",
       "      <td>0.959010</td>\n",
       "      <td>0.840041</td>\n",
       "    </tr>\n",
       "    <tr>\n",
       "      <th>2</th>\n",
       "      <td>1</td>\n",
       "      <td>2019-05-03 11:11:44</td>\n",
       "      <td>2019-05-03 11:14:36</td>\n",
       "      <td>0.744363</td>\n",
       "      <td>0.498805</td>\n",
       "      <td>0.896038</td>\n",
       "      <td>0.830728</td>\n",
       "    </tr>\n",
       "    <tr>\n",
       "      <th>3</th>\n",
       "      <td>1</td>\n",
       "      <td>2019-05-03 11:18:14</td>\n",
       "      <td>2019-05-03 11:24:19</td>\n",
       "      <td>1.659363</td>\n",
       "      <td>1.062669</td>\n",
       "      <td>1.970470</td>\n",
       "      <td>0.842115</td>\n",
       "    </tr>\n",
       "    <tr>\n",
       "      <th>4</th>\n",
       "      <td>1</td>\n",
       "      <td>2019-05-03 11:26:09</td>\n",
       "      <td>2019-05-03 11:28:37</td>\n",
       "      <td>0.692755</td>\n",
       "      <td>0.414397</td>\n",
       "      <td>0.807239</td>\n",
       "      <td>0.858178</td>\n",
       "    </tr>\n",
       "  </tbody>\n",
       "</table>\n",
       "</div>"
      ],
      "text/plain": [
       "   key Начало нагрева дугой  Конец нагрева дугой  Активная мощность  \\\n",
       "0    1  2019-05-03 11:02:14  2019-05-03 11:06:02           0.976059   \n",
       "1    1  2019-05-03 11:07:28  2019-05-03 11:10:33           0.805607   \n",
       "2    1  2019-05-03 11:11:44  2019-05-03 11:14:36           0.744363   \n",
       "3    1  2019-05-03 11:18:14  2019-05-03 11:24:19           1.659363   \n",
       "4    1  2019-05-03 11:26:09  2019-05-03 11:28:37           0.692755   \n",
       "\n",
       "   Реактивная мощность  Полная мощность       КПД  \n",
       "0             0.687084         1.193639  0.817717  \n",
       "1             0.520285         0.959010  0.840041  \n",
       "2             0.498805         0.896038  0.830728  \n",
       "3             1.062669         1.970470  0.842115  \n",
       "4             0.414397         0.807239  0.858178  "
      ]
     },
     "execution_count": 284,
     "metadata": {},
     "output_type": "execute_result"
    }
   ],
   "source": [
    "data_arc.head()"
   ]
  },
  {
   "attachments": {},
   "cell_type": "markdown",
   "metadata": {},
   "source": [
    "Добавляем столбец с длительностью. Для этого меняем тип даты для столбцов со временем."
   ]
  },
  {
   "cell_type": "code",
   "execution_count": 285,
   "metadata": {},
   "outputs": [],
   "source": [
    "data_arc['Начало нагрева дугой'] = pd.to_datetime(data_arc['Начало нагрева дугой']) # меняем тип на дату\n",
    "data_arc['Конец нагрева дугой'] = pd.to_datetime(data_arc['Конец нагрева дугой'])"
   ]
  },
  {
   "cell_type": "code",
   "execution_count": 286,
   "metadata": {},
   "outputs": [
    {
     "name": "stdout",
     "output_type": "stream",
     "text": [
      "<class 'pandas.core.frame.DataFrame'>\n",
      "RangeIndex: 14872 entries, 0 to 14871\n",
      "Data columns (total 7 columns):\n",
      " #   Column                Non-Null Count  Dtype         \n",
      "---  ------                --------------  -----         \n",
      " 0   key                   14872 non-null  int64         \n",
      " 1   Начало нагрева дугой  14872 non-null  datetime64[ns]\n",
      " 2   Конец нагрева дугой   14872 non-null  datetime64[ns]\n",
      " 3   Активная мощность     14872 non-null  float64       \n",
      " 4   Реактивная мощность   14872 non-null  float64       \n",
      " 5   Полная мощность       14872 non-null  float64       \n",
      " 6   КПД                   14872 non-null  float64       \n",
      "dtypes: datetime64[ns](2), float64(4), int64(1)\n",
      "memory usage: 813.4 KB\n"
     ]
    }
   ],
   "source": [
    "data_arc.info()"
   ]
  },
  {
   "attachments": {},
   "cell_type": "markdown",
   "metadata": {},
   "source": [
    "Добавим столбец с дельтой времени - из конечного времени каждой записи (пока не объединяем ключи) вычитаем начальное время и переводим данные в секунды."
   ]
  },
  {
   "cell_type": "code",
   "execution_count": 287,
   "metadata": {},
   "outputs": [],
   "source": [
    "# вычисляем длительность как разность конечного и начального времени. переводим в секунды.\n",
    "data_arc['Длительность'] = (data_arc['Конец нагрева дугой'] - data_arc['Начало нагрева дугой']).astype('timedelta64[s]')"
   ]
  },
  {
   "attachments": {},
   "cell_type": "markdown",
   "metadata": {},
   "source": [
    "КПД и полная мощность для признаков достаточны и более показательны, можем убирать активную и реактивную мощность, так как они будут излишними. Также, убираем конечное время. Больше эти данные не нужны. Начальное время оставим для его сравнения с другими датами в следующих таблицах."
   ]
  },
  {
   "cell_type": "code",
   "execution_count": 288,
   "metadata": {},
   "outputs": [],
   "source": [
    "# удаляем лишние данные\n",
    "data_arc.drop(columns= ['Активная мощность', 'Реактивная мощность', 'Конец нагрева дугой'], inplace= True)"
   ]
  },
  {
   "cell_type": "code",
   "execution_count": 289,
   "metadata": {},
   "outputs": [
    {
     "data": {
      "text/html": [
       "<div>\n",
       "<style scoped>\n",
       "    .dataframe tbody tr th:only-of-type {\n",
       "        vertical-align: middle;\n",
       "    }\n",
       "\n",
       "    .dataframe tbody tr th {\n",
       "        vertical-align: top;\n",
       "    }\n",
       "\n",
       "    .dataframe thead th {\n",
       "        text-align: right;\n",
       "    }\n",
       "</style>\n",
       "<table border=\"1\" class=\"dataframe\">\n",
       "  <thead>\n",
       "    <tr style=\"text-align: right;\">\n",
       "      <th></th>\n",
       "      <th>key</th>\n",
       "      <th>Начало нагрева дугой</th>\n",
       "      <th>Полная мощность</th>\n",
       "      <th>КПД</th>\n",
       "      <th>Длительность</th>\n",
       "    </tr>\n",
       "  </thead>\n",
       "  <tbody>\n",
       "    <tr>\n",
       "      <th>0</th>\n",
       "      <td>1</td>\n",
       "      <td>2019-05-03 11:02:14</td>\n",
       "      <td>1.193639</td>\n",
       "      <td>0.817717</td>\n",
       "      <td>228.0</td>\n",
       "    </tr>\n",
       "    <tr>\n",
       "      <th>1</th>\n",
       "      <td>1</td>\n",
       "      <td>2019-05-03 11:07:28</td>\n",
       "      <td>0.959010</td>\n",
       "      <td>0.840041</td>\n",
       "      <td>185.0</td>\n",
       "    </tr>\n",
       "    <tr>\n",
       "      <th>2</th>\n",
       "      <td>1</td>\n",
       "      <td>2019-05-03 11:11:44</td>\n",
       "      <td>0.896038</td>\n",
       "      <td>0.830728</td>\n",
       "      <td>172.0</td>\n",
       "    </tr>\n",
       "    <tr>\n",
       "      <th>3</th>\n",
       "      <td>1</td>\n",
       "      <td>2019-05-03 11:18:14</td>\n",
       "      <td>1.970470</td>\n",
       "      <td>0.842115</td>\n",
       "      <td>365.0</td>\n",
       "    </tr>\n",
       "    <tr>\n",
       "      <th>4</th>\n",
       "      <td>1</td>\n",
       "      <td>2019-05-03 11:26:09</td>\n",
       "      <td>0.807239</td>\n",
       "      <td>0.858178</td>\n",
       "      <td>148.0</td>\n",
       "    </tr>\n",
       "    <tr>\n",
       "      <th>5</th>\n",
       "      <td>2</td>\n",
       "      <td>2019-05-03 11:34:14</td>\n",
       "      <td>0.521549</td>\n",
       "      <td>0.839928</td>\n",
       "      <td>137.0</td>\n",
       "    </tr>\n",
       "    <tr>\n",
       "      <th>6</th>\n",
       "      <td>2</td>\n",
       "      <td>2019-05-03 11:38:50</td>\n",
       "      <td>1.574162</td>\n",
       "      <td>0.823559</td>\n",
       "      <td>338.0</td>\n",
       "    </tr>\n",
       "  </tbody>\n",
       "</table>\n",
       "</div>"
      ],
      "text/plain": [
       "   key Начало нагрева дугой  Полная мощность       КПД  Длительность\n",
       "0    1  2019-05-03 11:02:14         1.193639  0.817717         228.0\n",
       "1    1  2019-05-03 11:07:28         0.959010  0.840041         185.0\n",
       "2    1  2019-05-03 11:11:44         0.896038  0.830728         172.0\n",
       "3    1  2019-05-03 11:18:14         1.970470  0.842115         365.0\n",
       "4    1  2019-05-03 11:26:09         0.807239  0.858178         148.0\n",
       "5    2  2019-05-03 11:34:14         0.521549  0.839928         137.0\n",
       "6    2  2019-05-03 11:38:50         1.574162  0.823559         338.0"
      ]
     },
     "execution_count": 289,
     "metadata": {},
     "output_type": "execute_result"
    }
   ],
   "source": [
    "data_arc.head(7)"
   ]
  },
  {
   "attachments": {},
   "cell_type": "markdown",
   "metadata": {},
   "source": [
    "Выделим начальное время для каждого ключа."
   ]
  },
  {
   "cell_type": "code",
   "execution_count": 290,
   "metadata": {},
   "outputs": [],
   "source": [
    "first_time = data_arc.groupby('key')['Начало нагрева дугой'].first().to_frame() #группируем данные по времени первого нагрева и преобразуем в датасет\n",
    "data_arc.drop(columns= ['Начало нагрева дугой'], inplace= True) #удаляем лишний столбец\n",
    "first_time.rename(columns = {'Начало нагрева дугой':'Старт'}, inplace = True ) # переименовываем столбец\n",
    "data_arc = data_arc.merge(first_time, on='key') #склеиваем таблицы по ключу key"
   ]
  },
  {
   "cell_type": "code",
   "execution_count": 291,
   "metadata": {},
   "outputs": [
    {
     "data": {
      "text/html": [
       "<div>\n",
       "<style scoped>\n",
       "    .dataframe tbody tr th:only-of-type {\n",
       "        vertical-align: middle;\n",
       "    }\n",
       "\n",
       "    .dataframe tbody tr th {\n",
       "        vertical-align: top;\n",
       "    }\n",
       "\n",
       "    .dataframe thead th {\n",
       "        text-align: right;\n",
       "    }\n",
       "</style>\n",
       "<table border=\"1\" class=\"dataframe\">\n",
       "  <thead>\n",
       "    <tr style=\"text-align: right;\">\n",
       "      <th></th>\n",
       "      <th>key</th>\n",
       "      <th>Полная мощность</th>\n",
       "      <th>КПД</th>\n",
       "      <th>Длительность</th>\n",
       "      <th>Старт</th>\n",
       "    </tr>\n",
       "  </thead>\n",
       "  <tbody>\n",
       "    <tr>\n",
       "      <th>0</th>\n",
       "      <td>1</td>\n",
       "      <td>1.193639</td>\n",
       "      <td>0.817717</td>\n",
       "      <td>228.0</td>\n",
       "      <td>2019-05-03 11:02:14</td>\n",
       "    </tr>\n",
       "    <tr>\n",
       "      <th>1</th>\n",
       "      <td>1</td>\n",
       "      <td>0.959010</td>\n",
       "      <td>0.840041</td>\n",
       "      <td>185.0</td>\n",
       "      <td>2019-05-03 11:02:14</td>\n",
       "    </tr>\n",
       "    <tr>\n",
       "      <th>2</th>\n",
       "      <td>1</td>\n",
       "      <td>0.896038</td>\n",
       "      <td>0.830728</td>\n",
       "      <td>172.0</td>\n",
       "      <td>2019-05-03 11:02:14</td>\n",
       "    </tr>\n",
       "    <tr>\n",
       "      <th>3</th>\n",
       "      <td>1</td>\n",
       "      <td>1.970470</td>\n",
       "      <td>0.842115</td>\n",
       "      <td>365.0</td>\n",
       "      <td>2019-05-03 11:02:14</td>\n",
       "    </tr>\n",
       "    <tr>\n",
       "      <th>4</th>\n",
       "      <td>1</td>\n",
       "      <td>0.807239</td>\n",
       "      <td>0.858178</td>\n",
       "      <td>148.0</td>\n",
       "      <td>2019-05-03 11:02:14</td>\n",
       "    </tr>\n",
       "    <tr>\n",
       "      <th>5</th>\n",
       "      <td>2</td>\n",
       "      <td>0.521549</td>\n",
       "      <td>0.839928</td>\n",
       "      <td>137.0</td>\n",
       "      <td>2019-05-03 11:34:14</td>\n",
       "    </tr>\n",
       "    <tr>\n",
       "      <th>6</th>\n",
       "      <td>2</td>\n",
       "      <td>1.574162</td>\n",
       "      <td>0.823559</td>\n",
       "      <td>338.0</td>\n",
       "      <td>2019-05-03 11:34:14</td>\n",
       "    </tr>\n",
       "  </tbody>\n",
       "</table>\n",
       "</div>"
      ],
      "text/plain": [
       "   key  Полная мощность       КПД  Длительность               Старт\n",
       "0    1         1.193639  0.817717         228.0 2019-05-03 11:02:14\n",
       "1    1         0.959010  0.840041         185.0 2019-05-03 11:02:14\n",
       "2    1         0.896038  0.830728         172.0 2019-05-03 11:02:14\n",
       "3    1         1.970470  0.842115         365.0 2019-05-03 11:02:14\n",
       "4    1         0.807239  0.858178         148.0 2019-05-03 11:02:14\n",
       "5    2         0.521549  0.839928         137.0 2019-05-03 11:34:14\n",
       "6    2         1.574162  0.823559         338.0 2019-05-03 11:34:14"
      ]
     },
     "execution_count": 291,
     "metadata": {},
     "output_type": "execute_result"
    }
   ],
   "source": [
    "data_arc.head(7)"
   ]
  },
  {
   "attachments": {},
   "cell_type": "markdown",
   "metadata": {},
   "source": [
    "Для полной мощности и КПД агрегация должна быть по среднему значению (т.к. подаваемая мощность не суммируется, она распределена по времени), а значение Длительности, напротив, мы должны просуммировать."
   ]
  },
  {
   "cell_type": "code",
   "execution_count": 292,
   "metadata": {},
   "outputs": [],
   "source": [
    "mean_values = data_arc.groupby('key')[['Полная мощность', 'КПД']].mean() #группируем данные по времени первого нагрева и преобразуем в датасет\n",
    "data_arc.drop(columns= ['Полная мощность', 'КПД'], inplace= True) #удаляем лишний столбец\n",
    "data_arc = data_arc.merge(mean_values, on='key') #склеиваем таблицы по ключу key"
   ]
  },
  {
   "cell_type": "code",
   "execution_count": 293,
   "metadata": {},
   "outputs": [],
   "source": [
    "sum_duration = data_arc.groupby('key')['Длительность'].sum().to_frame() #суммируем время с группировкой по ключу\n",
    "data_arc.drop(columns= ['Длительность'], inplace= True) #удаляем лишний столбец\n",
    "data_arc = data_arc.merge(sum_duration, on='key') #склеиваем таблицы по ключу key"
   ]
  },
  {
   "attachments": {},
   "cell_type": "markdown",
   "metadata": {},
   "source": [
    "И группируем каждый этап."
   ]
  },
  {
   "cell_type": "code",
   "execution_count": 294,
   "metadata": {},
   "outputs": [
    {
     "data": {
      "text/html": [
       "<div>\n",
       "<style scoped>\n",
       "    .dataframe tbody tr th:only-of-type {\n",
       "        vertical-align: middle;\n",
       "    }\n",
       "\n",
       "    .dataframe tbody tr th {\n",
       "        vertical-align: top;\n",
       "    }\n",
       "\n",
       "    .dataframe thead th {\n",
       "        text-align: right;\n",
       "    }\n",
       "</style>\n",
       "<table border=\"1\" class=\"dataframe\">\n",
       "  <thead>\n",
       "    <tr style=\"text-align: right;\">\n",
       "      <th></th>\n",
       "      <th>Старт</th>\n",
       "      <th>Полная мощность</th>\n",
       "      <th>КПД</th>\n",
       "      <th>Длительность</th>\n",
       "    </tr>\n",
       "    <tr>\n",
       "      <th>key</th>\n",
       "      <th></th>\n",
       "      <th></th>\n",
       "      <th></th>\n",
       "      <th></th>\n",
       "    </tr>\n",
       "  </thead>\n",
       "  <tbody>\n",
       "    <tr>\n",
       "      <th>1</th>\n",
       "      <td>2019-05-03 11:02:14</td>\n",
       "      <td>1.165279</td>\n",
       "      <td>0.837756</td>\n",
       "      <td>1098.0</td>\n",
       "    </tr>\n",
       "    <tr>\n",
       "      <th>2</th>\n",
       "      <td>2019-05-03 11:34:14</td>\n",
       "      <td>0.912304</td>\n",
       "      <td>0.840158</td>\n",
       "      <td>811.0</td>\n",
       "    </tr>\n",
       "    <tr>\n",
       "      <th>3</th>\n",
       "      <td>2019-05-03 12:06:54</td>\n",
       "      <td>0.597907</td>\n",
       "      <td>0.845421</td>\n",
       "      <td>655.0</td>\n",
       "    </tr>\n",
       "    <tr>\n",
       "      <th>4</th>\n",
       "      <td>2019-05-03 12:39:37</td>\n",
       "      <td>0.953741</td>\n",
       "      <td>0.841682</td>\n",
       "      <td>741.0</td>\n",
       "    </tr>\n",
       "    <tr>\n",
       "      <th>5</th>\n",
       "      <td>2019-05-03 13:11:13</td>\n",
       "      <td>1.008939</td>\n",
       "      <td>0.828104</td>\n",
       "      <td>869.0</td>\n",
       "    </tr>\n",
       "  </tbody>\n",
       "</table>\n",
       "</div>"
      ],
      "text/plain": [
       "                  Старт  Полная мощность       КПД  Длительность\n",
       "key                                                             \n",
       "1   2019-05-03 11:02:14         1.165279  0.837756        1098.0\n",
       "2   2019-05-03 11:34:14         0.912304  0.840158         811.0\n",
       "3   2019-05-03 12:06:54         0.597907  0.845421         655.0\n",
       "4   2019-05-03 12:39:37         0.953741  0.841682         741.0\n",
       "5   2019-05-03 13:11:13         1.008939  0.828104         869.0"
      ]
     },
     "execution_count": 294,
     "metadata": {},
     "output_type": "execute_result"
    }
   ],
   "source": [
    "data_arc = data_arc.groupby('key').first() #группируем данные по температуре первого замера и преобразуем в датасет\n",
    "data_arc.head()"
   ]
  },
  {
   "cell_type": "code",
   "execution_count": 295,
   "metadata": {},
   "outputs": [
    {
     "name": "stdout",
     "output_type": "stream",
     "text": [
      "<class 'pandas.core.frame.DataFrame'>\n",
      "Int64Index: 3213 entries, 1 to 3241\n",
      "Data columns (total 4 columns):\n",
      " #   Column           Non-Null Count  Dtype         \n",
      "---  ------           --------------  -----         \n",
      " 0   Старт            3213 non-null   datetime64[ns]\n",
      " 1   Полная мощность  3213 non-null   float64       \n",
      " 2   КПД              3213 non-null   float64       \n",
      " 3   Длительность     3213 non-null   float64       \n",
      "dtypes: datetime64[ns](1), float64(3)\n",
      "memory usage: 125.5 KB\n"
     ]
    }
   ],
   "source": [
    "data_arc.info()"
   ]
  },
  {
   "attachments": {},
   "cell_type": "markdown",
   "metadata": {},
   "source": [
    "Мы подготовили датасет, убрали выбросы, создали признаки, поработали с типом данных."
   ]
  },
  {
   "attachments": {},
   "cell_type": "markdown",
   "metadata": {},
   "source": [
    "### `data_bulk`"
   ]
  },
  {
   "attachments": {},
   "cell_type": "markdown",
   "metadata": {},
   "source": [
    "В датасете имеется огромное количество пропусков - это тоже данные. Каждый пропуск - это не засыпанный в сплав сыпучий материал. Заполним пропуски нулевыми значениями."
   ]
  },
  {
   "cell_type": "code",
   "execution_count": 296,
   "metadata": {},
   "outputs": [],
   "source": [
    "data_bulk.fillna(0, inplace= True) # заполняем пропуски"
   ]
  },
  {
   "attachments": {},
   "cell_type": "markdown",
   "metadata": {},
   "source": [
    "### `data_bulk_time`"
   ]
  },
  {
   "attachments": {},
   "cell_type": "markdown",
   "metadata": {},
   "source": [
    "Датасет содержит данные о времени загрузки сыпучих материалов. Для того, чтобы извлечь признаки из этих данных, нужно преобразовать тип ко времени. На этапе присоединения датасетов мы сможем найти дельту времени от начального времени, тем самым получив признаки.\n",
    "\n",
    "Пропущенные данные будут обработаны позднее.\n",
    "\n",
    "В процессе обучения мы сможем проверить, не мешает ли этот датасет обучению."
   ]
  },
  {
   "cell_type": "code",
   "execution_count": 297,
   "metadata": {},
   "outputs": [],
   "source": [
    "bulk_list = [column for column in data_bulk_time.drop(columns= 'key')] #собираем список названий столбцов\n",
    "\n",
    "#собираем цикл для перебора названий столбцов и смены типа данных\n",
    "for bulk in bulk_list: \n",
    "    data_bulk_time[bulk] = pd.to_datetime(data_bulk_time[bulk])"
   ]
  },
  {
   "cell_type": "code",
   "execution_count": 298,
   "metadata": {},
   "outputs": [
    {
     "name": "stdout",
     "output_type": "stream",
     "text": [
      "<class 'pandas.core.frame.DataFrame'>\n",
      "RangeIndex: 3129 entries, 0 to 3128\n",
      "Data columns (total 16 columns):\n",
      " #   Column   Non-Null Count  Dtype         \n",
      "---  ------   --------------  -----         \n",
      " 0   key      3129 non-null   int64         \n",
      " 1   Bulk 1   252 non-null    datetime64[ns]\n",
      " 2   Bulk 2   22 non-null     datetime64[ns]\n",
      " 3   Bulk 3   1298 non-null   datetime64[ns]\n",
      " 4   Bulk 4   1014 non-null   datetime64[ns]\n",
      " 5   Bulk 5   77 non-null     datetime64[ns]\n",
      " 6   Bulk 6   576 non-null    datetime64[ns]\n",
      " 7   Bulk 7   25 non-null     datetime64[ns]\n",
      " 8   Bulk 8   1 non-null      datetime64[ns]\n",
      " 9   Bulk 9   19 non-null     datetime64[ns]\n",
      " 10  Bulk 10  176 non-null    datetime64[ns]\n",
      " 11  Bulk 11  177 non-null    datetime64[ns]\n",
      " 12  Bulk 12  2450 non-null   datetime64[ns]\n",
      " 13  Bulk 13  18 non-null     datetime64[ns]\n",
      " 14  Bulk 14  2806 non-null   datetime64[ns]\n",
      " 15  Bulk 15  2248 non-null   datetime64[ns]\n",
      "dtypes: datetime64[ns](15), int64(1)\n",
      "memory usage: 391.2 KB\n"
     ]
    }
   ],
   "source": [
    "data_bulk_time.info()"
   ]
  },
  {
   "attachments": {},
   "cell_type": "markdown",
   "metadata": {},
   "source": [
    "### `data_gas`"
   ]
  },
  {
   "attachments": {},
   "cell_type": "markdown",
   "metadata": {},
   "source": [
    "Ранее уже говорилось, что этот датасет готов к работе. Те выбросы, которые имеются в данных мы сможем убрать только после деления на выборки, и только из тренировочных данных, если это будет необходимо."
   ]
  },
  {
   "attachments": {},
   "cell_type": "markdown",
   "metadata": {},
   "source": [
    "### `data_temp`"
   ]
  },
  {
   "attachments": {},
   "cell_type": "markdown",
   "metadata": {},
   "source": [
    "Для того, чтобы можно было работать со значениями `NaN` как с числами, сделаем заглушку. Например, значение = -100."
   ]
  },
  {
   "cell_type": "code",
   "execution_count": 299,
   "metadata": {},
   "outputs": [],
   "source": [
    "data_temp.fillna(-100, inplace= True) # ставим заглушки - значения, которых точно нет в датасете."
   ]
  },
  {
   "attachments": {},
   "cell_type": "markdown",
   "metadata": {},
   "source": [
    "Первое, что необходимо сделать - удалить ключи, в данных которых есть пропуски (а теперь заглушки со значением = -100) у первого и последнего значения ключа.\n",
    "\n",
    "Проверим первые значения в группах:"
   ]
  },
  {
   "cell_type": "code",
   "execution_count": 300,
   "metadata": {},
   "outputs": [
    {
     "data": {
      "text/plain": [
       "1191.0"
      ]
     },
     "execution_count": 300,
     "metadata": {},
     "output_type": "execute_result"
    }
   ],
   "source": [
    "data_temp.groupby('key')['Температура'].first().min() #находим минимальное первое в группе ключа key значение температуры"
   ]
  },
  {
   "attachments": {},
   "cell_type": "markdown",
   "metadata": {},
   "source": [
    "В первых значениях не было пропусков. Проверяем последние значения:"
   ]
  },
  {
   "cell_type": "code",
   "execution_count": 301,
   "metadata": {},
   "outputs": [
    {
     "data": {
      "text/plain": [
       "-100.0"
      ]
     },
     "execution_count": 301,
     "metadata": {},
     "output_type": "execute_result"
    }
   ],
   "source": [
    "data_temp.groupby('key')['Температура'].last().min() #находим минимальное последнее в группе ключа key значение температуры"
   ]
  },
  {
   "attachments": {},
   "cell_type": "markdown",
   "metadata": {},
   "source": [
    "Находим ключи данных, для которых было пустым последнее значение:"
   ]
  },
  {
   "cell_type": "code",
   "execution_count": 302,
   "metadata": {},
   "outputs": [],
   "source": [
    "data_temp_last = data_temp.groupby('key')['Температура'].last().to_frame() #преобразовываем в датафрейм данные с последними значениями в группах\n",
    "data_temp_nan = data_temp_last.loc[data_temp_last.loc[:, 'Температура'] == -100] # находим только значения, в которых стоят заглушки\n",
    "list_to_drop = list(data_temp_nan.index) #список ключей для удаления из датасета data_temp"
   ]
  },
  {
   "cell_type": "code",
   "execution_count": 303,
   "metadata": {},
   "outputs": [],
   "source": [
    "data_temp = data_temp.query('key not in @list_to_drop') #оставляем значение НЕ входящие в список удаления."
   ]
  },
  {
   "attachments": {},
   "cell_type": "markdown",
   "metadata": {},
   "source": [
    "Теперь, подобную операцию проводи с ключами, среди температур которых имеются значения менее 1500 градусов."
   ]
  },
  {
   "cell_type": "code",
   "execution_count": 304,
   "metadata": {},
   "outputs": [
    {
     "data": {
      "text/html": [
       "<div>\n",
       "<style scoped>\n",
       "    .dataframe tbody tr th:only-of-type {\n",
       "        vertical-align: middle;\n",
       "    }\n",
       "\n",
       "    .dataframe tbody tr th {\n",
       "        vertical-align: top;\n",
       "    }\n",
       "\n",
       "    .dataframe thead th {\n",
       "        text-align: right;\n",
       "    }\n",
       "</style>\n",
       "<table border=\"1\" class=\"dataframe\">\n",
       "  <thead>\n",
       "    <tr style=\"text-align: right;\">\n",
       "      <th></th>\n",
       "      <th>key</th>\n",
       "      <th>Время замера</th>\n",
       "      <th>Температура</th>\n",
       "    </tr>\n",
       "  </thead>\n",
       "  <tbody>\n",
       "    <tr>\n",
       "      <th>4350</th>\n",
       "      <td>867</td>\n",
       "      <td>2019-06-04 14:21:00</td>\n",
       "      <td>1191.0</td>\n",
       "    </tr>\n",
       "    <tr>\n",
       "      <th>5978</th>\n",
       "      <td>1214</td>\n",
       "      <td>2019-06-16 05:32:00</td>\n",
       "      <td>1208.0</td>\n",
       "    </tr>\n",
       "    <tr>\n",
       "      <th>7958</th>\n",
       "      <td>1619</td>\n",
       "      <td>2019-06-30 11:03:54</td>\n",
       "      <td>1218.0</td>\n",
       "    </tr>\n",
       "    <tr>\n",
       "      <th>8913</th>\n",
       "      <td>1818</td>\n",
       "      <td>2019-07-07 00:30:49</td>\n",
       "      <td>1383.0</td>\n",
       "    </tr>\n",
       "    <tr>\n",
       "      <th>8914</th>\n",
       "      <td>1818</td>\n",
       "      <td>2019-07-07 00:31:40</td>\n",
       "      <td>1383.0</td>\n",
       "    </tr>\n",
       "    <tr>\n",
       "      <th>10127</th>\n",
       "      <td>2052</td>\n",
       "      <td>2019-07-21 14:51:40</td>\n",
       "      <td>1227.0</td>\n",
       "    </tr>\n",
       "  </tbody>\n",
       "</table>\n",
       "</div>"
      ],
      "text/plain": [
       "        key         Время замера  Температура\n",
       "4350    867  2019-06-04 14:21:00       1191.0\n",
       "5978   1214  2019-06-16 05:32:00       1208.0\n",
       "7958   1619  2019-06-30 11:03:54       1218.0\n",
       "8913   1818  2019-07-07 00:30:49       1383.0\n",
       "8914   1818  2019-07-07 00:31:40       1383.0\n",
       "10127  2052  2019-07-21 14:51:40       1227.0"
      ]
     },
     "execution_count": 304,
     "metadata": {},
     "output_type": "execute_result"
    }
   ],
   "source": [
    "below500 = data_temp.loc[data_temp.loc[:, 'Температура'] < 1500]\n",
    "below500"
   ]
  },
  {
   "attachments": {},
   "cell_type": "markdown",
   "metadata": {},
   "source": [
    "Всего шесть значений ключей. Соберем их в список и удалим эти данные из датасета."
   ]
  },
  {
   "cell_type": "code",
   "execution_count": 305,
   "metadata": {},
   "outputs": [],
   "source": [
    "list_below500 = list(below500['key'])\n",
    "data_temp = data_temp.query('key not in @list_below500').reset_index(drop= True)"
   ]
  },
  {
   "attachments": {},
   "cell_type": "markdown",
   "metadata": {},
   "source": [
    "Преобразуем дату в `datetype`."
   ]
  },
  {
   "cell_type": "code",
   "execution_count": 306,
   "metadata": {},
   "outputs": [],
   "source": [
    "data_temp['Время замера'] = pd.to_datetime(data_temp['Время замера']) # меняем тип на дату"
   ]
  },
  {
   "attachments": {},
   "cell_type": "markdown",
   "metadata": {},
   "source": [
    "Здесь можно выделить дату и время первого замера и последнего замеров, а также температуру первого замера в отдельные столбцы. с их помощью мы сделаем новые признаки опираясь на дату в таблице `data_arc`."
   ]
  },
  {
   "cell_type": "code",
   "execution_count": 307,
   "metadata": {},
   "outputs": [],
   "source": [
    "first_time_meash = data_temp.groupby('key')['Время замера'].first().to_frame() #группируем данные по времени первого замера температуры и преобразуем в датасет\n",
    "first_time_meash.rename(columns = {'Время замера':'Время первого замера'}, inplace = True ) # переименовываем столбец\n",
    "\n",
    "last_time_meash = data_temp.groupby('key')['Время замера'].last().to_frame() #группируем данные по времени последнего замера температуры и преобразуем в датасет\n",
    "last_time_meash.rename(columns = {'Время замера':'Время последнего замера'}, inplace = True )"
   ]
  },
  {
   "cell_type": "code",
   "execution_count": 308,
   "metadata": {},
   "outputs": [],
   "source": [
    "data_temp = data_temp.merge(first_time_meash, on='key') #склеиваем таблицы по ключу key\n",
    "data_temp = data_temp.merge(last_time_meash, on='key')\n",
    "data_temp.drop(columns= ['Время замера'], inplace= True) #удаляем лишний столбец времени"
   ]
  },
  {
   "cell_type": "code",
   "execution_count": 309,
   "metadata": {},
   "outputs": [
    {
     "data": {
      "text/html": [
       "<div>\n",
       "<style scoped>\n",
       "    .dataframe tbody tr th:only-of-type {\n",
       "        vertical-align: middle;\n",
       "    }\n",
       "\n",
       "    .dataframe tbody tr th {\n",
       "        vertical-align: top;\n",
       "    }\n",
       "\n",
       "    .dataframe thead th {\n",
       "        text-align: right;\n",
       "    }\n",
       "</style>\n",
       "<table border=\"1\" class=\"dataframe\">\n",
       "  <thead>\n",
       "    <tr style=\"text-align: right;\">\n",
       "      <th></th>\n",
       "      <th>key</th>\n",
       "      <th>Температура</th>\n",
       "      <th>Время первого замера</th>\n",
       "      <th>Время последнего замера</th>\n",
       "    </tr>\n",
       "  </thead>\n",
       "  <tbody>\n",
       "    <tr>\n",
       "      <th>0</th>\n",
       "      <td>1</td>\n",
       "      <td>1571.0</td>\n",
       "      <td>2019-05-03 11:16:18</td>\n",
       "      <td>2019-05-03 11:30:39</td>\n",
       "    </tr>\n",
       "    <tr>\n",
       "      <th>1</th>\n",
       "      <td>1</td>\n",
       "      <td>1604.0</td>\n",
       "      <td>2019-05-03 11:16:18</td>\n",
       "      <td>2019-05-03 11:30:39</td>\n",
       "    </tr>\n",
       "    <tr>\n",
       "      <th>2</th>\n",
       "      <td>1</td>\n",
       "      <td>1618.0</td>\n",
       "      <td>2019-05-03 11:16:18</td>\n",
       "      <td>2019-05-03 11:30:39</td>\n",
       "    </tr>\n",
       "    <tr>\n",
       "      <th>3</th>\n",
       "      <td>1</td>\n",
       "      <td>1601.0</td>\n",
       "      <td>2019-05-03 11:16:18</td>\n",
       "      <td>2019-05-03 11:30:39</td>\n",
       "    </tr>\n",
       "    <tr>\n",
       "      <th>4</th>\n",
       "      <td>1</td>\n",
       "      <td>1613.0</td>\n",
       "      <td>2019-05-03 11:16:18</td>\n",
       "      <td>2019-05-03 11:30:39</td>\n",
       "    </tr>\n",
       "    <tr>\n",
       "      <th>5</th>\n",
       "      <td>2</td>\n",
       "      <td>1581.0</td>\n",
       "      <td>2019-05-03 11:37:27</td>\n",
       "      <td>2019-05-03 11:59:12</td>\n",
       "    </tr>\n",
       "    <tr>\n",
       "      <th>6</th>\n",
       "      <td>2</td>\n",
       "      <td>1577.0</td>\n",
       "      <td>2019-05-03 11:37:27</td>\n",
       "      <td>2019-05-03 11:59:12</td>\n",
       "    </tr>\n",
       "  </tbody>\n",
       "</table>\n",
       "</div>"
      ],
      "text/plain": [
       "   key  Температура Время первого замера Время последнего замера\n",
       "0    1       1571.0  2019-05-03 11:16:18     2019-05-03 11:30:39\n",
       "1    1       1604.0  2019-05-03 11:16:18     2019-05-03 11:30:39\n",
       "2    1       1618.0  2019-05-03 11:16:18     2019-05-03 11:30:39\n",
       "3    1       1601.0  2019-05-03 11:16:18     2019-05-03 11:30:39\n",
       "4    1       1613.0  2019-05-03 11:16:18     2019-05-03 11:30:39\n",
       "5    2       1581.0  2019-05-03 11:37:27     2019-05-03 11:59:12\n",
       "6    2       1577.0  2019-05-03 11:37:27     2019-05-03 11:59:12"
      ]
     },
     "execution_count": 309,
     "metadata": {},
     "output_type": "execute_result"
    }
   ],
   "source": [
    "data_temp.head(7)"
   ]
  },
  {
   "attachments": {},
   "cell_type": "markdown",
   "metadata": {},
   "source": [
    "Мы сделали два новых столбца, но признаками они станут после присоединения к таблице `data_arc`, т.к. она содержит начальное время, от которого будут зависить признаки (признаки - это разница во времени между стартом и этапом).\n",
    "\n",
    "Промежуточные значения температур не будут использоваться в работе. Первые значения температур - это признак, конечные значения температур - целевой признак. Разделим эти значения."
   ]
  },
  {
   "cell_type": "code",
   "execution_count": 310,
   "metadata": {},
   "outputs": [],
   "source": [
    "first_temp_meash = data_temp.groupby('key')['Температура'].first().to_frame() #группируем данные по температуре первого замера и преобразуем в датасет\n",
    "first_temp_meash.rename(columns = {'Температура':'Температура первого замера'}, inplace = True ) # переименовываем столбец\n",
    "\n",
    "last_temp_meash = data_temp.groupby('key')['Температура'].last().to_frame() #группируем данные по температуре последнего замера и преобразуем в датасет\n",
    "last_temp_meash.rename(columns = {'Температура':'Температура целевая'}, inplace = True )"
   ]
  },
  {
   "cell_type": "code",
   "execution_count": 311,
   "metadata": {},
   "outputs": [],
   "source": [
    "data_temp = data_temp.merge(first_temp_meash, on='key') #склеиваем таблицы по ключу key\n",
    "data_temp = data_temp.merge(last_temp_meash, on='key')\n",
    "data_temp.drop(columns= ['Температура'], inplace= True) #удаляем лишний столбец времени"
   ]
  },
  {
   "cell_type": "code",
   "execution_count": 312,
   "metadata": {},
   "outputs": [
    {
     "data": {
      "text/html": [
       "<div>\n",
       "<style scoped>\n",
       "    .dataframe tbody tr th:only-of-type {\n",
       "        vertical-align: middle;\n",
       "    }\n",
       "\n",
       "    .dataframe tbody tr th {\n",
       "        vertical-align: top;\n",
       "    }\n",
       "\n",
       "    .dataframe thead th {\n",
       "        text-align: right;\n",
       "    }\n",
       "</style>\n",
       "<table border=\"1\" class=\"dataframe\">\n",
       "  <thead>\n",
       "    <tr style=\"text-align: right;\">\n",
       "      <th></th>\n",
       "      <th>key</th>\n",
       "      <th>Время первого замера</th>\n",
       "      <th>Время последнего замера</th>\n",
       "      <th>Температура первого замера</th>\n",
       "      <th>Температура целевая</th>\n",
       "    </tr>\n",
       "  </thead>\n",
       "  <tbody>\n",
       "    <tr>\n",
       "      <th>0</th>\n",
       "      <td>1</td>\n",
       "      <td>2019-05-03 11:16:18</td>\n",
       "      <td>2019-05-03 11:30:39</td>\n",
       "      <td>1571.0</td>\n",
       "      <td>1613.0</td>\n",
       "    </tr>\n",
       "    <tr>\n",
       "      <th>1</th>\n",
       "      <td>1</td>\n",
       "      <td>2019-05-03 11:16:18</td>\n",
       "      <td>2019-05-03 11:30:39</td>\n",
       "      <td>1571.0</td>\n",
       "      <td>1613.0</td>\n",
       "    </tr>\n",
       "    <tr>\n",
       "      <th>2</th>\n",
       "      <td>1</td>\n",
       "      <td>2019-05-03 11:16:18</td>\n",
       "      <td>2019-05-03 11:30:39</td>\n",
       "      <td>1571.0</td>\n",
       "      <td>1613.0</td>\n",
       "    </tr>\n",
       "    <tr>\n",
       "      <th>3</th>\n",
       "      <td>1</td>\n",
       "      <td>2019-05-03 11:16:18</td>\n",
       "      <td>2019-05-03 11:30:39</td>\n",
       "      <td>1571.0</td>\n",
       "      <td>1613.0</td>\n",
       "    </tr>\n",
       "    <tr>\n",
       "      <th>4</th>\n",
       "      <td>1</td>\n",
       "      <td>2019-05-03 11:16:18</td>\n",
       "      <td>2019-05-03 11:30:39</td>\n",
       "      <td>1571.0</td>\n",
       "      <td>1613.0</td>\n",
       "    </tr>\n",
       "    <tr>\n",
       "      <th>5</th>\n",
       "      <td>2</td>\n",
       "      <td>2019-05-03 11:37:27</td>\n",
       "      <td>2019-05-03 11:59:12</td>\n",
       "      <td>1581.0</td>\n",
       "      <td>1602.0</td>\n",
       "    </tr>\n",
       "    <tr>\n",
       "      <th>6</th>\n",
       "      <td>2</td>\n",
       "      <td>2019-05-03 11:37:27</td>\n",
       "      <td>2019-05-03 11:59:12</td>\n",
       "      <td>1581.0</td>\n",
       "      <td>1602.0</td>\n",
       "    </tr>\n",
       "  </tbody>\n",
       "</table>\n",
       "</div>"
      ],
      "text/plain": [
       "   key Время первого замера Время последнего замера  \\\n",
       "0    1  2019-05-03 11:16:18     2019-05-03 11:30:39   \n",
       "1    1  2019-05-03 11:16:18     2019-05-03 11:30:39   \n",
       "2    1  2019-05-03 11:16:18     2019-05-03 11:30:39   \n",
       "3    1  2019-05-03 11:16:18     2019-05-03 11:30:39   \n",
       "4    1  2019-05-03 11:16:18     2019-05-03 11:30:39   \n",
       "5    2  2019-05-03 11:37:27     2019-05-03 11:59:12   \n",
       "6    2  2019-05-03 11:37:27     2019-05-03 11:59:12   \n",
       "\n",
       "   Температура первого замера  Температура целевая  \n",
       "0                      1571.0               1613.0  \n",
       "1                      1571.0               1613.0  \n",
       "2                      1571.0               1613.0  \n",
       "3                      1571.0               1613.0  \n",
       "4                      1571.0               1613.0  \n",
       "5                      1581.0               1602.0  \n",
       "6                      1581.0               1602.0  "
      ]
     },
     "execution_count": 312,
     "metadata": {},
     "output_type": "execute_result"
    }
   ],
   "source": [
    "data_temp.head(7)"
   ]
  },
  {
   "attachments": {},
   "cell_type": "markdown",
   "metadata": {},
   "source": [
    "Группируем по ключу. Таблица подготовлена."
   ]
  },
  {
   "cell_type": "code",
   "execution_count": 313,
   "metadata": {},
   "outputs": [
    {
     "data": {
      "text/html": [
       "<div>\n",
       "<style scoped>\n",
       "    .dataframe tbody tr th:only-of-type {\n",
       "        vertical-align: middle;\n",
       "    }\n",
       "\n",
       "    .dataframe tbody tr th {\n",
       "        vertical-align: top;\n",
       "    }\n",
       "\n",
       "    .dataframe thead th {\n",
       "        text-align: right;\n",
       "    }\n",
       "</style>\n",
       "<table border=\"1\" class=\"dataframe\">\n",
       "  <thead>\n",
       "    <tr style=\"text-align: right;\">\n",
       "      <th></th>\n",
       "      <th>Время первого замера</th>\n",
       "      <th>Время последнего замера</th>\n",
       "      <th>Температура первого замера</th>\n",
       "      <th>Температура целевая</th>\n",
       "    </tr>\n",
       "    <tr>\n",
       "      <th>key</th>\n",
       "      <th></th>\n",
       "      <th></th>\n",
       "      <th></th>\n",
       "      <th></th>\n",
       "    </tr>\n",
       "  </thead>\n",
       "  <tbody>\n",
       "    <tr>\n",
       "      <th>1</th>\n",
       "      <td>2019-05-03 11:16:18</td>\n",
       "      <td>2019-05-03 11:30:39</td>\n",
       "      <td>1571.0</td>\n",
       "      <td>1613.0</td>\n",
       "    </tr>\n",
       "    <tr>\n",
       "      <th>2</th>\n",
       "      <td>2019-05-03 11:37:27</td>\n",
       "      <td>2019-05-03 11:59:12</td>\n",
       "      <td>1581.0</td>\n",
       "      <td>1602.0</td>\n",
       "    </tr>\n",
       "    <tr>\n",
       "      <th>3</th>\n",
       "      <td>2019-05-03 12:13:17</td>\n",
       "      <td>2019-05-03 12:34:57</td>\n",
       "      <td>1596.0</td>\n",
       "      <td>1599.0</td>\n",
       "    </tr>\n",
       "    <tr>\n",
       "      <th>4</th>\n",
       "      <td>2019-05-03 12:52:57</td>\n",
       "      <td>2019-05-03 12:59:25</td>\n",
       "      <td>1601.0</td>\n",
       "      <td>1625.0</td>\n",
       "    </tr>\n",
       "    <tr>\n",
       "      <th>5</th>\n",
       "      <td>2019-05-03 13:23:19</td>\n",
       "      <td>2019-05-03 13:36:01</td>\n",
       "      <td>1576.0</td>\n",
       "      <td>1602.0</td>\n",
       "    </tr>\n",
       "  </tbody>\n",
       "</table>\n",
       "</div>"
      ],
      "text/plain": [
       "    Время первого замера Время последнего замера  Температура первого замера  \\\n",
       "key                                                                            \n",
       "1    2019-05-03 11:16:18     2019-05-03 11:30:39                      1571.0   \n",
       "2    2019-05-03 11:37:27     2019-05-03 11:59:12                      1581.0   \n",
       "3    2019-05-03 12:13:17     2019-05-03 12:34:57                      1596.0   \n",
       "4    2019-05-03 12:52:57     2019-05-03 12:59:25                      1601.0   \n",
       "5    2019-05-03 13:23:19     2019-05-03 13:36:01                      1576.0   \n",
       "\n",
       "     Температура целевая  \n",
       "key                       \n",
       "1                 1613.0  \n",
       "2                 1602.0  \n",
       "3                 1599.0  \n",
       "4                 1625.0  \n",
       "5                 1602.0  "
      ]
     },
     "execution_count": 313,
     "metadata": {},
     "output_type": "execute_result"
    }
   ],
   "source": [
    "data_temp = data_temp.groupby('key').first() #группируем данные по температуре первого замера и преобразуем в датасет\n",
    "data_temp.head()"
   ]
  },
  {
   "cell_type": "code",
   "execution_count": 314,
   "metadata": {
    "scrolled": true
   },
   "outputs": [
    {
     "name": "stdout",
     "output_type": "stream",
     "text": [
      "<class 'pandas.core.frame.DataFrame'>\n",
      "Int64Index: 2472 entries, 1 to 2499\n",
      "Data columns (total 4 columns):\n",
      " #   Column                      Non-Null Count  Dtype         \n",
      "---  ------                      --------------  -----         \n",
      " 0   Время первого замера        2472 non-null   datetime64[ns]\n",
      " 1   Время последнего замера     2472 non-null   datetime64[ns]\n",
      " 2   Температура первого замера  2472 non-null   float64       \n",
      " 3   Температура целевая         2472 non-null   float64       \n",
      "dtypes: datetime64[ns](2), float64(2)\n",
      "memory usage: 96.6 KB\n"
     ]
    }
   ],
   "source": [
    "data_temp.info()"
   ]
  },
  {
   "attachments": {},
   "cell_type": "markdown",
   "metadata": {},
   "source": [
    "### `data_wire`"
   ]
  },
  {
   "attachments": {},
   "cell_type": "markdown",
   "metadata": {},
   "source": [
    "Аналогично пропускам в `data_bulk`, здесь пропуски играют важное значение: недобавленная в сплав проволока. Заполняем нулями."
   ]
  },
  {
   "cell_type": "code",
   "execution_count": 315,
   "metadata": {},
   "outputs": [],
   "source": [
    "data_wire.fillna(0, inplace= True) # заполняем пропуски"
   ]
  },
  {
   "attachments": {},
   "cell_type": "markdown",
   "metadata": {},
   "source": [
    "### `data_wire_time`"
   ]
  },
  {
   "attachments": {},
   "cell_type": "markdown",
   "metadata": {},
   "source": [
    "Меняем тип данных, аналогично `data_bulk_time`."
   ]
  },
  {
   "cell_type": "code",
   "execution_count": 316,
   "metadata": {},
   "outputs": [],
   "source": [
    "wire_list = [column for column in data_wire_time.drop(columns= 'key')] #собираем список названий столбцов\n",
    "\n",
    "#собираем цикл для перебора названий столбцов и смены типа данных\n",
    "for wire in wire_list: \n",
    "    data_wire_time[wire] = pd.to_datetime(data_wire_time[wire])"
   ]
  },
  {
   "cell_type": "code",
   "execution_count": 317,
   "metadata": {},
   "outputs": [
    {
     "name": "stdout",
     "output_type": "stream",
     "text": [
      "<class 'pandas.core.frame.DataFrame'>\n",
      "RangeIndex: 3081 entries, 0 to 3080\n",
      "Data columns (total 10 columns):\n",
      " #   Column  Non-Null Count  Dtype         \n",
      "---  ------  --------------  -----         \n",
      " 0   key     3081 non-null   int64         \n",
      " 1   Wire 1  3055 non-null   datetime64[ns]\n",
      " 2   Wire 2  1079 non-null   datetime64[ns]\n",
      " 3   Wire 3  63 non-null     datetime64[ns]\n",
      " 4   Wire 4  14 non-null     datetime64[ns]\n",
      " 5   Wire 5  1 non-null      datetime64[ns]\n",
      " 6   Wire 6  73 non-null     datetime64[ns]\n",
      " 7   Wire 7  11 non-null     datetime64[ns]\n",
      " 8   Wire 8  19 non-null     datetime64[ns]\n",
      " 9   Wire 9  29 non-null     datetime64[ns]\n",
      "dtypes: datetime64[ns](9), int64(1)\n",
      "memory usage: 240.8 KB\n"
     ]
    }
   ],
   "source": [
    "data_wire_time.info()"
   ]
  },
  {
   "attachments": {},
   "cell_type": "markdown",
   "metadata": {},
   "source": [
    "### Краткие выводы"
   ]
  },
  {
   "attachments": {},
   "cell_type": "markdown",
   "metadata": {},
   "source": [
    "Начальная предобработка данных проведена. Удалены основные выбросы. Обработаны значения температуры. Найден целевой признак. Там, где необходимо изменен тип данных. Определены некоторые новые признаки и проработана большая часть информации."
   ]
  },
  {
   "attachments": {},
   "cell_type": "markdown",
   "metadata": {},
   "source": [
    "## Подготовка датасета"
   ]
  },
  {
   "attachments": {},
   "cell_type": "markdown",
   "metadata": {},
   "source": [
    "### Подготовка признаков"
   ]
  },
  {
   "attachments": {},
   "cell_type": "markdown",
   "metadata": {},
   "source": [
    "Достанем признаки из дат. Для этого нам нужно найти время, через которое засыпались материалы. Если они не засыпались, то нужно получить 0 секунд. Так как датой старта считается столбец `Старт` таблицы `data_arc`, и ее же мы будем вычитать из даты `Bulk`, то пропуски нужно будет затолнить значениями  `data_arc['Старт']`.\n",
    "\n",
    "Добавим к таблице данные о времени старта по ключу."
   ]
  },
  {
   "cell_type": "code",
   "execution_count": 318,
   "metadata": {},
   "outputs": [
    {
     "data": {
      "text/html": [
       "<div>\n",
       "<style scoped>\n",
       "    .dataframe tbody tr th:only-of-type {\n",
       "        vertical-align: middle;\n",
       "    }\n",
       "\n",
       "    .dataframe tbody tr th {\n",
       "        vertical-align: top;\n",
       "    }\n",
       "\n",
       "    .dataframe thead th {\n",
       "        text-align: right;\n",
       "    }\n",
       "</style>\n",
       "<table border=\"1\" class=\"dataframe\">\n",
       "  <thead>\n",
       "    <tr style=\"text-align: right;\">\n",
       "      <th></th>\n",
       "      <th>key</th>\n",
       "      <th>Старт</th>\n",
       "      <th>Полная мощность</th>\n",
       "      <th>КПД</th>\n",
       "      <th>Длительность</th>\n",
       "      <th>Bulk 1</th>\n",
       "      <th>Bulk 2</th>\n",
       "      <th>Bulk 3</th>\n",
       "      <th>Bulk 4</th>\n",
       "      <th>Bulk 5</th>\n",
       "      <th>Bulk 6</th>\n",
       "      <th>Bulk 7</th>\n",
       "      <th>Bulk 8</th>\n",
       "      <th>Bulk 9</th>\n",
       "      <th>Bulk 10</th>\n",
       "      <th>Bulk 11</th>\n",
       "      <th>Bulk 12</th>\n",
       "      <th>Bulk 13</th>\n",
       "      <th>Bulk 14</th>\n",
       "      <th>Bulk 15</th>\n",
       "    </tr>\n",
       "  </thead>\n",
       "  <tbody>\n",
       "    <tr>\n",
       "      <th>0</th>\n",
       "      <td>1</td>\n",
       "      <td>2019-05-03 11:02:14</td>\n",
       "      <td>1.165279</td>\n",
       "      <td>0.837756</td>\n",
       "      <td>1098.0</td>\n",
       "      <td>NaT</td>\n",
       "      <td>NaT</td>\n",
       "      <td>NaT</td>\n",
       "      <td>2019-05-03 11:21:30</td>\n",
       "      <td>NaT</td>\n",
       "      <td>NaT</td>\n",
       "      <td>NaT</td>\n",
       "      <td>NaT</td>\n",
       "      <td>NaT</td>\n",
       "      <td>NaT</td>\n",
       "      <td>NaT</td>\n",
       "      <td>2019-05-03 11:03:52</td>\n",
       "      <td>NaT</td>\n",
       "      <td>2019-05-03 11:03:52</td>\n",
       "      <td>2019-05-03 11:03:52</td>\n",
       "    </tr>\n",
       "    <tr>\n",
       "      <th>1</th>\n",
       "      <td>2</td>\n",
       "      <td>2019-05-03 11:34:14</td>\n",
       "      <td>0.912304</td>\n",
       "      <td>0.840158</td>\n",
       "      <td>811.0</td>\n",
       "      <td>NaT</td>\n",
       "      <td>NaT</td>\n",
       "      <td>NaT</td>\n",
       "      <td>2019-05-03 11:46:38</td>\n",
       "      <td>NaT</td>\n",
       "      <td>NaT</td>\n",
       "      <td>NaT</td>\n",
       "      <td>NaT</td>\n",
       "      <td>NaT</td>\n",
       "      <td>NaT</td>\n",
       "      <td>NaT</td>\n",
       "      <td>2019-05-03 11:40:20</td>\n",
       "      <td>NaT</td>\n",
       "      <td>2019-05-03 11:40:20</td>\n",
       "      <td>2019-05-03 11:40:20</td>\n",
       "    </tr>\n",
       "    <tr>\n",
       "      <th>2</th>\n",
       "      <td>3</td>\n",
       "      <td>2019-05-03 12:06:54</td>\n",
       "      <td>0.597907</td>\n",
       "      <td>0.845421</td>\n",
       "      <td>655.0</td>\n",
       "      <td>NaT</td>\n",
       "      <td>NaT</td>\n",
       "      <td>NaT</td>\n",
       "      <td>2019-05-03 12:31:06</td>\n",
       "      <td>NaT</td>\n",
       "      <td>NaT</td>\n",
       "      <td>NaT</td>\n",
       "      <td>NaT</td>\n",
       "      <td>NaT</td>\n",
       "      <td>NaT</td>\n",
       "      <td>NaT</td>\n",
       "      <td>2019-05-03 12:09:40</td>\n",
       "      <td>NaT</td>\n",
       "      <td>2019-05-03 12:09:40</td>\n",
       "      <td>2019-05-03 12:09:40</td>\n",
       "    </tr>\n",
       "  </tbody>\n",
       "</table>\n",
       "</div>"
      ],
      "text/plain": [
       "   key               Старт  Полная мощность       КПД  Длительность Bulk 1  \\\n",
       "0    1 2019-05-03 11:02:14         1.165279  0.837756        1098.0    NaT   \n",
       "1    2 2019-05-03 11:34:14         0.912304  0.840158         811.0    NaT   \n",
       "2    3 2019-05-03 12:06:54         0.597907  0.845421         655.0    NaT   \n",
       "\n",
       "  Bulk 2 Bulk 3              Bulk 4 Bulk 5 Bulk 6 Bulk 7 Bulk 8 Bulk 9  \\\n",
       "0    NaT    NaT 2019-05-03 11:21:30    NaT    NaT    NaT    NaT    NaT   \n",
       "1    NaT    NaT 2019-05-03 11:46:38    NaT    NaT    NaT    NaT    NaT   \n",
       "2    NaT    NaT 2019-05-03 12:31:06    NaT    NaT    NaT    NaT    NaT   \n",
       "\n",
       "  Bulk 10 Bulk 11             Bulk 12 Bulk 13             Bulk 14  \\\n",
       "0     NaT     NaT 2019-05-03 11:03:52     NaT 2019-05-03 11:03:52   \n",
       "1     NaT     NaT 2019-05-03 11:40:20     NaT 2019-05-03 11:40:20   \n",
       "2     NaT     NaT 2019-05-03 12:09:40     NaT 2019-05-03 12:09:40   \n",
       "\n",
       "              Bulk 15  \n",
       "0 2019-05-03 11:03:52  \n",
       "1 2019-05-03 11:40:20  \n",
       "2 2019-05-03 12:09:40  "
      ]
     },
     "execution_count": 318,
     "metadata": {},
     "output_type": "execute_result"
    }
   ],
   "source": [
    "df = data_arc.merge(data_bulk_time, on='key')\n",
    "df.head(3)"
   ]
  },
  {
   "attachments": {},
   "cell_type": "markdown",
   "metadata": {},
   "source": [
    "Заполняем пропуски датой старта."
   ]
  },
  {
   "cell_type": "code",
   "execution_count": 319,
   "metadata": {},
   "outputs": [],
   "source": [
    "for bulk in bulk_list:\n",
    "    df[bulk] = df[bulk].fillna(df['Старт'])"
   ]
  },
  {
   "cell_type": "code",
   "execution_count": 320,
   "metadata": {},
   "outputs": [
    {
     "data": {
      "text/html": [
       "<div>\n",
       "<style scoped>\n",
       "    .dataframe tbody tr th:only-of-type {\n",
       "        vertical-align: middle;\n",
       "    }\n",
       "\n",
       "    .dataframe tbody tr th {\n",
       "        vertical-align: top;\n",
       "    }\n",
       "\n",
       "    .dataframe thead th {\n",
       "        text-align: right;\n",
       "    }\n",
       "</style>\n",
       "<table border=\"1\" class=\"dataframe\">\n",
       "  <thead>\n",
       "    <tr style=\"text-align: right;\">\n",
       "      <th></th>\n",
       "      <th>key</th>\n",
       "      <th>Старт</th>\n",
       "      <th>Полная мощность</th>\n",
       "      <th>КПД</th>\n",
       "      <th>Длительность</th>\n",
       "      <th>Bulk 1</th>\n",
       "      <th>Bulk 2</th>\n",
       "      <th>Bulk 3</th>\n",
       "      <th>Bulk 4</th>\n",
       "      <th>Bulk 5</th>\n",
       "      <th>Bulk 6</th>\n",
       "      <th>Bulk 7</th>\n",
       "      <th>Bulk 8</th>\n",
       "      <th>Bulk 9</th>\n",
       "      <th>Bulk 10</th>\n",
       "      <th>Bulk 11</th>\n",
       "      <th>Bulk 12</th>\n",
       "      <th>Bulk 13</th>\n",
       "      <th>Bulk 14</th>\n",
       "      <th>Bulk 15</th>\n",
       "    </tr>\n",
       "  </thead>\n",
       "  <tbody>\n",
       "    <tr>\n",
       "      <th>0</th>\n",
       "      <td>1</td>\n",
       "      <td>2019-05-03 11:02:14</td>\n",
       "      <td>1.165279</td>\n",
       "      <td>0.837756</td>\n",
       "      <td>1098.0</td>\n",
       "      <td>2019-05-03 11:02:14</td>\n",
       "      <td>2019-05-03 11:02:14</td>\n",
       "      <td>2019-05-03 11:02:14</td>\n",
       "      <td>2019-05-03 11:21:30</td>\n",
       "      <td>2019-05-03 11:02:14</td>\n",
       "      <td>2019-05-03 11:02:14</td>\n",
       "      <td>2019-05-03 11:02:14</td>\n",
       "      <td>2019-05-03 11:02:14</td>\n",
       "      <td>2019-05-03 11:02:14</td>\n",
       "      <td>2019-05-03 11:02:14</td>\n",
       "      <td>2019-05-03 11:02:14</td>\n",
       "      <td>2019-05-03 11:03:52</td>\n",
       "      <td>2019-05-03 11:02:14</td>\n",
       "      <td>2019-05-03 11:03:52</td>\n",
       "      <td>2019-05-03 11:03:52</td>\n",
       "    </tr>\n",
       "    <tr>\n",
       "      <th>1</th>\n",
       "      <td>2</td>\n",
       "      <td>2019-05-03 11:34:14</td>\n",
       "      <td>0.912304</td>\n",
       "      <td>0.840158</td>\n",
       "      <td>811.0</td>\n",
       "      <td>2019-05-03 11:34:14</td>\n",
       "      <td>2019-05-03 11:34:14</td>\n",
       "      <td>2019-05-03 11:34:14</td>\n",
       "      <td>2019-05-03 11:46:38</td>\n",
       "      <td>2019-05-03 11:34:14</td>\n",
       "      <td>2019-05-03 11:34:14</td>\n",
       "      <td>2019-05-03 11:34:14</td>\n",
       "      <td>2019-05-03 11:34:14</td>\n",
       "      <td>2019-05-03 11:34:14</td>\n",
       "      <td>2019-05-03 11:34:14</td>\n",
       "      <td>2019-05-03 11:34:14</td>\n",
       "      <td>2019-05-03 11:40:20</td>\n",
       "      <td>2019-05-03 11:34:14</td>\n",
       "      <td>2019-05-03 11:40:20</td>\n",
       "      <td>2019-05-03 11:40:20</td>\n",
       "    </tr>\n",
       "    <tr>\n",
       "      <th>2</th>\n",
       "      <td>3</td>\n",
       "      <td>2019-05-03 12:06:54</td>\n",
       "      <td>0.597907</td>\n",
       "      <td>0.845421</td>\n",
       "      <td>655.0</td>\n",
       "      <td>2019-05-03 12:06:54</td>\n",
       "      <td>2019-05-03 12:06:54</td>\n",
       "      <td>2019-05-03 12:06:54</td>\n",
       "      <td>2019-05-03 12:31:06</td>\n",
       "      <td>2019-05-03 12:06:54</td>\n",
       "      <td>2019-05-03 12:06:54</td>\n",
       "      <td>2019-05-03 12:06:54</td>\n",
       "      <td>2019-05-03 12:06:54</td>\n",
       "      <td>2019-05-03 12:06:54</td>\n",
       "      <td>2019-05-03 12:06:54</td>\n",
       "      <td>2019-05-03 12:06:54</td>\n",
       "      <td>2019-05-03 12:09:40</td>\n",
       "      <td>2019-05-03 12:06:54</td>\n",
       "      <td>2019-05-03 12:09:40</td>\n",
       "      <td>2019-05-03 12:09:40</td>\n",
       "    </tr>\n",
       "  </tbody>\n",
       "</table>\n",
       "</div>"
      ],
      "text/plain": [
       "   key               Старт  Полная мощность       КПД  Длительность  \\\n",
       "0    1 2019-05-03 11:02:14         1.165279  0.837756        1098.0   \n",
       "1    2 2019-05-03 11:34:14         0.912304  0.840158         811.0   \n",
       "2    3 2019-05-03 12:06:54         0.597907  0.845421         655.0   \n",
       "\n",
       "               Bulk 1              Bulk 2              Bulk 3  \\\n",
       "0 2019-05-03 11:02:14 2019-05-03 11:02:14 2019-05-03 11:02:14   \n",
       "1 2019-05-03 11:34:14 2019-05-03 11:34:14 2019-05-03 11:34:14   \n",
       "2 2019-05-03 12:06:54 2019-05-03 12:06:54 2019-05-03 12:06:54   \n",
       "\n",
       "               Bulk 4              Bulk 5              Bulk 6  \\\n",
       "0 2019-05-03 11:21:30 2019-05-03 11:02:14 2019-05-03 11:02:14   \n",
       "1 2019-05-03 11:46:38 2019-05-03 11:34:14 2019-05-03 11:34:14   \n",
       "2 2019-05-03 12:31:06 2019-05-03 12:06:54 2019-05-03 12:06:54   \n",
       "\n",
       "               Bulk 7              Bulk 8              Bulk 9  \\\n",
       "0 2019-05-03 11:02:14 2019-05-03 11:02:14 2019-05-03 11:02:14   \n",
       "1 2019-05-03 11:34:14 2019-05-03 11:34:14 2019-05-03 11:34:14   \n",
       "2 2019-05-03 12:06:54 2019-05-03 12:06:54 2019-05-03 12:06:54   \n",
       "\n",
       "              Bulk 10             Bulk 11             Bulk 12  \\\n",
       "0 2019-05-03 11:02:14 2019-05-03 11:02:14 2019-05-03 11:03:52   \n",
       "1 2019-05-03 11:34:14 2019-05-03 11:34:14 2019-05-03 11:40:20   \n",
       "2 2019-05-03 12:06:54 2019-05-03 12:06:54 2019-05-03 12:09:40   \n",
       "\n",
       "              Bulk 13             Bulk 14             Bulk 15  \n",
       "0 2019-05-03 11:02:14 2019-05-03 11:03:52 2019-05-03 11:03:52  \n",
       "1 2019-05-03 11:34:14 2019-05-03 11:40:20 2019-05-03 11:40:20  \n",
       "2 2019-05-03 12:06:54 2019-05-03 12:09:40 2019-05-03 12:09:40  "
      ]
     },
     "execution_count": 320,
     "metadata": {},
     "output_type": "execute_result"
    }
   ],
   "source": [
    "df.head(3)"
   ]
  },
  {
   "attachments": {},
   "cell_type": "markdown",
   "metadata": {},
   "source": [
    "Вычитаем из даты добавления компонента дату старта, переводим в секунды. Мы получили новые признаки."
   ]
  },
  {
   "cell_type": "code",
   "execution_count": 321,
   "metadata": {},
   "outputs": [],
   "source": [
    "for bulk in bulk_list:\n",
    "    df[bulk] =  (df[bulk] - df['Старт']).astype('timedelta64[s]')"
   ]
  },
  {
   "cell_type": "code",
   "execution_count": 322,
   "metadata": {},
   "outputs": [
    {
     "data": {
      "text/html": [
       "<div>\n",
       "<style scoped>\n",
       "    .dataframe tbody tr th:only-of-type {\n",
       "        vertical-align: middle;\n",
       "    }\n",
       "\n",
       "    .dataframe tbody tr th {\n",
       "        vertical-align: top;\n",
       "    }\n",
       "\n",
       "    .dataframe thead th {\n",
       "        text-align: right;\n",
       "    }\n",
       "</style>\n",
       "<table border=\"1\" class=\"dataframe\">\n",
       "  <thead>\n",
       "    <tr style=\"text-align: right;\">\n",
       "      <th></th>\n",
       "      <th>key</th>\n",
       "      <th>Старт</th>\n",
       "      <th>Полная мощность</th>\n",
       "      <th>КПД</th>\n",
       "      <th>Длительность</th>\n",
       "      <th>Bulk 1</th>\n",
       "      <th>Bulk 2</th>\n",
       "      <th>Bulk 3</th>\n",
       "      <th>Bulk 4</th>\n",
       "      <th>Bulk 5</th>\n",
       "      <th>Bulk 6</th>\n",
       "      <th>Bulk 7</th>\n",
       "      <th>Bulk 8</th>\n",
       "      <th>Bulk 9</th>\n",
       "      <th>Bulk 10</th>\n",
       "      <th>Bulk 11</th>\n",
       "      <th>Bulk 12</th>\n",
       "      <th>Bulk 13</th>\n",
       "      <th>Bulk 14</th>\n",
       "      <th>Bulk 15</th>\n",
       "    </tr>\n",
       "  </thead>\n",
       "  <tbody>\n",
       "    <tr>\n",
       "      <th>0</th>\n",
       "      <td>1</td>\n",
       "      <td>2019-05-03 11:02:14</td>\n",
       "      <td>1.165279</td>\n",
       "      <td>0.837756</td>\n",
       "      <td>1098.0</td>\n",
       "      <td>0.0</td>\n",
       "      <td>0.0</td>\n",
       "      <td>0.0</td>\n",
       "      <td>1156.0</td>\n",
       "      <td>0.0</td>\n",
       "      <td>0.0</td>\n",
       "      <td>0.0</td>\n",
       "      <td>0.0</td>\n",
       "      <td>0.0</td>\n",
       "      <td>0.0</td>\n",
       "      <td>0.0</td>\n",
       "      <td>98.0</td>\n",
       "      <td>0.0</td>\n",
       "      <td>98.0</td>\n",
       "      <td>98.0</td>\n",
       "    </tr>\n",
       "    <tr>\n",
       "      <th>1</th>\n",
       "      <td>2</td>\n",
       "      <td>2019-05-03 11:34:14</td>\n",
       "      <td>0.912304</td>\n",
       "      <td>0.840158</td>\n",
       "      <td>811.0</td>\n",
       "      <td>0.0</td>\n",
       "      <td>0.0</td>\n",
       "      <td>0.0</td>\n",
       "      <td>744.0</td>\n",
       "      <td>0.0</td>\n",
       "      <td>0.0</td>\n",
       "      <td>0.0</td>\n",
       "      <td>0.0</td>\n",
       "      <td>0.0</td>\n",
       "      <td>0.0</td>\n",
       "      <td>0.0</td>\n",
       "      <td>366.0</td>\n",
       "      <td>0.0</td>\n",
       "      <td>366.0</td>\n",
       "      <td>366.0</td>\n",
       "    </tr>\n",
       "    <tr>\n",
       "      <th>2</th>\n",
       "      <td>3</td>\n",
       "      <td>2019-05-03 12:06:54</td>\n",
       "      <td>0.597907</td>\n",
       "      <td>0.845421</td>\n",
       "      <td>655.0</td>\n",
       "      <td>0.0</td>\n",
       "      <td>0.0</td>\n",
       "      <td>0.0</td>\n",
       "      <td>1452.0</td>\n",
       "      <td>0.0</td>\n",
       "      <td>0.0</td>\n",
       "      <td>0.0</td>\n",
       "      <td>0.0</td>\n",
       "      <td>0.0</td>\n",
       "      <td>0.0</td>\n",
       "      <td>0.0</td>\n",
       "      <td>166.0</td>\n",
       "      <td>0.0</td>\n",
       "      <td>166.0</td>\n",
       "      <td>166.0</td>\n",
       "    </tr>\n",
       "    <tr>\n",
       "      <th>3</th>\n",
       "      <td>4</td>\n",
       "      <td>2019-05-03 12:39:37</td>\n",
       "      <td>0.953741</td>\n",
       "      <td>0.841682</td>\n",
       "      <td>741.0</td>\n",
       "      <td>0.0</td>\n",
       "      <td>0.0</td>\n",
       "      <td>0.0</td>\n",
       "      <td>546.0</td>\n",
       "      <td>0.0</td>\n",
       "      <td>0.0</td>\n",
       "      <td>0.0</td>\n",
       "      <td>0.0</td>\n",
       "      <td>0.0</td>\n",
       "      <td>0.0</td>\n",
       "      <td>0.0</td>\n",
       "      <td>107.0</td>\n",
       "      <td>0.0</td>\n",
       "      <td>107.0</td>\n",
       "      <td>107.0</td>\n",
       "    </tr>\n",
       "    <tr>\n",
       "      <th>4</th>\n",
       "      <td>5</td>\n",
       "      <td>2019-05-03 13:11:13</td>\n",
       "      <td>1.008939</td>\n",
       "      <td>0.828104</td>\n",
       "      <td>869.0</td>\n",
       "      <td>0.0</td>\n",
       "      <td>0.0</td>\n",
       "      <td>0.0</td>\n",
       "      <td>457.0</td>\n",
       "      <td>0.0</td>\n",
       "      <td>0.0</td>\n",
       "      <td>0.0</td>\n",
       "      <td>0.0</td>\n",
       "      <td>0.0</td>\n",
       "      <td>0.0</td>\n",
       "      <td>0.0</td>\n",
       "      <td>103.0</td>\n",
       "      <td>0.0</td>\n",
       "      <td>103.0</td>\n",
       "      <td>103.0</td>\n",
       "    </tr>\n",
       "  </tbody>\n",
       "</table>\n",
       "</div>"
      ],
      "text/plain": [
       "   key               Старт  Полная мощность       КПД  Длительность  Bulk 1  \\\n",
       "0    1 2019-05-03 11:02:14         1.165279  0.837756        1098.0     0.0   \n",
       "1    2 2019-05-03 11:34:14         0.912304  0.840158         811.0     0.0   \n",
       "2    3 2019-05-03 12:06:54         0.597907  0.845421         655.0     0.0   \n",
       "3    4 2019-05-03 12:39:37         0.953741  0.841682         741.0     0.0   \n",
       "4    5 2019-05-03 13:11:13         1.008939  0.828104         869.0     0.0   \n",
       "\n",
       "   Bulk 2  Bulk 3  Bulk 4  Bulk 5  Bulk 6  Bulk 7  Bulk 8  Bulk 9  Bulk 10  \\\n",
       "0     0.0     0.0  1156.0     0.0     0.0     0.0     0.0     0.0      0.0   \n",
       "1     0.0     0.0   744.0     0.0     0.0     0.0     0.0     0.0      0.0   \n",
       "2     0.0     0.0  1452.0     0.0     0.0     0.0     0.0     0.0      0.0   \n",
       "3     0.0     0.0   546.0     0.0     0.0     0.0     0.0     0.0      0.0   \n",
       "4     0.0     0.0   457.0     0.0     0.0     0.0     0.0     0.0      0.0   \n",
       "\n",
       "   Bulk 11  Bulk 12  Bulk 13  Bulk 14  Bulk 15  \n",
       "0      0.0     98.0      0.0     98.0     98.0  \n",
       "1      0.0    366.0      0.0    366.0    366.0  \n",
       "2      0.0    166.0      0.0    166.0    166.0  \n",
       "3      0.0    107.0      0.0    107.0    107.0  \n",
       "4      0.0    103.0      0.0    103.0    103.0  "
      ]
     },
     "execution_count": 322,
     "metadata": {},
     "output_type": "execute_result"
    }
   ],
   "source": [
    "df.head()"
   ]
  },
  {
   "attachments": {},
   "cell_type": "markdown",
   "metadata": {},
   "source": [
    "Добавим к датасету данные о сыпучих материалах."
   ]
  },
  {
   "cell_type": "code",
   "execution_count": 323,
   "metadata": {},
   "outputs": [],
   "source": [
    "# df = df.join(data_bulk.set_index('key'), how='inner', rsuffix='_y', on='key')"
   ]
  },
  {
   "cell_type": "code",
   "execution_count": 324,
   "metadata": {},
   "outputs": [],
   "source": [
    "df = df.merge(data_bulk, on='key')"
   ]
  },
  {
   "cell_type": "code",
   "execution_count": 325,
   "metadata": {},
   "outputs": [
    {
     "data": {
      "text/html": [
       "<div>\n",
       "<style scoped>\n",
       "    .dataframe tbody tr th:only-of-type {\n",
       "        vertical-align: middle;\n",
       "    }\n",
       "\n",
       "    .dataframe tbody tr th {\n",
       "        vertical-align: top;\n",
       "    }\n",
       "\n",
       "    .dataframe thead th {\n",
       "        text-align: right;\n",
       "    }\n",
       "</style>\n",
       "<table border=\"1\" class=\"dataframe\">\n",
       "  <thead>\n",
       "    <tr style=\"text-align: right;\">\n",
       "      <th></th>\n",
       "      <th>key</th>\n",
       "      <th>Старт</th>\n",
       "      <th>Полная мощность</th>\n",
       "      <th>КПД</th>\n",
       "      <th>Длительность</th>\n",
       "      <th>Bulk 1_x</th>\n",
       "      <th>Bulk 2_x</th>\n",
       "      <th>Bulk 3_x</th>\n",
       "      <th>Bulk 4_x</th>\n",
       "      <th>Bulk 5_x</th>\n",
       "      <th>...</th>\n",
       "      <th>Bulk 6_y</th>\n",
       "      <th>Bulk 7_y</th>\n",
       "      <th>Bulk 8_y</th>\n",
       "      <th>Bulk 9_y</th>\n",
       "      <th>Bulk 10_y</th>\n",
       "      <th>Bulk 11_y</th>\n",
       "      <th>Bulk 12_y</th>\n",
       "      <th>Bulk 13_y</th>\n",
       "      <th>Bulk 14_y</th>\n",
       "      <th>Bulk 15_y</th>\n",
       "    </tr>\n",
       "  </thead>\n",
       "  <tbody>\n",
       "    <tr>\n",
       "      <th>0</th>\n",
       "      <td>1</td>\n",
       "      <td>2019-05-03 11:02:14</td>\n",
       "      <td>1.165279</td>\n",
       "      <td>0.837756</td>\n",
       "      <td>1098.0</td>\n",
       "      <td>0.0</td>\n",
       "      <td>0.0</td>\n",
       "      <td>0.0</td>\n",
       "      <td>1156.0</td>\n",
       "      <td>0.0</td>\n",
       "      <td>...</td>\n",
       "      <td>0.0</td>\n",
       "      <td>0.0</td>\n",
       "      <td>0.0</td>\n",
       "      <td>0.0</td>\n",
       "      <td>0.0</td>\n",
       "      <td>0.0</td>\n",
       "      <td>206.0</td>\n",
       "      <td>0.0</td>\n",
       "      <td>150.0</td>\n",
       "      <td>154.0</td>\n",
       "    </tr>\n",
       "    <tr>\n",
       "      <th>1</th>\n",
       "      <td>2</td>\n",
       "      <td>2019-05-03 11:34:14</td>\n",
       "      <td>0.912304</td>\n",
       "      <td>0.840158</td>\n",
       "      <td>811.0</td>\n",
       "      <td>0.0</td>\n",
       "      <td>0.0</td>\n",
       "      <td>0.0</td>\n",
       "      <td>744.0</td>\n",
       "      <td>0.0</td>\n",
       "      <td>...</td>\n",
       "      <td>0.0</td>\n",
       "      <td>0.0</td>\n",
       "      <td>0.0</td>\n",
       "      <td>0.0</td>\n",
       "      <td>0.0</td>\n",
       "      <td>0.0</td>\n",
       "      <td>206.0</td>\n",
       "      <td>0.0</td>\n",
       "      <td>149.0</td>\n",
       "      <td>154.0</td>\n",
       "    </tr>\n",
       "    <tr>\n",
       "      <th>2</th>\n",
       "      <td>3</td>\n",
       "      <td>2019-05-03 12:06:54</td>\n",
       "      <td>0.597907</td>\n",
       "      <td>0.845421</td>\n",
       "      <td>655.0</td>\n",
       "      <td>0.0</td>\n",
       "      <td>0.0</td>\n",
       "      <td>0.0</td>\n",
       "      <td>1452.0</td>\n",
       "      <td>0.0</td>\n",
       "      <td>...</td>\n",
       "      <td>0.0</td>\n",
       "      <td>0.0</td>\n",
       "      <td>0.0</td>\n",
       "      <td>0.0</td>\n",
       "      <td>0.0</td>\n",
       "      <td>0.0</td>\n",
       "      <td>205.0</td>\n",
       "      <td>0.0</td>\n",
       "      <td>152.0</td>\n",
       "      <td>153.0</td>\n",
       "    </tr>\n",
       "    <tr>\n",
       "      <th>3</th>\n",
       "      <td>4</td>\n",
       "      <td>2019-05-03 12:39:37</td>\n",
       "      <td>0.953741</td>\n",
       "      <td>0.841682</td>\n",
       "      <td>741.0</td>\n",
       "      <td>0.0</td>\n",
       "      <td>0.0</td>\n",
       "      <td>0.0</td>\n",
       "      <td>546.0</td>\n",
       "      <td>0.0</td>\n",
       "      <td>...</td>\n",
       "      <td>0.0</td>\n",
       "      <td>0.0</td>\n",
       "      <td>0.0</td>\n",
       "      <td>0.0</td>\n",
       "      <td>0.0</td>\n",
       "      <td>0.0</td>\n",
       "      <td>207.0</td>\n",
       "      <td>0.0</td>\n",
       "      <td>153.0</td>\n",
       "      <td>154.0</td>\n",
       "    </tr>\n",
       "    <tr>\n",
       "      <th>4</th>\n",
       "      <td>5</td>\n",
       "      <td>2019-05-03 13:11:13</td>\n",
       "      <td>1.008939</td>\n",
       "      <td>0.828104</td>\n",
       "      <td>869.0</td>\n",
       "      <td>0.0</td>\n",
       "      <td>0.0</td>\n",
       "      <td>0.0</td>\n",
       "      <td>457.0</td>\n",
       "      <td>0.0</td>\n",
       "      <td>...</td>\n",
       "      <td>0.0</td>\n",
       "      <td>0.0</td>\n",
       "      <td>0.0</td>\n",
       "      <td>0.0</td>\n",
       "      <td>0.0</td>\n",
       "      <td>0.0</td>\n",
       "      <td>203.0</td>\n",
       "      <td>0.0</td>\n",
       "      <td>151.0</td>\n",
       "      <td>152.0</td>\n",
       "    </tr>\n",
       "    <tr>\n",
       "      <th>...</th>\n",
       "      <td>...</td>\n",
       "      <td>...</td>\n",
       "      <td>...</td>\n",
       "      <td>...</td>\n",
       "      <td>...</td>\n",
       "      <td>...</td>\n",
       "      <td>...</td>\n",
       "      <td>...</td>\n",
       "      <td>...</td>\n",
       "      <td>...</td>\n",
       "      <td>...</td>\n",
       "      <td>...</td>\n",
       "      <td>...</td>\n",
       "      <td>...</td>\n",
       "      <td>...</td>\n",
       "      <td>...</td>\n",
       "      <td>...</td>\n",
       "      <td>...</td>\n",
       "      <td>...</td>\n",
       "      <td>...</td>\n",
       "      <td>...</td>\n",
       "    </tr>\n",
       "    <tr>\n",
       "      <th>3122</th>\n",
       "      <td>3237</td>\n",
       "      <td>2019-08-31 22:41:18</td>\n",
       "      <td>0.968996</td>\n",
       "      <td>0.809908</td>\n",
       "      <td>909.0</td>\n",
       "      <td>0.0</td>\n",
       "      <td>0.0</td>\n",
       "      <td>610.0</td>\n",
       "      <td>0.0</td>\n",
       "      <td>0.0</td>\n",
       "      <td>...</td>\n",
       "      <td>0.0</td>\n",
       "      <td>0.0</td>\n",
       "      <td>0.0</td>\n",
       "      <td>0.0</td>\n",
       "      <td>0.0</td>\n",
       "      <td>0.0</td>\n",
       "      <td>252.0</td>\n",
       "      <td>0.0</td>\n",
       "      <td>130.0</td>\n",
       "      <td>206.0</td>\n",
       "    </tr>\n",
       "    <tr>\n",
       "      <th>3123</th>\n",
       "      <td>3238</td>\n",
       "      <td>2019-08-31 23:26:18</td>\n",
       "      <td>0.898847</td>\n",
       "      <td>0.781519</td>\n",
       "      <td>546.0</td>\n",
       "      <td>0.0</td>\n",
       "      <td>0.0</td>\n",
       "      <td>773.0</td>\n",
       "      <td>0.0</td>\n",
       "      <td>0.0</td>\n",
       "      <td>...</td>\n",
       "      <td>0.0</td>\n",
       "      <td>0.0</td>\n",
       "      <td>0.0</td>\n",
       "      <td>0.0</td>\n",
       "      <td>0.0</td>\n",
       "      <td>0.0</td>\n",
       "      <td>254.0</td>\n",
       "      <td>0.0</td>\n",
       "      <td>108.0</td>\n",
       "      <td>106.0</td>\n",
       "    </tr>\n",
       "    <tr>\n",
       "      <th>3124</th>\n",
       "      <td>3239</td>\n",
       "      <td>2019-09-01 01:26:53</td>\n",
       "      <td>0.701485</td>\n",
       "      <td>0.830510</td>\n",
       "      <td>1216.0</td>\n",
       "      <td>0.0</td>\n",
       "      <td>0.0</td>\n",
       "      <td>0.0</td>\n",
       "      <td>0.0</td>\n",
       "      <td>0.0</td>\n",
       "      <td>...</td>\n",
       "      <td>114.0</td>\n",
       "      <td>0.0</td>\n",
       "      <td>0.0</td>\n",
       "      <td>0.0</td>\n",
       "      <td>0.0</td>\n",
       "      <td>0.0</td>\n",
       "      <td>158.0</td>\n",
       "      <td>0.0</td>\n",
       "      <td>270.0</td>\n",
       "      <td>88.0</td>\n",
       "    </tr>\n",
       "    <tr>\n",
       "      <th>3125</th>\n",
       "      <td>3240</td>\n",
       "      <td>2019-09-01 02:35:24</td>\n",
       "      <td>0.778371</td>\n",
       "      <td>0.776241</td>\n",
       "      <td>839.0</td>\n",
       "      <td>0.0</td>\n",
       "      <td>0.0</td>\n",
       "      <td>0.0</td>\n",
       "      <td>0.0</td>\n",
       "      <td>0.0</td>\n",
       "      <td>...</td>\n",
       "      <td>26.0</td>\n",
       "      <td>0.0</td>\n",
       "      <td>0.0</td>\n",
       "      <td>0.0</td>\n",
       "      <td>0.0</td>\n",
       "      <td>0.0</td>\n",
       "      <td>0.0</td>\n",
       "      <td>0.0</td>\n",
       "      <td>192.0</td>\n",
       "      <td>54.0</td>\n",
       "    </tr>\n",
       "    <tr>\n",
       "      <th>3126</th>\n",
       "      <td>3241</td>\n",
       "      <td>2019-09-01 03:58:58</td>\n",
       "      <td>0.599903</td>\n",
       "      <td>0.827816</td>\n",
       "      <td>659.0</td>\n",
       "      <td>0.0</td>\n",
       "      <td>0.0</td>\n",
       "      <td>0.0</td>\n",
       "      <td>0.0</td>\n",
       "      <td>0.0</td>\n",
       "      <td>...</td>\n",
       "      <td>0.0</td>\n",
       "      <td>0.0</td>\n",
       "      <td>0.0</td>\n",
       "      <td>0.0</td>\n",
       "      <td>0.0</td>\n",
       "      <td>0.0</td>\n",
       "      <td>0.0</td>\n",
       "      <td>0.0</td>\n",
       "      <td>180.0</td>\n",
       "      <td>52.0</td>\n",
       "    </tr>\n",
       "  </tbody>\n",
       "</table>\n",
       "<p>3127 rows × 35 columns</p>\n",
       "</div>"
      ],
      "text/plain": [
       "       key               Старт  Полная мощность       КПД  Длительность  \\\n",
       "0        1 2019-05-03 11:02:14         1.165279  0.837756        1098.0   \n",
       "1        2 2019-05-03 11:34:14         0.912304  0.840158         811.0   \n",
       "2        3 2019-05-03 12:06:54         0.597907  0.845421         655.0   \n",
       "3        4 2019-05-03 12:39:37         0.953741  0.841682         741.0   \n",
       "4        5 2019-05-03 13:11:13         1.008939  0.828104         869.0   \n",
       "...    ...                 ...              ...       ...           ...   \n",
       "3122  3237 2019-08-31 22:41:18         0.968996  0.809908         909.0   \n",
       "3123  3238 2019-08-31 23:26:18         0.898847  0.781519         546.0   \n",
       "3124  3239 2019-09-01 01:26:53         0.701485  0.830510        1216.0   \n",
       "3125  3240 2019-09-01 02:35:24         0.778371  0.776241         839.0   \n",
       "3126  3241 2019-09-01 03:58:58         0.599903  0.827816         659.0   \n",
       "\n",
       "      Bulk 1_x  Bulk 2_x  Bulk 3_x  Bulk 4_x  Bulk 5_x  ...  Bulk 6_y  \\\n",
       "0          0.0       0.0       0.0    1156.0       0.0  ...       0.0   \n",
       "1          0.0       0.0       0.0     744.0       0.0  ...       0.0   \n",
       "2          0.0       0.0       0.0    1452.0       0.0  ...       0.0   \n",
       "3          0.0       0.0       0.0     546.0       0.0  ...       0.0   \n",
       "4          0.0       0.0       0.0     457.0       0.0  ...       0.0   \n",
       "...        ...       ...       ...       ...       ...  ...       ...   \n",
       "3122       0.0       0.0     610.0       0.0       0.0  ...       0.0   \n",
       "3123       0.0       0.0     773.0       0.0       0.0  ...       0.0   \n",
       "3124       0.0       0.0       0.0       0.0       0.0  ...     114.0   \n",
       "3125       0.0       0.0       0.0       0.0       0.0  ...      26.0   \n",
       "3126       0.0       0.0       0.0       0.0       0.0  ...       0.0   \n",
       "\n",
       "      Bulk 7_y  Bulk 8_y  Bulk 9_y  Bulk 10_y  Bulk 11_y  Bulk 12_y  \\\n",
       "0          0.0       0.0       0.0        0.0        0.0      206.0   \n",
       "1          0.0       0.0       0.0        0.0        0.0      206.0   \n",
       "2          0.0       0.0       0.0        0.0        0.0      205.0   \n",
       "3          0.0       0.0       0.0        0.0        0.0      207.0   \n",
       "4          0.0       0.0       0.0        0.0        0.0      203.0   \n",
       "...        ...       ...       ...        ...        ...        ...   \n",
       "3122       0.0       0.0       0.0        0.0        0.0      252.0   \n",
       "3123       0.0       0.0       0.0        0.0        0.0      254.0   \n",
       "3124       0.0       0.0       0.0        0.0        0.0      158.0   \n",
       "3125       0.0       0.0       0.0        0.0        0.0        0.0   \n",
       "3126       0.0       0.0       0.0        0.0        0.0        0.0   \n",
       "\n",
       "      Bulk 13_y  Bulk 14_y  Bulk 15_y  \n",
       "0           0.0      150.0      154.0  \n",
       "1           0.0      149.0      154.0  \n",
       "2           0.0      152.0      153.0  \n",
       "3           0.0      153.0      154.0  \n",
       "4           0.0      151.0      152.0  \n",
       "...         ...        ...        ...  \n",
       "3122        0.0      130.0      206.0  \n",
       "3123        0.0      108.0      106.0  \n",
       "3124        0.0      270.0       88.0  \n",
       "3125        0.0      192.0       54.0  \n",
       "3126        0.0      180.0       52.0  \n",
       "\n",
       "[3127 rows x 35 columns]"
      ]
     },
     "execution_count": 325,
     "metadata": {},
     "output_type": "execute_result"
    }
   ],
   "source": [
    "df"
   ]
  },
  {
   "attachments": {},
   "cell_type": "markdown",
   "metadata": {},
   "source": [
    "По принципу добавления данных о времени добавления сыпучих материалов, добавим время добавления проволоки, в секундах."
   ]
  },
  {
   "cell_type": "code",
   "execution_count": 326,
   "metadata": {},
   "outputs": [],
   "source": [
    "df = df.merge(data_wire_time, on='key')\n"
   ]
  },
  {
   "cell_type": "code",
   "execution_count": 327,
   "metadata": {},
   "outputs": [],
   "source": [
    "for wire in wire_list:\n",
    "    df[wire] = df[wire].fillna(df['Старт'])"
   ]
  },
  {
   "cell_type": "code",
   "execution_count": 328,
   "metadata": {},
   "outputs": [],
   "source": [
    "for wire in wire_list:\n",
    "    df[wire] =  (df[wire] - df['Старт']).astype('timedelta64[s]')"
   ]
  },
  {
   "attachments": {},
   "cell_type": "markdown",
   "metadata": {},
   "source": [
    "Добавим информацию о проводах."
   ]
  },
  {
   "cell_type": "code",
   "execution_count": 329,
   "metadata": {},
   "outputs": [],
   "source": [
    "df = df.merge(data_wire, on='key')"
   ]
  },
  {
   "attachments": {},
   "cell_type": "markdown",
   "metadata": {},
   "source": [
    "Добавляем информацию о подаче газа. Сцепляем таблицы по ключу `key`."
   ]
  },
  {
   "cell_type": "code",
   "execution_count": 330,
   "metadata": {},
   "outputs": [],
   "source": [
    "df = df.merge(data_gas, on='key')\n"
   ]
  },
  {
   "attachments": {},
   "cell_type": "markdown",
   "metadata": {},
   "source": [
    "Поработаем с данными в датасете температуры."
   ]
  },
  {
   "cell_type": "code",
   "execution_count": 331,
   "metadata": {},
   "outputs": [],
   "source": [
    "df = df.merge(data_temp, on='key')"
   ]
  },
  {
   "attachments": {},
   "cell_type": "markdown",
   "metadata": {},
   "source": [
    "Для времени применим такое правило: \n",
    "\n",
    "- Время первого замера - это время от начала подогрева электродом,\n",
    "- Время последнего замера - разница между временем первого замера и последнего замера.\n",
    "\n",
    "Сначала преобразуем Время последнего замера."
   ]
  },
  {
   "cell_type": "code",
   "execution_count": 332,
   "metadata": {},
   "outputs": [],
   "source": [
    "df['Время последнего замера'] = (df['Время последнего замера'] - df['Время первого замера']).astype('timedelta64[s]')"
   ]
  },
  {
   "attachments": {},
   "cell_type": "markdown",
   "metadata": {},
   "source": [
    "Находим значение для Времени первого замера и удаляем дату старта и ключ."
   ]
  },
  {
   "cell_type": "code",
   "execution_count": 333,
   "metadata": {},
   "outputs": [],
   "source": [
    "df['Время первого замера'] = (df['Время первого замера'] - df['Старт']).astype('timedelta64[s]')\n",
    "df.drop(columns= ['key', 'Старт'], inplace= True)"
   ]
  },
  {
   "cell_type": "code",
   "execution_count": 334,
   "metadata": {},
   "outputs": [
    {
     "data": {
      "text/html": [
       "<div>\n",
       "<style scoped>\n",
       "    .dataframe tbody tr th:only-of-type {\n",
       "        vertical-align: middle;\n",
       "    }\n",
       "\n",
       "    .dataframe tbody tr th {\n",
       "        vertical-align: top;\n",
       "    }\n",
       "\n",
       "    .dataframe thead th {\n",
       "        text-align: right;\n",
       "    }\n",
       "</style>\n",
       "<table border=\"1\" class=\"dataframe\">\n",
       "  <thead>\n",
       "    <tr style=\"text-align: right;\">\n",
       "      <th></th>\n",
       "      <th>Полная мощность</th>\n",
       "      <th>КПД</th>\n",
       "      <th>Длительность</th>\n",
       "      <th>Bulk 1_x</th>\n",
       "      <th>Bulk 2_x</th>\n",
       "      <th>Bulk 3_x</th>\n",
       "      <th>Bulk 4_x</th>\n",
       "      <th>Bulk 5_x</th>\n",
       "      <th>Bulk 6_x</th>\n",
       "      <th>Bulk 7_x</th>\n",
       "      <th>...</th>\n",
       "      <th>Wire 5_y</th>\n",
       "      <th>Wire 6_y</th>\n",
       "      <th>Wire 7_y</th>\n",
       "      <th>Wire 8_y</th>\n",
       "      <th>Wire 9_y</th>\n",
       "      <th>Газ 1</th>\n",
       "      <th>Время первого замера</th>\n",
       "      <th>Время последнего замера</th>\n",
       "      <th>Температура первого замера</th>\n",
       "      <th>Температура целевая</th>\n",
       "    </tr>\n",
       "  </thead>\n",
       "  <tbody>\n",
       "    <tr>\n",
       "      <th>0</th>\n",
       "      <td>1.165279</td>\n",
       "      <td>0.837756</td>\n",
       "      <td>1098.0</td>\n",
       "      <td>0.0</td>\n",
       "      <td>0.0</td>\n",
       "      <td>0.0</td>\n",
       "      <td>1156.0</td>\n",
       "      <td>0.0</td>\n",
       "      <td>0.0</td>\n",
       "      <td>0.0</td>\n",
       "      <td>...</td>\n",
       "      <td>0.0</td>\n",
       "      <td>0.0</td>\n",
       "      <td>0.0</td>\n",
       "      <td>0.0</td>\n",
       "      <td>0.0</td>\n",
       "      <td>29.749986</td>\n",
       "      <td>844.0</td>\n",
       "      <td>861.0</td>\n",
       "      <td>1571.0</td>\n",
       "      <td>1613.0</td>\n",
       "    </tr>\n",
       "    <tr>\n",
       "      <th>1</th>\n",
       "      <td>0.912304</td>\n",
       "      <td>0.840158</td>\n",
       "      <td>811.0</td>\n",
       "      <td>0.0</td>\n",
       "      <td>0.0</td>\n",
       "      <td>0.0</td>\n",
       "      <td>744.0</td>\n",
       "      <td>0.0</td>\n",
       "      <td>0.0</td>\n",
       "      <td>0.0</td>\n",
       "      <td>...</td>\n",
       "      <td>0.0</td>\n",
       "      <td>0.0</td>\n",
       "      <td>0.0</td>\n",
       "      <td>0.0</td>\n",
       "      <td>0.0</td>\n",
       "      <td>12.555561</td>\n",
       "      <td>193.0</td>\n",
       "      <td>1305.0</td>\n",
       "      <td>1581.0</td>\n",
       "      <td>1602.0</td>\n",
       "    </tr>\n",
       "    <tr>\n",
       "      <th>2</th>\n",
       "      <td>0.597907</td>\n",
       "      <td>0.845421</td>\n",
       "      <td>655.0</td>\n",
       "      <td>0.0</td>\n",
       "      <td>0.0</td>\n",
       "      <td>0.0</td>\n",
       "      <td>1452.0</td>\n",
       "      <td>0.0</td>\n",
       "      <td>0.0</td>\n",
       "      <td>0.0</td>\n",
       "      <td>...</td>\n",
       "      <td>0.0</td>\n",
       "      <td>0.0</td>\n",
       "      <td>0.0</td>\n",
       "      <td>0.0</td>\n",
       "      <td>0.0</td>\n",
       "      <td>28.554793</td>\n",
       "      <td>383.0</td>\n",
       "      <td>1300.0</td>\n",
       "      <td>1596.0</td>\n",
       "      <td>1599.0</td>\n",
       "    </tr>\n",
       "  </tbody>\n",
       "</table>\n",
       "<p>3 rows × 56 columns</p>\n",
       "</div>"
      ],
      "text/plain": [
       "   Полная мощность       КПД  Длительность  Bulk 1_x  Bulk 2_x  Bulk 3_x  \\\n",
       "0         1.165279  0.837756        1098.0       0.0       0.0       0.0   \n",
       "1         0.912304  0.840158         811.0       0.0       0.0       0.0   \n",
       "2         0.597907  0.845421         655.0       0.0       0.0       0.0   \n",
       "\n",
       "   Bulk 4_x  Bulk 5_x  Bulk 6_x  Bulk 7_x  ...  Wire 5_y  Wire 6_y  Wire 7_y  \\\n",
       "0    1156.0       0.0       0.0       0.0  ...       0.0       0.0       0.0   \n",
       "1     744.0       0.0       0.0       0.0  ...       0.0       0.0       0.0   \n",
       "2    1452.0       0.0       0.0       0.0  ...       0.0       0.0       0.0   \n",
       "\n",
       "   Wire 8_y  Wire 9_y      Газ 1  Время первого замера  \\\n",
       "0       0.0       0.0  29.749986                 844.0   \n",
       "1       0.0       0.0  12.555561                 193.0   \n",
       "2       0.0       0.0  28.554793                 383.0   \n",
       "\n",
       "   Время последнего замера  Температура первого замера  Температура целевая  \n",
       "0                    861.0                      1571.0               1613.0  \n",
       "1                   1305.0                      1581.0               1602.0  \n",
       "2                   1300.0                      1596.0               1599.0  \n",
       "\n",
       "[3 rows x 56 columns]"
      ]
     },
     "execution_count": 334,
     "metadata": {},
     "output_type": "execute_result"
    }
   ],
   "source": [
    "df.head(3)"
   ]
  },
  {
   "cell_type": "code",
   "execution_count": 335,
   "metadata": {
    "scrolled": true
   },
   "outputs": [
    {
     "name": "stdout",
     "output_type": "stream",
     "text": [
      "<class 'pandas.core.frame.DataFrame'>\n",
      "Int64Index: 2324 entries, 0 to 2323\n",
      "Data columns (total 56 columns):\n",
      " #   Column                      Non-Null Count  Dtype  \n",
      "---  ------                      --------------  -----  \n",
      " 0   Полная мощность             2324 non-null   float64\n",
      " 1   КПД                         2324 non-null   float64\n",
      " 2   Длительность                2324 non-null   float64\n",
      " 3   Bulk 1_x                    2324 non-null   float64\n",
      " 4   Bulk 2_x                    2324 non-null   float64\n",
      " 5   Bulk 3_x                    2324 non-null   float64\n",
      " 6   Bulk 4_x                    2324 non-null   float64\n",
      " 7   Bulk 5_x                    2324 non-null   float64\n",
      " 8   Bulk 6_x                    2324 non-null   float64\n",
      " 9   Bulk 7_x                    2324 non-null   float64\n",
      " 10  Bulk 8_x                    2324 non-null   float64\n",
      " 11  Bulk 9_x                    2324 non-null   float64\n",
      " 12  Bulk 10_x                   2324 non-null   float64\n",
      " 13  Bulk 11_x                   2324 non-null   float64\n",
      " 14  Bulk 12_x                   2324 non-null   float64\n",
      " 15  Bulk 13_x                   2324 non-null   float64\n",
      " 16  Bulk 14_x                   2324 non-null   float64\n",
      " 17  Bulk 15_x                   2324 non-null   float64\n",
      " 18  Bulk 1_y                    2324 non-null   float64\n",
      " 19  Bulk 2_y                    2324 non-null   float64\n",
      " 20  Bulk 3_y                    2324 non-null   float64\n",
      " 21  Bulk 4_y                    2324 non-null   float64\n",
      " 22  Bulk 5_y                    2324 non-null   float64\n",
      " 23  Bulk 6_y                    2324 non-null   float64\n",
      " 24  Bulk 7_y                    2324 non-null   float64\n",
      " 25  Bulk 8_y                    2324 non-null   float64\n",
      " 26  Bulk 9_y                    2324 non-null   float64\n",
      " 27  Bulk 10_y                   2324 non-null   float64\n",
      " 28  Bulk 11_y                   2324 non-null   float64\n",
      " 29  Bulk 12_y                   2324 non-null   float64\n",
      " 30  Bulk 13_y                   2324 non-null   float64\n",
      " 31  Bulk 14_y                   2324 non-null   float64\n",
      " 32  Bulk 15_y                   2324 non-null   float64\n",
      " 33  Wire 1_x                    2324 non-null   float64\n",
      " 34  Wire 2_x                    2324 non-null   float64\n",
      " 35  Wire 3_x                    2324 non-null   float64\n",
      " 36  Wire 4_x                    2324 non-null   float64\n",
      " 37  Wire 5_x                    2324 non-null   float64\n",
      " 38  Wire 6_x                    2324 non-null   float64\n",
      " 39  Wire 7_x                    2324 non-null   float64\n",
      " 40  Wire 8_x                    2324 non-null   float64\n",
      " 41  Wire 9_x                    2324 non-null   float64\n",
      " 42  Wire 1_y                    2324 non-null   float64\n",
      " 43  Wire 2_y                    2324 non-null   float64\n",
      " 44  Wire 3_y                    2324 non-null   float64\n",
      " 45  Wire 4_y                    2324 non-null   float64\n",
      " 46  Wire 5_y                    2324 non-null   float64\n",
      " 47  Wire 6_y                    2324 non-null   float64\n",
      " 48  Wire 7_y                    2324 non-null   float64\n",
      " 49  Wire 8_y                    2324 non-null   float64\n",
      " 50  Wire 9_y                    2324 non-null   float64\n",
      " 51  Газ 1                       2324 non-null   float64\n",
      " 52  Время первого замера        2324 non-null   float64\n",
      " 53  Время последнего замера     2324 non-null   float64\n",
      " 54  Температура первого замера  2324 non-null   float64\n",
      " 55  Температура целевая         2324 non-null   float64\n",
      "dtypes: float64(56)\n",
      "memory usage: 1.0 MB\n"
     ]
    }
   ],
   "source": [
    "df.info()"
   ]
  },
  {
   "attachments": {},
   "cell_type": "markdown",
   "metadata": {},
   "source": [
    "### Обнаружение мультиколлинеарности: vif"
   ]
  },
  {
   "cell_type": "code",
   "execution_count": 336,
   "metadata": {
    "scrolled": true
   },
   "outputs": [],
   "source": [
    "#с помощью sns строим тепловую карту корреляций\n",
    "# df_plot = sns.heatmap(df.drop(columns= ['Температура целевая']).corr(), cmap=\"YlGnBu\", annot=False)"
   ]
  },
  {
   "attachments": {},
   "cell_type": "markdown",
   "metadata": {},
   "source": [
    "Проверим наши данные на мультиколлинеарность, используя коэффициент инфляции дисперсии."
   ]
  },
  {
   "cell_type": "code",
   "execution_count": 337,
   "metadata": {},
   "outputs": [
    {
     "name": "stdout",
     "output_type": "stream",
     "text": [
      "Bulk 8_x                               inf\n",
      "Bulk 8_y                               inf\n",
      "const                         2.943422e+04\n",
      "Bulk 9_x                      1.493914e+04\n",
      "Wire 8_x                      1.418187e+04\n",
      "Bulk 9_y                      8.424200e+02\n",
      "Wire 8_y                      6.709554e+02\n",
      "Bulk 2_x                      7.223952e+01\n",
      "Bulk 2_y                      6.092524e+01\n",
      "Bulk 7_x                      1.110749e+01\n",
      "Wire 3_x                      8.934455e+00\n",
      "Bulk 7_y                      7.796217e+00\n",
      "Wire 3_y                      6.160040e+00\n",
      "Длительность                  5.980939e+00\n",
      "Wire 4_x                      5.828240e+00\n",
      "Wire 4_y                      5.357958e+00\n",
      "Время последнего замера       4.409376e+00\n",
      "Bulk 12_x                     4.176373e+00\n",
      "Bulk 15_x                     4.054995e+00\n",
      "Температура первого замера    3.727376e+00\n",
      "Wire 9_x                      3.679373e+00\n",
      "Wire 9_y                      3.633237e+00\n",
      "Wire 1_x                      3.517802e+00\n",
      "Bulk 1_y                      3.322440e+00\n",
      "Bulk 1_x                      3.304408e+00\n",
      "Bulk 12_y                     3.007938e+00\n",
      "Wire 7_x                      2.991700e+00\n",
      "Bulk 5_x                      2.934088e+00\n",
      "Bulk 10_x                     2.786177e+00\n",
      "Bulk 10_y                     2.756750e+00\n",
      "Wire 6_x                      2.621730e+00\n",
      "Bulk 6_x                      2.561763e+00\n",
      "Температура целевая           2.448532e+00\n",
      "Bulk 6_y                      2.338591e+00\n",
      "Bulk 13_x                     2.267886e+00\n",
      "Bulk 4_x                      2.226290e+00\n",
      "Bulk 15_y                     2.141876e+00\n",
      "Bulk 14_x                     2.137183e+00\n",
      "Полная мощность               2.136991e+00\n",
      "Bulk 4_y                      2.111865e+00\n",
      "Bulk 3_x                      2.067176e+00\n",
      "Wire 6_y                      1.939739e+00\n",
      "Wire 7_y                      1.934620e+00\n",
      "Bulk 5_y                      1.928440e+00\n",
      "Bulk 14_y                     1.897055e+00\n",
      "Wire 2_x                      1.888584e+00\n",
      "Wire 2_y                      1.869283e+00\n",
      "Bulk 13_y                     1.816223e+00\n",
      "Wire 1_y                      1.709432e+00\n",
      "Bulk 3_y                      1.646248e+00\n",
      "Bulk 11_x                     1.602111e+00\n",
      "Газ 1                         1.594935e+00\n",
      "Bulk 11_y                     1.534659e+00\n",
      "Время первого замера          1.235676e+00\n",
      "КПД                           1.203347e+00\n",
      "Wire 5_x                               NaN\n",
      "Wire 5_y                               NaN\n",
      "dtype: float64\n"
     ]
    }
   ],
   "source": [
    "X = add_constant(df)  \n",
    "ds=pd.Series([variance_inflation_factor(X.values, i)   \n",
    "               for i in range(X.shape[1])],   \n",
    "              index=X.columns)  \n",
    "print(ds.sort_values(ascending=False))\n"
   ]
  },
  {
   "attachments": {},
   "cell_type": "markdown",
   "metadata": {},
   "source": [
    "Здесь мы видим несколько интересных моментов:\n",
    "\n",
    "- коэффициент для столбцов `Bulk 8` равен бесконечности (здесь и далее подразумевается два их вида, с `_x`, и с `_y`, обозначающие время и объем соответственно),\n",
    "- коэффициент для столбцов `Wire 5` имеет значение `NaN`,\n",
    "- коэффициенты для столбцов `Bulk 9`, `Wire 8` и `Bulk 2` сильно превышают 10.\n",
    "\n",
    "Отсюда имеем: `Wire 5` имеет значение `NaN`, т.к. в финальный датасет не вошла ни одна строка (из всего одной имевшейся в начале), имеющая какое-либо значение, отличное от нуля. `Bulk 8` равен бесконечности, т.к. эти столбцы содержат всего одно значение, отличное от нуля. `Bulk 9`, `Wire 8` и `Bulk 2` также имеют минимальный набор данных.\n",
    "\n",
    "Данные столбцы нужно удалить, чтобы не было влияния на модели регрессии. Данных в этих столбцах содержится минимальное количество и их удаление не исказит реальную картину."
   ]
  },
  {
   "cell_type": "code",
   "execution_count": 338,
   "metadata": {},
   "outputs": [],
   "source": [
    "df.drop(columns= ['Bulk 8_x', 'Bulk 8_y', 'Wire 5_x', 'Wire 5_y', 'Bulk 9_x', 'Bulk 9_y', 'Wire 8_x', 'Wire 8_y', 'Bulk 2_x', 'Bulk 2_y'], inplace= True)"
   ]
  },
  {
   "cell_type": "code",
   "execution_count": 339,
   "metadata": {},
   "outputs": [
    {
     "name": "stdout",
     "output_type": "stream",
     "text": [
      "<class 'pandas.core.frame.DataFrame'>\n",
      "Int64Index: 2324 entries, 0 to 2323\n",
      "Data columns (total 46 columns):\n",
      " #   Column                      Non-Null Count  Dtype  \n",
      "---  ------                      --------------  -----  \n",
      " 0   Полная мощность             2324 non-null   float64\n",
      " 1   КПД                         2324 non-null   float64\n",
      " 2   Длительность                2324 non-null   float64\n",
      " 3   Bulk 1_x                    2324 non-null   float64\n",
      " 4   Bulk 3_x                    2324 non-null   float64\n",
      " 5   Bulk 4_x                    2324 non-null   float64\n",
      " 6   Bulk 5_x                    2324 non-null   float64\n",
      " 7   Bulk 6_x                    2324 non-null   float64\n",
      " 8   Bulk 7_x                    2324 non-null   float64\n",
      " 9   Bulk 10_x                   2324 non-null   float64\n",
      " 10  Bulk 11_x                   2324 non-null   float64\n",
      " 11  Bulk 12_x                   2324 non-null   float64\n",
      " 12  Bulk 13_x                   2324 non-null   float64\n",
      " 13  Bulk 14_x                   2324 non-null   float64\n",
      " 14  Bulk 15_x                   2324 non-null   float64\n",
      " 15  Bulk 1_y                    2324 non-null   float64\n",
      " 16  Bulk 3_y                    2324 non-null   float64\n",
      " 17  Bulk 4_y                    2324 non-null   float64\n",
      " 18  Bulk 5_y                    2324 non-null   float64\n",
      " 19  Bulk 6_y                    2324 non-null   float64\n",
      " 20  Bulk 7_y                    2324 non-null   float64\n",
      " 21  Bulk 10_y                   2324 non-null   float64\n",
      " 22  Bulk 11_y                   2324 non-null   float64\n",
      " 23  Bulk 12_y                   2324 non-null   float64\n",
      " 24  Bulk 13_y                   2324 non-null   float64\n",
      " 25  Bulk 14_y                   2324 non-null   float64\n",
      " 26  Bulk 15_y                   2324 non-null   float64\n",
      " 27  Wire 1_x                    2324 non-null   float64\n",
      " 28  Wire 2_x                    2324 non-null   float64\n",
      " 29  Wire 3_x                    2324 non-null   float64\n",
      " 30  Wire 4_x                    2324 non-null   float64\n",
      " 31  Wire 6_x                    2324 non-null   float64\n",
      " 32  Wire 7_x                    2324 non-null   float64\n",
      " 33  Wire 9_x                    2324 non-null   float64\n",
      " 34  Wire 1_y                    2324 non-null   float64\n",
      " 35  Wire 2_y                    2324 non-null   float64\n",
      " 36  Wire 3_y                    2324 non-null   float64\n",
      " 37  Wire 4_y                    2324 non-null   float64\n",
      " 38  Wire 6_y                    2324 non-null   float64\n",
      " 39  Wire 7_y                    2324 non-null   float64\n",
      " 40  Wire 9_y                    2324 non-null   float64\n",
      " 41  Газ 1                       2324 non-null   float64\n",
      " 42  Время первого замера        2324 non-null   float64\n",
      " 43  Время последнего замера     2324 non-null   float64\n",
      " 44  Температура первого замера  2324 non-null   float64\n",
      " 45  Температура целевая         2324 non-null   float64\n",
      "dtypes: float64(46)\n",
      "memory usage: 853.3 KB\n"
     ]
    }
   ],
   "source": [
    "df.info()"
   ]
  },
  {
   "attachments": {},
   "cell_type": "markdown",
   "metadata": {},
   "source": [
    "### Краткий вывод"
   ]
  },
  {
   "attachments": {},
   "cell_type": "markdown",
   "metadata": {},
   "source": [
    "Данные были приведены к необходимому типу. Были собраны все признаки, а также созданы новые. Выделен целевой признак.\n",
    "\n",
    "Данные были обработаны от пропусков и грубых выбросов (указанных заказчиком). Данные подготовлены к обучению."
   ]
  },
  {
   "attachments": {},
   "cell_type": "markdown",
   "metadata": {},
   "source": [
    "## Обучение моделей"
   ]
  },
  {
   "attachments": {},
   "cell_type": "markdown",
   "metadata": {},
   "source": [
    "### Разбиение на выборки"
   ]
  },
  {
   "cell_type": "code",
   "execution_count": 340,
   "metadata": {},
   "outputs": [],
   "source": [
    "#разделение исходного датасета на две выборки, обучающую и валидационную одновременно с разделением на матрицу признаков и целевой признак\n",
    "\n",
    "features_train, features_test, target_train, target_test = train_test_split( #создаем 4 датасета, \n",
    "    df.drop(columns='Температура целевая'), #для датасетов признаков удаляем целевой\n",
    "    df['Температура целевая'], #для целевого оставляем только целевой\n",
    "    test_size=0.25, #с соотношением 75/25\n",
    "    random_state=RANDOM_STATE) #с заданной опорой для рандома "
   ]
  },
  {
   "attachments": {},
   "cell_type": "markdown",
   "metadata": {},
   "source": [
    "### Dummy-модель"
   ]
  },
  {
   "attachments": {},
   "cell_type": "markdown",
   "metadata": {},
   "source": [
    "Для базовой проверки работоспособности моделей имеет место сделать предсказание по среднему значению и вычислить `MAE` для \"глупой\" модели."
   ]
  },
  {
   "cell_type": "code",
   "execution_count": 341,
   "metadata": {},
   "outputs": [
    {
     "name": "stdout",
     "output_type": "stream",
     "text": [
      "MAE_dummy 8.04\n"
     ]
    }
   ],
   "source": [
    "dummy_clf = DummyRegressor(strategy='mean') #создание baseline модели - наиболее часто встречающееся\n",
    "dummy_clf.fit(features_train, target_train) #обучение модели\n",
    "dummy_clf_pred = dummy_clf.predict(target_test) # получаем предсказания модели на валидационной выборке\n",
    "\n",
    "dummy_mae = mean_absolute_error(target_test, dummy_clf_pred) #среденее значение\n",
    "print(\"MAE_dummy\", round(dummy_mae, 2))"
   ]
  },
  {
   "attachments": {},
   "cell_type": "markdown",
   "metadata": {},
   "source": [
    "Получили метрику `MAE` равную 8.04, что намного выше той, что должны получить."
   ]
  },
  {
   "attachments": {},
   "cell_type": "markdown",
   "metadata": {},
   "source": [
    "### Линейная регрессия"
   ]
  },
  {
   "attachments": {},
   "cell_type": "markdown",
   "metadata": {},
   "source": [
    "Линейная регрессия невосприимчива к масштабу признаков, так де как и деревянные модели, поэтому мы можем обучать модель сразу, без масштабирования."
   ]
  },
  {
   "cell_type": "code",
   "execution_count": 342,
   "metadata": {
    "scrolled": true
   },
   "outputs": [
    {
     "name": "stdout",
     "output_type": "stream",
     "text": [
      "Среднее значение метрики MAE для модели линейной регрессии с использованием кросс-валидации: 5.73\n",
      "CPU times: total: 547 ms\n",
      "Wall time: 2.12 s\n"
     ]
    }
   ],
   "source": [
    "%%time\n",
    "\n",
    "lin_reg_cv = LinearRegression()\n",
    "lin_reg_cv_scores = cross_val_score(lin_reg_cv, features_train, target_train.values, scoring='neg_mean_absolute_error', cv=200)\n",
    "lin_reg_cv_mae = abs(lin_reg_cv_scores.mean())\n",
    "\n",
    "print(\"Среднее значение метрики MAE для модели линейной регрессии \"\\\n",
    "    \"с использованием кросс-валидации:\", round(lin_reg_cv_mae, 2))"
   ]
  },
  {
   "attachments": {},
   "cell_type": "markdown",
   "metadata": {},
   "source": [
    "Линейная регрессия показывает отличные результаты на тренировочных данных. Рассмотрим и другие модели."
   ]
  },
  {
   "attachments": {},
   "cell_type": "markdown",
   "metadata": {},
   "source": [
    "### Модель LASSO"
   ]
  },
  {
   "attachments": {},
   "cell_type": "markdown",
   "metadata": {},
   "source": [
    "Лассо восприимчив к масштабу. Следовательно, данные нужно стандартизировать. Для избежания утечек данных, воспользуемся пайплайном."
   ]
  },
  {
   "cell_type": "code",
   "execution_count": 343,
   "metadata": {},
   "outputs": [
    {
     "name": "stdout",
     "output_type": "stream",
     "text": [
      "Лучшие параметры для модели LASSO с использованием кросс-валидации: {'model__alpha': 0.05}\n",
      "Наименьшее значение метрики MAE для модели LASSO при лучших гиперпараметрах с использованием кросс-валидации: 5.71\n"
     ]
    }
   ],
   "source": [
    "# создаем пайплайн. \n",
    "pipe = Pipeline([\n",
    "        ('scale', StandardScaler()), # масштабирование - стандартизация\n",
    "        ('model', linear_model.Lasso(max_iter=1000, random_state=RANDOM_STATE))]) #модель лассо, итераций 1000, рандом стейт\n",
    "\n",
    "param_grid = dict(model__alpha= (0.05, 1, 0.05)) #сила регуляризации\n",
    "\n",
    "grid_lasso = GridSearchCV(pipe, param_grid=param_grid, scoring='neg_mean_absolute_error', cv=200, n_jobs=-2, random_state=RANDOM_STATE) #перебор параметров + кросс валидация\n",
    "grid_lasso.fit(features_train, target_train) #обучение\n",
    "best_grid_lasso = abs(grid_lasso.best_score_) #модуль лучшей метрики\n",
    "\n",
    "print(\"Лучшие параметры для модели LASSO с \"\\\n",
    "    \"использованием кросс-валидации:\", grid_lasso.best_params_)\n",
    "print(\"Наименьшее значение метрики MAE для модели LASSO \"\\\n",
    "    \"при лучших гиперпараметрах с использованием кросс-валидации:\", round(best_grid_lasso, 2))"
   ]
  },
  {
   "attachments": {},
   "cell_type": "markdown",
   "metadata": {},
   "source": [
    "Получили результат еще ниже, чем на линейной регрессии."
   ]
  },
  {
   "attachments": {},
   "cell_type": "markdown",
   "metadata": {},
   "source": [
    "### Случайный лес"
   ]
  },
  {
   "attachments": {},
   "cell_type": "markdown",
   "metadata": {},
   "source": [
    "В модели случайного леса и следующей `LightGBM` полученные результаты могут немного разниться, т.к. для перебора гиперпараметров используется `RandomizedSearchCV`."
   ]
  },
  {
   "cell_type": "code",
   "execution_count": 2,
   "metadata": {},
   "outputs": [
    {
     "ename": "NameError",
     "evalue": "name 'RandomForestRegressor' is not defined",
     "output_type": "error",
     "traceback": [
      "\u001b[1;31m---------------------------------------------------------------------------\u001b[0m",
      "\u001b[1;31mNameError\u001b[0m                                 Traceback (most recent call last)",
      "File \u001b[1;32m<timed exec>:1\u001b[0m, in \u001b[0;36m<module>\u001b[1;34m\u001b[0m\n",
      "\u001b[1;31mNameError\u001b[0m: name 'RandomForestRegressor' is not defined"
     ]
    }
   ],
   "source": [
    "%%time\n",
    "\n",
    "random_forest = RandomForestRegressor(random_state=RANDOM_STATE) #модель случайного леса\n",
    "parameters = {'n_estimators': range (1, 500), 'max_depth': range (1, 100)} #перебор гиперпараметров\n",
    "#применение метода рандомсёрч со встроенной кросс-валидацией к модели леса с перебором указанных параметров\n",
    "\n",
    "randomized_random_forest = RandomizedSearchCV(random_forest, n_iter=30, param_distributions= parameters, scoring='neg_mean_absolute_error', n_jobs= -2, cv=10, random_state=RANDOM_STATE)\n",
    "#обучение модели\n",
    "randomized_random_forest.fit(features_train, target_train.values)\n",
    "\n",
    "#лучшее значение после перебора параметров \n",
    "best_randomized_forest = abs(randomized_random_forest.best_score_)\n",
    "\n",
    "print(\"Лучшие параметры для модели случайного леса с \"\\\n",
    "    \"использованием кросс-валидации:\", randomized_random_forest.best_params_)\n",
    "print(\"Наименьшее значение метрики MAE для модели случайного леса \"\\\n",
    "    \"при лучших гиперпараметрах с использованием кросс-валидации:\", round(best_randomized_forest, 2))"
   ]
  },
  {
   "attachments": {},
   "cell_type": "markdown",
   "metadata": {},
   "source": [
    "Случайный лес показывает отличный результат, со значением `MAE`, равным 5.91. Это значение выше метрик, полученных при обучении предыдущих моделей."
   ]
  },
  {
   "attachments": {},
   "cell_type": "markdown",
   "metadata": {},
   "source": [
    "### LightGBM"
   ]
  },
  {
   "cell_type": "code",
   "execution_count": 1,
   "metadata": {},
   "outputs": [
    {
     "ename": "NameError",
     "evalue": "name 'lgb' is not defined",
     "output_type": "error",
     "traceback": [
      "\u001b[1;31m---------------------------------------------------------------------------\u001b[0m",
      "\u001b[1;31mNameError\u001b[0m                                 Traceback (most recent call last)",
      "File \u001b[1;32m<timed exec>:1\u001b[0m, in \u001b[0;36m<module>\u001b[1;34m\u001b[0m\n",
      "\u001b[1;31mNameError\u001b[0m: name 'lgb' is not defined"
     ]
    }
   ],
   "source": [
    "%%time\n",
    "\n",
    "lgb_forest = lgb.LGBMModel(objective=\"regression\", random_state=RANDOM_STATE) #\n",
    "parameters = {'n_estimators': range (1, 1000), 'max_depth': range (1, 100), 'learning_rate': (0.05, 0.8, 0.05)}\n",
    "#применение метода рандомсёрч со встроенной кросс-валидацией\n",
    "\n",
    "rand_lgb_forest = RandomizedSearchCV(lgb_forest, n_iter=30, param_distributions= parameters, scoring='neg_mean_absolute_error', n_jobs= -2, cv=10, random_state=RANDOM_STATE)\n",
    "#обучение модели\n",
    "rand_lgb_forest.fit(features_train, target_train.values)\n",
    "\n",
    "#лучшее значение после перебора параметров \n",
    "best_rand_lgb_forest = abs(rand_lgb_forest.best_score_)\n",
    "\n",
    "print(\"Лучшие параметры для модели LightGBM с \"\\\n",
    "    \"использованием кросс-валидации:\", rand_lgb_forest.best_params_)\n",
    "print(\"Наименьшее значение метрики MAE для модели LightGBM\"\\\n",
    "    \"при лучших гиперпараметрах с использованием кросс-валидации:\", round(best_rand_lgb_forest, 2))"
   ]
  },
  {
   "attachments": {},
   "cell_type": "markdown",
   "metadata": {},
   "source": [
    "Мы получили минимальное значение метрики `MAE`, равное 5.8. Это значение полностью удовлетворяет условию, но выше, чем у модели линейной регрессии и `LASSO`. Считаем лучшей моделью - модель `LASSO`."
   ]
  },
  {
   "attachments": {},
   "cell_type": "markdown",
   "metadata": {},
   "source": [
    "### Общие результаты"
   ]
  },
  {
   "cell_type": "code",
   "execution_count": 349,
   "metadata": {},
   "outputs": [
    {
     "data": {
      "text/html": [
       "<div>\n",
       "<style scoped>\n",
       "    .dataframe tbody tr th:only-of-type {\n",
       "        vertical-align: middle;\n",
       "    }\n",
       "\n",
       "    .dataframe tbody tr th {\n",
       "        vertical-align: top;\n",
       "    }\n",
       "\n",
       "    .dataframe thead th {\n",
       "        text-align: right;\n",
       "    }\n",
       "</style>\n",
       "<table border=\"1\" class=\"dataframe\">\n",
       "  <thead>\n",
       "    <tr style=\"text-align: right;\">\n",
       "      <th></th>\n",
       "      <th>Модель</th>\n",
       "      <th>Значение метрики MAE</th>\n",
       "      <th>Лучшие гиперпараметры</th>\n",
       "      <th>Время</th>\n",
       "    </tr>\n",
       "  </thead>\n",
       "  <tbody>\n",
       "    <tr>\n",
       "      <th>0</th>\n",
       "      <td>Dummy-модель</td>\n",
       "      <td>8.04</td>\n",
       "      <td>Без перебора</td>\n",
       "      <td>~0.2 секунды</td>\n",
       "    </tr>\n",
       "    <tr>\n",
       "      <th>1</th>\n",
       "      <td>Линейная регрессия</td>\n",
       "      <td>5.73</td>\n",
       "      <td>Без перебора</td>\n",
       "      <td>~3 секунды</td>\n",
       "    </tr>\n",
       "    <tr>\n",
       "      <th>2</th>\n",
       "      <td>LASSO</td>\n",
       "      <td>5.71</td>\n",
       "      <td>{'model__alpha': 0.05}</td>\n",
       "      <td>~9 секунд</td>\n",
       "    </tr>\n",
       "    <tr>\n",
       "      <th>3</th>\n",
       "      <td>Случайный лес</td>\n",
       "      <td>5.91</td>\n",
       "      <td>{'n_estimators': 325, 'max_depth': 24}</td>\n",
       "      <td>~2 минуты</td>\n",
       "    </tr>\n",
       "    <tr>\n",
       "      <th>4</th>\n",
       "      <td>LightGBM</td>\n",
       "      <td>5.70</td>\n",
       "      <td>{'n_estimators': 84, 'max_depth': 93, 'learning_rate': 0.05}</td>\n",
       "      <td>~30 секунд</td>\n",
       "    </tr>\n",
       "  </tbody>\n",
       "</table>\n",
       "</div>"
      ],
      "text/plain": [
       "               Модель  Значение метрики MAE  \\\n",
       "0        Dummy-модель                  8.04   \n",
       "1  Линейная регрессия                  5.73   \n",
       "2               LASSO                  5.71   \n",
       "3       Случайный лес                  5.91   \n",
       "4            LightGBM                  5.70   \n",
       "\n",
       "                                          Лучшие гиперпараметры         Время  \n",
       "0                                                  Без перебора  ~0.2 секунды  \n",
       "1                                                  Без перебора    ~3 секунды  \n",
       "2                                        {'model__alpha': 0.05}     ~9 секунд  \n",
       "3                        {'n_estimators': 325, 'max_depth': 24}     ~2 минуты  \n",
       "4  {'n_estimators': 84, 'max_depth': 93, 'learning_rate': 0.05}    ~30 секунд  "
      ]
     },
     "metadata": {},
     "output_type": "display_data"
    }
   ],
   "source": [
    "models = ['Dummy-модель', 'Линейная регрессия', 'LASSO', 'Случайный лес', 'LightGBM']\n",
    "MAE = [round(dummy_mae, 2), round(lin_reg_cv_mae, 2), round(best_grid_lasso, 2), round(best_randomized_forest, 2), round(best_rand_lgb_forest, 2)]\n",
    "total_time = ['~0.2 секунды', '~3 секунды', '~9 секунд', '~2 минуты', '~30 секунд']\n",
    "best_param = ['Без перебора', 'Без перебора', grid_lasso.best_params_, randomized_random_forest.best_params_, rand_lgb_forest.best_params_]\n",
    "tf_result_table = pd.DataFrame({ #созаем датафрейм\n",
    "    'Модель': models, #\n",
    "    'Значение метрики MAE': MAE,\n",
    "    'Лучшие гиперпараметры': best_param,\n",
    "    'Время': total_time\n",
    "}) #\n",
    "with option_context('display.max_colwidth', 400):\n",
    "    display(tf_result_table)\n"
   ]
  },
  {
   "attachments": {},
   "cell_type": "markdown",
   "metadata": {},
   "source": [
    "### Проверяем лучшую модель"
   ]
  },
  {
   "attachments": {},
   "cell_type": "markdown",
   "metadata": {},
   "source": [
    "#### LASSO"
   ]
  },
  {
   "cell_type": "code",
   "execution_count": 347,
   "metadata": {},
   "outputs": [
    {
     "name": "stdout",
     "output_type": "stream",
     "text": [
      "Наименьшее значение метрики MAE модели LASSO на тестовых данных 5.6\n",
      "CPU times: total: 0 ns\n",
      "Wall time: 11.1 ms\n"
     ]
    }
   ],
   "source": [
    "%%time\n",
    "lasso_check = grid_lasso.best_estimator_\n",
    "lasso_check.fit(features_train, target_train.values)\n",
    "\n",
    "predictions_lasso_check = lasso_check.predict(features_test)\n",
    "\n",
    "lasso_check_mae = abs(mean_absolute_error(target_test, predictions_lasso_check))\n",
    "print(\"Наименьшее значение метрики MAE модели LASSO на тестовых данных\", round(lasso_check_mae, 2))"
   ]
  },
  {
   "cell_type": "code",
   "execution_count": 348,
   "metadata": {
    "scrolled": false
   },
   "outputs": [
    {
     "data": {
      "image/png": "[encoded data removed]",
      "text/plain": [
       "<Figure size 1200x1200 with 1 Axes>"
      ]
     },
     "metadata": {},
     "output_type": "display_data"
    }
   ],
   "source": [
    "coefs = pd.DataFrame(\n",
    "   abs(lasso_check[1].coef_),\n",
    "   columns=['Coefficients'], index=features_train.columns\n",
    ")\n",
    "\n",
    "coefs.sort_values(by='Coefficients').plot(kind='barh', figsize=(12, 12))\n",
    "plt.title('Lasso model, strong regularization')\n",
    "plt.axvline(x=0, color='.5')\n",
    "plt.subplots_adjust(left=.3)"
   ]
  },
  {
   "attachments": {},
   "cell_type": "markdown",
   "metadata": {},
   "source": [
    "Наибольшее влияние на модель оказывают признаки `Температура первого замера` и `Длительность нагрева`. Также, большой вклад вносит `Время последнего замера`."
   ]
  },
  {
   "attachments": {},
   "cell_type": "markdown",
   "metadata": {},
   "source": [
    "### Выводы"
   ]
  },
  {
   "attachments": {},
   "cell_type": "markdown",
   "metadata": {},
   "source": [
    "Итоговое значение метрики `MAE` на тестовых данных равно 5.6, что полтостью удовлетворяет поставленной задаче. На тренировочных данных модель `LASSO` оказалась лучшей."
   ]
  },
  {
   "attachments": {},
   "cell_type": "markdown",
   "metadata": {},
   "source": [
    "## Отчет"
   ]
  },
  {
   "attachments": {},
   "cell_type": "markdown",
   "metadata": {},
   "source": [
    "### Описание и задача"
   ]
  },
  {
   "attachments": {},
   "cell_type": "markdown",
   "metadata": {},
   "source": [
    "Проект представляет собой работу с данными металлургического комбината, изучение технологического процесса плавления металалла и оптимизацию затрат. Несмотря на то, что не все данные мы видим в явном виде (некоторые данные зашифрованы, и мы видим лишь порядковый номер, каких-то данных нет вовсе), перед нами стоит задача:\n",
    "\n",
    "- при имеющихся данных собрать модель предсказаний конечной температуры каждой партии стали. Это необходимо для оптимизации производственных расходов комбинатата - уменьшения затрат на электроэнергию на этапе обработки стали.\n",
    "\n",
    "Для измерения качества предсказания взята метрика `MAE` - средняя абсолютная ошибка. Чем меньше ее значение в результате машинного обучения - тем лучше модель, дающая предсказания.\n",
    "\n",
    "Достаточной метрикой принимается значение `MAE`, равное 6.8. Является задачей регрессии.\n",
    "\n",
    "Все поставленные в плане задачи к проекту были выполнены. Самой большой трудностью была работа с признаками. Как их подготовить? Какие войдут в итоговый датасет? Какие необходимо создать, а какие удалить?\n",
    "\n",
    "Все эти вопросы решались последовательно и описаны подробно в проекте, а более сжато - в тексте ниже."
   ]
  },
  {
   "attachments": {},
   "cell_type": "markdown",
   "metadata": {},
   "source": [
    "### Исходные данные"
   ]
  },
  {
   "attachments": {},
   "cell_type": "markdown",
   "metadata": {},
   "source": [
    "Исходные данные делятся на 7 датасетов, связанных между собой номером партии - столбец `key`. Датасеты имеют разное количество столбцов и строк. В двух датасетах номера партии поделены на несколько строк (`data_arc` и `data_temp`), в остальных - каждое значение `key` уникально."
   ]
  },
  {
   "attachments": {},
   "cell_type": "markdown",
   "metadata": {},
   "source": [
    "Данные состоят из файлов, полученных из разных источников:\n",
    "\n",
    "- `data_arc.csv` — данные об электродах;\n",
    "- `data_bulk.csv` — данные о подаче сыпучих материалов (объём);\n",
    "- `data_bulk_time.csv` — данные о подаче сыпучих материалов (время);\n",
    "- `data_gas.csv` — данные о продувке сплава газом;\n",
    "- `data_temp.csv` — результаты измерения температуры;\n",
    "- `data_wire.csv` — данные о проволочных материалах (объём);\n",
    "- `data_wire_time.csv` — данные о проволочных материалах (время).\n",
    "\n",
    "Во всех файлах столбец `key` содержит номер партии. В файлах может быть несколько строк с одинаковым значением `key`: они соответствуют разным итерациям обработки."
   ]
  },
  {
   "attachments": {},
   "cell_type": "markdown",
   "metadata": {},
   "source": [
    "Целевым признаком является конечная температура. В явном виде такого признака нет. Эти данные есть в `data_temp`, в последних записях каждого ключа. Этот целевой признак необходимо выделить в отдельный столбец."
   ]
  },
  {
   "attachments": {},
   "cell_type": "markdown",
   "metadata": {},
   "source": [
    "Также, ключевым моментом являются выбросы: критичные значения величин, которые точно необходимо убрать перед началом обучения такие:\n",
    "\n",
    "- мощность должна быть неотрицательной,\n",
    "- температура не должна быть ниже 1500 градусов. Важно также отметить, что это правило распространяется в отношении всей партии, если было значение ниже, то из обучения убирается вся партия.\n",
    "\n",
    "Еще одно из основных условий: партии, не имеющие конечной температуры в наборе данных, также удаляются. Это логичное требование, т.к. этот прижнак является целевым."
   ]
  },
  {
   "attachments": {},
   "cell_type": "markdown",
   "metadata": {},
   "source": [
    "### Работа с данными (раздельные датасеты)"
   ]
  },
  {
   "attachments": {},
   "cell_type": "markdown",
   "metadata": {},
   "source": [
    "Практически каждый из датасетов претерпел изменения в процессе предобработки данных. Рассмотрим это подробнее:"
   ]
  },
  {
   "attachments": {},
   "cell_type": "markdown",
   "metadata": {},
   "source": [
    "Датасет `data_arc`:\n",
    "\n",
    "- Удалены выбросы (партия, имеющая в данных отрицательную мощность).\n",
    "\n",
    "- Созданы новые, более информативные признаки: `Полная мощность` и `КПД`.\n",
    "\n",
    "- Для данных о времени изменен тип и найдена `Длительнось` нагрева электродами. Вынесена в новый признак. Также создан вспомогательный признак `Старт` для дальнейшей работы с датами в других датасетах после слияния.\n",
    "\n",
    "- Удалены менее информативные признаки `Активная мощность` и `Реактивная мощность`, а также `Конец нагрева дугой`.\n",
    "\n",
    "- Данные сгруппированы по партиям. Агрегация для параметров:\n",
    "\n",
    "    - `Полная мощность` и `КПД` - среднее значение для партии,\n",
    "    \n",
    "    - `Длительнось` - суммарное время для партии.\n",
    "\n",
    "Датасеты `data_bulk` и `data_wire`:\n",
    "\n",
    "- Пропуски заполнены нулями. Т.к. данные этих датасетов - добавление сыпучих материалов или проволоки соответственно.\n",
    "\n",
    "Датасеты `data_bulk_time` и `data_wire_time`:\n",
    "\n",
    "- Чтобы достать признаки из дат и работать с ними, для данных из датасетов изменили тип данных на `datetime`.\n",
    "\n",
    "Датасет `data_gas`:\n",
    "\n",
    "- Не требовал обработки данных.\n",
    "\n",
    "Датасет `data_temp`:\n",
    "\n",
    "- Имел пропуски в значении температуры, поэтому была добавлена заглушка - температура, которая точно не встретилась бы в расплавленном металле, например, отрицательная.\n",
    "\n",
    "- Данные были сгруппированы по ключу и данным температуры, найдены значения конечных температур каждой партии и составлен список с номерами партии, где значение конечной температуры было равно заглушке. Такие ключи (и данные в них) были удалены из датасета.\n",
    "\n",
    "- Удалены данные ключей, для которых была зафиксирована температура ниже 1500 градусов.\n",
    "\n",
    "- Данные о времени приведены к нужному типу. `Время первого замера` и `Время последнего замера` выделены в новые столбцы для дальнейшей работы с ними, как с признаками. Удален столбец `Время замера`. \n",
    "\n",
    "- То же самое проделано с данными о температуре. Выделены новые признаки `Температура первого замера` и `Температура целевая`, но удален столбец `Температура`.  На этом этапе мы получили целевой признак.\n",
    "\n",
    "- Данные сгруппированы по партиям по первой записи (из-за особенности полученного датасета).\n",
    "\n"
   ]
  },
  {
   "attachments": {},
   "cell_type": "markdown",
   "metadata": {},
   "source": [
    "### Работа с данными (слияние в один датасет)"
   ]
  },
  {
   "attachments": {},
   "cell_type": "markdown",
   "metadata": {},
   "source": [
    "- Слияние датасетов `data_arc` и `data_bulk_time` по ключу методом `.merge()` и присвоение ему нового имени `df`.\n",
    "\n",
    "    - Заполнение пропусков (которые оставались в датасете `data_bulk_time`) датой `Старта`. Далее, перезаписываем время добавления материала как разность между этим временем и временем `Старта` в секундах. Таким образом получаем новые признаки с плавающей точкой, где, если присадка не была добавлена, значение нового признака будет равно нулю.\n",
    "\n",
    "- Слияние датасетов `df` и `data_bulk`, аналогично предыдущему (ключ и метод для всех слияний одинаков, здесь и далее) с перезаписью датасета `df`.\n",
    "\n",
    "- Слияние датасетов `df` и `data_wire_time`.\n",
    "\n",
    "    - Заполнение пропусков аналогично предыдущему. Создание признаков - аналогично. Логическое обоснование - аналогично.\n",
    "\n",
    "- Слияние датасетов `df` и `data_wire`.\n",
    "\n",
    "- Слияние датасетов `df` и `data_gas`.\n",
    "\n",
    "- Слияние датасетов `df` и `data_temp`.\n",
    "\n",
    "    - Создание новых признаков: `Время последнего замера` как разность `времени последнего` и `первого замеров` - время между замерами; `Время первого замера` как разность между `временем первого замера` и временем `старта`.\n",
    "    \n",
    "    - Удаление времени `старта`.\n",
    "\n",
    "Проверяем на мультиколлинеарность и удаляем признаки, которые между собой имеют большой коэффициент инфляции дисперсии (либо, как в случае с двуся столбцами, имеют значение `NaN`). Эти признаки имели от одного до одного десятка значений, отличных от нуля, поэтому их удаление не исказит реальную картину при обучении.\n",
    "\n",
    "После этапа предобработки имеем один датасет, размером 2324 строк на 46 признаков + 1 целевой признак. Пропусков не имеется. Все ключи `key` уникальны. Все признаки типа `float64`."
   ]
  },
  {
   "attachments": {},
   "cell_type": "markdown",
   "metadata": {},
   "source": [
    "### Обучение"
   ]
  },
  {
   "attachments": {},
   "cell_type": "markdown",
   "metadata": {},
   "source": [
    "Датасет делим на четыре датасета:\n",
    "\n",
    "- `features_train` - тренировочный датасет признаков,\n",
    "- `features_test` - тестовый датасет признаков,\n",
    "- `target_train` - тренировочный целевой признак,\n",
    "- `target_test` - тестовый целевой признак.\n",
    "\n",
    "Выборки делятся в соотношении 75% к 25% (`train` к `test`) и с опорным числом рандома `random_state`, равным 100423.\n",
    "\n",
    "Вводим \"глупую\" модель, предсказывающую среднее значение температуры для вывода, очевидно, плохой метрики `MAE`, для того, чтобы можно было ориентироваться на это значение (получить не хуже на реальных моделях). Значение метрики `MAE` такой модели равно 8.26.\n",
    "\n",
    "Первая модель - модель линейной регрессии. Модель рассматриваем без перебора параметров, как базовую модель регрессии, работающую быстро и дающую вменяемые результаты. Кросс-валидация используется во всех моделях обучения. Результаты, которые показывает линейная регрессия: `MAE` 5.73, это значение уже в таком виде удовлетворяет условию задачи.\n",
    "\n",
    "Модель `LASSO` с перебором гиперпараметров и с использованием пайплайна (во избежание утечки, т.к. данные для этой модели стандартизируются) показывает значение метрики `MAE`, равное 5.71. Самый лучший результат. Все последующие модели показывают более высокое значение метрики.\n",
    "\n",
    "Модель случайного леса с перебором гиперпараметров показывает значение `MAE` 5.91 (значение всегда варьируется, т.к. модель использует `RandomizedSearchCV` в качестве перебора гиперпараметров).\n",
    "\n",
    "Модель с градиентным бустингом `LightGBM` имеет значение `MAE` 5.7 (аналогично модели случайного леса, может варьироваться)."
   ]
  },
  {
   "attachments": {},
   "cell_type": "markdown",
   "metadata": {},
   "source": [
    "### Результат"
   ]
  },
  {
   "attachments": {},
   "cell_type": "markdown",
   "metadata": {},
   "source": [
    "Лучшей моделью на тренировочных данных стала модель `LASSO`, дав значение метрики `MAE`, равное 5.71.\n",
    "\n",
    "- значение регуляризации `alfa` равном 0.05, \n",
    "- максимальное количество итераций `max_iter` = 1000,\n",
    "- `cv` = 200.\n",
    "\n",
    "Обучив эту модель на тренировочных данных и предсказав тестовые, мы получили значение метрики `MAE`, равное 5.6, полностью выполнив поставленную задачу."
   ]
  },
  {
   "cell_type": "code",
   "execution_count": null,
   "metadata": {},
   "outputs": [],
   "source": []
  }
 ],
 "metadata": {
  "ExecuteTimeLog": [
   {
    "duration": 147,
    "start_time": "2023-04-11T19:18:12.049Z"
   },
   {
    "duration": 5,
    "start_time": "2023-04-15T07:28:28.543Z"
   },
   {
    "duration": 1804,
    "start_time": "2023-04-15T07:28:29.195Z"
   },
   {
    "duration": 101,
    "start_time": "2023-04-15T07:28:31.001Z"
   },
   {
    "duration": 3,
    "start_time": "2023-04-15T07:28:31.227Z"
   },
   {
    "duration": 2,
    "start_time": "2023-04-15T07:28:46.429Z"
   },
   {
    "duration": 253,
    "start_time": "2023-04-15T07:28:49.532Z"
   },
   {
    "duration": 17,
    "start_time": "2023-04-15T07:28:52.328Z"
   },
   {
    "duration": 17,
    "start_time": "2023-04-15T07:28:52.525Z"
   },
   {
    "duration": 448,
    "start_time": "2023-04-15T07:28:52.836Z"
   },
   {
    "duration": 11,
    "start_time": "2023-04-15T07:28:53.286Z"
   },
   {
    "duration": 423,
    "start_time": "2023-04-15T07:28:53.324Z"
   },
   {
    "duration": 11,
    "start_time": "2023-04-15T07:28:53.750Z"
   },
   {
    "duration": 205,
    "start_time": "2023-04-15T07:28:53.994Z"
   },
   {
    "duration": 133,
    "start_time": "2023-04-15T07:28:55.094Z"
   },
   {
    "duration": 19,
    "start_time": "2023-04-15T07:28:55.230Z"
   },
   {
    "duration": 12,
    "start_time": "2023-04-15T07:28:55.411Z"
   },
   {
    "duration": 2363,
    "start_time": "2023-04-15T07:28:55.732Z"
   },
   {
    "duration": 19,
    "start_time": "2023-04-15T07:28:58.097Z"
   },
   {
    "duration": 424,
    "start_time": "2023-04-15T07:28:58.118Z"
   },
   {
    "duration": 165,
    "start_time": "2023-04-15T07:28:58.544Z"
   },
   {
    "duration": 16,
    "start_time": "2023-04-15T07:28:58.711Z"
   },
   {
    "duration": 43,
    "start_time": "2023-04-15T07:28:58.729Z"
   },
   {
    "duration": 153,
    "start_time": "2023-04-15T07:28:58.774Z"
   },
   {
    "duration": 8,
    "start_time": "2023-04-15T07:28:58.930Z"
   },
   {
    "duration": 41,
    "start_time": "2023-04-15T07:28:58.940Z"
   },
   {
    "duration": 323,
    "start_time": "2023-04-15T07:28:59.062Z"
   },
   {
    "duration": 10,
    "start_time": "2023-04-15T07:28:59.387Z"
   },
   {
    "duration": 204,
    "start_time": "2023-04-15T07:28:59.894Z"
   },
   {
    "duration": 9,
    "start_time": "2023-04-15T07:29:00.100Z"
   },
   {
    "duration": 15,
    "start_time": "2023-04-15T07:29:00.402Z"
   },
   {
    "duration": 300,
    "start_time": "2023-04-15T07:29:00.733Z"
   },
   {
    "duration": 11,
    "start_time": "2023-04-15T07:29:01.043Z"
   },
   {
    "duration": 168,
    "start_time": "2023-04-15T07:29:01.428Z"
   },
   {
    "duration": 14,
    "start_time": "2023-04-15T07:29:01.758Z"
   },
   {
    "duration": 14,
    "start_time": "2023-04-15T07:29:01.941Z"
   },
   {
    "duration": 41,
    "start_time": "2023-04-15T07:29:02.121Z"
   },
   {
    "duration": 1691,
    "start_time": "2023-04-15T07:29:02.303Z"
   },
   {
    "duration": 17,
    "start_time": "2023-04-15T07:29:03.997Z"
   },
   {
    "duration": 344,
    "start_time": "2023-04-15T07:29:04.016Z"
   },
   {
    "duration": 164,
    "start_time": "2023-04-15T07:29:04.363Z"
   },
   {
    "duration": 13,
    "start_time": "2023-04-15T07:29:04.529Z"
   },
   {
    "duration": 29,
    "start_time": "2023-04-15T07:29:04.545Z"
   },
   {
    "duration": 25,
    "start_time": "2023-04-15T07:29:13.218Z"
   },
   {
    "duration": 14,
    "start_time": "2023-04-15T07:29:13.733Z"
   },
   {
    "duration": 12,
    "start_time": "2023-04-15T07:29:14.298Z"
   },
   {
    "duration": 6,
    "start_time": "2023-04-15T07:29:14.821Z"
   },
   {
    "duration": 8,
    "start_time": "2023-04-15T07:29:15.478Z"
   },
   {
    "duration": 12,
    "start_time": "2023-04-15T07:29:15.652Z"
   },
   {
    "duration": 12,
    "start_time": "2023-04-15T07:29:16.490Z"
   },
   {
    "duration": 18,
    "start_time": "2023-04-15T07:29:16.686Z"
   },
   {
    "duration": 5,
    "start_time": "2023-04-15T07:29:17.019Z"
   },
   {
    "duration": 6,
    "start_time": "2023-04-15T07:29:17.355Z"
   },
   {
    "duration": 12,
    "start_time": "2023-04-15T07:29:17.542Z"
   },
   {
    "duration": 12,
    "start_time": "2023-04-15T07:29:17.887Z"
   },
   {
    "duration": 11,
    "start_time": "2023-04-15T07:29:18.052Z"
   },
   {
    "duration": 13,
    "start_time": "2023-04-15T07:29:18.406Z"
   },
   {
    "duration": 11,
    "start_time": "2023-04-15T07:29:18.607Z"
   },
   {
    "duration": 16,
    "start_time": "2023-04-15T07:29:18.939Z"
   },
   {
    "duration": 14,
    "start_time": "2023-04-15T07:29:19.115Z"
   },
   {
    "duration": 4,
    "start_time": "2023-04-15T07:29:20.414Z"
   },
   {
    "duration": 35,
    "start_time": "2023-04-15T07:29:21.821Z"
   },
   {
    "duration": 16,
    "start_time": "2023-04-15T07:30:00.408Z"
   },
   {
    "duration": 31,
    "start_time": "2023-04-15T07:30:02.911Z"
   },
   {
    "duration": 14,
    "start_time": "2023-04-15T07:30:03.412Z"
   },
   {
    "duration": 5,
    "start_time": "2023-04-15T07:30:05.540Z"
   },
   {
    "duration": 8,
    "start_time": "2023-04-15T07:30:13.252Z"
   },
   {
    "duration": 7,
    "start_time": "2023-04-15T07:30:14.342Z"
   },
   {
    "duration": 8,
    "start_time": "2023-04-15T07:30:15.213Z"
   },
   {
    "duration": 7,
    "start_time": "2023-04-15T07:30:15.542Z"
   },
   {
    "duration": 12,
    "start_time": "2023-04-15T07:30:16.318Z"
   },
   {
    "duration": 9,
    "start_time": "2023-04-15T07:30:17.313Z"
   },
   {
    "duration": 8,
    "start_time": "2023-04-15T07:30:17.911Z"
   },
   {
    "duration": 8,
    "start_time": "2023-04-15T07:30:18.513Z"
   },
   {
    "duration": 16,
    "start_time": "2023-04-15T07:30:18.718Z"
   },
   {
    "duration": 15,
    "start_time": "2023-04-15T07:30:19.137Z"
   },
   {
    "duration": 12,
    "start_time": "2023-04-15T07:30:19.809Z"
   },
   {
    "duration": 16,
    "start_time": "2023-04-15T07:30:20.183Z"
   },
   {
    "duration": 15,
    "start_time": "2023-04-15T07:30:20.406Z"
   },
   {
    "duration": 20,
    "start_time": "2023-04-15T07:30:21.010Z"
   },
   {
    "duration": 17,
    "start_time": "2023-04-15T07:30:21.415Z"
   },
   {
    "duration": 4,
    "start_time": "2023-04-15T07:30:22.911Z"
   },
   {
    "duration": 22,
    "start_time": "2023-04-15T07:30:23.940Z"
   },
   {
    "duration": 14,
    "start_time": "2023-04-15T07:30:24.383Z"
   },
   {
    "duration": 32,
    "start_time": "2023-04-15T07:30:26.829Z"
   },
   {
    "duration": 12,
    "start_time": "2023-04-15T07:30:27.332Z"
   },
   {
    "duration": 22,
    "start_time": "2023-04-15T07:30:27.518Z"
   },
   {
    "duration": 19,
    "start_time": "2023-04-15T07:30:27.915Z"
   },
   {
    "duration": 26,
    "start_time": "2023-04-15T07:30:28.120Z"
   },
   {
    "duration": 11,
    "start_time": "2023-04-15T07:30:28.399Z"
   },
   {
    "duration": 10,
    "start_time": "2023-04-15T07:30:28.941Z"
   },
   {
    "duration": 8,
    "start_time": "2023-04-15T07:30:29.145Z"
   },
   {
    "duration": 13,
    "start_time": "2023-04-15T07:30:29.350Z"
   },
   {
    "duration": 11,
    "start_time": "2023-04-15T07:30:29.612Z"
   },
   {
    "duration": 14,
    "start_time": "2023-04-15T07:30:29.999Z"
   },
   {
    "duration": 13,
    "start_time": "2023-04-15T07:30:30.340Z"
   },
   {
    "duration": 8,
    "start_time": "2023-04-15T07:30:30.709Z"
   },
   {
    "duration": 9,
    "start_time": "2023-04-15T07:30:31.090Z"
   },
   {
    "duration": 30,
    "start_time": "2023-04-15T07:30:31.245Z"
   },
   {
    "duration": 15,
    "start_time": "2023-04-15T07:30:31.428Z"
   },
   {
    "duration": 3,
    "start_time": "2023-04-15T07:30:32.002Z"
   },
   {
    "duration": 7158,
    "start_time": "2023-04-15T07:31:44.987Z"
   },
   {
    "duration": 5,
    "start_time": "2023-04-15T07:31:52.240Z"
   },
   {
    "duration": 19,
    "start_time": "2023-04-15T07:31:52.247Z"
   },
   {
    "duration": 8,
    "start_time": "2023-04-15T07:31:52.268Z"
   },
   {
    "duration": 12,
    "start_time": "2023-04-15T07:31:52.278Z"
   },
   {
    "duration": 22057,
    "start_time": "2023-04-15T07:31:52.292Z"
   },
   {
    "duration": 83097,
    "start_time": "2023-04-15T07:32:14.351Z"
   },
   {
    "duration": 1442528,
    "start_time": "2023-04-15T07:33:37.451Z"
   },
   {
    "duration": 138,
    "start_time": "2023-04-15T09:55:23.107Z"
   },
   {
    "duration": 3,
    "start_time": "2023-04-15T09:55:30.392Z"
   },
   {
    "duration": 1868,
    "start_time": "2023-04-15T09:55:30.569Z"
   },
   {
    "duration": 74,
    "start_time": "2023-04-15T09:55:32.439Z"
   },
   {
    "duration": 3,
    "start_time": "2023-04-15T09:55:32.514Z"
   },
   {
    "duration": 3,
    "start_time": "2023-04-15T09:55:32.519Z"
   },
   {
    "duration": 148,
    "start_time": "2023-04-15T09:55:32.524Z"
   },
   {
    "duration": 13,
    "start_time": "2023-04-15T09:55:32.674Z"
   },
   {
    "duration": 13,
    "start_time": "2023-04-15T09:55:32.689Z"
   },
   {
    "duration": 300,
    "start_time": "2023-04-15T09:55:32.711Z"
   },
   {
    "duration": 9,
    "start_time": "2023-04-15T09:55:33.082Z"
   },
   {
    "duration": 366,
    "start_time": "2023-04-15T09:55:33.469Z"
   },
   {
    "duration": 8,
    "start_time": "2023-04-15T09:55:33.838Z"
   },
   {
    "duration": 170,
    "start_time": "2023-04-15T09:55:34.244Z"
   },
   {
    "duration": 147,
    "start_time": "2023-04-15T09:55:35.920Z"
   },
   {
    "duration": 14,
    "start_time": "2023-04-15T09:55:36.137Z"
   },
   {
    "duration": 11,
    "start_time": "2023-04-15T09:55:36.350Z"
   },
   {
    "duration": 1820,
    "start_time": "2023-04-15T09:55:36.718Z"
   },
   {
    "duration": 16,
    "start_time": "2023-04-15T09:55:38.540Z"
   },
   {
    "duration": 366,
    "start_time": "2023-04-15T09:55:38.558Z"
   },
   {
    "duration": 162,
    "start_time": "2023-04-15T09:55:38.927Z"
   },
   {
    "duration": 14,
    "start_time": "2023-04-15T09:55:39.090Z"
   },
   {
    "duration": 20,
    "start_time": "2023-04-15T09:55:39.106Z"
   },
   {
    "duration": 148,
    "start_time": "2023-04-15T09:55:39.837Z"
   },
   {
    "duration": 6,
    "start_time": "2023-04-15T09:55:40.056Z"
   },
   {
    "duration": 10,
    "start_time": "2023-04-15T09:55:40.227Z"
   },
   {
    "duration": 299,
    "start_time": "2023-04-15T09:55:40.678Z"
   },
   {
    "duration": 18,
    "start_time": "2023-04-15T09:55:40.979Z"
   },
   {
    "duration": 115,
    "start_time": "2023-04-15T09:55:41.672Z"
   },
   {
    "duration": 7,
    "start_time": "2023-04-15T09:55:41.867Z"
   },
   {
    "duration": 15,
    "start_time": "2023-04-15T09:55:42.249Z"
   },
   {
    "duration": 240,
    "start_time": "2023-04-15T09:55:42.625Z"
   },
   {
    "duration": 8,
    "start_time": "2023-04-15T09:55:42.867Z"
   },
   {
    "duration": 108,
    "start_time": "2023-04-15T09:55:43.404Z"
   },
   {
    "duration": 11,
    "start_time": "2023-04-15T09:55:43.782Z"
   },
   {
    "duration": 12,
    "start_time": "2023-04-15T09:55:43.993Z"
   },
   {
    "duration": 44,
    "start_time": "2023-04-15T09:55:44.158Z"
   },
   {
    "duration": 1373,
    "start_time": "2023-04-15T09:55:44.344Z"
   },
   {
    "duration": 16,
    "start_time": "2023-04-15T09:55:45.719Z"
   },
   {
    "duration": 287,
    "start_time": "2023-04-15T09:55:45.736Z"
   },
   {
    "duration": 163,
    "start_time": "2023-04-15T09:55:46.025Z"
   },
   {
    "duration": 11,
    "start_time": "2023-04-15T09:55:46.190Z"
   },
   {
    "duration": 12,
    "start_time": "2023-04-15T09:55:46.220Z"
   },
   {
    "duration": 17,
    "start_time": "2023-04-15T09:55:48.101Z"
   },
   {
    "duration": 9,
    "start_time": "2023-04-15T09:55:48.491Z"
   },
   {
    "duration": 10,
    "start_time": "2023-04-15T09:55:48.881Z"
   },
   {
    "duration": 8,
    "start_time": "2023-04-15T09:55:49.271Z"
   },
   {
    "duration": 6,
    "start_time": "2023-04-15T09:55:49.672Z"
   },
   {
    "duration": 11,
    "start_time": "2023-04-15T09:55:49.869Z"
   },
   {
    "duration": 10,
    "start_time": "2023-04-15T09:55:50.290Z"
   },
   {
    "duration": 11,
    "start_time": "2023-04-15T09:55:50.469Z"
   },
   {
    "duration": 5,
    "start_time": "2023-04-15T09:55:50.971Z"
   },
   {
    "duration": 5,
    "start_time": "2023-04-15T09:55:51.491Z"
   },
   {
    "duration": 10,
    "start_time": "2023-04-15T09:55:51.708Z"
   },
   {
    "duration": 10,
    "start_time": "2023-04-15T09:55:52.131Z"
   },
   {
    "duration": 9,
    "start_time": "2023-04-15T09:55:52.378Z"
   },
   {
    "duration": 9,
    "start_time": "2023-04-15T09:55:52.868Z"
   },
   {
    "duration": 9,
    "start_time": "2023-04-15T09:55:53.148Z"
   },
   {
    "duration": 13,
    "start_time": "2023-04-15T09:55:53.603Z"
   },
   {
    "duration": 9,
    "start_time": "2023-04-15T09:55:53.869Z"
   },
   {
    "duration": 4,
    "start_time": "2023-04-15T09:55:55.107Z"
   },
   {
    "duration": 30,
    "start_time": "2023-04-15T09:55:55.916Z"
   },
   {
    "duration": 12,
    "start_time": "2023-04-15T09:55:56.111Z"
   },
   {
    "duration": 5,
    "start_time": "2023-04-15T09:55:57.237Z"
   },
   {
    "duration": 7,
    "start_time": "2023-04-15T09:55:57.830Z"
   },
   {
    "duration": 8,
    "start_time": "2023-04-15T09:55:58.224Z"
   },
   {
    "duration": 7,
    "start_time": "2023-04-15T09:55:58.676Z"
   },
   {
    "duration": 7,
    "start_time": "2023-04-15T09:55:58.870Z"
   },
   {
    "duration": 10,
    "start_time": "2023-04-15T09:55:59.286Z"
   },
   {
    "duration": 8,
    "start_time": "2023-04-15T09:55:59.692Z"
   },
   {
    "duration": 6,
    "start_time": "2023-04-15T09:56:00.107Z"
   },
   {
    "duration": 8,
    "start_time": "2023-04-15T09:56:00.485Z"
   },
   {
    "duration": 10,
    "start_time": "2023-04-15T09:56:00.671Z"
   },
   {
    "duration": 9,
    "start_time": "2023-04-15T09:56:00.869Z"
   },
   {
    "duration": 8,
    "start_time": "2023-04-15T09:56:01.235Z"
   },
   {
    "duration": 14,
    "start_time": "2023-04-15T09:56:01.443Z"
   },
   {
    "duration": 13,
    "start_time": "2023-04-15T09:56:01.638Z"
   },
   {
    "duration": 13,
    "start_time": "2023-04-15T09:56:02.011Z"
   },
   {
    "duration": 11,
    "start_time": "2023-04-15T09:56:02.200Z"
   },
   {
    "duration": 3,
    "start_time": "2023-04-15T09:56:02.969Z"
   },
   {
    "duration": 19,
    "start_time": "2023-04-15T09:56:03.526Z"
   },
   {
    "duration": 12,
    "start_time": "2023-04-15T09:56:03.725Z"
   },
   {
    "duration": 21,
    "start_time": "2023-04-15T09:56:04.903Z"
   },
   {
    "duration": 11,
    "start_time": "2023-04-15T09:56:05.511Z"
   },
   {
    "duration": 18,
    "start_time": "2023-04-15T09:56:05.742Z"
   },
   {
    "duration": 14,
    "start_time": "2023-04-15T09:56:06.183Z"
   },
   {
    "duration": 21,
    "start_time": "2023-04-15T09:56:06.415Z"
   },
   {
    "duration": 8,
    "start_time": "2023-04-15T09:56:06.815Z"
   },
   {
    "duration": 10,
    "start_time": "2023-04-15T09:56:07.199Z"
   },
   {
    "duration": 8,
    "start_time": "2023-04-15T09:56:07.384Z"
   },
   {
    "duration": 10,
    "start_time": "2023-04-15T09:56:07.580Z"
   },
   {
    "duration": 11,
    "start_time": "2023-04-15T09:56:07.968Z"
   },
   {
    "duration": 10,
    "start_time": "2023-04-15T09:56:08.351Z"
   },
   {
    "duration": 10,
    "start_time": "2023-04-15T09:56:08.731Z"
   },
   {
    "duration": 5,
    "start_time": "2023-04-15T09:56:09.130Z"
   },
   {
    "duration": 7,
    "start_time": "2023-04-15T09:56:09.577Z"
   },
   {
    "duration": 20,
    "start_time": "2023-04-15T09:56:09.807Z"
   },
   {
    "duration": 12,
    "start_time": "2023-04-15T09:56:10.032Z"
   },
   {
    "duration": 2,
    "start_time": "2023-04-15T09:56:10.992Z"
   },
   {
    "duration": 4607,
    "start_time": "2023-04-15T09:56:11.887Z"
   },
   {
    "duration": 5,
    "start_time": "2023-04-15T09:56:16.498Z"
   },
   {
    "duration": 104,
    "start_time": "2023-04-15T09:56:16.504Z"
   },
   {
    "duration": 6,
    "start_time": "2023-04-15T09:56:16.610Z"
   },
   {
    "duration": 11,
    "start_time": "2023-04-15T09:56:16.617Z"
   },
   {
    "duration": 10839,
    "start_time": "2023-04-15T09:56:18.456Z"
   },
   {
    "duration": 69502,
    "start_time": "2023-04-15T09:56:29.297Z"
   },
   {
    "duration": 1147214,
    "start_time": "2023-04-15T09:57:38.801Z"
   },
   {
    "duration": 79,
    "start_time": "2023-04-15T10:16:46.017Z"
   },
   {
    "duration": 81,
    "start_time": "2023-04-15T10:16:59.594Z"
   },
   {
    "duration": 659,
    "start_time": "2023-04-15T10:17:41.767Z"
   },
   {
    "duration": 585,
    "start_time": "2023-04-15T10:18:00.777Z"
   },
   {
    "duration": 581,
    "start_time": "2023-04-15T10:19:10.084Z"
   },
   {
    "duration": 592,
    "start_time": "2023-04-15T10:19:24.673Z"
   }
  ],
  "kernelspec": {
   "display_name": "Python 3 (ipykernel)",
   "language": "python",
   "name": "python3"
  },
  "language_info": {
   "codemirror_mode": {
    "name": "ipython",
    "version": 3
   },
   "file_extension": ".py",
   "mimetype": "text/x-python",
   "name": "python",
   "nbconvert_exporter": "python",
   "pygments_lexer": "ipython3",
   "version": "3.9.13"
  },
  "toc": {
   "base_numbering": 1,
   "nav_menu": {},
   "number_sections": true,
   "sideBar": true,
   "skip_h1_title": true,
   "title_cell": "Table of Contents",
   "title_sidebar": "Contents",
   "toc_cell": false,
   "toc_position": {},
   "toc_section_display": true,
   "toc_window_display": false
  }
 },
 "nbformat": 4,
 "nbformat_minor": 2
}
