{
 "cells": [
  {
   "attachments": {},
   "cell_type": "markdown",
   "id": "d61f87d3",
   "metadata": {},
   "source": [
    "# Исследование надежности заемщиков\n"
   ]
  },
  {
   "attachments": {},
   "cell_type": "markdown",
   "id": "fc1d16dc",
   "metadata": {},
   "source": [
    "## Описание проекта"
   ]
  },
  {
   "attachments": {},
   "cell_type": "markdown",
   "id": "2494143f",
   "metadata": {},
   "source": [
    "Заказчик — кредитный отдел банка. Нужно разобраться, влияет ли семейное положение и количество детей клиента на факт погашения кредита в срок. Входные данные от банка — статистика о платёжеспособности клиентов.\n",
    "\n",
    "Результаты исследования будут учтены при построении модели кредитного скоринга — специальной системы, которая оценивает способность потенциального заёмщика вернуть кредит банку."
   ]
  },
  {
   "attachments": {},
   "cell_type": "markdown",
   "id": "30753096",
   "metadata": {},
   "source": [
    "## Импорт необходимых библиотек"
   ]
  },
  {
   "cell_type": "code",
   "execution_count": 1,
   "id": "a22832f6",
   "metadata": {},
   "outputs": [],
   "source": [
    "import pandas as pd\n",
    "import matplotlib.pyplot as plt"
   ]
  },
  {
   "attachments": {},
   "cell_type": "markdown",
   "id": "d960f06d",
   "metadata": {},
   "source": [
    "## Загружаем данные"
   ]
  },
  {
   "cell_type": "code",
   "execution_count": 2,
   "id": "fb676f6d",
   "metadata": {},
   "outputs": [],
   "source": [
    "try:\n",
    "    data = pd.read_csv('/datasets/data.csv')\n",
    "except:\n",
    "    data = pd.read_csv(r'E:\\Practicum\\2_Projects_Git\\2_borrower_research_crediting\\data.csv')"
   ]
  },
  {
   "attachments": {},
   "cell_type": "markdown",
   "id": "439a8b70",
   "metadata": {},
   "source": [
    "## Описание данных"
   ]
  },
  {
   "attachments": {},
   "cell_type": "markdown",
   "id": "f4214871",
   "metadata": {},
   "source": [
    "- `children` — количество детей в семье\n",
    "- `days_employed` — общий трудовой стаж в днях\n",
    "- `dob_years` — возраст клиента в годах\n",
    "- `education` — уровень образования клиента\n",
    "- `education_id` — идентификатор уровня образования\n",
    "- `family_status` — семейное положение\n",
    "- `family_status_id` — идентификатор семейного положения\n",
    "- `gender` — пол клиента\n",
    "- `income_type` — тип занятости\n",
    "- `debt` — имел ли задолженность по возврату кредитов\n",
    "- `total_income` — ежемесячный доход\n",
    "- `purpose` — цель получения кредита"
   ]
  },
  {
   "attachments": {},
   "cell_type": "markdown",
   "id": "890c9336",
   "metadata": {},
   "source": [
    "Просмотрим первые десять строк:"
   ]
  },
  {
   "cell_type": "code",
   "execution_count": 3,
   "id": "173e72a7",
   "metadata": {},
   "outputs": [
    {
     "data": {
      "text/html": [
       "<div>\n",
       "<style scoped>\n",
       "    .dataframe tbody tr th:only-of-type {\n",
       "        vertical-align: middle;\n",
       "    }\n",
       "\n",
       "    .dataframe tbody tr th {\n",
       "        vertical-align: top;\n",
       "    }\n",
       "\n",
       "    .dataframe thead th {\n",
       "        text-align: right;\n",
       "    }\n",
       "</style>\n",
       "<table border=\"1\" class=\"dataframe\">\n",
       "  <thead>\n",
       "    <tr style=\"text-align: right;\">\n",
       "      <th></th>\n",
       "      <th>children</th>\n",
       "      <th>days_employed</th>\n",
       "      <th>dob_years</th>\n",
       "      <th>education</th>\n",
       "      <th>education_id</th>\n",
       "      <th>family_status</th>\n",
       "      <th>family_status_id</th>\n",
       "      <th>gender</th>\n",
       "      <th>income_type</th>\n",
       "      <th>debt</th>\n",
       "      <th>total_income</th>\n",
       "      <th>purpose</th>\n",
       "    </tr>\n",
       "  </thead>\n",
       "  <tbody>\n",
       "    <tr>\n",
       "      <th>0</th>\n",
       "      <td>1</td>\n",
       "      <td>-8437.673028</td>\n",
       "      <td>42</td>\n",
       "      <td>высшее</td>\n",
       "      <td>0</td>\n",
       "      <td>женат / замужем</td>\n",
       "      <td>0</td>\n",
       "      <td>F</td>\n",
       "      <td>сотрудник</td>\n",
       "      <td>0</td>\n",
       "      <td>253875.639453</td>\n",
       "      <td>покупка жилья</td>\n",
       "    </tr>\n",
       "    <tr>\n",
       "      <th>1</th>\n",
       "      <td>1</td>\n",
       "      <td>-4024.803754</td>\n",
       "      <td>36</td>\n",
       "      <td>среднее</td>\n",
       "      <td>1</td>\n",
       "      <td>женат / замужем</td>\n",
       "      <td>0</td>\n",
       "      <td>F</td>\n",
       "      <td>сотрудник</td>\n",
       "      <td>0</td>\n",
       "      <td>112080.014102</td>\n",
       "      <td>приобретение автомобиля</td>\n",
       "    </tr>\n",
       "    <tr>\n",
       "      <th>2</th>\n",
       "      <td>0</td>\n",
       "      <td>-5623.422610</td>\n",
       "      <td>33</td>\n",
       "      <td>Среднее</td>\n",
       "      <td>1</td>\n",
       "      <td>женат / замужем</td>\n",
       "      <td>0</td>\n",
       "      <td>M</td>\n",
       "      <td>сотрудник</td>\n",
       "      <td>0</td>\n",
       "      <td>145885.952297</td>\n",
       "      <td>покупка жилья</td>\n",
       "    </tr>\n",
       "    <tr>\n",
       "      <th>3</th>\n",
       "      <td>3</td>\n",
       "      <td>-4124.747207</td>\n",
       "      <td>32</td>\n",
       "      <td>среднее</td>\n",
       "      <td>1</td>\n",
       "      <td>женат / замужем</td>\n",
       "      <td>0</td>\n",
       "      <td>M</td>\n",
       "      <td>сотрудник</td>\n",
       "      <td>0</td>\n",
       "      <td>267628.550329</td>\n",
       "      <td>дополнительное образование</td>\n",
       "    </tr>\n",
       "    <tr>\n",
       "      <th>4</th>\n",
       "      <td>0</td>\n",
       "      <td>340266.072047</td>\n",
       "      <td>53</td>\n",
       "      <td>среднее</td>\n",
       "      <td>1</td>\n",
       "      <td>гражданский брак</td>\n",
       "      <td>1</td>\n",
       "      <td>F</td>\n",
       "      <td>пенсионер</td>\n",
       "      <td>0</td>\n",
       "      <td>158616.077870</td>\n",
       "      <td>сыграть свадьбу</td>\n",
       "    </tr>\n",
       "    <tr>\n",
       "      <th>5</th>\n",
       "      <td>0</td>\n",
       "      <td>-926.185831</td>\n",
       "      <td>27</td>\n",
       "      <td>высшее</td>\n",
       "      <td>0</td>\n",
       "      <td>гражданский брак</td>\n",
       "      <td>1</td>\n",
       "      <td>M</td>\n",
       "      <td>компаньон</td>\n",
       "      <td>0</td>\n",
       "      <td>255763.565419</td>\n",
       "      <td>покупка жилья</td>\n",
       "    </tr>\n",
       "    <tr>\n",
       "      <th>6</th>\n",
       "      <td>0</td>\n",
       "      <td>-2879.202052</td>\n",
       "      <td>43</td>\n",
       "      <td>высшее</td>\n",
       "      <td>0</td>\n",
       "      <td>женат / замужем</td>\n",
       "      <td>0</td>\n",
       "      <td>F</td>\n",
       "      <td>компаньон</td>\n",
       "      <td>0</td>\n",
       "      <td>240525.971920</td>\n",
       "      <td>операции с жильем</td>\n",
       "    </tr>\n",
       "    <tr>\n",
       "      <th>7</th>\n",
       "      <td>0</td>\n",
       "      <td>-152.779569</td>\n",
       "      <td>50</td>\n",
       "      <td>СРЕДНЕЕ</td>\n",
       "      <td>1</td>\n",
       "      <td>женат / замужем</td>\n",
       "      <td>0</td>\n",
       "      <td>M</td>\n",
       "      <td>сотрудник</td>\n",
       "      <td>0</td>\n",
       "      <td>135823.934197</td>\n",
       "      <td>образование</td>\n",
       "    </tr>\n",
       "    <tr>\n",
       "      <th>8</th>\n",
       "      <td>2</td>\n",
       "      <td>-6929.865299</td>\n",
       "      <td>35</td>\n",
       "      <td>ВЫСШЕЕ</td>\n",
       "      <td>0</td>\n",
       "      <td>гражданский брак</td>\n",
       "      <td>1</td>\n",
       "      <td>F</td>\n",
       "      <td>сотрудник</td>\n",
       "      <td>0</td>\n",
       "      <td>95856.832424</td>\n",
       "      <td>на проведение свадьбы</td>\n",
       "    </tr>\n",
       "    <tr>\n",
       "      <th>9</th>\n",
       "      <td>0</td>\n",
       "      <td>-2188.756445</td>\n",
       "      <td>41</td>\n",
       "      <td>среднее</td>\n",
       "      <td>1</td>\n",
       "      <td>женат / замужем</td>\n",
       "      <td>0</td>\n",
       "      <td>M</td>\n",
       "      <td>сотрудник</td>\n",
       "      <td>0</td>\n",
       "      <td>144425.938277</td>\n",
       "      <td>покупка жилья для семьи</td>\n",
       "    </tr>\n",
       "  </tbody>\n",
       "</table>\n",
       "</div>"
      ],
      "text/plain": [
       "   children  days_employed  dob_years education  education_id  \\\n",
       "0         1   -8437.673028         42    высшее             0   \n",
       "1         1   -4024.803754         36   среднее             1   \n",
       "2         0   -5623.422610         33   Среднее             1   \n",
       "3         3   -4124.747207         32   среднее             1   \n",
       "4         0  340266.072047         53   среднее             1   \n",
       "5         0    -926.185831         27    высшее             0   \n",
       "6         0   -2879.202052         43    высшее             0   \n",
       "7         0    -152.779569         50   СРЕДНЕЕ             1   \n",
       "8         2   -6929.865299         35    ВЫСШЕЕ             0   \n",
       "9         0   -2188.756445         41   среднее             1   \n",
       "\n",
       "      family_status  family_status_id gender income_type  debt   total_income  \\\n",
       "0   женат / замужем                 0      F   сотрудник     0  253875.639453   \n",
       "1   женат / замужем                 0      F   сотрудник     0  112080.014102   \n",
       "2   женат / замужем                 0      M   сотрудник     0  145885.952297   \n",
       "3   женат / замужем                 0      M   сотрудник     0  267628.550329   \n",
       "4  гражданский брак                 1      F   пенсионер     0  158616.077870   \n",
       "5  гражданский брак                 1      M   компаньон     0  255763.565419   \n",
       "6   женат / замужем                 0      F   компаньон     0  240525.971920   \n",
       "7   женат / замужем                 0      M   сотрудник     0  135823.934197   \n",
       "8  гражданский брак                 1      F   сотрудник     0   95856.832424   \n",
       "9   женат / замужем                 0      M   сотрудник     0  144425.938277   \n",
       "\n",
       "                      purpose  \n",
       "0               покупка жилья  \n",
       "1     приобретение автомобиля  \n",
       "2               покупка жилья  \n",
       "3  дополнительное образование  \n",
       "4             сыграть свадьбу  \n",
       "5               покупка жилья  \n",
       "6           операции с жильем  \n",
       "7                 образование  \n",
       "8       на проведение свадьбы  \n",
       "9     покупка жилья для семьи  "
      ]
     },
     "execution_count": 3,
     "metadata": {},
     "output_type": "execute_result"
    }
   ],
   "source": [
    "data.head(10)"
   ]
  },
  {
   "attachments": {},
   "cell_type": "markdown",
   "id": "a49675d0",
   "metadata": {},
   "source": [
    "Выведем информацию о датасете:"
   ]
  },
  {
   "cell_type": "code",
   "execution_count": 4,
   "id": "0ce329db",
   "metadata": {},
   "outputs": [
    {
     "name": "stdout",
     "output_type": "stream",
     "text": [
      "<class 'pandas.core.frame.DataFrame'>\n",
      "RangeIndex: 21525 entries, 0 to 21524\n",
      "Data columns (total 12 columns):\n",
      " #   Column            Non-Null Count  Dtype  \n",
      "---  ------            --------------  -----  \n",
      " 0   children          21525 non-null  int64  \n",
      " 1   days_employed     19351 non-null  float64\n",
      " 2   dob_years         21525 non-null  int64  \n",
      " 3   education         21525 non-null  object \n",
      " 4   education_id      21525 non-null  int64  \n",
      " 5   family_status     21525 non-null  object \n",
      " 6   family_status_id  21525 non-null  int64  \n",
      " 7   gender            21525 non-null  object \n",
      " 8   income_type       21525 non-null  object \n",
      " 9   debt              21525 non-null  int64  \n",
      " 10  total_income      19351 non-null  float64\n",
      " 11  purpose           21525 non-null  object \n",
      "dtypes: float64(2), int64(5), object(5)\n",
      "memory usage: 2.0+ MB\n"
     ]
    }
   ],
   "source": [
    "data.info()"
   ]
  },
  {
   "attachments": {},
   "cell_type": "markdown",
   "id": "0576e8d3",
   "metadata": {},
   "source": [
    "## Предобработка данных"
   ]
  },
  {
   "attachments": {},
   "cell_type": "markdown",
   "id": "7788b93d",
   "metadata": {},
   "source": [
    "### Удаление пропусков"
   ]
  },
  {
   "attachments": {},
   "cell_type": "markdown",
   "id": "e3cacd09",
   "metadata": {},
   "source": [
    "Смотрим суммарное количество пропусков по столбцам:"
   ]
  },
  {
   "cell_type": "code",
   "execution_count": 5,
   "id": "c0f5d70e",
   "metadata": {},
   "outputs": [
    {
     "data": {
      "text/plain": [
       "children               0\n",
       "days_employed       2174\n",
       "dob_years              0\n",
       "education              0\n",
       "education_id           0\n",
       "family_status          0\n",
       "family_status_id       0\n",
       "gender                 0\n",
       "income_type            0\n",
       "debt                   0\n",
       "total_income        2174\n",
       "purpose                0\n",
       "dtype: int64"
      ]
     },
     "execution_count": 5,
     "metadata": {},
     "output_type": "execute_result"
    }
   ],
   "source": [
    "data.isna().sum()"
   ]
  },
  {
   "attachments": {},
   "cell_type": "markdown",
   "id": "8ac4e8c4",
   "metadata": {},
   "source": [
    "Заполняем пропуски в столбце `total_income` медианным значением `total_income` для каждого типа из столбца `income_type`."
   ]
  },
  {
   "cell_type": "code",
   "execution_count": 6,
   "id": "1035d83e",
   "metadata": {},
   "outputs": [],
   "source": [
    "for t in data['income_type'].unique():\n",
    "    data.loc[(data['income_type'] == t) & (data['total_income'].isna()), 'total_income'] = \\\n",
    "    data.loc[(data['income_type'] == t), 'total_income'].median()"
   ]
  },
  {
   "attachments": {},
   "cell_type": "markdown",
   "id": "97bd7052",
   "metadata": {},
   "source": [
    "Заполняем пропуски в столбце `days_employed` медианными значениями для каждого типа занятости `income_type`."
   ]
  },
  {
   "cell_type": "code",
   "execution_count": 7,
   "id": "b4e08b70",
   "metadata": {},
   "outputs": [],
   "source": [
    "for t in data['income_type'].unique():\n",
    "    data.loc[(data['income_type'] == t) & (data['days_employed'].isna()), 'days_employed'] = \\\n",
    "    data.loc[(data['income_type'] == t), 'days_employed'].median()"
   ]
  },
  {
   "cell_type": "code",
   "execution_count": 8,
   "id": "5ae05877",
   "metadata": {},
   "outputs": [
    {
     "data": {
      "text/plain": [
       "children            0\n",
       "days_employed       0\n",
       "dob_years           0\n",
       "education           0\n",
       "education_id        0\n",
       "family_status       0\n",
       "family_status_id    0\n",
       "gender              0\n",
       "income_type         0\n",
       "debt                0\n",
       "total_income        0\n",
       "purpose             0\n",
       "dtype: int64"
      ]
     },
     "execution_count": 8,
     "metadata": {},
     "output_type": "execute_result"
    }
   ],
   "source": [
    "data.isna().sum()"
   ]
  },
  {
   "attachments": {},
   "cell_type": "markdown",
   "id": "5ca01c64",
   "metadata": {},
   "source": [
    "### Обработка аномальных значений"
   ]
  },
  {
   "attachments": {},
   "cell_type": "markdown",
   "id": "55b35487",
   "metadata": {},
   "source": [
    "Все отрицательные значения заменяем положительными."
   ]
  },
  {
   "cell_type": "code",
   "execution_count": 9,
   "id": "015b461a",
   "metadata": {},
   "outputs": [],
   "source": [
    "data['days_employed'] = data['days_employed'].abs()"
   ]
  },
  {
   "attachments": {},
   "cell_type": "markdown",
   "id": "0ade1266",
   "metadata": {},
   "source": [
    "Для каждого типа занятости выведем медианное значение трудового стажа `days_employed` в днях."
   ]
  },
  {
   "cell_type": "code",
   "execution_count": 10,
   "id": "d476fcba",
   "metadata": {},
   "outputs": [
    {
     "data": {
      "text/plain": [
       "income_type\n",
       "безработный        366413.652744\n",
       "в декрете            3296.759962\n",
       "госслужащий          2689.368353\n",
       "компаньон            1547.382223\n",
       "пенсионер          365213.306266\n",
       "предприниматель       520.848083\n",
       "сотрудник            1574.202821\n",
       "студент               578.751554\n",
       "Name: days_employed, dtype: float64"
      ]
     },
     "execution_count": 10,
     "metadata": {},
     "output_type": "execute_result"
    }
   ],
   "source": [
    "data.groupby('income_type')['days_employed'].agg('median')"
   ]
  },
  {
   "attachments": {},
   "cell_type": "markdown",
   "id": "51b0e827",
   "metadata": {},
   "source": [
    "У двух типов (безработные и пенсионеры) получатся аномально большие значения, но этот столбец не понадобится нам для исследования. Оставляем данные нетронутыми."
   ]
  },
  {
   "attachments": {},
   "cell_type": "markdown",
   "metadata": {},
   "source": [
    "Находим уникальные значения столбца `children`."
   ]
  },
  {
   "cell_type": "code",
   "execution_count": 11,
   "metadata": {},
   "outputs": [
    {
     "data": {
      "text/plain": [
       "array([ 1,  0,  3,  2, -1,  4, 20,  5], dtype=int64)"
      ]
     },
     "execution_count": 11,
     "metadata": {},
     "output_type": "execute_result"
    }
   ],
   "source": [
    "data['children'].unique()"
   ]
  },
  {
   "attachments": {},
   "cell_type": "markdown",
   "metadata": {},
   "source": [
    "В столбце `children` есть два аномальных значения. Удалим строки, в которых встречаются такие аномальные значения."
   ]
  },
  {
   "cell_type": "code",
   "execution_count": 12,
   "metadata": {},
   "outputs": [],
   "source": [
    "data = data[(data['children'] != -1) & (data['children'] != 20)]"
   ]
  },
  {
   "attachments": {},
   "cell_type": "markdown",
   "id": "591ea779",
   "metadata": {},
   "source": [
    "### Изменение типов данных"
   ]
  },
  {
   "attachments": {},
   "cell_type": "markdown",
   "id": "a0e5086c",
   "metadata": {},
   "source": [
    "Приводим столбец `total_income` к целочисленному виду с помощью метода `astype()`."
   ]
  },
  {
   "cell_type": "code",
   "execution_count": 13,
   "id": "bd896718",
   "metadata": {},
   "outputs": [],
   "source": [
    "data['total_income'] = data['total_income'].astype(int)"
   ]
  },
  {
   "attachments": {},
   "cell_type": "markdown",
   "id": "91aa0ef4",
   "metadata": {},
   "source": [
    "### Обработка дубликатов"
   ]
  },
  {
   "attachments": {},
   "cell_type": "markdown",
   "id": "ef08fed1",
   "metadata": {},
   "source": [
    "Обработаем значения в столбце `education`. По условию задания мы знаем, что в этом столбце есть одни и те же значения, но записанные по-разному: с использованием заглавных и строчных букв. Приведём их к нижнему регистру."
   ]
  },
  {
   "cell_type": "code",
   "execution_count": 14,
   "id": "472195ba",
   "metadata": {},
   "outputs": [],
   "source": [
    "data['education'] = data['education'].str.lower()"
   ]
  },
  {
   "attachments": {},
   "cell_type": "markdown",
   "id": "3a82e2e7",
   "metadata": {},
   "source": [
    "Выведем количество дубликатов:"
   ]
  },
  {
   "cell_type": "code",
   "execution_count": 15,
   "id": "70d03382",
   "metadata": {},
   "outputs": [
    {
     "data": {
      "text/plain": [
       "71"
      ]
     },
     "execution_count": 15,
     "metadata": {},
     "output_type": "execute_result"
    }
   ],
   "source": [
    "data.duplicated().sum()"
   ]
  },
  {
   "attachments": {},
   "cell_type": "markdown",
   "id": "d4bb738c",
   "metadata": {},
   "source": [
    "Удаляем дубликаты."
   ]
  },
  {
   "cell_type": "code",
   "execution_count": 16,
   "id": "9039b516",
   "metadata": {},
   "outputs": [],
   "source": [
    "data = data.drop_duplicates()"
   ]
  },
  {
   "attachments": {},
   "cell_type": "markdown",
   "id": "5ca610f7",
   "metadata": {},
   "source": [
    "### Категоризация данных"
   ]
  },
  {
   "attachments": {},
   "cell_type": "markdown",
   "id": "3a2853db",
   "metadata": {},
   "source": [
    "Создадим столбец `total_income_category` с категориями. Для этого запишем функцию с именем `categorize_income()` и применим метод `apply()`."
   ]
  },
  {
   "cell_type": "code",
   "execution_count": 17,
   "id": "6b7c4007",
   "metadata": {},
   "outputs": [],
   "source": [
    "def categorize_income(income):\n",
    "    try:\n",
    "        if 0 <= income <= 30000:\n",
    "            return 'E'\n",
    "        elif 30001 <= income <= 50000:\n",
    "            return 'D'\n",
    "        elif 50001 <= income <= 200000:\n",
    "            return 'C'\n",
    "        elif 200001 <= income <= 1000000:\n",
    "            return 'B'\n",
    "        elif income >= 1000001:\n",
    "            return 'A'\n",
    "    except:\n",
    "        pass"
   ]
  },
  {
   "cell_type": "code",
   "execution_count": 18,
   "id": "fb794f55",
   "metadata": {},
   "outputs": [],
   "source": [
    "data['total_income_category'] = data['total_income'].apply(categorize_income)"
   ]
  },
  {
   "attachments": {},
   "cell_type": "markdown",
   "id": "27d8de49",
   "metadata": {},
   "source": [
    "Выведем на экран перечень уникальных целей взятия кредита из столбца `purpose`."
   ]
  },
  {
   "cell_type": "code",
   "execution_count": 19,
   "id": "c683560c",
   "metadata": {},
   "outputs": [
    {
     "data": {
      "text/plain": [
       "array(['покупка жилья', 'приобретение автомобиля',\n",
       "       'дополнительное образование', 'сыграть свадьбу',\n",
       "       'операции с жильем', 'образование', 'на проведение свадьбы',\n",
       "       'покупка жилья для семьи', 'покупка недвижимости',\n",
       "       'покупка коммерческой недвижимости', 'покупка жилой недвижимости',\n",
       "       'строительство собственной недвижимости', 'недвижимость',\n",
       "       'строительство недвижимости', 'на покупку подержанного автомобиля',\n",
       "       'на покупку своего автомобиля',\n",
       "       'операции с коммерческой недвижимостью',\n",
       "       'строительство жилой недвижимости', 'жилье',\n",
       "       'операции со своей недвижимостью', 'автомобили',\n",
       "       'заняться образованием', 'сделка с подержанным автомобилем',\n",
       "       'получение образования', 'автомобиль', 'свадьба',\n",
       "       'получение дополнительного образования', 'покупка своего жилья',\n",
       "       'операции с недвижимостью', 'получение высшего образования',\n",
       "       'свой автомобиль', 'сделка с автомобилем',\n",
       "       'профильное образование', 'высшее образование',\n",
       "       'покупка жилья для сдачи', 'на покупку автомобиля', 'ремонт жилью',\n",
       "       'заняться высшим образованием'], dtype=object)"
      ]
     },
     "execution_count": 19,
     "metadata": {},
     "output_type": "execute_result"
    }
   ],
   "source": [
    "data['purpose'].unique()"
   ]
  },
  {
   "attachments": {},
   "cell_type": "markdown",
   "id": "4585e388",
   "metadata": {},
   "source": [
    "Создадим функцию, которая на основании данных из столбца `purpose` сформирует новый столбец `purpose_category`, в который войдут следующие категории:\n",
    "\n",
    "- `'операции с автомобилем'`,\n",
    "- `'операции с недвижимостью'`,\n",
    "- `'проведение свадьбы'`,\n",
    "- `'получение образования'`."
   ]
  },
  {
   "cell_type": "code",
   "execution_count": 20,
   "id": "27a0acfe",
   "metadata": {},
   "outputs": [],
   "source": [
    "def categorize_purpose(row):\n",
    "    try:\n",
    "        if 'автом' in row:\n",
    "            return 'операции с автомобилем'\n",
    "        elif 'жил' in row or 'недвиж' in row:\n",
    "            return 'операции с недвижимостью'\n",
    "        elif 'свад' in row:\n",
    "            return 'проведение свадьбы'\n",
    "        elif 'образов' in row:\n",
    "            return 'получение образования'\n",
    "    except:\n",
    "        return 'нет категории'"
   ]
  },
  {
   "cell_type": "code",
   "execution_count": 21,
   "id": "5f2565a0",
   "metadata": {},
   "outputs": [],
   "source": [
    "data['purpose_category'] = data['purpose'].apply(categorize_purpose)"
   ]
  },
  {
   "attachments": {},
   "cell_type": "markdown",
   "id": "9463d5a3",
   "metadata": {},
   "source": [
    "## Исследование данных"
   ]
  },
  {
   "attachments": {},
   "cell_type": "markdown",
   "id": "590d9a38",
   "metadata": {},
   "source": [
    "### Есть ли зависимость между количеством детей и возвратом кредита в срок?"
   ]
  },
  {
   "cell_type": "code",
   "execution_count": 23,
   "id": "6c883452",
   "metadata": {},
   "outputs": [
    {
     "data": {
      "text/html": [
       "<div>\n",
       "<style scoped>\n",
       "    .dataframe tbody tr th:only-of-type {\n",
       "        vertical-align: middle;\n",
       "    }\n",
       "\n",
       "    .dataframe tbody tr th {\n",
       "        vertical-align: top;\n",
       "    }\n",
       "\n",
       "    .dataframe thead th {\n",
       "        text-align: right;\n",
       "    }\n",
       "</style>\n",
       "<table border=\"1\" class=\"dataframe\">\n",
       "  <thead>\n",
       "    <tr style=\"text-align: right;\">\n",
       "      <th></th>\n",
       "      <th>debt</th>\n",
       "      <th>debt_in_group</th>\n",
       "      <th>grouped_by_children</th>\n",
       "    </tr>\n",
       "    <tr>\n",
       "      <th>children</th>\n",
       "      <th></th>\n",
       "      <th></th>\n",
       "      <th></th>\n",
       "    </tr>\n",
       "  </thead>\n",
       "  <tbody>\n",
       "    <tr>\n",
       "      <th>0</th>\n",
       "      <td>0.075438</td>\n",
       "      <td>1063</td>\n",
       "      <td>14091</td>\n",
       "    </tr>\n",
       "    <tr>\n",
       "      <th>1</th>\n",
       "      <td>0.092346</td>\n",
       "      <td>444</td>\n",
       "      <td>4808</td>\n",
       "    </tr>\n",
       "    <tr>\n",
       "      <th>2</th>\n",
       "      <td>0.094542</td>\n",
       "      <td>194</td>\n",
       "      <td>2052</td>\n",
       "    </tr>\n",
       "    <tr>\n",
       "      <th>3</th>\n",
       "      <td>0.081818</td>\n",
       "      <td>27</td>\n",
       "      <td>330</td>\n",
       "    </tr>\n",
       "    <tr>\n",
       "      <th>4</th>\n",
       "      <td>0.097561</td>\n",
       "      <td>4</td>\n",
       "      <td>41</td>\n",
       "    </tr>\n",
       "    <tr>\n",
       "      <th>5</th>\n",
       "      <td>0.000000</td>\n",
       "      <td>0</td>\n",
       "      <td>9</td>\n",
       "    </tr>\n",
       "  </tbody>\n",
       "</table>\n",
       "</div>"
      ],
      "text/plain": [
       "              debt  debt_in_group  grouped_by_children\n",
       "children                                              \n",
       "0         0.075438           1063                14091\n",
       "1         0.092346            444                 4808\n",
       "2         0.094542            194                 2052\n",
       "3         0.081818             27                  330\n",
       "4         0.097561              4                   41\n",
       "5         0.000000              0                    9"
      ]
     },
     "metadata": {},
     "output_type": "display_data"
    },
    {
     "data": {
      "image/png": "[encoded data removed]",
      "text/plain": [
       "<Figure size 640x480 with 1 Axes>"
      ]
     },
     "metadata": {},
     "output_type": "display_data"
    }
   ],
   "source": [
    "data_pivot_children = pd.pivot_table(data, index=['children'], values='debt') # создание сводной таблицы сгруппированной по индексу 'children' и выводом отношения должников к общему количеству людей в группах (не в %, отношение!)\n",
    "\n",
    "data_pivot_children['debt_in_group'] = list(data.groupby('children')['debt'].sum()) # добавление столбца 'debt_in_group' с количеством должников в каждой группе\n",
    "data_pivot_children['grouped_by_children'] = list(data.groupby('children')['children'].count()) # добавление столбца 'grouped_by_children' с общим количеством людей в группах\n",
    "\n",
    "display(data_pivot_children) # Вывод на экран таблицы с полученными данными\n",
    "\n",
    "import seaborn # импорт библиотеки seaborn для построения столбчатой диаграммы\n",
    "seaborn.barplot(data=data_pivot_children, x=data_pivot_children.index, y=data_pivot_children['debt'] * 100); # построение диаграммы, ось x=количество детей, ось y=процент должников.\n"
   ]
  },
  {
   "attachments": {},
   "cell_type": "markdown",
   "id": "11b22091",
   "metadata": {},
   "source": [
    "**Вывод:** На первый взгляд можно предположить, что количество детей прямо влияет на количество возвратов в срок: чем больше детей, тем меньше людей не возвращант кредиты. Об этом можно предположить, исходя из debt_children.\n",
    "Но на деле, это не совсем так. Беря во внимание количество людей в группах people_in_group_child (а именно тот факт, что чем меньше в группе детей, тем больше эта группа), мы можем посчитать процент должников в каждой группе percent_debt.\n",
    "Исходя из полученных результатов, можно сделать вывод о том, что в процентном отношении нет прямой связи между количеством детей и возвратом кредита в срок.\n",
    "То, что задержек по выплатам в группе с 5 детьми нет, может говорить о том, что эта группа слишком маленькая (9 человек) для статистики."
   ]
  },
  {
   "attachments": {},
   "cell_type": "markdown",
   "id": "3d3f27d6",
   "metadata": {},
   "source": [
    "### Есть ли зависимость между семейным положением и возвратом кредита в срок?"
   ]
  },
  {
   "cell_type": "code",
   "execution_count": 24,
   "id": "be2d6420",
   "metadata": {},
   "outputs": [
    {
     "data": {
      "text/html": [
       "<div>\n",
       "<style scoped>\n",
       "    .dataframe tbody tr th:only-of-type {\n",
       "        vertical-align: middle;\n",
       "    }\n",
       "\n",
       "    .dataframe tbody tr th {\n",
       "        vertical-align: top;\n",
       "    }\n",
       "\n",
       "    .dataframe thead th {\n",
       "        text-align: right;\n",
       "    }\n",
       "</style>\n",
       "<table border=\"1\" class=\"dataframe\">\n",
       "  <thead>\n",
       "    <tr style=\"text-align: right;\">\n",
       "      <th></th>\n",
       "      <th>debt</th>\n",
       "      <th>debt_in_family</th>\n",
       "      <th>grouped_by_family</th>\n",
       "    </tr>\n",
       "    <tr>\n",
       "      <th>family_status</th>\n",
       "      <th></th>\n",
       "      <th></th>\n",
       "      <th></th>\n",
       "    </tr>\n",
       "  </thead>\n",
       "  <tbody>\n",
       "    <tr>\n",
       "      <th>Не женат / не замужем</th>\n",
       "      <td>0.097639</td>\n",
       "      <td>273</td>\n",
       "      <td>2796</td>\n",
       "    </tr>\n",
       "    <tr>\n",
       "      <th>в разводе</th>\n",
       "      <td>0.070648</td>\n",
       "      <td>84</td>\n",
       "      <td>1189</td>\n",
       "    </tr>\n",
       "    <tr>\n",
       "      <th>вдовец / вдова</th>\n",
       "      <td>0.066246</td>\n",
       "      <td>63</td>\n",
       "      <td>951</td>\n",
       "    </tr>\n",
       "    <tr>\n",
       "      <th>гражданский брак</th>\n",
       "      <td>0.093130</td>\n",
       "      <td>385</td>\n",
       "      <td>4134</td>\n",
       "    </tr>\n",
       "    <tr>\n",
       "      <th>женат / замужем</th>\n",
       "      <td>0.075606</td>\n",
       "      <td>927</td>\n",
       "      <td>12261</td>\n",
       "    </tr>\n",
       "  </tbody>\n",
       "</table>\n",
       "</div>"
      ],
      "text/plain": [
       "                           debt  debt_in_family  grouped_by_family\n",
       "family_status                                                     \n",
       "Не женат / не замужем  0.097639             273               2796\n",
       "в разводе              0.070648              84               1189\n",
       "вдовец / вдова         0.066246              63                951\n",
       "гражданский брак       0.093130             385               4134\n",
       "женат / замужем        0.075606             927              12261"
      ]
     },
     "metadata": {},
     "output_type": "display_data"
    },
    {
     "data": {
      "image/png": "[encoded data removed]",
      "text/plain": [
       "<Figure size 640x480 with 1 Axes>"
      ]
     },
     "metadata": {},
     "output_type": "display_data"
    }
   ],
   "source": [
    "data_pivot_family = pd.pivot_table(data, index=['family_status'], values='debt') # создание сводной таблицы сгруппированной по индексу 'family_status' и выводом отношения должников к общему количеству людей в группах (не в %, а отношение!)\n",
    "\n",
    "data_pivot_family['debt_in_family'] = list(data.groupby('family_status')['debt'].sum()) # добавление столбца 'debt_in_family' с количеством должников в каждой группе\n",
    "data_pivot_family['grouped_by_family'] = list(data.groupby('family_status')['family_status'].count()) # добавление столбца 'grouped_by_family' с общим количеством людей в группах\n",
    "\n",
    "display(data_pivot_family) # Вывод на экран таблицы с полученными данными\n",
    "\n",
    "seaborn.barplot(data=data_pivot_family, x=data_pivot_family.index, y=data_pivot_family['debt'] * 100); # построение диаграммы, ось x=семейное положение, ось y=процент должников.\n",
    "plt.xticks(rotation=45, ha='right');\n"
   ]
  },
  {
   "attachments": {},
   "cell_type": "markdown",
   "id": "1d4700e0",
   "metadata": {},
   "source": [
    "На первый взгляд, прямой связи между семейным положением и возвратом кредита в срок нет. Люди замужем/женатые и в гражданском браке имеют достаточно высокий процент должников, но в то же время самый большой процент должников имеют незамужние/неженатые люди. \n",
    "\n",
    "Если предположить, что одинокие люди имеют высокий процент должников, то можно обратить внимание, что вдовцы/вдовы и разведенные люди имеют наименьший процент долга. \n",
    "\n",
    "Можно только предположить, что люди, которые когда-либо закрепляли свой брак юридически (а это: женатые/замужние, разведенные и вдовы/вдовцы) имеют меньший процент должников, в отличие от групп людей, которые юридически не скрепляли отношения (группы: гражданский брак и не замужем/не женат).\n",
    "\n",
    "Имеет смысл сгруппировать данные таким образом и посмотреть результат: \n",
    "- первая группа - люди, которые когда-либо закрепляли свой брак юридически,\n",
    "- вторая группа - люди, которые юридически не скрепляли отношения."
   ]
  },
  {
   "cell_type": "code",
   "execution_count": 26,
   "id": "ac2b3bb5",
   "metadata": {},
   "outputs": [
    {
     "data": {
      "text/html": [
       "<div>\n",
       "<style scoped>\n",
       "    .dataframe tbody tr th:only-of-type {\n",
       "        vertical-align: middle;\n",
       "    }\n",
       "\n",
       "    .dataframe tbody tr th {\n",
       "        vertical-align: top;\n",
       "    }\n",
       "\n",
       "    .dataframe thead th {\n",
       "        text-align: right;\n",
       "    }\n",
       "</style>\n",
       "<table border=\"1\" class=\"dataframe\">\n",
       "  <thead>\n",
       "    <tr style=\"text-align: right;\">\n",
       "      <th></th>\n",
       "      <th>debt</th>\n",
       "      <th>debt_in_status</th>\n",
       "      <th>grouped_by_status</th>\n",
       "    </tr>\n",
       "    <tr>\n",
       "      <th>status</th>\n",
       "      <th></th>\n",
       "      <th></th>\n",
       "      <th></th>\n",
       "    </tr>\n",
       "  </thead>\n",
       "  <tbody>\n",
       "    <tr>\n",
       "      <th>illegal_status</th>\n",
       "      <td>0.094949</td>\n",
       "      <td>658</td>\n",
       "      <td>6930</td>\n",
       "    </tr>\n",
       "    <tr>\n",
       "      <th>legal_status</th>\n",
       "      <td>0.074578</td>\n",
       "      <td>1074</td>\n",
       "      <td>14401</td>\n",
       "    </tr>\n",
       "  </tbody>\n",
       "</table>\n",
       "</div>"
      ],
      "text/plain": [
       "                    debt  debt_in_status  grouped_by_status\n",
       "status                                                     \n",
       "illegal_status  0.094949             658               6930\n",
       "legal_status    0.074578            1074              14401"
      ]
     },
     "metadata": {},
     "output_type": "display_data"
    },
    {
     "data": {
      "image/png": "[encoded data removed]",
      "text/plain": [
       "<Figure size 640x480 with 1 Axes>"
      ]
     },
     "metadata": {},
     "output_type": "display_data"
    }
   ],
   "source": [
    "def status(f): # Создаем функцию\n",
    "    for i in data['family_status']: # которая перебирает каждое значение в столбце 'family_status'\n",
    "        if (f['family_status'] == 'Не женат / не замужем') | (f['family_status'] == 'гражданский брак'): # если значение в столбце удовлетворяет условию\n",
    "            return 'illegal_status' # то возвращаем значение функции 'illegal_status'\n",
    "        return 'legal_status' # иначе возвращаем значение функции 'legal_status'\n",
    "\n",
    "data['status'] = data.apply(status, axis=1) # добавляем столбец с новым статусом (с результатами, полученными из функции)\n",
    "\n",
    "data_pivot_status = pd.pivot_table(data, index=['status'], values='debt') # создание сводной таблицы сгруппированной по индексу 'status' и выводом отношения должников к общему количеству людей в группах (не в %, а отношение!)\n",
    "\n",
    "data_pivot_status['debt_in_status'] = list(data.groupby('status')['debt'].sum()) # добавление столбца 'debt_in_status' с количеством должников в каждой группе\n",
    "data_pivot_status['grouped_by_status'] = list(data.groupby('status')['status'].count()) # добавление столбца 'grouped_by_status' с общим количеством людей в группах\n",
    "\n",
    "display(data_pivot_status) # Вывод на экран таблицы с полученными данными\n",
    "\n",
    "seaborn.barplot(data=data_pivot_status, x=data_pivot_status.index, y=data_pivot_status['debt'] * 100); # построение диаграммы, ось x=статус, ось y=процент должников."
   ]
  },
  {
   "attachments": {},
   "cell_type": "markdown",
   "id": "5b6bf2db",
   "metadata": {},
   "source": [
    "**Вывод:** Мы предположили, что процент должников может отличаться для людей, находящихся в группе когда-либо закреплявших свой брак юридически и не закреплявших отношения. \n",
    "Исходя из полученных результатов по второй части анализа, можно сделать вывод, что гипотеза оказалась верна: люди с легальным статусом с меньшей долей вероятности являются должниками."
   ]
  },
  {
   "attachments": {},
   "cell_type": "markdown",
   "id": "62c39acf",
   "metadata": {},
   "source": [
    "### Есть ли зависимость между уровнем дохода и возвратом кредита в срок?"
   ]
  },
  {
   "cell_type": "code",
   "execution_count": 27,
   "id": "a6e787cb",
   "metadata": {},
   "outputs": [
    {
     "data": {
      "text/html": [
       "<div>\n",
       "<style scoped>\n",
       "    .dataframe tbody tr th:only-of-type {\n",
       "        vertical-align: middle;\n",
       "    }\n",
       "\n",
       "    .dataframe tbody tr th {\n",
       "        vertical-align: top;\n",
       "    }\n",
       "\n",
       "    .dataframe thead th {\n",
       "        text-align: right;\n",
       "    }\n",
       "</style>\n",
       "<table border=\"1\" class=\"dataframe\">\n",
       "  <thead>\n",
       "    <tr style=\"text-align: right;\">\n",
       "      <th></th>\n",
       "      <th>debt</th>\n",
       "      <th>debt_in_category</th>\n",
       "      <th>grouped_by_category</th>\n",
       "    </tr>\n",
       "    <tr>\n",
       "      <th>total_income_category</th>\n",
       "      <th></th>\n",
       "      <th></th>\n",
       "      <th></th>\n",
       "    </tr>\n",
       "  </thead>\n",
       "  <tbody>\n",
       "    <tr>\n",
       "      <th>A</th>\n",
       "      <td>0.080000</td>\n",
       "      <td>2</td>\n",
       "      <td>25</td>\n",
       "    </tr>\n",
       "    <tr>\n",
       "      <th>B</th>\n",
       "      <td>0.070602</td>\n",
       "      <td>354</td>\n",
       "      <td>5014</td>\n",
       "    </tr>\n",
       "    <tr>\n",
       "      <th>C</th>\n",
       "      <td>0.084982</td>\n",
       "      <td>1353</td>\n",
       "      <td>15921</td>\n",
       "    </tr>\n",
       "    <tr>\n",
       "      <th>D</th>\n",
       "      <td>0.060172</td>\n",
       "      <td>21</td>\n",
       "      <td>349</td>\n",
       "    </tr>\n",
       "    <tr>\n",
       "      <th>E</th>\n",
       "      <td>0.090909</td>\n",
       "      <td>2</td>\n",
       "      <td>22</td>\n",
       "    </tr>\n",
       "  </tbody>\n",
       "</table>\n",
       "</div>"
      ],
      "text/plain": [
       "                           debt  debt_in_category  grouped_by_category\n",
       "total_income_category                                                 \n",
       "A                      0.080000                 2                   25\n",
       "B                      0.070602               354                 5014\n",
       "C                      0.084982              1353                15921\n",
       "D                      0.060172                21                  349\n",
       "E                      0.090909                 2                   22"
      ]
     },
     "metadata": {},
     "output_type": "display_data"
    },
    {
     "data": {
      "image/png": "[encoded data removed]",
      "text/plain": [
       "<Figure size 640x480 with 1 Axes>"
      ]
     },
     "metadata": {},
     "output_type": "display_data"
    }
   ],
   "source": [
    "data_pivot_income = pd.pivot_table(data, index=['total_income_category'], values='debt') # создание сводной таблицы сгруппированной по индексу 'total_income_category' и выводом отношения должников к общему количеству людей в группах (не в %, а отношение!)\n",
    "\n",
    "data_pivot_income['debt_in_category'] = list(data.groupby('total_income_category')['debt'].sum()) # добавление столбца 'debt_in_category' с количеством должников в каждой группе\n",
    "data_pivot_income['grouped_by_category'] = list(data.groupby('total_income_category')['total_income_category'].count()) # добавление столбца 'grouped_by_category' с общим количеством людей в группах\n",
    "\n",
    "display(data_pivot_income) # Вывод на экран таблицы с полученными данными\n",
    "\n",
    "seaborn.barplot(data=data_pivot_income, x=data_pivot_income.index, y=data_pivot_income['debt'] * 100); # построение диаграммы, ось x=семейное положение, ось y=процент должников."
   ]
  },
  {
   "attachments": {},
   "cell_type": "markdown",
   "id": "ee2de754",
   "metadata": {},
   "source": [
    "Из полученных данных нельзя сказать, есть ли взаимосвязь между уровнем дохода и возвратом кредитов в срок. Нужно продолжать исследование.\n",
    "\n",
    "Предположим, что уровень образования может влиять либо на уровень дохода, либо на свойство возвращать кредиты в срок."
   ]
  },
  {
   "cell_type": "code",
   "execution_count": 28,
   "id": "ea396482",
   "metadata": {},
   "outputs": [
    {
     "data": {
      "text/html": [
       "<div>\n",
       "<style scoped>\n",
       "    .dataframe tbody tr th:only-of-type {\n",
       "        vertical-align: middle;\n",
       "    }\n",
       "\n",
       "    .dataframe tbody tr th {\n",
       "        vertical-align: top;\n",
       "    }\n",
       "\n",
       "    .dataframe thead th {\n",
       "        text-align: right;\n",
       "    }\n",
       "</style>\n",
       "<table border=\"1\" class=\"dataframe\">\n",
       "  <thead>\n",
       "    <tr style=\"text-align: right;\">\n",
       "      <th></th>\n",
       "      <th>debt</th>\n",
       "      <th>debt_education</th>\n",
       "      <th>grouped_by_education</th>\n",
       "      <th>education_median_salary</th>\n",
       "    </tr>\n",
       "    <tr>\n",
       "      <th>education</th>\n",
       "      <th></th>\n",
       "      <th></th>\n",
       "      <th></th>\n",
       "      <th></th>\n",
       "    </tr>\n",
       "  </thead>\n",
       "  <tbody>\n",
       "    <tr>\n",
       "      <th>высшее</th>\n",
       "      <td>0.053185</td>\n",
       "      <td>278</td>\n",
       "      <td>5227</td>\n",
       "      <td>171529.0</td>\n",
       "    </tr>\n",
       "    <tr>\n",
       "      <th>начальное</th>\n",
       "      <td>0.109929</td>\n",
       "      <td>31</td>\n",
       "      <td>282</td>\n",
       "      <td>118941.5</td>\n",
       "    </tr>\n",
       "    <tr>\n",
       "      <th>неоконченное высшее</th>\n",
       "      <td>0.091768</td>\n",
       "      <td>68</td>\n",
       "      <td>741</td>\n",
       "      <td>156025.0</td>\n",
       "    </tr>\n",
       "    <tr>\n",
       "      <th>среднее</th>\n",
       "      <td>0.089884</td>\n",
       "      <td>1355</td>\n",
       "      <td>15075</td>\n",
       "      <td>141671.0</td>\n",
       "    </tr>\n",
       "    <tr>\n",
       "      <th>ученая степень</th>\n",
       "      <td>0.000000</td>\n",
       "      <td>0</td>\n",
       "      <td>6</td>\n",
       "      <td>157259.5</td>\n",
       "    </tr>\n",
       "  </tbody>\n",
       "</table>\n",
       "</div>"
      ],
      "text/plain": [
       "                         debt  debt_education  grouped_by_education  \\\n",
       "education                                                             \n",
       "высшее               0.053185             278                  5227   \n",
       "начальное            0.109929              31                   282   \n",
       "неоконченное высшее  0.091768              68                   741   \n",
       "среднее              0.089884            1355                 15075   \n",
       "ученая степень       0.000000               0                     6   \n",
       "\n",
       "                     education_median_salary  \n",
       "education                                     \n",
       "высшее                              171529.0  \n",
       "начальное                           118941.5  \n",
       "неоконченное высшее                 156025.0  \n",
       "среднее                             141671.0  \n",
       "ученая степень                      157259.5  "
      ]
     },
     "metadata": {},
     "output_type": "display_data"
    },
    {
     "data": {
      "image/png": "[encoded data removed]",
      "text/plain": [
       "<Figure size 640x480 with 1 Axes>"
      ]
     },
     "metadata": {},
     "output_type": "display_data"
    }
   ],
   "source": [
    "data_pivot_group_e = pd.pivot_table(data, index=['education'], values='debt') # создание сводной таблицы сгруппированной по индексу 'education' и выводом отношения должников к общему количеству людей в группах (не в %, а отношение!)\n",
    "\n",
    "data_pivot_group_e['debt_education'] = list(data.groupby('education')['debt'].sum()) # добавление столбца 'debt_education' с количеством должников в каждой группе\n",
    "data_pivot_group_e['grouped_by_education'] = list(data.groupby('education')['education'].count()) # добавление столбца 'grouped_by_education' с общим количеством людей в группах\n",
    "data_pivot_group_e['education_median_salary'] = list(data.groupby('education')['total_income'].median()) # добавление столбца 'education_median_salary' с общим количеством людей в группах\n",
    "\n",
    "display(data_pivot_group_e) # Вывод сводной таблицы\n",
    "\n",
    "seaborn.barplot(data=data_pivot_group_e, x=data_pivot_group_e.index, y=data_pivot_group_e['debt'] * 100); # построение диаграммы, ось x=уровень образования, ось y=процент должников.\n",
    "plt.xticks(rotation=45, ha='right');\n"
   ]
  },
  {
   "cell_type": "code",
   "execution_count": 33,
   "id": "993a1252",
   "metadata": {},
   "outputs": [
    {
     "data": {
      "image/png": "[encoded data removed]",
      "text/plain": [
       "<Figure size 640x480 with 1 Axes>"
      ]
     },
     "metadata": {},
     "output_type": "display_data"
    }
   ],
   "source": [
    "seaborn.barplot(data=data_pivot_group_e, x=data_pivot_group_e['education_median_salary'], y=data_pivot_group_e['debt'] * 100); # построение диаграммы, ось x=доход в группе по образованию, ось y=процент должников."
   ]
  },
  {
   "attachments": {},
   "cell_type": "markdown",
   "id": "d58b3ab5",
   "metadata": {},
   "source": [
    "**Вывод:** Как видно из диаграмм, процент должников зависит не только от уровня дохода, но и от уровня образования. Так, наибольший процент должников можно увидеть в категории наименьшего дохода вкупе с начальным образованием. Высшее образование и ученая степень имеют наивысшие значения заработных плат, и наименьший процент должников при такой группировке. \n",
    "\n",
    "*То, что должников нет среди людей с ученой степенью не говорит о том, что они не могут быть должниками, просто в данном случае выборка по этой группе недостаточна.*\n",
    "\n",
    "Можно сделать вывод о том, что на возврат кредитов в срок влияет как уровень дохода, так и уровень образования человека: \n",
    "\n",
    "**Выше уровень образования -> Выше уровень дохода -> Меньший процент должников.**\n",
    "\n",
    "Почему такой вывод оказался неприменим в первом случае?\n",
    "\n",
    "Я думаю, для этого есть несколько факторов:\n",
    "\n",
    "- Выборка тем точнее, чем больше в ней данных для анализа (в первом случае в двух крайних категориях было слишком мало людей для анализа, во втором случае недостаток был только в одной категории).\n",
    "- Чем больше общих черт/факторов можно вычленить для группировки, тем точнее будет результат. \n",
    "Так, в первом случае был расчет только исходя из достатка человека, без привязки к каким-либо социальным группам. В таких данных может быть много аномалий. Например, безработный человек без образования получил наследство - это увеличивает его шансы попасть, например, в категорию А, что будет нетипично для этой категории. Или пенсионер - доктор наук, у которого не очень большая пенсия, стремится попасть в группу Е, несмотря на свой уровень образования. Следовательно, собрав людей по какому-либо общему социальному признаку (в данном случае - это было образование), а затем посчитав для каждой категории медианный доход, мы избавились от таких искажений, и получили правдоподобную статистику."
   ]
  },
  {
   "attachments": {},
   "cell_type": "markdown",
   "id": "44d90b25",
   "metadata": {},
   "source": [
    "### Как разные цели кредита влияют на его возврат в срок?"
   ]
  },
  {
   "cell_type": "code",
   "execution_count": 30,
   "id": "c5c49b32",
   "metadata": {},
   "outputs": [
    {
     "data": {
      "text/html": [
       "<div>\n",
       "<style scoped>\n",
       "    .dataframe tbody tr th:only-of-type {\n",
       "        vertical-align: middle;\n",
       "    }\n",
       "\n",
       "    .dataframe tbody tr th {\n",
       "        vertical-align: top;\n",
       "    }\n",
       "\n",
       "    .dataframe thead th {\n",
       "        text-align: right;\n",
       "    }\n",
       "</style>\n",
       "<table border=\"1\" class=\"dataframe\">\n",
       "  <thead>\n",
       "    <tr style=\"text-align: right;\">\n",
       "      <th></th>\n",
       "      <th>debt</th>\n",
       "      <th>debt_purpose</th>\n",
       "      <th>grouped_by_purpose</th>\n",
       "    </tr>\n",
       "    <tr>\n",
       "      <th>purpose_category</th>\n",
       "      <th></th>\n",
       "      <th></th>\n",
       "      <th></th>\n",
       "    </tr>\n",
       "  </thead>\n",
       "  <tbody>\n",
       "    <tr>\n",
       "      <th>операции с автомобилем</th>\n",
       "      <td>0.093480</td>\n",
       "      <td>400</td>\n",
       "      <td>4279</td>\n",
       "    </tr>\n",
       "    <tr>\n",
       "      <th>операции с недвижимостью</th>\n",
       "      <td>0.072551</td>\n",
       "      <td>780</td>\n",
       "      <td>10751</td>\n",
       "    </tr>\n",
       "    <tr>\n",
       "      <th>получение образования</th>\n",
       "      <td>0.092528</td>\n",
       "      <td>369</td>\n",
       "      <td>3988</td>\n",
       "    </tr>\n",
       "    <tr>\n",
       "      <th>проведение свадьбы</th>\n",
       "      <td>0.079118</td>\n",
       "      <td>183</td>\n",
       "      <td>2313</td>\n",
       "    </tr>\n",
       "  </tbody>\n",
       "</table>\n",
       "</div>"
      ],
      "text/plain": [
       "                              debt  debt_purpose  grouped_by_purpose\n",
       "purpose_category                                                    \n",
       "операции с автомобилем    0.093480           400                4279\n",
       "операции с недвижимостью  0.072551           780               10751\n",
       "получение образования     0.092528           369                3988\n",
       "проведение свадьбы        0.079118           183                2313"
      ]
     },
     "metadata": {},
     "output_type": "display_data"
    },
    {
     "data": {
      "image/png": "[encoded data removed]",
      "text/plain": [
       "<Figure size 640x480 with 1 Axes>"
      ]
     },
     "metadata": {},
     "output_type": "display_data"
    }
   ],
   "source": [
    "data_pivot_pur = pd.pivot_table(data, index=['purpose_category'], values='debt') # создание сводной таблицы сгруппированной по индексу 'family_status' и выводом отношения должников к общему количеству людей в группах (не в %, а отношение!)\n",
    "\n",
    "data_pivot_pur['debt_purpose'] = list(data.groupby('purpose_category')['debt'].sum()) # добавление столбца 'debt_in_family' с количеством должников в каждой группе\n",
    "data_pivot_pur['grouped_by_purpose'] = list(data.groupby('purpose_category')['purpose_category'].count()) # добавление столбца 'grouped_by_family' с общим количеством людей в группах\n",
    "\n",
    "display(data_pivot_pur) # Вывод на экран таблицы с полученными данными\n",
    "\n",
    "import seaborn # импорт библиотеки seaborn для построения столбчатой диаграммы\n",
    "seaborn.barplot(data=data_pivot_pur, x=data_pivot_pur.index, y=data_pivot_pur['debt'] * 100); # построение диаграммы, ось x=семейное положение, ось y=процент должников.\n",
    "plt.xticks(rotation=45, ha='right');\n"
   ]
  },
  {
   "attachments": {},
   "cell_type": "markdown",
   "id": "0ce39b9d",
   "metadata": {},
   "source": [
    "**Вывод:** В результате расчета мы получили, что меньше всего задолженностей имеют люди, берущие кредит на недвижимость. Наибольший процент задолженностей для образования и на автомобиль."
   ]
  },
  {
   "attachments": {},
   "cell_type": "markdown",
   "id": "9593fdc4",
   "metadata": {},
   "source": [
    "### Ответы на вопросы"
   ]
  },
  {
   "attachments": {},
   "cell_type": "markdown",
   "id": "4b6e0186",
   "metadata": {},
   "source": [
    "#### Возможные причины появления пропусков в исходных данных."
   ]
  },
  {
   "attachments": {},
   "cell_type": "markdown",
   "id": "a2577f6e",
   "metadata": {},
   "source": [
    "- Пропуск в данных может не являться пропуском. Это может быть нулевое значение (например, ноль дней стажа, если человек еще не работал официально). Это может быть отсутствие значения, даже нетипичное (например, отсутствие отчества у человека).\n",
    "- Неуказанные данные не предоставлены пользователем/заявителем и т.д.\n",
    "Например, для этого конкретного случая, имеется одинаковое количество пропусков в двух колонках 2174: days_employed (общий трудовой стаж в днях) и total_income (ежемесячный доход). Учитывая, что людей, не имеющих работы (и, возможно, никогда не имевших) и дохода, согласно данным из датасета, всего 4 (2 безработных, 1 в декрете и 1 студент), можно предположить, что люди сознательно не указали эти данные. Возможно, имеющие низкий доход или маленький стаж работы. Как мы выяснили в исследовании, это может помочь человеку получить одобрение, если его посчитают по медианным или средним значениям.\n",
    "- Причиной появления пропусков может быть сбой\n",
    "- Неправильный прием исходных данных или неправильная обработка данных (например, аналитик устраненил аномалии, но не заполнил ячейки данными)"
   ]
  },
  {
   "cell_type": "code",
   "execution_count": 32,
   "id": "54d57b4a",
   "metadata": {},
   "outputs": [
    {
     "data": {
      "text/plain": [
       "income_type\n",
       "безработный            2\n",
       "в декрете              1\n",
       "госслужащий         1451\n",
       "компаньон           5047\n",
       "пенсионер           3812\n",
       "предприниматель        2\n",
       "сотрудник          11015\n",
       "студент                1\n",
       "Name: income_type, dtype: int64"
      ]
     },
     "metadata": {},
     "output_type": "display_data"
    }
   ],
   "source": [
    "display(data.groupby('income_type')['income_type'].count()) # Люди, сгруппированные по роду деятельности"
   ]
  },
  {
   "attachments": {},
   "cell_type": "markdown",
   "id": "fafaa25c",
   "metadata": {},
   "source": [
    "#### Почему заполнить пропуски медианным значением — лучшее решение для количественных переменных?"
   ]
  },
  {
   "attachments": {},
   "cell_type": "markdown",
   "id": "f488cae0",
   "metadata": {},
   "source": [
    "При подсчете средней заработной платы, можно прийти к выводу о том, что люди получают намного больше, чем на самом деле. Т.к. в реалиях мира имеется очень большое количество людей с низким достатком и людей со средним достатком, и есть очень ограниченное количество людей с несоизмеримо большими достатками. Так, включая в расчет таких людей, средняя зарплата оказывается намного выше реальных доходов. Чтобы с этим бороться, нужно либо исключать эти данные из расчета (что может негативно сказаться на всем анализе), либо искать медианные значения, которые, если говорить самыми простыми словами, как раз убирают такие аномалии (в данном контексте), но при этом с этими данными все так же можно работать."
   ]
  },
  {
   "attachments": {},
   "cell_type": "markdown",
   "id": "68b63d74",
   "metadata": {},
   "source": [
    "## Выводы"
   ]
  },
  {
   "attachments": {},
   "cell_type": "markdown",
   "id": "b138c7c0",
   "metadata": {},
   "source": [
    "В данном проекте были проведены исследования влияния различных фактов, различных исходных данных на возврат кредита в срок.\n",
    "\n",
    "Расчитано влияние количества детей, семейного положения, достатка различных групп людей на возврат.\n",
    "\n",
    "Выводы:\n",
    "- Количество детей не влияет на процент должников. Несмотря на то, что в абсолютных показателях это так (чем больше детей, тем меньше должников), в процентном отношении эта гипотеза не подтвердилась (т.к. людей  с меньшим количеством детей всегда больше, а следовательно, в абсолютных значениях, больше и должников).\n",
    "- Имеется связь между семейным положением и процент должников. Так, люди, которые когда-либо были в официальном браке имеют меньший процент должников, чем люди, которые никогда не были в официальном браке.\n",
    "- Процент должников зависит от уровня дохода и образования. Исходя из полученных данных, более высокий уровень образования приводит к более высокому уровню доходов по медиане. При этом, чем выше уровень образования, тем меньше процент должников. Следовательно, чем выше доход в категории, тем меньший процент должников в этой категории.\n",
    "- Наименьший процент должников находится в категории \"операции с недвижимостью\"."
   ]
  }
 ],
 "metadata": {
  "ExecuteTimeLog": [
   {
    "duration": 522,
    "start_time": "2022-09-11T07:39:52.830Z"
   },
   {
    "duration": 11,
    "start_time": "2022-09-11T08:29:54.749Z"
   },
   {
    "duration": 7,
    "start_time": "2022-09-11T08:30:02.780Z"
   },
   {
    "duration": 80,
    "start_time": "2022-09-11T08:30:40.450Z"
   },
   {
    "duration": 18,
    "start_time": "2022-09-11T08:30:41.177Z"
   },
   {
    "duration": 16,
    "start_time": "2022-09-11T08:30:41.732Z"
   },
   {
    "duration": 10,
    "start_time": "2022-09-11T08:30:42.887Z"
   },
   {
    "duration": 35,
    "start_time": "2022-09-11T08:30:43.507Z"
   },
   {
    "duration": 4,
    "start_time": "2022-09-11T08:30:45.294Z"
   },
   {
    "duration": 12,
    "start_time": "2022-09-11T08:30:45.959Z"
   },
   {
    "duration": 5,
    "start_time": "2022-09-11T08:30:47.526Z"
   },
   {
    "duration": 6,
    "start_time": "2022-09-11T08:30:48.128Z"
   },
   {
    "duration": 4,
    "start_time": "2022-09-11T08:30:48.886Z"
   },
   {
    "duration": 33,
    "start_time": "2022-09-11T08:30:50.874Z"
   },
   {
    "duration": 11,
    "start_time": "2022-09-11T08:30:51.358Z"
   },
   {
    "duration": 3,
    "start_time": "2022-09-11T08:30:52.843Z"
   },
   {
    "duration": 13,
    "start_time": "2022-09-11T08:30:53.994Z"
   },
   {
    "duration": 21,
    "start_time": "2022-09-11T08:30:55.215Z"
   },
   {
    "duration": 18,
    "start_time": "2022-09-11T08:30:55.548Z"
   },
   {
    "duration": 3,
    "start_time": "2022-09-11T08:30:57.080Z"
   },
   {
    "duration": 10,
    "start_time": "2022-09-11T08:30:57.386Z"
   },
   {
    "duration": 6,
    "start_time": "2022-09-11T08:30:58.083Z"
   },
   {
    "duration": 3,
    "start_time": "2022-09-11T08:30:59.134Z"
   },
   {
    "duration": 9,
    "start_time": "2022-09-11T08:30:59.660Z"
   },
   {
    "duration": 7,
    "start_time": "2022-09-11T08:31:01.009Z"
   },
   {
    "duration": 6,
    "start_time": "2022-09-11T08:35:31.433Z"
   },
   {
    "duration": 65,
    "start_time": "2022-09-11T08:35:45.410Z"
   },
   {
    "duration": 6,
    "start_time": "2022-09-11T08:35:50.417Z"
   },
   {
    "duration": 7,
    "start_time": "2022-09-11T08:36:13.345Z"
   },
   {
    "duration": 5,
    "start_time": "2022-09-11T08:36:25.430Z"
   },
   {
    "duration": 7,
    "start_time": "2022-09-11T09:08:25.655Z"
   },
   {
    "duration": 9,
    "start_time": "2022-09-11T09:08:46.456Z"
   },
   {
    "duration": 8,
    "start_time": "2022-09-11T09:21:41.324Z"
   },
   {
    "duration": 6,
    "start_time": "2022-09-11T09:21:55.381Z"
   },
   {
    "duration": 11,
    "start_time": "2022-09-11T09:31:53.155Z"
   },
   {
    "duration": 10,
    "start_time": "2022-09-11T09:31:58.055Z"
   },
   {
    "duration": 8,
    "start_time": "2022-09-11T09:32:08.024Z"
   },
   {
    "duration": 6,
    "start_time": "2022-09-11T09:32:17.049Z"
   },
   {
    "duration": 7,
    "start_time": "2022-09-11T09:32:31.214Z"
   },
   {
    "duration": 5,
    "start_time": "2022-09-11T09:32:38.030Z"
   },
   {
    "duration": 5,
    "start_time": "2022-09-11T09:33:08.687Z"
   },
   {
    "duration": 7,
    "start_time": "2022-09-11T09:35:12.674Z"
   },
   {
    "duration": 8,
    "start_time": "2022-09-11T09:35:25.260Z"
   },
   {
    "duration": 8,
    "start_time": "2022-09-11T09:35:31.320Z"
   },
   {
    "duration": 7,
    "start_time": "2022-09-11T09:35:55.560Z"
   },
   {
    "duration": 14,
    "start_time": "2022-09-11T09:37:33.502Z"
   },
   {
    "duration": 8,
    "start_time": "2022-09-11T09:37:47.312Z"
   },
   {
    "duration": 7,
    "start_time": "2022-09-11T09:37:55.098Z"
   },
   {
    "duration": 7,
    "start_time": "2022-09-11T09:38:32.727Z"
   },
   {
    "duration": 11,
    "start_time": "2022-09-11T09:40:25.754Z"
   },
   {
    "duration": 9,
    "start_time": "2022-09-11T09:45:14.468Z"
   },
   {
    "duration": 11,
    "start_time": "2022-09-11T09:47:52.405Z"
   },
   {
    "duration": 12,
    "start_time": "2022-09-11T09:48:06.474Z"
   },
   {
    "duration": 12,
    "start_time": "2022-09-11T09:48:25.442Z"
   },
   {
    "duration": 9,
    "start_time": "2022-09-11T09:48:33.334Z"
   },
   {
    "duration": 471,
    "start_time": "2022-09-11T09:49:10.188Z"
   },
   {
    "duration": 23,
    "start_time": "2022-09-11T09:49:10.661Z"
   },
   {
    "duration": 20,
    "start_time": "2022-09-11T09:49:10.686Z"
   },
   {
    "duration": 18,
    "start_time": "2022-09-11T09:49:10.709Z"
   },
   {
    "duration": 71,
    "start_time": "2022-09-11T09:49:10.729Z"
   },
   {
    "duration": 3,
    "start_time": "2022-09-11T09:49:10.802Z"
   },
   {
    "duration": 10,
    "start_time": "2022-09-11T09:49:10.807Z"
   },
   {
    "duration": 6,
    "start_time": "2022-09-11T09:49:10.819Z"
   },
   {
    "duration": 9,
    "start_time": "2022-09-11T09:49:10.827Z"
   },
   {
    "duration": 8,
    "start_time": "2022-09-11T09:49:10.839Z"
   },
   {
    "duration": 34,
    "start_time": "2022-09-11T09:49:10.869Z"
   },
   {
    "duration": 12,
    "start_time": "2022-09-11T09:49:10.905Z"
   },
   {
    "duration": 3,
    "start_time": "2022-09-11T09:49:10.920Z"
   },
   {
    "duration": 13,
    "start_time": "2022-09-11T09:49:10.925Z"
   },
   {
    "duration": 21,
    "start_time": "2022-09-11T09:49:10.968Z"
   },
   {
    "duration": 17,
    "start_time": "2022-09-11T09:49:10.990Z"
   },
   {
    "duration": 4,
    "start_time": "2022-09-11T09:49:11.009Z"
   },
   {
    "duration": 15,
    "start_time": "2022-09-11T09:49:11.014Z"
   },
   {
    "duration": 10,
    "start_time": "2022-09-11T09:49:11.030Z"
   },
   {
    "duration": 28,
    "start_time": "2022-09-11T09:49:11.042Z"
   },
   {
    "duration": 11,
    "start_time": "2022-09-11T09:49:11.072Z"
   },
   {
    "duration": 13,
    "start_time": "2022-09-11T09:49:11.084Z"
   },
   {
    "duration": 2,
    "start_time": "2022-09-11T09:49:11.099Z"
   },
   {
    "duration": 4,
    "start_time": "2022-09-11T09:49:11.103Z"
   },
   {
    "duration": 7,
    "start_time": "2022-09-11T09:49:11.108Z"
   },
   {
    "duration": 11,
    "start_time": "2022-09-11T09:50:15.206Z"
   },
   {
    "duration": 10,
    "start_time": "2022-09-11T09:51:46.834Z"
   },
   {
    "duration": 12,
    "start_time": "2022-09-11T09:53:25.406Z"
   },
   {
    "duration": 18,
    "start_time": "2022-09-11T09:54:36.571Z"
   },
   {
    "duration": 18,
    "start_time": "2022-09-11T09:56:26.569Z"
   },
   {
    "duration": 1223,
    "start_time": "2022-09-11T09:56:53.293Z"
   },
   {
    "duration": 15,
    "start_time": "2022-09-11T09:57:13.995Z"
   },
   {
    "duration": 16,
    "start_time": "2022-09-11T09:57:28.983Z"
   },
   {
    "duration": 16,
    "start_time": "2022-09-11T09:58:39.330Z"
   },
   {
    "duration": 16,
    "start_time": "2022-09-11T09:59:10.504Z"
   },
   {
    "duration": 17,
    "start_time": "2022-09-11T09:59:13.789Z"
   },
   {
    "duration": 13,
    "start_time": "2022-09-11T10:00:35.326Z"
   },
   {
    "duration": 11,
    "start_time": "2022-09-11T10:00:39.588Z"
   },
   {
    "duration": 410,
    "start_time": "2022-09-11T10:01:37.281Z"
   },
   {
    "duration": 361,
    "start_time": "2022-09-11T10:01:48.867Z"
   },
   {
    "duration": 18,
    "start_time": "2022-09-11T10:02:26.148Z"
   },
   {
    "duration": 11,
    "start_time": "2022-09-11T10:02:33.633Z"
   },
   {
    "duration": 11,
    "start_time": "2022-09-11T10:02:37.289Z"
   },
   {
    "duration": 10,
    "start_time": "2022-09-11T10:03:03.176Z"
   },
   {
    "duration": 14,
    "start_time": "2022-09-11T10:03:57.486Z"
   },
   {
    "duration": 10,
    "start_time": "2022-09-11T10:04:25.682Z"
   },
   {
    "duration": 317,
    "start_time": "2022-09-11T10:04:58.732Z"
   },
   {
    "duration": 17,
    "start_time": "2022-09-11T10:05:25.591Z"
   },
   {
    "duration": 13,
    "start_time": "2022-09-11T10:10:44.908Z"
   },
   {
    "duration": 16,
    "start_time": "2022-09-11T10:10:55.155Z"
   },
   {
    "duration": 15,
    "start_time": "2022-09-11T10:12:41.516Z"
   },
   {
    "duration": 13,
    "start_time": "2022-09-11T10:16:13.337Z"
   },
   {
    "duration": 14,
    "start_time": "2022-09-11T10:16:17.737Z"
   },
   {
    "duration": 1204,
    "start_time": "2022-09-11T10:22:45.720Z"
   },
   {
    "duration": 172,
    "start_time": "2022-09-11T10:23:36.939Z"
   },
   {
    "duration": 141,
    "start_time": "2022-09-11T10:24:21.193Z"
   },
   {
    "duration": 176,
    "start_time": "2022-09-11T10:25:56.445Z"
   },
   {
    "duration": 174,
    "start_time": "2022-09-11T10:26:51.580Z"
   },
   {
    "duration": 173,
    "start_time": "2022-09-11T10:27:05.611Z"
   },
   {
    "duration": 95,
    "start_time": "2022-09-11T10:44:10.218Z"
   },
   {
    "duration": 8567,
    "start_time": "2022-09-11T10:44:15.143Z"
   },
   {
    "duration": 30,
    "start_time": "2022-09-11T10:45:34.362Z"
   },
   {
    "duration": 31,
    "start_time": "2022-09-11T10:46:17.669Z"
   },
   {
    "duration": 27139,
    "start_time": "2022-09-11T10:48:46.077Z"
   },
   {
    "duration": 1277,
    "start_time": "2022-09-11T10:51:38.716Z"
   },
   {
    "duration": 1436,
    "start_time": "2022-09-11T10:53:02.857Z"
   },
   {
    "duration": 1446,
    "start_time": "2022-09-11T10:53:20.278Z"
   },
   {
    "duration": 1707,
    "start_time": "2022-09-11T10:54:31.978Z"
   },
   {
    "duration": 346,
    "start_time": "2022-09-11T10:54:55.534Z"
   },
   {
    "duration": 314,
    "start_time": "2022-09-11T10:55:23.721Z"
   },
   {
    "duration": 655,
    "start_time": "2022-09-11T10:55:44.206Z"
   },
   {
    "duration": 76,
    "start_time": "2022-09-11T10:59:41.423Z"
   },
   {
    "duration": 37,
    "start_time": "2022-09-11T11:00:26.695Z"
   },
   {
    "duration": 482,
    "start_time": "2022-09-11T11:00:42.924Z"
   },
   {
    "duration": 36,
    "start_time": "2022-09-11T11:00:58.858Z"
   },
   {
    "duration": 988,
    "start_time": "2022-09-11T11:01:58.711Z"
   },
   {
    "duration": 910,
    "start_time": "2022-09-11T11:53:47.494Z"
   },
   {
    "duration": 88,
    "start_time": "2022-09-11T11:54:15.572Z"
   },
   {
    "duration": 968,
    "start_time": "2022-09-11T11:54:23.920Z"
   },
   {
    "duration": 994,
    "start_time": "2022-09-11T12:00:43.745Z"
   },
   {
    "duration": 1121,
    "start_time": "2022-09-11T12:02:46.275Z"
   },
   {
    "duration": 8,
    "start_time": "2022-09-11T12:07:19.887Z"
   },
   {
    "duration": 9,
    "start_time": "2022-09-11T12:07:36.402Z"
   },
   {
    "duration": 18,
    "start_time": "2022-09-11T12:12:36.030Z"
   },
   {
    "duration": 18,
    "start_time": "2022-09-11T12:13:21.383Z"
   },
   {
    "duration": 24,
    "start_time": "2022-09-11T12:13:31.336Z"
   },
   {
    "duration": 19,
    "start_time": "2022-09-11T12:14:17.309Z"
   },
   {
    "duration": 16,
    "start_time": "2022-09-11T12:14:23.888Z"
   },
   {
    "duration": 19,
    "start_time": "2022-09-11T12:14:45.247Z"
   },
   {
    "duration": 16,
    "start_time": "2022-09-11T12:15:39.669Z"
   },
   {
    "duration": 17,
    "start_time": "2022-09-11T12:26:13.742Z"
   },
   {
    "duration": 698,
    "start_time": "2022-09-11T12:26:55.174Z"
   },
   {
    "duration": 1049,
    "start_time": "2022-09-11T12:27:12.856Z"
   },
   {
    "duration": 977,
    "start_time": "2022-09-11T12:28:44.897Z"
   },
   {
    "duration": 16133,
    "start_time": "2022-09-11T12:38:16.925Z"
   },
   {
    "duration": 5905,
    "start_time": "2022-09-11T12:38:49.068Z"
   },
   {
    "duration": 4238,
    "start_time": "2022-09-11T12:39:07.538Z"
   },
   {
    "duration": 1864,
    "start_time": "2022-09-11T12:40:08.868Z"
   },
   {
    "duration": 1885,
    "start_time": "2022-09-11T12:42:57.440Z"
   },
   {
    "duration": 2129,
    "start_time": "2022-09-11T12:43:11.164Z"
   },
   {
    "duration": 1103,
    "start_time": "2022-09-11T12:43:41.145Z"
   },
   {
    "duration": 87,
    "start_time": "2022-09-11T12:44:44.497Z"
   },
   {
    "duration": 1111,
    "start_time": "2022-09-11T12:44:52.004Z"
   },
   {
    "duration": 1090,
    "start_time": "2022-09-11T12:45:03.389Z"
   },
   {
    "duration": 71,
    "start_time": "2022-09-11T12:45:50.682Z"
   },
   {
    "duration": 1135,
    "start_time": "2022-09-11T12:46:00.324Z"
   },
   {
    "duration": 2086,
    "start_time": "2022-09-11T12:46:14.904Z"
   },
   {
    "duration": 1100,
    "start_time": "2022-09-11T12:46:27.827Z"
   },
   {
    "duration": 495,
    "start_time": "2022-09-11T12:46:34.315Z"
   },
   {
    "duration": 25,
    "start_time": "2022-09-11T12:46:34.812Z"
   },
   {
    "duration": 30,
    "start_time": "2022-09-11T12:46:34.839Z"
   },
   {
    "duration": 15,
    "start_time": "2022-09-11T12:46:34.874Z"
   },
   {
    "duration": 35,
    "start_time": "2022-09-11T12:46:34.891Z"
   },
   {
    "duration": 3,
    "start_time": "2022-09-11T12:46:34.928Z"
   },
   {
    "duration": 22,
    "start_time": "2022-09-11T12:46:34.933Z"
   },
   {
    "duration": 31,
    "start_time": "2022-09-11T12:46:34.957Z"
   },
   {
    "duration": 13,
    "start_time": "2022-09-11T12:46:34.990Z"
   },
   {
    "duration": 10,
    "start_time": "2022-09-11T12:46:35.006Z"
   },
   {
    "duration": 41,
    "start_time": "2022-09-11T12:46:35.017Z"
   },
   {
    "duration": 14,
    "start_time": "2022-09-11T12:46:35.060Z"
   },
   {
    "duration": 19,
    "start_time": "2022-09-11T12:46:35.076Z"
   },
   {
    "duration": 16,
    "start_time": "2022-09-11T12:46:35.097Z"
   },
   {
    "duration": 28,
    "start_time": "2022-09-11T12:46:35.116Z"
   },
   {
    "duration": 19,
    "start_time": "2022-09-11T12:46:35.146Z"
   },
   {
    "duration": 9,
    "start_time": "2022-09-11T12:46:35.167Z"
   },
   {
    "duration": 19,
    "start_time": "2022-09-11T12:46:35.182Z"
   },
   {
    "duration": 8,
    "start_time": "2022-09-11T12:46:35.204Z"
   },
   {
    "duration": 5,
    "start_time": "2022-09-11T12:46:35.214Z"
   },
   {
    "duration": 17,
    "start_time": "2022-09-11T12:46:35.220Z"
   },
   {
    "duration": 1962,
    "start_time": "2022-09-11T12:46:35.239Z"
   },
   {
    "duration": 1190,
    "start_time": "2022-09-11T12:46:37.203Z"
   },
   {
    "duration": 0,
    "start_time": "2022-09-11T12:46:38.395Z"
   },
   {
    "duration": 0,
    "start_time": "2022-09-11T12:46:38.396Z"
   },
   {
    "duration": 2397,
    "start_time": "2022-09-11T12:47:40.543Z"
   },
   {
    "duration": 492,
    "start_time": "2022-09-11T12:47:52.048Z"
   },
   {
    "duration": 24,
    "start_time": "2022-09-11T12:47:52.541Z"
   },
   {
    "duration": 22,
    "start_time": "2022-09-11T12:47:52.567Z"
   },
   {
    "duration": 12,
    "start_time": "2022-09-11T12:47:52.591Z"
   },
   {
    "duration": 34,
    "start_time": "2022-09-11T12:47:52.605Z"
   },
   {
    "duration": 3,
    "start_time": "2022-09-11T12:47:52.641Z"
   },
   {
    "duration": 35,
    "start_time": "2022-09-11T12:47:52.646Z"
   },
   {
    "duration": 6,
    "start_time": "2022-09-11T12:47:52.683Z"
   },
   {
    "duration": 10,
    "start_time": "2022-09-11T12:47:52.691Z"
   },
   {
    "duration": 5,
    "start_time": "2022-09-11T12:47:52.705Z"
   },
   {
    "duration": 35,
    "start_time": "2022-09-11T12:47:52.712Z"
   },
   {
    "duration": 34,
    "start_time": "2022-09-11T12:47:52.749Z"
   },
   {
    "duration": 4,
    "start_time": "2022-09-11T12:47:52.785Z"
   },
   {
    "duration": 12,
    "start_time": "2022-09-11T12:47:52.791Z"
   },
   {
    "duration": 21,
    "start_time": "2022-09-11T12:47:52.804Z"
   },
   {
    "duration": 17,
    "start_time": "2022-09-11T12:47:52.827Z"
   },
   {
    "duration": 30,
    "start_time": "2022-09-11T12:47:52.846Z"
   },
   {
    "duration": 26,
    "start_time": "2022-09-11T12:47:52.878Z"
   },
   {
    "duration": 8,
    "start_time": "2022-09-11T12:47:52.907Z"
   },
   {
    "duration": 5,
    "start_time": "2022-09-11T12:47:52.916Z"
   },
   {
    "duration": 15,
    "start_time": "2022-09-11T12:47:52.923Z"
   },
   {
    "duration": 1849,
    "start_time": "2022-09-11T12:47:52.940Z"
   },
   {
    "duration": 2517,
    "start_time": "2022-09-11T12:47:54.790Z"
   },
   {
    "duration": 0,
    "start_time": "2022-09-11T12:47:57.308Z"
   },
   {
    "duration": 0,
    "start_time": "2022-09-11T12:47:57.309Z"
   },
   {
    "duration": 2288,
    "start_time": "2022-09-11T12:48:38.460Z"
   },
   {
    "duration": 3389,
    "start_time": "2022-09-11T12:50:01.062Z"
   },
   {
    "duration": 2551,
    "start_time": "2022-09-11T12:50:32.476Z"
   },
   {
    "duration": 2571,
    "start_time": "2022-09-11T12:51:21.030Z"
   },
   {
    "duration": 2485,
    "start_time": "2022-09-11T12:53:01.325Z"
   },
   {
    "duration": 2419,
    "start_time": "2022-09-11T12:54:57.255Z"
   },
   {
    "duration": 491,
    "start_time": "2022-09-11T12:55:10.039Z"
   },
   {
    "duration": 22,
    "start_time": "2022-09-11T12:55:10.533Z"
   },
   {
    "duration": 50,
    "start_time": "2022-09-11T12:55:10.557Z"
   },
   {
    "duration": 20,
    "start_time": "2022-09-11T12:55:10.609Z"
   },
   {
    "duration": 55,
    "start_time": "2022-09-11T12:55:10.631Z"
   },
   {
    "duration": 9,
    "start_time": "2022-09-11T12:55:10.688Z"
   },
   {
    "duration": 27,
    "start_time": "2022-09-11T12:55:10.698Z"
   },
   {
    "duration": 12,
    "start_time": "2022-09-11T12:55:10.727Z"
   },
   {
    "duration": 39,
    "start_time": "2022-09-11T12:55:10.740Z"
   },
   {
    "duration": 12,
    "start_time": "2022-09-11T12:55:10.781Z"
   },
   {
    "duration": 43,
    "start_time": "2022-09-11T12:55:10.795Z"
   },
   {
    "duration": 8,
    "start_time": "2022-09-11T12:55:10.841Z"
   },
   {
    "duration": 41,
    "start_time": "2022-09-11T12:55:10.850Z"
   },
   {
    "duration": 29,
    "start_time": "2022-09-11T12:55:10.894Z"
   },
   {
    "duration": 38,
    "start_time": "2022-09-11T12:55:10.924Z"
   },
   {
    "duration": 20,
    "start_time": "2022-09-11T12:55:10.963Z"
   },
   {
    "duration": 17,
    "start_time": "2022-09-11T12:55:10.986Z"
   },
   {
    "duration": 39,
    "start_time": "2022-09-11T12:55:11.005Z"
   },
   {
    "duration": 11,
    "start_time": "2022-09-11T12:55:11.046Z"
   },
   {
    "duration": 27,
    "start_time": "2022-09-11T12:55:11.059Z"
   },
   {
    "duration": 35,
    "start_time": "2022-09-11T12:55:11.089Z"
   },
   {
    "duration": 1885,
    "start_time": "2022-09-11T12:55:11.127Z"
   },
   {
    "duration": 0,
    "start_time": "2022-09-11T12:55:15.637Z"
   },
   {
    "duration": 0,
    "start_time": "2022-09-11T12:55:15.638Z"
   },
   {
    "duration": 0,
    "start_time": "2022-09-11T12:55:15.639Z"
   },
   {
    "duration": 2402,
    "start_time": "2022-09-11T12:55:24.819Z"
   },
   {
    "duration": 2383,
    "start_time": "2022-09-11T12:55:48.782Z"
   },
   {
    "duration": 1215,
    "start_time": "2022-09-11T12:59:56.183Z"
   },
   {
    "duration": 3377,
    "start_time": "2022-09-11T13:00:15.113Z"
   },
   {
    "duration": 552,
    "start_time": "2022-09-11T13:00:25.143Z"
   },
   {
    "duration": 25,
    "start_time": "2022-09-11T13:00:25.698Z"
   },
   {
    "duration": 17,
    "start_time": "2022-09-11T13:00:25.725Z"
   },
   {
    "duration": 38,
    "start_time": "2022-09-11T13:00:25.744Z"
   },
   {
    "duration": 39,
    "start_time": "2022-09-11T13:00:25.784Z"
   },
   {
    "duration": 4,
    "start_time": "2022-09-11T13:00:25.825Z"
   },
   {
    "duration": 16,
    "start_time": "2022-09-11T13:00:25.831Z"
   },
   {
    "duration": 4,
    "start_time": "2022-09-11T13:00:25.849Z"
   },
   {
    "duration": 38,
    "start_time": "2022-09-11T13:00:25.855Z"
   },
   {
    "duration": 5,
    "start_time": "2022-09-11T13:00:25.895Z"
   },
   {
    "duration": 35,
    "start_time": "2022-09-11T13:00:25.902Z"
   },
   {
    "duration": 11,
    "start_time": "2022-09-11T13:00:25.939Z"
   },
   {
    "duration": 10,
    "start_time": "2022-09-11T13:00:25.969Z"
   },
   {
    "duration": 19,
    "start_time": "2022-09-11T13:00:25.984Z"
   },
   {
    "duration": 25,
    "start_time": "2022-09-11T13:00:26.004Z"
   },
   {
    "duration": 19,
    "start_time": "2022-09-11T13:00:26.031Z"
   },
   {
    "duration": 10,
    "start_time": "2022-09-11T13:00:26.052Z"
   },
   {
    "duration": 18,
    "start_time": "2022-09-11T13:00:26.070Z"
   },
   {
    "duration": 8,
    "start_time": "2022-09-11T13:00:26.091Z"
   },
   {
    "duration": 4,
    "start_time": "2022-09-11T13:00:26.101Z"
   },
   {
    "duration": 17,
    "start_time": "2022-09-11T13:00:26.107Z"
   },
   {
    "duration": 2023,
    "start_time": "2022-09-11T13:00:26.126Z"
   },
   {
    "duration": 2740,
    "start_time": "2022-09-11T13:00:28.151Z"
   },
   {
    "duration": 0,
    "start_time": "2022-09-11T13:00:30.892Z"
   },
   {
    "duration": 0,
    "start_time": "2022-09-11T13:00:30.894Z"
   },
   {
    "duration": 2578,
    "start_time": "2022-09-11T13:00:57.257Z"
   },
   {
    "duration": 480,
    "start_time": "2022-09-11T13:01:12.618Z"
   },
   {
    "duration": 27,
    "start_time": "2022-09-11T13:01:13.100Z"
   },
   {
    "duration": 22,
    "start_time": "2022-09-11T13:01:13.128Z"
   },
   {
    "duration": 11,
    "start_time": "2022-09-11T13:01:13.180Z"
   },
   {
    "duration": 39,
    "start_time": "2022-09-11T13:01:13.193Z"
   },
   {
    "duration": 4,
    "start_time": "2022-09-11T13:01:13.234Z"
   },
   {
    "duration": 13,
    "start_time": "2022-09-11T13:01:13.240Z"
   },
   {
    "duration": 12,
    "start_time": "2022-09-11T13:01:13.271Z"
   },
   {
    "duration": 7,
    "start_time": "2022-09-11T13:01:13.285Z"
   },
   {
    "duration": 5,
    "start_time": "2022-09-11T13:01:13.296Z"
   },
   {
    "duration": 36,
    "start_time": "2022-09-11T13:01:13.303Z"
   },
   {
    "duration": 9,
    "start_time": "2022-09-11T13:01:13.341Z"
   },
   {
    "duration": 5,
    "start_time": "2022-09-11T13:01:13.368Z"
   },
   {
    "duration": 16,
    "start_time": "2022-09-11T13:01:13.382Z"
   },
   {
    "duration": 28,
    "start_time": "2022-09-11T13:01:13.401Z"
   },
   {
    "duration": 21,
    "start_time": "2022-09-11T13:01:13.431Z"
   },
   {
    "duration": 14,
    "start_time": "2022-09-11T13:01:13.453Z"
   },
   {
    "duration": 27,
    "start_time": "2022-09-11T13:01:13.472Z"
   },
   {
    "duration": 16,
    "start_time": "2022-09-11T13:01:13.500Z"
   },
   {
    "duration": 4,
    "start_time": "2022-09-11T13:01:13.519Z"
   },
   {
    "duration": 12,
    "start_time": "2022-09-11T13:01:13.525Z"
   },
   {
    "duration": 1858,
    "start_time": "2022-09-11T13:01:13.538Z"
   },
   {
    "duration": 2535,
    "start_time": "2022-09-11T13:01:15.398Z"
   },
   {
    "duration": 0,
    "start_time": "2022-09-11T13:01:17.935Z"
   },
   {
    "duration": 0,
    "start_time": "2022-09-11T13:01:17.937Z"
   },
   {
    "duration": 2482,
    "start_time": "2022-09-11T13:01:37.781Z"
   },
   {
    "duration": 2443,
    "start_time": "2022-09-11T13:02:02.140Z"
   },
   {
    "duration": 462,
    "start_time": "2022-09-11T13:02:25.422Z"
   },
   {
    "duration": 25,
    "start_time": "2022-09-11T13:02:25.887Z"
   },
   {
    "duration": 18,
    "start_time": "2022-09-11T13:02:25.914Z"
   },
   {
    "duration": 19,
    "start_time": "2022-09-11T13:02:25.934Z"
   },
   {
    "duration": 46,
    "start_time": "2022-09-11T13:02:25.956Z"
   },
   {
    "duration": 4,
    "start_time": "2022-09-11T13:02:26.004Z"
   },
   {
    "duration": 13,
    "start_time": "2022-09-11T13:02:26.010Z"
   },
   {
    "duration": 10,
    "start_time": "2022-09-11T13:02:26.025Z"
   },
   {
    "duration": 11,
    "start_time": "2022-09-11T13:02:26.037Z"
   },
   {
    "duration": 19,
    "start_time": "2022-09-11T13:02:26.051Z"
   },
   {
    "duration": 66,
    "start_time": "2022-09-11T13:02:26.072Z"
   },
   {
    "duration": 12,
    "start_time": "2022-09-11T13:02:26.140Z"
   },
   {
    "duration": 4,
    "start_time": "2022-09-11T13:02:26.154Z"
   },
   {
    "duration": 20,
    "start_time": "2022-09-11T13:02:26.159Z"
   },
   {
    "duration": 27,
    "start_time": "2022-09-11T13:02:26.184Z"
   },
   {
    "duration": 16,
    "start_time": "2022-09-11T13:02:26.213Z"
   },
   {
    "duration": 4,
    "start_time": "2022-09-11T13:02:26.230Z"
   },
   {
    "duration": 11,
    "start_time": "2022-09-11T13:02:26.236Z"
   },
   {
    "duration": 5,
    "start_time": "2022-09-11T13:02:26.249Z"
   },
   {
    "duration": 30,
    "start_time": "2022-09-11T13:02:26.256Z"
   },
   {
    "duration": 12,
    "start_time": "2022-09-11T13:02:26.288Z"
   },
   {
    "duration": 1869,
    "start_time": "2022-09-11T13:02:26.302Z"
   },
   {
    "duration": 2421,
    "start_time": "2022-09-11T13:02:28.173Z"
   },
   {
    "duration": 0,
    "start_time": "2022-09-11T13:02:30.596Z"
   },
   {
    "duration": 0,
    "start_time": "2022-09-11T13:02:30.598Z"
   },
   {
    "duration": 2744,
    "start_time": "2022-09-11T13:03:14.448Z"
   },
   {
    "duration": 9449,
    "start_time": "2022-09-11T13:05:32.634Z"
   },
   {
    "duration": 1024,
    "start_time": "2022-09-11T13:06:38.106Z"
   },
   {
    "duration": 2604,
    "start_time": "2022-09-11T13:06:44.291Z"
   },
   {
    "duration": 2565,
    "start_time": "2022-09-11T13:08:29.879Z"
   },
   {
    "duration": 2758,
    "start_time": "2022-09-11T13:08:43.353Z"
   },
   {
    "duration": 2262,
    "start_time": "2022-09-11T13:10:55.002Z"
   },
   {
    "duration": 466,
    "start_time": "2022-09-11T13:11:09.822Z"
   },
   {
    "duration": 27,
    "start_time": "2022-09-11T13:11:10.290Z"
   },
   {
    "duration": 18,
    "start_time": "2022-09-11T13:11:10.319Z"
   },
   {
    "duration": 46,
    "start_time": "2022-09-11T13:11:10.340Z"
   },
   {
    "duration": 41,
    "start_time": "2022-09-11T13:11:10.388Z"
   },
   {
    "duration": 4,
    "start_time": "2022-09-11T13:11:10.431Z"
   },
   {
    "duration": 15,
    "start_time": "2022-09-11T13:11:10.437Z"
   },
   {
    "duration": 29,
    "start_time": "2022-09-11T13:11:10.454Z"
   },
   {
    "duration": 15,
    "start_time": "2022-09-11T13:11:10.486Z"
   },
   {
    "duration": 4,
    "start_time": "2022-09-11T13:11:10.504Z"
   },
   {
    "duration": 45,
    "start_time": "2022-09-11T13:11:10.510Z"
   },
   {
    "duration": 22,
    "start_time": "2022-09-11T13:11:10.557Z"
   },
   {
    "duration": 7,
    "start_time": "2022-09-11T13:11:10.584Z"
   },
   {
    "duration": 12,
    "start_time": "2022-09-11T13:11:10.593Z"
   },
   {
    "duration": 20,
    "start_time": "2022-09-11T13:11:10.607Z"
   },
   {
    "duration": 17,
    "start_time": "2022-09-11T13:11:10.629Z"
   },
   {
    "duration": 4,
    "start_time": "2022-09-11T13:11:10.648Z"
   },
   {
    "duration": 22,
    "start_time": "2022-09-11T13:11:10.653Z"
   },
   {
    "duration": 19,
    "start_time": "2022-09-11T13:11:10.677Z"
   },
   {
    "duration": 4,
    "start_time": "2022-09-11T13:11:10.698Z"
   },
   {
    "duration": 15,
    "start_time": "2022-09-11T13:11:10.704Z"
   },
   {
    "duration": 1822,
    "start_time": "2022-09-11T13:11:10.721Z"
   },
   {
    "duration": 3859,
    "start_time": "2022-09-11T13:11:12.545Z"
   },
   {
    "duration": 0,
    "start_time": "2022-09-11T13:11:16.407Z"
   },
   {
    "duration": 0,
    "start_time": "2022-09-11T13:11:16.408Z"
   },
   {
    "duration": 2485,
    "start_time": "2022-09-11T13:12:04.269Z"
   },
   {
    "duration": 2562,
    "start_time": "2022-09-11T13:12:38.590Z"
   },
   {
    "duration": 2781,
    "start_time": "2022-09-11T13:15:38.458Z"
   },
   {
    "duration": 3062,
    "start_time": "2022-09-11T13:18:31.057Z"
   },
   {
    "duration": 3017,
    "start_time": "2022-09-11T13:18:47.989Z"
   },
   {
    "duration": 2775,
    "start_time": "2022-09-11T13:19:47.505Z"
   },
   {
    "duration": 3018,
    "start_time": "2022-09-11T13:20:18.396Z"
   },
   {
    "duration": 498,
    "start_time": "2022-09-11T13:20:37.468Z"
   },
   {
    "duration": 34,
    "start_time": "2022-09-11T13:20:37.968Z"
   },
   {
    "duration": 18,
    "start_time": "2022-09-11T13:20:38.005Z"
   },
   {
    "duration": 11,
    "start_time": "2022-09-11T13:20:38.026Z"
   },
   {
    "duration": 68,
    "start_time": "2022-09-11T13:20:38.039Z"
   },
   {
    "duration": 4,
    "start_time": "2022-09-11T13:20:38.109Z"
   },
   {
    "duration": 12,
    "start_time": "2022-09-11T13:20:38.116Z"
   },
   {
    "duration": 11,
    "start_time": "2022-09-11T13:20:38.130Z"
   },
   {
    "duration": 10,
    "start_time": "2022-09-11T13:20:38.142Z"
   },
   {
    "duration": 12,
    "start_time": "2022-09-11T13:20:38.171Z"
   },
   {
    "duration": 35,
    "start_time": "2022-09-11T13:20:38.193Z"
   },
   {
    "duration": 8,
    "start_time": "2022-09-11T13:20:38.230Z"
   },
   {
    "duration": 4,
    "start_time": "2022-09-11T13:20:38.240Z"
   },
   {
    "duration": 12,
    "start_time": "2022-09-11T13:20:38.246Z"
   },
   {
    "duration": 25,
    "start_time": "2022-09-11T13:20:38.271Z"
   },
   {
    "duration": 19,
    "start_time": "2022-09-11T13:20:38.298Z"
   },
   {
    "duration": 4,
    "start_time": "2022-09-11T13:20:38.319Z"
   },
   {
    "duration": 14,
    "start_time": "2022-09-11T13:20:38.324Z"
   },
   {
    "duration": 9,
    "start_time": "2022-09-11T13:20:38.340Z"
   },
   {
    "duration": 22,
    "start_time": "2022-09-11T13:20:38.350Z"
   },
   {
    "duration": 34,
    "start_time": "2022-09-11T13:20:38.376Z"
   },
   {
    "duration": 1772,
    "start_time": "2022-09-11T13:20:38.412Z"
   },
   {
    "duration": 2712,
    "start_time": "2022-09-11T13:20:40.187Z"
   },
   {
    "duration": 0,
    "start_time": "2022-09-11T13:20:42.902Z"
   },
   {
    "duration": 0,
    "start_time": "2022-09-11T13:20:42.903Z"
   },
   {
    "duration": 2586,
    "start_time": "2022-09-11T13:21:12.364Z"
   },
   {
    "duration": 2750,
    "start_time": "2022-09-11T13:21:41.108Z"
   },
   {
    "duration": 3172,
    "start_time": "2022-09-11T13:22:05.336Z"
   },
   {
    "duration": 1115,
    "start_time": "2022-09-11T13:22:39.282Z"
   },
   {
    "duration": 1201,
    "start_time": "2022-09-11T13:22:48.247Z"
   },
   {
    "duration": 3335,
    "start_time": "2022-09-11T13:23:15.701Z"
   },
   {
    "duration": 1188,
    "start_time": "2022-09-11T13:23:30.505Z"
   },
   {
    "duration": 3163,
    "start_time": "2022-09-11T13:23:43.153Z"
   },
   {
    "duration": 2214,
    "start_time": "2022-09-11T13:24:21.700Z"
   },
   {
    "duration": 2277,
    "start_time": "2022-09-11T13:24:59.540Z"
   },
   {
    "duration": 2266,
    "start_time": "2022-09-11T13:25:04.784Z"
   },
   {
    "duration": 2172,
    "start_time": "2022-09-11T13:25:30.009Z"
   },
   {
    "duration": 2227,
    "start_time": "2022-09-11T13:25:45.888Z"
   },
   {
    "duration": 2304,
    "start_time": "2022-09-11T13:26:22.330Z"
   },
   {
    "duration": 2345,
    "start_time": "2022-09-11T13:26:59.361Z"
   },
   {
    "duration": 2342,
    "start_time": "2022-09-11T13:27:21.657Z"
   },
   {
    "duration": 2469,
    "start_time": "2022-09-11T13:27:35.355Z"
   },
   {
    "duration": 3814,
    "start_time": "2022-09-11T13:28:12.599Z"
   },
   {
    "duration": 3694,
    "start_time": "2022-09-11T13:28:28.912Z"
   },
   {
    "duration": 3513,
    "start_time": "2022-09-11T13:29:00.786Z"
   },
   {
    "duration": 4688,
    "start_time": "2022-09-11T13:29:17.606Z"
   },
   {
    "duration": 4480,
    "start_time": "2022-09-11T13:29:30.206Z"
   },
   {
    "duration": 0,
    "start_time": "2022-09-11T13:30:35.781Z"
   },
   {
    "duration": 2347,
    "start_time": "2022-09-11T13:31:17.495Z"
   },
   {
    "duration": 2621,
    "start_time": "2022-09-11T13:32:10.683Z"
   },
   {
    "duration": 2751,
    "start_time": "2022-09-11T13:32:36.262Z"
   },
   {
    "duration": 2623,
    "start_time": "2022-09-11T13:32:46.358Z"
   },
   {
    "duration": 2448,
    "start_time": "2022-09-11T13:33:10.175Z"
   },
   {
    "duration": 2670,
    "start_time": "2022-09-11T13:33:29.304Z"
   },
   {
    "duration": 2574,
    "start_time": "2022-09-11T13:34:17.054Z"
   },
   {
    "duration": 530,
    "start_time": "2022-09-11T13:37:17.869Z"
   },
   {
    "duration": 24,
    "start_time": "2022-09-11T13:37:18.402Z"
   },
   {
    "duration": 16,
    "start_time": "2022-09-11T13:37:18.428Z"
   },
   {
    "duration": 23,
    "start_time": "2022-09-11T13:37:18.446Z"
   },
   {
    "duration": 42,
    "start_time": "2022-09-11T13:37:18.471Z"
   },
   {
    "duration": 3,
    "start_time": "2022-09-11T13:37:18.515Z"
   },
   {
    "duration": 11,
    "start_time": "2022-09-11T13:37:18.520Z"
   },
   {
    "duration": 5,
    "start_time": "2022-09-11T13:37:18.532Z"
   },
   {
    "duration": 30,
    "start_time": "2022-09-11T13:37:18.539Z"
   },
   {
    "duration": 9,
    "start_time": "2022-09-11T13:37:18.580Z"
   },
   {
    "duration": 44,
    "start_time": "2022-09-11T13:37:18.591Z"
   },
   {
    "duration": 11,
    "start_time": "2022-09-11T13:37:18.636Z"
   },
   {
    "duration": 4,
    "start_time": "2022-09-11T13:37:18.648Z"
   },
   {
    "duration": 37,
    "start_time": "2022-09-11T13:37:18.654Z"
   },
   {
    "duration": 21,
    "start_time": "2022-09-11T13:37:18.692Z"
   },
   {
    "duration": 17,
    "start_time": "2022-09-11T13:37:18.714Z"
   },
   {
    "duration": 3,
    "start_time": "2022-09-11T13:37:18.733Z"
   },
   {
    "duration": 17,
    "start_time": "2022-09-11T13:37:18.738Z"
   },
   {
    "duration": 23,
    "start_time": "2022-09-11T13:37:18.757Z"
   },
   {
    "duration": 16,
    "start_time": "2022-09-11T13:37:18.782Z"
   },
   {
    "duration": 12,
    "start_time": "2022-09-11T13:37:18.800Z"
   },
   {
    "duration": 1907,
    "start_time": "2022-09-11T13:37:18.814Z"
   },
   {
    "duration": 2878,
    "start_time": "2022-09-11T13:37:20.723Z"
   },
   {
    "duration": 0,
    "start_time": "2022-09-11T13:37:23.602Z"
   },
   {
    "duration": 0,
    "start_time": "2022-09-11T13:37:23.604Z"
   },
   {
    "duration": 31,
    "start_time": "2022-09-11T13:48:22.196Z"
   },
   {
    "duration": 473,
    "start_time": "2022-09-11T13:48:27.323Z"
   },
   {
    "duration": 22,
    "start_time": "2022-09-11T13:48:27.798Z"
   },
   {
    "duration": 15,
    "start_time": "2022-09-11T13:48:27.822Z"
   },
   {
    "duration": 37,
    "start_time": "2022-09-11T13:48:27.840Z"
   },
   {
    "duration": 44,
    "start_time": "2022-09-11T13:48:27.878Z"
   },
   {
    "duration": 4,
    "start_time": "2022-09-11T13:48:27.923Z"
   },
   {
    "duration": 12,
    "start_time": "2022-09-11T13:48:27.928Z"
   },
   {
    "duration": 6,
    "start_time": "2022-09-11T13:48:27.942Z"
   },
   {
    "duration": 29,
    "start_time": "2022-09-11T13:48:27.950Z"
   },
   {
    "duration": 5,
    "start_time": "2022-09-11T13:48:27.981Z"
   },
   {
    "duration": 36,
    "start_time": "2022-09-11T13:48:27.990Z"
   },
   {
    "duration": 10,
    "start_time": "2022-09-11T13:48:28.027Z"
   },
   {
    "duration": 4,
    "start_time": "2022-09-11T13:48:28.038Z"
   },
   {
    "duration": 35,
    "start_time": "2022-09-11T13:48:28.043Z"
   },
   {
    "duration": 23,
    "start_time": "2022-09-11T13:48:28.091Z"
   },
   {
    "duration": 20,
    "start_time": "2022-09-11T13:48:28.116Z"
   },
   {
    "duration": 4,
    "start_time": "2022-09-11T13:48:28.138Z"
   },
   {
    "duration": 15,
    "start_time": "2022-09-11T13:48:28.143Z"
   },
   {
    "duration": 15,
    "start_time": "2022-09-11T13:48:28.159Z"
   },
   {
    "duration": 28,
    "start_time": "2022-09-11T13:48:28.176Z"
   },
   {
    "duration": 10,
    "start_time": "2022-09-11T13:48:28.206Z"
   },
   {
    "duration": 1803,
    "start_time": "2022-09-11T13:48:28.218Z"
   },
   {
    "duration": 1239,
    "start_time": "2022-09-11T13:48:30.023Z"
   },
   {
    "duration": 0,
    "start_time": "2022-09-11T13:48:31.269Z"
   },
   {
    "duration": 0,
    "start_time": "2022-09-11T13:48:31.270Z"
   },
   {
    "duration": 28,
    "start_time": "2022-09-11T13:48:53.015Z"
   },
   {
    "duration": 4,
    "start_time": "2022-09-11T13:48:54.324Z"
   },
   {
    "duration": 9,
    "start_time": "2022-09-11T13:48:54.451Z"
   },
   {
    "duration": 6,
    "start_time": "2022-09-11T13:48:54.734Z"
   },
   {
    "duration": 3,
    "start_time": "2022-09-11T13:48:55.229Z"
   },
   {
    "duration": 8,
    "start_time": "2022-09-11T13:48:55.537Z"
   },
   {
    "duration": 1109,
    "start_time": "2022-09-11T13:48:56.214Z"
   },
   {
    "duration": 1102,
    "start_time": "2022-09-11T13:49:13.352Z"
   },
   {
    "duration": 1084,
    "start_time": "2022-09-11T13:49:26.712Z"
   },
   {
    "duration": 1093,
    "start_time": "2022-09-11T13:49:29.134Z"
   },
   {
    "duration": 1133,
    "start_time": "2022-09-11T13:50:22.497Z"
   },
   {
    "duration": 1113,
    "start_time": "2022-09-11T13:50:27.904Z"
   },
   {
    "duration": 1262,
    "start_time": "2022-09-11T13:50:37.604Z"
   },
   {
    "duration": 429,
    "start_time": "2022-09-11T13:50:47.828Z"
   },
   {
    "duration": 30,
    "start_time": "2022-09-11T13:50:48.260Z"
   },
   {
    "duration": 23,
    "start_time": "2022-09-11T13:50:48.292Z"
   },
   {
    "duration": 9,
    "start_time": "2022-09-11T13:50:48.317Z"
   },
   {
    "duration": 32,
    "start_time": "2022-09-11T13:50:48.328Z"
   },
   {
    "duration": 4,
    "start_time": "2022-09-11T13:50:48.369Z"
   },
   {
    "duration": 10,
    "start_time": "2022-09-11T13:50:48.375Z"
   },
   {
    "duration": 9,
    "start_time": "2022-09-11T13:50:48.391Z"
   },
   {
    "duration": 9,
    "start_time": "2022-09-11T13:50:48.401Z"
   },
   {
    "duration": 4,
    "start_time": "2022-09-11T13:50:48.414Z"
   },
   {
    "duration": 33,
    "start_time": "2022-09-11T13:50:48.420Z"
   },
   {
    "duration": 36,
    "start_time": "2022-09-11T13:50:48.454Z"
   },
   {
    "duration": 3,
    "start_time": "2022-09-11T13:50:48.492Z"
   },
   {
    "duration": 14,
    "start_time": "2022-09-11T13:50:48.497Z"
   },
   {
    "duration": 19,
    "start_time": "2022-09-11T13:50:48.513Z"
   },
   {
    "duration": 17,
    "start_time": "2022-09-11T13:50:48.533Z"
   },
   {
    "duration": 21,
    "start_time": "2022-09-11T13:50:48.567Z"
   },
   {
    "duration": 22,
    "start_time": "2022-09-11T13:50:48.590Z"
   },
   {
    "duration": 9,
    "start_time": "2022-09-11T13:50:48.614Z"
   },
   {
    "duration": 8,
    "start_time": "2022-09-11T13:50:48.625Z"
   },
   {
    "duration": 13,
    "start_time": "2022-09-11T13:50:48.634Z"
   },
   {
    "duration": 1932,
    "start_time": "2022-09-11T13:50:48.649Z"
   },
   {
    "duration": 1266,
    "start_time": "2022-09-11T13:50:50.596Z"
   },
   {
    "duration": 0,
    "start_time": "2022-09-11T13:50:51.867Z"
   },
   {
    "duration": 0,
    "start_time": "2022-09-11T13:50:51.875Z"
   },
   {
    "duration": 24,
    "start_time": "2022-09-11T13:51:05.738Z"
   },
   {
    "duration": 3,
    "start_time": "2022-09-11T13:51:07.662Z"
   },
   {
    "duration": 10,
    "start_time": "2022-09-11T13:51:07.708Z"
   },
   {
    "duration": 7,
    "start_time": "2022-09-11T13:51:07.794Z"
   },
   {
    "duration": 4,
    "start_time": "2022-09-11T13:51:07.834Z"
   },
   {
    "duration": 25,
    "start_time": "2022-09-11T13:51:07.864Z"
   },
   {
    "duration": 1053,
    "start_time": "2022-09-11T13:51:07.963Z"
   },
   {
    "duration": 1152,
    "start_time": "2022-09-11T13:51:09.019Z"
   },
   {
    "duration": 0,
    "start_time": "2022-09-11T13:51:10.180Z"
   },
   {
    "duration": 0,
    "start_time": "2022-09-11T13:51:10.181Z"
   },
   {
    "duration": 63,
    "start_time": "2022-09-11T13:53:42.746Z"
   },
   {
    "duration": 8,
    "start_time": "2022-09-11T13:53:56.394Z"
   },
   {
    "duration": 10,
    "start_time": "2022-09-11T13:54:03.811Z"
   },
   {
    "duration": 464,
    "start_time": "2022-09-11T13:54:08.804Z"
   },
   {
    "duration": 32,
    "start_time": "2022-09-11T13:54:09.276Z"
   },
   {
    "duration": 15,
    "start_time": "2022-09-11T13:54:09.310Z"
   },
   {
    "duration": 9,
    "start_time": "2022-09-11T13:54:09.327Z"
   },
   {
    "duration": 52,
    "start_time": "2022-09-11T13:54:09.337Z"
   },
   {
    "duration": 4,
    "start_time": "2022-09-11T13:54:09.390Z"
   },
   {
    "duration": 13,
    "start_time": "2022-09-11T13:54:09.397Z"
   },
   {
    "duration": 4,
    "start_time": "2022-09-11T13:54:09.412Z"
   },
   {
    "duration": 9,
    "start_time": "2022-09-11T13:54:09.418Z"
   },
   {
    "duration": 4,
    "start_time": "2022-09-11T13:54:09.431Z"
   },
   {
    "duration": 64,
    "start_time": "2022-09-11T13:54:09.436Z"
   },
   {
    "duration": 11,
    "start_time": "2022-09-11T13:54:09.502Z"
   },
   {
    "duration": 7,
    "start_time": "2022-09-11T13:54:09.514Z"
   },
   {
    "duration": 19,
    "start_time": "2022-09-11T13:54:09.523Z"
   },
   {
    "duration": 53,
    "start_time": "2022-09-11T13:54:09.544Z"
   },
   {
    "duration": 17,
    "start_time": "2022-09-11T13:54:09.599Z"
   },
   {
    "duration": 3,
    "start_time": "2022-09-11T13:54:09.618Z"
   },
   {
    "duration": 13,
    "start_time": "2022-09-11T13:54:09.623Z"
   },
   {
    "duration": 6,
    "start_time": "2022-09-11T13:54:09.638Z"
   },
   {
    "duration": 4,
    "start_time": "2022-09-11T13:54:09.646Z"
   },
   {
    "duration": 41,
    "start_time": "2022-09-11T13:54:09.652Z"
   },
   {
    "duration": 1921,
    "start_time": "2022-09-11T13:54:09.695Z"
   },
   {
    "duration": 2665,
    "start_time": "2022-09-11T13:54:11.618Z"
   },
   {
    "duration": 0,
    "start_time": "2022-09-11T13:54:14.285Z"
   },
   {
    "duration": 0,
    "start_time": "2022-09-11T13:54:14.285Z"
   },
   {
    "duration": 3876,
    "start_time": "2022-09-11T13:56:43.709Z"
   },
   {
    "duration": 1143,
    "start_time": "2022-09-11T13:57:25.482Z"
   },
   {
    "duration": 1167,
    "start_time": "2022-09-11T13:58:07.719Z"
   },
   {
    "duration": 88,
    "start_time": "2022-09-11T13:59:04.448Z"
   },
   {
    "duration": 89,
    "start_time": "2022-09-11T13:59:16.705Z"
   },
   {
    "duration": 0,
    "start_time": "2022-09-11T13:59:56.911Z"
   },
   {
    "duration": 49,
    "start_time": "2022-09-11T14:01:35.387Z"
   },
   {
    "duration": 511,
    "start_time": "2022-09-11T14:01:48.218Z"
   },
   {
    "duration": 22,
    "start_time": "2022-09-11T14:01:48.731Z"
   },
   {
    "duration": 25,
    "start_time": "2022-09-11T14:01:48.755Z"
   },
   {
    "duration": 9,
    "start_time": "2022-09-11T14:01:48.784Z"
   },
   {
    "duration": 34,
    "start_time": "2022-09-11T14:01:48.795Z"
   },
   {
    "duration": 4,
    "start_time": "2022-09-11T14:01:48.830Z"
   },
   {
    "duration": 18,
    "start_time": "2022-09-11T14:01:48.835Z"
   },
   {
    "duration": 9,
    "start_time": "2022-09-11T14:01:48.854Z"
   },
   {
    "duration": 16,
    "start_time": "2022-09-11T14:01:48.865Z"
   },
   {
    "duration": 9,
    "start_time": "2022-09-11T14:01:48.886Z"
   },
   {
    "duration": 38,
    "start_time": "2022-09-11T14:01:48.896Z"
   },
   {
    "duration": 11,
    "start_time": "2022-09-11T14:01:48.936Z"
   },
   {
    "duration": 3,
    "start_time": "2022-09-11T14:01:48.949Z"
   },
   {
    "duration": 25,
    "start_time": "2022-09-11T14:01:48.968Z"
   },
   {
    "duration": 22,
    "start_time": "2022-09-11T14:01:48.995Z"
   },
   {
    "duration": 17,
    "start_time": "2022-09-11T14:01:49.019Z"
   },
   {
    "duration": 4,
    "start_time": "2022-09-11T14:01:49.038Z"
   },
   {
    "duration": 12,
    "start_time": "2022-09-11T14:01:49.043Z"
   },
   {
    "duration": 14,
    "start_time": "2022-09-11T14:01:49.070Z"
   },
   {
    "duration": 5,
    "start_time": "2022-09-11T14:01:49.086Z"
   },
   {
    "duration": 12,
    "start_time": "2022-09-11T14:01:49.093Z"
   },
   {
    "duration": 1923,
    "start_time": "2022-09-11T14:01:49.107Z"
   },
   {
    "duration": 1145,
    "start_time": "2022-09-11T14:01:51.032Z"
   },
   {
    "duration": 3,
    "start_time": "2022-09-11T14:01:52.184Z"
   },
   {
    "duration": 9,
    "start_time": "2022-09-11T14:01:52.189Z"
   },
   {
    "duration": 1155,
    "start_time": "2022-09-11T14:02:20.707Z"
   },
   {
    "duration": 1136,
    "start_time": "2022-09-11T14:03:03.914Z"
   },
   {
    "duration": 1074,
    "start_time": "2022-09-11T14:03:10.416Z"
   },
   {
    "duration": 1357,
    "start_time": "2022-09-11T14:04:46.643Z"
   },
   {
    "duration": 1099,
    "start_time": "2022-09-11T14:04:57.546Z"
   },
   {
    "duration": 1125,
    "start_time": "2022-09-11T14:06:12.215Z"
   },
   {
    "duration": 1085,
    "start_time": "2022-09-11T14:06:41.066Z"
   },
   {
    "duration": 1154,
    "start_time": "2022-09-11T14:07:54.695Z"
   },
   {
    "duration": 1156,
    "start_time": "2022-09-11T14:10:02.387Z"
   },
   {
    "duration": 1236,
    "start_time": "2022-09-11T14:11:06.081Z"
   },
   {
    "duration": 1064,
    "start_time": "2022-09-11T14:13:04.231Z"
   },
   {
    "duration": 1192,
    "start_time": "2022-09-11T14:13:15.384Z"
   },
   {
    "duration": 1179,
    "start_time": "2022-09-11T14:15:10.391Z"
   },
   {
    "duration": 1151,
    "start_time": "2022-09-11T14:16:14.244Z"
   },
   {
    "duration": 1190,
    "start_time": "2022-09-11T14:16:40.218Z"
   },
   {
    "duration": 2408,
    "start_time": "2022-09-11T14:18:52.301Z"
   },
   {
    "duration": 2614,
    "start_time": "2022-09-11T14:19:14.508Z"
   },
   {
    "duration": 1118,
    "start_time": "2022-09-11T14:19:41.205Z"
   },
   {
    "duration": 1253,
    "start_time": "2022-09-11T14:20:04.856Z"
   },
   {
    "duration": 1146,
    "start_time": "2022-09-11T14:20:28.261Z"
   },
   {
    "duration": 1110,
    "start_time": "2022-09-11T14:20:37.705Z"
   },
   {
    "duration": 114,
    "start_time": "2022-09-11T14:21:27.682Z"
   },
   {
    "duration": 140,
    "start_time": "2022-09-11T14:22:18.646Z"
   },
   {
    "duration": 122,
    "start_time": "2022-09-11T14:22:31.122Z"
   },
   {
    "duration": 161,
    "start_time": "2022-09-11T14:28:13.137Z"
   },
   {
    "duration": 164,
    "start_time": "2022-09-11T14:29:11.383Z"
   },
   {
    "duration": 44,
    "start_time": "2022-09-11T14:29:16.058Z"
   },
   {
    "duration": 135,
    "start_time": "2022-09-11T14:29:25.300Z"
   },
   {
    "duration": 136,
    "start_time": "2022-09-11T14:29:29.102Z"
   },
   {
    "duration": 504,
    "start_time": "2022-09-11T14:29:37.917Z"
   },
   {
    "duration": 24,
    "start_time": "2022-09-11T14:29:38.423Z"
   },
   {
    "duration": 26,
    "start_time": "2022-09-11T14:29:38.450Z"
   },
   {
    "duration": 10,
    "start_time": "2022-09-11T14:29:38.479Z"
   },
   {
    "duration": 37,
    "start_time": "2022-09-11T14:29:38.490Z"
   },
   {
    "duration": 3,
    "start_time": "2022-09-11T14:29:38.529Z"
   },
   {
    "duration": 36,
    "start_time": "2022-09-11T14:29:38.534Z"
   },
   {
    "duration": 5,
    "start_time": "2022-09-11T14:29:38.572Z"
   },
   {
    "duration": 8,
    "start_time": "2022-09-11T14:29:38.578Z"
   },
   {
    "duration": 5,
    "start_time": "2022-09-11T14:29:38.590Z"
   },
   {
    "duration": 39,
    "start_time": "2022-09-11T14:29:38.596Z"
   },
   {
    "duration": 35,
    "start_time": "2022-09-11T14:29:38.637Z"
   },
   {
    "duration": 4,
    "start_time": "2022-09-11T14:29:38.674Z"
   },
   {
    "duration": 20,
    "start_time": "2022-09-11T14:29:38.680Z"
   },
   {
    "duration": 31,
    "start_time": "2022-09-11T14:29:38.702Z"
   },
   {
    "duration": 46,
    "start_time": "2022-09-11T14:29:38.735Z"
   },
   {
    "duration": 5,
    "start_time": "2022-09-11T14:29:38.783Z"
   },
   {
    "duration": 19,
    "start_time": "2022-09-11T14:29:38.789Z"
   },
   {
    "duration": 8,
    "start_time": "2022-09-11T14:29:38.810Z"
   },
   {
    "duration": 5,
    "start_time": "2022-09-11T14:29:38.820Z"
   },
   {
    "duration": 12,
    "start_time": "2022-09-11T14:29:38.826Z"
   },
   {
    "duration": 1878,
    "start_time": "2022-09-11T14:29:38.868Z"
   },
   {
    "duration": 1104,
    "start_time": "2022-09-11T14:29:40.748Z"
   },
   {
    "duration": 262,
    "start_time": "2022-09-11T14:29:41.854Z"
   },
   {
    "duration": 0,
    "start_time": "2022-09-11T14:29:42.117Z"
   },
   {
    "duration": 0,
    "start_time": "2022-09-11T14:29:42.119Z"
   },
   {
    "duration": 121,
    "start_time": "2022-09-11T14:29:58.031Z"
   },
   {
    "duration": 128,
    "start_time": "2022-09-11T14:30:03.103Z"
   },
   {
    "duration": 132,
    "start_time": "2022-09-11T14:30:32.997Z"
   },
   {
    "duration": 46,
    "start_time": "2022-09-11T14:30:38.505Z"
   },
   {
    "duration": 146,
    "start_time": "2022-09-11T14:30:41.858Z"
   },
   {
    "duration": 673,
    "start_time": "2022-09-11T14:33:10.151Z"
   },
   {
    "duration": 131,
    "start_time": "2022-09-11T14:33:38.799Z"
   },
   {
    "duration": 125,
    "start_time": "2022-09-11T14:41:39.857Z"
   },
   {
    "duration": 153,
    "start_time": "2022-09-11T14:58:54.252Z"
   },
   {
    "duration": 201,
    "start_time": "2022-09-11T14:59:15.304Z"
   },
   {
    "duration": 119,
    "start_time": "2022-09-11T14:59:45.532Z"
   },
   {
    "duration": 124,
    "start_time": "2022-09-11T15:02:28.015Z"
   },
   {
    "duration": 151,
    "start_time": "2022-09-11T15:02:37.434Z"
   },
   {
    "duration": 137,
    "start_time": "2022-09-11T15:03:55.257Z"
   },
   {
    "duration": 125,
    "start_time": "2022-09-11T15:06:18.584Z"
   },
   {
    "duration": 1098,
    "start_time": "2022-09-11T15:09:14.781Z"
   },
   {
    "duration": 1064,
    "start_time": "2022-09-11T15:10:02.869Z"
   },
   {
    "duration": 1057,
    "start_time": "2022-09-11T15:59:53.421Z"
   },
   {
    "duration": 1047,
    "start_time": "2022-09-11T16:00:27.049Z"
   },
   {
    "duration": 479,
    "start_time": "2022-09-11T16:01:43.976Z"
   },
   {
    "duration": 23,
    "start_time": "2022-09-11T16:01:44.457Z"
   },
   {
    "duration": 19,
    "start_time": "2022-09-11T16:01:44.482Z"
   },
   {
    "duration": 10,
    "start_time": "2022-09-11T16:01:44.503Z"
   },
   {
    "duration": 53,
    "start_time": "2022-09-11T16:01:44.515Z"
   },
   {
    "duration": 4,
    "start_time": "2022-09-11T16:01:44.569Z"
   },
   {
    "duration": 11,
    "start_time": "2022-09-11T16:01:44.574Z"
   },
   {
    "duration": 11,
    "start_time": "2022-09-11T16:01:44.586Z"
   },
   {
    "duration": 8,
    "start_time": "2022-09-11T16:01:44.599Z"
   },
   {
    "duration": 5,
    "start_time": "2022-09-11T16:01:44.610Z"
   },
   {
    "duration": 53,
    "start_time": "2022-09-11T16:01:44.616Z"
   },
   {
    "duration": 9,
    "start_time": "2022-09-11T16:01:44.671Z"
   },
   {
    "duration": 5,
    "start_time": "2022-09-11T16:01:44.682Z"
   },
   {
    "duration": 20,
    "start_time": "2022-09-11T16:01:44.689Z"
   },
   {
    "duration": 21,
    "start_time": "2022-09-11T16:01:44.711Z"
   },
   {
    "duration": 35,
    "start_time": "2022-09-11T16:01:44.733Z"
   },
   {
    "duration": 3,
    "start_time": "2022-09-11T16:01:44.770Z"
   },
   {
    "duration": 13,
    "start_time": "2022-09-11T16:01:44.774Z"
   },
   {
    "duration": 11,
    "start_time": "2022-09-11T16:01:44.789Z"
   },
   {
    "duration": 3,
    "start_time": "2022-09-11T16:01:44.802Z"
   },
   {
    "duration": 12,
    "start_time": "2022-09-11T16:01:44.807Z"
   },
   {
    "duration": 1783,
    "start_time": "2022-09-11T16:01:44.820Z"
   },
   {
    "duration": 1074,
    "start_time": "2022-09-11T16:01:46.605Z"
   },
   {
    "duration": 144,
    "start_time": "2022-09-11T16:01:47.681Z"
   },
   {
    "duration": 499,
    "start_time": "2022-09-11T16:02:51.867Z"
   },
   {
    "duration": 24,
    "start_time": "2022-09-11T16:02:52.368Z"
   },
   {
    "duration": 16,
    "start_time": "2022-09-11T16:02:52.394Z"
   },
   {
    "duration": 10,
    "start_time": "2022-09-11T16:02:52.412Z"
   },
   {
    "duration": 61,
    "start_time": "2022-09-11T16:02:52.424Z"
   },
   {
    "duration": 4,
    "start_time": "2022-09-11T16:02:52.487Z"
   },
   {
    "duration": 13,
    "start_time": "2022-09-11T16:02:52.492Z"
   },
   {
    "duration": 5,
    "start_time": "2022-09-11T16:02:52.506Z"
   },
   {
    "duration": 9,
    "start_time": "2022-09-11T16:02:52.512Z"
   },
   {
    "duration": 5,
    "start_time": "2022-09-11T16:02:52.523Z"
   },
   {
    "duration": 64,
    "start_time": "2022-09-11T16:02:52.530Z"
   },
   {
    "duration": 9,
    "start_time": "2022-09-11T16:02:52.596Z"
   },
   {
    "duration": 6,
    "start_time": "2022-09-11T16:02:52.607Z"
   },
   {
    "duration": 13,
    "start_time": "2022-09-11T16:02:52.616Z"
   },
   {
    "duration": 46,
    "start_time": "2022-09-11T16:02:52.631Z"
   },
   {
    "duration": 17,
    "start_time": "2022-09-11T16:02:52.679Z"
   },
   {
    "duration": 4,
    "start_time": "2022-09-11T16:02:52.698Z"
   },
   {
    "duration": 12,
    "start_time": "2022-09-11T16:02:52.703Z"
   },
   {
    "duration": 11,
    "start_time": "2022-09-11T16:02:52.716Z"
   },
   {
    "duration": 3,
    "start_time": "2022-09-11T16:02:52.729Z"
   },
   {
    "duration": 34,
    "start_time": "2022-09-11T16:02:52.734Z"
   },
   {
    "duration": 1644,
    "start_time": "2022-09-11T16:02:52.770Z"
   },
   {
    "duration": 973,
    "start_time": "2022-09-11T16:02:54.416Z"
   },
   {
    "duration": 148,
    "start_time": "2022-09-11T16:02:55.391Z"
   },
   {
    "duration": 524,
    "start_time": "2022-09-11T16:05:18.838Z"
   },
   {
    "duration": 34,
    "start_time": "2022-09-11T16:05:19.365Z"
   },
   {
    "duration": 23,
    "start_time": "2022-09-11T16:05:19.401Z"
   },
   {
    "duration": 15,
    "start_time": "2022-09-11T16:05:19.427Z"
   },
   {
    "duration": 60,
    "start_time": "2022-09-11T16:05:19.444Z"
   },
   {
    "duration": 5,
    "start_time": "2022-09-11T16:05:19.506Z"
   },
   {
    "duration": 28,
    "start_time": "2022-09-11T16:05:19.513Z"
   },
   {
    "duration": 11,
    "start_time": "2022-09-11T16:05:19.543Z"
   },
   {
    "duration": 21,
    "start_time": "2022-09-11T16:05:19.556Z"
   },
   {
    "duration": 6,
    "start_time": "2022-09-11T16:05:19.582Z"
   },
   {
    "duration": 34,
    "start_time": "2022-09-11T16:05:19.590Z"
   },
   {
    "duration": 10,
    "start_time": "2022-09-11T16:05:19.626Z"
   },
   {
    "duration": 31,
    "start_time": "2022-09-11T16:05:19.638Z"
   },
   {
    "duration": 21,
    "start_time": "2022-09-11T16:05:19.672Z"
   },
   {
    "duration": 33,
    "start_time": "2022-09-11T16:05:19.696Z"
   },
   {
    "duration": 48,
    "start_time": "2022-09-11T16:05:19.732Z"
   },
   {
    "duration": 5,
    "start_time": "2022-09-11T16:05:19.783Z"
   },
   {
    "duration": 19,
    "start_time": "2022-09-11T16:05:19.790Z"
   },
   {
    "duration": 9,
    "start_time": "2022-09-11T16:05:19.811Z"
   },
   {
    "duration": 4,
    "start_time": "2022-09-11T16:05:19.823Z"
   },
   {
    "duration": 39,
    "start_time": "2022-09-11T16:05:19.829Z"
   },
   {
    "duration": 1814,
    "start_time": "2022-09-11T16:05:19.870Z"
   },
   {
    "duration": 1084,
    "start_time": "2022-09-11T16:05:21.686Z"
   },
   {
    "duration": 153,
    "start_time": "2022-09-11T16:05:22.773Z"
   },
   {
    "duration": 175,
    "start_time": "2022-09-11T16:05:22.927Z"
   },
   {
    "duration": 0,
    "start_time": "2022-09-11T16:05:23.105Z"
   },
   {
    "duration": 40,
    "start_time": "2022-09-11T16:05:53.898Z"
   },
   {
    "duration": 472,
    "start_time": "2022-09-11T16:06:05.383Z"
   },
   {
    "duration": 24,
    "start_time": "2022-09-11T16:06:05.857Z"
   },
   {
    "duration": 15,
    "start_time": "2022-09-11T16:06:05.882Z"
   },
   {
    "duration": 9,
    "start_time": "2022-09-11T16:06:05.899Z"
   },
   {
    "duration": 58,
    "start_time": "2022-09-11T16:06:05.910Z"
   },
   {
    "duration": 5,
    "start_time": "2022-09-11T16:06:05.969Z"
   },
   {
    "duration": 15,
    "start_time": "2022-09-11T16:06:05.976Z"
   },
   {
    "duration": 5,
    "start_time": "2022-09-11T16:06:05.993Z"
   },
   {
    "duration": 9,
    "start_time": "2022-09-11T16:06:06.000Z"
   },
   {
    "duration": 4,
    "start_time": "2022-09-11T16:06:06.013Z"
   },
   {
    "duration": 59,
    "start_time": "2022-09-11T16:06:06.019Z"
   },
   {
    "duration": 9,
    "start_time": "2022-09-11T16:06:06.080Z"
   },
   {
    "duration": 4,
    "start_time": "2022-09-11T16:06:06.091Z"
   },
   {
    "duration": 18,
    "start_time": "2022-09-11T16:06:06.097Z"
   },
   {
    "duration": 22,
    "start_time": "2022-09-11T16:06:06.117Z"
   },
   {
    "duration": 39,
    "start_time": "2022-09-11T16:06:06.141Z"
   },
   {
    "duration": 4,
    "start_time": "2022-09-11T16:06:06.181Z"
   },
   {
    "duration": 16,
    "start_time": "2022-09-11T16:06:06.186Z"
   },
   {
    "duration": 6,
    "start_time": "2022-09-11T16:06:06.204Z"
   },
   {
    "duration": 4,
    "start_time": "2022-09-11T16:06:06.211Z"
   },
   {
    "duration": 11,
    "start_time": "2022-09-11T16:06:06.216Z"
   },
   {
    "duration": 2188,
    "start_time": "2022-09-11T16:06:06.228Z"
   },
   {
    "duration": 1009,
    "start_time": "2022-09-11T16:06:08.418Z"
   },
   {
    "duration": 159,
    "start_time": "2022-09-11T16:06:09.429Z"
   },
   {
    "duration": 143,
    "start_time": "2022-09-11T16:06:09.589Z"
   },
   {
    "duration": 0,
    "start_time": "2022-09-11T16:06:09.734Z"
   },
   {
    "duration": 46,
    "start_time": "2022-09-11T16:06:17.835Z"
   },
   {
    "duration": 42,
    "start_time": "2022-09-11T16:09:09.409Z"
   },
   {
    "duration": 38,
    "start_time": "2022-09-11T16:09:19.432Z"
   },
   {
    "duration": 40,
    "start_time": "2022-09-11T16:10:54.945Z"
   },
   {
    "duration": 466,
    "start_time": "2022-09-11T16:11:34.797Z"
   },
   {
    "duration": 22,
    "start_time": "2022-09-11T16:11:35.266Z"
   },
   {
    "duration": 19,
    "start_time": "2022-09-11T16:11:35.290Z"
   },
   {
    "duration": 10,
    "start_time": "2022-09-11T16:11:35.311Z"
   },
   {
    "duration": 54,
    "start_time": "2022-09-11T16:11:35.323Z"
   },
   {
    "duration": 3,
    "start_time": "2022-09-11T16:11:35.379Z"
   },
   {
    "duration": 12,
    "start_time": "2022-09-11T16:11:35.384Z"
   },
   {
    "duration": 4,
    "start_time": "2022-09-11T16:11:35.398Z"
   },
   {
    "duration": 9,
    "start_time": "2022-09-11T16:11:35.404Z"
   },
   {
    "duration": 7,
    "start_time": "2022-09-11T16:11:35.415Z"
   },
   {
    "duration": 58,
    "start_time": "2022-09-11T16:11:35.423Z"
   },
   {
    "duration": 11,
    "start_time": "2022-09-11T16:11:35.483Z"
   },
   {
    "duration": 12,
    "start_time": "2022-09-11T16:11:35.496Z"
   },
   {
    "duration": 34,
    "start_time": "2022-09-11T16:11:35.510Z"
   },
   {
    "duration": 31,
    "start_time": "2022-09-11T16:11:35.546Z"
   },
   {
    "duration": 18,
    "start_time": "2022-09-11T16:11:35.579Z"
   },
   {
    "duration": 3,
    "start_time": "2022-09-11T16:11:35.599Z"
   },
   {
    "duration": 12,
    "start_time": "2022-09-11T16:11:35.604Z"
   },
   {
    "duration": 9,
    "start_time": "2022-09-11T16:11:35.618Z"
   },
   {
    "duration": 4,
    "start_time": "2022-09-11T16:11:35.628Z"
   },
   {
    "duration": 37,
    "start_time": "2022-09-11T16:11:35.634Z"
   },
   {
    "duration": 1880,
    "start_time": "2022-09-11T16:11:35.673Z"
   },
   {
    "duration": 1148,
    "start_time": "2022-09-11T16:11:37.555Z"
   },
   {
    "duration": 140,
    "start_time": "2022-09-11T16:11:38.705Z"
   },
   {
    "duration": 521,
    "start_time": "2022-09-11T16:12:19.343Z"
   },
   {
    "duration": 23,
    "start_time": "2022-09-11T16:12:19.866Z"
   },
   {
    "duration": 15,
    "start_time": "2022-09-11T16:12:19.890Z"
   },
   {
    "duration": 8,
    "start_time": "2022-09-11T16:12:19.907Z"
   },
   {
    "duration": 53,
    "start_time": "2022-09-11T16:12:19.917Z"
   },
   {
    "duration": 4,
    "start_time": "2022-09-11T16:12:19.971Z"
   },
   {
    "duration": 18,
    "start_time": "2022-09-11T16:12:19.976Z"
   },
   {
    "duration": 9,
    "start_time": "2022-09-11T16:12:19.995Z"
   },
   {
    "duration": 11,
    "start_time": "2022-09-11T16:12:20.005Z"
   },
   {
    "duration": 6,
    "start_time": "2022-09-11T16:12:20.018Z"
   },
   {
    "duration": 50,
    "start_time": "2022-09-11T16:12:20.025Z"
   },
   {
    "duration": 9,
    "start_time": "2022-09-11T16:12:20.077Z"
   },
   {
    "duration": 6,
    "start_time": "2022-09-11T16:12:20.088Z"
   },
   {
    "duration": 15,
    "start_time": "2022-09-11T16:12:20.096Z"
   },
   {
    "duration": 24,
    "start_time": "2022-09-11T16:12:20.112Z"
   },
   {
    "duration": 38,
    "start_time": "2022-09-11T16:12:20.138Z"
   },
   {
    "duration": 4,
    "start_time": "2022-09-11T16:12:20.177Z"
   },
   {
    "duration": 12,
    "start_time": "2022-09-11T16:12:20.182Z"
   },
   {
    "duration": 9,
    "start_time": "2022-09-11T16:12:20.196Z"
   },
   {
    "duration": 11,
    "start_time": "2022-09-11T16:12:20.206Z"
   },
   {
    "duration": 16,
    "start_time": "2022-09-11T16:12:20.220Z"
   },
   {
    "duration": 1919,
    "start_time": "2022-09-11T16:12:20.238Z"
   },
   {
    "duration": 1056,
    "start_time": "2022-09-11T16:12:22.159Z"
   },
   {
    "duration": 156,
    "start_time": "2022-09-11T16:12:23.217Z"
   },
   {
    "duration": 464,
    "start_time": "2022-09-11T16:14:12.526Z"
   },
   {
    "duration": 25,
    "start_time": "2022-09-11T16:14:12.993Z"
   },
   {
    "duration": 17,
    "start_time": "2022-09-11T16:14:13.020Z"
   },
   {
    "duration": 31,
    "start_time": "2022-09-11T16:14:13.039Z"
   },
   {
    "duration": 34,
    "start_time": "2022-09-11T16:14:13.072Z"
   },
   {
    "duration": 3,
    "start_time": "2022-09-11T16:14:13.108Z"
   },
   {
    "duration": 11,
    "start_time": "2022-09-11T16:14:13.113Z"
   },
   {
    "duration": 6,
    "start_time": "2022-09-11T16:14:13.125Z"
   },
   {
    "duration": 7,
    "start_time": "2022-09-11T16:14:13.133Z"
   },
   {
    "duration": 5,
    "start_time": "2022-09-11T16:14:13.169Z"
   },
   {
    "duration": 36,
    "start_time": "2022-09-11T16:14:13.176Z"
   },
   {
    "duration": 9,
    "start_time": "2022-09-11T16:14:13.214Z"
   },
   {
    "duration": 4,
    "start_time": "2022-09-11T16:14:13.224Z"
   },
   {
    "duration": 12,
    "start_time": "2022-09-11T16:14:13.230Z"
   },
   {
    "duration": 43,
    "start_time": "2022-09-11T16:14:13.244Z"
   },
   {
    "duration": 18,
    "start_time": "2022-09-11T16:14:13.289Z"
   },
   {
    "duration": 3,
    "start_time": "2022-09-11T16:14:13.309Z"
   },
   {
    "duration": 16,
    "start_time": "2022-09-11T16:14:13.314Z"
   },
   {
    "duration": 6,
    "start_time": "2022-09-11T16:14:13.331Z"
   },
   {
    "duration": 31,
    "start_time": "2022-09-11T16:14:13.339Z"
   },
   {
    "duration": 15,
    "start_time": "2022-09-11T16:14:13.372Z"
   },
   {
    "duration": 1766,
    "start_time": "2022-09-11T16:14:13.389Z"
   },
   {
    "duration": 1074,
    "start_time": "2022-09-11T16:14:15.157Z"
   },
   {
    "duration": 140,
    "start_time": "2022-09-11T16:14:16.233Z"
   },
   {
    "duration": 486,
    "start_time": "2022-09-11T16:15:28.133Z"
   },
   {
    "duration": 22,
    "start_time": "2022-09-11T16:15:28.621Z"
   },
   {
    "duration": 23,
    "start_time": "2022-09-11T16:15:28.645Z"
   },
   {
    "duration": 9,
    "start_time": "2022-09-11T16:15:28.670Z"
   },
   {
    "duration": 34,
    "start_time": "2022-09-11T16:15:28.681Z"
   },
   {
    "duration": 3,
    "start_time": "2022-09-11T16:15:28.716Z"
   },
   {
    "duration": 10,
    "start_time": "2022-09-11T16:15:28.721Z"
   },
   {
    "duration": 3,
    "start_time": "2022-09-11T16:15:28.733Z"
   },
   {
    "duration": 37,
    "start_time": "2022-09-11T16:15:28.738Z"
   },
   {
    "duration": 4,
    "start_time": "2022-09-11T16:15:28.776Z"
   },
   {
    "duration": 34,
    "start_time": "2022-09-11T16:15:28.782Z"
   },
   {
    "duration": 9,
    "start_time": "2022-09-11T16:15:28.817Z"
   },
   {
    "duration": 3,
    "start_time": "2022-09-11T16:15:28.828Z"
   },
   {
    "duration": 35,
    "start_time": "2022-09-11T16:15:28.834Z"
   },
   {
    "duration": 20,
    "start_time": "2022-09-11T16:15:28.871Z"
   },
   {
    "duration": 17,
    "start_time": "2022-09-11T16:15:28.892Z"
   },
   {
    "duration": 4,
    "start_time": "2022-09-11T16:15:28.910Z"
   },
   {
    "duration": 12,
    "start_time": "2022-09-11T16:15:28.916Z"
   },
   {
    "duration": 6,
    "start_time": "2022-09-11T16:15:28.929Z"
   },
   {
    "duration": 32,
    "start_time": "2022-09-11T16:15:28.937Z"
   },
   {
    "duration": 18,
    "start_time": "2022-09-11T16:15:28.971Z"
   },
   {
    "duration": 1780,
    "start_time": "2022-09-11T16:15:28.991Z"
   },
   {
    "duration": 1065,
    "start_time": "2022-09-11T16:15:30.773Z"
   },
   {
    "duration": 154,
    "start_time": "2022-09-11T16:15:31.840Z"
   },
   {
    "duration": 976,
    "start_time": "2022-09-11T16:15:31.995Z"
   },
   {
    "duration": 2,
    "start_time": "2022-09-11T16:15:32.973Z"
   },
   {
    "duration": 790,
    "start_time": "2022-09-11T16:23:31.792Z"
   },
   {
    "duration": 959,
    "start_time": "2022-09-11T16:24:29.226Z"
   },
   {
    "duration": 637,
    "start_time": "2022-09-11T16:26:26.734Z"
   },
   {
    "duration": 647,
    "start_time": "2022-09-11T16:26:48.446Z"
   },
   {
    "duration": 610,
    "start_time": "2022-09-11T16:27:03.372Z"
   },
   {
    "duration": 635,
    "start_time": "2022-09-11T16:27:11.800Z"
   },
   {
    "duration": 697,
    "start_time": "2022-09-11T16:29:20.119Z"
   },
   {
    "duration": 632,
    "start_time": "2022-09-11T16:29:50.054Z"
   },
   {
    "duration": 984,
    "start_time": "2022-09-11T16:30:26.549Z"
   },
   {
    "duration": 930,
    "start_time": "2022-09-11T16:31:32.855Z"
   },
   {
    "duration": 921,
    "start_time": "2022-09-11T16:35:39.233Z"
   },
   {
    "duration": 710,
    "start_time": "2022-09-11T16:37:13.648Z"
   },
   {
    "duration": 621,
    "start_time": "2022-09-11T16:39:15.095Z"
   },
   {
    "duration": 1043,
    "start_time": "2022-09-11T16:39:31.307Z"
   },
   {
    "duration": 621,
    "start_time": "2022-09-11T16:40:01.074Z"
   },
   {
    "duration": 99,
    "start_time": "2022-09-11T16:40:44.168Z"
   },
   {
    "duration": 608,
    "start_time": "2022-09-11T16:41:11.024Z"
   },
   {
    "duration": 173,
    "start_time": "2022-09-11T16:41:26.185Z"
   },
   {
    "duration": 924,
    "start_time": "2022-09-11T16:41:40.763Z"
   },
   {
    "duration": 479,
    "start_time": "2022-09-11T16:42:10.959Z"
   },
   {
    "duration": 21,
    "start_time": "2022-09-11T16:42:11.440Z"
   },
   {
    "duration": 17,
    "start_time": "2022-09-11T16:42:11.462Z"
   },
   {
    "duration": 13,
    "start_time": "2022-09-11T16:42:11.481Z"
   },
   {
    "duration": 40,
    "start_time": "2022-09-11T16:42:11.497Z"
   },
   {
    "duration": 4,
    "start_time": "2022-09-11T16:42:11.539Z"
   },
   {
    "duration": 11,
    "start_time": "2022-09-11T16:42:11.568Z"
   },
   {
    "duration": 5,
    "start_time": "2022-09-11T16:42:11.581Z"
   },
   {
    "duration": 16,
    "start_time": "2022-09-11T16:42:11.588Z"
   },
   {
    "duration": 4,
    "start_time": "2022-09-11T16:42:11.607Z"
   },
   {
    "duration": 54,
    "start_time": "2022-09-11T16:42:11.613Z"
   },
   {
    "duration": 13,
    "start_time": "2022-09-11T16:42:11.669Z"
   },
   {
    "duration": 7,
    "start_time": "2022-09-11T16:42:11.683Z"
   },
   {
    "duration": 13,
    "start_time": "2022-09-11T16:42:11.692Z"
   },
   {
    "duration": 29,
    "start_time": "2022-09-11T16:42:11.706Z"
   },
   {
    "duration": 33,
    "start_time": "2022-09-11T16:42:11.736Z"
   },
   {
    "duration": 4,
    "start_time": "2022-09-11T16:42:11.771Z"
   },
   {
    "duration": 16,
    "start_time": "2022-09-11T16:42:11.776Z"
   },
   {
    "duration": 10,
    "start_time": "2022-09-11T16:42:11.794Z"
   },
   {
    "duration": 7,
    "start_time": "2022-09-11T16:42:11.806Z"
   },
   {
    "duration": 18,
    "start_time": "2022-09-11T16:42:11.816Z"
   },
   {
    "duration": 1750,
    "start_time": "2022-09-11T16:42:11.835Z"
   },
   {
    "duration": 1082,
    "start_time": "2022-09-11T16:42:13.587Z"
   },
   {
    "duration": 151,
    "start_time": "2022-09-11T16:42:14.671Z"
   },
   {
    "duration": 932,
    "start_time": "2022-09-11T16:42:14.824Z"
   },
   {
    "duration": 10,
    "start_time": "2022-09-11T16:42:15.758Z"
   },
   {
    "duration": 471,
    "start_time": "2022-09-11T16:42:40.651Z"
   },
   {
    "duration": 21,
    "start_time": "2022-09-11T16:42:41.124Z"
   },
   {
    "duration": 21,
    "start_time": "2022-09-11T16:42:41.147Z"
   },
   {
    "duration": 10,
    "start_time": "2022-09-11T16:42:41.170Z"
   },
   {
    "duration": 33,
    "start_time": "2022-09-11T16:42:41.182Z"
   },
   {
    "duration": 3,
    "start_time": "2022-09-11T16:42:41.216Z"
   },
   {
    "duration": 11,
    "start_time": "2022-09-11T16:42:41.221Z"
   },
   {
    "duration": 4,
    "start_time": "2022-09-11T16:42:41.234Z"
   },
   {
    "duration": 34,
    "start_time": "2022-09-11T16:42:41.239Z"
   },
   {
    "duration": 4,
    "start_time": "2022-09-11T16:42:41.275Z"
   },
   {
    "duration": 34,
    "start_time": "2022-09-11T16:42:41.280Z"
   },
   {
    "duration": 10,
    "start_time": "2022-09-11T16:42:41.315Z"
   },
   {
    "duration": 7,
    "start_time": "2022-09-11T16:42:41.326Z"
   },
   {
    "duration": 12,
    "start_time": "2022-09-11T16:42:41.334Z"
   },
   {
    "duration": 19,
    "start_time": "2022-09-11T16:42:41.368Z"
   },
   {
    "duration": 17,
    "start_time": "2022-09-11T16:42:41.389Z"
   },
   {
    "duration": 3,
    "start_time": "2022-09-11T16:42:41.408Z"
   },
   {
    "duration": 12,
    "start_time": "2022-09-11T16:42:41.413Z"
   },
   {
    "duration": 8,
    "start_time": "2022-09-11T16:42:41.427Z"
   },
   {
    "duration": 32,
    "start_time": "2022-09-11T16:42:41.437Z"
   },
   {
    "duration": 12,
    "start_time": "2022-09-11T16:42:41.471Z"
   },
   {
    "duration": 1640,
    "start_time": "2022-09-11T16:42:41.485Z"
   },
   {
    "duration": 989,
    "start_time": "2022-09-11T16:42:43.127Z"
   },
   {
    "duration": 140,
    "start_time": "2022-09-11T16:42:44.118Z"
   },
   {
    "duration": 953,
    "start_time": "2022-09-11T16:42:44.259Z"
   },
   {
    "duration": 2,
    "start_time": "2022-09-11T16:42:45.214Z"
   },
   {
    "duration": 881,
    "start_time": "2022-09-11T16:43:25.155Z"
   },
   {
    "duration": 998,
    "start_time": "2022-09-11T16:43:46.691Z"
   },
   {
    "duration": 55,
    "start_time": "2022-09-11T20:42:19.507Z"
   },
   {
    "duration": 506,
    "start_time": "2022-09-11T20:42:27.043Z"
   },
   {
    "duration": 24,
    "start_time": "2022-09-11T20:42:27.551Z"
   },
   {
    "duration": 17,
    "start_time": "2022-09-11T20:42:27.576Z"
   },
   {
    "duration": 11,
    "start_time": "2022-09-11T20:42:27.595Z"
   },
   {
    "duration": 35,
    "start_time": "2022-09-11T20:42:27.608Z"
   },
   {
    "duration": 3,
    "start_time": "2022-09-11T20:42:27.646Z"
   },
   {
    "duration": 14,
    "start_time": "2022-09-11T20:42:27.651Z"
   },
   {
    "duration": 26,
    "start_time": "2022-09-11T20:42:27.667Z"
   },
   {
    "duration": 8,
    "start_time": "2022-09-11T20:42:27.695Z"
   },
   {
    "duration": 14,
    "start_time": "2022-09-11T20:42:27.706Z"
   },
   {
    "duration": 42,
    "start_time": "2022-09-11T20:42:27.722Z"
   },
   {
    "duration": 11,
    "start_time": "2022-09-11T20:42:27.765Z"
   },
   {
    "duration": 18,
    "start_time": "2022-09-11T20:42:27.777Z"
   },
   {
    "duration": 15,
    "start_time": "2022-09-11T20:42:27.797Z"
   },
   {
    "duration": 24,
    "start_time": "2022-09-11T20:42:27.814Z"
   },
   {
    "duration": 18,
    "start_time": "2022-09-11T20:42:27.840Z"
   },
   {
    "duration": 4,
    "start_time": "2022-09-11T20:42:27.860Z"
   },
   {
    "duration": 31,
    "start_time": "2022-09-11T20:42:27.866Z"
   },
   {
    "duration": 11,
    "start_time": "2022-09-11T20:42:27.898Z"
   },
   {
    "duration": 4,
    "start_time": "2022-09-11T20:42:27.911Z"
   },
   {
    "duration": 14,
    "start_time": "2022-09-11T20:42:27.916Z"
   },
   {
    "duration": 1967,
    "start_time": "2022-09-11T20:42:27.932Z"
   },
   {
    "duration": 1031,
    "start_time": "2022-09-11T20:42:29.901Z"
   },
   {
    "duration": 144,
    "start_time": "2022-09-11T20:42:30.933Z"
   },
   {
    "duration": 1028,
    "start_time": "2022-09-11T20:42:31.079Z"
   },
   {
    "duration": 532,
    "start_time": "2022-09-11T20:45:59.365Z"
   },
   {
    "duration": 31,
    "start_time": "2022-09-11T20:45:59.899Z"
   },
   {
    "duration": 20,
    "start_time": "2022-09-11T20:45:59.932Z"
   },
   {
    "duration": 11,
    "start_time": "2022-09-11T20:45:59.955Z"
   },
   {
    "duration": 55,
    "start_time": "2022-09-11T20:45:59.969Z"
   },
   {
    "duration": 4,
    "start_time": "2022-09-11T20:46:00.026Z"
   },
   {
    "duration": 17,
    "start_time": "2022-09-11T20:46:00.032Z"
   },
   {
    "duration": 6,
    "start_time": "2022-09-11T20:46:00.051Z"
   },
   {
    "duration": 10,
    "start_time": "2022-09-11T20:46:00.059Z"
   },
   {
    "duration": 5,
    "start_time": "2022-09-11T20:46:00.093Z"
   },
   {
    "duration": 53,
    "start_time": "2022-09-11T20:46:00.099Z"
   },
   {
    "duration": 13,
    "start_time": "2022-09-11T20:46:00.154Z"
   },
   {
    "duration": 39,
    "start_time": "2022-09-11T20:46:00.169Z"
   },
   {
    "duration": 36,
    "start_time": "2022-09-11T20:46:00.210Z"
   },
   {
    "duration": 39,
    "start_time": "2022-09-11T20:46:00.248Z"
   },
   {
    "duration": 19,
    "start_time": "2022-09-11T20:46:00.289Z"
   },
   {
    "duration": 4,
    "start_time": "2022-09-11T20:46:00.310Z"
   },
   {
    "duration": 24,
    "start_time": "2022-09-11T20:46:00.315Z"
   },
   {
    "duration": 31,
    "start_time": "2022-09-11T20:46:00.341Z"
   },
   {
    "duration": 12,
    "start_time": "2022-09-11T20:46:00.374Z"
   },
   {
    "duration": 29,
    "start_time": "2022-09-11T20:46:00.387Z"
   },
   {
    "duration": 1912,
    "start_time": "2022-09-11T20:46:00.418Z"
   },
   {
    "duration": 1053,
    "start_time": "2022-09-11T20:46:02.332Z"
   },
   {
    "duration": 153,
    "start_time": "2022-09-11T20:46:03.392Z"
   },
   {
    "duration": 946,
    "start_time": "2022-09-11T20:46:03.547Z"
   },
   {
    "duration": 724,
    "start_time": "2022-09-11T20:46:04.495Z"
   },
   {
    "duration": 18,
    "start_time": "2022-09-11T20:46:30.056Z"
   },
   {
    "duration": 16,
    "start_time": "2022-09-11T20:47:11.643Z"
   },
   {
    "duration": 603,
    "start_time": "2022-09-11T20:48:22.436Z"
   },
   {
    "duration": 593,
    "start_time": "2022-09-11T20:50:15.528Z"
   },
   {
    "duration": 485,
    "start_time": "2022-09-11T20:50:22.704Z"
   },
   {
    "duration": 23,
    "start_time": "2022-09-11T20:50:23.191Z"
   },
   {
    "duration": 15,
    "start_time": "2022-09-11T20:50:23.216Z"
   },
   {
    "duration": 17,
    "start_time": "2022-09-11T20:50:23.234Z"
   },
   {
    "duration": 53,
    "start_time": "2022-09-11T20:50:23.253Z"
   },
   {
    "duration": 4,
    "start_time": "2022-09-11T20:50:23.308Z"
   },
   {
    "duration": 25,
    "start_time": "2022-09-11T20:50:23.314Z"
   },
   {
    "duration": 17,
    "start_time": "2022-09-11T20:50:23.341Z"
   },
   {
    "duration": 20,
    "start_time": "2022-09-11T20:50:23.360Z"
   },
   {
    "duration": 15,
    "start_time": "2022-09-11T20:50:23.383Z"
   },
   {
    "duration": 58,
    "start_time": "2022-09-11T20:50:23.399Z"
   },
   {
    "duration": 10,
    "start_time": "2022-09-11T20:50:23.459Z"
   },
   {
    "duration": 7,
    "start_time": "2022-09-11T20:50:23.470Z"
   },
   {
    "duration": 38,
    "start_time": "2022-09-11T20:50:23.478Z"
   },
   {
    "duration": 32,
    "start_time": "2022-09-11T20:50:23.518Z"
   },
   {
    "duration": 18,
    "start_time": "2022-09-11T20:50:23.551Z"
   },
   {
    "duration": 4,
    "start_time": "2022-09-11T20:50:23.571Z"
   },
   {
    "duration": 26,
    "start_time": "2022-09-11T20:50:23.576Z"
   },
   {
    "duration": 34,
    "start_time": "2022-09-11T20:50:23.604Z"
   },
   {
    "duration": 9,
    "start_time": "2022-09-11T20:50:23.640Z"
   },
   {
    "duration": 33,
    "start_time": "2022-09-11T20:50:23.651Z"
   },
   {
    "duration": 1741,
    "start_time": "2022-09-11T20:50:23.685Z"
   },
   {
    "duration": 1055,
    "start_time": "2022-09-11T20:50:25.428Z"
   },
   {
    "duration": 153,
    "start_time": "2022-09-11T20:50:26.484Z"
   },
   {
    "duration": 949,
    "start_time": "2022-09-11T20:50:26.639Z"
   },
   {
    "duration": 697,
    "start_time": "2022-09-11T20:50:27.592Z"
   },
   {
    "duration": 803,
    "start_time": "2022-09-11T20:53:40.417Z"
   },
   {
    "duration": 824,
    "start_time": "2022-09-11T20:55:18.786Z"
   },
   {
    "duration": 118,
    "start_time": "2022-09-11T20:55:27.726Z"
   },
   {
    "duration": 823,
    "start_time": "2022-09-11T20:56:40.537Z"
   },
   {
    "duration": 1244,
    "start_time": "2022-09-11T21:05:45.630Z"
   },
   {
    "duration": 1231,
    "start_time": "2022-09-11T21:06:11.728Z"
   },
   {
    "duration": 921,
    "start_time": "2022-09-11T21:06:33.960Z"
   },
   {
    "duration": 1230,
    "start_time": "2022-09-11T21:07:52.217Z"
   },
   {
    "duration": 7,
    "start_time": "2022-09-11T21:15:50.439Z"
   },
   {
    "duration": 6,
    "start_time": "2022-09-11T21:15:58.074Z"
   },
   {
    "duration": 8,
    "start_time": "2022-09-11T21:16:12.697Z"
   },
   {
    "duration": 8,
    "start_time": "2022-09-11T21:27:20.219Z"
   },
   {
    "duration": 10,
    "start_time": "2022-09-11T21:34:12.796Z"
   },
   {
    "duration": 51,
    "start_time": "2022-09-13T07:57:55.166Z"
   },
   {
    "duration": 953,
    "start_time": "2022-09-13T07:58:19.940Z"
   },
   {
    "duration": 21,
    "start_time": "2022-09-13T07:58:20.894Z"
   },
   {
    "duration": 13,
    "start_time": "2022-09-13T07:58:20.917Z"
   },
   {
    "duration": 8,
    "start_time": "2022-09-13T07:58:20.931Z"
   },
   {
    "duration": 30,
    "start_time": "2022-09-13T07:58:20.941Z"
   },
   {
    "duration": 3,
    "start_time": "2022-09-13T07:58:20.972Z"
   },
   {
    "duration": 9,
    "start_time": "2022-09-13T07:58:20.977Z"
   },
   {
    "duration": 24,
    "start_time": "2022-09-13T07:58:20.987Z"
   },
   {
    "duration": 7,
    "start_time": "2022-09-13T07:58:21.013Z"
   },
   {
    "duration": 3,
    "start_time": "2022-09-13T07:58:21.022Z"
   },
   {
    "duration": 29,
    "start_time": "2022-09-13T07:58:21.027Z"
   },
   {
    "duration": 8,
    "start_time": "2022-09-13T07:58:21.058Z"
   },
   {
    "duration": 6,
    "start_time": "2022-09-13T07:58:21.068Z"
   },
   {
    "duration": 35,
    "start_time": "2022-09-13T07:58:21.076Z"
   },
   {
    "duration": 18,
    "start_time": "2022-09-13T07:58:21.113Z"
   },
   {
    "duration": 15,
    "start_time": "2022-09-13T07:58:21.132Z"
   },
   {
    "duration": 3,
    "start_time": "2022-09-13T07:58:21.149Z"
   },
   {
    "duration": 13,
    "start_time": "2022-09-13T07:58:21.153Z"
   },
   {
    "duration": 8,
    "start_time": "2022-09-13T07:58:21.167Z"
   },
   {
    "duration": 3,
    "start_time": "2022-09-13T07:58:21.176Z"
   },
   {
    "duration": 36,
    "start_time": "2022-09-13T07:58:21.181Z"
   },
   {
    "duration": 43,
    "start_time": "2022-09-13T07:58:21.219Z"
   },
   {
    "duration": 20,
    "start_time": "2022-09-13T07:58:23.854Z"
   },
   {
    "duration": 30,
    "start_time": "2022-09-13T07:58:32.449Z"
   },
   {
    "duration": 19,
    "start_time": "2022-09-13T08:23:47.259Z"
   },
   {
    "duration": 27,
    "start_time": "2022-09-13T08:24:45.782Z"
   },
   {
    "duration": 19,
    "start_time": "2022-09-13T08:25:43.429Z"
   },
   {
    "duration": 28,
    "start_time": "2022-09-13T08:25:54.066Z"
   },
   {
    "duration": 20,
    "start_time": "2022-09-13T08:26:19.588Z"
   },
   {
    "duration": 25,
    "start_time": "2022-09-13T08:26:58.058Z"
   },
   {
    "duration": 39,
    "start_time": "2022-09-13T08:39:32.169Z"
   },
   {
    "duration": 1786,
    "start_time": "2022-09-13T08:40:08.200Z"
   },
   {
    "duration": 947,
    "start_time": "2022-09-13T08:40:44.597Z"
   },
   {
    "duration": 936,
    "start_time": "2022-09-13T08:41:14.965Z"
   },
   {
    "duration": 957,
    "start_time": "2022-09-13T08:41:36.265Z"
   },
   {
    "duration": 955,
    "start_time": "2022-09-13T08:43:23.158Z"
   },
   {
    "duration": 937,
    "start_time": "2022-09-13T08:49:52.903Z"
   },
   {
    "duration": 57,
    "start_time": "2022-09-13T08:50:07.347Z"
   },
   {
    "duration": 26,
    "start_time": "2022-09-13T08:52:14.231Z"
   },
   {
    "duration": 49,
    "start_time": "2022-09-13T08:52:19.512Z"
   },
   {
    "duration": 32,
    "start_time": "2022-09-13T08:52:26.865Z"
   },
   {
    "duration": 29,
    "start_time": "2022-09-13T08:53:59.478Z"
   },
   {
    "duration": 36,
    "start_time": "2022-09-13T08:54:14.350Z"
   },
   {
    "duration": 31,
    "start_time": "2022-09-13T08:54:28.523Z"
   },
   {
    "duration": 965,
    "start_time": "2022-09-13T08:58:49.237Z"
   },
   {
    "duration": 29,
    "start_time": "2022-09-13T09:00:00.356Z"
   },
   {
    "duration": 1112,
    "start_time": "2022-09-13T09:00:24.751Z"
   },
   {
    "duration": 17,
    "start_time": "2022-09-13T09:01:21.340Z"
   },
   {
    "duration": 34,
    "start_time": "2022-09-13T09:01:30.047Z"
   },
   {
    "duration": 1014,
    "start_time": "2022-09-13T09:01:38.271Z"
   },
   {
    "duration": 1019,
    "start_time": "2022-09-13T09:03:26.078Z"
   },
   {
    "duration": 956,
    "start_time": "2022-09-13T09:04:25.523Z"
   },
   {
    "duration": 953,
    "start_time": "2022-09-13T09:05:39.326Z"
   },
   {
    "duration": 929,
    "start_time": "2022-09-13T09:06:17.055Z"
   },
   {
    "duration": 17,
    "start_time": "2022-09-13T09:07:09.870Z"
   },
   {
    "duration": 1038,
    "start_time": "2022-09-13T09:07:14.535Z"
   },
   {
    "duration": 930,
    "start_time": "2022-09-13T09:07:59.173Z"
   },
   {
    "duration": 953,
    "start_time": "2022-09-13T09:08:06.143Z"
   },
   {
    "duration": 942,
    "start_time": "2022-09-13T09:08:53.422Z"
   },
   {
    "duration": 951,
    "start_time": "2022-09-13T09:09:14.110Z"
   },
   {
    "duration": 439,
    "start_time": "2022-09-13T09:09:55.107Z"
   },
   {
    "duration": 171,
    "start_time": "2022-09-13T09:10:07.762Z"
   },
   {
    "duration": 161,
    "start_time": "2022-09-13T09:10:46.529Z"
   },
   {
    "duration": 162,
    "start_time": "2022-09-13T09:10:54.195Z"
   },
   {
    "duration": 901,
    "start_time": "2022-09-13T09:11:07.130Z"
   },
   {
    "duration": 231,
    "start_time": "2022-09-13T09:11:18.494Z"
   },
   {
    "duration": 883,
    "start_time": "2022-09-13T09:11:34.139Z"
   },
   {
    "duration": 1167,
    "start_time": "2022-09-13T09:11:41.082Z"
   },
   {
    "duration": 987,
    "start_time": "2022-09-13T09:13:09.968Z"
   },
   {
    "duration": 978,
    "start_time": "2022-09-13T09:13:13.651Z"
   },
   {
    "duration": 90,
    "start_time": "2022-09-13T09:13:30.307Z"
   },
   {
    "duration": 972,
    "start_time": "2022-09-13T09:13:34.457Z"
   },
   {
    "duration": 934,
    "start_time": "2022-09-13T09:13:46.196Z"
   },
   {
    "duration": 1577,
    "start_time": "2022-09-13T09:14:02.071Z"
   },
   {
    "duration": 1691,
    "start_time": "2022-09-13T09:14:14.073Z"
   },
   {
    "duration": 142,
    "start_time": "2022-09-13T09:14:24.107Z"
   },
   {
    "duration": 1081,
    "start_time": "2022-09-13T09:14:42.072Z"
   },
   {
    "duration": 898,
    "start_time": "2022-09-13T09:14:45.887Z"
   },
   {
    "duration": 926,
    "start_time": "2022-09-13T09:14:55.731Z"
   },
   {
    "duration": 944,
    "start_time": "2022-09-13T09:15:23.741Z"
   },
   {
    "duration": 1901,
    "start_time": "2022-09-13T09:15:42.122Z"
   },
   {
    "duration": 2140,
    "start_time": "2022-09-13T09:16:02.122Z"
   },
   {
    "duration": 686,
    "start_time": "2022-09-13T09:16:11.656Z"
   },
   {
    "duration": 656,
    "start_time": "2022-09-13T09:19:41.486Z"
   },
   {
    "duration": 605,
    "start_time": "2022-09-13T09:19:49.480Z"
   },
   {
    "duration": 608,
    "start_time": "2022-09-13T09:20:05.652Z"
   },
   {
    "duration": 610,
    "start_time": "2022-09-13T09:20:49.410Z"
   },
   {
    "duration": 626,
    "start_time": "2022-09-13T09:20:59.484Z"
   },
   {
    "duration": 1400,
    "start_time": "2022-09-13T09:21:06.689Z"
   },
   {
    "duration": 1410,
    "start_time": "2022-09-13T09:22:46.819Z"
   },
   {
    "duration": 751,
    "start_time": "2022-09-13T09:23:11.128Z"
   },
   {
    "duration": 674,
    "start_time": "2022-09-13T09:23:32.452Z"
   },
   {
    "duration": 613,
    "start_time": "2022-09-13T09:23:56.674Z"
   },
   {
    "duration": 617,
    "start_time": "2022-09-13T09:26:13.935Z"
   },
   {
    "duration": 610,
    "start_time": "2022-09-13T09:26:26.375Z"
   },
   {
    "duration": 601,
    "start_time": "2022-09-13T09:26:37.745Z"
   },
   {
    "duration": 590,
    "start_time": "2022-09-13T09:27:26.257Z"
   },
   {
    "duration": 610,
    "start_time": "2022-09-13T09:28:16.825Z"
   },
   {
    "duration": 695,
    "start_time": "2022-09-13T09:28:52.212Z"
   },
   {
    "duration": 590,
    "start_time": "2022-09-13T09:30:05.688Z"
   },
   {
    "duration": 634,
    "start_time": "2022-09-13T09:30:19.255Z"
   },
   {
    "duration": 643,
    "start_time": "2022-09-13T09:46:34.956Z"
   },
   {
    "duration": 706,
    "start_time": "2022-09-13T09:46:52.873Z"
   },
   {
    "duration": 752,
    "start_time": "2022-09-13T09:47:52.105Z"
   },
   {
    "duration": 15,
    "start_time": "2022-09-13T09:48:51.276Z"
   },
   {
    "duration": 17,
    "start_time": "2022-09-13T09:49:08.149Z"
   },
   {
    "duration": 710,
    "start_time": "2022-09-13T09:49:21.100Z"
   },
   {
    "duration": 831,
    "start_time": "2022-09-13T09:49:32.352Z"
   },
   {
    "duration": 121,
    "start_time": "2022-09-13T09:51:21.976Z"
   },
   {
    "duration": 29,
    "start_time": "2022-09-13T09:53:36.690Z"
   },
   {
    "duration": 127,
    "start_time": "2022-09-13T09:53:51.925Z"
   },
   {
    "duration": 24,
    "start_time": "2022-09-13T09:56:38.894Z"
   },
   {
    "duration": 135,
    "start_time": "2022-09-13T09:57:20.860Z"
   },
   {
    "duration": 133,
    "start_time": "2022-09-13T09:58:28.176Z"
   },
   {
    "duration": 127,
    "start_time": "2022-09-13T09:58:53.448Z"
   },
   {
    "duration": 129,
    "start_time": "2022-09-13T09:59:05.447Z"
   },
   {
    "duration": 121,
    "start_time": "2022-09-13T10:00:03.341Z"
   },
   {
    "duration": 118,
    "start_time": "2022-09-13T10:07:04.252Z"
   },
   {
    "duration": 10,
    "start_time": "2022-09-13T10:08:07.408Z"
   },
   {
    "duration": 122,
    "start_time": "2022-09-13T10:08:10.780Z"
   },
   {
    "duration": 109,
    "start_time": "2022-09-13T10:08:49.479Z"
   },
   {
    "duration": 116,
    "start_time": "2022-09-13T10:08:53.580Z"
   },
   {
    "duration": 116,
    "start_time": "2022-09-13T10:21:31.334Z"
   },
   {
    "duration": 113,
    "start_time": "2022-09-13T10:23:56.716Z"
   },
   {
    "duration": 117,
    "start_time": "2022-09-13T10:26:05.892Z"
   },
   {
    "duration": 118,
    "start_time": "2022-09-13T10:26:19.884Z"
   },
   {
    "duration": 117,
    "start_time": "2022-09-13T10:26:28.905Z"
   },
   {
    "duration": 1119,
    "start_time": "2022-09-13T10:27:40.083Z"
   },
   {
    "duration": 1013,
    "start_time": "2022-09-13T10:28:52.001Z"
   },
   {
    "duration": 960,
    "start_time": "2022-09-13T10:29:03.601Z"
   },
   {
    "duration": 947,
    "start_time": "2022-09-13T10:29:17.090Z"
   },
   {
    "duration": 949,
    "start_time": "2022-09-13T10:29:24.962Z"
   },
   {
    "duration": 964,
    "start_time": "2022-09-13T10:31:48.336Z"
   },
   {
    "duration": 990,
    "start_time": "2022-09-13T10:32:32.574Z"
   },
   {
    "duration": 1046,
    "start_time": "2022-09-13T10:33:09.194Z"
   },
   {
    "duration": 961,
    "start_time": "2022-09-13T10:33:36.636Z"
   },
   {
    "duration": 991,
    "start_time": "2022-09-13T10:33:54.555Z"
   },
   {
    "duration": 144,
    "start_time": "2022-09-13T10:35:07.380Z"
   },
   {
    "duration": 137,
    "start_time": "2022-09-13T10:38:33.413Z"
   },
   {
    "duration": 49,
    "start_time": "2022-09-13T10:39:19.367Z"
   },
   {
    "duration": 39,
    "start_time": "2022-09-13T10:54:08.787Z"
   },
   {
    "duration": 66,
    "start_time": "2022-09-13T10:54:52.613Z"
   },
   {
    "duration": 47,
    "start_time": "2022-09-13T10:56:28.815Z"
   },
   {
    "duration": 50,
    "start_time": "2022-09-13T10:56:37.350Z"
   },
   {
    "duration": 350,
    "start_time": "2022-09-13T11:02:35.606Z"
   },
   {
    "duration": 367,
    "start_time": "2022-09-13T11:02:59.685Z"
   },
   {
    "duration": 429,
    "start_time": "2022-09-13T11:06:30.788Z"
   },
   {
    "duration": 413,
    "start_time": "2022-09-13T11:07:46.823Z"
   },
   {
    "duration": 396,
    "start_time": "2022-09-13T11:08:19.044Z"
   },
   {
    "duration": 360,
    "start_time": "2022-09-13T11:08:28.208Z"
   },
   {
    "duration": 363,
    "start_time": "2022-09-13T11:10:33.933Z"
   },
   {
    "duration": 361,
    "start_time": "2022-09-13T11:11:55.367Z"
   },
   {
    "duration": 123,
    "start_time": "2022-09-13T11:23:57.185Z"
   },
   {
    "duration": 706,
    "start_time": "2022-09-13T11:24:09.260Z"
   },
   {
    "duration": 667,
    "start_time": "2022-09-13T11:24:35.844Z"
   },
   {
    "duration": 243,
    "start_time": "2022-09-13T11:24:52.747Z"
   },
   {
    "duration": 457,
    "start_time": "2022-09-13T11:43:04.912Z"
   },
   {
    "duration": 29,
    "start_time": "2022-09-13T11:43:05.370Z"
   },
   {
    "duration": 16,
    "start_time": "2022-09-13T11:43:05.400Z"
   },
   {
    "duration": 21,
    "start_time": "2022-09-13T11:43:05.419Z"
   },
   {
    "duration": 32,
    "start_time": "2022-09-13T11:43:05.442Z"
   },
   {
    "duration": 4,
    "start_time": "2022-09-13T11:43:05.476Z"
   },
   {
    "duration": 14,
    "start_time": "2022-09-13T11:43:05.482Z"
   },
   {
    "duration": 4,
    "start_time": "2022-09-13T11:43:05.498Z"
   },
   {
    "duration": 12,
    "start_time": "2022-09-13T11:43:05.504Z"
   },
   {
    "duration": 3,
    "start_time": "2022-09-13T11:43:05.521Z"
   },
   {
    "duration": 36,
    "start_time": "2022-09-13T11:43:05.525Z"
   },
   {
    "duration": 8,
    "start_time": "2022-09-13T11:43:05.563Z"
   },
   {
    "duration": 11,
    "start_time": "2022-09-13T11:43:05.572Z"
   },
   {
    "duration": 24,
    "start_time": "2022-09-13T11:43:05.585Z"
   },
   {
    "duration": 18,
    "start_time": "2022-09-13T11:43:05.610Z"
   },
   {
    "duration": 16,
    "start_time": "2022-09-13T11:43:05.629Z"
   },
   {
    "duration": 3,
    "start_time": "2022-09-13T11:43:05.646Z"
   },
   {
    "duration": 16,
    "start_time": "2022-09-13T11:43:05.651Z"
   },
   {
    "duration": 5,
    "start_time": "2022-09-13T11:43:05.668Z"
   },
   {
    "duration": 3,
    "start_time": "2022-09-13T11:43:05.675Z"
   },
   {
    "duration": 30,
    "start_time": "2022-09-13T11:43:05.680Z"
   },
   {
    "duration": 848,
    "start_time": "2022-09-13T11:43:05.711Z"
   },
   {
    "duration": 138,
    "start_time": "2022-09-13T11:43:06.561Z"
   },
   {
    "duration": 375,
    "start_time": "2022-09-13T11:43:06.708Z"
   },
   {
    "duration": 884,
    "start_time": "2022-09-13T11:43:07.084Z"
   },
   {
    "duration": 123,
    "start_time": "2022-09-13T11:43:07.969Z"
   },
   {
    "duration": 16,
    "start_time": "2022-09-13T11:43:08.094Z"
   },
   {
    "duration": 412,
    "start_time": "2022-09-13T11:49:16.558Z"
   },
   {
    "duration": 20,
    "start_time": "2022-09-13T11:49:16.972Z"
   },
   {
    "duration": 14,
    "start_time": "2022-09-13T11:49:16.993Z"
   },
   {
    "duration": 10,
    "start_time": "2022-09-13T11:49:17.009Z"
   },
   {
    "duration": 30,
    "start_time": "2022-09-13T11:49:17.021Z"
   },
   {
    "duration": 3,
    "start_time": "2022-09-13T11:49:17.052Z"
   },
   {
    "duration": 16,
    "start_time": "2022-09-13T11:49:17.056Z"
   },
   {
    "duration": 4,
    "start_time": "2022-09-13T11:49:17.073Z"
   },
   {
    "duration": 9,
    "start_time": "2022-09-13T11:49:17.078Z"
   },
   {
    "duration": 5,
    "start_time": "2022-09-13T11:49:17.109Z"
   },
   {
    "duration": 30,
    "start_time": "2022-09-13T11:49:17.115Z"
   },
   {
    "duration": 9,
    "start_time": "2022-09-13T11:49:17.146Z"
   },
   {
    "duration": 4,
    "start_time": "2022-09-13T11:49:17.156Z"
   },
   {
    "duration": 11,
    "start_time": "2022-09-13T11:49:17.163Z"
   },
   {
    "duration": 49,
    "start_time": "2022-09-13T11:49:17.175Z"
   },
   {
    "duration": 17,
    "start_time": "2022-09-13T11:49:17.225Z"
   },
   {
    "duration": 2,
    "start_time": "2022-09-13T11:49:17.244Z"
   },
   {
    "duration": 11,
    "start_time": "2022-09-13T11:49:17.248Z"
   },
   {
    "duration": 9,
    "start_time": "2022-09-13T11:49:17.260Z"
   },
   {
    "duration": 5,
    "start_time": "2022-09-13T11:49:17.271Z"
   },
   {
    "duration": 41,
    "start_time": "2022-09-13T11:49:17.278Z"
   },
   {
    "duration": 889,
    "start_time": "2022-09-13T11:49:17.321Z"
   },
   {
    "duration": 140,
    "start_time": "2022-09-13T11:49:18.212Z"
   },
   {
    "duration": 361,
    "start_time": "2022-09-13T11:49:18.354Z"
   },
   {
    "duration": 121,
    "start_time": "2022-09-13T11:49:18.716Z"
   },
   {
    "duration": 139,
    "start_time": "2022-09-13T11:49:18.839Z"
   },
   {
    "duration": 7,
    "start_time": "2022-09-13T11:49:18.979Z"
   },
   {
    "duration": 140,
    "start_time": "2022-09-13T11:49:36.750Z"
   },
   {
    "duration": 122,
    "start_time": "2022-09-13T11:49:48.145Z"
   },
   {
    "duration": 119,
    "start_time": "2022-09-13T11:49:55.745Z"
   },
   {
    "duration": 138,
    "start_time": "2022-09-13T12:10:44.776Z"
   },
   {
    "duration": 129,
    "start_time": "2022-09-13T12:10:55.504Z"
   },
   {
    "duration": 42,
    "start_time": "2022-09-13T12:11:26.344Z"
   },
   {
    "duration": 181,
    "start_time": "2022-09-13T12:12:44.946Z"
   },
   {
    "duration": 31,
    "start_time": "2022-09-13T12:35:35.278Z"
   },
   {
    "duration": 29,
    "start_time": "2022-09-13T12:35:51.263Z"
   },
   {
    "duration": 28,
    "start_time": "2022-09-13T12:36:37.501Z"
   },
   {
    "duration": 24,
    "start_time": "2022-09-13T12:36:58.056Z"
   },
   {
    "duration": 31,
    "start_time": "2022-09-13T12:37:47.503Z"
   },
   {
    "duration": 28,
    "start_time": "2022-09-13T12:38:56.064Z"
   },
   {
    "duration": 31,
    "start_time": "2022-09-13T12:39:59.285Z"
   },
   {
    "duration": 503,
    "start_time": "2022-09-13T12:40:22.301Z"
   },
   {
    "duration": 21,
    "start_time": "2022-09-13T12:40:22.806Z"
   },
   {
    "duration": 17,
    "start_time": "2022-09-13T12:40:22.828Z"
   },
   {
    "duration": 8,
    "start_time": "2022-09-13T12:40:22.847Z"
   },
   {
    "duration": 31,
    "start_time": "2022-09-13T12:40:22.856Z"
   },
   {
    "duration": 3,
    "start_time": "2022-09-13T12:40:22.888Z"
   },
   {
    "duration": 6,
    "start_time": "2022-09-13T12:40:22.909Z"
   },
   {
    "duration": 3,
    "start_time": "2022-09-13T12:40:22.917Z"
   },
   {
    "duration": 9,
    "start_time": "2022-09-13T12:40:22.922Z"
   },
   {
    "duration": 3,
    "start_time": "2022-09-13T12:40:22.934Z"
   },
   {
    "duration": 29,
    "start_time": "2022-09-13T12:40:22.939Z"
   },
   {
    "duration": 9,
    "start_time": "2022-09-13T12:40:22.969Z"
   },
   {
    "duration": 31,
    "start_time": "2022-09-13T12:40:22.979Z"
   },
   {
    "duration": 12,
    "start_time": "2022-09-13T12:40:23.011Z"
   },
   {
    "duration": 20,
    "start_time": "2022-09-13T12:40:23.024Z"
   },
   {
    "duration": 14,
    "start_time": "2022-09-13T12:40:23.046Z"
   },
   {
    "duration": 3,
    "start_time": "2022-09-13T12:40:23.061Z"
   },
   {
    "duration": 12,
    "start_time": "2022-09-13T12:40:23.066Z"
   },
   {
    "duration": 5,
    "start_time": "2022-09-13T12:40:23.079Z"
   },
   {
    "duration": 24,
    "start_time": "2022-09-13T12:40:23.085Z"
   },
   {
    "duration": 9,
    "start_time": "2022-09-13T12:40:23.111Z"
   },
   {
    "duration": 902,
    "start_time": "2022-09-13T12:40:23.122Z"
   },
   {
    "duration": 157,
    "start_time": "2022-09-13T12:40:24.026Z"
   },
   {
    "duration": 383,
    "start_time": "2022-09-13T12:40:24.185Z"
   },
   {
    "duration": 130,
    "start_time": "2022-09-13T12:40:24.570Z"
   },
   {
    "duration": 0,
    "start_time": "2022-09-13T12:40:24.701Z"
   },
   {
    "duration": 0,
    "start_time": "2022-09-13T12:40:24.709Z"
   },
   {
    "duration": 21,
    "start_time": "2022-09-13T12:40:57.560Z"
   },
   {
    "duration": 21,
    "start_time": "2022-09-13T12:41:21.198Z"
   },
   {
    "duration": 131,
    "start_time": "2022-09-13T12:41:32.248Z"
   },
   {
    "duration": 697,
    "start_time": "2022-09-13T12:42:27.468Z"
   },
   {
    "duration": 817,
    "start_time": "2022-09-13T12:42:53.614Z"
   },
   {
    "duration": 727,
    "start_time": "2022-09-13T12:44:24.510Z"
   },
   {
    "duration": 768,
    "start_time": "2022-09-13T12:44:32.140Z"
   },
   {
    "duration": 708,
    "start_time": "2022-09-13T12:45:47.215Z"
   },
   {
    "duration": 20,
    "start_time": "2022-09-13T12:48:48.182Z"
   },
   {
    "duration": 1346,
    "start_time": "2022-09-13T12:48:58.975Z"
   },
   {
    "duration": 787,
    "start_time": "2022-09-13T12:49:07.768Z"
   },
   {
    "duration": 24,
    "start_time": "2022-09-13T12:49:49.497Z"
   },
   {
    "duration": 731,
    "start_time": "2022-09-13T12:50:04.348Z"
   },
   {
    "duration": 756,
    "start_time": "2022-09-13T12:50:32.145Z"
   },
   {
    "duration": 45,
    "start_time": "2022-09-13T12:51:41.844Z"
   },
   {
    "duration": 40,
    "start_time": "2022-09-13T12:51:54.548Z"
   },
   {
    "duration": 45,
    "start_time": "2022-09-13T12:52:16.658Z"
   },
   {
    "duration": 787,
    "start_time": "2022-09-13T12:53:03.562Z"
   },
   {
    "duration": 798,
    "start_time": "2022-09-13T12:53:51.061Z"
   },
   {
    "duration": 740,
    "start_time": "2022-09-13T12:54:23.852Z"
   },
   {
    "duration": 739,
    "start_time": "2022-09-13T12:54:55.372Z"
   },
   {
    "duration": 724,
    "start_time": "2022-09-13T12:55:21.046Z"
   },
   {
    "duration": 825,
    "start_time": "2022-09-13T12:55:49.240Z"
   },
   {
    "duration": 820,
    "start_time": "2022-09-13T12:56:12.453Z"
   },
   {
    "duration": 772,
    "start_time": "2022-09-13T12:58:28.142Z"
   },
   {
    "duration": 742,
    "start_time": "2022-09-13T12:59:27.361Z"
   },
   {
    "duration": 1056,
    "start_time": "2022-09-13T13:00:33.398Z"
   },
   {
    "duration": 741,
    "start_time": "2022-09-13T13:01:47.368Z"
   },
   {
    "duration": 368,
    "start_time": "2022-09-13T13:02:14.877Z"
   },
   {
    "duration": 150,
    "start_time": "2022-09-13T13:04:41.470Z"
   },
   {
    "duration": 952,
    "start_time": "2022-09-13T13:05:52.146Z"
   },
   {
    "duration": 474,
    "start_time": "2022-09-13T13:06:25.189Z"
   },
   {
    "duration": 21,
    "start_time": "2022-09-13T13:06:25.664Z"
   },
   {
    "duration": 13,
    "start_time": "2022-09-13T13:06:25.686Z"
   },
   {
    "duration": 10,
    "start_time": "2022-09-13T13:06:25.701Z"
   },
   {
    "duration": 31,
    "start_time": "2022-09-13T13:06:25.713Z"
   },
   {
    "duration": 3,
    "start_time": "2022-09-13T13:06:25.745Z"
   },
   {
    "duration": 21,
    "start_time": "2022-09-13T13:06:25.749Z"
   },
   {
    "duration": 15,
    "start_time": "2022-09-13T13:06:25.771Z"
   },
   {
    "duration": 19,
    "start_time": "2022-09-13T13:06:25.787Z"
   },
   {
    "duration": 5,
    "start_time": "2022-09-13T13:06:25.809Z"
   },
   {
    "duration": 36,
    "start_time": "2022-09-13T13:06:25.815Z"
   },
   {
    "duration": 7,
    "start_time": "2022-09-13T13:06:25.853Z"
   },
   {
    "duration": 15,
    "start_time": "2022-09-13T13:06:25.862Z"
   },
   {
    "duration": 14,
    "start_time": "2022-09-13T13:06:25.879Z"
   },
   {
    "duration": 17,
    "start_time": "2022-09-13T13:06:25.894Z"
   },
   {
    "duration": 15,
    "start_time": "2022-09-13T13:06:25.913Z"
   },
   {
    "duration": 3,
    "start_time": "2022-09-13T13:06:25.929Z"
   },
   {
    "duration": 12,
    "start_time": "2022-09-13T13:06:25.934Z"
   },
   {
    "duration": 7,
    "start_time": "2022-09-13T13:06:25.947Z"
   },
   {
    "duration": 6,
    "start_time": "2022-09-13T13:06:25.955Z"
   },
   {
    "duration": 16,
    "start_time": "2022-09-13T13:06:25.962Z"
   },
   {
    "duration": 1451,
    "start_time": "2022-09-13T13:06:25.979Z"
   },
   {
    "duration": 145,
    "start_time": "2022-09-13T13:06:27.432Z"
   },
   {
    "duration": 368,
    "start_time": "2022-09-13T13:06:27.579Z"
   },
   {
    "duration": 869,
    "start_time": "2022-09-13T13:06:27.948Z"
   },
   {
    "duration": 127,
    "start_time": "2022-09-13T13:06:28.819Z"
   },
   {
    "duration": 7,
    "start_time": "2022-09-13T13:06:28.948Z"
   },
   {
    "duration": 147,
    "start_time": "2022-09-13T13:06:44.389Z"
   },
   {
    "duration": 192,
    "start_time": "2022-09-13T13:07:42.463Z"
   },
   {
    "duration": 157,
    "start_time": "2022-09-13T13:07:58.458Z"
   },
   {
    "duration": 118,
    "start_time": "2022-09-13T13:09:26.303Z"
   },
   {
    "duration": 173,
    "start_time": "2022-09-13T13:10:23.072Z"
   },
   {
    "duration": 121,
    "start_time": "2022-09-13T13:11:23.861Z"
   },
   {
    "duration": 141,
    "start_time": "2022-09-13T13:12:48.650Z"
   },
   {
    "duration": 156,
    "start_time": "2022-09-13T13:15:05.959Z"
   },
   {
    "duration": 154,
    "start_time": "2022-09-13T13:15:12.649Z"
   },
   {
    "duration": 146,
    "start_time": "2022-09-13T13:15:51.144Z"
   },
   {
    "duration": 168,
    "start_time": "2022-09-13T13:15:57.311Z"
   },
   {
    "duration": 137,
    "start_time": "2022-09-13T13:16:49.753Z"
   },
   {
    "duration": 136,
    "start_time": "2022-09-13T13:17:01.062Z"
   },
   {
    "duration": 132,
    "start_time": "2022-09-13T13:17:19.078Z"
   },
   {
    "duration": 18,
    "start_time": "2022-09-13T13:17:43.379Z"
   },
   {
    "duration": 65,
    "start_time": "2022-09-13T13:17:53.551Z"
   },
   {
    "duration": 14,
    "start_time": "2022-09-13T13:17:55.302Z"
   },
   {
    "duration": 479,
    "start_time": "2022-09-13T13:18:02.275Z"
   },
   {
    "duration": 22,
    "start_time": "2022-09-13T13:18:02.756Z"
   },
   {
    "duration": 27,
    "start_time": "2022-09-13T13:18:02.782Z"
   },
   {
    "duration": 10,
    "start_time": "2022-09-13T13:18:02.810Z"
   },
   {
    "duration": 32,
    "start_time": "2022-09-13T13:18:02.821Z"
   },
   {
    "duration": 4,
    "start_time": "2022-09-13T13:18:02.854Z"
   },
   {
    "duration": 13,
    "start_time": "2022-09-13T13:18:02.859Z"
   },
   {
    "duration": 3,
    "start_time": "2022-09-13T13:18:02.874Z"
   },
   {
    "duration": 31,
    "start_time": "2022-09-13T13:18:02.880Z"
   },
   {
    "duration": 3,
    "start_time": "2022-09-13T13:18:02.913Z"
   },
   {
    "duration": 30,
    "start_time": "2022-09-13T13:18:02.917Z"
   },
   {
    "duration": 9,
    "start_time": "2022-09-13T13:18:02.948Z"
   },
   {
    "duration": 15,
    "start_time": "2022-09-13T13:18:02.958Z"
   },
   {
    "duration": 15,
    "start_time": "2022-09-13T13:18:02.974Z"
   },
   {
    "duration": 26,
    "start_time": "2022-09-13T13:18:02.990Z"
   },
   {
    "duration": 16,
    "start_time": "2022-09-13T13:18:03.018Z"
   },
   {
    "duration": 3,
    "start_time": "2022-09-13T13:18:03.036Z"
   },
   {
    "duration": 22,
    "start_time": "2022-09-13T13:18:03.040Z"
   },
   {
    "duration": 9,
    "start_time": "2022-09-13T13:18:03.064Z"
   },
   {
    "duration": 10,
    "start_time": "2022-09-13T13:18:03.074Z"
   },
   {
    "duration": 10,
    "start_time": "2022-09-13T13:18:03.085Z"
   },
   {
    "duration": 833,
    "start_time": "2022-09-13T13:18:03.096Z"
   },
   {
    "duration": 142,
    "start_time": "2022-09-13T13:18:03.931Z"
   },
   {
    "duration": 391,
    "start_time": "2022-09-13T13:18:04.074Z"
   },
   {
    "duration": 116,
    "start_time": "2022-09-13T13:18:04.466Z"
   },
   {
    "duration": 169,
    "start_time": "2022-09-13T13:18:04.584Z"
   },
   {
    "duration": 140,
    "start_time": "2022-09-13T13:18:04.757Z"
   },
   {
    "duration": 12,
    "start_time": "2022-09-13T13:18:04.899Z"
   },
   {
    "duration": 125,
    "start_time": "2022-09-13T13:18:26.167Z"
   },
   {
    "duration": 163,
    "start_time": "2022-09-13T13:20:49.551Z"
   },
   {
    "duration": 5,
    "start_time": "2022-09-13T13:21:48.108Z"
   },
   {
    "duration": 1520,
    "start_time": "2022-09-13T13:22:10.055Z"
   },
   {
    "duration": 1475,
    "start_time": "2022-09-13T13:22:24.222Z"
   },
   {
    "duration": 500,
    "start_time": "2022-09-13T13:22:48.373Z"
   },
   {
    "duration": 393,
    "start_time": "2022-09-13T13:22:57.807Z"
   },
   {
    "duration": 147,
    "start_time": "2022-09-13T13:23:20.067Z"
   },
   {
    "duration": 36,
    "start_time": "2022-09-13T13:25:16.768Z"
   },
   {
    "duration": 152,
    "start_time": "2022-09-13T13:26:58.793Z"
   },
   {
    "duration": 139,
    "start_time": "2022-09-13T13:27:04.155Z"
   },
   {
    "duration": 142,
    "start_time": "2022-09-13T13:27:20.154Z"
   },
   {
    "duration": 125,
    "start_time": "2022-09-13T13:27:28.657Z"
   },
   {
    "duration": 403,
    "start_time": "2022-09-13T13:27:33.257Z"
   },
   {
    "duration": 112,
    "start_time": "2022-09-13T13:27:40.470Z"
   },
   {
    "duration": 1341,
    "start_time": "2022-09-13T13:28:29.767Z"
   },
   {
    "duration": 141,
    "start_time": "2022-09-13T13:28:42.392Z"
   },
   {
    "duration": 151,
    "start_time": "2022-09-13T13:29:47.755Z"
   },
   {
    "duration": 212,
    "start_time": "2022-09-13T13:30:08.984Z"
   },
   {
    "duration": 127,
    "start_time": "2022-09-13T13:30:19.861Z"
   },
   {
    "duration": 107,
    "start_time": "2022-09-13T13:31:12.164Z"
   },
   {
    "duration": 128,
    "start_time": "2022-09-13T13:56:53.841Z"
   },
   {
    "duration": 8,
    "start_time": "2022-09-13T13:57:36.648Z"
   },
   {
    "duration": 8,
    "start_time": "2022-09-13T13:58:31.593Z"
   },
   {
    "duration": 473,
    "start_time": "2022-09-13T14:03:45.989Z"
   },
   {
    "duration": 20,
    "start_time": "2022-09-13T14:03:46.463Z"
   },
   {
    "duration": 13,
    "start_time": "2022-09-13T14:03:46.486Z"
   },
   {
    "duration": 12,
    "start_time": "2022-09-13T14:03:46.500Z"
   },
   {
    "duration": 28,
    "start_time": "2022-09-13T14:03:46.513Z"
   },
   {
    "duration": 3,
    "start_time": "2022-09-13T14:03:46.542Z"
   },
   {
    "duration": 9,
    "start_time": "2022-09-13T14:03:46.546Z"
   },
   {
    "duration": 3,
    "start_time": "2022-09-13T14:03:46.557Z"
   },
   {
    "duration": 6,
    "start_time": "2022-09-13T14:03:46.563Z"
   },
   {
    "duration": 5,
    "start_time": "2022-09-13T14:03:46.570Z"
   },
   {
    "duration": 55,
    "start_time": "2022-09-13T14:03:46.577Z"
   },
   {
    "duration": 12,
    "start_time": "2022-09-13T14:03:46.633Z"
   },
   {
    "duration": 3,
    "start_time": "2022-09-13T14:03:46.647Z"
   },
   {
    "duration": 11,
    "start_time": "2022-09-13T14:03:46.652Z"
   },
   {
    "duration": 19,
    "start_time": "2022-09-13T14:03:46.665Z"
   },
   {
    "duration": 42,
    "start_time": "2022-09-13T14:03:46.686Z"
   },
   {
    "duration": 5,
    "start_time": "2022-09-13T14:03:46.735Z"
   },
   {
    "duration": 17,
    "start_time": "2022-09-13T14:03:46.742Z"
   },
   {
    "duration": 10,
    "start_time": "2022-09-13T14:03:46.761Z"
   },
   {
    "duration": 3,
    "start_time": "2022-09-13T14:03:46.772Z"
   },
   {
    "duration": 9,
    "start_time": "2022-09-13T14:03:46.777Z"
   },
   {
    "duration": 837,
    "start_time": "2022-09-13T14:03:46.787Z"
   },
   {
    "duration": 141,
    "start_time": "2022-09-13T14:03:47.626Z"
   },
   {
    "duration": 366,
    "start_time": "2022-09-13T14:03:47.768Z"
   },
   {
    "duration": 127,
    "start_time": "2022-09-13T14:03:48.136Z"
   },
   {
    "duration": 135,
    "start_time": "2022-09-13T14:03:48.265Z"
   },
   {
    "duration": 120,
    "start_time": "2022-09-13T14:03:48.409Z"
   },
   {
    "duration": 131,
    "start_time": "2022-09-13T14:03:48.531Z"
   },
   {
    "duration": 8,
    "start_time": "2022-09-13T14:03:48.663Z"
   }
  ],
  "colab": {
   "name": "dpp_template_part2.ipynb",
   "provenance": []
  },
  "kernelspec": {
   "display_name": "Python 3 (ipykernel)",
   "language": "python",
   "name": "python3"
  },
  "language_info": {
   "codemirror_mode": {
    "name": "ipython",
    "version": 3
   },
   "file_extension": ".py",
   "mimetype": "text/x-python",
   "name": "python",
   "nbconvert_exporter": "python",
   "pygments_lexer": "ipython3",
   "version": "3.9.13"
  },
  "toc": {
   "base_numbering": 1,
   "nav_menu": {},
   "number_sections": true,
   "sideBar": true,
   "skip_h1_title": true,
   "title_cell": "Table of Contents",
   "title_sidebar": "Contents",
   "toc_cell": false,
   "toc_position": {},
   "toc_section_display": true,
   "toc_window_display": false
  }
 },
 "nbformat": 4,
 "nbformat_minor": 5
}
