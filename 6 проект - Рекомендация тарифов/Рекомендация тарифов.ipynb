{
 "cells": [
  {
   "attachments": {},
   "cell_type": "markdown",
   "metadata": {
    "toc": true
   },
   "source": [
    "<h1>Содержание<span class=\"tocSkip\"></span></h1>\n",
    "<div class=\"toc\"><ul class=\"toc-item\"><li><span><a href=\"#Введение\" data-toc-modified-id=\"Введение-1\"><span class=\"toc-item-num\">1&nbsp;&nbsp;</span>Введение</a></span></li><li><span><a href=\"#Импорт-необходимых-библиотек\" data-toc-modified-id=\"Импорт-необходимых-библиотек-2\"><span class=\"toc-item-num\">2&nbsp;&nbsp;</span>Импорт необходимых библиотек</a></span></li><li><span><a href=\"#Знакомство-с-датасетом\" data-toc-modified-id=\"Знакомство-с-датасетом-3\"><span class=\"toc-item-num\">3&nbsp;&nbsp;</span>Знакомство с датасетом</a></span><ul class=\"toc-item\"><li><span><a href=\"#Преобразование-типа-данных\" data-toc-modified-id=\"Преобразование-типа-данных-3.1\"><span class=\"toc-item-num\">3.1&nbsp;&nbsp;</span>Преобразование типа данных</a></span></li></ul></li><li><span><a href=\"#Разбиение-на-выборки\" data-toc-modified-id=\"Разбиение-на-выборки-4\"><span class=\"toc-item-num\">4&nbsp;&nbsp;</span>Разбиение на выборки</a></span></li><li><span><a href=\"#Исследование-моделей\" data-toc-modified-id=\"Исследование-моделей-5\"><span class=\"toc-item-num\">5&nbsp;&nbsp;</span>Исследование моделей</a></span><ul class=\"toc-item\"><li><span><a href=\"#Дерево-решений-без-указания-глубины\" data-toc-modified-id=\"Дерево-решений-без-указания-глубины-5.1\"><span class=\"toc-item-num\">5.1&nbsp;&nbsp;</span>Дерево решений без указания глубины</a></span></li><li><span><a href=\"#Дерево-решений\" data-toc-modified-id=\"Дерево-решений-5.2\"><span class=\"toc-item-num\">5.2&nbsp;&nbsp;</span>Дерево решений</a></span></li><li><span><a href=\"#Случайный-лес\" data-toc-modified-id=\"Случайный-лес-5.3\"><span class=\"toc-item-num\">5.3&nbsp;&nbsp;</span>Случайный лес</a></span></li><li><span><a href=\"#Логистическая-регрессия\" data-toc-modified-id=\"Логистическая-регрессия-5.4\"><span class=\"toc-item-num\">5.4&nbsp;&nbsp;</span>Логистическая регрессия</a></span></li></ul></li><li><span><a href=\"#Проверка-лучшей-модели-на-тестовой-выборке\" data-toc-modified-id=\"Проверка-лучшей-модели-на-тестовой-выборке-6\"><span class=\"toc-item-num\">6&nbsp;&nbsp;</span>Проверка лучшей модели на тестовой выборке</a></span><ul class=\"toc-item\"><li><span><a href=\"#Тестирование-дерева-решений\" data-toc-modified-id=\"Тестирование-дерева-решений-6.1\"><span class=\"toc-item-num\">6.1&nbsp;&nbsp;</span>Тестирование дерева решений</a></span></li><li><span><a href=\"#Precision,-recall\" data-toc-modified-id=\"Precision,-recall-6.2\"><span class=\"toc-item-num\">6.2&nbsp;&nbsp;</span>Precision, recall</a></span></li></ul></li><li><span><a href=\"#Проверка-модели-на-адекватность\" data-toc-modified-id=\"Проверка-модели-на-адекватность-7\"><span class=\"toc-item-num\">7&nbsp;&nbsp;</span>Проверка модели на адекватность</a></span></li><li><span><a href=\"#Выводы\" data-toc-modified-id=\"Выводы-8\"><span class=\"toc-item-num\">8&nbsp;&nbsp;</span>Выводы</a></span></li></ul></div>"
   ]
  },
  {
   "attachments": {},
   "cell_type": "markdown",
   "metadata": {},
   "source": [
    "# Рекомендация тарифов"
   ]
  },
  {
   "attachments": {},
   "cell_type": "markdown",
   "metadata": {},
   "source": [
    "## Введение"
   ]
  },
  {
   "attachments": {},
   "cell_type": "markdown",
   "metadata": {},
   "source": [
    "В данном проекте в нашем распоряжении есть данные о поведении клиентов, которые перешли на тарифы \"Смарт\" и \"Ультра\" (из проекта курса «Статистический анализ данных»). \n",
    "\n",
    "Нужно построить модель для задачи классификации, которая выберет подходящий тариф:\n",
    "- построить модель с максимально большим значением *accuracy* и довести долю правильных ответов по крайней мере до 0.75. \n",
    "- проверить *accuracy* на тестовой выборке.\n",
    "\n",
    "*Предобработка данных не понадобится.*"
   ]
  },
  {
   "attachments": {},
   "cell_type": "markdown",
   "metadata": {},
   "source": [
    "## Импорт необходимых библиотек"
   ]
  },
  {
   "cell_type": "code",
   "execution_count": 1,
   "metadata": {},
   "outputs": [],
   "source": [
    "import pandas as pd #импорт пандас\n",
    "import matplotlib.pyplot as plt #библиотека для построения графиков и задания определенных параметров\n",
    "\n",
    "from sklearn.model_selection import train_test_split #импорт модуля разделения из специального модуля библиотеки sklearn\n",
    "from sklearn.tree import DecisionTreeClassifier #импорт модуля дерева решений из специального модуля библиотеки sklearn\n",
    "from sklearn.metrics import accuracy_score #импорт модуля метрики оценки качества модели\n",
    "from sklearn.ensemble import RandomForestClassifier #импорт модуля случайного леса\n",
    "from sklearn.linear_model import LogisticRegression #модуль для логистической регрессии\n",
    "from sklearn.dummy import DummyClassifier #импорт \"глупого\" классификатора, для создания baseline модели\n",
    "#которая поссчитывает наиболее часто встречающийся класс\n",
    "from sklearn import metrics\n",
    "\n",
    "from sklearn.metrics import classification_report #импорт метрики, отчет по классификации"
   ]
  },
  {
   "attachments": {},
   "cell_type": "markdown",
   "metadata": {},
   "source": [
    "## Знакомство с датасетом"
   ]
  },
  {
   "cell_type": "code",
   "execution_count": 2,
   "metadata": {},
   "outputs": [
    {
     "name": "stdout",
     "output_type": "stream",
     "text": [
      "<class 'pandas.core.frame.DataFrame'>\n",
      "RangeIndex: 3214 entries, 0 to 3213\n",
      "Data columns (total 5 columns):\n",
      " #   Column    Non-Null Count  Dtype  \n",
      "---  ------    --------------  -----  \n",
      " 0   calls     3214 non-null   float64\n",
      " 1   minutes   3214 non-null   float64\n",
      " 2   messages  3214 non-null   float64\n",
      " 3   mb_used   3214 non-null   float64\n",
      " 4   is_ultra  3214 non-null   int64  \n",
      "dtypes: float64(4), int64(1)\n",
      "memory usage: 125.7 KB\n"
     ]
    }
   ],
   "source": [
    "try:\n",
    "    df = pd.read_csv('/datasets/users_behavior.csv') #читаем датасет\n",
    "except:\n",
    "    df = pd.read_csv(r'E:\\Practicum\\2_Projects_Git\\6_communication_rate_recommendation\\users_behavior.csv')\n",
    "\n",
    "df.info(); #вывод информации"
   ]
  },
  {
   "cell_type": "code",
   "execution_count": 3,
   "metadata": {},
   "outputs": [
    {
     "data": {
      "text/html": [
       "<div>\n",
       "<style scoped>\n",
       "    .dataframe tbody tr th:only-of-type {\n",
       "        vertical-align: middle;\n",
       "    }\n",
       "\n",
       "    .dataframe tbody tr th {\n",
       "        vertical-align: top;\n",
       "    }\n",
       "\n",
       "    .dataframe thead th {\n",
       "        text-align: right;\n",
       "    }\n",
       "</style>\n",
       "<table border=\"1\" class=\"dataframe\">\n",
       "  <thead>\n",
       "    <tr style=\"text-align: right;\">\n",
       "      <th></th>\n",
       "      <th>calls</th>\n",
       "      <th>minutes</th>\n",
       "      <th>messages</th>\n",
       "      <th>mb_used</th>\n",
       "      <th>is_ultra</th>\n",
       "    </tr>\n",
       "  </thead>\n",
       "  <tbody>\n",
       "    <tr>\n",
       "      <th>0</th>\n",
       "      <td>40.0</td>\n",
       "      <td>311.90</td>\n",
       "      <td>83.0</td>\n",
       "      <td>19915.42</td>\n",
       "      <td>0</td>\n",
       "    </tr>\n",
       "    <tr>\n",
       "      <th>1</th>\n",
       "      <td>85.0</td>\n",
       "      <td>516.75</td>\n",
       "      <td>56.0</td>\n",
       "      <td>22696.96</td>\n",
       "      <td>0</td>\n",
       "    </tr>\n",
       "    <tr>\n",
       "      <th>2</th>\n",
       "      <td>77.0</td>\n",
       "      <td>467.66</td>\n",
       "      <td>86.0</td>\n",
       "      <td>21060.45</td>\n",
       "      <td>0</td>\n",
       "    </tr>\n",
       "    <tr>\n",
       "      <th>3</th>\n",
       "      <td>106.0</td>\n",
       "      <td>745.53</td>\n",
       "      <td>81.0</td>\n",
       "      <td>8437.39</td>\n",
       "      <td>1</td>\n",
       "    </tr>\n",
       "    <tr>\n",
       "      <th>4</th>\n",
       "      <td>66.0</td>\n",
       "      <td>418.74</td>\n",
       "      <td>1.0</td>\n",
       "      <td>14502.75</td>\n",
       "      <td>0</td>\n",
       "    </tr>\n",
       "    <tr>\n",
       "      <th>...</th>\n",
       "      <td>...</td>\n",
       "      <td>...</td>\n",
       "      <td>...</td>\n",
       "      <td>...</td>\n",
       "      <td>...</td>\n",
       "    </tr>\n",
       "    <tr>\n",
       "      <th>3209</th>\n",
       "      <td>122.0</td>\n",
       "      <td>910.98</td>\n",
       "      <td>20.0</td>\n",
       "      <td>35124.90</td>\n",
       "      <td>1</td>\n",
       "    </tr>\n",
       "    <tr>\n",
       "      <th>3210</th>\n",
       "      <td>25.0</td>\n",
       "      <td>190.36</td>\n",
       "      <td>0.0</td>\n",
       "      <td>3275.61</td>\n",
       "      <td>0</td>\n",
       "    </tr>\n",
       "    <tr>\n",
       "      <th>3211</th>\n",
       "      <td>97.0</td>\n",
       "      <td>634.44</td>\n",
       "      <td>70.0</td>\n",
       "      <td>13974.06</td>\n",
       "      <td>0</td>\n",
       "    </tr>\n",
       "    <tr>\n",
       "      <th>3212</th>\n",
       "      <td>64.0</td>\n",
       "      <td>462.32</td>\n",
       "      <td>90.0</td>\n",
       "      <td>31239.78</td>\n",
       "      <td>0</td>\n",
       "    </tr>\n",
       "    <tr>\n",
       "      <th>3213</th>\n",
       "      <td>80.0</td>\n",
       "      <td>566.09</td>\n",
       "      <td>6.0</td>\n",
       "      <td>29480.52</td>\n",
       "      <td>1</td>\n",
       "    </tr>\n",
       "  </tbody>\n",
       "</table>\n",
       "<p>3214 rows × 5 columns</p>\n",
       "</div>"
      ],
      "text/plain": [
       "      calls  minutes  messages   mb_used  is_ultra\n",
       "0      40.0   311.90      83.0  19915.42         0\n",
       "1      85.0   516.75      56.0  22696.96         0\n",
       "2      77.0   467.66      86.0  21060.45         0\n",
       "3     106.0   745.53      81.0   8437.39         1\n",
       "4      66.0   418.74       1.0  14502.75         0\n",
       "...     ...      ...       ...       ...       ...\n",
       "3209  122.0   910.98      20.0  35124.90         1\n",
       "3210   25.0   190.36       0.0   3275.61         0\n",
       "3211   97.0   634.44      70.0  13974.06         0\n",
       "3212   64.0   462.32      90.0  31239.78         0\n",
       "3213   80.0   566.09       6.0  29480.52         1\n",
       "\n",
       "[3214 rows x 5 columns]"
      ]
     },
     "metadata": {},
     "output_type": "display_data"
    }
   ],
   "source": [
    "display(df) #показать датасет"
   ]
  },
  {
   "attachments": {},
   "cell_type": "markdown",
   "metadata": {},
   "source": [
    "Датасет состоит из 3214 строк и 5 столбцов. Пустых значений не имеет.\n",
    "\n",
    "Расшифровка названий столбцов:"
   ]
  },
  {
   "attachments": {},
   "cell_type": "markdown",
   "metadata": {},
   "source": [
    "- `сalls` — количество звонков,\n",
    "- `minutes` — суммарная длительность звонков в минутах,\n",
    "- `messages` — количество sms-сообщений,\n",
    "- `mb_used` — израсходованный интернет-трафик в Мб,\n",
    "- `is_ultra` — каким тарифом пользовался в течение месяца («Ультра» — 1, «Смарт» — 0)."
   ]
  },
  {
   "attachments": {},
   "cell_type": "markdown",
   "metadata": {},
   "source": [
    "### Преобразование типа данных"
   ]
  },
  {
   "attachments": {},
   "cell_type": "markdown",
   "metadata": {},
   "source": [
    "В целом, даже без преобразования типа, с этими данными можно работать, т.к. с ними можно выполнять математические операции. Но все же, неделимые количественные и численные категориальные данные должны иметь целочисленный тип.\n",
    "\n",
    "Изменим тип данных для `сalls` и `messages` на `int`:"
   ]
  },
  {
   "cell_type": "code",
   "execution_count": 4,
   "metadata": {},
   "outputs": [
    {
     "name": "stdout",
     "output_type": "stream",
     "text": [
      "<class 'pandas.core.frame.DataFrame'>\n",
      "RangeIndex: 3214 entries, 0 to 3213\n",
      "Data columns (total 5 columns):\n",
      " #   Column    Non-Null Count  Dtype  \n",
      "---  ------    --------------  -----  \n",
      " 0   calls     3214 non-null   int32  \n",
      " 1   minutes   3214 non-null   float64\n",
      " 2   messages  3214 non-null   int32  \n",
      " 3   mb_used   3214 non-null   float64\n",
      " 4   is_ultra  3214 non-null   int64  \n",
      "dtypes: float64(2), int32(2), int64(1)\n",
      "memory usage: 100.6 KB\n"
     ]
    }
   ],
   "source": [
    "df['calls'] = df['calls'].astype('int') #преобразование типа в целочисленный\n",
    "df['messages'] = df['messages'].astype('int') #\n",
    "df.info(); #"
   ]
  },
  {
   "attachments": {},
   "cell_type": "markdown",
   "metadata": {},
   "source": [
    "## Разбиение на выборки"
   ]
  },
  {
   "attachments": {},
   "cell_type": "markdown",
   "metadata": {},
   "source": [
    "Для того, чтобы разбить исходные данные на обучающую, валидационную и тестовую выборку, нужно воспользоваться model_selection из sklearn и импортировать train_test_split. \n",
    "\n",
    "Эта функция делит исходную выборку на два набора, тренировочный (обучающий) и валидационный. Чтобы разбить данные на 3 группы, нужно будет воспользоваться сплитом дважды.\n",
    "\n",
    "*Все импортированные библиотеки / модули находятся в начале проекта, п. 1.1 и добавляются туда в течение всего проекта*"
   ]
  },
  {
   "attachments": {},
   "cell_type": "markdown",
   "metadata": {},
   "source": [
    "Доля обучающей выборки из исходного датасета - 60%. Доля валидационной и тестовой - по 20%.\n",
    "\n",
    "Так как сначала делится весь датасет, то суммарная доля для валидационной и тестовой выборок (которые в этой итерации будут считаться валидационной выборкой) равна 40%, или 0,4."
   ]
  },
  {
   "cell_type": "code",
   "execution_count": 5,
   "metadata": {},
   "outputs": [],
   "source": [
    "#разделение исходного датасета на две выборки, обучающую и временную валидационную\n",
    "df_train, df_temp_valid = train_test_split(df, test_size=0.4, random_state=100) "
   ]
  },
  {
   "attachments": {},
   "cell_type": "markdown",
   "metadata": {},
   "source": [
    "`random_state` - это опорное число для генератора псевдослучайных чисел, он может быть любым, но в пределах одних и тех же вычислений - одинаковым для каждой итерации.\n",
    "\n",
    "Таким образом, сначала мы перемешиваем данные, а потом делим с пропорциями 0,6 и 0,4."
   ]
  },
  {
   "attachments": {},
   "cell_type": "markdown",
   "metadata": {},
   "source": [
    "Датасет `df_temp_valid` теперь хранит данные для валидационной и тестовой выборок в отношении 1:1.\n",
    "\n",
    "Применим к нему сплит, разобьем пополам:"
   ]
  },
  {
   "cell_type": "code",
   "execution_count": 6,
   "metadata": {},
   "outputs": [],
   "source": [
    "#разделение временной валидационной выборки на истинную валидационную и тестовую\n",
    "df_valid, df_test = train_test_split(df_temp_valid, test_size=0.5, random_state=100) "
   ]
  },
  {
   "attachments": {},
   "cell_type": "markdown",
   "metadata": {},
   "source": [
    "Теперь мы имеем 3 выборки:\n",
    "- `df_train` - обучающая (или тренировочная), содержащая 60% исходных данных;\n",
    "- `df_valid` - валидационная (или проверочная), содержащая 20% исходных данных;\n",
    "- `df_test` - тестовая, содержащая 20% исходных данных;"
   ]
  },
  {
   "attachments": {},
   "cell_type": "markdown",
   "metadata": {},
   "source": [
    "## Исследование моделей"
   ]
  },
  {
   "attachments": {},
   "cell_type": "markdown",
   "metadata": {},
   "source": [
    "Для начала, нужно определить признаки и целевой признак. \n",
    "\n",
    "Целевой принак - тариф. Это категориальный признак, со значением 1 - \"Ультра\" и 0 - \"Смарт\".\n",
    "\n",
    "Признаки - наборы данных о звонках, минутах, сообщениях и трафике - то есть все остальные данные."
   ]
  },
  {
   "cell_type": "code",
   "execution_count": 7,
   "metadata": {},
   "outputs": [],
   "source": [
    "features_train = df_train.drop(['is_ultra'], axis=1) #признаки\n",
    "target_train = df_train['is_ultra'] #целевой признак\n",
    "\n",
    "features_valid = df_valid.drop(['is_ultra'], axis=1) #признаки\n",
    "target_valid = df_valid['is_ultra'] #целевой признак\n",
    "\n",
    "features_test = df_test.drop(['is_ultra'], axis=1) #признаки\n",
    "target_test = df_test['is_ultra'] #целевой признак"
   ]
  },
  {
   "attachments": {},
   "cell_type": "markdown",
   "metadata": {},
   "source": [
    "### Дерево решений без указания глубины"
   ]
  },
  {
   "attachments": {},
   "cell_type": "markdown",
   "metadata": {},
   "source": [
    "Обучим модель не указав глубину дерева"
   ]
  },
  {
   "cell_type": "code",
   "execution_count": 8,
   "metadata": {},
   "outputs": [
    {
     "data": {
      "text/plain": [
       "'Accuracy модели дерева'"
      ]
     },
     "metadata": {},
     "output_type": "display_data"
    },
    {
     "data": {
      "text/plain": [
       "1.0"
      ]
     },
     "metadata": {},
     "output_type": "display_data"
    }
   ],
   "source": [
    "model_tree = DecisionTreeClassifier(random_state=100) #модель дерева решений \n",
    "model_tree.fit(features_train, target_train) #обучение модели на тренировочных данных\n",
    "predictions_tree_train = model_tree.predict(features_train) #предсказание модели по тренировочным данным\n",
    "result_tree_train = accuracy_score(target_train, predictions_tree_train) #качество предсказанного целевого признака относительно тренировочного\n",
    "display(\"Accuracy модели дерева\", result_tree_train) #вывод результата предсказания"
   ]
  },
  {
   "attachments": {},
   "cell_type": "markdown",
   "metadata": {},
   "source": [
    "Единица. Очевидно, что модель переобучилась. Проверим это на валидационных данных"
   ]
  },
  {
   "cell_type": "code",
   "execution_count": 9,
   "metadata": {},
   "outputs": [
    {
     "data": {
      "text/plain": [
       "'Accuracy модели дерева'"
      ]
     },
     "metadata": {},
     "output_type": "display_data"
    },
    {
     "data": {
      "text/plain": [
       "0.7402799377916018"
      ]
     },
     "metadata": {},
     "output_type": "display_data"
    }
   ],
   "source": [
    "predictions_tree_valid = model_tree.predict(features_valid) #предсказание на основе валидационных признаков\n",
    "result_tree_valid = accuracy_score(target_valid, predictions_tree_valid) #качество предсказанного целевого признака относительно валидационного\n",
    "display(\"Accuracy модели дерева\", result_tree_valid) #вывод результата предсказания"
   ]
  },
  {
   "attachments": {},
   "cell_type": "markdown",
   "metadata": {},
   "source": [
    "Не очень высокое значение качества на валидационной выборке, модель переобучена. Нужно проверить модели разгой глубины дерева на соответствие."
   ]
  },
  {
   "attachments": {},
   "cell_type": "markdown",
   "metadata": {},
   "source": [
    "### Дерево решений"
   ]
  },
  {
   "cell_type": "code",
   "execution_count": 10,
   "metadata": {
    "scrolled": true
   },
   "outputs": [
    {
     "data": {
      "text/plain": [
       "[0.7562240663900415,\n",
       " 0.7878630705394191,\n",
       " 0.8013485477178424,\n",
       " 0.8075726141078838,\n",
       " 0.8241701244813278,\n",
       " 0.8303941908713693,\n",
       " 0.8516597510373444,\n",
       " 0.8672199170124482,\n",
       " 0.8775933609958506,\n",
       " 0.8910788381742739,\n",
       " 0.9014522821576764,\n",
       " 0.9154564315352697,\n",
       " 0.9273858921161826,\n",
       " 0.9424273858921162,\n",
       " 0.9569502074688797,\n",
       " 0.9626556016597511,\n",
       " 0.9725103734439834,\n",
       " 0.979253112033195,\n",
       " 0.9859958506224067,\n",
       " 0.9875518672199171,\n",
       " 0.9885892116182573,\n",
       " 0.9911825726141079,\n",
       " 0.991701244813278,\n",
       " 0.9922199170124482,\n",
       " 0.9937759336099585,\n",
       " 0.9963692946058091,\n",
       " 0.9984439834024896,\n",
       " 0.9994813278008299,\n",
       " 1.0,\n",
       " 1.0]"
      ]
     },
     "metadata": {},
     "output_type": "display_data"
    }
   ],
   "source": [
    "accuracy_train_trees_list = [] #создаем пустой список тренировочной оценки точности \n",
    "\n",
    "for depth in range(1, 31): #цикл для глубины дерева, до 30\n",
    "    model_trees = DecisionTreeClassifier(random_state=100, max_depth=depth) #модель дерева решений с меняющейся глубиной\n",
    "    model_trees.fit(features_train, target_train) #обучение модели на тренировочной выборке\n",
    "    predictions_trees_train = model_trees.predict(features_train) #предсказание целевого признака на основе тренировочных признаков\n",
    "    accuracy_train_trees = accuracy_score(target_train, predictions_trees_train) #сравнение реального целевого с предсказанным\n",
    "    accuracy_train_trees_list.append(accuracy_train_trees) #добавление оценки точности в список\n",
    "display(accuracy_train_trees_list) #вывод списка"
   ]
  },
  {
   "attachments": {},
   "cell_type": "markdown",
   "metadata": {},
   "source": [
    "Мы видим, что модель с увеличением глубины начинает переобучаться. На глубине 29 - достигает максимума. Проверим на валидационной выборке и построим общий график"
   ]
  },
  {
   "cell_type": "code",
   "execution_count": 11,
   "metadata": {},
   "outputs": [],
   "source": [
    "accuracy_valid_trees_list = [] #создаем пустой список валидационной оценки точности \n",
    "\n",
    "for depth in range(1, 31): #цикл для глубины дерева, до 30\n",
    "    model_trees = DecisionTreeClassifier(random_state=100, max_depth=depth) #модель дерева решений с меняющейся глубиной\n",
    "    model_trees.fit(features_train, target_train) #обучение модели на тренировочной выборке\n",
    "    predictions_trees_valid = model_trees.predict(features_valid) #предсказание целевого признака на основе валидационных признаков\n",
    "    accuracy_valid_trees = accuracy_score(target_valid, predictions_trees_valid) #сравнение реального целевого с предсказанным\n",
    "    accuracy_valid_trees_list.append(accuracy_valid_trees) #добавление оценки точности в список\n",
    "#display(accuracy_valid_trees_list)"
   ]
  },
  {
   "cell_type": "code",
   "execution_count": 12,
   "metadata": {},
   "outputs": [],
   "source": [
    "depth_list = list(range(1, 31)) #создаем список значений глубины дерева"
   ]
  },
  {
   "cell_type": "code",
   "execution_count": 13,
   "metadata": {},
   "outputs": [],
   "source": [
    "df_trees = pd.DataFrame({ #созаем датафрейм\n",
    "    'Depth': depth_list, #глубина - из списка\n",
    "    'Train_accuracy': accuracy_train_trees_list, #качество тренировочных данных\n",
    "    'Valid_accuracy': accuracy_valid_trees_list #качество валидационных данных\n",
    "}) #"
   ]
  },
  {
   "cell_type": "code",
   "execution_count": 14,
   "metadata": {
    "scrolled": true
   },
   "outputs": [
    {
     "data": {
      "text/html": [
       "<div>\n",
       "<style scoped>\n",
       "    .dataframe tbody tr th:only-of-type {\n",
       "        vertical-align: middle;\n",
       "    }\n",
       "\n",
       "    .dataframe tbody tr th {\n",
       "        vertical-align: top;\n",
       "    }\n",
       "\n",
       "    .dataframe thead th {\n",
       "        text-align: right;\n",
       "    }\n",
       "</style>\n",
       "<table border=\"1\" class=\"dataframe\">\n",
       "  <thead>\n",
       "    <tr style=\"text-align: right;\">\n",
       "      <th></th>\n",
       "      <th>Depth</th>\n",
       "      <th>Train_accuracy</th>\n",
       "      <th>Valid_accuracy</th>\n",
       "    </tr>\n",
       "  </thead>\n",
       "  <tbody>\n",
       "    <tr>\n",
       "      <th>0</th>\n",
       "      <td>1</td>\n",
       "      <td>0.756224</td>\n",
       "      <td>0.758942</td>\n",
       "    </tr>\n",
       "    <tr>\n",
       "      <th>1</th>\n",
       "      <td>2</td>\n",
       "      <td>0.787863</td>\n",
       "      <td>0.799378</td>\n",
       "    </tr>\n",
       "    <tr>\n",
       "      <th>2</th>\n",
       "      <td>3</td>\n",
       "      <td>0.801349</td>\n",
       "      <td>0.818040</td>\n",
       "    </tr>\n",
       "    <tr>\n",
       "      <th>3</th>\n",
       "      <td>4</td>\n",
       "      <td>0.807573</td>\n",
       "      <td>0.810264</td>\n",
       "    </tr>\n",
       "    <tr>\n",
       "      <th>4</th>\n",
       "      <td>5</td>\n",
       "      <td>0.824170</td>\n",
       "      <td>0.807154</td>\n",
       "    </tr>\n",
       "    <tr>\n",
       "      <th>5</th>\n",
       "      <td>6</td>\n",
       "      <td>0.830394</td>\n",
       "      <td>0.791602</td>\n",
       "    </tr>\n",
       "    <tr>\n",
       "      <th>6</th>\n",
       "      <td>7</td>\n",
       "      <td>0.851660</td>\n",
       "      <td>0.780715</td>\n",
       "    </tr>\n",
       "    <tr>\n",
       "      <th>7</th>\n",
       "      <td>8</td>\n",
       "      <td>0.867220</td>\n",
       "      <td>0.785381</td>\n",
       "    </tr>\n",
       "    <tr>\n",
       "      <th>8</th>\n",
       "      <td>9</td>\n",
       "      <td>0.877593</td>\n",
       "      <td>0.793157</td>\n",
       "    </tr>\n",
       "    <tr>\n",
       "      <th>9</th>\n",
       "      <td>10</td>\n",
       "      <td>0.891079</td>\n",
       "      <td>0.780715</td>\n",
       "    </tr>\n",
       "    <tr>\n",
       "      <th>10</th>\n",
       "      <td>11</td>\n",
       "      <td>0.901452</td>\n",
       "      <td>0.772939</td>\n",
       "    </tr>\n",
       "    <tr>\n",
       "      <th>11</th>\n",
       "      <td>12</td>\n",
       "      <td>0.915456</td>\n",
       "      <td>0.766719</td>\n",
       "    </tr>\n",
       "    <tr>\n",
       "      <th>12</th>\n",
       "      <td>13</td>\n",
       "      <td>0.927386</td>\n",
       "      <td>0.771384</td>\n",
       "    </tr>\n",
       "    <tr>\n",
       "      <th>13</th>\n",
       "      <td>14</td>\n",
       "      <td>0.942427</td>\n",
       "      <td>0.751166</td>\n",
       "    </tr>\n",
       "    <tr>\n",
       "      <th>14</th>\n",
       "      <td>15</td>\n",
       "      <td>0.956950</td>\n",
       "      <td>0.751166</td>\n",
       "    </tr>\n",
       "    <tr>\n",
       "      <th>15</th>\n",
       "      <td>16</td>\n",
       "      <td>0.962656</td>\n",
       "      <td>0.754277</td>\n",
       "    </tr>\n",
       "    <tr>\n",
       "      <th>16</th>\n",
       "      <td>17</td>\n",
       "      <td>0.972510</td>\n",
       "      <td>0.758942</td>\n",
       "    </tr>\n",
       "    <tr>\n",
       "      <th>17</th>\n",
       "      <td>18</td>\n",
       "      <td>0.979253</td>\n",
       "      <td>0.744946</td>\n",
       "    </tr>\n",
       "    <tr>\n",
       "      <th>18</th>\n",
       "      <td>19</td>\n",
       "      <td>0.985996</td>\n",
       "      <td>0.744946</td>\n",
       "    </tr>\n",
       "    <tr>\n",
       "      <th>19</th>\n",
       "      <td>20</td>\n",
       "      <td>0.987552</td>\n",
       "      <td>0.737170</td>\n",
       "    </tr>\n",
       "    <tr>\n",
       "      <th>20</th>\n",
       "      <td>21</td>\n",
       "      <td>0.988589</td>\n",
       "      <td>0.743390</td>\n",
       "    </tr>\n",
       "    <tr>\n",
       "      <th>21</th>\n",
       "      <td>22</td>\n",
       "      <td>0.991183</td>\n",
       "      <td>0.746501</td>\n",
       "    </tr>\n",
       "    <tr>\n",
       "      <th>22</th>\n",
       "      <td>23</td>\n",
       "      <td>0.991701</td>\n",
       "      <td>0.748056</td>\n",
       "    </tr>\n",
       "    <tr>\n",
       "      <th>23</th>\n",
       "      <td>24</td>\n",
       "      <td>0.992220</td>\n",
       "      <td>0.740280</td>\n",
       "    </tr>\n",
       "    <tr>\n",
       "      <th>24</th>\n",
       "      <td>25</td>\n",
       "      <td>0.993776</td>\n",
       "      <td>0.749611</td>\n",
       "    </tr>\n",
       "    <tr>\n",
       "      <th>25</th>\n",
       "      <td>26</td>\n",
       "      <td>0.996369</td>\n",
       "      <td>0.751166</td>\n",
       "    </tr>\n",
       "    <tr>\n",
       "      <th>26</th>\n",
       "      <td>27</td>\n",
       "      <td>0.998444</td>\n",
       "      <td>0.744946</td>\n",
       "    </tr>\n",
       "    <tr>\n",
       "      <th>27</th>\n",
       "      <td>28</td>\n",
       "      <td>0.999481</td>\n",
       "      <td>0.746501</td>\n",
       "    </tr>\n",
       "    <tr>\n",
       "      <th>28</th>\n",
       "      <td>29</td>\n",
       "      <td>1.000000</td>\n",
       "      <td>0.740280</td>\n",
       "    </tr>\n",
       "    <tr>\n",
       "      <th>29</th>\n",
       "      <td>30</td>\n",
       "      <td>1.000000</td>\n",
       "      <td>0.740280</td>\n",
       "    </tr>\n",
       "  </tbody>\n",
       "</table>\n",
       "</div>"
      ],
      "text/plain": [
       "    Depth  Train_accuracy  Valid_accuracy\n",
       "0       1        0.756224        0.758942\n",
       "1       2        0.787863        0.799378\n",
       "2       3        0.801349        0.818040\n",
       "3       4        0.807573        0.810264\n",
       "4       5        0.824170        0.807154\n",
       "5       6        0.830394        0.791602\n",
       "6       7        0.851660        0.780715\n",
       "7       8        0.867220        0.785381\n",
       "8       9        0.877593        0.793157\n",
       "9      10        0.891079        0.780715\n",
       "10     11        0.901452        0.772939\n",
       "11     12        0.915456        0.766719\n",
       "12     13        0.927386        0.771384\n",
       "13     14        0.942427        0.751166\n",
       "14     15        0.956950        0.751166\n",
       "15     16        0.962656        0.754277\n",
       "16     17        0.972510        0.758942\n",
       "17     18        0.979253        0.744946\n",
       "18     19        0.985996        0.744946\n",
       "19     20        0.987552        0.737170\n",
       "20     21        0.988589        0.743390\n",
       "21     22        0.991183        0.746501\n",
       "22     23        0.991701        0.748056\n",
       "23     24        0.992220        0.740280\n",
       "24     25        0.993776        0.749611\n",
       "25     26        0.996369        0.751166\n",
       "26     27        0.998444        0.744946\n",
       "27     28        0.999481        0.746501\n",
       "28     29        1.000000        0.740280\n",
       "29     30        1.000000        0.740280"
      ]
     },
     "metadata": {},
     "output_type": "display_data"
    }
   ],
   "source": [
    "display(df_trees) #вывод датасета"
   ]
  },
  {
   "cell_type": "code",
   "execution_count": 15,
   "metadata": {},
   "outputs": [
    {
     "data": {
      "image/png": "[encoded data removed]",
      "text/plain": [
       "<Figure size 1700x700 with 1 Axes>"
      ]
     },
     "metadata": {},
     "output_type": "display_data"
    }
   ],
   "source": [
    "ax = df_trees.plot( #строим график plot\n",
    "    x='Depth', y='Train_accuracy', #оси Х и Y\n",
    "    style='o-g', sharex=False, grid=True, alpha=0.7, #линия с точками, сетка, прозрачность 0.7\n",
    "    label=\"Обучение модели на тренировочной выборке\", #легенда\n",
    "    lw=5, mew=2, ms=10, figsize=(17, 7)); #толщина линии, величина точек, размеры графика\n",
    "\n",
    "df_trees.plot(\n",
    "    x='Depth', y='Valid_accuracy', style='o-b', sharex=False, grid=True,\n",
    "    alpha=0.7, label=\"Обучение модели на валидационной выборке\",\n",
    "    lw=5, mew=2, ms=10, figsize=(17, 7), ax=ax)\\\n",
    ".set_title(\n",
    "    'Accuracy тренировочной и валидационной выборок в зависимости от глубины дерева' + \"\\n\", #название графика\n",
    "    fontsize = 16, color = 'Black'); #размер шрифта, цвет"
   ]
  },
  {
   "cell_type": "code",
   "execution_count": 16,
   "metadata": {},
   "outputs": [
    {
     "data": {
      "text/plain": [
       "'Наилучший результат обучения модели находится при значении depth=3 и равен 0.8180404354587869'"
      ]
     },
     "metadata": {},
     "output_type": "display_data"
    }
   ],
   "source": [
    "#вывод на экран лучшего значения оценки точности для дерева решений\n",
    "display(f\"Наилучший результат обучения модели находится при значении depth=3 и равен {df_trees['Valid_accuracy'].max()}\") "
   ]
  },
  {
   "attachments": {},
   "cell_type": "markdown",
   "metadata": {},
   "source": [
    "Мы видим на графике, что если модель, обученная на тренировочных данных начинает переобучаться, то она начинает предсказывать все хуже. Это происходит потому, что модель \"заучивает\" значения. \n",
    "\n",
    "Модель хорошо обучилась на глубине дерева 2-5, при этом, на значениях глубины 2-4 оценка точности предсказаний выше, чем на тренировочных данных. На глубине 4 они почти равны."
   ]
  },
  {
   "attachments": {},
   "cell_type": "markdown",
   "metadata": {},
   "source": [
    "### Случайный лес"
   ]
  },
  {
   "cell_type": "code",
   "execution_count": 17,
   "metadata": {
    "scrolled": true
   },
   "outputs": [],
   "source": [
    "accuracy_train_forest_list = [] #создаем пустой список тренировочной оценки точности \n",
    "\n",
    "for value in range(1, 41): #цикл для количества деревьев, до 30\n",
    "    model_forest = RandomForestClassifier(random_state=100, n_estimators=value) #модель леса с меняющимся количеством деревьев\n",
    "    model_forest.fit(features_train, target_train) #обучение модели на тренировочной выборке\n",
    "    predictions_forest_train = model_forest.predict(features_train) #предсказание целевого признака на основе тренировочных признаков\n",
    "    accuracy_train_forest = accuracy_score(target_train, predictions_forest_train) #сравнение реального целевого с предсказанным\n",
    "    accuracy_train_forest_list.append(accuracy_train_forest) #добавление оценки точности в список\n",
    "#display(accuracy_train_forest_list) #вывод списка"
   ]
  },
  {
   "cell_type": "code",
   "execution_count": 18,
   "metadata": {},
   "outputs": [],
   "source": [
    "accuracy_valid_forest_list = [] #создаем пустой список валидационной оценки точности \n",
    "\n",
    "for value in range(1, 41): #цикл для глубины дерева, до 30\n",
    "    model_forest = RandomForestClassifier(random_state=100, n_estimators=value) #модель леса с меняющимся количеством деревьев\n",
    "    model_forest.fit(features_train, target_train) #обучение модели на тренировочной выборке\n",
    "    predictions_forest_valid = model_forest.predict(features_valid) #предсказание целевого признака на основе тренировочных признаков\n",
    "    accuracy_valid_forest = accuracy_score(target_valid, predictions_forest_valid) #сравнение реального целевого с предсказанным\n",
    "    accuracy_valid_forest_list.append(accuracy_valid_forest) #добавление оценки точности в список\n",
    "#display(accuracy_valid_trees_list)"
   ]
  },
  {
   "cell_type": "code",
   "execution_count": 19,
   "metadata": {},
   "outputs": [],
   "source": [
    "value_list = list(range(1, 41)) #создаем список значений глубины дерева"
   ]
  },
  {
   "cell_type": "code",
   "execution_count": 20,
   "metadata": {},
   "outputs": [],
   "source": [
    "df_forest = pd.DataFrame({ #созаем датафрейм\n",
    "    'Value': value_list, #глубина - из списка\n",
    "    'Train_accuracy': accuracy_train_forest_list, #качество тренировочных данных\n",
    "    'Valid_accuracy': accuracy_valid_forest_list #качество валидационных данных\n",
    "}) #"
   ]
  },
  {
   "cell_type": "code",
   "execution_count": 21,
   "metadata": {
    "scrolled": true
   },
   "outputs": [
    {
     "data": {
      "text/html": [
       "<div>\n",
       "<style scoped>\n",
       "    .dataframe tbody tr th:only-of-type {\n",
       "        vertical-align: middle;\n",
       "    }\n",
       "\n",
       "    .dataframe tbody tr th {\n",
       "        vertical-align: top;\n",
       "    }\n",
       "\n",
       "    .dataframe thead th {\n",
       "        text-align: right;\n",
       "    }\n",
       "</style>\n",
       "<table border=\"1\" class=\"dataframe\">\n",
       "  <thead>\n",
       "    <tr style=\"text-align: right;\">\n",
       "      <th></th>\n",
       "      <th>Value</th>\n",
       "      <th>Train_accuracy</th>\n",
       "      <th>Valid_accuracy</th>\n",
       "    </tr>\n",
       "  </thead>\n",
       "  <tbody>\n",
       "    <tr>\n",
       "      <th>0</th>\n",
       "      <td>1</td>\n",
       "      <td>0.900934</td>\n",
       "      <td>0.734059</td>\n",
       "    </tr>\n",
       "    <tr>\n",
       "      <th>1</th>\n",
       "      <td>2</td>\n",
       "      <td>0.898340</td>\n",
       "      <td>0.769829</td>\n",
       "    </tr>\n",
       "    <tr>\n",
       "      <th>2</th>\n",
       "      <td>3</td>\n",
       "      <td>0.954876</td>\n",
       "      <td>0.772939</td>\n",
       "    </tr>\n",
       "    <tr>\n",
       "      <th>3</th>\n",
       "      <td>4</td>\n",
       "      <td>0.949170</td>\n",
       "      <td>0.779160</td>\n",
       "    </tr>\n",
       "    <tr>\n",
       "      <th>4</th>\n",
       "      <td>5</td>\n",
       "      <td>0.971473</td>\n",
       "      <td>0.771384</td>\n",
       "    </tr>\n",
       "    <tr>\n",
       "      <th>5</th>\n",
       "      <td>6</td>\n",
       "      <td>0.964212</td>\n",
       "      <td>0.797823</td>\n",
       "    </tr>\n",
       "    <tr>\n",
       "      <th>6</th>\n",
       "      <td>7</td>\n",
       "      <td>0.980290</td>\n",
       "      <td>0.783826</td>\n",
       "    </tr>\n",
       "    <tr>\n",
       "      <th>7</th>\n",
       "      <td>8</td>\n",
       "      <td>0.971473</td>\n",
       "      <td>0.790047</td>\n",
       "    </tr>\n",
       "    <tr>\n",
       "      <th>8</th>\n",
       "      <td>9</td>\n",
       "      <td>0.982365</td>\n",
       "      <td>0.790047</td>\n",
       "    </tr>\n",
       "    <tr>\n",
       "      <th>9</th>\n",
       "      <td>10</td>\n",
       "      <td>0.978216</td>\n",
       "      <td>0.802488</td>\n",
       "    </tr>\n",
       "    <tr>\n",
       "      <th>10</th>\n",
       "      <td>11</td>\n",
       "      <td>0.988071</td>\n",
       "      <td>0.797823</td>\n",
       "    </tr>\n",
       "    <tr>\n",
       "      <th>11</th>\n",
       "      <td>12</td>\n",
       "      <td>0.983402</td>\n",
       "      <td>0.810264</td>\n",
       "    </tr>\n",
       "    <tr>\n",
       "      <th>12</th>\n",
       "      <td>13</td>\n",
       "      <td>0.986515</td>\n",
       "      <td>0.811820</td>\n",
       "    </tr>\n",
       "    <tr>\n",
       "      <th>13</th>\n",
       "      <td>14</td>\n",
       "      <td>0.985477</td>\n",
       "      <td>0.804044</td>\n",
       "    </tr>\n",
       "    <tr>\n",
       "      <th>14</th>\n",
       "      <td>15</td>\n",
       "      <td>0.991183</td>\n",
       "      <td>0.800933</td>\n",
       "    </tr>\n",
       "    <tr>\n",
       "      <th>15</th>\n",
       "      <td>16</td>\n",
       "      <td>0.988071</td>\n",
       "      <td>0.802488</td>\n",
       "    </tr>\n",
       "    <tr>\n",
       "      <th>16</th>\n",
       "      <td>17</td>\n",
       "      <td>0.993776</td>\n",
       "      <td>0.800933</td>\n",
       "    </tr>\n",
       "    <tr>\n",
       "      <th>17</th>\n",
       "      <td>18</td>\n",
       "      <td>0.991701</td>\n",
       "      <td>0.796267</td>\n",
       "    </tr>\n",
       "    <tr>\n",
       "      <th>18</th>\n",
       "      <td>19</td>\n",
       "      <td>0.993257</td>\n",
       "      <td>0.791602</td>\n",
       "    </tr>\n",
       "    <tr>\n",
       "      <th>19</th>\n",
       "      <td>20</td>\n",
       "      <td>0.993776</td>\n",
       "      <td>0.796267</td>\n",
       "    </tr>\n",
       "    <tr>\n",
       "      <th>20</th>\n",
       "      <td>21</td>\n",
       "      <td>0.995332</td>\n",
       "      <td>0.799378</td>\n",
       "    </tr>\n",
       "    <tr>\n",
       "      <th>21</th>\n",
       "      <td>22</td>\n",
       "      <td>0.993257</td>\n",
       "      <td>0.794712</td>\n",
       "    </tr>\n",
       "    <tr>\n",
       "      <th>22</th>\n",
       "      <td>23</td>\n",
       "      <td>0.995851</td>\n",
       "      <td>0.802488</td>\n",
       "    </tr>\n",
       "    <tr>\n",
       "      <th>23</th>\n",
       "      <td>24</td>\n",
       "      <td>0.993776</td>\n",
       "      <td>0.797823</td>\n",
       "    </tr>\n",
       "    <tr>\n",
       "      <th>24</th>\n",
       "      <td>25</td>\n",
       "      <td>0.997407</td>\n",
       "      <td>0.797823</td>\n",
       "    </tr>\n",
       "    <tr>\n",
       "      <th>25</th>\n",
       "      <td>26</td>\n",
       "      <td>0.994813</td>\n",
       "      <td>0.807154</td>\n",
       "    </tr>\n",
       "    <tr>\n",
       "      <th>26</th>\n",
       "      <td>27</td>\n",
       "      <td>0.998444</td>\n",
       "      <td>0.802488</td>\n",
       "    </tr>\n",
       "    <tr>\n",
       "      <th>27</th>\n",
       "      <td>28</td>\n",
       "      <td>0.997925</td>\n",
       "      <td>0.813375</td>\n",
       "    </tr>\n",
       "    <tr>\n",
       "      <th>28</th>\n",
       "      <td>29</td>\n",
       "      <td>0.998963</td>\n",
       "      <td>0.807154</td>\n",
       "    </tr>\n",
       "    <tr>\n",
       "      <th>29</th>\n",
       "      <td>30</td>\n",
       "      <td>0.998963</td>\n",
       "      <td>0.807154</td>\n",
       "    </tr>\n",
       "    <tr>\n",
       "      <th>30</th>\n",
       "      <td>31</td>\n",
       "      <td>0.998963</td>\n",
       "      <td>0.805599</td>\n",
       "    </tr>\n",
       "    <tr>\n",
       "      <th>31</th>\n",
       "      <td>32</td>\n",
       "      <td>0.998963</td>\n",
       "      <td>0.808709</td>\n",
       "    </tr>\n",
       "    <tr>\n",
       "      <th>32</th>\n",
       "      <td>33</td>\n",
       "      <td>0.998963</td>\n",
       "      <td>0.807154</td>\n",
       "    </tr>\n",
       "    <tr>\n",
       "      <th>33</th>\n",
       "      <td>34</td>\n",
       "      <td>0.998963</td>\n",
       "      <td>0.807154</td>\n",
       "    </tr>\n",
       "    <tr>\n",
       "      <th>34</th>\n",
       "      <td>35</td>\n",
       "      <td>0.998963</td>\n",
       "      <td>0.805599</td>\n",
       "    </tr>\n",
       "    <tr>\n",
       "      <th>35</th>\n",
       "      <td>36</td>\n",
       "      <td>0.998963</td>\n",
       "      <td>0.804044</td>\n",
       "    </tr>\n",
       "    <tr>\n",
       "      <th>36</th>\n",
       "      <td>37</td>\n",
       "      <td>0.998963</td>\n",
       "      <td>0.807154</td>\n",
       "    </tr>\n",
       "    <tr>\n",
       "      <th>37</th>\n",
       "      <td>38</td>\n",
       "      <td>0.998444</td>\n",
       "      <td>0.807154</td>\n",
       "    </tr>\n",
       "    <tr>\n",
       "      <th>38</th>\n",
       "      <td>39</td>\n",
       "      <td>0.999481</td>\n",
       "      <td>0.808709</td>\n",
       "    </tr>\n",
       "    <tr>\n",
       "      <th>39</th>\n",
       "      <td>40</td>\n",
       "      <td>0.999481</td>\n",
       "      <td>0.805599</td>\n",
       "    </tr>\n",
       "  </tbody>\n",
       "</table>\n",
       "</div>"
      ],
      "text/plain": [
       "    Value  Train_accuracy  Valid_accuracy\n",
       "0       1        0.900934        0.734059\n",
       "1       2        0.898340        0.769829\n",
       "2       3        0.954876        0.772939\n",
       "3       4        0.949170        0.779160\n",
       "4       5        0.971473        0.771384\n",
       "5       6        0.964212        0.797823\n",
       "6       7        0.980290        0.783826\n",
       "7       8        0.971473        0.790047\n",
       "8       9        0.982365        0.790047\n",
       "9      10        0.978216        0.802488\n",
       "10     11        0.988071        0.797823\n",
       "11     12        0.983402        0.810264\n",
       "12     13        0.986515        0.811820\n",
       "13     14        0.985477        0.804044\n",
       "14     15        0.991183        0.800933\n",
       "15     16        0.988071        0.802488\n",
       "16     17        0.993776        0.800933\n",
       "17     18        0.991701        0.796267\n",
       "18     19        0.993257        0.791602\n",
       "19     20        0.993776        0.796267\n",
       "20     21        0.995332        0.799378\n",
       "21     22        0.993257        0.794712\n",
       "22     23        0.995851        0.802488\n",
       "23     24        0.993776        0.797823\n",
       "24     25        0.997407        0.797823\n",
       "25     26        0.994813        0.807154\n",
       "26     27        0.998444        0.802488\n",
       "27     28        0.997925        0.813375\n",
       "28     29        0.998963        0.807154\n",
       "29     30        0.998963        0.807154\n",
       "30     31        0.998963        0.805599\n",
       "31     32        0.998963        0.808709\n",
       "32     33        0.998963        0.807154\n",
       "33     34        0.998963        0.807154\n",
       "34     35        0.998963        0.805599\n",
       "35     36        0.998963        0.804044\n",
       "36     37        0.998963        0.807154\n",
       "37     38        0.998444        0.807154\n",
       "38     39        0.999481        0.808709\n",
       "39     40        0.999481        0.805599"
      ]
     },
     "metadata": {},
     "output_type": "display_data"
    }
   ],
   "source": [
    "display(df_forest) #вывод датасета"
   ]
  },
  {
   "cell_type": "code",
   "execution_count": 22,
   "metadata": {},
   "outputs": [
    {
     "data": {
      "image/png": "[encoded data removed]",
      "text/plain": [
       "<Figure size 1700x700 with 1 Axes>"
      ]
     },
     "metadata": {},
     "output_type": "display_data"
    }
   ],
   "source": [
    "ax = df_forest.plot( #строим график plot\n",
    "    x='Value', y='Train_accuracy', #оси Х и Y\n",
    "    style='o-g', sharex=False, grid=True, alpha=0.7, #линия с точками, сетка, прозрачность 0.7\n",
    "    label=\"Обучение модели на тренировочной выборке\", #легенда\n",
    "    lw=5, mew=2, ms=10, figsize=(17, 7)); #толщина линии, величина точек, размеры графика\n",
    "\n",
    "df_forest.plot(\n",
    "    x='Value', y='Valid_accuracy', style='o-b', sharex=False, grid=True,\n",
    "    alpha=0.7, label=\"Обучение модели на валидационной выборке\",\n",
    "    lw=5, mew=2, ms=10, figsize=(17, 7), ax=ax)\\\n",
    ".set_title(\n",
    "    'Accuracy тренировочной и валидационной выборок в зависимости от количества деревьев' + \"\\n\", #название графика\n",
    "    fontsize = 16, color = 'Black'); #размер шрифта, цвет"
   ]
  },
  {
   "cell_type": "code",
   "execution_count": 23,
   "metadata": {
    "scrolled": true
   },
   "outputs": [
    {
     "data": {
      "text/html": [
       "<div>\n",
       "<style scoped>\n",
       "    .dataframe tbody tr th:only-of-type {\n",
       "        vertical-align: middle;\n",
       "    }\n",
       "\n",
       "    .dataframe tbody tr th {\n",
       "        vertical-align: top;\n",
       "    }\n",
       "\n",
       "    .dataframe thead th {\n",
       "        text-align: right;\n",
       "    }\n",
       "</style>\n",
       "<table border=\"1\" class=\"dataframe\">\n",
       "  <thead>\n",
       "    <tr style=\"text-align: right;\">\n",
       "      <th></th>\n",
       "      <th>Value</th>\n",
       "      <th>Train_accuracy</th>\n",
       "      <th>Valid_accuracy</th>\n",
       "    </tr>\n",
       "  </thead>\n",
       "  <tbody>\n",
       "    <tr>\n",
       "      <th>27</th>\n",
       "      <td>28</td>\n",
       "      <td>0.997925</td>\n",
       "      <td>0.813375</td>\n",
       "    </tr>\n",
       "    <tr>\n",
       "      <th>12</th>\n",
       "      <td>13</td>\n",
       "      <td>0.986515</td>\n",
       "      <td>0.811820</td>\n",
       "    </tr>\n",
       "    <tr>\n",
       "      <th>11</th>\n",
       "      <td>12</td>\n",
       "      <td>0.983402</td>\n",
       "      <td>0.810264</td>\n",
       "    </tr>\n",
       "  </tbody>\n",
       "</table>\n",
       "</div>"
      ],
      "text/plain": [
       "    Value  Train_accuracy  Valid_accuracy\n",
       "27     28        0.997925        0.813375\n",
       "12     13        0.986515        0.811820\n",
       "11     12        0.983402        0.810264"
      ]
     },
     "execution_count": 23,
     "metadata": {},
     "output_type": "execute_result"
    }
   ],
   "source": [
    "df_forest.sort_values(by='Valid_accuracy', ascending=False).head(3)"
   ]
  },
  {
   "attachments": {},
   "cell_type": "markdown",
   "metadata": {},
   "source": [
    "Самое высокое качество модели при 28 деревьях. Но это количество достаточно высокое, а оценка не намного выше, чем при 13 деревьях. После 28 деревьев значения оценки модели выходят на плато и колеблются в пределах погрешности. Это значит, что увеличение количества деревьев не приведет ни к чему кроме замедления работы.\n",
    "\n",
    "Можно сказать, что, несмотря на то, что 13 деревьев не дают самое высокое значение оценки точности, они являются самым оптимальным решением случайного леса. "
   ]
  },
  {
   "attachments": {},
   "cell_type": "markdown",
   "metadata": {},
   "source": [
    "### Логистическая регрессия"
   ]
  },
  {
   "cell_type": "code",
   "execution_count": 24,
   "metadata": {},
   "outputs": [
    {
     "data": {
      "text/plain": [
       "0.3"
      ]
     },
     "metadata": {},
     "output_type": "display_data"
    }
   ],
   "source": [
    "display((df['is_ultra'].sum() / df['is_ultra'].count()).round(1)) #количество клиентов ультра к общему числу пользователей"
   ]
  },
  {
   "attachments": {},
   "cell_type": "markdown",
   "metadata": {},
   "source": [
    "Мы посчитали количество единиц в столбце `is_ultra` исходного датасета. Их около 30%. Для логистической регрессии есть параметр `class_weight`, который регулирует вес класса. Т.к. класса 1 меньше в 3 раза, чем класса 0, попробуем их сбалансировать."
   ]
  },
  {
   "cell_type": "code",
   "execution_count": 34,
   "metadata": {},
   "outputs": [
    {
     "data": {
      "text/plain": [
       "0.39035769828926903"
      ]
     },
     "execution_count": 34,
     "metadata": {},
     "output_type": "execute_result"
    }
   ],
   "source": [
    "model_regression = LogisticRegression( #логистическая регрессия (для категориальных данных)\n",
    "    random_state=100, \n",
    "    solver='lbfgs', #решатель, алгоритм, который строит модель. по умолчанию (можно не указывать)\n",
    "    C=1.0, #обратная сила регуляризации. по умолчанию (можно не указывать)\n",
    "    penalty='l2', #штраф. по умолчанию (можно не указывать)\n",
    "    class_weight={0:0.3, 1:0.7},\n",
    "    max_iter=1000) #максимальное количество итераций 1000, \n",
    "model_regression.fit(features_train, target_train) #обучение модели на тренировочных данных\n",
    "model_regression.score(features_valid, target_valid) #качество методом score на основе предсказанных данных и \n",
    "#целевого признака валидационной выборки"
   ]
  },
  {
   "attachments": {},
   "cell_type": "markdown",
   "metadata": {},
   "source": [
    "Параметр `solver='lbfgs'` - это алгоритм, по которому строится модель. Он идет по умолчанию и показывает довольно высокое значение. Оставляем его.\n",
    "\n",
    "Параметр `C` в регрессии - положительный с типа `float`, при маленьких значениях, показывает худший результат.\n",
    "\n",
    "Параметр `penalty='l2'` идет по умолчанию к параметру `solver='lbfgs'`. Параметр `solver='lbfgs'` может принимать значения `penalty='l2'` и `penalty='none'`."
   ]
  },
  {
   "attachments": {},
   "cell_type": "markdown",
   "metadata": {},
   "source": [
    "Получилось очень низкое значение `accuracy`. Вернем значение по умолчанию."
   ]
  },
  {
   "cell_type": "code",
   "execution_count": 36,
   "metadata": {},
   "outputs": [
    {
     "data": {
      "text/plain": [
       "0.7573872472783826"
      ]
     },
     "execution_count": 36,
     "metadata": {},
     "output_type": "execute_result"
    }
   ],
   "source": [
    "model_regression = LogisticRegression( #логистическая регрессия (для категориальных данных)\n",
    "    random_state=100, \n",
    "    solver='lbfgs', #решатель, алгоритм, который строит модель. по умолчанию (можно не указывать)\n",
    "    C=1.0, #обратная сила регуляризации. по умолчанию (можно не указывать)\n",
    "    penalty='l2', #штраф. по умолчанию (можно не указывать)\n",
    "    class_weight=None,\n",
    "    max_iter=1000) #максимальное количество итераций 1000, \n",
    "model_regression.fit(features_train, target_train) #обучение модели на тренировочных данных\n",
    "model_regression.score(features_valid, target_valid) #качество методом score на основе предсказанных данных и \n",
    "#целевого признака валидационной выборки"
   ]
  },
  {
   "cell_type": "code",
   "execution_count": 37,
   "metadata": {},
   "outputs": [
    {
     "data": {
      "text/plain": [
       "array([[7.80476398e-05, 1.47259161e-03, 9.56581927e-03, 3.51660057e-05]])"
      ]
     },
     "execution_count": 37,
     "metadata": {},
     "output_type": "execute_result"
    }
   ],
   "source": [
    "model_regression.coef_ #значимость признаков"
   ]
  },
  {
   "attachments": {},
   "cell_type": "markdown",
   "metadata": {},
   "source": [
    "Таким образом, наибольшую значимость при обучении модели имеет количество сообщений, затем - количество минут и количество звонков. Нименьшее влияние имеет трафик.\n",
    "\n",
    "Ценность одной СМС для оценки тарифа равна:\n",
    "- около 122 звонков;\n",
    "- около 6.5 минут;\n",
    "- 272 МБ интернет трафика.\n",
    "\n",
    "Пример:"
   ]
  },
  {
   "cell_type": "code",
   "execution_count": 38,
   "metadata": {},
   "outputs": [
    {
     "data": {
      "text/plain": [
       "array([1], dtype=int64)"
      ]
     },
     "execution_count": 38,
     "metadata": {},
     "output_type": "execute_result"
    }
   ],
   "source": [
    "model_regression.predict([[0, 0, 1000, 0]]) #предсказываем с помощью лог.регрессии, какой тариф предложит сеть с 1000 СМС"
   ]
  },
  {
   "cell_type": "code",
   "execution_count": 39,
   "metadata": {},
   "outputs": [
    {
     "data": {
      "text/plain": [
       "array([0], dtype=int64)"
      ]
     },
     "execution_count": 39,
     "metadata": {},
     "output_type": "execute_result"
    }
   ],
   "source": [
    "model_regression.predict([[0, 1000, 0, 0]]) #предсказываем с помощью лог.регрессии, какой тариф предложит сеть с 1000 минут"
   ]
  },
  {
   "attachments": {},
   "cell_type": "markdown",
   "metadata": {},
   "source": [
    "- 1000 СМС приводит нас к тарифу \"Ультра\"\n",
    "- 1000 минут оставляет нас на тарифе \"Смарт\".\n",
    "\n",
    "Пока логистическая регрессия показывает худший результ из всех моделей."
   ]
  },
  {
   "attachments": {},
   "cell_type": "markdown",
   "metadata": {},
   "source": [
    "## Проверка лучшей модели на тестовой выборке"
   ]
  },
  {
   "attachments": {},
   "cell_type": "markdown",
   "metadata": {},
   "source": [
    "Проверим модель с наибольшим accuracy на тестовой выборке:\n",
    "- дерево решений с глубиной depth=3;"
   ]
  },
  {
   "attachments": {},
   "cell_type": "markdown",
   "metadata": {},
   "source": [
    "### Тестирование дерева решений"
   ]
  },
  {
   "attachments": {},
   "cell_type": "markdown",
   "metadata": {},
   "source": [
    "Создаем модель с глубиной дерева `depth=3`, обучаем ее на тренировочной выборке, предсказывсаем по обученной модели целевой признак и сравниваем его с тестовым целевым признаком"
   ]
  },
  {
   "cell_type": "code",
   "execution_count": 40,
   "metadata": {
    "scrolled": true
   },
   "outputs": [
    {
     "data": {
      "text/plain": [
       "0.7651632970451011"
      ]
     },
     "execution_count": 40,
     "metadata": {},
     "output_type": "execute_result"
    }
   ],
   "source": [
    "model_trees = DecisionTreeClassifier(random_state=100, max_depth=3) #модель дерева решений с заданной глубиной\n",
    "model_trees.fit(features_train, target_train) #обучение модели на тренировочной выборке\n",
    "predictions_trees_test = model_trees.predict(features_test) #предсказание целевого признака на основе тестовых признаков\n",
    "accuracy_test_trees = accuracy_score(target_test, predictions_trees_test) #сравнение реального целевого с предсказанным\n",
    "accuracy_test_trees #вывод результата"
   ]
  },
  {
   "attachments": {},
   "cell_type": "markdown",
   "metadata": {},
   "source": [
    "Accuracy дерева решений с `depth=3` для тестовой выборки равен `0.7651632970451011`"
   ]
  },
  {
   "attachments": {},
   "cell_type": "markdown",
   "metadata": {},
   "source": [
    "### Precision, recall"
   ]
  },
  {
   "attachments": {},
   "cell_type": "markdown",
   "metadata": {},
   "source": [
    "Оценим точность (precision) и полноту (recall) полученных данных."
   ]
  },
  {
   "cell_type": "code",
   "execution_count": 41,
   "metadata": {},
   "outputs": [
    {
     "name": "stdout",
     "output_type": "stream",
     "text": [
      "[[412  35]\n",
      " [116  80]]\n",
      "              precision    recall  f1-score   support\n",
      "\n",
      "           0      0.780     0.922     0.845       447\n",
      "           1      0.696     0.408     0.514       196\n",
      "\n",
      "    accuracy                          0.765       643\n",
      "   macro avg      0.738     0.665     0.680       643\n",
      "weighted avg      0.754     0.765     0.744       643\n",
      "\n"
     ]
    }
   ],
   "source": [
    "print(metrics.confusion_matrix(target_test, predictions_trees_test));\n",
    "\n",
    "# Print the precision and recall, among other metrics\n",
    "print(metrics.classification_report(target_test, predictions_trees_test, digits=3))"
   ]
  },
  {
   "attachments": {},
   "cell_type": "markdown",
   "metadata": {},
   "source": [
    "Мы видим, что precision для каждого класса довольно высокий (значит, модель делает достаточно корректных предсказаний класса Positive и, в то же время, меньше неверных Positive классификаций для каждого класса), но 1 предсказываются хуже (в т.ч. потому что их в 2,5 раа меньше.\n",
    "\n",
    "По recall видно, что имеются некоторые проблемы с угадыванием 1 (т.е. слишком большое количество ложноотрицательных значений).\n",
    "\n",
    "- macro avg считает метрики каждого класса и находит их \"невзвешенное\" среднее;\n",
    "- weighted avg считает метрики каждого класса и находит их \"взвешенное\" среднее - считает дисбаланс классов."
   ]
  },
  {
   "attachments": {},
   "cell_type": "markdown",
   "metadata": {},
   "source": [
    "## Проверка модели на адекватность"
   ]
  },
  {
   "attachments": {},
   "cell_type": "markdown",
   "metadata": {},
   "source": [
    "Для бизнеса, более устойчивой и наиболее стабильной моделью является случайный лес. Но в то же время, она показала меньший результат, чем дерево решений. В то же время, на расчет леса тратится много ресурсов. \n",
    "\n",
    "В текущем проекте именно модель дерева решений должна анализировать пользователей архивных тарифов, чтобы предложить им новые условия, т.к. эта модель показала самый высокий результат `accuracy` для валидационной выборки и успешно прошла проверку на тестовой выборке."
   ]
  },
  {
   "cell_type": "code",
   "execution_count": 42,
   "metadata": {},
   "outputs": [
    {
     "data": {
      "text/plain": [
       "0.6939834024896265"
      ]
     },
     "execution_count": 42,
     "metadata": {},
     "output_type": "execute_result"
    }
   ],
   "source": [
    "dummy_clf = DummyClassifier(strategy='most_frequent', random_state=100) #создание baseline модели - наиболее часто встречающееся\n",
    "dummy_clf.fit(features_train, target_train) #обучение модели\n",
    "dummy_clf.score(features_train, target_train) #подсчет результата"
   ]
  },
  {
   "attachments": {},
   "cell_type": "markdown",
   "metadata": {},
   "source": [
    "Проверяем, как себя ведет `accuracy` при предсказывании тестовых значений на основе модели, обученной на обучающих данных с помощью стратегии наибольшей частоты модуля `DummyClassifier`.\n",
    "\n",
    "Значение accuracy baseline оказалось меньше, чем значение для моделей, в т.ч. дерева решений. Значит модели прошли проверку на вменяемость."
   ]
  },
  {
   "attachments": {},
   "cell_type": "markdown",
   "metadata": {},
   "source": [
    "## Выводы"
   ]
  },
  {
   "attachments": {},
   "cell_type": "markdown",
   "metadata": {},
   "source": [
    "В проекте мы научились рабивать исходные данные на несколько выборок, для того, чтобы по этим выборкам мы могли обучать модель, предсказывать значения и проверять их. \n",
    "\n",
    "Было исследовано несколько моделей для машинного обучения, таких как:\n",
    "- Дерево решений, в т.ч. при изменении самого важного гиперпараметра `depht`, от которого зависит результат обучения. Будет ли модель переучена или недоучена. Боло получено самое высокое значение качества, которое выше порогового 0,75. `Accuracy > 0,75`\n",
    "- Случайный лес, в котором мы подбирали оптимальное значение параметра `n_estimators`, от которого зависит качество, но, в то же время, зависит и время/ресурсозатратность получения этой оценки. Получено высокое значение качества для модели, но в ущерб скорости работы. `Accuracy > 0,75`\n",
    "- Логистическая регрессия, которая показала себя хуже остальных моделей в предсказании, но имеет массу преимуществ, таких как: устойчивость к переобучению, высокая скорость работы. Пороговое начение качества не достигнуто для тестовой выборки, `accuracy < 0,75`."
   ]
  }
 ],
 "metadata": {
  "ExecuteTimeLog": [
   {
    "duration": 356,
    "start_time": "2022-11-07T09:50:53.848Z"
   },
   {
    "duration": 104,
    "start_time": "2022-11-07T09:52:18.029Z"
   },
   {
    "duration": 83,
    "start_time": "2022-11-07T09:52:28.451Z"
   },
   {
    "duration": 30,
    "start_time": "2022-11-07T09:52:34.477Z"
   },
   {
    "duration": 38,
    "start_time": "2022-11-07T09:52:56.598Z"
   },
   {
    "duration": 33,
    "start_time": "2022-11-07T09:53:02.127Z"
   },
   {
    "duration": 40,
    "start_time": "2022-11-07T09:53:17.782Z"
   },
   {
    "duration": 12,
    "start_time": "2022-11-07T09:53:34.925Z"
   },
   {
    "duration": 39,
    "start_time": "2022-11-07T09:53:41.621Z"
   },
   {
    "duration": 4,
    "start_time": "2022-11-07T09:59:08.750Z"
   },
   {
    "duration": 5,
    "start_time": "2022-11-07T09:59:18.774Z"
   },
   {
    "duration": 4,
    "start_time": "2022-11-07T09:59:30.800Z"
   },
   {
    "duration": 4,
    "start_time": "2022-11-07T09:59:35.823Z"
   },
   {
    "duration": 7,
    "start_time": "2022-11-07T10:00:27.543Z"
   },
   {
    "duration": 7,
    "start_time": "2022-11-07T10:01:05.488Z"
   },
   {
    "duration": 8,
    "start_time": "2022-11-07T10:01:11.024Z"
   },
   {
    "duration": 6,
    "start_time": "2022-11-07T10:01:48.752Z"
   },
   {
    "duration": 74,
    "start_time": "2022-11-07T10:02:04.912Z"
   },
   {
    "duration": 7,
    "start_time": "2022-11-07T10:02:52.936Z"
   },
   {
    "duration": 5,
    "start_time": "2022-11-07T10:03:01.473Z"
   },
   {
    "duration": 6,
    "start_time": "2022-11-07T10:03:07.056Z"
   },
   {
    "duration": 8,
    "start_time": "2022-11-07T10:06:26.473Z"
   },
   {
    "duration": 1101,
    "start_time": "2022-11-07T10:11:53.090Z"
   },
   {
    "duration": 1131,
    "start_time": "2022-11-07T10:12:35.819Z"
   },
   {
    "duration": 2,
    "start_time": "2022-11-07T10:12:40.834Z"
   },
   {
    "duration": 39,
    "start_time": "2022-11-07T10:12:40.838Z"
   },
   {
    "duration": 13,
    "start_time": "2022-11-07T10:12:40.879Z"
   },
   {
    "duration": 7,
    "start_time": "2022-11-07T10:12:40.894Z"
   },
   {
    "duration": 5,
    "start_time": "2022-11-07T10:12:40.903Z"
   },
   {
    "duration": 1225,
    "start_time": "2022-11-07T10:12:42.394Z"
   },
   {
    "duration": 1157,
    "start_time": "2022-11-07T10:13:41.692Z"
   },
   {
    "duration": 3,
    "start_time": "2022-11-07T10:13:58.844Z"
   },
   {
    "duration": 7,
    "start_time": "2022-11-07T10:14:22.459Z"
   },
   {
    "duration": 3,
    "start_time": "2022-11-07T10:14:32.803Z"
   },
   {
    "duration": 5,
    "start_time": "2022-11-07T10:14:45.839Z"
   },
   {
    "duration": 13,
    "start_time": "2022-11-07T10:14:59.849Z"
   },
   {
    "duration": 1020,
    "start_time": "2022-11-08T09:11:50.988Z"
   },
   {
    "duration": 72,
    "start_time": "2022-11-08T09:11:52.010Z"
   },
   {
    "duration": 17,
    "start_time": "2022-11-08T09:11:53.498Z"
   },
   {
    "duration": 5,
    "start_time": "2022-11-08T09:11:57.986Z"
   },
   {
    "duration": 6,
    "start_time": "2022-11-08T09:11:58.674Z"
   },
   {
    "duration": 11,
    "start_time": "2022-11-08T09:11:59.978Z"
   },
   {
    "duration": 5,
    "start_time": "2022-11-08T09:15:34.714Z"
   },
   {
    "duration": 12,
    "start_time": "2022-11-08T09:15:45.437Z"
   },
   {
    "duration": 12,
    "start_time": "2022-11-08T09:15:54.550Z"
   },
   {
    "duration": 12,
    "start_time": "2022-11-08T09:15:58.771Z"
   },
   {
    "duration": 15,
    "start_time": "2022-11-08T09:16:15.660Z"
   },
   {
    "duration": 89,
    "start_time": "2022-11-08T09:18:41.540Z"
   },
   {
    "duration": 5,
    "start_time": "2022-11-08T09:18:45.211Z"
   },
   {
    "duration": 86,
    "start_time": "2022-11-08T09:18:45.603Z"
   },
   {
    "duration": 14,
    "start_time": "2022-11-08T09:18:47.037Z"
   },
   {
    "duration": 5,
    "start_time": "2022-11-08T09:18:53.348Z"
   },
   {
    "duration": 95,
    "start_time": "2022-11-08T09:18:54.171Z"
   },
   {
    "duration": 14,
    "start_time": "2022-11-08T09:18:55.004Z"
   },
   {
    "duration": 4,
    "start_time": "2022-11-08T09:21:17.445Z"
   },
   {
    "duration": 3,
    "start_time": "2022-11-08T09:21:31.347Z"
   },
   {
    "duration": 35,
    "start_time": "2022-11-08T09:21:31.351Z"
   },
   {
    "duration": 11,
    "start_time": "2022-11-08T09:21:31.387Z"
   },
   {
    "duration": 12,
    "start_time": "2022-11-08T09:21:31.400Z"
   },
   {
    "duration": 13,
    "start_time": "2022-11-08T09:21:31.414Z"
   },
   {
    "duration": 19,
    "start_time": "2022-11-08T09:21:31.436Z"
   },
   {
    "duration": 9,
    "start_time": "2022-11-08T09:21:31.457Z"
   },
   {
    "duration": 13,
    "start_time": "2022-11-08T09:21:31.467Z"
   },
   {
    "duration": 19,
    "start_time": "2022-11-08T09:21:31.482Z"
   },
   {
    "duration": 17,
    "start_time": "2022-11-08T09:21:31.502Z"
   },
   {
    "duration": 12,
    "start_time": "2022-11-08T09:21:34.164Z"
   },
   {
    "duration": 12,
    "start_time": "2022-11-08T09:21:36.387Z"
   },
   {
    "duration": 4,
    "start_time": "2022-11-08T09:21:43.388Z"
   },
   {
    "duration": 13,
    "start_time": "2022-11-08T09:21:43.556Z"
   },
   {
    "duration": 15,
    "start_time": "2022-11-08T09:21:43.724Z"
   },
   {
    "duration": 12,
    "start_time": "2022-11-08T09:21:44.260Z"
   },
   {
    "duration": 70,
    "start_time": "2022-11-08T09:41:18.984Z"
   },
   {
    "duration": 46,
    "start_time": "2022-11-08T09:46:17.048Z"
   },
   {
    "duration": 3,
    "start_time": "2022-11-08T09:51:57.053Z"
   },
   {
    "duration": 33,
    "start_time": "2022-11-08T09:51:57.058Z"
   },
   {
    "duration": 12,
    "start_time": "2022-11-08T09:51:57.093Z"
   },
   {
    "duration": 13,
    "start_time": "2022-11-08T09:51:57.107Z"
   },
   {
    "duration": 5,
    "start_time": "2022-11-08T09:51:57.121Z"
   },
   {
    "duration": 13,
    "start_time": "2022-11-08T09:51:57.128Z"
   },
   {
    "duration": 4,
    "start_time": "2022-11-08T09:51:58.609Z"
   },
   {
    "duration": 2,
    "start_time": "2022-11-08T09:53:35.638Z"
   },
   {
    "duration": 37,
    "start_time": "2022-11-08T09:53:35.643Z"
   },
   {
    "duration": 11,
    "start_time": "2022-11-08T09:53:35.682Z"
   },
   {
    "duration": 11,
    "start_time": "2022-11-08T09:53:35.695Z"
   },
   {
    "duration": 4,
    "start_time": "2022-11-08T09:53:35.707Z"
   },
   {
    "duration": 5,
    "start_time": "2022-11-08T09:53:35.713Z"
   },
   {
    "duration": 5,
    "start_time": "2022-11-08T09:53:35.720Z"
   },
   {
    "duration": 78,
    "start_time": "2022-11-08T10:02:25.579Z"
   },
   {
    "duration": 72,
    "start_time": "2022-11-08T10:03:03.884Z"
   },
   {
    "duration": 18,
    "start_time": "2022-11-08T10:03:18.707Z"
   },
   {
    "duration": 65,
    "start_time": "2022-11-08T10:03:21.531Z"
   },
   {
    "duration": 67,
    "start_time": "2022-11-08T10:03:55.204Z"
   },
   {
    "duration": 72,
    "start_time": "2022-11-08T10:04:26.405Z"
   },
   {
    "duration": 73,
    "start_time": "2022-11-08T10:04:36.420Z"
   },
   {
    "duration": 124,
    "start_time": "2022-11-08T10:04:42.227Z"
   },
   {
    "duration": 92,
    "start_time": "2022-11-08T10:04:48.972Z"
   },
   {
    "duration": 98,
    "start_time": "2022-11-08T10:04:57.076Z"
   },
   {
    "duration": 105,
    "start_time": "2022-11-08T10:05:21.773Z"
   },
   {
    "duration": 105,
    "start_time": "2022-11-08T10:05:28.060Z"
   },
   {
    "duration": 270,
    "start_time": "2022-11-08T10:06:08.061Z"
   },
   {
    "duration": 17,
    "start_time": "2022-11-08T10:13:09.990Z"
   },
   {
    "duration": 12,
    "start_time": "2022-11-08T10:17:30.144Z"
   },
   {
    "duration": 16,
    "start_time": "2022-11-08T10:17:37.623Z"
   },
   {
    "duration": 16,
    "start_time": "2022-11-08T10:17:40.296Z"
   },
   {
    "duration": 16,
    "start_time": "2022-11-08T10:17:42.759Z"
   },
   {
    "duration": 21,
    "start_time": "2022-11-08T10:17:45.623Z"
   },
   {
    "duration": 17,
    "start_time": "2022-11-08T10:17:52.519Z"
   },
   {
    "duration": 18,
    "start_time": "2022-11-08T10:17:56.119Z"
   },
   {
    "duration": 15,
    "start_time": "2022-11-08T10:17:58.888Z"
   },
   {
    "duration": 16,
    "start_time": "2022-11-08T10:18:02.159Z"
   },
   {
    "duration": 16,
    "start_time": "2022-11-08T10:18:04.784Z"
   },
   {
    "duration": 16,
    "start_time": "2022-11-08T10:18:11.071Z"
   },
   {
    "duration": 3,
    "start_time": "2022-11-08T10:25:27.616Z"
   },
   {
    "duration": 37,
    "start_time": "2022-11-08T10:25:27.621Z"
   },
   {
    "duration": 12,
    "start_time": "2022-11-08T10:25:27.659Z"
   },
   {
    "duration": 15,
    "start_time": "2022-11-08T10:25:27.673Z"
   },
   {
    "duration": 4,
    "start_time": "2022-11-08T10:25:27.689Z"
   },
   {
    "duration": 5,
    "start_time": "2022-11-08T10:25:27.695Z"
   },
   {
    "duration": 7,
    "start_time": "2022-11-08T10:25:29.897Z"
   },
   {
    "duration": 17,
    "start_time": "2022-11-08T10:25:32.848Z"
   },
   {
    "duration": 14,
    "start_time": "2022-11-08T10:25:47.865Z"
   },
   {
    "duration": 1085,
    "start_time": "2022-11-08T10:26:06.998Z"
   },
   {
    "duration": 34,
    "start_time": "2022-11-08T10:26:08.084Z"
   },
   {
    "duration": 21,
    "start_time": "2022-11-08T10:26:08.119Z"
   },
   {
    "duration": 20,
    "start_time": "2022-11-08T10:26:08.142Z"
   },
   {
    "duration": 3,
    "start_time": "2022-11-08T10:26:08.164Z"
   },
   {
    "duration": 21,
    "start_time": "2022-11-08T10:26:08.169Z"
   },
   {
    "duration": 26,
    "start_time": "2022-11-08T10:26:08.192Z"
   },
   {
    "duration": 105,
    "start_time": "2022-11-08T10:26:08.219Z"
   },
   {
    "duration": 0,
    "start_time": "2022-11-08T10:26:08.325Z"
   },
   {
    "duration": 0,
    "start_time": "2022-11-08T10:26:08.326Z"
   },
   {
    "duration": 10,
    "start_time": "2022-11-08T10:28:41.346Z"
   },
   {
    "duration": 18,
    "start_time": "2022-11-08T10:30:30.850Z"
   },
   {
    "duration": 16,
    "start_time": "2022-11-08T10:30:47.201Z"
   },
   {
    "duration": 7,
    "start_time": "2022-11-08T10:32:19.363Z"
   },
   {
    "duration": 12,
    "start_time": "2022-11-08T10:36:12.820Z"
   },
   {
    "duration": 271,
    "start_time": "2022-11-08T10:36:37.028Z"
   },
   {
    "duration": 235,
    "start_time": "2022-11-08T10:37:28.380Z"
   },
   {
    "duration": 236,
    "start_time": "2022-11-08T10:37:34.836Z"
   },
   {
    "duration": 13,
    "start_time": "2022-11-08T10:39:46.185Z"
   },
   {
    "duration": 13,
    "start_time": "2022-11-08T10:42:01.309Z"
   },
   {
    "duration": 329,
    "start_time": "2022-11-08T10:43:08.110Z"
   },
   {
    "duration": 236,
    "start_time": "2022-11-08T10:43:34.365Z"
   },
   {
    "duration": 238,
    "start_time": "2022-11-08T10:43:55.869Z"
   },
   {
    "duration": 317,
    "start_time": "2022-11-08T10:44:39.910Z"
   },
   {
    "duration": 243,
    "start_time": "2022-11-08T10:47:25.961Z"
   },
   {
    "duration": 245,
    "start_time": "2022-11-08T10:51:03.511Z"
   },
   {
    "duration": 260,
    "start_time": "2022-11-08T10:51:15.735Z"
   },
   {
    "duration": 235,
    "start_time": "2022-11-08T10:52:40.241Z"
   },
   {
    "duration": 4,
    "start_time": "2022-11-08T11:06:55.777Z"
   },
   {
    "duration": 7,
    "start_time": "2022-11-08T11:06:59.009Z"
   },
   {
    "duration": 232,
    "start_time": "2022-11-08T11:07:25.154Z"
   },
   {
    "duration": 242,
    "start_time": "2022-11-08T11:07:56.347Z"
   },
   {
    "duration": 8,
    "start_time": "2022-11-08T11:08:30.474Z"
   },
   {
    "duration": 9,
    "start_time": "2022-11-08T11:08:35.370Z"
   },
   {
    "duration": 8,
    "start_time": "2022-11-08T11:09:20.930Z"
   },
   {
    "duration": 4,
    "start_time": "2022-11-08T11:12:05.971Z"
   },
   {
    "duration": 2,
    "start_time": "2022-11-08T11:12:09.532Z"
   },
   {
    "duration": 3,
    "start_time": "2022-11-08T11:12:14.667Z"
   },
   {
    "duration": 233,
    "start_time": "2022-11-08T11:15:04.500Z"
   },
   {
    "duration": 4,
    "start_time": "2022-11-08T11:15:38.676Z"
   },
   {
    "duration": 4,
    "start_time": "2022-11-08T11:15:44.787Z"
   },
   {
    "duration": 9,
    "start_time": "2022-11-08T11:15:44.931Z"
   },
   {
    "duration": 12,
    "start_time": "2022-11-08T11:23:38.151Z"
   },
   {
    "duration": 438,
    "start_time": "2022-11-08T11:24:06.025Z"
   },
   {
    "duration": 32,
    "start_time": "2022-11-08T11:24:06.465Z"
   },
   {
    "duration": 13,
    "start_time": "2022-11-08T11:24:06.499Z"
   },
   {
    "duration": 15,
    "start_time": "2022-11-08T11:24:06.514Z"
   },
   {
    "duration": 5,
    "start_time": "2022-11-08T11:24:06.531Z"
   },
   {
    "duration": 8,
    "start_time": "2022-11-08T11:24:06.538Z"
   },
   {
    "duration": 8,
    "start_time": "2022-11-08T11:24:06.548Z"
   },
   {
    "duration": 25,
    "start_time": "2022-11-08T11:24:06.558Z"
   },
   {
    "duration": 8,
    "start_time": "2022-11-08T11:24:06.584Z"
   },
   {
    "duration": 262,
    "start_time": "2022-11-08T11:24:06.594Z"
   },
   {
    "duration": 243,
    "start_time": "2022-11-08T11:24:06.857Z"
   },
   {
    "duration": 2,
    "start_time": "2022-11-08T11:24:07.102Z"
   },
   {
    "duration": 11,
    "start_time": "2022-11-08T11:24:07.106Z"
   },
   {
    "duration": 12,
    "start_time": "2022-11-08T11:24:07.118Z"
   },
   {
    "duration": 186,
    "start_time": "2022-11-08T11:24:07.131Z"
   },
   {
    "duration": 161,
    "start_time": "2022-11-08T11:24:57.728Z"
   },
   {
    "duration": 143,
    "start_time": "2022-11-08T11:25:32.985Z"
   },
   {
    "duration": 237,
    "start_time": "2022-11-08T11:25:39.768Z"
   },
   {
    "duration": 140,
    "start_time": "2022-11-08T11:25:43.368Z"
   },
   {
    "duration": 131,
    "start_time": "2022-11-08T11:25:45.864Z"
   },
   {
    "duration": 142,
    "start_time": "2022-11-08T11:25:50.072Z"
   },
   {
    "duration": 154,
    "start_time": "2022-11-08T11:26:02.840Z"
   },
   {
    "duration": 165,
    "start_time": "2022-11-08T11:26:08.728Z"
   },
   {
    "duration": 136,
    "start_time": "2022-11-08T11:26:31.921Z"
   },
   {
    "duration": 135,
    "start_time": "2022-11-08T11:26:52.961Z"
   },
   {
    "duration": 141,
    "start_time": "2022-11-08T11:26:56.585Z"
   },
   {
    "duration": 3,
    "start_time": "2022-11-08T11:27:01.713Z"
   },
   {
    "duration": 47,
    "start_time": "2022-11-08T11:27:01.718Z"
   },
   {
    "duration": 11,
    "start_time": "2022-11-08T11:27:01.767Z"
   },
   {
    "duration": 62,
    "start_time": "2022-11-08T11:27:01.780Z"
   },
   {
    "duration": 17,
    "start_time": "2022-11-08T11:27:01.845Z"
   },
   {
    "duration": 26,
    "start_time": "2022-11-08T11:27:01.863Z"
   },
   {
    "duration": 24,
    "start_time": "2022-11-08T11:27:01.890Z"
   },
   {
    "duration": 50,
    "start_time": "2022-11-08T11:27:01.915Z"
   },
   {
    "duration": 39,
    "start_time": "2022-11-08T11:27:01.967Z"
   },
   {
    "duration": 292,
    "start_time": "2022-11-08T11:27:02.008Z"
   },
   {
    "duration": 241,
    "start_time": "2022-11-08T11:27:02.302Z"
   },
   {
    "duration": 3,
    "start_time": "2022-11-08T11:27:02.545Z"
   },
   {
    "duration": 6,
    "start_time": "2022-11-08T11:27:02.550Z"
   },
   {
    "duration": 13,
    "start_time": "2022-11-08T11:27:02.557Z"
   },
   {
    "duration": 9,
    "start_time": "2022-11-08T11:27:04.280Z"
   },
   {
    "duration": 136,
    "start_time": "2022-11-08T11:27:04.673Z"
   },
   {
    "duration": 301,
    "start_time": "2022-11-08T11:27:15.040Z"
   },
   {
    "duration": 169,
    "start_time": "2022-11-08T11:27:35.793Z"
   },
   {
    "duration": 167,
    "start_time": "2022-11-08T11:28:21.514Z"
   },
   {
    "duration": 341,
    "start_time": "2022-11-08T11:29:03.472Z"
   },
   {
    "duration": 264,
    "start_time": "2022-11-08T11:29:12.833Z"
   },
   {
    "duration": 163,
    "start_time": "2022-11-08T11:29:21.713Z"
   },
   {
    "duration": 249,
    "start_time": "2022-11-08T11:29:29.121Z"
   },
   {
    "duration": 169,
    "start_time": "2022-11-08T11:29:43.338Z"
   },
   {
    "duration": 258,
    "start_time": "2022-11-08T11:29:46.418Z"
   },
   {
    "duration": 278,
    "start_time": "2022-11-08T11:30:11.450Z"
   },
   {
    "duration": 273,
    "start_time": "2022-11-08T11:30:21.578Z"
   },
   {
    "duration": 253,
    "start_time": "2022-11-08T11:30:27.250Z"
   },
   {
    "duration": 254,
    "start_time": "2022-11-08T11:30:33.450Z"
   },
   {
    "duration": 215,
    "start_time": "2022-11-08T11:30:40.521Z"
   },
   {
    "duration": 180,
    "start_time": "2022-11-08T11:30:49.946Z"
   },
   {
    "duration": 72,
    "start_time": "2022-11-08T11:31:09.033Z"
   },
   {
    "duration": 75,
    "start_time": "2022-11-08T11:31:28.306Z"
   },
   {
    "duration": 228,
    "start_time": "2022-11-08T11:31:33.730Z"
   },
   {
    "duration": 159,
    "start_time": "2022-11-08T11:31:36.556Z"
   },
   {
    "duration": 71,
    "start_time": "2022-11-08T11:31:44.209Z"
   },
   {
    "duration": 179,
    "start_time": "2022-11-08T11:31:51.817Z"
   },
   {
    "duration": 169,
    "start_time": "2022-11-08T11:32:29.411Z"
   },
   {
    "duration": 161,
    "start_time": "2022-11-08T11:32:32.450Z"
   },
   {
    "duration": 164,
    "start_time": "2022-11-08T11:32:57.634Z"
   },
   {
    "duration": 188,
    "start_time": "2022-11-08T11:33:55.493Z"
   },
   {
    "duration": 339,
    "start_time": "2022-11-08T11:34:59.883Z"
   },
   {
    "duration": 218,
    "start_time": "2022-11-08T11:35:33.851Z"
   },
   {
    "duration": 186,
    "start_time": "2022-11-08T11:35:46.115Z"
   },
   {
    "duration": 195,
    "start_time": "2022-11-08T11:35:55.291Z"
   },
   {
    "duration": 193,
    "start_time": "2022-11-08T11:36:00.124Z"
   },
   {
    "duration": 278,
    "start_time": "2022-11-08T11:36:06.815Z"
   },
   {
    "duration": 214,
    "start_time": "2022-11-08T11:36:45.549Z"
   },
   {
    "duration": 78,
    "start_time": "2022-11-08T11:36:54.723Z"
   },
   {
    "duration": 186,
    "start_time": "2022-11-08T11:36:57.972Z"
   },
   {
    "duration": 182,
    "start_time": "2022-11-08T11:37:02.908Z"
   },
   {
    "duration": 207,
    "start_time": "2022-11-08T11:37:13.510Z"
   },
   {
    "duration": 204,
    "start_time": "2022-11-08T11:38:12.268Z"
   },
   {
    "duration": 177,
    "start_time": "2022-11-08T11:38:16.612Z"
   },
   {
    "duration": 190,
    "start_time": "2022-11-08T11:38:50.629Z"
   },
   {
    "duration": 249,
    "start_time": "2022-11-08T11:39:40.435Z"
   },
   {
    "duration": 196,
    "start_time": "2022-11-08T11:39:50.340Z"
   },
   {
    "duration": 246,
    "start_time": "2022-11-08T11:39:55.708Z"
   },
   {
    "duration": 99,
    "start_time": "2022-11-08T11:40:12.589Z"
   },
   {
    "duration": 300,
    "start_time": "2022-11-08T11:41:12.483Z"
   },
   {
    "duration": 198,
    "start_time": "2022-11-08T11:41:21.989Z"
   },
   {
    "duration": 203,
    "start_time": "2022-11-08T11:41:41.900Z"
   },
   {
    "duration": 9,
    "start_time": "2022-11-08T11:44:15.382Z"
   },
   {
    "duration": 220,
    "start_time": "2022-11-08T11:46:15.382Z"
   },
   {
    "duration": 67,
    "start_time": "2022-11-08T11:50:58.655Z"
   },
   {
    "duration": 7,
    "start_time": "2022-11-08T11:51:02.735Z"
   },
   {
    "duration": 6,
    "start_time": "2022-11-08T11:51:23.079Z"
   },
   {
    "duration": 9,
    "start_time": "2022-11-08T11:51:44.191Z"
   },
   {
    "duration": 70,
    "start_time": "2022-11-08T11:52:28.599Z"
   },
   {
    "duration": 4,
    "start_time": "2022-11-08T11:53:01.391Z"
   },
   {
    "duration": 3,
    "start_time": "2022-11-08T11:54:51.455Z"
   },
   {
    "duration": 83,
    "start_time": "2022-11-08T11:55:46.288Z"
   },
   {
    "duration": 4,
    "start_time": "2022-11-08T11:55:55.799Z"
   },
   {
    "duration": 290,
    "start_time": "2022-11-08T12:00:35.632Z"
   },
   {
    "duration": 240,
    "start_time": "2022-11-08T12:00:40.648Z"
   },
   {
    "duration": 2,
    "start_time": "2022-11-08T12:00:44.718Z"
   },
   {
    "duration": 3,
    "start_time": "2022-11-08T12:00:46.775Z"
   },
   {
    "duration": 9,
    "start_time": "2022-11-08T12:00:46.976Z"
   },
   {
    "duration": 8,
    "start_time": "2022-11-08T12:00:53.131Z"
   },
   {
    "duration": 69,
    "start_time": "2022-11-08T12:01:03.913Z"
   },
   {
    "duration": 80,
    "start_time": "2022-11-08T12:01:10.936Z"
   },
   {
    "duration": 70,
    "start_time": "2022-11-08T12:01:19.360Z"
   },
   {
    "duration": 100,
    "start_time": "2022-11-08T12:01:23.831Z"
   },
   {
    "duration": 67,
    "start_time": "2022-11-08T12:01:26.703Z"
   },
   {
    "duration": 69,
    "start_time": "2022-11-08T12:01:32.575Z"
   },
   {
    "duration": 103,
    "start_time": "2022-11-08T12:01:45.103Z"
   },
   {
    "duration": 193,
    "start_time": "2022-11-08T12:02:00.832Z"
   },
   {
    "duration": 72,
    "start_time": "2022-11-08T12:02:06.583Z"
   },
   {
    "duration": 193,
    "start_time": "2022-11-08T12:02:10.735Z"
   },
   {
    "duration": 264,
    "start_time": "2022-11-08T12:06:21.249Z"
   },
   {
    "duration": 238,
    "start_time": "2022-11-08T12:06:23.129Z"
   },
   {
    "duration": 2,
    "start_time": "2022-11-08T12:06:44.049Z"
   },
   {
    "duration": 3,
    "start_time": "2022-11-08T12:06:46.263Z"
   },
   {
    "duration": 3,
    "start_time": "2022-11-08T12:07:28.240Z"
   },
   {
    "duration": 9,
    "start_time": "2022-11-08T12:07:35.304Z"
   },
   {
    "duration": 193,
    "start_time": "2022-11-08T12:08:22.216Z"
   },
   {
    "duration": 4,
    "start_time": "2022-11-08T12:08:22.504Z"
   },
   {
    "duration": 212,
    "start_time": "2022-11-08T12:10:11.528Z"
   },
   {
    "duration": 206,
    "start_time": "2022-11-08T12:10:25.168Z"
   },
   {
    "duration": 194,
    "start_time": "2022-11-08T12:10:43.770Z"
   },
   {
    "duration": 106,
    "start_time": "2022-11-08T12:10:56.281Z"
   },
   {
    "duration": 207,
    "start_time": "2022-11-08T12:11:00.929Z"
   },
   {
    "duration": 196,
    "start_time": "2022-11-08T12:11:32.506Z"
   },
   {
    "duration": 5,
    "start_time": "2022-11-08T12:12:00.065Z"
   },
   {
    "duration": 5,
    "start_time": "2022-11-08T12:12:11.282Z"
   },
   {
    "duration": 5,
    "start_time": "2022-11-08T12:12:18.081Z"
   },
   {
    "duration": 4,
    "start_time": "2022-11-08T12:12:22.746Z"
   },
   {
    "duration": 5,
    "start_time": "2022-11-08T12:12:28.488Z"
   },
   {
    "duration": 5,
    "start_time": "2022-11-08T12:12:47.361Z"
   },
   {
    "duration": 3,
    "start_time": "2022-11-08T12:16:27.033Z"
   },
   {
    "duration": 10,
    "start_time": "2022-11-08T12:39:27.103Z"
   },
   {
    "duration": 12,
    "start_time": "2022-11-08T12:39:31.877Z"
   },
   {
    "duration": 36,
    "start_time": "2022-11-08T12:39:31.891Z"
   },
   {
    "duration": 12,
    "start_time": "2022-11-08T12:39:31.928Z"
   },
   {
    "duration": 10,
    "start_time": "2022-11-08T12:39:31.942Z"
   },
   {
    "duration": 4,
    "start_time": "2022-11-08T12:39:31.953Z"
   },
   {
    "duration": 9,
    "start_time": "2022-11-08T12:39:31.958Z"
   },
   {
    "duration": 15,
    "start_time": "2022-11-08T12:39:31.968Z"
   },
   {
    "duration": 21,
    "start_time": "2022-11-08T12:39:31.984Z"
   },
   {
    "duration": 7,
    "start_time": "2022-11-08T12:39:32.007Z"
   },
   {
    "duration": 255,
    "start_time": "2022-11-08T12:39:32.025Z"
   },
   {
    "duration": 255,
    "start_time": "2022-11-08T12:39:32.281Z"
   },
   {
    "duration": 3,
    "start_time": "2022-11-08T12:39:32.537Z"
   },
   {
    "duration": 12,
    "start_time": "2022-11-08T12:39:32.541Z"
   },
   {
    "duration": 12,
    "start_time": "2022-11-08T12:39:32.554Z"
   },
   {
    "duration": 203,
    "start_time": "2022-11-08T12:39:32.567Z"
   },
   {
    "duration": 4,
    "start_time": "2022-11-08T12:39:32.771Z"
   },
   {
    "duration": 13,
    "start_time": "2022-11-08T12:39:32.776Z"
   },
   {
    "duration": 0,
    "start_time": "2022-11-08T12:39:32.791Z"
   },
   {
    "duration": 9,
    "start_time": "2022-11-08T12:39:34.208Z"
   },
   {
    "duration": 1995,
    "start_time": "2022-11-08T12:39:50.791Z"
   },
   {
    "duration": 1825,
    "start_time": "2022-11-08T12:41:14.920Z"
   },
   {
    "duration": 1895,
    "start_time": "2022-11-08T12:43:13.000Z"
   },
   {
    "duration": 1902,
    "start_time": "2022-11-08T12:43:24.512Z"
   },
   {
    "duration": 22,
    "start_time": "2022-11-08T12:45:09.321Z"
   },
   {
    "duration": 1892,
    "start_time": "2022-11-08T12:45:28.793Z"
   },
   {
    "duration": 3,
    "start_time": "2022-11-08T12:46:23.859Z"
   },
   {
    "duration": 3,
    "start_time": "2022-11-08T12:46:28.375Z"
   },
   {
    "duration": 32,
    "start_time": "2022-11-08T12:46:28.379Z"
   },
   {
    "duration": 11,
    "start_time": "2022-11-08T12:46:28.413Z"
   },
   {
    "duration": 16,
    "start_time": "2022-11-08T12:46:28.425Z"
   },
   {
    "duration": 4,
    "start_time": "2022-11-08T12:46:28.442Z"
   },
   {
    "duration": 5,
    "start_time": "2022-11-08T12:46:28.447Z"
   },
   {
    "duration": 11,
    "start_time": "2022-11-08T12:46:28.453Z"
   },
   {
    "duration": 19,
    "start_time": "2022-11-08T12:46:28.465Z"
   },
   {
    "duration": 15,
    "start_time": "2022-11-08T12:46:28.486Z"
   },
   {
    "duration": 262,
    "start_time": "2022-11-08T12:46:28.502Z"
   },
   {
    "duration": 247,
    "start_time": "2022-11-08T12:46:28.765Z"
   },
   {
    "duration": 2,
    "start_time": "2022-11-08T12:46:29.014Z"
   },
   {
    "duration": 9,
    "start_time": "2022-11-08T12:46:29.017Z"
   },
   {
    "duration": 11,
    "start_time": "2022-11-08T12:46:29.028Z"
   },
   {
    "duration": 203,
    "start_time": "2022-11-08T12:46:29.040Z"
   },
   {
    "duration": 4,
    "start_time": "2022-11-08T12:46:29.244Z"
   },
   {
    "duration": 10,
    "start_time": "2022-11-08T12:46:29.250Z"
   },
   {
    "duration": 0,
    "start_time": "2022-11-08T12:46:29.261Z"
   },
   {
    "duration": 0,
    "start_time": "2022-11-08T12:46:29.263Z"
   },
   {
    "duration": 0,
    "start_time": "2022-11-08T12:46:29.264Z"
   },
   {
    "duration": 0,
    "start_time": "2022-11-08T12:46:29.265Z"
   },
   {
    "duration": 4,
    "start_time": "2022-11-08T12:46:30.488Z"
   },
   {
    "duration": 8,
    "start_time": "2022-11-08T12:46:30.825Z"
   },
   {
    "duration": 189,
    "start_time": "2022-11-08T12:46:38.353Z"
   },
   {
    "duration": 10,
    "start_time": "2022-11-08T12:46:51.655Z"
   },
   {
    "duration": 3,
    "start_time": "2022-11-08T12:46:58.477Z"
   },
   {
    "duration": 36,
    "start_time": "2022-11-08T12:46:58.482Z"
   },
   {
    "duration": 12,
    "start_time": "2022-11-08T12:46:58.519Z"
   },
   {
    "duration": 14,
    "start_time": "2022-11-08T12:46:58.532Z"
   },
   {
    "duration": 4,
    "start_time": "2022-11-08T12:46:58.547Z"
   },
   {
    "duration": 6,
    "start_time": "2022-11-08T12:46:58.553Z"
   },
   {
    "duration": 8,
    "start_time": "2022-11-08T12:46:58.560Z"
   },
   {
    "duration": 22,
    "start_time": "2022-11-08T12:46:58.569Z"
   },
   {
    "duration": 7,
    "start_time": "2022-11-08T12:46:58.593Z"
   },
   {
    "duration": 261,
    "start_time": "2022-11-08T12:46:58.601Z"
   },
   {
    "duration": 246,
    "start_time": "2022-11-08T12:46:58.864Z"
   },
   {
    "duration": 2,
    "start_time": "2022-11-08T12:46:59.112Z"
   },
   {
    "duration": 12,
    "start_time": "2022-11-08T12:46:59.116Z"
   },
   {
    "duration": 12,
    "start_time": "2022-11-08T12:46:59.129Z"
   },
   {
    "duration": 196,
    "start_time": "2022-11-08T12:46:59.142Z"
   },
   {
    "duration": 3,
    "start_time": "2022-11-08T12:46:59.340Z"
   },
   {
    "duration": 14,
    "start_time": "2022-11-08T12:46:59.345Z"
   },
   {
    "duration": 0,
    "start_time": "2022-11-08T12:46:59.360Z"
   },
   {
    "duration": 0,
    "start_time": "2022-11-08T12:46:59.361Z"
   },
   {
    "duration": 1757,
    "start_time": "2022-11-08T12:47:00.608Z"
   },
   {
    "duration": 3,
    "start_time": "2022-11-08T12:47:02.367Z"
   },
   {
    "duration": 12,
    "start_time": "2022-11-08T12:47:02.371Z"
   },
   {
    "duration": 15,
    "start_time": "2022-11-08T12:47:02.386Z"
   },
   {
    "duration": 9,
    "start_time": "2022-11-08T12:47:15.049Z"
   },
   {
    "duration": 1279,
    "start_time": "2022-11-08T12:53:33.963Z"
   },
   {
    "duration": 247,
    "start_time": "2022-11-08T12:53:55.906Z"
   },
   {
    "duration": 189,
    "start_time": "2022-11-08T12:56:07.371Z"
   },
   {
    "duration": 9,
    "start_time": "2022-11-08T12:57:09.090Z"
   },
   {
    "duration": 10,
    "start_time": "2022-11-08T12:57:56.883Z"
   },
   {
    "duration": 8,
    "start_time": "2022-11-08T12:58:24.443Z"
   },
   {
    "duration": 11,
    "start_time": "2022-11-08T12:58:47.315Z"
   },
   {
    "duration": 9,
    "start_time": "2022-11-08T12:59:30.579Z"
   },
   {
    "duration": 8,
    "start_time": "2022-11-08T12:59:38.843Z"
   },
   {
    "duration": 4,
    "start_time": "2022-11-08T13:01:59.526Z"
   },
   {
    "duration": 40,
    "start_time": "2022-11-08T13:01:59.532Z"
   },
   {
    "duration": 13,
    "start_time": "2022-11-08T13:01:59.574Z"
   },
   {
    "duration": 11,
    "start_time": "2022-11-08T13:01:59.589Z"
   },
   {
    "duration": 4,
    "start_time": "2022-11-08T13:01:59.603Z"
   },
   {
    "duration": 19,
    "start_time": "2022-11-08T13:01:59.608Z"
   },
   {
    "duration": 6,
    "start_time": "2022-11-08T13:01:59.628Z"
   },
   {
    "duration": 22,
    "start_time": "2022-11-08T13:01:59.636Z"
   },
   {
    "duration": 11,
    "start_time": "2022-11-08T13:01:59.660Z"
   },
   {
    "duration": 273,
    "start_time": "2022-11-08T13:01:59.672Z"
   },
   {
    "duration": 261,
    "start_time": "2022-11-08T13:01:59.947Z"
   },
   {
    "duration": 2,
    "start_time": "2022-11-08T13:02:00.210Z"
   },
   {
    "duration": 43,
    "start_time": "2022-11-08T13:02:00.214Z"
   },
   {
    "duration": 22,
    "start_time": "2022-11-08T13:02:00.259Z"
   },
   {
    "duration": 222,
    "start_time": "2022-11-08T13:02:00.282Z"
   },
   {
    "duration": 4,
    "start_time": "2022-11-08T13:02:00.505Z"
   },
   {
    "duration": 3284,
    "start_time": "2022-11-08T13:02:00.510Z"
   },
   {
    "duration": 3166,
    "start_time": "2022-11-08T13:02:03.795Z"
   },
   {
    "duration": 3,
    "start_time": "2022-11-08T13:02:06.963Z"
   },
   {
    "duration": 8,
    "start_time": "2022-11-08T13:02:06.967Z"
   },
   {
    "duration": 12,
    "start_time": "2022-11-08T13:02:06.976Z"
   },
   {
    "duration": 228,
    "start_time": "2022-11-08T13:02:06.989Z"
   },
   {
    "duration": 211,
    "start_time": "2022-11-08T13:03:49.684Z"
   },
   {
    "duration": 4,
    "start_time": "2022-11-08T13:14:19.668Z"
   },
   {
    "duration": 44,
    "start_time": "2022-11-08T13:14:19.674Z"
   },
   {
    "duration": 13,
    "start_time": "2022-11-08T13:14:19.720Z"
   },
   {
    "duration": 15,
    "start_time": "2022-11-08T13:14:19.735Z"
   },
   {
    "duration": 9,
    "start_time": "2022-11-08T13:14:19.753Z"
   },
   {
    "duration": 14,
    "start_time": "2022-11-08T13:14:19.763Z"
   },
   {
    "duration": 8,
    "start_time": "2022-11-08T13:14:19.779Z"
   },
   {
    "duration": 30,
    "start_time": "2022-11-08T13:14:19.789Z"
   },
   {
    "duration": 12,
    "start_time": "2022-11-08T13:14:19.828Z"
   },
   {
    "duration": 289,
    "start_time": "2022-11-08T13:14:19.842Z"
   },
   {
    "duration": 267,
    "start_time": "2022-11-08T13:14:20.132Z"
   },
   {
    "duration": 3,
    "start_time": "2022-11-08T13:14:20.401Z"
   },
   {
    "duration": 18,
    "start_time": "2022-11-08T13:14:20.405Z"
   },
   {
    "duration": 14,
    "start_time": "2022-11-08T13:14:20.425Z"
   },
   {
    "duration": 236,
    "start_time": "2022-11-08T13:14:20.440Z"
   },
   {
    "duration": 5,
    "start_time": "2022-11-08T13:14:20.678Z"
   },
   {
    "duration": 3458,
    "start_time": "2022-11-08T13:14:20.684Z"
   },
   {
    "duration": 3558,
    "start_time": "2022-11-08T13:14:24.144Z"
   },
   {
    "duration": 3,
    "start_time": "2022-11-08T13:14:27.704Z"
   },
   {
    "duration": 12,
    "start_time": "2022-11-08T13:14:27.708Z"
   },
   {
    "duration": 25,
    "start_time": "2022-11-08T13:14:27.722Z"
   },
   {
    "duration": 261,
    "start_time": "2022-11-08T13:14:27.749Z"
   },
   {
    "duration": 15,
    "start_time": "2022-11-08T13:14:28.012Z"
   },
   {
    "duration": 31,
    "start_time": "2022-11-08T13:15:29.616Z"
   },
   {
    "duration": 32,
    "start_time": "2022-11-08T13:16:10.015Z"
   },
   {
    "duration": 30,
    "start_time": "2022-11-08T13:16:17.119Z"
   },
   {
    "duration": 31,
    "start_time": "2022-11-08T13:16:19.511Z"
   },
   {
    "duration": 13,
    "start_time": "2022-11-08T13:16:22.031Z"
   },
   {
    "duration": 32,
    "start_time": "2022-11-08T13:16:25.311Z"
   },
   {
    "duration": 31,
    "start_time": "2022-11-08T13:16:32.158Z"
   },
   {
    "duration": 28,
    "start_time": "2022-11-08T13:18:52.207Z"
   },
   {
    "duration": 46,
    "start_time": "2022-11-08T13:19:00.824Z"
   },
   {
    "duration": 6,
    "start_time": "2022-11-08T13:20:06.392Z"
   },
   {
    "duration": 32,
    "start_time": "2022-11-08T13:20:58.881Z"
   },
   {
    "duration": 32,
    "start_time": "2022-11-08T13:21:37.832Z"
   },
   {
    "duration": 3,
    "start_time": "2022-11-08T13:30:26.500Z"
   },
   {
    "duration": 51,
    "start_time": "2022-11-08T13:30:26.505Z"
   },
   {
    "duration": 12,
    "start_time": "2022-11-08T13:30:26.558Z"
   },
   {
    "duration": 13,
    "start_time": "2022-11-08T13:30:26.572Z"
   },
   {
    "duration": 4,
    "start_time": "2022-11-08T13:30:26.587Z"
   },
   {
    "duration": 6,
    "start_time": "2022-11-08T13:30:26.592Z"
   },
   {
    "duration": 8,
    "start_time": "2022-11-08T13:30:26.600Z"
   },
   {
    "duration": 33,
    "start_time": "2022-11-08T13:30:26.610Z"
   },
   {
    "duration": 8,
    "start_time": "2022-11-08T13:30:26.646Z"
   },
   {
    "duration": 261,
    "start_time": "2022-11-08T13:30:26.656Z"
   },
   {
    "duration": 255,
    "start_time": "2022-11-08T13:30:26.919Z"
   },
   {
    "duration": 3,
    "start_time": "2022-11-08T13:30:27.176Z"
   },
   {
    "duration": 22,
    "start_time": "2022-11-08T13:30:27.181Z"
   },
   {
    "duration": 25,
    "start_time": "2022-11-08T13:30:27.205Z"
   },
   {
    "duration": 206,
    "start_time": "2022-11-08T13:30:27.232Z"
   },
   {
    "duration": 5,
    "start_time": "2022-11-08T13:30:27.439Z"
   },
   {
    "duration": 3344,
    "start_time": "2022-11-08T13:30:27.446Z"
   },
   {
    "duration": 3177,
    "start_time": "2022-11-08T13:30:30.791Z"
   },
   {
    "duration": 3,
    "start_time": "2022-11-08T13:30:33.970Z"
   },
   {
    "duration": 13,
    "start_time": "2022-11-08T13:30:33.974Z"
   },
   {
    "duration": 15,
    "start_time": "2022-11-08T13:30:33.989Z"
   },
   {
    "duration": 228,
    "start_time": "2022-11-08T13:30:34.005Z"
   },
   {
    "duration": 9,
    "start_time": "2022-11-08T13:30:34.235Z"
   },
   {
    "duration": 35,
    "start_time": "2022-11-08T13:30:59.530Z"
   },
   {
    "duration": 6,
    "start_time": "2022-11-08T13:31:00.666Z"
   },
   {
    "duration": 31,
    "start_time": "2022-11-08T13:31:24.779Z"
   },
   {
    "duration": 31,
    "start_time": "2022-11-08T13:31:56.411Z"
   },
   {
    "duration": 6,
    "start_time": "2022-11-08T13:32:04.194Z"
   },
   {
    "duration": 35,
    "start_time": "2022-11-08T13:33:03.387Z"
   },
   {
    "duration": 31,
    "start_time": "2022-11-08T13:33:06.754Z"
   },
   {
    "duration": 3352,
    "start_time": "2022-11-08T13:49:51.737Z"
   },
   {
    "duration": 86945,
    "start_time": "2022-11-08T13:52:52.610Z"
   },
   {
    "duration": 86945,
    "start_time": "2022-11-08T14:08:31.758Z"
   },
   {
    "duration": 98231,
    "start_time": "2022-11-08T14:09:58.706Z"
   },
   {
    "duration": 15,
    "start_time": "2022-11-08T14:11:36.938Z"
   },
   {
    "duration": 0,
    "start_time": "2022-11-08T14:11:36.954Z"
   },
   {
    "duration": 0,
    "start_time": "2022-11-08T14:11:36.955Z"
   },
   {
    "duration": 0,
    "start_time": "2022-11-08T14:11:36.956Z"
   },
   {
    "duration": 83632,
    "start_time": "2022-11-08T14:12:28.917Z"
   },
   {
    "duration": 207,
    "start_time": "2022-11-08T14:14:54.053Z"
   },
   {
    "duration": 205,
    "start_time": "2022-11-08T14:15:17.358Z"
   },
   {
    "duration": 282,
    "start_time": "2022-11-08T14:15:24.021Z"
   },
   {
    "duration": 223,
    "start_time": "2022-11-08T14:15:30.093Z"
   },
   {
    "duration": 243,
    "start_time": "2022-11-08T14:17:46.101Z"
   },
   {
    "duration": 18,
    "start_time": "2022-11-08T14:20:15.215Z"
   },
   {
    "duration": 17,
    "start_time": "2022-11-08T14:20:36.573Z"
   },
   {
    "duration": 27,
    "start_time": "2022-11-08T14:20:47.224Z"
   },
   {
    "duration": 26,
    "start_time": "2022-11-08T14:20:55.550Z"
   },
   {
    "duration": 13,
    "start_time": "2022-11-08T14:23:00.198Z"
   },
   {
    "duration": 5,
    "start_time": "2022-11-08T14:23:36.627Z"
   },
   {
    "duration": 50,
    "start_time": "2022-11-08T14:23:36.634Z"
   },
   {
    "duration": 16,
    "start_time": "2022-11-08T14:23:36.685Z"
   },
   {
    "duration": 21,
    "start_time": "2022-11-08T14:23:36.704Z"
   },
   {
    "duration": 12,
    "start_time": "2022-11-08T14:23:36.727Z"
   },
   {
    "duration": 33,
    "start_time": "2022-11-08T14:23:36.741Z"
   },
   {
    "duration": 29,
    "start_time": "2022-11-08T14:23:36.776Z"
   },
   {
    "duration": 41,
    "start_time": "2022-11-08T14:23:36.806Z"
   },
   {
    "duration": 43,
    "start_time": "2022-11-08T14:23:36.848Z"
   },
   {
    "duration": 263,
    "start_time": "2022-11-08T14:23:36.894Z"
   },
   {
    "duration": 246,
    "start_time": "2022-11-08T14:23:37.159Z"
   },
   {
    "duration": 3,
    "start_time": "2022-11-08T14:23:37.407Z"
   },
   {
    "duration": 10,
    "start_time": "2022-11-08T14:23:37.412Z"
   },
   {
    "duration": 20,
    "start_time": "2022-11-08T14:23:37.423Z"
   },
   {
    "duration": 202,
    "start_time": "2022-11-08T14:23:37.444Z"
   },
   {
    "duration": 4,
    "start_time": "2022-11-08T14:23:37.648Z"
   },
   {
    "duration": 3215,
    "start_time": "2022-11-08T14:23:37.654Z"
   },
   {
    "duration": 3110,
    "start_time": "2022-11-08T14:23:40.871Z"
   },
   {
    "duration": 3,
    "start_time": "2022-11-08T14:23:43.983Z"
   },
   {
    "duration": 7,
    "start_time": "2022-11-08T14:23:43.988Z"
   },
   {
    "duration": 12,
    "start_time": "2022-11-08T14:23:43.996Z"
   },
   {
    "duration": 232,
    "start_time": "2022-11-08T14:23:44.010Z"
   },
   {
    "duration": 9,
    "start_time": "2022-11-08T14:23:44.244Z"
   },
   {
    "duration": 32,
    "start_time": "2022-11-08T14:23:44.255Z"
   },
   {
    "duration": 7,
    "start_time": "2022-11-08T14:23:44.288Z"
   },
   {
    "duration": 47,
    "start_time": "2022-11-08T14:23:44.296Z"
   },
   {
    "duration": 0,
    "start_time": "2022-11-08T14:23:44.344Z"
   },
   {
    "duration": 39,
    "start_time": "2022-11-08T14:40:09.272Z"
   },
   {
    "duration": 1682,
    "start_time": "2022-11-09T08:07:24.570Z"
   },
   {
    "duration": 69,
    "start_time": "2022-11-09T08:07:26.254Z"
   },
   {
    "duration": 19,
    "start_time": "2022-11-09T08:07:26.325Z"
   },
   {
    "duration": 14,
    "start_time": "2022-11-09T08:07:26.345Z"
   },
   {
    "duration": 12,
    "start_time": "2022-11-09T08:07:26.362Z"
   },
   {
    "duration": 9,
    "start_time": "2022-11-09T08:07:26.376Z"
   },
   {
    "duration": 18,
    "start_time": "2022-11-09T08:07:26.386Z"
   },
   {
    "duration": 31,
    "start_time": "2022-11-09T08:07:26.405Z"
   },
   {
    "duration": 10,
    "start_time": "2022-11-09T08:07:26.438Z"
   },
   {
    "duration": 326,
    "start_time": "2022-11-09T08:07:26.450Z"
   },
   {
    "duration": 284,
    "start_time": "2022-11-09T08:07:26.778Z"
   },
   {
    "duration": 2,
    "start_time": "2022-11-09T08:07:27.064Z"
   },
   {
    "duration": 7,
    "start_time": "2022-11-09T08:07:27.068Z"
   },
   {
    "duration": 25,
    "start_time": "2022-11-09T08:07:27.078Z"
   },
   {
    "duration": 267,
    "start_time": "2022-11-09T08:07:27.104Z"
   },
   {
    "duration": 6,
    "start_time": "2022-11-09T08:07:27.373Z"
   },
   {
    "duration": 3766,
    "start_time": "2022-11-09T08:07:27.380Z"
   },
   {
    "duration": 3556,
    "start_time": "2022-11-09T08:07:31.148Z"
   },
   {
    "duration": 2,
    "start_time": "2022-11-09T08:07:34.706Z"
   },
   {
    "duration": 7,
    "start_time": "2022-11-09T08:07:34.710Z"
   },
   {
    "duration": 17,
    "start_time": "2022-11-09T08:07:34.718Z"
   },
   {
    "duration": 253,
    "start_time": "2022-11-09T08:07:34.737Z"
   },
   {
    "duration": 12,
    "start_time": "2022-11-09T08:07:34.992Z"
   },
   {
    "duration": 37,
    "start_time": "2022-11-09T08:08:13.701Z"
   },
   {
    "duration": 9,
    "start_time": "2022-11-09T08:08:14.142Z"
   },
   {
    "duration": 178,
    "start_time": "2022-11-09T08:08:22.997Z"
   },
   {
    "duration": 138,
    "start_time": "2022-11-09T08:08:34.526Z"
   },
   {
    "duration": 34,
    "start_time": "2022-11-09T08:08:50.217Z"
   },
   {
    "duration": 115,
    "start_time": "2022-11-09T08:08:55.030Z"
   },
   {
    "duration": 34,
    "start_time": "2022-11-09T08:08:59.694Z"
   },
   {
    "duration": 54,
    "start_time": "2022-11-09T08:23:19.921Z"
   },
   {
    "duration": 114,
    "start_time": "2022-11-09T08:24:02.840Z"
   },
   {
    "duration": 35,
    "start_time": "2022-11-09T08:24:10.153Z"
   },
   {
    "duration": 14,
    "start_time": "2022-11-09T08:24:17.593Z"
   },
   {
    "duration": 108,
    "start_time": "2022-11-09T08:24:29.233Z"
   },
   {
    "duration": 12,
    "start_time": "2022-11-09T08:24:37.961Z"
   },
   {
    "duration": 11,
    "start_time": "2022-11-09T08:34:13.779Z"
   },
   {
    "duration": 12,
    "start_time": "2022-11-09T08:34:38.170Z"
   },
   {
    "duration": 223,
    "start_time": "2022-11-09T08:34:46.730Z"
   },
   {
    "duration": 36,
    "start_time": "2022-11-09T08:34:53.827Z"
   },
   {
    "duration": 37,
    "start_time": "2022-11-09T08:35:05.117Z"
   },
   {
    "duration": 11,
    "start_time": "2022-11-09T08:35:26.971Z"
   },
   {
    "duration": 33,
    "start_time": "2022-11-09T08:36:07.170Z"
   },
   {
    "duration": 34,
    "start_time": "2022-11-09T08:37:57.519Z"
   },
   {
    "duration": 34,
    "start_time": "2022-11-09T08:38:25.627Z"
   },
   {
    "duration": 158,
    "start_time": "2022-11-09T08:40:12.027Z"
   },
   {
    "duration": 14,
    "start_time": "2022-11-09T08:40:17.988Z"
   },
   {
    "duration": 35,
    "start_time": "2022-11-09T08:40:22.275Z"
   },
   {
    "duration": 33,
    "start_time": "2022-11-09T08:40:31.564Z"
   },
   {
    "duration": 28,
    "start_time": "2022-11-09T08:40:35.163Z"
   },
   {
    "duration": 35,
    "start_time": "2022-11-09T08:44:23.628Z"
   },
   {
    "duration": 37,
    "start_time": "2022-11-09T08:45:00.861Z"
   },
   {
    "duration": 35,
    "start_time": "2022-11-09T08:45:39.615Z"
   },
   {
    "duration": 23,
    "start_time": "2022-11-09T08:46:38.572Z"
   },
   {
    "duration": 26,
    "start_time": "2022-11-09T08:46:42.613Z"
   },
   {
    "duration": 34,
    "start_time": "2022-11-09T08:46:55.317Z"
   },
   {
    "duration": 36,
    "start_time": "2022-11-09T08:47:00.637Z"
   },
   {
    "duration": 36,
    "start_time": "2022-11-09T08:47:03.477Z"
   },
   {
    "duration": 4,
    "start_time": "2022-11-09T08:47:07.228Z"
   },
   {
    "duration": 43,
    "start_time": "2022-11-09T08:47:07.235Z"
   },
   {
    "duration": 13,
    "start_time": "2022-11-09T08:47:07.280Z"
   },
   {
    "duration": 36,
    "start_time": "2022-11-09T08:47:07.294Z"
   },
   {
    "duration": 12,
    "start_time": "2022-11-09T08:47:07.333Z"
   },
   {
    "duration": 35,
    "start_time": "2022-11-09T08:47:07.346Z"
   },
   {
    "duration": 30,
    "start_time": "2022-11-09T08:47:07.383Z"
   },
   {
    "duration": 32,
    "start_time": "2022-11-09T08:47:07.415Z"
   },
   {
    "duration": 27,
    "start_time": "2022-11-09T08:47:07.448Z"
   },
   {
    "duration": 300,
    "start_time": "2022-11-09T08:47:07.477Z"
   },
   {
    "duration": 292,
    "start_time": "2022-11-09T08:47:07.779Z"
   },
   {
    "duration": 3,
    "start_time": "2022-11-09T08:47:08.073Z"
   },
   {
    "duration": 8,
    "start_time": "2022-11-09T08:47:08.079Z"
   },
   {
    "duration": 13,
    "start_time": "2022-11-09T08:47:08.096Z"
   },
   {
    "duration": 243,
    "start_time": "2022-11-09T08:47:08.111Z"
   },
   {
    "duration": 4,
    "start_time": "2022-11-09T08:47:08.356Z"
   },
   {
    "duration": 3643,
    "start_time": "2022-11-09T08:47:08.362Z"
   },
   {
    "duration": 3545,
    "start_time": "2022-11-09T08:47:12.007Z"
   },
   {
    "duration": 3,
    "start_time": "2022-11-09T08:47:15.554Z"
   },
   {
    "duration": 10,
    "start_time": "2022-11-09T08:47:15.558Z"
   },
   {
    "duration": 12,
    "start_time": "2022-11-09T08:47:15.570Z"
   },
   {
    "duration": 260,
    "start_time": "2022-11-09T08:47:15.584Z"
   },
   {
    "duration": 8,
    "start_time": "2022-11-09T08:47:15.846Z"
   },
   {
    "duration": 50,
    "start_time": "2022-11-09T08:47:15.856Z"
   },
   {
    "duration": 35,
    "start_time": "2022-11-09T08:48:41.260Z"
   },
   {
    "duration": 9,
    "start_time": "2022-11-09T08:52:20.397Z"
   },
   {
    "duration": 37,
    "start_time": "2022-11-09T08:55:52.085Z"
   },
   {
    "duration": 37,
    "start_time": "2022-11-09T08:55:56.915Z"
   },
   {
    "duration": 36,
    "start_time": "2022-11-09T08:56:01.831Z"
   },
   {
    "duration": 26,
    "start_time": "2022-11-09T08:56:06.462Z"
   },
   {
    "duration": 34,
    "start_time": "2022-11-09T08:56:10.975Z"
   },
   {
    "duration": 45,
    "start_time": "2022-11-09T08:56:13.495Z"
   },
   {
    "duration": 28,
    "start_time": "2022-11-09T08:56:16.367Z"
   },
   {
    "duration": 30,
    "start_time": "2022-11-09T08:56:18.863Z"
   },
   {
    "duration": 38,
    "start_time": "2022-11-09T08:56:22.678Z"
   },
   {
    "duration": 28,
    "start_time": "2022-11-09T08:56:29.439Z"
   },
   {
    "duration": 37,
    "start_time": "2022-11-09T09:08:52.866Z"
   },
   {
    "duration": 35,
    "start_time": "2022-11-09T09:11:54.579Z"
   },
   {
    "duration": 42,
    "start_time": "2022-11-09T09:12:06.563Z"
   },
   {
    "duration": 39,
    "start_time": "2022-11-09T09:12:10.363Z"
   },
   {
    "duration": 37,
    "start_time": "2022-11-09T09:12:15.571Z"
   },
   {
    "duration": 36,
    "start_time": "2022-11-09T09:12:25.827Z"
   },
   {
    "duration": 12,
    "start_time": "2022-11-09T09:18:29.782Z"
   },
   {
    "duration": 12,
    "start_time": "2022-11-09T09:23:19.725Z"
   },
   {
    "duration": 13,
    "start_time": "2022-11-09T09:25:45.829Z"
   },
   {
    "duration": 4,
    "start_time": "2022-11-09T09:31:49.671Z"
   },
   {
    "duration": 64,
    "start_time": "2022-11-09T09:35:44.336Z"
   },
   {
    "duration": 131,
    "start_time": "2022-11-09T09:35:59.608Z"
   },
   {
    "duration": 65,
    "start_time": "2022-11-09T09:37:31.136Z"
   },
   {
    "duration": 126,
    "start_time": "2022-11-09T09:40:46.376Z"
   },
   {
    "duration": 177,
    "start_time": "2022-11-09T09:40:51.896Z"
   },
   {
    "duration": 423,
    "start_time": "2022-11-09T09:40:56.696Z"
   },
   {
    "duration": 0,
    "start_time": "2022-11-09T09:41:17.083Z"
   },
   {
    "duration": 125,
    "start_time": "2022-11-09T09:41:22.248Z"
   },
   {
    "duration": 71,
    "start_time": "2022-11-09T09:43:50.624Z"
   },
   {
    "duration": 8,
    "start_time": "2022-11-09T09:47:02.969Z"
   },
   {
    "duration": 7,
    "start_time": "2022-11-09T09:47:21.121Z"
   },
   {
    "duration": 4,
    "start_time": "2022-11-09T10:00:36.890Z"
   },
   {
    "duration": 94,
    "start_time": "2022-11-09T10:00:36.897Z"
   },
   {
    "duration": 16,
    "start_time": "2022-11-09T10:00:36.992Z"
   },
   {
    "duration": 19,
    "start_time": "2022-11-09T10:00:37.011Z"
   },
   {
    "duration": 12,
    "start_time": "2022-11-09T10:00:37.033Z"
   },
   {
    "duration": 6,
    "start_time": "2022-11-09T10:00:37.047Z"
   },
   {
    "duration": 11,
    "start_time": "2022-11-09T10:00:37.055Z"
   },
   {
    "duration": 34,
    "start_time": "2022-11-09T10:00:37.068Z"
   },
   {
    "duration": 8,
    "start_time": "2022-11-09T10:00:37.106Z"
   },
   {
    "duration": 322,
    "start_time": "2022-11-09T10:00:37.115Z"
   },
   {
    "duration": 293,
    "start_time": "2022-11-09T10:00:37.439Z"
   },
   {
    "duration": 3,
    "start_time": "2022-11-09T10:00:37.734Z"
   },
   {
    "duration": 6,
    "start_time": "2022-11-09T10:00:37.739Z"
   },
   {
    "duration": 13,
    "start_time": "2022-11-09T10:00:37.747Z"
   },
   {
    "duration": 255,
    "start_time": "2022-11-09T10:00:37.763Z"
   },
   {
    "duration": 5,
    "start_time": "2022-11-09T10:00:38.020Z"
   },
   {
    "duration": 3889,
    "start_time": "2022-11-09T10:00:38.027Z"
   },
   {
    "duration": 3751,
    "start_time": "2022-11-09T10:00:41.918Z"
   },
   {
    "duration": 3,
    "start_time": "2022-11-09T10:00:45.671Z"
   },
   {
    "duration": 21,
    "start_time": "2022-11-09T10:00:45.675Z"
   },
   {
    "duration": 19,
    "start_time": "2022-11-09T10:00:45.697Z"
   },
   {
    "duration": 258,
    "start_time": "2022-11-09T10:00:45.718Z"
   },
   {
    "duration": 9,
    "start_time": "2022-11-09T10:00:45.978Z"
   },
   {
    "duration": 377,
    "start_time": "2022-11-09T10:00:46.000Z"
   },
   {
    "duration": 8,
    "start_time": "2022-11-09T10:00:46.378Z"
   },
   {
    "duration": 34,
    "start_time": "2022-11-09T10:00:46.388Z"
   },
   {
    "duration": 101,
    "start_time": "2022-11-09T10:00:46.424Z"
   },
   {
    "duration": 154,
    "start_time": "2022-11-09T10:00:46.527Z"
   },
   {
    "duration": 14,
    "start_time": "2022-11-09T10:00:46.683Z"
   },
   {
    "duration": 4,
    "start_time": "2022-11-09T10:19:15.964Z"
   },
   {
    "duration": 7,
    "start_time": "2022-11-09T10:21:15.365Z"
   },
   {
    "duration": 6,
    "start_time": "2022-11-09T10:23:12.596Z"
   },
   {
    "duration": 7,
    "start_time": "2022-11-09T10:26:38.325Z"
   },
   {
    "duration": 7,
    "start_time": "2022-11-09T10:27:16.276Z"
   },
   {
    "duration": 7,
    "start_time": "2022-11-09T10:27:20.740Z"
   },
   {
    "duration": 37,
    "start_time": "2022-11-09T10:31:31.446Z"
   },
   {
    "duration": 36,
    "start_time": "2022-11-09T10:35:03.654Z"
   },
   {
    "duration": 4,
    "start_time": "2022-11-09T10:35:07.513Z"
   },
   {
    "duration": 41,
    "start_time": "2022-11-09T10:35:07.519Z"
   },
   {
    "duration": 13,
    "start_time": "2022-11-09T10:35:07.562Z"
   },
   {
    "duration": 16,
    "start_time": "2022-11-09T10:35:07.577Z"
   },
   {
    "duration": 4,
    "start_time": "2022-11-09T10:35:07.595Z"
   },
   {
    "duration": 5,
    "start_time": "2022-11-09T10:35:07.601Z"
   },
   {
    "duration": 7,
    "start_time": "2022-11-09T10:35:07.607Z"
   },
   {
    "duration": 25,
    "start_time": "2022-11-09T10:35:07.616Z"
   },
   {
    "duration": 8,
    "start_time": "2022-11-09T10:35:07.644Z"
   },
   {
    "duration": 333,
    "start_time": "2022-11-09T10:35:07.654Z"
   },
   {
    "duration": 291,
    "start_time": "2022-11-09T10:35:07.988Z"
   },
   {
    "duration": 3,
    "start_time": "2022-11-09T10:35:08.281Z"
   },
   {
    "duration": 11,
    "start_time": "2022-11-09T10:35:08.286Z"
   },
   {
    "duration": 12,
    "start_time": "2022-11-09T10:35:08.299Z"
   },
   {
    "duration": 241,
    "start_time": "2022-11-09T10:35:08.313Z"
   },
   {
    "duration": 4,
    "start_time": "2022-11-09T10:35:08.556Z"
   },
   {
    "duration": 3770,
    "start_time": "2022-11-09T10:35:08.562Z"
   },
   {
    "duration": 3620,
    "start_time": "2022-11-09T10:35:12.334Z"
   },
   {
    "duration": 3,
    "start_time": "2022-11-09T10:35:15.956Z"
   },
   {
    "duration": 7,
    "start_time": "2022-11-09T10:35:15.960Z"
   },
   {
    "duration": 14,
    "start_time": "2022-11-09T10:35:15.969Z"
   },
   {
    "duration": 247,
    "start_time": "2022-11-09T10:35:15.984Z"
   },
   {
    "duration": 8,
    "start_time": "2022-11-09T10:35:16.233Z"
   },
   {
    "duration": 35,
    "start_time": "2022-11-09T10:35:16.243Z"
   },
   {
    "duration": 33,
    "start_time": "2022-11-09T10:35:17.949Z"
   },
   {
    "duration": 37,
    "start_time": "2022-11-09T10:35:32.238Z"
   },
   {
    "duration": 237,
    "start_time": "2022-11-09T10:36:14.062Z"
   },
   {
    "duration": 7,
    "start_time": "2022-11-09T10:36:21.950Z"
   },
   {
    "duration": 40,
    "start_time": "2022-11-09T10:36:26.255Z"
   },
   {
    "duration": 49,
    "start_time": "2022-11-09T10:36:36.493Z"
   },
   {
    "duration": 3,
    "start_time": "2022-11-09T10:37:02.726Z"
   },
   {
    "duration": 41,
    "start_time": "2022-11-09T10:37:09.502Z"
   },
   {
    "duration": 38,
    "start_time": "2022-11-09T10:37:44.430Z"
   },
   {
    "duration": 7,
    "start_time": "2022-11-09T10:37:46.150Z"
   },
   {
    "duration": 36,
    "start_time": "2022-11-09T10:38:32.376Z"
   },
   {
    "duration": 40,
    "start_time": "2022-11-09T10:38:46.471Z"
   },
   {
    "duration": 7,
    "start_time": "2022-11-09T10:38:51.382Z"
   },
   {
    "duration": 54,
    "start_time": "2022-11-09T10:38:57.951Z"
   },
   {
    "duration": 15,
    "start_time": "2022-11-09T15:11:02.903Z"
   },
   {
    "duration": 5,
    "start_time": "2022-11-09T15:11:22.047Z"
   },
   {
    "duration": 5,
    "start_time": "2022-11-09T15:11:29.742Z"
   },
   {
    "duration": 5,
    "start_time": "2022-11-09T15:11:35.814Z"
   },
   {
    "duration": 5,
    "start_time": "2022-11-09T15:11:40.743Z"
   },
   {
    "duration": 5,
    "start_time": "2022-11-09T15:12:30.935Z"
   },
   {
    "duration": 6,
    "start_time": "2022-11-09T15:12:38.222Z"
   },
   {
    "duration": 5,
    "start_time": "2022-11-09T15:12:41.406Z"
   },
   {
    "duration": 4,
    "start_time": "2022-11-09T15:12:44.055Z"
   },
   {
    "duration": 5,
    "start_time": "2022-11-09T15:12:50.056Z"
   },
   {
    "duration": 4,
    "start_time": "2022-11-09T15:12:59.239Z"
   },
   {
    "duration": 38,
    "start_time": "2022-11-09T15:13:32.176Z"
   },
   {
    "duration": 13,
    "start_time": "2022-11-09T15:14:05.008Z"
   },
   {
    "duration": 6,
    "start_time": "2022-11-09T15:14:54.361Z"
   },
   {
    "duration": 5,
    "start_time": "2022-11-09T15:16:37.303Z"
   },
   {
    "duration": 5,
    "start_time": "2022-11-09T15:16:41.423Z"
   },
   {
    "duration": 5,
    "start_time": "2022-11-09T15:16:45.264Z"
   },
   {
    "duration": 5,
    "start_time": "2022-11-09T15:16:47.248Z"
   },
   {
    "duration": 4,
    "start_time": "2022-11-09T15:16:52.584Z"
   },
   {
    "duration": 5,
    "start_time": "2022-11-09T15:16:55.177Z"
   },
   {
    "duration": 5,
    "start_time": "2022-11-09T15:16:58.136Z"
   },
   {
    "duration": 5,
    "start_time": "2022-11-09T15:17:13.553Z"
   },
   {
    "duration": 74,
    "start_time": "2022-11-09T15:17:13.992Z"
   },
   {
    "duration": 6,
    "start_time": "2022-11-09T15:18:48.192Z"
   },
   {
    "duration": 5,
    "start_time": "2022-11-09T15:18:57.633Z"
   },
   {
    "duration": 6,
    "start_time": "2022-11-09T15:19:04.569Z"
   },
   {
    "duration": 4,
    "start_time": "2022-11-09T15:19:09.337Z"
   },
   {
    "duration": 5,
    "start_time": "2022-11-09T15:19:22.600Z"
   },
   {
    "duration": 5,
    "start_time": "2022-11-09T15:19:36.209Z"
   },
   {
    "duration": 5,
    "start_time": "2022-11-09T15:19:42.137Z"
   },
   {
    "duration": 5,
    "start_time": "2022-11-09T15:19:50.121Z"
   },
   {
    "duration": 5,
    "start_time": "2022-11-09T15:19:54.144Z"
   },
   {
    "duration": 7,
    "start_time": "2022-11-09T15:20:00.616Z"
   },
   {
    "duration": 5,
    "start_time": "2022-11-09T15:20:29.945Z"
   },
   {
    "duration": 4,
    "start_time": "2022-11-09T15:20:40.057Z"
   },
   {
    "duration": 79,
    "start_time": "2022-11-09T15:21:28.513Z"
   },
   {
    "duration": 6,
    "start_time": "2022-11-09T15:22:00.202Z"
   },
   {
    "duration": 6,
    "start_time": "2022-11-09T15:22:04.113Z"
   },
   {
    "duration": 5,
    "start_time": "2022-11-09T15:22:07.233Z"
   },
   {
    "duration": 6,
    "start_time": "2022-11-09T15:22:10.686Z"
   },
   {
    "duration": 5,
    "start_time": "2022-11-09T15:22:18.538Z"
   },
   {
    "duration": 5,
    "start_time": "2022-11-09T15:22:23.234Z"
   },
   {
    "duration": 5,
    "start_time": "2022-11-09T15:22:28.361Z"
   },
   {
    "duration": 5,
    "start_time": "2022-11-09T15:22:32.042Z"
   },
   {
    "duration": 6,
    "start_time": "2022-11-09T15:22:36.753Z"
   },
   {
    "duration": 5,
    "start_time": "2022-11-09T15:22:41.017Z"
   },
   {
    "duration": 5,
    "start_time": "2022-11-09T15:23:26.787Z"
   },
   {
    "duration": 4,
    "start_time": "2022-11-09T15:23:30.362Z"
   },
   {
    "duration": 5,
    "start_time": "2022-11-09T15:23:40.401Z"
   },
   {
    "duration": 8,
    "start_time": "2022-11-09T15:23:48.881Z"
   },
   {
    "duration": 4,
    "start_time": "2022-11-09T15:23:52.682Z"
   },
   {
    "duration": 4,
    "start_time": "2022-11-09T15:23:56.562Z"
   },
   {
    "duration": 5,
    "start_time": "2022-11-09T15:23:59.097Z"
   },
   {
    "duration": 6,
    "start_time": "2022-11-09T15:24:03.691Z"
   },
   {
    "duration": 5,
    "start_time": "2022-11-09T15:24:36.114Z"
   },
   {
    "duration": 5,
    "start_time": "2022-11-09T15:24:39.226Z"
   },
   {
    "duration": 5,
    "start_time": "2022-11-09T15:42:36.039Z"
   },
   {
    "duration": 4,
    "start_time": "2022-11-09T15:43:45.967Z"
   },
   {
    "duration": 37,
    "start_time": "2022-11-09T15:43:45.974Z"
   },
   {
    "duration": 13,
    "start_time": "2022-11-09T15:43:46.013Z"
   },
   {
    "duration": 15,
    "start_time": "2022-11-09T15:43:46.028Z"
   },
   {
    "duration": 6,
    "start_time": "2022-11-09T15:43:46.044Z"
   },
   {
    "duration": 13,
    "start_time": "2022-11-09T15:43:46.051Z"
   },
   {
    "duration": 32,
    "start_time": "2022-11-09T15:43:46.066Z"
   },
   {
    "duration": 26,
    "start_time": "2022-11-09T15:43:46.100Z"
   },
   {
    "duration": 8,
    "start_time": "2022-11-09T15:43:46.128Z"
   },
   {
    "duration": 306,
    "start_time": "2022-11-09T15:43:46.137Z"
   },
   {
    "duration": 293,
    "start_time": "2022-11-09T15:43:46.445Z"
   },
   {
    "duration": 2,
    "start_time": "2022-11-09T15:43:46.740Z"
   },
   {
    "duration": 10,
    "start_time": "2022-11-09T15:43:46.744Z"
   },
   {
    "duration": 15,
    "start_time": "2022-11-09T15:43:46.755Z"
   },
   {
    "duration": 243,
    "start_time": "2022-11-09T15:43:46.771Z"
   },
   {
    "duration": 5,
    "start_time": "2022-11-09T15:43:47.016Z"
   },
   {
    "duration": 3771,
    "start_time": "2022-11-09T15:43:47.022Z"
   },
   {
    "duration": 3628,
    "start_time": "2022-11-09T15:43:50.795Z"
   },
   {
    "duration": 2,
    "start_time": "2022-11-09T15:43:54.425Z"
   },
   {
    "duration": 8,
    "start_time": "2022-11-09T15:43:54.429Z"
   },
   {
    "duration": 12,
    "start_time": "2022-11-09T15:43:54.439Z"
   },
   {
    "duration": 257,
    "start_time": "2022-11-09T15:43:54.453Z"
   },
   {
    "duration": 8,
    "start_time": "2022-11-09T15:43:54.712Z"
   },
   {
    "duration": 36,
    "start_time": "2022-11-09T15:43:54.723Z"
   },
   {
    "duration": 5,
    "start_time": "2022-11-09T15:43:54.761Z"
   },
   {
    "duration": 33,
    "start_time": "2022-11-09T15:43:54.768Z"
   },
   {
    "duration": 7,
    "start_time": "2022-11-09T15:43:54.803Z"
   },
   {
    "duration": 13,
    "start_time": "2022-11-09T15:43:54.812Z"
   },
   {
    "duration": 86,
    "start_time": "2022-11-09T15:43:54.827Z"
   },
   {
    "duration": 134,
    "start_time": "2022-11-09T15:43:54.915Z"
   },
   {
    "duration": 7,
    "start_time": "2022-11-09T15:43:55.051Z"
   },
   {
    "duration": 17,
    "start_time": "2022-11-09T15:43:55.060Z"
   },
   {
    "duration": 6,
    "start_time": "2022-11-09T15:46:24.638Z"
   },
   {
    "duration": 41,
    "start_time": "2022-11-09T20:06:47.308Z"
   },
   {
    "duration": 1480,
    "start_time": "2022-11-09T20:06:50.725Z"
   },
   {
    "duration": 64,
    "start_time": "2022-11-09T20:06:52.207Z"
   },
   {
    "duration": 15,
    "start_time": "2022-11-09T20:06:52.272Z"
   },
   {
    "duration": 11,
    "start_time": "2022-11-09T20:06:52.288Z"
   },
   {
    "duration": 5,
    "start_time": "2022-11-09T20:06:52.300Z"
   },
   {
    "duration": 5,
    "start_time": "2022-11-09T20:06:52.306Z"
   },
   {
    "duration": 6,
    "start_time": "2022-11-09T20:06:52.313Z"
   },
   {
    "duration": 23,
    "start_time": "2022-11-09T20:06:52.320Z"
   },
   {
    "duration": 7,
    "start_time": "2022-11-09T20:06:52.344Z"
   },
   {
    "duration": 269,
    "start_time": "2022-11-09T20:06:52.352Z"
   },
   {
    "duration": 244,
    "start_time": "2022-11-09T20:06:52.623Z"
   },
   {
    "duration": 2,
    "start_time": "2022-11-09T20:06:52.869Z"
   },
   {
    "duration": 6,
    "start_time": "2022-11-09T20:06:52.872Z"
   },
   {
    "duration": 9,
    "start_time": "2022-11-09T20:06:52.881Z"
   },
   {
    "duration": 230,
    "start_time": "2022-11-09T20:06:52.899Z"
   },
   {
    "duration": 3,
    "start_time": "2022-11-09T20:06:53.131Z"
   },
   {
    "duration": 3263,
    "start_time": "2022-11-09T20:06:53.136Z"
   },
   {
    "duration": 3089,
    "start_time": "2022-11-09T20:06:56.401Z"
   },
   {
    "duration": 2,
    "start_time": "2022-11-09T20:06:59.492Z"
   },
   {
    "duration": 13,
    "start_time": "2022-11-09T20:06:59.496Z"
   },
   {
    "duration": 35,
    "start_time": "2022-11-09T20:06:59.511Z"
   },
   {
    "duration": 230,
    "start_time": "2022-11-09T20:06:59.547Z"
   },
   {
    "duration": 8,
    "start_time": "2022-11-09T20:06:59.778Z"
   },
   {
    "duration": 38,
    "start_time": "2022-11-09T20:06:59.788Z"
   },
   {
    "duration": 1219,
    "start_time": "2022-11-09T20:06:59.827Z"
   },
   {
    "duration": 5,
    "start_time": "2022-11-09T20:07:10.710Z"
   },
   {
    "duration": 4,
    "start_time": "2022-11-09T20:07:22.642Z"
   },
   {
    "duration": 9,
    "start_time": "2022-11-09T20:07:28.761Z"
   },
   {
    "duration": 5,
    "start_time": "2022-11-09T20:07:35.002Z"
   },
   {
    "duration": 19,
    "start_time": "2022-11-09T20:10:33.890Z"
   },
   {
    "duration": 5,
    "start_time": "2022-11-09T20:10:46.206Z"
   },
   {
    "duration": 5,
    "start_time": "2022-11-09T20:11:29.887Z"
   },
   {
    "duration": 47,
    "start_time": "2022-11-09T20:15:24.465Z"
   },
   {
    "duration": 27,
    "start_time": "2022-11-09T20:16:14.745Z"
   },
   {
    "duration": 27,
    "start_time": "2022-11-09T20:16:24.285Z"
   },
   {
    "duration": 34,
    "start_time": "2022-11-09T20:16:51.877Z"
   },
   {
    "duration": 22,
    "start_time": "2022-11-09T20:18:18.242Z"
   },
   {
    "duration": 23,
    "start_time": "2022-11-09T20:24:55.540Z"
   },
   {
    "duration": 5,
    "start_time": "2022-11-09T20:25:29.979Z"
   },
   {
    "duration": 34,
    "start_time": "2022-11-09T20:26:27.010Z"
   },
   {
    "duration": 3,
    "start_time": "2022-11-09T20:26:29.351Z"
   },
   {
    "duration": 14,
    "start_time": "2022-11-09T21:17:48.814Z"
   },
   {
    "duration": 5,
    "start_time": "2022-11-09T21:17:50.036Z"
   },
   {
    "duration": 46,
    "start_time": "2022-11-09T21:17:50.993Z"
   },
   {
    "duration": 44,
    "start_time": "2022-11-09T21:17:52.493Z"
   },
   {
    "duration": 5,
    "start_time": "2022-11-09T21:17:53.001Z"
   },
   {
    "duration": 6,
    "start_time": "2022-11-09T21:17:54.352Z"
   },
   {
    "duration": 5,
    "start_time": "2022-11-09T21:17:54.621Z"
   },
   {
    "duration": 22,
    "start_time": "2022-11-09T21:25:26.639Z"
   },
   {
    "duration": 47,
    "start_time": "2022-11-09T21:25:47.578Z"
   },
   {
    "duration": 11,
    "start_time": "2022-11-09T21:26:24.808Z"
   },
   {
    "duration": 40,
    "start_time": "2022-11-09T21:26:35.432Z"
   },
   {
    "duration": 9,
    "start_time": "2022-11-09T21:27:09.238Z"
   },
   {
    "duration": 203,
    "start_time": "2022-11-09T21:32:46.539Z"
   },
   {
    "duration": 333,
    "start_time": "2022-11-09T21:33:29.046Z"
   },
   {
    "duration": 232,
    "start_time": "2022-11-09T21:33:34.236Z"
   },
   {
    "duration": 205,
    "start_time": "2022-11-09T21:33:41.886Z"
   },
   {
    "duration": 7,
    "start_time": "2022-11-09T21:39:02.948Z"
   },
   {
    "duration": 8,
    "start_time": "2022-11-09T21:39:20.978Z"
   },
   {
    "duration": 15,
    "start_time": "2022-11-09T21:39:56.921Z"
   },
   {
    "duration": 7,
    "start_time": "2022-11-09T21:40:12.730Z"
   },
   {
    "duration": 225,
    "start_time": "2022-11-09T21:41:31.247Z"
   },
   {
    "duration": 11,
    "start_time": "2022-11-09T21:41:35.081Z"
   },
   {
    "duration": 3,
    "start_time": "2022-11-09T21:41:44.443Z"
   },
   {
    "duration": 63,
    "start_time": "2022-11-09T21:41:44.448Z"
   },
   {
    "duration": 12,
    "start_time": "2022-11-09T21:41:44.512Z"
   },
   {
    "duration": 11,
    "start_time": "2022-11-09T21:41:44.525Z"
   },
   {
    "duration": 4,
    "start_time": "2022-11-09T21:41:44.537Z"
   },
   {
    "duration": 6,
    "start_time": "2022-11-09T21:41:44.542Z"
   },
   {
    "duration": 8,
    "start_time": "2022-11-09T21:41:44.549Z"
   },
   {
    "duration": 21,
    "start_time": "2022-11-09T21:41:44.558Z"
   },
   {
    "duration": 6,
    "start_time": "2022-11-09T21:41:44.581Z"
   },
   {
    "duration": 256,
    "start_time": "2022-11-09T21:41:44.588Z"
   },
   {
    "duration": 254,
    "start_time": "2022-11-09T21:41:44.846Z"
   },
   {
    "duration": 2,
    "start_time": "2022-11-09T21:41:45.102Z"
   },
   {
    "duration": 10,
    "start_time": "2022-11-09T21:41:45.105Z"
   },
   {
    "duration": 12,
    "start_time": "2022-11-09T21:41:45.117Z"
   },
   {
    "duration": 203,
    "start_time": "2022-11-09T21:41:45.130Z"
   },
   {
    "duration": 4,
    "start_time": "2022-11-09T21:41:45.335Z"
   },
   {
    "duration": 3072,
    "start_time": "2022-11-09T21:41:45.340Z"
   },
   {
    "duration": 2962,
    "start_time": "2022-11-09T21:41:48.414Z"
   },
   {
    "duration": 3,
    "start_time": "2022-11-09T21:41:51.378Z"
   },
   {
    "duration": 11,
    "start_time": "2022-11-09T21:41:51.382Z"
   },
   {
    "duration": 15,
    "start_time": "2022-11-09T21:41:51.395Z"
   },
   {
    "duration": 207,
    "start_time": "2022-11-09T21:41:51.411Z"
   },
   {
    "duration": 8,
    "start_time": "2022-11-09T21:41:51.619Z"
   },
   {
    "duration": 6,
    "start_time": "2022-11-09T21:41:51.630Z"
   },
   {
    "duration": 46,
    "start_time": "2022-11-09T21:41:51.637Z"
   },
   {
    "duration": 35,
    "start_time": "2022-11-09T21:41:51.684Z"
   },
   {
    "duration": 4,
    "start_time": "2022-11-09T21:41:51.720Z"
   },
   {
    "duration": 12,
    "start_time": "2022-11-09T21:41:51.725Z"
   },
   {
    "duration": 5,
    "start_time": "2022-11-09T21:41:51.738Z"
   },
   {
    "duration": 35,
    "start_time": "2022-11-09T21:41:51.744Z"
   },
   {
    "duration": 58,
    "start_time": "2022-11-09T21:41:51.780Z"
   },
   {
    "duration": 127,
    "start_time": "2022-11-09T21:41:51.840Z"
   },
   {
    "duration": 12,
    "start_time": "2022-11-09T21:41:51.969Z"
   },
   {
    "duration": 225,
    "start_time": "2022-11-09T21:41:51.982Z"
   },
   {
    "duration": 11,
    "start_time": "2022-11-09T21:41:52.209Z"
   },
   {
    "duration": 11,
    "start_time": "2022-11-09T21:42:03.581Z"
   },
   {
    "duration": 203,
    "start_time": "2022-11-09T21:42:44.382Z"
   },
   {
    "duration": 208,
    "start_time": "2022-11-09T21:43:40.243Z"
   },
   {
    "duration": 203,
    "start_time": "2022-11-09T21:43:55.902Z"
   },
   {
    "duration": 199,
    "start_time": "2022-11-09T21:44:56.083Z"
   },
   {
    "duration": 214,
    "start_time": "2022-11-09T21:48:37.667Z"
   },
   {
    "duration": 315,
    "start_time": "2022-11-09T21:48:44.777Z"
   },
   {
    "duration": 208,
    "start_time": "2022-11-09T21:48:49.883Z"
   },
   {
    "duration": 3,
    "start_time": "2022-11-09T21:48:58.665Z"
   },
   {
    "duration": 49,
    "start_time": "2022-11-09T21:48:58.670Z"
   },
   {
    "duration": 12,
    "start_time": "2022-11-09T21:48:58.720Z"
   },
   {
    "duration": 25,
    "start_time": "2022-11-09T21:48:58.733Z"
   },
   {
    "duration": 10,
    "start_time": "2022-11-09T21:48:58.759Z"
   },
   {
    "duration": 21,
    "start_time": "2022-11-09T21:48:58.770Z"
   },
   {
    "duration": 24,
    "start_time": "2022-11-09T21:48:58.793Z"
   },
   {
    "duration": 32,
    "start_time": "2022-11-09T21:48:58.818Z"
   },
   {
    "duration": 8,
    "start_time": "2022-11-09T21:48:58.853Z"
   },
   {
    "duration": 290,
    "start_time": "2022-11-09T21:48:58.863Z"
   },
   {
    "duration": 241,
    "start_time": "2022-11-09T21:48:59.154Z"
   },
   {
    "duration": 2,
    "start_time": "2022-11-09T21:48:59.397Z"
   },
   {
    "duration": 30,
    "start_time": "2022-11-09T21:48:59.401Z"
   },
   {
    "duration": 35,
    "start_time": "2022-11-09T21:48:59.432Z"
   },
   {
    "duration": 210,
    "start_time": "2022-11-09T21:48:59.468Z"
   },
   {
    "duration": 4,
    "start_time": "2022-11-09T21:48:59.679Z"
   },
   {
    "duration": 3164,
    "start_time": "2022-11-09T21:48:59.684Z"
   },
   {
    "duration": 3054,
    "start_time": "2022-11-09T21:49:02.849Z"
   },
   {
    "duration": 3,
    "start_time": "2022-11-09T21:49:05.904Z"
   },
   {
    "duration": 8,
    "start_time": "2022-11-09T21:49:05.908Z"
   },
   {
    "duration": 12,
    "start_time": "2022-11-09T21:49:05.918Z"
   },
   {
    "duration": 215,
    "start_time": "2022-11-09T21:49:05.931Z"
   },
   {
    "duration": 8,
    "start_time": "2022-11-09T21:49:06.148Z"
   },
   {
    "duration": 5,
    "start_time": "2022-11-09T21:49:06.158Z"
   },
   {
    "duration": 22,
    "start_time": "2022-11-09T21:49:06.177Z"
   },
   {
    "duration": 31,
    "start_time": "2022-11-09T21:49:06.201Z"
   },
   {
    "duration": 4,
    "start_time": "2022-11-09T21:49:06.234Z"
   },
   {
    "duration": 6,
    "start_time": "2022-11-09T21:49:06.240Z"
   },
   {
    "duration": 31,
    "start_time": "2022-11-09T21:49:06.247Z"
   },
   {
    "duration": 9,
    "start_time": "2022-11-09T21:49:06.279Z"
   },
   {
    "duration": 51,
    "start_time": "2022-11-09T21:49:06.290Z"
   },
   {
    "duration": 117,
    "start_time": "2022-11-09T21:49:06.342Z"
   },
   {
    "duration": 7,
    "start_time": "2022-11-09T21:49:06.460Z"
   },
   {
    "duration": 202,
    "start_time": "2022-11-09T21:49:06.478Z"
   },
   {
    "duration": 6,
    "start_time": "2022-11-09T21:49:06.682Z"
   },
   {
    "duration": 203,
    "start_time": "2022-11-09T21:49:18.017Z"
   },
   {
    "duration": 222,
    "start_time": "2022-11-09T21:49:21.439Z"
   },
   {
    "duration": 216,
    "start_time": "2022-11-09T21:49:35.808Z"
   },
   {
    "duration": 3,
    "start_time": "2022-11-09T21:49:43.473Z"
   },
   {
    "duration": 32,
    "start_time": "2022-11-09T21:49:43.478Z"
   },
   {
    "duration": 11,
    "start_time": "2022-11-09T21:49:43.512Z"
   },
   {
    "duration": 11,
    "start_time": "2022-11-09T21:49:43.524Z"
   },
   {
    "duration": 5,
    "start_time": "2022-11-09T21:49:43.537Z"
   },
   {
    "duration": 5,
    "start_time": "2022-11-09T21:49:43.543Z"
   },
   {
    "duration": 7,
    "start_time": "2022-11-09T21:49:43.549Z"
   },
   {
    "duration": 31,
    "start_time": "2022-11-09T21:49:43.557Z"
   },
   {
    "duration": 7,
    "start_time": "2022-11-09T21:49:43.590Z"
   },
   {
    "duration": 266,
    "start_time": "2022-11-09T21:49:43.599Z"
   },
   {
    "duration": 311,
    "start_time": "2022-11-09T21:49:43.866Z"
   },
   {
    "duration": 3,
    "start_time": "2022-11-09T21:49:44.178Z"
   },
   {
    "duration": 9,
    "start_time": "2022-11-09T21:49:44.182Z"
   },
   {
    "duration": 12,
    "start_time": "2022-11-09T21:49:44.193Z"
   },
   {
    "duration": 200,
    "start_time": "2022-11-09T21:49:44.206Z"
   },
   {
    "duration": 4,
    "start_time": "2022-11-09T21:49:44.407Z"
   },
   {
    "duration": 3085,
    "start_time": "2022-11-09T21:49:44.412Z"
   },
   {
    "duration": 2999,
    "start_time": "2022-11-09T21:49:47.499Z"
   },
   {
    "duration": 3,
    "start_time": "2022-11-09T21:49:50.500Z"
   },
   {
    "duration": 25,
    "start_time": "2022-11-09T21:49:50.504Z"
   },
   {
    "duration": 28,
    "start_time": "2022-11-09T21:49:50.531Z"
   },
   {
    "duration": 231,
    "start_time": "2022-11-09T21:49:50.560Z"
   },
   {
    "duration": 9,
    "start_time": "2022-11-09T21:49:50.792Z"
   },
   {
    "duration": 20,
    "start_time": "2022-11-09T21:49:50.802Z"
   },
   {
    "duration": 44,
    "start_time": "2022-11-09T21:49:50.824Z"
   },
   {
    "duration": 47,
    "start_time": "2022-11-09T21:49:50.869Z"
   },
   {
    "duration": 4,
    "start_time": "2022-11-09T21:49:50.918Z"
   },
   {
    "duration": 30,
    "start_time": "2022-11-09T21:49:50.923Z"
   },
   {
    "duration": 22,
    "start_time": "2022-11-09T21:49:50.954Z"
   },
   {
    "duration": 42,
    "start_time": "2022-11-09T21:49:50.978Z"
   },
   {
    "duration": 84,
    "start_time": "2022-11-09T21:49:51.021Z"
   },
   {
    "duration": 130,
    "start_time": "2022-11-09T21:49:51.107Z"
   },
   {
    "duration": 7,
    "start_time": "2022-11-09T21:49:51.239Z"
   },
   {
    "duration": 247,
    "start_time": "2022-11-09T21:49:51.247Z"
   },
   {
    "duration": 303,
    "start_time": "2022-11-09T21:50:23.688Z"
   },
   {
    "duration": 210,
    "start_time": "2022-11-09T21:50:28.577Z"
   },
   {
    "duration": 4,
    "start_time": "2022-11-09T21:50:34.561Z"
   },
   {
    "duration": 37,
    "start_time": "2022-11-09T21:50:34.567Z"
   },
   {
    "duration": 13,
    "start_time": "2022-11-09T21:50:34.607Z"
   },
   {
    "duration": 14,
    "start_time": "2022-11-09T21:50:34.622Z"
   },
   {
    "duration": 5,
    "start_time": "2022-11-09T21:50:34.638Z"
   },
   {
    "duration": 5,
    "start_time": "2022-11-09T21:50:34.645Z"
   },
   {
    "duration": 27,
    "start_time": "2022-11-09T21:50:34.652Z"
   },
   {
    "duration": 23,
    "start_time": "2022-11-09T21:50:34.680Z"
   },
   {
    "duration": 8,
    "start_time": "2022-11-09T21:50:34.705Z"
   },
   {
    "duration": 351,
    "start_time": "2022-11-09T21:50:34.715Z"
   },
   {
    "duration": 280,
    "start_time": "2022-11-09T21:50:35.068Z"
   },
   {
    "duration": 3,
    "start_time": "2022-11-09T21:50:35.349Z"
   },
   {
    "duration": 5,
    "start_time": "2022-11-09T21:50:35.355Z"
   },
   {
    "duration": 25,
    "start_time": "2022-11-09T21:50:35.361Z"
   },
   {
    "duration": 243,
    "start_time": "2022-11-09T21:50:35.387Z"
   },
   {
    "duration": 4,
    "start_time": "2022-11-09T21:50:35.632Z"
   },
   {
    "duration": 3255,
    "start_time": "2022-11-09T21:50:35.638Z"
   },
   {
    "duration": 2982,
    "start_time": "2022-11-09T21:50:38.895Z"
   },
   {
    "duration": 2,
    "start_time": "2022-11-09T21:50:41.879Z"
   },
   {
    "duration": 6,
    "start_time": "2022-11-09T21:50:41.883Z"
   },
   {
    "duration": 15,
    "start_time": "2022-11-09T21:50:41.890Z"
   },
   {
    "duration": 221,
    "start_time": "2022-11-09T21:50:41.907Z"
   },
   {
    "duration": 8,
    "start_time": "2022-11-09T21:50:42.130Z"
   },
   {
    "duration": 10,
    "start_time": "2022-11-09T21:50:42.140Z"
   },
   {
    "duration": 30,
    "start_time": "2022-11-09T21:50:42.151Z"
   },
   {
    "duration": 29,
    "start_time": "2022-11-09T21:50:42.183Z"
   },
   {
    "duration": 4,
    "start_time": "2022-11-09T21:50:42.214Z"
   },
   {
    "duration": 6,
    "start_time": "2022-11-09T21:50:42.219Z"
   },
   {
    "duration": 6,
    "start_time": "2022-11-09T21:50:42.227Z"
   },
   {
    "duration": 13,
    "start_time": "2022-11-09T21:50:42.234Z"
   },
   {
    "duration": 80,
    "start_time": "2022-11-09T21:50:42.249Z"
   },
   {
    "duration": 124,
    "start_time": "2022-11-09T21:50:42.331Z"
   },
   {
    "duration": 6,
    "start_time": "2022-11-09T21:50:42.457Z"
   },
   {
    "duration": 198,
    "start_time": "2022-11-09T21:50:57.707Z"
   },
   {
    "duration": 1271,
    "start_time": "2022-11-09T21:58:54.487Z"
   },
   {
    "duration": 33,
    "start_time": "2022-11-09T21:58:55.760Z"
   },
   {
    "duration": 16,
    "start_time": "2022-11-09T21:58:55.795Z"
   },
   {
    "duration": 11,
    "start_time": "2022-11-09T21:58:55.813Z"
   },
   {
    "duration": 5,
    "start_time": "2022-11-09T21:58:55.825Z"
   },
   {
    "duration": 7,
    "start_time": "2022-11-09T21:58:55.831Z"
   },
   {
    "duration": 7,
    "start_time": "2022-11-09T21:58:55.839Z"
   },
   {
    "duration": 31,
    "start_time": "2022-11-09T21:58:55.848Z"
   },
   {
    "duration": 6,
    "start_time": "2022-11-09T21:58:55.880Z"
   },
   {
    "duration": 250,
    "start_time": "2022-11-09T21:58:55.889Z"
   },
   {
    "duration": 239,
    "start_time": "2022-11-09T21:58:56.141Z"
   },
   {
    "duration": 3,
    "start_time": "2022-11-09T21:58:56.381Z"
   },
   {
    "duration": 7,
    "start_time": "2022-11-09T21:58:56.385Z"
   },
   {
    "duration": 18,
    "start_time": "2022-11-09T21:58:56.393Z"
   },
   {
    "duration": 235,
    "start_time": "2022-11-09T21:58:56.413Z"
   },
   {
    "duration": 4,
    "start_time": "2022-11-09T21:58:56.650Z"
   },
   {
    "duration": 3106,
    "start_time": "2022-11-09T21:58:56.656Z"
   },
   {
    "duration": 3108,
    "start_time": "2022-11-09T21:58:59.764Z"
   },
   {
    "duration": 4,
    "start_time": "2022-11-09T21:59:02.874Z"
   },
   {
    "duration": 12,
    "start_time": "2022-11-09T21:59:02.879Z"
   },
   {
    "duration": 10,
    "start_time": "2022-11-09T21:59:02.893Z"
   },
   {
    "duration": 222,
    "start_time": "2022-11-09T21:59:02.905Z"
   },
   {
    "duration": 9,
    "start_time": "2022-11-09T21:59:03.128Z"
   },
   {
    "duration": 8,
    "start_time": "2022-11-09T21:59:03.138Z"
   },
   {
    "duration": 41,
    "start_time": "2022-11-09T21:59:03.148Z"
   },
   {
    "duration": 32,
    "start_time": "2022-11-09T21:59:03.191Z"
   },
   {
    "duration": 3,
    "start_time": "2022-11-09T21:59:03.224Z"
   },
   {
    "duration": 10,
    "start_time": "2022-11-09T21:59:03.230Z"
   },
   {
    "duration": 6,
    "start_time": "2022-11-09T21:59:03.242Z"
   },
   {
    "duration": 29,
    "start_time": "2022-11-09T21:59:03.249Z"
   },
   {
    "duration": 56,
    "start_time": "2022-11-09T21:59:03.279Z"
   },
   {
    "duration": 122,
    "start_time": "2022-11-09T21:59:03.337Z"
   },
   {
    "duration": 6,
    "start_time": "2022-11-09T21:59:03.460Z"
   },
   {
    "duration": 104,
    "start_time": "2022-11-09T21:59:03.467Z"
   },
   {
    "duration": 0,
    "start_time": "2022-11-09T21:59:03.578Z"
   },
   {
    "duration": 10,
    "start_time": "2022-11-09T22:01:39.179Z"
   },
   {
    "duration": 9,
    "start_time": "2022-11-09T22:01:43.767Z"
   },
   {
    "duration": 1271,
    "start_time": "2022-11-09T22:01:52.790Z"
   },
   {
    "duration": 41,
    "start_time": "2022-11-09T22:01:54.064Z"
   },
   {
    "duration": 16,
    "start_time": "2022-11-09T22:01:54.106Z"
   },
   {
    "duration": 11,
    "start_time": "2022-11-09T22:01:54.123Z"
   },
   {
    "duration": 5,
    "start_time": "2022-11-09T22:01:54.136Z"
   },
   {
    "duration": 8,
    "start_time": "2022-11-09T22:01:54.143Z"
   },
   {
    "duration": 10,
    "start_time": "2022-11-09T22:01:54.152Z"
   },
   {
    "duration": 18,
    "start_time": "2022-11-09T22:01:54.163Z"
   },
   {
    "duration": 6,
    "start_time": "2022-11-09T22:01:54.183Z"
   },
   {
    "duration": 262,
    "start_time": "2022-11-09T22:01:54.190Z"
   },
   {
    "duration": 245,
    "start_time": "2022-11-09T22:01:54.454Z"
   },
   {
    "duration": 2,
    "start_time": "2022-11-09T22:01:54.701Z"
   },
   {
    "duration": 6,
    "start_time": "2022-11-09T22:01:54.705Z"
   },
   {
    "duration": 10,
    "start_time": "2022-11-09T22:01:54.713Z"
   },
   {
    "duration": 248,
    "start_time": "2022-11-09T22:01:54.724Z"
   },
   {
    "duration": 4,
    "start_time": "2022-11-09T22:01:54.974Z"
   },
   {
    "duration": 3065,
    "start_time": "2022-11-09T22:01:54.979Z"
   },
   {
    "duration": 2868,
    "start_time": "2022-11-09T22:01:58.046Z"
   },
   {
    "duration": 2,
    "start_time": "2022-11-09T22:02:00.916Z"
   },
   {
    "duration": 14,
    "start_time": "2022-11-09T22:02:00.920Z"
   },
   {
    "duration": 30,
    "start_time": "2022-11-09T22:02:00.935Z"
   },
   {
    "duration": 221,
    "start_time": "2022-11-09T22:02:00.967Z"
   },
   {
    "duration": 8,
    "start_time": "2022-11-09T22:02:01.190Z"
   },
   {
    "duration": 14,
    "start_time": "2022-11-09T22:02:01.199Z"
   },
   {
    "duration": 29,
    "start_time": "2022-11-09T22:02:01.214Z"
   },
   {
    "duration": 41,
    "start_time": "2022-11-09T22:02:01.244Z"
   },
   {
    "duration": 4,
    "start_time": "2022-11-09T22:02:01.287Z"
   },
   {
    "duration": 17,
    "start_time": "2022-11-09T22:02:01.292Z"
   },
   {
    "duration": 9,
    "start_time": "2022-11-09T22:02:01.310Z"
   },
   {
    "duration": 12,
    "start_time": "2022-11-09T22:02:01.321Z"
   },
   {
    "duration": 65,
    "start_time": "2022-11-09T22:02:01.335Z"
   },
   {
    "duration": 105,
    "start_time": "2022-11-09T22:02:01.402Z"
   },
   {
    "duration": 5,
    "start_time": "2022-11-09T22:02:01.508Z"
   },
   {
    "duration": 108,
    "start_time": "2022-11-09T22:02:01.514Z"
   },
   {
    "duration": 0,
    "start_time": "2022-11-09T22:02:01.624Z"
   },
   {
    "duration": 10,
    "start_time": "2022-11-09T22:03:54.420Z"
   },
   {
    "duration": 10,
    "start_time": "2022-11-09T22:11:31.295Z"
   },
   {
    "duration": 1255,
    "start_time": "2022-11-09T22:11:37.626Z"
   },
   {
    "duration": 32,
    "start_time": "2022-11-09T22:11:38.883Z"
   },
   {
    "duration": 16,
    "start_time": "2022-11-09T22:11:38.916Z"
   },
   {
    "duration": 12,
    "start_time": "2022-11-09T22:11:38.933Z"
   },
   {
    "duration": 4,
    "start_time": "2022-11-09T22:11:38.947Z"
   },
   {
    "duration": 7,
    "start_time": "2022-11-09T22:11:38.953Z"
   },
   {
    "duration": 8,
    "start_time": "2022-11-09T22:11:38.961Z"
   },
   {
    "duration": 23,
    "start_time": "2022-11-09T22:11:38.971Z"
   },
   {
    "duration": 6,
    "start_time": "2022-11-09T22:11:38.996Z"
   },
   {
    "duration": 255,
    "start_time": "2022-11-09T22:11:39.003Z"
   },
   {
    "duration": 248,
    "start_time": "2022-11-09T22:11:39.260Z"
   },
   {
    "duration": 3,
    "start_time": "2022-11-09T22:11:39.510Z"
   },
   {
    "duration": 6,
    "start_time": "2022-11-09T22:11:39.514Z"
   },
   {
    "duration": 9,
    "start_time": "2022-11-09T22:11:39.523Z"
   },
   {
    "duration": 263,
    "start_time": "2022-11-09T22:11:39.533Z"
   },
   {
    "duration": 4,
    "start_time": "2022-11-09T22:11:39.798Z"
   },
   {
    "duration": 3060,
    "start_time": "2022-11-09T22:11:39.804Z"
   },
   {
    "duration": 3060,
    "start_time": "2022-11-09T22:11:42.865Z"
   },
   {
    "duration": 2,
    "start_time": "2022-11-09T22:11:45.927Z"
   },
   {
    "duration": 11,
    "start_time": "2022-11-09T22:11:45.931Z"
   },
   {
    "duration": 13,
    "start_time": "2022-11-09T22:11:45.944Z"
   },
   {
    "duration": 215,
    "start_time": "2022-11-09T22:11:45.958Z"
   },
   {
    "duration": 20,
    "start_time": "2022-11-09T22:11:46.174Z"
   },
   {
    "duration": 7,
    "start_time": "2022-11-09T22:11:46.196Z"
   },
   {
    "duration": 24,
    "start_time": "2022-11-09T22:11:46.204Z"
   },
   {
    "duration": 28,
    "start_time": "2022-11-09T22:11:46.229Z"
   },
   {
    "duration": 4,
    "start_time": "2022-11-09T22:11:46.258Z"
   },
   {
    "duration": 29,
    "start_time": "2022-11-09T22:11:46.263Z"
   },
   {
    "duration": 8,
    "start_time": "2022-11-09T22:11:46.293Z"
   },
   {
    "duration": 14,
    "start_time": "2022-11-09T22:11:46.303Z"
   },
   {
    "duration": 54,
    "start_time": "2022-11-09T22:11:46.319Z"
   },
   {
    "duration": 113,
    "start_time": "2022-11-09T22:11:46.377Z"
   },
   {
    "duration": 6,
    "start_time": "2022-11-09T22:11:46.492Z"
   },
   {
    "duration": 225,
    "start_time": "2022-11-09T22:11:46.499Z"
   },
   {
    "duration": 5,
    "start_time": "2022-11-09T22:11:46.726Z"
   },
   {
    "duration": 292,
    "start_time": "2022-11-09T22:18:59.688Z"
   },
   {
    "duration": 203,
    "start_time": "2022-11-09T22:19:11.113Z"
   },
   {
    "duration": 102,
    "start_time": "2022-11-09T22:19:15.228Z"
   },
   {
    "duration": 3,
    "start_time": "2022-11-09T22:20:16.302Z"
   },
   {
    "duration": 72,
    "start_time": "2022-11-09T22:21:10.906Z"
   },
   {
    "duration": 1356,
    "start_time": "2022-11-09T22:43:32.188Z"
   },
   {
    "duration": 34,
    "start_time": "2022-11-09T22:43:33.546Z"
   },
   {
    "duration": 15,
    "start_time": "2022-11-09T22:43:33.582Z"
   },
   {
    "duration": 12,
    "start_time": "2022-11-09T22:43:33.599Z"
   },
   {
    "duration": 5,
    "start_time": "2022-11-09T22:43:33.613Z"
   },
   {
    "duration": 11,
    "start_time": "2022-11-09T22:43:33.620Z"
   },
   {
    "duration": 6,
    "start_time": "2022-11-09T22:43:33.633Z"
   },
   {
    "duration": 39,
    "start_time": "2022-11-09T22:43:33.641Z"
   },
   {
    "duration": 11,
    "start_time": "2022-11-09T22:43:33.682Z"
   },
   {
    "duration": 323,
    "start_time": "2022-11-09T22:43:33.697Z"
   },
   {
    "duration": 295,
    "start_time": "2022-11-09T22:43:34.023Z"
   },
   {
    "duration": 3,
    "start_time": "2022-11-09T22:43:34.320Z"
   },
   {
    "duration": 24,
    "start_time": "2022-11-09T22:43:34.324Z"
   },
   {
    "duration": 27,
    "start_time": "2022-11-09T22:43:34.350Z"
   },
   {
    "duration": 277,
    "start_time": "2022-11-09T22:43:34.379Z"
   },
   {
    "duration": 5,
    "start_time": "2022-11-09T22:43:34.658Z"
   },
   {
    "duration": 3342,
    "start_time": "2022-11-09T22:43:34.664Z"
   },
   {
    "duration": 2988,
    "start_time": "2022-11-09T22:43:38.007Z"
   },
   {
    "duration": 3,
    "start_time": "2022-11-09T22:43:40.996Z"
   },
   {
    "duration": 6,
    "start_time": "2022-11-09T22:43:41.001Z"
   },
   {
    "duration": 11,
    "start_time": "2022-11-09T22:43:41.009Z"
   },
   {
    "duration": 234,
    "start_time": "2022-11-09T22:43:41.022Z"
   },
   {
    "duration": 9,
    "start_time": "2022-11-09T22:43:41.258Z"
   },
   {
    "duration": 4,
    "start_time": "2022-11-09T22:43:41.278Z"
   },
   {
    "duration": 25,
    "start_time": "2022-11-09T22:43:41.283Z"
   },
   {
    "duration": 31,
    "start_time": "2022-11-09T22:43:41.309Z"
   },
   {
    "duration": 3,
    "start_time": "2022-11-09T22:43:41.341Z"
   },
   {
    "duration": 9,
    "start_time": "2022-11-09T22:43:41.347Z"
   },
   {
    "duration": 3,
    "start_time": "2022-11-09T22:43:41.378Z"
   },
   {
    "duration": 13,
    "start_time": "2022-11-09T22:43:41.382Z"
   },
   {
    "duration": 54,
    "start_time": "2022-11-09T22:43:41.397Z"
   },
   {
    "duration": 126,
    "start_time": "2022-11-09T22:43:41.453Z"
   },
   {
    "duration": 6,
    "start_time": "2022-11-09T22:43:41.580Z"
   },
   {
    "duration": 115,
    "start_time": "2022-11-09T22:43:41.588Z"
   },
   {
    "duration": 5,
    "start_time": "2022-11-09T22:43:41.704Z"
   },
   {
    "duration": 82,
    "start_time": "2022-11-10T11:25:45.743Z"
   },
   {
    "duration": 1615,
    "start_time": "2022-11-10T12:01:33.295Z"
   },
   {
    "duration": 71,
    "start_time": "2022-11-10T12:01:34.912Z"
   },
   {
    "duration": 16,
    "start_time": "2022-11-10T12:01:34.985Z"
   },
   {
    "duration": 11,
    "start_time": "2022-11-10T12:01:35.003Z"
   },
   {
    "duration": 4,
    "start_time": "2022-11-10T12:01:35.016Z"
   },
   {
    "duration": 7,
    "start_time": "2022-11-10T12:01:35.022Z"
   },
   {
    "duration": 3028,
    "start_time": "2022-11-10T12:01:35.031Z"
   },
   {
    "duration": 6,
    "start_time": "2022-11-10T12:01:38.061Z"
   },
   {
    "duration": 20,
    "start_time": "2022-11-10T12:01:38.068Z"
   },
   {
    "duration": 7,
    "start_time": "2022-11-10T12:01:38.090Z"
   },
   {
    "duration": 290,
    "start_time": "2022-11-10T12:01:38.099Z"
   },
   {
    "duration": 289,
    "start_time": "2022-11-10T12:01:38.390Z"
   },
   {
    "duration": 2,
    "start_time": "2022-11-10T12:01:38.681Z"
   },
   {
    "duration": 7,
    "start_time": "2022-11-10T12:01:38.685Z"
   },
   {
    "duration": 23,
    "start_time": "2022-11-10T12:01:38.693Z"
   },
   {
    "duration": 259,
    "start_time": "2022-11-10T12:01:38.718Z"
   },
   {
    "duration": 4,
    "start_time": "2022-11-10T12:01:38.979Z"
   },
   {
    "duration": 3604,
    "start_time": "2022-11-10T12:01:38.985Z"
   },
   {
    "duration": 3380,
    "start_time": "2022-11-10T12:01:42.591Z"
   },
   {
    "duration": 5,
    "start_time": "2022-11-10T12:01:45.973Z"
   },
   {
    "duration": 8,
    "start_time": "2022-11-10T12:01:45.980Z"
   },
   {
    "duration": 15,
    "start_time": "2022-11-10T12:01:45.990Z"
   },
   {
    "duration": 321,
    "start_time": "2022-11-10T12:01:46.013Z"
   },
   {
    "duration": 10,
    "start_time": "2022-11-10T12:01:46.336Z"
   },
   {
    "duration": 8,
    "start_time": "2022-11-10T12:01:46.348Z"
   },
   {
    "duration": 28,
    "start_time": "2022-11-10T12:01:46.357Z"
   },
   {
    "duration": 67,
    "start_time": "2022-11-10T12:01:46.387Z"
   },
   {
    "duration": 4,
    "start_time": "2022-11-10T12:01:46.457Z"
   },
   {
    "duration": 15,
    "start_time": "2022-11-10T12:01:46.463Z"
   },
   {
    "duration": 6,
    "start_time": "2022-11-10T12:01:46.480Z"
   },
   {
    "duration": 26,
    "start_time": "2022-11-10T12:01:46.488Z"
   },
   {
    "duration": 116,
    "start_time": "2022-11-10T12:01:46.516Z"
   },
   {
    "duration": 7,
    "start_time": "2022-11-10T12:01:46.635Z"
   },
   {
    "duration": 8,
    "start_time": "2022-11-10T12:55:22.652Z"
   },
   {
    "duration": 4,
    "start_time": "2022-11-10T12:55:28.902Z"
   },
   {
    "duration": 36,
    "start_time": "2022-11-10T12:55:28.912Z"
   },
   {
    "duration": 12,
    "start_time": "2022-11-10T12:55:28.950Z"
   },
   {
    "duration": 16,
    "start_time": "2022-11-10T12:55:28.964Z"
   },
   {
    "duration": 4,
    "start_time": "2022-11-10T12:55:28.982Z"
   },
   {
    "duration": 10,
    "start_time": "2022-11-10T12:55:28.989Z"
   },
   {
    "duration": 1854,
    "start_time": "2022-11-10T12:55:29.001Z"
   },
   {
    "duration": 6,
    "start_time": "2022-11-10T12:55:30.858Z"
   },
   {
    "duration": 24,
    "start_time": "2022-11-10T12:55:30.865Z"
   },
   {
    "duration": 7,
    "start_time": "2022-11-10T12:55:30.890Z"
   },
   {
    "duration": 259,
    "start_time": "2022-11-10T12:55:30.898Z"
   },
   {
    "duration": 252,
    "start_time": "2022-11-10T12:55:31.159Z"
   },
   {
    "duration": 3,
    "start_time": "2022-11-10T12:55:31.412Z"
   },
   {
    "duration": 7,
    "start_time": "2022-11-10T12:55:31.416Z"
   },
   {
    "duration": 15,
    "start_time": "2022-11-10T12:55:31.425Z"
   },
   {
    "duration": 224,
    "start_time": "2022-11-10T12:55:31.442Z"
   },
   {
    "duration": 4,
    "start_time": "2022-11-10T12:55:31.668Z"
   },
   {
    "duration": 3168,
    "start_time": "2022-11-10T12:55:31.673Z"
   },
   {
    "duration": 3013,
    "start_time": "2022-11-10T12:55:34.843Z"
   },
   {
    "duration": 3,
    "start_time": "2022-11-10T12:55:37.857Z"
   },
   {
    "duration": 8,
    "start_time": "2022-11-10T12:55:37.861Z"
   },
   {
    "duration": 13,
    "start_time": "2022-11-10T12:55:37.870Z"
   },
   {
    "duration": 211,
    "start_time": "2022-11-10T12:55:37.885Z"
   },
   {
    "duration": 15,
    "start_time": "2022-11-10T12:55:38.098Z"
   },
   {
    "duration": 4,
    "start_time": "2022-11-10T12:55:38.114Z"
   },
   {
    "duration": 27,
    "start_time": "2022-11-10T12:55:38.119Z"
   },
   {
    "duration": 28,
    "start_time": "2022-11-10T12:55:38.147Z"
   },
   {
    "duration": 4,
    "start_time": "2022-11-10T12:55:38.176Z"
   },
   {
    "duration": 15,
    "start_time": "2022-11-10T12:55:38.181Z"
   },
   {
    "duration": 17,
    "start_time": "2022-11-10T12:55:38.198Z"
   },
   {
    "duration": 15,
    "start_time": "2022-11-10T12:55:38.217Z"
   },
   {
    "duration": 8,
    "start_time": "2022-11-10T12:55:38.233Z"
   },
   {
    "duration": 8,
    "start_time": "2022-11-10T12:55:42.467Z"
   },
   {
    "duration": 1327,
    "start_time": "2022-11-10T12:57:02.683Z"
   },
   {
    "duration": 32,
    "start_time": "2022-11-10T12:57:04.011Z"
   },
   {
    "duration": 15,
    "start_time": "2022-11-10T12:57:04.045Z"
   },
   {
    "duration": 12,
    "start_time": "2022-11-10T12:57:04.062Z"
   },
   {
    "duration": 4,
    "start_time": "2022-11-10T12:57:04.075Z"
   },
   {
    "duration": 8,
    "start_time": "2022-11-10T12:57:04.080Z"
   },
   {
    "duration": 1858,
    "start_time": "2022-11-10T12:57:04.089Z"
   },
   {
    "duration": 5,
    "start_time": "2022-11-10T12:57:05.949Z"
   },
   {
    "duration": 21,
    "start_time": "2022-11-10T12:57:05.955Z"
   },
   {
    "duration": 6,
    "start_time": "2022-11-10T12:57:05.978Z"
   },
   {
    "duration": 263,
    "start_time": "2022-11-10T12:57:05.986Z"
   },
   {
    "duration": 259,
    "start_time": "2022-11-10T12:57:06.250Z"
   },
   {
    "duration": 2,
    "start_time": "2022-11-10T12:57:06.513Z"
   },
   {
    "duration": 8,
    "start_time": "2022-11-10T12:57:06.517Z"
   },
   {
    "duration": 14,
    "start_time": "2022-11-10T12:57:06.526Z"
   },
   {
    "duration": 248,
    "start_time": "2022-11-10T12:57:06.541Z"
   },
   {
    "duration": 4,
    "start_time": "2022-11-10T12:57:06.791Z"
   },
   {
    "duration": 3247,
    "start_time": "2022-11-10T12:57:06.796Z"
   },
   {
    "duration": 3048,
    "start_time": "2022-11-10T12:57:10.045Z"
   },
   {
    "duration": 3,
    "start_time": "2022-11-10T12:57:13.094Z"
   },
   {
    "duration": 6,
    "start_time": "2022-11-10T12:57:13.098Z"
   },
   {
    "duration": 12,
    "start_time": "2022-11-10T12:57:13.105Z"
   },
   {
    "duration": 277,
    "start_time": "2022-11-10T12:57:13.118Z"
   },
   {
    "duration": 17,
    "start_time": "2022-11-10T12:57:13.396Z"
   },
   {
    "duration": 4,
    "start_time": "2022-11-10T12:57:13.414Z"
   },
   {
    "duration": 27,
    "start_time": "2022-11-10T12:57:13.419Z"
   },
   {
    "duration": 46,
    "start_time": "2022-11-10T12:57:13.447Z"
   },
   {
    "duration": 3,
    "start_time": "2022-11-10T12:57:13.496Z"
   },
   {
    "duration": 18,
    "start_time": "2022-11-10T12:57:13.501Z"
   },
   {
    "duration": 11,
    "start_time": "2022-11-10T12:57:13.521Z"
   },
   {
    "duration": 11,
    "start_time": "2022-11-10T12:57:13.533Z"
   },
   {
    "duration": 107,
    "start_time": "2022-11-10T12:57:13.545Z"
   },
   {
    "duration": 0,
    "start_time": "2022-11-10T12:57:13.654Z"
   },
   {
    "duration": 9,
    "start_time": "2022-11-10T12:59:12.332Z"
   },
   {
    "duration": 10,
    "start_time": "2022-11-10T12:59:46.333Z"
   },
   {
    "duration": 9,
    "start_time": "2022-11-10T12:59:53.060Z"
   },
   {
    "duration": 10,
    "start_time": "2022-11-10T13:41:12.477Z"
   },
   {
    "duration": 1295,
    "start_time": "2022-11-10T13:41:20.886Z"
   },
   {
    "duration": 37,
    "start_time": "2022-11-10T13:41:22.182Z"
   },
   {
    "duration": 15,
    "start_time": "2022-11-10T13:41:22.221Z"
   },
   {
    "duration": 11,
    "start_time": "2022-11-10T13:41:22.238Z"
   },
   {
    "duration": 5,
    "start_time": "2022-11-10T13:41:22.251Z"
   },
   {
    "duration": 6,
    "start_time": "2022-11-10T13:41:22.257Z"
   },
   {
    "duration": 1856,
    "start_time": "2022-11-10T13:41:22.264Z"
   },
   {
    "duration": 6,
    "start_time": "2022-11-10T13:41:24.121Z"
   },
   {
    "duration": 19,
    "start_time": "2022-11-10T13:41:24.129Z"
   },
   {
    "duration": 8,
    "start_time": "2022-11-10T13:41:24.151Z"
   },
   {
    "duration": 267,
    "start_time": "2022-11-10T13:41:24.161Z"
   },
   {
    "duration": 279,
    "start_time": "2022-11-10T13:41:24.429Z"
   },
   {
    "duration": 3,
    "start_time": "2022-11-10T13:41:24.712Z"
   },
   {
    "duration": 7,
    "start_time": "2022-11-10T13:41:24.717Z"
   },
   {
    "duration": 13,
    "start_time": "2022-11-10T13:41:24.725Z"
   },
   {
    "duration": 277,
    "start_time": "2022-11-10T13:41:24.740Z"
   },
   {
    "duration": 5,
    "start_time": "2022-11-10T13:41:25.019Z"
   },
   {
    "duration": 3189,
    "start_time": "2022-11-10T13:41:25.025Z"
   },
   {
    "duration": 3132,
    "start_time": "2022-11-10T13:41:28.216Z"
   },
   {
    "duration": 2,
    "start_time": "2022-11-10T13:41:31.350Z"
   },
   {
    "duration": 8,
    "start_time": "2022-11-10T13:41:31.354Z"
   },
   {
    "duration": 17,
    "start_time": "2022-11-10T13:41:31.363Z"
   },
   {
    "duration": 220,
    "start_time": "2022-11-10T13:41:31.381Z"
   },
   {
    "duration": 15,
    "start_time": "2022-11-10T13:41:31.603Z"
   },
   {
    "duration": 6,
    "start_time": "2022-11-10T13:41:31.619Z"
   },
   {
    "duration": 28,
    "start_time": "2022-11-10T13:41:31.627Z"
   },
   {
    "duration": 30,
    "start_time": "2022-11-10T13:41:31.657Z"
   },
   {
    "duration": 23,
    "start_time": "2022-11-10T13:41:31.690Z"
   },
   {
    "duration": 4,
    "start_time": "2022-11-10T13:41:31.714Z"
   },
   {
    "duration": 7,
    "start_time": "2022-11-10T13:41:31.719Z"
   },
   {
    "duration": 13,
    "start_time": "2022-11-10T13:41:31.727Z"
   },
   {
    "duration": 133,
    "start_time": "2022-11-10T13:41:31.741Z"
   },
   {
    "duration": 0,
    "start_time": "2022-11-10T13:41:31.876Z"
   },
   {
    "duration": 9,
    "start_time": "2022-11-10T13:42:25.414Z"
   },
   {
    "duration": 13,
    "start_time": "2022-11-10T13:42:54.391Z"
   },
   {
    "duration": 2,
    "start_time": "2022-11-10T13:43:09.802Z"
   },
   {
    "duration": 7,
    "start_time": "2022-11-10T13:43:12.150Z"
   },
   {
    "duration": 7,
    "start_time": "2022-11-10T13:43:15.423Z"
   },
   {
    "duration": 6,
    "start_time": "2022-11-10T13:43:19.688Z"
   },
   {
    "duration": 9,
    "start_time": "2022-11-10T13:43:22.934Z"
   },
   {
    "duration": 6,
    "start_time": "2022-11-10T13:45:11.615Z"
   },
   {
    "duration": 13,
    "start_time": "2022-11-10T13:45:44.031Z"
   },
   {
    "duration": 16,
    "start_time": "2022-11-10T13:46:18.578Z"
   },
   {
    "duration": 16,
    "start_time": "2022-11-10T13:46:27.855Z"
   },
   {
    "duration": 14,
    "start_time": "2022-11-10T13:48:31.120Z"
   },
   {
    "duration": 7,
    "start_time": "2022-11-10T13:48:38.167Z"
   },
   {
    "duration": 1361,
    "start_time": "2022-11-10T13:48:44.914Z"
   },
   {
    "duration": 31,
    "start_time": "2022-11-10T13:48:46.278Z"
   },
   {
    "duration": 17,
    "start_time": "2022-11-10T13:48:46.311Z"
   },
   {
    "duration": 11,
    "start_time": "2022-11-10T13:48:46.330Z"
   },
   {
    "duration": 7,
    "start_time": "2022-11-10T13:48:46.342Z"
   },
   {
    "duration": 10,
    "start_time": "2022-11-10T13:48:46.350Z"
   },
   {
    "duration": 1900,
    "start_time": "2022-11-10T13:48:46.361Z"
   },
   {
    "duration": 5,
    "start_time": "2022-11-10T13:48:48.263Z"
   },
   {
    "duration": 19,
    "start_time": "2022-11-10T13:48:48.270Z"
   },
   {
    "duration": 21,
    "start_time": "2022-11-10T13:48:48.292Z"
   },
   {
    "duration": 262,
    "start_time": "2022-11-10T13:48:48.314Z"
   },
   {
    "duration": 262,
    "start_time": "2022-11-10T13:48:48.577Z"
   },
   {
    "duration": 3,
    "start_time": "2022-11-10T13:48:48.841Z"
   },
   {
    "duration": 7,
    "start_time": "2022-11-10T13:48:48.845Z"
   },
   {
    "duration": 13,
    "start_time": "2022-11-10T13:48:48.853Z"
   },
   {
    "duration": 296,
    "start_time": "2022-11-10T13:48:48.867Z"
   },
   {
    "duration": 5,
    "start_time": "2022-11-10T13:48:49.165Z"
   },
   {
    "duration": 3426,
    "start_time": "2022-11-10T13:48:49.171Z"
   },
   {
    "duration": 3138,
    "start_time": "2022-11-10T13:48:52.598Z"
   },
   {
    "duration": 2,
    "start_time": "2022-11-10T13:48:55.738Z"
   },
   {
    "duration": 9,
    "start_time": "2022-11-10T13:48:55.742Z"
   },
   {
    "duration": 15,
    "start_time": "2022-11-10T13:48:55.753Z"
   },
   {
    "duration": 222,
    "start_time": "2022-11-10T13:48:55.770Z"
   },
   {
    "duration": 9,
    "start_time": "2022-11-10T13:48:55.993Z"
   },
   {
    "duration": 14,
    "start_time": "2022-11-10T13:48:56.003Z"
   },
   {
    "duration": 27,
    "start_time": "2022-11-10T13:48:56.018Z"
   },
   {
    "duration": 29,
    "start_time": "2022-11-10T13:48:56.047Z"
   },
   {
    "duration": 4,
    "start_time": "2022-11-10T13:48:56.078Z"
   },
   {
    "duration": 32,
    "start_time": "2022-11-10T13:48:56.083Z"
   },
   {
    "duration": 6,
    "start_time": "2022-11-10T13:48:56.117Z"
   },
   {
    "duration": 15,
    "start_time": "2022-11-10T13:48:56.124Z"
   },
   {
    "duration": 15,
    "start_time": "2022-11-10T13:48:56.141Z"
   },
   {
    "duration": 7,
    "start_time": "2022-11-10T13:48:56.158Z"
   },
   {
    "duration": 6,
    "start_time": "2022-11-10T13:49:46.128Z"
   },
   {
    "duration": 8,
    "start_time": "2022-11-10T13:49:50.439Z"
   },
   {
    "duration": 7,
    "start_time": "2022-11-10T13:50:07.007Z"
   },
   {
    "duration": 8,
    "start_time": "2022-11-10T13:50:14.847Z"
   },
   {
    "duration": 14,
    "start_time": "2022-11-10T13:50:59.385Z"
   },
   {
    "duration": 13,
    "start_time": "2022-11-10T13:53:27.832Z"
   },
   {
    "duration": 344,
    "start_time": "2022-11-10T13:53:44.480Z"
   },
   {
    "duration": 129,
    "start_time": "2022-11-10T13:54:08.905Z"
   },
   {
    "duration": 1257,
    "start_time": "2022-11-10T13:54:15.329Z"
   },
   {
    "duration": 36,
    "start_time": "2022-11-10T13:54:16.587Z"
   },
   {
    "duration": 17,
    "start_time": "2022-11-10T13:54:16.625Z"
   },
   {
    "duration": 14,
    "start_time": "2022-11-10T13:54:16.644Z"
   },
   {
    "duration": 5,
    "start_time": "2022-11-10T13:54:16.660Z"
   },
   {
    "duration": 7,
    "start_time": "2022-11-10T13:54:16.666Z"
   },
   {
    "duration": 1963,
    "start_time": "2022-11-10T13:54:16.674Z"
   },
   {
    "duration": 6,
    "start_time": "2022-11-10T13:54:18.639Z"
   },
   {
    "duration": 25,
    "start_time": "2022-11-10T13:54:18.647Z"
   },
   {
    "duration": 7,
    "start_time": "2022-11-10T13:54:18.674Z"
   },
   {
    "duration": 277,
    "start_time": "2022-11-10T13:54:18.683Z"
   },
   {
    "duration": 273,
    "start_time": "2022-11-10T13:54:18.961Z"
   },
   {
    "duration": 4,
    "start_time": "2022-11-10T13:54:19.236Z"
   },
   {
    "duration": 7,
    "start_time": "2022-11-10T13:54:19.242Z"
   },
   {
    "duration": 14,
    "start_time": "2022-11-10T13:54:19.250Z"
   },
   {
    "duration": 259,
    "start_time": "2022-11-10T13:54:19.266Z"
   },
   {
    "duration": 4,
    "start_time": "2022-11-10T13:54:19.527Z"
   },
   {
    "duration": 3377,
    "start_time": "2022-11-10T13:54:19.532Z"
   },
   {
    "duration": 3194,
    "start_time": "2022-11-10T13:54:22.911Z"
   },
   {
    "duration": 2,
    "start_time": "2022-11-10T13:54:26.107Z"
   },
   {
    "duration": 12,
    "start_time": "2022-11-10T13:54:26.110Z"
   },
   {
    "duration": 15,
    "start_time": "2022-11-10T13:54:26.124Z"
   },
   {
    "duration": 224,
    "start_time": "2022-11-10T13:54:26.141Z"
   },
   {
    "duration": 10,
    "start_time": "2022-11-10T13:54:26.367Z"
   },
   {
    "duration": 7,
    "start_time": "2022-11-10T13:54:26.379Z"
   },
   {
    "duration": 45,
    "start_time": "2022-11-10T13:54:26.388Z"
   },
   {
    "duration": 45,
    "start_time": "2022-11-10T13:54:26.435Z"
   },
   {
    "duration": 5,
    "start_time": "2022-11-10T13:54:26.481Z"
   },
   {
    "duration": 8,
    "start_time": "2022-11-10T13:54:26.488Z"
   },
   {
    "duration": 5,
    "start_time": "2022-11-10T13:54:26.513Z"
   },
   {
    "duration": 12,
    "start_time": "2022-11-10T13:54:26.522Z"
   },
   {
    "duration": 111,
    "start_time": "2022-11-10T13:54:26.536Z"
   },
   {
    "duration": 153,
    "start_time": "2022-11-10T13:54:26.648Z"
   },
   {
    "duration": 13,
    "start_time": "2022-11-10T13:54:26.802Z"
   },
   {
    "duration": 14,
    "start_time": "2022-11-10T15:21:46.848Z"
   },
   {
    "duration": 17,
    "start_time": "2022-11-10T15:21:56.087Z"
   },
   {
    "duration": 9,
    "start_time": "2022-11-10T15:34:39.370Z"
   },
   {
    "duration": 3,
    "start_time": "2022-11-10T15:37:45.972Z"
   },
   {
    "duration": 4,
    "start_time": "2022-11-10T15:40:36.468Z"
   },
   {
    "duration": 72,
    "start_time": "2022-11-10T15:41:03.613Z"
   },
   {
    "duration": 6,
    "start_time": "2022-11-10T15:41:47.044Z"
   },
   {
    "duration": 10,
    "start_time": "2022-11-10T15:44:02.629Z"
   },
   {
    "duration": 12,
    "start_time": "2022-11-10T15:44:21.517Z"
   },
   {
    "duration": 15,
    "start_time": "2022-11-10T15:44:25.957Z"
   },
   {
    "duration": 13,
    "start_time": "2022-11-10T15:44:30.212Z"
   },
   {
    "duration": 14,
    "start_time": "2022-11-10T15:44:40.045Z"
   },
   {
    "duration": 12,
    "start_time": "2022-11-10T15:44:43.382Z"
   },
   {
    "duration": 106,
    "start_time": "2022-11-10T15:50:45.182Z"
   },
   {
    "duration": 18,
    "start_time": "2022-11-10T15:51:00.391Z"
   },
   {
    "duration": 11,
    "start_time": "2022-11-10T15:51:01.214Z"
   },
   {
    "duration": 10,
    "start_time": "2022-11-10T15:51:13.896Z"
   },
   {
    "duration": 10,
    "start_time": "2022-11-10T15:51:28.470Z"
   },
   {
    "duration": 13,
    "start_time": "2022-11-10T15:51:45.926Z"
   },
   {
    "duration": 15,
    "start_time": "2022-11-10T15:51:52.174Z"
   },
   {
    "duration": 26,
    "start_time": "2022-11-10T15:52:29.847Z"
   },
   {
    "duration": 21,
    "start_time": "2022-11-10T15:54:57.452Z"
   },
   {
    "duration": 3,
    "start_time": "2022-11-10T15:55:06.751Z"
   },
   {
    "duration": 12,
    "start_time": "2022-11-10T16:02:37.944Z"
   },
   {
    "duration": 10,
    "start_time": "2022-11-10T16:02:44.488Z"
   },
   {
    "duration": 9,
    "start_time": "2022-11-10T16:02:47.912Z"
   },
   {
    "duration": 11,
    "start_time": "2022-11-10T16:02:53.185Z"
   },
   {
    "duration": 5,
    "start_time": "2022-11-10T16:04:13.152Z"
   },
   {
    "duration": 5,
    "start_time": "2022-11-10T16:04:20.427Z"
   },
   {
    "duration": 4,
    "start_time": "2022-11-10T16:04:55.608Z"
   },
   {
    "duration": 1290,
    "start_time": "2022-11-10T16:08:33.761Z"
   },
   {
    "duration": 31,
    "start_time": "2022-11-10T16:08:35.053Z"
   },
   {
    "duration": 16,
    "start_time": "2022-11-10T16:08:35.085Z"
   },
   {
    "duration": 11,
    "start_time": "2022-11-10T16:08:35.104Z"
   },
   {
    "duration": 15,
    "start_time": "2022-11-10T16:08:35.117Z"
   },
   {
    "duration": 5,
    "start_time": "2022-11-10T16:08:35.134Z"
   },
   {
    "duration": 1947,
    "start_time": "2022-11-10T16:08:35.140Z"
   },
   {
    "duration": 7,
    "start_time": "2022-11-10T16:08:37.088Z"
   },
   {
    "duration": 22,
    "start_time": "2022-11-10T16:08:37.096Z"
   },
   {
    "duration": 18,
    "start_time": "2022-11-10T16:08:37.121Z"
   },
   {
    "duration": 270,
    "start_time": "2022-11-10T16:08:37.140Z"
   },
   {
    "duration": 271,
    "start_time": "2022-11-10T16:08:37.411Z"
   },
   {
    "duration": 3,
    "start_time": "2022-11-10T16:08:37.683Z"
   },
   {
    "duration": 9,
    "start_time": "2022-11-10T16:08:37.688Z"
   },
   {
    "duration": 15,
    "start_time": "2022-11-10T16:08:37.698Z"
   },
   {
    "duration": 258,
    "start_time": "2022-11-10T16:08:37.715Z"
   },
   {
    "duration": 4,
    "start_time": "2022-11-10T16:08:37.974Z"
   },
   {
    "duration": 3375,
    "start_time": "2022-11-10T16:08:37.980Z"
   },
   {
    "duration": 3207,
    "start_time": "2022-11-10T16:08:41.356Z"
   },
   {
    "duration": 3,
    "start_time": "2022-11-10T16:08:44.565Z"
   },
   {
    "duration": 6,
    "start_time": "2022-11-10T16:08:44.570Z"
   },
   {
    "duration": 13,
    "start_time": "2022-11-10T16:08:44.577Z"
   },
   {
    "duration": 253,
    "start_time": "2022-11-10T16:08:44.592Z"
   },
   {
    "duration": 9,
    "start_time": "2022-11-10T16:08:44.847Z"
   },
   {
    "duration": 5,
    "start_time": "2022-11-10T16:08:44.858Z"
   },
   {
    "duration": 59,
    "start_time": "2022-11-10T16:08:44.865Z"
   },
   {
    "duration": 38,
    "start_time": "2022-11-10T16:08:44.927Z"
   },
   {
    "duration": 4,
    "start_time": "2022-11-10T16:08:44.969Z"
   },
   {
    "duration": 8,
    "start_time": "2022-11-10T16:08:44.974Z"
   },
   {
    "duration": 5,
    "start_time": "2022-11-10T16:08:44.984Z"
   },
   {
    "duration": 11,
    "start_time": "2022-11-10T16:08:44.991Z"
   },
   {
    "duration": 15,
    "start_time": "2022-11-10T16:08:45.013Z"
   },
   {
    "duration": 4,
    "start_time": "2022-11-10T16:08:45.029Z"
   },
   {
    "duration": 12,
    "start_time": "2022-11-10T16:08:45.034Z"
   }
  ],
  "kernelspec": {
   "display_name": "Python 3 (ipykernel)",
   "language": "python",
   "name": "python3"
  },
  "language_info": {
   "codemirror_mode": {
    "name": "ipython",
    "version": 3
   },
   "file_extension": ".py",
   "mimetype": "text/x-python",
   "name": "python",
   "nbconvert_exporter": "python",
   "pygments_lexer": "ipython3",
   "version": "3.9.12"
  },
  "toc": {
   "base_numbering": 1,
   "nav_menu": {},
   "number_sections": true,
   "sideBar": true,
   "skip_h1_title": true,
   "title_cell": "Table of Contents",
   "title_sidebar": "Contents",
   "toc_cell": true,
   "toc_position": {
    "height": "calc(100% - 180px)",
    "left": "10px",
    "top": "150px",
    "width": "300.641px"
   },
   "toc_section_display": true,
   "toc_window_display": true
  }
 },
 "nbformat": 4,
 "nbformat_minor": 2
}
