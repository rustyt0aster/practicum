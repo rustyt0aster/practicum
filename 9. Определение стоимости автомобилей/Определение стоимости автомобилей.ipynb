{
 "cells": [
  {
   "cell_type": "markdown",
   "metadata": {
    "toc": true
   },
   "source": [
    "<h1>Содержание<span class=\"tocSkip\"></span></h1>\n",
    "<div class=\"toc\"><ul class=\"toc-item\"><li><span><a href=\"#Подготовка-данных\" data-toc-modified-id=\"Подготовка-данных-1\"><span class=\"toc-item-num\">1&nbsp;&nbsp;</span>Подготовка данных</a></span><ul class=\"toc-item\"><li><span><a href=\"#Описание-данных\" data-toc-modified-id=\"Описание-данных-1.1\"><span class=\"toc-item-num\">1.1&nbsp;&nbsp;</span>Описание данных</a></span></li><li><span><a href=\"#Задача\" data-toc-modified-id=\"Задача-1.2\"><span class=\"toc-item-num\">1.2&nbsp;&nbsp;</span>Задача</a></span></li><li><span><a href=\"#Импорт-библиотек\" data-toc-modified-id=\"Импорт-библиотек-1.3\"><span class=\"toc-item-num\">1.3&nbsp;&nbsp;</span>Импорт библиотек</a></span></li><li><span><a href=\"#Константы\" data-toc-modified-id=\"Константы-1.4\"><span class=\"toc-item-num\">1.4&nbsp;&nbsp;</span>Константы</a></span></li><li><span><a href=\"#Загрузка-датасета-и-общая-информация\" data-toc-modified-id=\"Загрузка-датасета-и-общая-информация-1.5\"><span class=\"toc-item-num\">1.5&nbsp;&nbsp;</span>Загрузка датасета и общая информация</a></span></li><li><span><a href=\"#Предобработка-данных\" data-toc-modified-id=\"Предобработка-данных-1.6\"><span class=\"toc-item-num\">1.6&nbsp;&nbsp;</span>Предобработка данных</a></span><ul class=\"toc-item\"><li><span><a href=\"#Обработка-типов-данных\" data-toc-modified-id=\"Обработка-типов-данных-1.6.1\"><span class=\"toc-item-num\">1.6.1&nbsp;&nbsp;</span>Обработка типов данных</a></span></li><li><span><a href=\"#Работа-с-дубликатами\" data-toc-modified-id=\"Работа-с-дубликатами-1.6.2\"><span class=\"toc-item-num\">1.6.2&nbsp;&nbsp;</span>Работа с дубликатами</a></span></li><li><span><a href=\"#Работа-с-аномалиями\" data-toc-modified-id=\"Работа-с-аномалиями-1.6.3\"><span class=\"toc-item-num\">1.6.3&nbsp;&nbsp;</span>Работа с аномалиями</a></span><ul class=\"toc-item\"><li><span><a href=\"#Даты\" data-toc-modified-id=\"Даты-1.6.3.1\"><span class=\"toc-item-num\">1.6.3.1&nbsp;&nbsp;</span>Даты</a></span><ul class=\"toc-item\"><li><span><a href=\"#date_crawled\" data-toc-modified-id=\"date_crawled-1.6.3.1.1\"><span class=\"toc-item-num\">1.6.3.1.1&nbsp;&nbsp;</span><code>date_crawled</code></a></span></li><li><span><a href=\"#registration_year\" data-toc-modified-id=\"registration_year-1.6.3.1.2\"><span class=\"toc-item-num\">1.6.3.1.2&nbsp;&nbsp;</span><code>registration_year</code></a></span></li><li><span><a href=\"#registration_month\" data-toc-modified-id=\"registration_month-1.6.3.1.3\"><span class=\"toc-item-num\">1.6.3.1.3&nbsp;&nbsp;</span><code>registration_month</code></a></span></li><li><span><a href=\"#date_created\" data-toc-modified-id=\"date_created-1.6.3.1.4\"><span class=\"toc-item-num\">1.6.3.1.4&nbsp;&nbsp;</span><code>date_created</code></a></span></li><li><span><a href=\"#last_seen\" data-toc-modified-id=\"last_seen-1.6.3.1.5\"><span class=\"toc-item-num\">1.6.3.1.5&nbsp;&nbsp;</span><code>last_seen</code></a></span></li></ul></li><li><span><a href=\"#Категориальные-признаки\" data-toc-modified-id=\"Категориальные-признаки-1.6.3.2\"><span class=\"toc-item-num\">1.6.3.2&nbsp;&nbsp;</span>Категориальные признаки</a></span><ul class=\"toc-item\"><li><span><a href=\"#vehicle_type\" data-toc-modified-id=\"vehicle_type-1.6.3.2.1\"><span class=\"toc-item-num\">1.6.3.2.1&nbsp;&nbsp;</span><code>vehicle_type</code></a></span></li><li><span><a href=\"#gearbox\" data-toc-modified-id=\"gearbox-1.6.3.2.2\"><span class=\"toc-item-num\">1.6.3.2.2&nbsp;&nbsp;</span><code>gearbox</code></a></span></li><li><span><a href=\"#model\" data-toc-modified-id=\"model-1.6.3.2.3\"><span class=\"toc-item-num\">1.6.3.2.3&nbsp;&nbsp;</span><code>model</code></a></span></li><li><span><a href=\"#fuel_type\" data-toc-modified-id=\"fuel_type-1.6.3.2.4\"><span class=\"toc-item-num\">1.6.3.2.4&nbsp;&nbsp;</span><code>fuel_type</code></a></span></li><li><span><a href=\"#brand\" data-toc-modified-id=\"brand-1.6.3.2.5\"><span class=\"toc-item-num\">1.6.3.2.5&nbsp;&nbsp;</span><code>brand</code></a></span></li><li><span><a href=\"#repaired\" data-toc-modified-id=\"repaired-1.6.3.2.6\"><span class=\"toc-item-num\">1.6.3.2.6&nbsp;&nbsp;</span><code>repaired</code></a></span></li><li><span><a href=\"#number_of_pictures\" data-toc-modified-id=\"number_of_pictures-1.6.3.2.7\"><span class=\"toc-item-num\">1.6.3.2.7&nbsp;&nbsp;</span><code>number_of_pictures</code></a></span></li></ul></li><li><span><a href=\"#Численные-признаки\" data-toc-modified-id=\"Численные-признаки-1.6.3.3\"><span class=\"toc-item-num\">1.6.3.3&nbsp;&nbsp;</span>Численные признаки</a></span><ul class=\"toc-item\"><li><span><a href=\"#price\" data-toc-modified-id=\"price-1.6.3.3.1\"><span class=\"toc-item-num\">1.6.3.3.1&nbsp;&nbsp;</span><code>price</code></a></span></li><li><span><a href=\"#power\" data-toc-modified-id=\"power-1.6.3.3.2\"><span class=\"toc-item-num\">1.6.3.3.2&nbsp;&nbsp;</span><code>power</code></a></span></li><li><span><a href=\"#kilometer\" data-toc-modified-id=\"kilometer-1.6.3.3.3\"><span class=\"toc-item-num\">1.6.3.3.3&nbsp;&nbsp;</span><code>kilometer</code></a></span></li><li><span><a href=\"#postal_code\" data-toc-modified-id=\"postal_code-1.6.3.3.4\"><span class=\"toc-item-num\">1.6.3.3.4&nbsp;&nbsp;</span><code>postal_code</code></a></span></li></ul></li></ul></li></ul></li></ul></li><li><span><a href=\"#Обучение-моделей\" data-toc-modified-id=\"Обучение-моделей-2\"><span class=\"toc-item-num\">2&nbsp;&nbsp;</span>Обучение моделей</a></span><ul class=\"toc-item\"><li><span><a href=\"#Подготовка-признаков\" data-toc-modified-id=\"Подготовка-признаков-2.1\"><span class=\"toc-item-num\">2.1&nbsp;&nbsp;</span>Подготовка признаков</a></span></li><li><span><a href=\"#Разбиение-данных\" data-toc-modified-id=\"Разбиение-данных-2.2\"><span class=\"toc-item-num\">2.2&nbsp;&nbsp;</span>Разбиение данных</a></span></li><li><span><a href=\"#Кодирование\" data-toc-modified-id=\"Кодирование-2.3\"><span class=\"toc-item-num\">2.3&nbsp;&nbsp;</span>Кодирование</a></span><ul class=\"toc-item\"><li><span><a href=\"#Прямое-кодирование-(OHE)\" data-toc-modified-id=\"Прямое-кодирование-(OHE)-2.3.1\"><span class=\"toc-item-num\">2.3.1&nbsp;&nbsp;</span>Прямое кодирование (<code>OHE</code>)</a></span></li><li><span><a href=\"#Порядковое-кодирование\" data-toc-modified-id=\"Порядковое-кодирование-2.3.2\"><span class=\"toc-item-num\">2.3.2&nbsp;&nbsp;</span>Порядковое кодирование</a></span></li></ul></li><li><span><a href=\"#Модели\" data-toc-modified-id=\"Модели-2.4\"><span class=\"toc-item-num\">2.4&nbsp;&nbsp;</span>Модели</a></span><ul class=\"toc-item\"><li><span><a href=\"#Линейная-регрессия\" data-toc-modified-id=\"Линейная-регрессия-2.4.1\"><span class=\"toc-item-num\">2.4.1&nbsp;&nbsp;</span>Линейная регрессия</a></span></li><li><span><a href=\"#Модель-случайного-леса\" data-toc-modified-id=\"Модель-случайного-леса-2.4.2\"><span class=\"toc-item-num\">2.4.2&nbsp;&nbsp;</span>Модель случайного леса</a></span></li><li><span><a href=\"#LightGBM\" data-toc-modified-id=\"LightGBM-2.4.3\"><span class=\"toc-item-num\">2.4.3&nbsp;&nbsp;</span>LightGBM</a></span></li><li><span><a href=\"#Модель-котов\" data-toc-modified-id=\"Модель-котов-2.4.4\"><span class=\"toc-item-num\">2.4.4&nbsp;&nbsp;</span>Модель котов</a></span></li></ul></li></ul></li><li><span><a href=\"#Анализ-моделей\" data-toc-modified-id=\"Анализ-моделей-3\"><span class=\"toc-item-num\">3&nbsp;&nbsp;</span>Анализ моделей</a></span><ul class=\"toc-item\"><li><span><a href=\"#Случайный-лес\" data-toc-modified-id=\"Случайный-лес-3.1\"><span class=\"toc-item-num\">3.1&nbsp;&nbsp;</span>Случайный лес</a></span></li><li><span><a href=\"#LightGBM\" data-toc-modified-id=\"LightGBM-3.2\"><span class=\"toc-item-num\">3.2&nbsp;&nbsp;</span>LightGBM</a></span></li><li><span><a href=\"#CatBoost\" data-toc-modified-id=\"CatBoost-3.3\"><span class=\"toc-item-num\">3.3&nbsp;&nbsp;</span>CatBoost</a></span></li><li><span><a href=\"#Итоговая-таблица\" data-toc-modified-id=\"Итоговая-таблица-3.4\"><span class=\"toc-item-num\">3.4&nbsp;&nbsp;</span>Итоговая таблица</a></span></li><li><span><a href=\"#Итоговые-результаты\" data-toc-modified-id=\"Итоговые-результаты-3.5\"><span class=\"toc-item-num\">3.5&nbsp;&nbsp;</span>Итоговые результаты</a></span></li></ul></li><li><span><a href=\"#Вывод\" data-toc-modified-id=\"Вывод-4\"><span class=\"toc-item-num\">4&nbsp;&nbsp;</span>Вывод</a></span></li></ul></div>"
   ]
  },
  {
   "cell_type": "markdown",
   "metadata": {},
   "source": [
    "# Определение стоимости автомобилей"
   ]
  },
  {
   "cell_type": "markdown",
   "metadata": {},
   "source": [
    "Сервис по продаже автомобилей с пробегом «Не бит, не крашен» разрабатывает приложение для привлечения новых клиентов. В нём можно быстро узнать рыночную стоимость своего автомобиля. В вашем распоряжении исторические данные: технические характеристики, комплектации и цены автомобилей. Вам нужно построить модель для определения стоимости. \n",
    "\n",
    "Заказчику важны:\n",
    "\n",
    "- качество предсказания;\n",
    "- скорость предсказания;\n",
    "- время обучения."
   ]
  },
  {
   "cell_type": "markdown",
   "metadata": {},
   "source": [
    "## Подготовка данных"
   ]
  },
  {
   "cell_type": "markdown",
   "metadata": {},
   "source": [
    "### Описание данных\n"
   ]
  },
  {
   "cell_type": "markdown",
   "metadata": {},
   "source": [
    "Признаки:\n",
    "\n",
    "- `DateCrawled` — дата скачивания анкеты из базы\n",
    "- `VehicleType` — тип автомобильного кузова\n",
    "- `RegistrationYear` — год регистрации автомобиля\n",
    "- `Gearbox` — тип коробки передач\n",
    "- `Power` — мощность (л. с.)\n",
    "- `Model` — модель автомобиля\n",
    "- `Kilometer` — пробег (км)\n",
    "- `RegistrationMonth` — месяц регистрации автомобиля\n",
    "- `FuelType` — тип топлива\n",
    "- `Brand` — марка автомобиля\n",
    "- `Repaired` — была машина в ремонте или нет\n",
    "- `DateCreated` — дата создания анкеты\n",
    "- `NumberOfPictures` — количество фотографий автомобиля\n",
    "- `PostalCode` — почтовый индекс владельца анкеты (пользователя)\n",
    "- `LastSeen` — дата последней активности пользователя\n"
   ]
  },
  {
   "cell_type": "markdown",
   "metadata": {},
   "source": [
    "Целевой признак:\n",
    "\n",
    "- `Price` (евро)"
   ]
  },
  {
   "cell_type": "markdown",
   "metadata": {},
   "source": [
    "### Задача"
   ]
  },
  {
   "cell_type": "markdown",
   "metadata": {},
   "source": [
    "- Применяя метрику `RMSE` для оценки качества, добиться значения метрики не меньше 2500. \n",
    "\n",
    "- Средствами библиотеки `LightGBM` построить модели градиентного бустинга."
   ]
  },
  {
   "cell_type": "markdown",
   "metadata": {},
   "source": [
    "### Импорт библиотек"
   ]
  },
  {
   "cell_type": "code",
   "execution_count": 1,
   "metadata": {},
   "outputs": [],
   "source": [
    "import pandas as pd\n",
    "import numpy as np\n",
    "import matplotlib.pyplot as plt"
   ]
  },
  {
   "cell_type": "code",
   "execution_count": 2,
   "metadata": {},
   "outputs": [],
   "source": [
    "from sklearn.model_selection import train_test_split\n",
    "from sklearn.model_selection import cross_val_score\n",
    "from sklearn.model_selection import RandomizedSearchCV\n",
    "from sklearn.model_selection import GridSearchCV\n",
    "from sklearn.utils import shuffle\n",
    "from sklearn.preprocessing import StandardScaler\n",
    "from sklearn.preprocessing import OrdinalEncoder\n",
    "from sklearn.preprocessing import OneHotEncoder\n",
    "from sklearn.linear_model import LinearRegression\n",
    "from sklearn.ensemble import RandomForestRegressor\n",
    "from sklearn.metrics import mean_squared_error\n",
    "from sklearn.metrics import make_scorer"
   ]
  },
  {
   "cell_type": "markdown",
   "metadata": {},
   "source": [
    "### Константы"
   ]
  },
  {
   "cell_type": "code",
   "execution_count": 86,
   "metadata": {},
   "outputs": [],
   "source": [
    "RANDOM_STATE = 1000"
   ]
  },
  {
   "cell_type": "markdown",
   "metadata": {},
   "source": [
    "### Загрузка датасета и общая информация"
   ]
  },
  {
   "cell_type": "code",
   "execution_count": 87,
   "metadata": {},
   "outputs": [
    {
     "data": {
      "text/plain": [
       "(354369, 16)"
      ]
     },
     "metadata": {},
     "output_type": "display_data"
    }
   ],
   "source": [
    "# открываем таблицу:\n",
    "try:\n",
    "    df = pd.read_csv('/datasets/autos.csv')\n",
    "except:\n",
    "    try:\n",
    "        df = pd.read_csv(r'E:\\Practicum\\2_Projects_Git\\11_numerical_analysis_auto_cost\\autos.csv')\n",
    "    except:\n",
    "        df = pd.read_csv('autos.csv')\n",
    "display(df.shape);"
   ]
  },
  {
   "cell_type": "code",
   "execution_count": 88,
   "metadata": {},
   "outputs": [
    {
     "name": "stdout",
     "output_type": "stream",
     "text": [
      "<class 'pandas.core.frame.DataFrame'>\n",
      "RangeIndex: 354369 entries, 0 to 354368\n",
      "Data columns (total 16 columns):\n",
      " #   Column             Non-Null Count   Dtype \n",
      "---  ------             --------------   ----- \n",
      " 0   DateCrawled        354369 non-null  object\n",
      " 1   Price              354369 non-null  int64 \n",
      " 2   VehicleType        316879 non-null  object\n",
      " 3   RegistrationYear   354369 non-null  int64 \n",
      " 4   Gearbox            334536 non-null  object\n",
      " 5   Power              354369 non-null  int64 \n",
      " 6   Model              334664 non-null  object\n",
      " 7   Kilometer          354369 non-null  int64 \n",
      " 8   RegistrationMonth  354369 non-null  int64 \n",
      " 9   FuelType           321474 non-null  object\n",
      " 10  Brand              354369 non-null  object\n",
      " 11  Repaired           283215 non-null  object\n",
      " 12  DateCreated        354369 non-null  object\n",
      " 13  NumberOfPictures   354369 non-null  int64 \n",
      " 14  PostalCode         354369 non-null  int64 \n",
      " 15  LastSeen           354369 non-null  object\n",
      "dtypes: int64(7), object(9)\n",
      "memory usage: 43.3+ MB\n"
     ]
    }
   ],
   "source": [
    "df.info()"
   ]
  },
  {
   "cell_type": "code",
   "execution_count": 89,
   "metadata": {},
   "outputs": [],
   "source": [
    "df_start = df.copy()"
   ]
  },
  {
   "cell_type": "markdown",
   "metadata": {},
   "source": [
    "Для удобства работы, переименуем столбцы датасета, дав им правильные с точки зрения синтаксиса имена:"
   ]
  },
  {
   "cell_type": "code",
   "execution_count": 90,
   "metadata": {},
   "outputs": [],
   "source": [
    "df = df.rename(\n",
    "    columns={'DateCrawled': 'Date_Crawled',\n",
    "             'VehicleType': 'Vehicle_Type',\n",
    "             'RegistrationYear': 'Registration_Year',\n",
    "             'RegistrationMonth': 'Registration_Month',\n",
    "             'FuelType': 'Fuel_Type',\n",
    "             'DateCreated': 'Date_Created',\n",
    "             'NumberOfPictures': 'Number_Of_Pictures',\n",
    "             'PostalCode': 'Postal_Code',\n",
    "             'LastSeen': 'Last_Seen'\n",
    "             }\n",
    ") #переименование столбцов с разделением"
   ]
  },
  {
   "cell_type": "code",
   "execution_count": 91,
   "metadata": {},
   "outputs": [
    {
     "name": "stdout",
     "output_type": "stream",
     "text": [
      "<class 'pandas.core.frame.DataFrame'>\n",
      "RangeIndex: 354369 entries, 0 to 354368\n",
      "Data columns (total 16 columns):\n",
      " #   Column              Non-Null Count   Dtype \n",
      "---  ------              --------------   ----- \n",
      " 0   date_crawled        354369 non-null  object\n",
      " 1   price               354369 non-null  int64 \n",
      " 2   vehicle_type        316879 non-null  object\n",
      " 3   registration_year   354369 non-null  int64 \n",
      " 4   gearbox             334536 non-null  object\n",
      " 5   power               354369 non-null  int64 \n",
      " 6   model               334664 non-null  object\n",
      " 7   kilometer           354369 non-null  int64 \n",
      " 8   registration_month  354369 non-null  int64 \n",
      " 9   fuel_type           321474 non-null  object\n",
      " 10  brand               354369 non-null  object\n",
      " 11  repaired            283215 non-null  object\n",
      " 12  date_created        354369 non-null  object\n",
      " 13  number_of_pictures  354369 non-null  int64 \n",
      " 14  postal_code         354369 non-null  int64 \n",
      " 15  last_seen           354369 non-null  object\n",
      "dtypes: int64(7), object(9)\n",
      "memory usage: 43.3+ MB\n"
     ]
    }
   ],
   "source": [
    "df.columns = map(str.lower, df.columns) #применить ко всем именам нижний регистр\n",
    "df.info();"
   ]
  },
  {
   "cell_type": "markdown",
   "metadata": {},
   "source": [
    "В данных имеются пустые значения. С ними мы будем работать позже. Ознакомимся с данными."
   ]
  },
  {
   "cell_type": "code",
   "execution_count": 92,
   "metadata": {},
   "outputs": [
    {
     "data": {
      "image/png": "[encoded data removed]",
      "text/plain": [
       "<Figure size 1500x2000 with 9 Axes>"
      ]
     },
     "metadata": {},
     "output_type": "display_data"
    }
   ],
   "source": [
    "df.hist(figsize=(15, 20)); #построить гистограммы каждого столбца размером 15х20"
   ]
  },
  {
   "cell_type": "markdown",
   "metadata": {},
   "source": [
    "Рассмотрим каждый признак по отдельности, сейчас трудно говорить о корректности тех или иных данных."
   ]
  },
  {
   "cell_type": "markdown",
   "metadata": {},
   "source": [
    "### Предобработка данных"
   ]
  },
  {
   "cell_type": "code",
   "execution_count": 93,
   "metadata": {},
   "outputs": [
    {
     "data": {
      "text/html": [
       "<div>\n",
       "<style scoped>\n",
       "    .dataframe tbody tr th:only-of-type {\n",
       "        vertical-align: middle;\n",
       "    }\n",
       "\n",
       "    .dataframe tbody tr th {\n",
       "        vertical-align: top;\n",
       "    }\n",
       "\n",
       "    .dataframe thead th {\n",
       "        text-align: right;\n",
       "    }\n",
       "</style>\n",
       "<table border=\"1\" class=\"dataframe\">\n",
       "  <thead>\n",
       "    <tr style=\"text-align: right;\">\n",
       "      <th></th>\n",
       "      <th>date_crawled</th>\n",
       "      <th>price</th>\n",
       "      <th>vehicle_type</th>\n",
       "      <th>registration_year</th>\n",
       "      <th>gearbox</th>\n",
       "      <th>power</th>\n",
       "      <th>model</th>\n",
       "      <th>kilometer</th>\n",
       "      <th>registration_month</th>\n",
       "      <th>fuel_type</th>\n",
       "      <th>brand</th>\n",
       "      <th>repaired</th>\n",
       "      <th>date_created</th>\n",
       "      <th>number_of_pictures</th>\n",
       "      <th>postal_code</th>\n",
       "      <th>last_seen</th>\n",
       "    </tr>\n",
       "  </thead>\n",
       "  <tbody>\n",
       "    <tr>\n",
       "      <th>0</th>\n",
       "      <td>2016-03-24 11:52:17</td>\n",
       "      <td>480</td>\n",
       "      <td>NaN</td>\n",
       "      <td>1993</td>\n",
       "      <td>manual</td>\n",
       "      <td>0</td>\n",
       "      <td>golf</td>\n",
       "      <td>150000</td>\n",
       "      <td>0</td>\n",
       "      <td>petrol</td>\n",
       "      <td>volkswagen</td>\n",
       "      <td>NaN</td>\n",
       "      <td>2016-03-24 00:00:00</td>\n",
       "      <td>0</td>\n",
       "      <td>70435</td>\n",
       "      <td>2016-04-07 03:16:57</td>\n",
       "    </tr>\n",
       "    <tr>\n",
       "      <th>1</th>\n",
       "      <td>2016-03-24 10:58:45</td>\n",
       "      <td>18300</td>\n",
       "      <td>coupe</td>\n",
       "      <td>2011</td>\n",
       "      <td>manual</td>\n",
       "      <td>190</td>\n",
       "      <td>NaN</td>\n",
       "      <td>125000</td>\n",
       "      <td>5</td>\n",
       "      <td>gasoline</td>\n",
       "      <td>audi</td>\n",
       "      <td>yes</td>\n",
       "      <td>2016-03-24 00:00:00</td>\n",
       "      <td>0</td>\n",
       "      <td>66954</td>\n",
       "      <td>2016-04-07 01:46:50</td>\n",
       "    </tr>\n",
       "    <tr>\n",
       "      <th>2</th>\n",
       "      <td>2016-03-14 12:52:21</td>\n",
       "      <td>9800</td>\n",
       "      <td>suv</td>\n",
       "      <td>2004</td>\n",
       "      <td>auto</td>\n",
       "      <td>163</td>\n",
       "      <td>grand</td>\n",
       "      <td>125000</td>\n",
       "      <td>8</td>\n",
       "      <td>gasoline</td>\n",
       "      <td>jeep</td>\n",
       "      <td>NaN</td>\n",
       "      <td>2016-03-14 00:00:00</td>\n",
       "      <td>0</td>\n",
       "      <td>90480</td>\n",
       "      <td>2016-04-05 12:47:46</td>\n",
       "    </tr>\n",
       "    <tr>\n",
       "      <th>3</th>\n",
       "      <td>2016-03-17 16:54:04</td>\n",
       "      <td>1500</td>\n",
       "      <td>small</td>\n",
       "      <td>2001</td>\n",
       "      <td>manual</td>\n",
       "      <td>75</td>\n",
       "      <td>golf</td>\n",
       "      <td>150000</td>\n",
       "      <td>6</td>\n",
       "      <td>petrol</td>\n",
       "      <td>volkswagen</td>\n",
       "      <td>no</td>\n",
       "      <td>2016-03-17 00:00:00</td>\n",
       "      <td>0</td>\n",
       "      <td>91074</td>\n",
       "      <td>2016-03-17 17:40:17</td>\n",
       "    </tr>\n",
       "    <tr>\n",
       "      <th>4</th>\n",
       "      <td>2016-03-31 17:25:20</td>\n",
       "      <td>3600</td>\n",
       "      <td>small</td>\n",
       "      <td>2008</td>\n",
       "      <td>manual</td>\n",
       "      <td>69</td>\n",
       "      <td>fabia</td>\n",
       "      <td>90000</td>\n",
       "      <td>7</td>\n",
       "      <td>gasoline</td>\n",
       "      <td>skoda</td>\n",
       "      <td>no</td>\n",
       "      <td>2016-03-31 00:00:00</td>\n",
       "      <td>0</td>\n",
       "      <td>60437</td>\n",
       "      <td>2016-04-06 10:17:21</td>\n",
       "    </tr>\n",
       "  </tbody>\n",
       "</table>\n",
       "</div>"
      ],
      "text/plain": [
       "          date_crawled  price vehicle_type  registration_year gearbox  power  \\\n",
       "0  2016-03-24 11:52:17    480          NaN               1993  manual      0   \n",
       "1  2016-03-24 10:58:45  18300        coupe               2011  manual    190   \n",
       "2  2016-03-14 12:52:21   9800          suv               2004    auto    163   \n",
       "3  2016-03-17 16:54:04   1500        small               2001  manual     75   \n",
       "4  2016-03-31 17:25:20   3600        small               2008  manual     69   \n",
       "\n",
       "   model  kilometer  registration_month fuel_type       brand repaired  \\\n",
       "0   golf     150000                   0    petrol  volkswagen      NaN   \n",
       "1    NaN     125000                   5  gasoline        audi      yes   \n",
       "2  grand     125000                   8  gasoline        jeep      NaN   \n",
       "3   golf     150000                   6    petrol  volkswagen       no   \n",
       "4  fabia      90000                   7  gasoline       skoda       no   \n",
       "\n",
       "          date_created  number_of_pictures  postal_code            last_seen  \n",
       "0  2016-03-24 00:00:00                   0        70435  2016-04-07 03:16:57  \n",
       "1  2016-03-24 00:00:00                   0        66954  2016-04-07 01:46:50  \n",
       "2  2016-03-14 00:00:00                   0        90480  2016-04-05 12:47:46  \n",
       "3  2016-03-17 00:00:00                   0        91074  2016-03-17 17:40:17  \n",
       "4  2016-03-31 00:00:00                   0        60437  2016-04-06 10:17:21  "
      ]
     },
     "execution_count": 93,
     "metadata": {},
     "output_type": "execute_result"
    }
   ],
   "source": [
    "df.head()"
   ]
  },
  {
   "cell_type": "markdown",
   "metadata": {},
   "source": [
    "Сейчас, напротив, мы видим в некоторых столбцах значения NaN. К тому же видим несовпадение типа данных. Обозначим несоответствия типов данных."
   ]
  },
  {
   "cell_type": "markdown",
   "metadata": {},
   "source": [
    "#### Обработка типов данных"
   ]
  },
  {
   "cell_type": "markdown",
   "metadata": {},
   "source": [
    "- столбцы `date_crawled`, `date_created` и `last_seen` должны иметь данные типа `datetime`, \n",
    "- остальные столбцы имеют типы данных, подходящие для дальнейшей работы. Исключение составляет столбец `repaired`, для которого могут быть подходящими данные типа `boolean`, но на данном этапе необходимости в этом нет."
   ]
  },
  {
   "cell_type": "code",
   "execution_count": 94,
   "metadata": {},
   "outputs": [],
   "source": [
    "df['date_crawled'] = pd.to_datetime(df['date_crawled'], format='%Y-%m-%d %H:%M:%S') \n",
    "df['date_created'] = pd.to_datetime(df['date_created'], format='%Y-%m-%d %H:%M:%S') \n",
    "df['last_seen'] = pd.to_datetime(df['last_seen'], format='%Y-%m-%d %H:%M:%S') "
   ]
  },
  {
   "cell_type": "markdown",
   "metadata": {},
   "source": [
    "#### Работа с дубликатами"
   ]
  },
  {
   "cell_type": "markdown",
   "metadata": {},
   "source": [
    "Явные дубликаты:"
   ]
  },
  {
   "cell_type": "code",
   "execution_count": 95,
   "metadata": {},
   "outputs": [
    {
     "data": {
      "text/plain": [
       "4"
      ]
     },
     "execution_count": 95,
     "metadata": {},
     "output_type": "execute_result"
    }
   ],
   "source": [
    "df.duplicated().sum()"
   ]
  },
  {
   "cell_type": "code",
   "execution_count": 96,
   "metadata": {},
   "outputs": [],
   "source": [
    "df = df.drop_duplicates()"
   ]
  },
  {
   "cell_type": "code",
   "execution_count": 97,
   "metadata": {},
   "outputs": [
    {
     "data": {
      "text/html": [
       "<div>\n",
       "<style scoped>\n",
       "    .dataframe tbody tr th:only-of-type {\n",
       "        vertical-align: middle;\n",
       "    }\n",
       "\n",
       "    .dataframe tbody tr th {\n",
       "        vertical-align: top;\n",
       "    }\n",
       "\n",
       "    .dataframe thead th {\n",
       "        text-align: right;\n",
       "    }\n",
       "</style>\n",
       "<table border=\"1\" class=\"dataframe\">\n",
       "  <thead>\n",
       "    <tr style=\"text-align: right;\">\n",
       "      <th></th>\n",
       "      <th>date_crawled</th>\n",
       "      <th>price</th>\n",
       "      <th>vehicle_type</th>\n",
       "      <th>registration_year</th>\n",
       "      <th>gearbox</th>\n",
       "      <th>power</th>\n",
       "      <th>model</th>\n",
       "      <th>kilometer</th>\n",
       "      <th>registration_month</th>\n",
       "      <th>fuel_type</th>\n",
       "      <th>brand</th>\n",
       "      <th>repaired</th>\n",
       "      <th>date_created</th>\n",
       "      <th>number_of_pictures</th>\n",
       "      <th>postal_code</th>\n",
       "      <th>last_seen</th>\n",
       "    </tr>\n",
       "  </thead>\n",
       "  <tbody>\n",
       "    <tr>\n",
       "      <th>0</th>\n",
       "      <td>2016-03-24 11:52:17</td>\n",
       "      <td>480</td>\n",
       "      <td>NaN</td>\n",
       "      <td>1993</td>\n",
       "      <td>manual</td>\n",
       "      <td>0</td>\n",
       "      <td>golf</td>\n",
       "      <td>150000</td>\n",
       "      <td>0</td>\n",
       "      <td>petrol</td>\n",
       "      <td>volkswagen</td>\n",
       "      <td>NaN</td>\n",
       "      <td>2016-03-24</td>\n",
       "      <td>0</td>\n",
       "      <td>70435</td>\n",
       "      <td>2016-04-07 03:16:57</td>\n",
       "    </tr>\n",
       "    <tr>\n",
       "      <th>1</th>\n",
       "      <td>2016-03-24 10:58:45</td>\n",
       "      <td>18300</td>\n",
       "      <td>coupe</td>\n",
       "      <td>2011</td>\n",
       "      <td>manual</td>\n",
       "      <td>190</td>\n",
       "      <td>NaN</td>\n",
       "      <td>125000</td>\n",
       "      <td>5</td>\n",
       "      <td>gasoline</td>\n",
       "      <td>audi</td>\n",
       "      <td>yes</td>\n",
       "      <td>2016-03-24</td>\n",
       "      <td>0</td>\n",
       "      <td>66954</td>\n",
       "      <td>2016-04-07 01:46:50</td>\n",
       "    </tr>\n",
       "    <tr>\n",
       "      <th>2</th>\n",
       "      <td>2016-03-14 12:52:21</td>\n",
       "      <td>9800</td>\n",
       "      <td>suv</td>\n",
       "      <td>2004</td>\n",
       "      <td>auto</td>\n",
       "      <td>163</td>\n",
       "      <td>grand</td>\n",
       "      <td>125000</td>\n",
       "      <td>8</td>\n",
       "      <td>gasoline</td>\n",
       "      <td>jeep</td>\n",
       "      <td>NaN</td>\n",
       "      <td>2016-03-14</td>\n",
       "      <td>0</td>\n",
       "      <td>90480</td>\n",
       "      <td>2016-04-05 12:47:46</td>\n",
       "    </tr>\n",
       "    <tr>\n",
       "      <th>3</th>\n",
       "      <td>2016-03-17 16:54:04</td>\n",
       "      <td>1500</td>\n",
       "      <td>small</td>\n",
       "      <td>2001</td>\n",
       "      <td>manual</td>\n",
       "      <td>75</td>\n",
       "      <td>golf</td>\n",
       "      <td>150000</td>\n",
       "      <td>6</td>\n",
       "      <td>petrol</td>\n",
       "      <td>volkswagen</td>\n",
       "      <td>no</td>\n",
       "      <td>2016-03-17</td>\n",
       "      <td>0</td>\n",
       "      <td>91074</td>\n",
       "      <td>2016-03-17 17:40:17</td>\n",
       "    </tr>\n",
       "    <tr>\n",
       "      <th>4</th>\n",
       "      <td>2016-03-31 17:25:20</td>\n",
       "      <td>3600</td>\n",
       "      <td>small</td>\n",
       "      <td>2008</td>\n",
       "      <td>manual</td>\n",
       "      <td>69</td>\n",
       "      <td>fabia</td>\n",
       "      <td>90000</td>\n",
       "      <td>7</td>\n",
       "      <td>gasoline</td>\n",
       "      <td>skoda</td>\n",
       "      <td>no</td>\n",
       "      <td>2016-03-31</td>\n",
       "      <td>0</td>\n",
       "      <td>60437</td>\n",
       "      <td>2016-04-06 10:17:21</td>\n",
       "    </tr>\n",
       "  </tbody>\n",
       "</table>\n",
       "</div>"
      ],
      "text/plain": [
       "         date_crawled  price vehicle_type  registration_year gearbox  power  \\\n",
       "0 2016-03-24 11:52:17    480          NaN               1993  manual      0   \n",
       "1 2016-03-24 10:58:45  18300        coupe               2011  manual    190   \n",
       "2 2016-03-14 12:52:21   9800          suv               2004    auto    163   \n",
       "3 2016-03-17 16:54:04   1500        small               2001  manual     75   \n",
       "4 2016-03-31 17:25:20   3600        small               2008  manual     69   \n",
       "\n",
       "   model  kilometer  registration_month fuel_type       brand repaired  \\\n",
       "0   golf     150000                   0    petrol  volkswagen      NaN   \n",
       "1    NaN     125000                   5  gasoline        audi      yes   \n",
       "2  grand     125000                   8  gasoline        jeep      NaN   \n",
       "3   golf     150000                   6    petrol  volkswagen       no   \n",
       "4  fabia      90000                   7  gasoline       skoda       no   \n",
       "\n",
       "  date_created  number_of_pictures  postal_code           last_seen  \n",
       "0   2016-03-24                   0        70435 2016-04-07 03:16:57  \n",
       "1   2016-03-24                   0        66954 2016-04-07 01:46:50  \n",
       "2   2016-03-14                   0        90480 2016-04-05 12:47:46  \n",
       "3   2016-03-17                   0        91074 2016-03-17 17:40:17  \n",
       "4   2016-03-31                   0        60437 2016-04-06 10:17:21  "
      ]
     },
     "execution_count": 97,
     "metadata": {},
     "output_type": "execute_result"
    }
   ],
   "source": [
    "df.head()"
   ]
  },
  {
   "cell_type": "markdown",
   "metadata": {},
   "source": [
    "#### Работа с аномалиями"
   ]
  },
  {
   "cell_type": "markdown",
   "metadata": {},
   "source": [
    "##### Даты"
   ]
  },
  {
   "cell_type": "markdown",
   "metadata": {},
   "source": [
    "Для работы с аномалиями сначала разберем те данные, в которых мы можем быть уверены, например, даты. Дата не может быть очень далекой, а также не может быть, например, в будущем."
   ]
  },
  {
   "cell_type": "markdown",
   "metadata": {},
   "source": [
    "###### `date_crawled`"
   ]
  },
  {
   "cell_type": "code",
   "execution_count": 98,
   "metadata": {},
   "outputs": [
    {
     "data": {
      "image/png": "[encoded data removed]",
      "text/plain": [
       "<Figure size 1700x600 with 1 Axes>"
      ]
     },
     "metadata": {},
     "output_type": "display_data"
    }
   ],
   "source": [
    "fig, ax = plt.subplots() #добавить действия для работы над фигурой и осями из библиотеки\n",
    "# ax.set_xlabel('date_crawled') #подпись оси х\n",
    "ax.set_ylabel('Количество объявлений') #подпись оси y\n",
    "\n",
    "(\n",
    "    df['date_crawled'] #столбец с данными\n",
    "    .hist(bins=40, figsize=(17, 6), color='blue', grid=True) #гистограмма определенного размера, цвета и количества корзин\n",
    "    .set_title('Дата скачивания анкеты', fontsize = 16, color = 'Black') #название гистограммы и его оформление\n",
    ");"
   ]
  },
  {
   "cell_type": "markdown",
   "metadata": {},
   "source": [
    "Все анкеты были скачаны из базы в течение примерно одного месяца в 2016 году. Идем дальше. Выбросов слева и справа нет."
   ]
  },
  {
   "cell_type": "markdown",
   "metadata": {},
   "source": [
    "###### `registration_year`"
   ]
  },
  {
   "cell_type": "code",
   "execution_count": 99,
   "metadata": {},
   "outputs": [
    {
     "data": {
      "image/png": "[encoded data removed]",
      "text/plain": [
       "<Figure size 1700x600 with 1 Axes>"
      ]
     },
     "metadata": {},
     "output_type": "display_data"
    }
   ],
   "source": [
    "fig, ax = plt.subplots() #добавить действия для работы над фигурой и осями из библиотеки\n",
    "# ax.set_xlabel('registration_year') #подпись оси х\n",
    "ax.set_ylabel('Количество объявлений') #подпись оси y\n",
    "\n",
    "(\n",
    "    df['registration_year'] #столбец с данными\n",
    "    .hist(bins=70, figsize=(17, 6), color='blue', grid=True) #гистограмма определенного размера, цвета и количества корзин\n",
    "    .set_title('Год регистрации автомобиля', fontsize = 16, color = 'Black') #название гистограммы и его оформление\n",
    ");"
   ]
  },
  {
   "cell_type": "code",
   "execution_count": 100,
   "metadata": {},
   "outputs": [
    {
     "data": {
      "image/png": "[encoded data removed]",
      "text/plain": [
       "<Figure size 1000x400 with 1 Axes>"
      ]
     },
     "metadata": {},
     "output_type": "display_data"
    }
   ],
   "source": [
    "df['registration_year'].hist(bins=30, figsize=(10, 4), range=(1955, 1990), color='blue', grid=True);\n",
    "#гистограмма определенного размера, цвета и количества корзин, с определенным диапазоном значений п"
   ]
  },
  {
   "cell_type": "markdown",
   "metadata": {},
   "source": [
    "Слева выбросов нет, первые автомобили были зарегистрированы в середине прошлого века. Для решения этой задачи такие данные не нужны, т.к. автомобили редкие и вряд ли есть много людей, которые ищую данные автомобили. Так же информация с этих автомобилей может мешать обучению моделей. Данные до 1975 года - убираем.  Смотрим справа."
   ]
  },
  {
   "cell_type": "code",
   "execution_count": 101,
   "metadata": {},
   "outputs": [
    {
     "data": {
      "image/png": "[encoded data removed]",
      "text/plain": [
       "<Figure size 1000x400 with 1 Axes>"
      ]
     },
     "metadata": {},
     "output_type": "display_data"
    }
   ],
   "source": [
    "df['registration_year'].hist(bins=100, figsize=(10, 4), range=(2016, 10100), color='blue', grid=True);"
   ]
  },
  {
   "cell_type": "markdown",
   "metadata": {},
   "source": [
    "Справа имеем очень много как выбросов, так и данных, которые не согласовываются с информацией о том, что анкеты были скачаны из базы в 2016 году. В связи с этим, нужно убрать некорректные данные, а именно, дату регистрации после 2016 года."
   ]
  },
  {
   "cell_type": "code",
   "execution_count": 102,
   "metadata": {},
   "outputs": [
    {
     "data": {
      "image/png": "[encoded data removed]",
      "text/plain": [
       "<Figure size 1000x700 with 1 Axes>"
      ]
     },
     "metadata": {},
     "output_type": "display_data"
    }
   ],
   "source": [
    "df = df.query('registration_year > 1974 and registration_year < 2017').reset_index(drop=True) #удаляем выбросы\n",
    "\n",
    "fig, ax = plt.subplots() #добавить действия для работы над фигурой и осями из библиотеки\n",
    "# ax.set_xlabel('registration_year') #подпись оси х\n",
    "ax.set_ylabel('Количество объявлений') #подпись оси y\n",
    "\n",
    "(\n",
    "    df['registration_year'] #столбец с данными\n",
    "    .hist(bins=40, figsize=(10, 7), color='blue', grid=True) #гистограмма определенного размера, цвета и количества корзин\n",
    "    .set_title('Год регистрации автомобиля', fontsize = 16, color = 'Black') #название гистограммы и его оформление\n",
    ");"
   ]
  },
  {
   "cell_type": "markdown",
   "metadata": {},
   "source": [
    "###### `registration_month`"
   ]
  },
  {
   "cell_type": "markdown",
   "metadata": {},
   "source": [
    "Месяц регистрации автомобиля:"
   ]
  },
  {
   "cell_type": "code",
   "execution_count": 103,
   "metadata": {},
   "outputs": [
    {
     "data": {
      "image/png": "[encoded data removed]",
      "text/plain": [
       "<Figure size 1000x700 with 1 Axes>"
      ]
     },
     "metadata": {},
     "output_type": "display_data"
    }
   ],
   "source": [
    "fig, ax = plt.subplots() #добавить действия для работы над фигурой и осями из библиотеки\n",
    "# ax.set_xlabel('registration_month') #подпись оси х\n",
    "ax.set_ylabel('Количество объявлений') #подпись оси y\n",
    "\n",
    "(\n",
    "    df['registration_month'] #столбец с данными\n",
    "    .hist(bins=25, figsize=(10, 7), color='blue', grid=True) #гистограмма определенного размера, цвета и количества корзин\n",
    "    .set_title('Месяц регистрации автомобиля', fontsize = 16, color = 'Black') #название гистограммы и его оформление\n",
    ");"
   ]
  },
  {
   "cell_type": "markdown",
   "metadata": {},
   "source": [
    "Более 35 тысяч строк со значением месяца = 0. Учитывая, что месяцев здесь 13, они заполнены не совсем корректно. С другой стороны мы не можем ничего сделать с таким количесвом, ни перебросить на другие столбцы, ни удалить. Это сильно исказит данные перед обучением. Но, с другой стороны, \"лишний\" месяц вряд ли не позволит обучить модель. Оставляем без изменений."
   ]
  },
  {
   "cell_type": "markdown",
   "metadata": {},
   "source": [
    "###### `date_created`"
   ]
  },
  {
   "cell_type": "code",
   "execution_count": 104,
   "metadata": {},
   "outputs": [
    {
     "data": {
      "image/png": "[encoded data removed]",
      "text/plain": [
       "<Figure size 1000x700 with 1 Axes>"
      ]
     },
     "metadata": {},
     "output_type": "display_data"
    }
   ],
   "source": [
    "fig, ax = plt.subplots() #добавить действия для работы над фигурой и осями из библиотеки\n",
    "# ax.set_xlabel('date_created') #подпись оси х\n",
    "ax.set_ylabel('Количество объявлений') #подпись оси y\n",
    "\n",
    "(\n",
    "    df['date_created'] #столбец с данными\n",
    "    .hist(bins=70, figsize=(10, 7), color='blue', grid=True) #гистограмма определенного размера, цвета и количества корзин\n",
    "    .set_title('Дата создания объявления', fontsize = 16, color = 'Black') #название гистограммы и его оформление\n",
    ");"
   ]
  },
  {
   "cell_type": "markdown",
   "metadata": {},
   "source": [
    "Имеем большое смещение слева, но количество данных не видим. Следовательно их очень мало. Можем считать выбросом."
   ]
  },
  {
   "cell_type": "code",
   "execution_count": 105,
   "metadata": {},
   "outputs": [
    {
     "data": {
      "image/png": "[encoded data removed]",
      "text/plain": [
       "<Figure size 1000x700 with 1 Axes>"
      ]
     },
     "metadata": {},
     "output_type": "display_data"
    }
   ],
   "source": [
    "df = df.query('date_created >= \"2016-03-04\"').reset_index(drop=True) #удаляем выбросы\n",
    "\n",
    "fig, ax = plt.subplots() #добавить действия для работы над фигурой и осями из библиотеки\n",
    "# ax.set_xlabel('date_created') #подпись оси х\n",
    "plt.xticks(rotation=90)\n",
    "ax.set_ylabel('Количество объявлений') #подпись оси y\n",
    "\n",
    "(\n",
    "    df['date_created'] #столбец с данными\n",
    "    .hist(bins=30, figsize=(10, 7), color='blue', grid=True) #гистограмма определенного размера, цвета и количества корзин\n",
    "    .set_title('Дата создания объявления', fontsize = 16, color = 'Black') #название гистограммы и его оформление\n",
    ");"
   ]
  },
  {
   "cell_type": "markdown",
   "metadata": {},
   "source": [
    "###### `last_seen`"
   ]
  },
  {
   "cell_type": "markdown",
   "metadata": {},
   "source": [
    "Рассмотрим последний столбец с датой"
   ]
  },
  {
   "cell_type": "code",
   "execution_count": 106,
   "metadata": {},
   "outputs": [
    {
     "data": {
      "image/png": "[encoded data removed]",
      "text/plain": [
       "<Figure size 1000x700 with 1 Axes>"
      ]
     },
     "metadata": {},
     "output_type": "display_data"
    }
   ],
   "source": [
    "fig, ax = plt.subplots() #добавить действия для работы над фигурой и осями из библиотеки\n",
    "# ax.set_xlabel('last_seen') #подпись оси х\n",
    "plt.xticks(rotation=90)\n",
    "ax.set_ylabel('Количество объявлений') #подпись оси y\n",
    "\n",
    "(\n",
    "    df['last_seen'] #столбец с данными\n",
    "    .hist(bins=70, figsize=(10, 7), color='blue', grid=True) #гистограмма определенного размера, цвета и количества корзин\n",
    "    .set_title('Дата последней активности пользователя', fontsize = 16, color = 'Black') #название гистограммы и его оформление\n",
    ");"
   ]
  },
  {
   "cell_type": "markdown",
   "metadata": {},
   "source": [
    "Здесь нет отчетливых выбрсов, все пользователи были активны в 2016 году (ранее активность если и была, мы ее убрали предыдущим действием). Хоть вид данных и не похож на распределение, все же с ним мы не можем ничего делать, убрав \"хвост\" мы удалим половину датасета. Оставляем как есть. Выбросов справа нет."
   ]
  },
  {
   "cell_type": "markdown",
   "metadata": {},
   "source": [
    "##### Категориальные признаки"
   ]
  },
  {
   "cell_type": "markdown",
   "metadata": {},
   "source": [
    "###### `vehicle_type`"
   ]
  },
  {
   "cell_type": "code",
   "execution_count": 107,
   "metadata": {},
   "outputs": [
    {
     "data": {
      "text/plain": [
       "vehicle_type\n",
       "bus            28624\n",
       "convertible    19876\n",
       "coupe          15757\n",
       "other           3155\n",
       "sedan          90468\n",
       "small          79402\n",
       "suv            11832\n",
       "wagon          64902\n",
       "Name: vehicle_type, dtype: int64"
      ]
     },
     "metadata": {},
     "output_type": "display_data"
    }
   ],
   "source": [
    "display(df.groupby('vehicle_type')['vehicle_type'].agg('count')) #считаем количество значений в каждой категории"
   ]
  },
  {
   "cell_type": "markdown",
   "metadata": {},
   "source": [
    "Выглядит вполне правдоподобно. Добавим строки с `NaN` в категорию `unknown`."
   ]
  },
  {
   "cell_type": "code",
   "execution_count": 108,
   "metadata": {},
   "outputs": [
    {
     "data": {
      "text/plain": [
       "22488"
      ]
     },
     "execution_count": 108,
     "metadata": {},
     "output_type": "execute_result"
    }
   ],
   "source": [
    "df['vehicle_type'].isnull().sum() #считаем, сколько NaN"
   ]
  },
  {
   "cell_type": "code",
   "execution_count": 109,
   "metadata": {},
   "outputs": [],
   "source": [
    "df.loc[df['vehicle_type'].isnull(), 'vehicle_type'] = 'unknown' #для NaN значений применяем\n"
   ]
  },
  {
   "cell_type": "code",
   "execution_count": 110,
   "metadata": {},
   "outputs": [
    {
     "data": {
      "image/png": "[encoded data removed]",
      "text/plain": [
       "<Figure size 1000x700 with 1 Axes>"
      ]
     },
     "metadata": {},
     "output_type": "display_data"
    }
   ],
   "source": [
    "fig, ax = plt.subplots() #добавить действия для работы над фигурой и осями из библиотеки\n",
    "# ax.set_xlabel('vehicle_type') #подпись оси х\n",
    "ax.set_ylabel('Количество объявлений') #подпись оси y\n",
    "\n",
    "(\n",
    "    df['vehicle_type'] #столбец с данными\n",
    "    .hist(bins=8, figsize=(10, 7), color='green', grid=True) #гистограмма определенного размера, цвета и количества корзин\n",
    "    .set_title('Тип автомобильного кузова', fontsize = 16, color = 'Black') #название гистограммы и его оформление\n",
    ");"
   ]
  },
  {
   "cell_type": "markdown",
   "metadata": {},
   "source": [
    "Проделаем то же самое для остальных столбцов."
   ]
  },
  {
   "cell_type": "markdown",
   "metadata": {},
   "source": [
    "###### `gearbox`"
   ]
  },
  {
   "cell_type": "code",
   "execution_count": 111,
   "metadata": {},
   "outputs": [
    {
     "data": {
      "text/plain": [
       "gearbox\n",
       "auto       63739\n",
       "manual    255481\n",
       "Name: gearbox, dtype: int64"
      ]
     },
     "metadata": {},
     "output_type": "display_data"
    }
   ],
   "source": [
    "display(df.groupby('gearbox')['gearbox'].agg('count')) #считаем количество значений в каждой категории"
   ]
  },
  {
   "cell_type": "code",
   "execution_count": 112,
   "metadata": {},
   "outputs": [
    {
     "data": {
      "text/plain": [
       "17284"
      ]
     },
     "execution_count": 112,
     "metadata": {},
     "output_type": "execute_result"
    }
   ],
   "source": [
    "df['gearbox'].isnull().sum() #считаем, сколько NaN"
   ]
  },
  {
   "cell_type": "markdown",
   "metadata": {},
   "source": [
    "Очень большое количество автомобилей без указанной коробки передач. Создадим новую категорию `unknown` для этих строк."
   ]
  },
  {
   "cell_type": "code",
   "execution_count": 113,
   "metadata": {},
   "outputs": [
    {
     "data": {
      "image/png": "[encoded data removed]",
      "text/plain": [
       "<Figure size 700x500 with 1 Axes>"
      ]
     },
     "metadata": {},
     "output_type": "display_data"
    }
   ],
   "source": [
    "df.loc[df['gearbox'].isnull(), 'gearbox'] = 'unknown' #для NaN значений применяем\n",
    "\n",
    "fig, ax = plt.subplots() #добавить действия для работы над фигурой и осями из библиотеки\n",
    "# ax.set_xlabel('gearbox') #подпись оси х\n",
    "ax.set_ylabel('Количество объявлений') #подпись оси y\n",
    "\n",
    "(\n",
    "    df['gearbox'] #столбец с данными\n",
    "    .hist(bins=3, figsize=(7, 5), color='green', grid=True) #гистограмма определенного размера, цвета и количества корзин\n",
    "    .set_title('Тип коробки передач', fontsize = 16, color = 'Black') #название гистограммы и его оформление\n",
    ");"
   ]
  },
  {
   "cell_type": "markdown",
   "metadata": {},
   "source": [
    "###### `model`"
   ]
  },
  {
   "cell_type": "code",
   "execution_count": 114,
   "metadata": {},
   "outputs": [
    {
     "data": {
      "text/plain": [
       "model\n",
       "serie_1                   1\n",
       "range_rover_evoque        2\n",
       "rangerover                3\n",
       "serie_2                   3\n",
       "serie_3                   3\n",
       "                      ...  \n",
       "corsa                 11901\n",
       "polo                  12416\n",
       "3er                   19176\n",
       "other                 22813\n",
       "golf                  27534\n",
       "Name: model, Length: 250, dtype: int64"
      ]
     },
     "metadata": {},
     "output_type": "display_data"
    }
   ],
   "source": [
    "display(df.groupby('model')['model'].agg('count').sort_values()) #считаем количество значений в каждой категории"
   ]
  },
  {
   "cell_type": "markdown",
   "metadata": {},
   "source": [
    "Моделей авто в датасете - 250. Говорить о выбросах среди автомобилей мы не можем, значит, считаем нули и добавляем в группу `unknown`."
   ]
  },
  {
   "cell_type": "code",
   "execution_count": 115,
   "metadata": {},
   "outputs": [
    {
     "data": {
      "text/plain": [
       "16916"
      ]
     },
     "execution_count": 115,
     "metadata": {},
     "output_type": "execute_result"
    }
   ],
   "source": [
    "df['model'].isnull().sum() #считаем, сколько NaN"
   ]
  },
  {
   "cell_type": "code",
   "execution_count": 116,
   "metadata": {},
   "outputs": [],
   "source": [
    "df.loc[df['model'].isnull(), 'model'] = 'unknown' #для NaN значений применяем"
   ]
  },
  {
   "cell_type": "markdown",
   "metadata": {},
   "source": [
    "###### `fuel_type`"
   ]
  },
  {
   "cell_type": "code",
   "execution_count": 117,
   "metadata": {},
   "outputs": [
    {
     "data": {
      "text/plain": [
       "fuel_type\n",
       "cng            539\n",
       "electric        87\n",
       "gasoline     95955\n",
       "hybrid         223\n",
       "lpg           5128\n",
       "other          170\n",
       "petrol      207793\n",
       "Name: fuel_type, dtype: int64"
      ]
     },
     "metadata": {},
     "output_type": "display_data"
    }
   ],
   "source": [
    "display(df.groupby('fuel_type')['fuel_type'].agg('count')) #считаем количество значений в каждой категории"
   ]
  },
  {
   "cell_type": "code",
   "execution_count": 118,
   "metadata": {},
   "outputs": [
    {
     "data": {
      "text/plain": [
       "26609"
      ]
     },
     "execution_count": 118,
     "metadata": {},
     "output_type": "execute_result"
    }
   ],
   "source": [
    "df['fuel_type'].isnull().sum() #считаем, сколько NaN"
   ]
  },
  {
   "cell_type": "code",
   "execution_count": 119,
   "metadata": {},
   "outputs": [],
   "source": [
    "df.loc[df['fuel_type'].isnull(), 'fuel_type'] = 'unknown' #для NaN значений применяем"
   ]
  },
  {
   "cell_type": "markdown",
   "metadata": {},
   "source": [
    "###### `brand`"
   ]
  },
  {
   "cell_type": "code",
   "execution_count": 120,
   "metadata": {},
   "outputs": [
    {
     "data": {
      "text/plain": [
       "brand\n",
       "alfa_romeo         2194\n",
       "audi              28367\n",
       "bmw               35627\n",
       "chevrolet          1635\n",
       "chrysler           1372\n",
       "citroen            4860\n",
       "dacia               872\n",
       "daewoo              510\n",
       "daihatsu            778\n",
       "fiat               8971\n",
       "ford              23903\n",
       "honda              2677\n",
       "hyundai            3437\n",
       "jaguar              491\n",
       "jeep                627\n",
       "kia                2360\n",
       "lada                212\n",
       "lancia              436\n",
       "land_rover          523\n",
       "mazda              5377\n",
       "mercedes_benz     30651\n",
       "mini               3069\n",
       "mitsubishi         2903\n",
       "nissan             4734\n",
       "opel              37691\n",
       "peugeot           10571\n",
       "porsche             699\n",
       "renault           16876\n",
       "rover               454\n",
       "saab                512\n",
       "seat               6509\n",
       "skoda              5321\n",
       "smart              5013\n",
       "sonstige_autos     2684\n",
       "subaru              733\n",
       "suzuki             2242\n",
       "toyota             4449\n",
       "trabant             463\n",
       "volkswagen        72621\n",
       "volvo              3080\n",
       "Name: brand, dtype: int64"
      ]
     },
     "metadata": {},
     "output_type": "display_data"
    }
   ],
   "source": [
    "display(df.groupby('brand')['brand'].agg('count')) #считаем количество значений в каждой категории"
   ]
  },
  {
   "cell_type": "markdown",
   "metadata": {},
   "source": [
    "В столбце `brand` нет значений `NaN`."
   ]
  },
  {
   "cell_type": "markdown",
   "metadata": {},
   "source": [
    "###### `repaired`"
   ]
  },
  {
   "cell_type": "code",
   "execution_count": 121,
   "metadata": {},
   "outputs": [
    {
     "data": {
      "text/plain": [
       "repaired\n",
       "no     238086\n",
       "yes     34615\n",
       "Name: repaired, dtype: int64"
      ]
     },
     "metadata": {},
     "output_type": "display_data"
    }
   ],
   "source": [
    "display(df.groupby('repaired')['repaired'].agg('count')) #считаем количество значений в каждой категории"
   ]
  },
  {
   "cell_type": "code",
   "execution_count": 122,
   "metadata": {},
   "outputs": [
    {
     "data": {
      "text/plain": [
       "63803"
      ]
     },
     "execution_count": 122,
     "metadata": {},
     "output_type": "execute_result"
    }
   ],
   "source": [
    "df['repaired'].isnull().sum() #считаем, сколько NaN"
   ]
  },
  {
   "cell_type": "code",
   "execution_count": 123,
   "metadata": {},
   "outputs": [],
   "source": [
    "df.loc[df['repaired'].isnull(), 'repaired'] = 'unknown' #для NaN значений применяем"
   ]
  },
  {
   "cell_type": "markdown",
   "metadata": {},
   "source": [
    "###### `number_of_pictures`"
   ]
  },
  {
   "cell_type": "code",
   "execution_count": 124,
   "metadata": {},
   "outputs": [
    {
     "data": {
      "text/plain": [
       "number_of_pictures\n",
       "0    336504\n",
       "Name: number_of_pictures, dtype: int64"
      ]
     },
     "metadata": {},
     "output_type": "display_data"
    }
   ],
   "source": [
    "display(df.groupby('number_of_pictures')['number_of_pictures'].agg('count')) #считаем количество значений в каждой категории"
   ]
  },
  {
   "cell_type": "markdown",
   "metadata": {},
   "source": [
    "В столбце с количеством фотографий `number_of_pictures` нет значений, отличных от нуля, нет даже пропусков. Этот столбец не имеет смысла, его можно удалить."
   ]
  },
  {
   "cell_type": "code",
   "execution_count": 125,
   "metadata": {},
   "outputs": [],
   "source": [
    "df = df.drop(columns= 'number_of_pictures')"
   ]
  },
  {
   "cell_type": "code",
   "execution_count": 126,
   "metadata": {},
   "outputs": [
    {
     "data": {
      "text/html": [
       "<div>\n",
       "<style scoped>\n",
       "    .dataframe tbody tr th:only-of-type {\n",
       "        vertical-align: middle;\n",
       "    }\n",
       "\n",
       "    .dataframe tbody tr th {\n",
       "        vertical-align: top;\n",
       "    }\n",
       "\n",
       "    .dataframe thead th {\n",
       "        text-align: right;\n",
       "    }\n",
       "</style>\n",
       "<table border=\"1\" class=\"dataframe\">\n",
       "  <thead>\n",
       "    <tr style=\"text-align: right;\">\n",
       "      <th></th>\n",
       "      <th>date_crawled</th>\n",
       "      <th>price</th>\n",
       "      <th>vehicle_type</th>\n",
       "      <th>registration_year</th>\n",
       "      <th>gearbox</th>\n",
       "      <th>power</th>\n",
       "      <th>model</th>\n",
       "      <th>kilometer</th>\n",
       "      <th>registration_month</th>\n",
       "      <th>fuel_type</th>\n",
       "      <th>brand</th>\n",
       "      <th>repaired</th>\n",
       "      <th>date_created</th>\n",
       "      <th>postal_code</th>\n",
       "      <th>last_seen</th>\n",
       "    </tr>\n",
       "  </thead>\n",
       "  <tbody>\n",
       "    <tr>\n",
       "      <th>0</th>\n",
       "      <td>2016-03-24 11:52:17</td>\n",
       "      <td>480</td>\n",
       "      <td>unknown</td>\n",
       "      <td>1993</td>\n",
       "      <td>manual</td>\n",
       "      <td>0</td>\n",
       "      <td>golf</td>\n",
       "      <td>150000</td>\n",
       "      <td>0</td>\n",
       "      <td>petrol</td>\n",
       "      <td>volkswagen</td>\n",
       "      <td>unknown</td>\n",
       "      <td>2016-03-24</td>\n",
       "      <td>70435</td>\n",
       "      <td>2016-04-07 03:16:57</td>\n",
       "    </tr>\n",
       "    <tr>\n",
       "      <th>1</th>\n",
       "      <td>2016-03-24 10:58:45</td>\n",
       "      <td>18300</td>\n",
       "      <td>coupe</td>\n",
       "      <td>2011</td>\n",
       "      <td>manual</td>\n",
       "      <td>190</td>\n",
       "      <td>unknown</td>\n",
       "      <td>125000</td>\n",
       "      <td>5</td>\n",
       "      <td>gasoline</td>\n",
       "      <td>audi</td>\n",
       "      <td>yes</td>\n",
       "      <td>2016-03-24</td>\n",
       "      <td>66954</td>\n",
       "      <td>2016-04-07 01:46:50</td>\n",
       "    </tr>\n",
       "    <tr>\n",
       "      <th>2</th>\n",
       "      <td>2016-03-14 12:52:21</td>\n",
       "      <td>9800</td>\n",
       "      <td>suv</td>\n",
       "      <td>2004</td>\n",
       "      <td>auto</td>\n",
       "      <td>163</td>\n",
       "      <td>grand</td>\n",
       "      <td>125000</td>\n",
       "      <td>8</td>\n",
       "      <td>gasoline</td>\n",
       "      <td>jeep</td>\n",
       "      <td>unknown</td>\n",
       "      <td>2016-03-14</td>\n",
       "      <td>90480</td>\n",
       "      <td>2016-04-05 12:47:46</td>\n",
       "    </tr>\n",
       "  </tbody>\n",
       "</table>\n",
       "</div>"
      ],
      "text/plain": [
       "         date_crawled  price vehicle_type  registration_year gearbox  power  \\\n",
       "0 2016-03-24 11:52:17    480      unknown               1993  manual      0   \n",
       "1 2016-03-24 10:58:45  18300        coupe               2011  manual    190   \n",
       "2 2016-03-14 12:52:21   9800          suv               2004    auto    163   \n",
       "\n",
       "     model  kilometer  registration_month fuel_type       brand repaired  \\\n",
       "0     golf     150000                   0    petrol  volkswagen  unknown   \n",
       "1  unknown     125000                   5  gasoline        audi      yes   \n",
       "2    grand     125000                   8  gasoline        jeep  unknown   \n",
       "\n",
       "  date_created  postal_code           last_seen  \n",
       "0   2016-03-24        70435 2016-04-07 03:16:57  \n",
       "1   2016-03-24        66954 2016-04-07 01:46:50  \n",
       "2   2016-03-14        90480 2016-04-05 12:47:46  "
      ]
     },
     "execution_count": 126,
     "metadata": {},
     "output_type": "execute_result"
    }
   ],
   "source": [
    "df.head(3)"
   ]
  },
  {
   "cell_type": "markdown",
   "metadata": {},
   "source": [
    "##### Численные признаки"
   ]
  },
  {
   "cell_type": "markdown",
   "metadata": {},
   "source": [
    "Рассмотрим признаки (и целевой признак в том числе), выраженные не категориями, а числовыми значениями.\n",
    "\n",
    "В этих данных пропусков нет."
   ]
  },
  {
   "cell_type": "markdown",
   "metadata": {},
   "source": [
    "###### `price`"
   ]
  },
  {
   "cell_type": "code",
   "execution_count": 127,
   "metadata": {},
   "outputs": [
    {
     "data": {
      "image/png": "[encoded data removed]",
      "text/plain": [
       "<Figure size 1700x700 with 1 Axes>"
      ]
     },
     "metadata": {},
     "output_type": "display_data"
    }
   ],
   "source": [
    "fig, ax = plt.subplots() #добавить действия для работы над фигурой и осями из библиотеки\n",
    "# ax.set_xlabel('price') #подпись оси х\n",
    "ax.set_ylabel('Количество объявлений') #подпись оси y\n",
    "\n",
    "(\n",
    "    df['price'] #столбец с данными\n",
    "    .hist(bins=100, figsize=(17, 7), color='grey', grid=True) #гистограмма определенного размера, цвета и количества корзин\n",
    "    .set_title('Цена, евро', fontsize = 16, color = 'Black') #название гистограммы и его оформление\n",
    ");"
   ]
  },
  {
   "cell_type": "markdown",
   "metadata": {},
   "source": [
    "Распределение имеет очень длинных хвост, но данных там много, это не похоже на выброс, действительно так распределены данные."
   ]
  },
  {
   "cell_type": "code",
   "execution_count": 128,
   "metadata": {},
   "outputs": [
    {
     "data": {
      "image/png": "[encoded data removed]",
      "text/plain": [
       "<Figure size 1000x400 with 1 Axes>"
      ]
     },
     "metadata": {},
     "output_type": "display_data"
    }
   ],
   "source": [
    "df['price'].hist(bins=30, figsize=(10, 4), range=(0, 300), color='grey', grid=True);"
   ]
  },
  {
   "cell_type": "code",
   "execution_count": 129,
   "metadata": {},
   "outputs": [
    {
     "data": {
      "text/plain": [
       "12135"
      ]
     },
     "execution_count": 129,
     "metadata": {},
     "output_type": "execute_result"
    }
   ],
   "source": [
    "df.query('price < 100')['price'].count()"
   ]
  },
  {
   "cell_type": "markdown",
   "metadata": {},
   "source": [
    "Несмотря на то, что данных, выбранных по условию выше, 12 тысяч, они имеют значение цены, равное нулю. Учитывая, что на торговых площадках люди именно продают автомобили, эти данные могут только испортить признаки, поступающие в модель на обучение. Их придется удалить. Предполагаем нижний порог для авто зададим в 100 евро. "
   ]
  },
  {
   "cell_type": "markdown",
   "metadata": {},
   "source": [
    "Выведем строки с самыми дешевыми авто\n"
   ]
  },
  {
   "cell_type": "code",
   "execution_count": 130,
   "metadata": {},
   "outputs": [
    {
     "data": {
      "text/html": [
       "<div>\n",
       "<style scoped>\n",
       "    .dataframe tbody tr th:only-of-type {\n",
       "        vertical-align: middle;\n",
       "    }\n",
       "\n",
       "    .dataframe tbody tr th {\n",
       "        vertical-align: top;\n",
       "    }\n",
       "\n",
       "    .dataframe thead th {\n",
       "        text-align: right;\n",
       "    }\n",
       "</style>\n",
       "<table border=\"1\" class=\"dataframe\">\n",
       "  <thead>\n",
       "    <tr style=\"text-align: right;\">\n",
       "      <th></th>\n",
       "      <th>date_crawled</th>\n",
       "      <th>price</th>\n",
       "      <th>vehicle_type</th>\n",
       "      <th>registration_year</th>\n",
       "      <th>gearbox</th>\n",
       "      <th>power</th>\n",
       "      <th>model</th>\n",
       "      <th>kilometer</th>\n",
       "      <th>registration_month</th>\n",
       "      <th>fuel_type</th>\n",
       "      <th>brand</th>\n",
       "      <th>repaired</th>\n",
       "      <th>date_created</th>\n",
       "      <th>postal_code</th>\n",
       "      <th>last_seen</th>\n",
       "    </tr>\n",
       "  </thead>\n",
       "  <tbody>\n",
       "    <tr>\n",
       "      <th>53</th>\n",
       "      <td>2016-03-29 15:48:15</td>\n",
       "      <td>1</td>\n",
       "      <td>suv</td>\n",
       "      <td>1994</td>\n",
       "      <td>manual</td>\n",
       "      <td>286</td>\n",
       "      <td>unknown</td>\n",
       "      <td>150000</td>\n",
       "      <td>11</td>\n",
       "      <td>unknown</td>\n",
       "      <td>sonstige_autos</td>\n",
       "      <td>unknown</td>\n",
       "      <td>2016-03-29</td>\n",
       "      <td>53721</td>\n",
       "      <td>2016-04-06 01:44:38</td>\n",
       "    </tr>\n",
       "    <tr>\n",
       "      <th>81</th>\n",
       "      <td>2016-03-28 09:37:01</td>\n",
       "      <td>1</td>\n",
       "      <td>sedan</td>\n",
       "      <td>1995</td>\n",
       "      <td>manual</td>\n",
       "      <td>113</td>\n",
       "      <td>e_klasse</td>\n",
       "      <td>150000</td>\n",
       "      <td>4</td>\n",
       "      <td>gasoline</td>\n",
       "      <td>mercedes_benz</td>\n",
       "      <td>no</td>\n",
       "      <td>2016-03-28</td>\n",
       "      <td>40589</td>\n",
       "      <td>2016-04-06 12:15:54</td>\n",
       "    </tr>\n",
       "    <tr>\n",
       "      <th>253</th>\n",
       "      <td>2016-03-12 07:26:49</td>\n",
       "      <td>1</td>\n",
       "      <td>sedan</td>\n",
       "      <td>1990</td>\n",
       "      <td>manual</td>\n",
       "      <td>90</td>\n",
       "      <td>80</td>\n",
       "      <td>70000</td>\n",
       "      <td>6</td>\n",
       "      <td>petrol</td>\n",
       "      <td>audi</td>\n",
       "      <td>no</td>\n",
       "      <td>2016-03-11</td>\n",
       "      <td>55122</td>\n",
       "      <td>2016-03-26 23:15:49</td>\n",
       "    </tr>\n",
       "    <tr>\n",
       "      <th>383</th>\n",
       "      <td>2016-03-29 18:51:58</td>\n",
       "      <td>1</td>\n",
       "      <td>unknown</td>\n",
       "      <td>2000</td>\n",
       "      <td>unknown</td>\n",
       "      <td>75</td>\n",
       "      <td>golf</td>\n",
       "      <td>90000</td>\n",
       "      <td>3</td>\n",
       "      <td>petrol</td>\n",
       "      <td>volkswagen</td>\n",
       "      <td>unknown</td>\n",
       "      <td>2016-03-29</td>\n",
       "      <td>78588</td>\n",
       "      <td>2016-04-06 04:45:50</td>\n",
       "    </tr>\n",
       "    <tr>\n",
       "      <th>848</th>\n",
       "      <td>2016-03-06 00:25:25</td>\n",
       "      <td>1</td>\n",
       "      <td>unknown</td>\n",
       "      <td>1990</td>\n",
       "      <td>manual</td>\n",
       "      <td>0</td>\n",
       "      <td>other</td>\n",
       "      <td>150000</td>\n",
       "      <td>0</td>\n",
       "      <td>unknown</td>\n",
       "      <td>porsche</td>\n",
       "      <td>unknown</td>\n",
       "      <td>2016-03-05</td>\n",
       "      <td>65843</td>\n",
       "      <td>2016-04-06 20:19:08</td>\n",
       "    </tr>\n",
       "  </tbody>\n",
       "</table>\n",
       "</div>"
      ],
      "text/plain": [
       "           date_crawled  price vehicle_type  registration_year  gearbox  \\\n",
       "53  2016-03-29 15:48:15      1          suv               1994   manual   \n",
       "81  2016-03-28 09:37:01      1        sedan               1995   manual   \n",
       "253 2016-03-12 07:26:49      1        sedan               1990   manual   \n",
       "383 2016-03-29 18:51:58      1      unknown               2000  unknown   \n",
       "848 2016-03-06 00:25:25      1      unknown               1990   manual   \n",
       "\n",
       "     power     model  kilometer  registration_month fuel_type           brand  \\\n",
       "53     286   unknown     150000                  11   unknown  sonstige_autos   \n",
       "81     113  e_klasse     150000                   4  gasoline   mercedes_benz   \n",
       "253     90        80      70000                   6    petrol            audi   \n",
       "383     75      golf      90000                   3    petrol      volkswagen   \n",
       "848      0     other     150000                   0   unknown         porsche   \n",
       "\n",
       "    repaired date_created  postal_code           last_seen  \n",
       "53   unknown   2016-03-29        53721 2016-04-06 01:44:38  \n",
       "81        no   2016-03-28        40589 2016-04-06 12:15:54  \n",
       "253       no   2016-03-11        55122 2016-03-26 23:15:49  \n",
       "383  unknown   2016-03-29        78588 2016-04-06 04:45:50  \n",
       "848  unknown   2016-03-05        65843 2016-04-06 20:19:08  "
      ]
     },
     "execution_count": 130,
     "metadata": {},
     "output_type": "execute_result"
    }
   ],
   "source": [
    "check_price = df.query('price < 50 and price > 0')\n",
    "check_price.head()"
   ]
  },
  {
   "cell_type": "markdown",
   "metadata": {},
   "source": [
    "Вообще, если вывести таблицу с ценой большей 0, то первыми будум идти автомобили со стоимостью = 1 евро. Этого не может быть, так как там представлены, например, такие машины, как `audi` или `BMW`. Имеет место предположить, что цену указали в тыс. евро. \n",
    "\n",
    "В любом случае, это будет подстраивание под решение, поэтому лучше совсем избавиться от этих данных, чем подгонять удобное решение. В итоге на этом шаге потеряем 4% данных."
   ]
  },
  {
   "cell_type": "code",
   "execution_count": 131,
   "metadata": {},
   "outputs": [],
   "source": [
    "df = df.query('price >= 100').reset_index(drop=True)"
   ]
  },
  {
   "cell_type": "markdown",
   "metadata": {},
   "source": [
    "###### `power`"
   ]
  },
  {
   "cell_type": "code",
   "execution_count": 132,
   "metadata": {},
   "outputs": [
    {
     "data": {
      "image/png": "[encoded data removed]",
      "text/plain": [
       "<Figure size 1700x700 with 1 Axes>"
      ]
     },
     "metadata": {},
     "output_type": "display_data"
    }
   ],
   "source": [
    "fig, ax = plt.subplots() #добавить действия для работы над фигурой и осями из библиотеки\n",
    "# ax.set_xlabel('power') #подпись оси х\n",
    "ax.set_ylabel('Количество объявлений') #подпись оси y\n",
    "\n",
    "(\n",
    "    df['power'] #столбец с данными\n",
    "    .hist(bins=100, figsize=(17, 7), color='grey', grid=True) #гистограмма определенного размера, цвета и количества корзин\n",
    "    .set_title('Мощность, л.с.', fontsize = 16, color = 'Black') #название гистограммы и его оформление\n",
    ");"
   ]
  },
  {
   "cell_type": "markdown",
   "metadata": {},
   "source": [
    "Не понятно почему, но есть гиганстские выбросы справа. Может мощность записали в Ваттах? Посмотрим, сколько таких значений."
   ]
  },
  {
   "cell_type": "code",
   "execution_count": 133,
   "metadata": {},
   "outputs": [
    {
     "data": {
      "image/png": "[encoded data removed]",
      "text/plain": [
       "<Figure size 1000x400 with 1 Axes>"
      ]
     },
     "metadata": {},
     "output_type": "display_data"
    }
   ],
   "source": [
    "df['power'].hist(bins=100, figsize=(10, 4), range=(500, 20000), color='grey', grid=True);"
   ]
  },
  {
   "cell_type": "code",
   "execution_count": 134,
   "metadata": {},
   "outputs": [
    {
     "data": {
      "text/html": [
       "<div>\n",
       "<style scoped>\n",
       "    .dataframe tbody tr th:only-of-type {\n",
       "        vertical-align: middle;\n",
       "    }\n",
       "\n",
       "    .dataframe tbody tr th {\n",
       "        vertical-align: top;\n",
       "    }\n",
       "\n",
       "    .dataframe thead th {\n",
       "        text-align: right;\n",
       "    }\n",
       "</style>\n",
       "<table border=\"1\" class=\"dataframe\">\n",
       "  <thead>\n",
       "    <tr style=\"text-align: right;\">\n",
       "      <th></th>\n",
       "      <th>power</th>\n",
       "    </tr>\n",
       "  </thead>\n",
       "  <tbody>\n",
       "    <tr>\n",
       "      <th>count</th>\n",
       "      <td>324369.000000</td>\n",
       "    </tr>\n",
       "    <tr>\n",
       "      <th>mean</th>\n",
       "      <td>112.546387</td>\n",
       "    </tr>\n",
       "    <tr>\n",
       "      <th>std</th>\n",
       "      <td>183.795263</td>\n",
       "    </tr>\n",
       "    <tr>\n",
       "      <th>min</th>\n",
       "      <td>0.000000</td>\n",
       "    </tr>\n",
       "    <tr>\n",
       "      <th>25%</th>\n",
       "      <td>73.000000</td>\n",
       "    </tr>\n",
       "    <tr>\n",
       "      <th>50%</th>\n",
       "      <td>105.000000</td>\n",
       "    </tr>\n",
       "    <tr>\n",
       "      <th>75%</th>\n",
       "      <td>143.000000</td>\n",
       "    </tr>\n",
       "    <tr>\n",
       "      <th>max</th>\n",
       "      <td>20000.000000</td>\n",
       "    </tr>\n",
       "  </tbody>\n",
       "</table>\n",
       "</div>"
      ],
      "text/plain": [
       "               power\n",
       "count  324369.000000\n",
       "mean      112.546387\n",
       "std       183.795263\n",
       "min         0.000000\n",
       "25%        73.000000\n",
       "50%       105.000000\n",
       "75%       143.000000\n",
       "max     20000.000000"
      ]
     },
     "metadata": {},
     "output_type": "display_data"
    },
    {
     "data": {
      "image/png": "[encoded data removed]",
      "text/plain": [
       "<Figure size 1700x200 with 1 Axes>"
      ]
     },
     "metadata": {},
     "output_type": "display_data"
    }
   ],
   "source": [
    "df_power = df.loc[:, ['power']] #создаем таблицу по столбцу last_price\n",
    "\n",
    "#plt.ylim(0, 16000000) #ограничение для boxplot\n",
    "#data_last_price_all.boxplot() #вывод графика с усами\n",
    "display(df_power.describe()) #описание полученных данных\n",
    "\n",
    "fig, ax = plt.subplots(figsize = (17,2))\n",
    "ax = df_power[['power']].boxplot(vert = False, ax = ax)\n",
    "ax.set_title('Диаграмма размаха значений мощности')\n",
    "ax.set_xlim(0, 1000);"
   ]
  },
  {
   "cell_type": "code",
   "execution_count": 135,
   "metadata": {},
   "outputs": [
    {
     "data": {
      "text/plain": [
       "536"
      ]
     },
     "execution_count": 135,
     "metadata": {},
     "output_type": "execute_result"
    }
   ],
   "source": [
    "df.query('power >= 450')['power'].count()"
   ]
  },
  {
   "cell_type": "markdown",
   "metadata": {},
   "source": [
    "Видим, что значения более 250 л.с. не входят в диапазон усов. Но если отбросить их все, потеряем очень много значимых (в отличие от нулевой стоимости) данных. Кучность данных теряется после 450 л.с. Поэтому отбросим данные со  значениями выше 450 л.с."
   ]
  },
  {
   "cell_type": "code",
   "execution_count": 136,
   "metadata": {},
   "outputs": [
    {
     "data": {
      "image/png": "[encoded data removed]",
      "text/plain": [
       "<Figure size 1000x400 with 1 Axes>"
      ]
     },
     "metadata": {},
     "output_type": "display_data"
    }
   ],
   "source": [
    "df['power'].hist(bins=100, figsize=(10, 4), range=(-1, 100), color='grey', grid=True);"
   ]
  },
  {
   "cell_type": "code",
   "execution_count": 137,
   "metadata": {},
   "outputs": [
    {
     "data": {
      "text/plain": [
       "30912"
      ]
     },
     "execution_count": 137,
     "metadata": {},
     "output_type": "execute_result"
    }
   ],
   "source": [
    "df.query('power ==0')['power'].count()"
   ]
  },
  {
   "cell_type": "markdown",
   "metadata": {},
   "source": [
    "Здесь ситуация сложнее. В отличие от цены, где мы не могли ее считать, какими либо методами, т.к. это был целевой признак, который должен будет в итоге зависеть от каждого из признаков в той или иной мере, мощность является просто признаком, причем, зависящем от смежных признаков, но не всех.\n",
    "\n",
    "В основном, мощность зависит от марки и модели машины - то есть Ford Focus в целом имеет мощность похожих Ford'ов Focus'ов. Да, не всегда, но это будет точно ближе к правде, чем нулевая мощность. \n",
    "\n",
    "Соберем таблицу, в которой посчитаем медианную мощность двигателя для каждой модели каждой марки автомобиля. \n",
    "\n",
    "Медианную мощность берем по двум причинам:\n",
    "- она не учитывает выбросы вверх (вниз выбросов нет),\n",
    "- нулевые значения мощности не влияют на результат (не придется ставить заглушки, как в случае, если рассматривать среднее значение)."
   ]
  },
  {
   "cell_type": "code",
   "execution_count": 138,
   "metadata": {},
   "outputs": [
    {
     "data": {
      "text/html": [
       "<div>\n",
       "<style scoped>\n",
       "    .dataframe tbody tr th:only-of-type {\n",
       "        vertical-align: middle;\n",
       "    }\n",
       "\n",
       "    .dataframe tbody tr th {\n",
       "        vertical-align: top;\n",
       "    }\n",
       "\n",
       "    .dataframe thead th {\n",
       "        text-align: right;\n",
       "    }\n",
       "</style>\n",
       "<table border=\"1\" class=\"dataframe\">\n",
       "  <thead>\n",
       "    <tr style=\"text-align: right;\">\n",
       "      <th></th>\n",
       "      <th></th>\n",
       "      <th>power</th>\n",
       "    </tr>\n",
       "    <tr>\n",
       "      <th>brand</th>\n",
       "      <th>model</th>\n",
       "      <th></th>\n",
       "    </tr>\n",
       "  </thead>\n",
       "  <tbody>\n",
       "    <tr>\n",
       "      <th rowspan=\"7\" valign=\"top\">alfa_romeo</th>\n",
       "      <th>145</th>\n",
       "      <td>103.0</td>\n",
       "    </tr>\n",
       "    <tr>\n",
       "      <th>147</th>\n",
       "      <td>120.0</td>\n",
       "    </tr>\n",
       "    <tr>\n",
       "      <th>156</th>\n",
       "      <td>150.0</td>\n",
       "    </tr>\n",
       "    <tr>\n",
       "      <th>159</th>\n",
       "      <td>170.0</td>\n",
       "    </tr>\n",
       "    <tr>\n",
       "      <th>other</th>\n",
       "      <td>150.0</td>\n",
       "    </tr>\n",
       "    <tr>\n",
       "      <th>spider</th>\n",
       "      <td>150.0</td>\n",
       "    </tr>\n",
       "    <tr>\n",
       "      <th>unknown</th>\n",
       "      <td>125.0</td>\n",
       "    </tr>\n",
       "    <tr>\n",
       "      <th rowspan=\"3\" valign=\"top\">audi</th>\n",
       "      <th>100</th>\n",
       "      <td>133.0</td>\n",
       "    </tr>\n",
       "    <tr>\n",
       "      <th>200</th>\n",
       "      <td>182.0</td>\n",
       "    </tr>\n",
       "    <tr>\n",
       "      <th>80</th>\n",
       "      <td>90.0</td>\n",
       "    </tr>\n",
       "  </tbody>\n",
       "</table>\n",
       "</div>"
      ],
      "text/plain": [
       "                    power\n",
       "brand      model         \n",
       "alfa_romeo 145      103.0\n",
       "           147      120.0\n",
       "           156      150.0\n",
       "           159      170.0\n",
       "           other    150.0\n",
       "           spider   150.0\n",
       "           unknown  125.0\n",
       "audi       100      133.0\n",
       "           200      182.0\n",
       "           80        90.0"
      ]
     },
     "execution_count": 138,
     "metadata": {},
     "output_type": "execute_result"
    }
   ],
   "source": [
    "df_brands_pivot = (\n",
    "    pd.pivot_table(\n",
    "        df, index=['brand', 'model'], values=['power'], aggfunc='median') #сводная таблица\n",
    ")\n",
    "df_brands_pivot.head(10)"
   ]
  },
  {
   "cell_type": "markdown",
   "metadata": {},
   "source": [
    "Здесь в индексе автомобили сгруппированы по марке, а внутри марки - по моделям. В столбце `power` посчитана медианная мощность. Столбцы `brand` и `model` извлечены из индекса. Индекс не убираем - он наглядно показывает группировку в сводной таблице."
   ]
  },
  {
   "cell_type": "code",
   "execution_count": 139,
   "metadata": {},
   "outputs": [],
   "source": [
    "# фильтруем значения мощности равные нулю и применяем к ним: сгруппированные по модели и бренду медианные мощности, полученные спомощью transform\n",
    "df.loc[df['power'] == 0, 'power'] = df.groupby(['brand', 'model'])['power'].transform('median')"
   ]
  },
  {
   "cell_type": "code",
   "execution_count": 140,
   "metadata": {},
   "outputs": [],
   "source": [
    "# for index in df_brands_pivot.index: #дял каждой марки и модели (индекс) в таблице\n",
    "#     df.loc[(df['brand'] == index[0]) & #фильтруем по марке (индекс 0)\n",
    "#            (df['model'] == index[1]) & #фильтруем по модели (индекс 1)\n",
    "#            (df['power'] == 0), 'power'] = df_brands_pivot.loc[index].values[0] #и нулевой мощности и приравниваем таким значениям медианное из таблицы"
   ]
  },
  {
   "cell_type": "code",
   "execution_count": 141,
   "metadata": {},
   "outputs": [
    {
     "data": {
      "image/png": "[encoded data removed]",
      "text/plain": [
       "<Figure size 1000x400 with 1 Axes>"
      ]
     },
     "metadata": {},
     "output_type": "display_data"
    }
   ],
   "source": [
    "df['power'].hist(bins=100, figsize=(10, 4), range=(-1, 100), color='grey', grid=True);"
   ]
  },
  {
   "cell_type": "markdown",
   "metadata": {},
   "source": [
    "Теперь проверим хвосты слева:"
   ]
  },
  {
   "cell_type": "code",
   "execution_count": 142,
   "metadata": {},
   "outputs": [
    {
     "data": {
      "image/png": "[encoded data removed]",
      "text/plain": [
       "<Figure size 1000x400 with 1 Axes>"
      ]
     },
     "metadata": {},
     "output_type": "display_data"
    }
   ],
   "source": [
    "df['power'].hist(bins=100, figsize=(10, 4), range=(-1, 40), color='grey', grid=True);"
   ]
  },
  {
   "cell_type": "markdown",
   "metadata": {},
   "source": [
    "Убираем из данных выбросы - автомобили с мощностью более 450 л.с. и менее 25 л.с."
   ]
  },
  {
   "cell_type": "code",
   "execution_count": 143,
   "metadata": {},
   "outputs": [
    {
     "data": {
      "text/plain": [
       "(323548, 15)"
      ]
     },
     "execution_count": 143,
     "metadata": {},
     "output_type": "execute_result"
    }
   ],
   "source": [
    "df = df.query('power <= 450 and power >= 25').reset_index(drop=True)\n",
    "df.shape"
   ]
  },
  {
   "cell_type": "markdown",
   "metadata": {},
   "source": [
    "###### `kilometer`"
   ]
  },
  {
   "cell_type": "code",
   "execution_count": 144,
   "metadata": {},
   "outputs": [
    {
     "data": {
      "image/png": "[encoded data removed]",
      "text/plain": [
       "<Figure size 1700x700 with 1 Axes>"
      ]
     },
     "metadata": {},
     "output_type": "display_data"
    }
   ],
   "source": [
    "fig, ax = plt.subplots() #добавить действия для работы над фигурой и осями из библиотеки\n",
    "# ax.set_xlabel('kilometer') #подпись оси х\n",
    "ax.set_ylabel('Количество объявлений') #подпись оси y\n",
    "\n",
    "(\n",
    "    (df['kilometer'] / 1000) #столбец с данными\n",
    "    .hist(bins=100, figsize=(17, 7), color='grey', grid=True) #гистограмма определенного размера, цвета и количества корзин\n",
    "    .set_title('Пробег, тыс. км.', fontsize = 16, color = 'Black') #название гистограммы и его оформление\n",
    ");"
   ]
  },
  {
   "cell_type": "markdown",
   "metadata": {},
   "source": [
    "Здесь ничего особенного. Чем больше пробег - тем больше предложений."
   ]
  },
  {
   "cell_type": "markdown",
   "metadata": {},
   "source": [
    "###### `postal_code`"
   ]
  },
  {
   "cell_type": "code",
   "execution_count": 145,
   "metadata": {},
   "outputs": [
    {
     "data": {
      "image/png": "[encoded data removed]",
      "text/plain": [
       "<Figure size 1700x700 with 1 Axes>"
      ]
     },
     "metadata": {},
     "output_type": "display_data"
    }
   ],
   "source": [
    "fig, ax = plt.subplots() #добавить действия для работы над фигурой и осями из библиотеки\n",
    "# ax.set_xlabel('postal_code') #подпись оси х\n",
    "ax.set_ylabel('Количество объявлений') #подпись оси y\n",
    "\n",
    "(\n",
    "    df['postal_code'] #столбец с данными\n",
    "    .hist(bins=100, figsize=(17, 7), color='grey', grid=True) #гистограмма определенного размера, цвета и количества корзин\n",
    "    .set_title('Почтовый индекс', fontsize = 16, color = 'Black') #название гистограммы и его оформление\n",
    ");"
   ]
  },
  {
   "cell_type": "markdown",
   "metadata": {},
   "source": [
    "Вряд ли почтовый код будет иметь отношение к модели. К тому же, никаких необычных данных тут нет."
   ]
  },
  {
   "cell_type": "markdown",
   "metadata": {},
   "source": [
    "Всего потеряно данных:"
   ]
  },
  {
   "cell_type": "code",
   "execution_count": 146,
   "metadata": {},
   "outputs": [
    {
     "name": "stdout",
     "output_type": "stream",
     "text": [
      "После выполнения этапа предобработки было потеряно 8.7 % данных.\n"
     ]
    }
   ],
   "source": [
    "print(\"После выполнения этапа предобработки было потеряно\", \n",
    "      round((abs(df.shape[0] - df_start.shape[0]) / df_start.shape[0] * 100), 2), \"% данных.\")"
   ]
  },
  {
   "cell_type": "markdown",
   "metadata": {},
   "source": [
    "## Обучение моделей"
   ]
  },
  {
   "cell_type": "markdown",
   "metadata": {},
   "source": [
    "### Подготовка признаков"
   ]
  },
  {
   "cell_type": "markdown",
   "metadata": {},
   "source": [
    "Подготовим признаки. Столбцы, которые не важны для модели:\n",
    "\n",
    "- `date_crawled`, `registration_year`, `registration_month`, `date_created`, `postal_code`, `last_seen`;\n",
    "\n",
    "Численные признаки:\n",
    "\n",
    "- `power`, `kilometer`;\n",
    "\n",
    "Категориальные признаки:\n",
    "\n",
    "- `vehicle_type`, `gearbox`, `model`, `fuel_type`, `brand`, `repaired`;\n",
    "\n",
    "Целевой признак:\n",
    "\n",
    "- `price`."
   ]
  },
  {
   "cell_type": "code",
   "execution_count": 147,
   "metadata": {},
   "outputs": [
    {
     "data": {
      "text/html": [
       "<div>\n",
       "<style scoped>\n",
       "    .dataframe tbody tr th:only-of-type {\n",
       "        vertical-align: middle;\n",
       "    }\n",
       "\n",
       "    .dataframe tbody tr th {\n",
       "        vertical-align: top;\n",
       "    }\n",
       "\n",
       "    .dataframe thead th {\n",
       "        text-align: right;\n",
       "    }\n",
       "</style>\n",
       "<table border=\"1\" class=\"dataframe\">\n",
       "  <thead>\n",
       "    <tr style=\"text-align: right;\">\n",
       "      <th></th>\n",
       "      <th>date_crawled</th>\n",
       "      <th>price</th>\n",
       "      <th>vehicle_type</th>\n",
       "      <th>registration_year</th>\n",
       "      <th>gearbox</th>\n",
       "      <th>power</th>\n",
       "      <th>model</th>\n",
       "      <th>kilometer</th>\n",
       "      <th>registration_month</th>\n",
       "      <th>fuel_type</th>\n",
       "      <th>brand</th>\n",
       "      <th>repaired</th>\n",
       "      <th>date_created</th>\n",
       "      <th>postal_code</th>\n",
       "      <th>last_seen</th>\n",
       "    </tr>\n",
       "  </thead>\n",
       "  <tbody>\n",
       "    <tr>\n",
       "      <th>0</th>\n",
       "      <td>2016-03-24 11:52:17</td>\n",
       "      <td>480</td>\n",
       "      <td>unknown</td>\n",
       "      <td>1993</td>\n",
       "      <td>manual</td>\n",
       "      <td>100.0</td>\n",
       "      <td>golf</td>\n",
       "      <td>150000</td>\n",
       "      <td>0</td>\n",
       "      <td>petrol</td>\n",
       "      <td>volkswagen</td>\n",
       "      <td>unknown</td>\n",
       "      <td>2016-03-24</td>\n",
       "      <td>70435</td>\n",
       "      <td>2016-04-07 03:16:57</td>\n",
       "    </tr>\n",
       "    <tr>\n",
       "      <th>1</th>\n",
       "      <td>2016-03-24 10:58:45</td>\n",
       "      <td>18300</td>\n",
       "      <td>coupe</td>\n",
       "      <td>2011</td>\n",
       "      <td>manual</td>\n",
       "      <td>190.0</td>\n",
       "      <td>unknown</td>\n",
       "      <td>125000</td>\n",
       "      <td>5</td>\n",
       "      <td>gasoline</td>\n",
       "      <td>audi</td>\n",
       "      <td>yes</td>\n",
       "      <td>2016-03-24</td>\n",
       "      <td>66954</td>\n",
       "      <td>2016-04-07 01:46:50</td>\n",
       "    </tr>\n",
       "    <tr>\n",
       "      <th>2</th>\n",
       "      <td>2016-03-14 12:52:21</td>\n",
       "      <td>9800</td>\n",
       "      <td>suv</td>\n",
       "      <td>2004</td>\n",
       "      <td>auto</td>\n",
       "      <td>163.0</td>\n",
       "      <td>grand</td>\n",
       "      <td>125000</td>\n",
       "      <td>8</td>\n",
       "      <td>gasoline</td>\n",
       "      <td>jeep</td>\n",
       "      <td>unknown</td>\n",
       "      <td>2016-03-14</td>\n",
       "      <td>90480</td>\n",
       "      <td>2016-04-05 12:47:46</td>\n",
       "    </tr>\n",
       "    <tr>\n",
       "      <th>3</th>\n",
       "      <td>2016-03-17 16:54:04</td>\n",
       "      <td>1500</td>\n",
       "      <td>small</td>\n",
       "      <td>2001</td>\n",
       "      <td>manual</td>\n",
       "      <td>75.0</td>\n",
       "      <td>golf</td>\n",
       "      <td>150000</td>\n",
       "      <td>6</td>\n",
       "      <td>petrol</td>\n",
       "      <td>volkswagen</td>\n",
       "      <td>no</td>\n",
       "      <td>2016-03-17</td>\n",
       "      <td>91074</td>\n",
       "      <td>2016-03-17 17:40:17</td>\n",
       "    </tr>\n",
       "    <tr>\n",
       "      <th>4</th>\n",
       "      <td>2016-03-31 17:25:20</td>\n",
       "      <td>3600</td>\n",
       "      <td>small</td>\n",
       "      <td>2008</td>\n",
       "      <td>manual</td>\n",
       "      <td>69.0</td>\n",
       "      <td>fabia</td>\n",
       "      <td>90000</td>\n",
       "      <td>7</td>\n",
       "      <td>gasoline</td>\n",
       "      <td>skoda</td>\n",
       "      <td>no</td>\n",
       "      <td>2016-03-31</td>\n",
       "      <td>60437</td>\n",
       "      <td>2016-04-06 10:17:21</td>\n",
       "    </tr>\n",
       "  </tbody>\n",
       "</table>\n",
       "</div>"
      ],
      "text/plain": [
       "         date_crawled  price vehicle_type  registration_year gearbox  power  \\\n",
       "0 2016-03-24 11:52:17    480      unknown               1993  manual  100.0   \n",
       "1 2016-03-24 10:58:45  18300        coupe               2011  manual  190.0   \n",
       "2 2016-03-14 12:52:21   9800          suv               2004    auto  163.0   \n",
       "3 2016-03-17 16:54:04   1500        small               2001  manual   75.0   \n",
       "4 2016-03-31 17:25:20   3600        small               2008  manual   69.0   \n",
       "\n",
       "     model  kilometer  registration_month fuel_type       brand repaired  \\\n",
       "0     golf     150000                   0    petrol  volkswagen  unknown   \n",
       "1  unknown     125000                   5  gasoline        audi      yes   \n",
       "2    grand     125000                   8  gasoline        jeep  unknown   \n",
       "3     golf     150000                   6    petrol  volkswagen       no   \n",
       "4    fabia      90000                   7  gasoline       skoda       no   \n",
       "\n",
       "  date_created  postal_code           last_seen  \n",
       "0   2016-03-24        70435 2016-04-07 03:16:57  \n",
       "1   2016-03-24        66954 2016-04-07 01:46:50  \n",
       "2   2016-03-14        90480 2016-04-05 12:47:46  \n",
       "3   2016-03-17        91074 2016-03-17 17:40:17  \n",
       "4   2016-03-31        60437 2016-04-06 10:17:21  "
      ]
     },
     "execution_count": 147,
     "metadata": {},
     "output_type": "execute_result"
    }
   ],
   "source": [
    "df.head()"
   ]
  },
  {
   "cell_type": "markdown",
   "metadata": {},
   "source": [
    "Уберем из исходного датасета неиспользуемые при обучении признаки."
   ]
  },
  {
   "cell_type": "code",
   "execution_count": 148,
   "metadata": {},
   "outputs": [
    {
     "data": {
      "text/html": [
       "<div>\n",
       "<style scoped>\n",
       "    .dataframe tbody tr th:only-of-type {\n",
       "        vertical-align: middle;\n",
       "    }\n",
       "\n",
       "    .dataframe tbody tr th {\n",
       "        vertical-align: top;\n",
       "    }\n",
       "\n",
       "    .dataframe thead th {\n",
       "        text-align: right;\n",
       "    }\n",
       "</style>\n",
       "<table border=\"1\" class=\"dataframe\">\n",
       "  <thead>\n",
       "    <tr style=\"text-align: right;\">\n",
       "      <th></th>\n",
       "      <th>price</th>\n",
       "      <th>vehicle_type</th>\n",
       "      <th>gearbox</th>\n",
       "      <th>power</th>\n",
       "      <th>model</th>\n",
       "      <th>kilometer</th>\n",
       "      <th>fuel_type</th>\n",
       "      <th>brand</th>\n",
       "      <th>repaired</th>\n",
       "    </tr>\n",
       "  </thead>\n",
       "  <tbody>\n",
       "    <tr>\n",
       "      <th>0</th>\n",
       "      <td>480</td>\n",
       "      <td>unknown</td>\n",
       "      <td>manual</td>\n",
       "      <td>100.0</td>\n",
       "      <td>golf</td>\n",
       "      <td>150000</td>\n",
       "      <td>petrol</td>\n",
       "      <td>volkswagen</td>\n",
       "      <td>unknown</td>\n",
       "    </tr>\n",
       "    <tr>\n",
       "      <th>1</th>\n",
       "      <td>18300</td>\n",
       "      <td>coupe</td>\n",
       "      <td>manual</td>\n",
       "      <td>190.0</td>\n",
       "      <td>unknown</td>\n",
       "      <td>125000</td>\n",
       "      <td>gasoline</td>\n",
       "      <td>audi</td>\n",
       "      <td>yes</td>\n",
       "    </tr>\n",
       "    <tr>\n",
       "      <th>2</th>\n",
       "      <td>9800</td>\n",
       "      <td>suv</td>\n",
       "      <td>auto</td>\n",
       "      <td>163.0</td>\n",
       "      <td>grand</td>\n",
       "      <td>125000</td>\n",
       "      <td>gasoline</td>\n",
       "      <td>jeep</td>\n",
       "      <td>unknown</td>\n",
       "    </tr>\n",
       "    <tr>\n",
       "      <th>3</th>\n",
       "      <td>1500</td>\n",
       "      <td>small</td>\n",
       "      <td>manual</td>\n",
       "      <td>75.0</td>\n",
       "      <td>golf</td>\n",
       "      <td>150000</td>\n",
       "      <td>petrol</td>\n",
       "      <td>volkswagen</td>\n",
       "      <td>no</td>\n",
       "    </tr>\n",
       "    <tr>\n",
       "      <th>4</th>\n",
       "      <td>3600</td>\n",
       "      <td>small</td>\n",
       "      <td>manual</td>\n",
       "      <td>69.0</td>\n",
       "      <td>fabia</td>\n",
       "      <td>90000</td>\n",
       "      <td>gasoline</td>\n",
       "      <td>skoda</td>\n",
       "      <td>no</td>\n",
       "    </tr>\n",
       "  </tbody>\n",
       "</table>\n",
       "</div>"
      ],
      "text/plain": [
       "   price vehicle_type gearbox  power    model  kilometer fuel_type  \\\n",
       "0    480      unknown  manual  100.0     golf     150000    petrol   \n",
       "1  18300        coupe  manual  190.0  unknown     125000  gasoline   \n",
       "2   9800          suv    auto  163.0    grand     125000  gasoline   \n",
       "3   1500        small  manual   75.0     golf     150000    petrol   \n",
       "4   3600        small  manual   69.0    fabia      90000  gasoline   \n",
       "\n",
       "        brand repaired  \n",
       "0  volkswagen  unknown  \n",
       "1        audi      yes  \n",
       "2        jeep  unknown  \n",
       "3  volkswagen       no  \n",
       "4       skoda       no  "
      ]
     },
     "execution_count": 148,
     "metadata": {},
     "output_type": "execute_result"
    }
   ],
   "source": [
    "df_1 = df.drop(['date_crawled', 'registration_year', 'registration_month', 'date_created', 'postal_code', 'last_seen'], axis=1) #признаки\n",
    "df_1.head()"
   ]
  },
  {
   "cell_type": "markdown",
   "metadata": {},
   "source": [
    "Также переведем `kilometer` в тип `float` для дальнейшей работы."
   ]
  },
  {
   "cell_type": "code",
   "execution_count": 149,
   "metadata": {},
   "outputs": [],
   "source": [
    "df_1['kilometer']  = df_1['kilometer'].astype('float')"
   ]
  },
  {
   "cell_type": "markdown",
   "metadata": {},
   "source": [
    "### Разбиение данных"
   ]
  },
  {
   "cell_type": "markdown",
   "metadata": {},
   "source": [
    "Разобьем данные на обучающую и тестовую выборки (75% х 25%):"
   ]
  },
  {
   "cell_type": "code",
   "execution_count": 150,
   "metadata": {},
   "outputs": [],
   "source": [
    "#разделение исходного датасета на две выборки, обучающую и валидационную одновременно с разделением на матрицу признаков и целевой признак\n",
    "\n",
    "features_train, features_test, target_train, target_test = train_test_split( #создаем 4 датасета, \n",
    "    df_1.drop(columns='price'), #для датасетов признаков удаляем целевой\n",
    "    df_1['price'], #для целевого оставляем только целевой\n",
    "    test_size=0.25, #с соотношением 75/25\n",
    "    random_state=RANDOM_STATE) #с заданной опорой для рандома "
   ]
  },
  {
   "cell_type": "markdown",
   "metadata": {},
   "source": [
    "### Кодирование"
   ]
  },
  {
   "cell_type": "markdown",
   "metadata": {},
   "source": [
    "#### Прямое кодирование (`OHE`)"
   ]
  },
  {
   "cell_type": "markdown",
   "metadata": {},
   "source": [
    "Категориальные признаки лучше всего разбить прямым кодированием (OHE) на категории (1/0 в зависимости от того, относится ли этот признак к этой категории) для линейных моделей."
   ]
  },
  {
   "cell_type": "code",
   "execution_count": 151,
   "metadata": {},
   "outputs": [],
   "source": [
    "list_features = ['vehicle_type', 'gearbox', 'model', 'fuel_type', 'brand', 'repaired'] #список категориальных признаков для OHE\n",
    "ohe_train = OneHotEncoder(handle_unknown='ignore', sparse_output=False) #применяем OneHotEncoder\n",
    "ohe_train.fit(features_train.loc[:,list_features]) #обучаем на тренировочной\n",
    "\n",
    "def ohe(features, target): #функция\n",
    "    features_ohe = ohe_train.transform(features.loc[:,list_features]) #трансформируем признаки\n",
    "    array_temp_features_ohe = pd.DataFrame(features_ohe) #преобразовываем массив в датасет\n",
    "    features_temp = features.drop(list_features, axis=1).reset_index(drop=True) #удаляем уже не нужные категориальные признаки\n",
    "    features_x = pd.concat([features_temp, array_temp_features_ohe], axis=1) #склеиваем оставшие столбцы с новым датасетом\n",
    "    features_new, target_new = shuffle(features_x, target, random_state=RANDOM_STATE) #перемешиваем\n",
    "\n",
    "    return(features_new, target_new) #возвращаем датасет признаков и целевой признак"
   ]
  },
  {
   "cell_type": "code",
   "execution_count": 152,
   "metadata": {},
   "outputs": [],
   "source": [
    "features_train_ohe, target_train_ohe = ohe(features_train, target_train)\n",
    "features_test_ohe, target_test_ohe = ohe(features_test, target_test)"
   ]
  },
  {
   "cell_type": "code",
   "execution_count": 153,
   "metadata": {},
   "outputs": [
    {
     "data": {
      "text/plain": [
       "314"
      ]
     },
     "execution_count": 153,
     "metadata": {},
     "output_type": "execute_result"
    }
   ],
   "source": [
    "features_train_ohe.shape[1] #количество столбцов в признаках"
   ]
  },
  {
   "cell_type": "markdown",
   "metadata": {},
   "source": [
    "Изменим тип данных который получили в результате преобразования в `int8`"
   ]
  },
  {
   "cell_type": "code",
   "execution_count": 154,
   "metadata": {},
   "outputs": [],
   "source": [
    "features_train_ohe.loc[:, 0:]  = features_train_ohe.loc[:, 0:].astype('int8')\n",
    "features_test_ohe.loc[:, 0:]  = features_test_ohe.loc[:, 0:].astype('int8')"
   ]
  },
  {
   "cell_type": "code",
   "execution_count": 155,
   "metadata": {},
   "outputs": [
    {
     "name": "stdout",
     "output_type": "stream",
     "text": [
      "<class 'pandas.core.frame.DataFrame'>\n",
      "Int64Index: 242661 entries, 57689 to 107955\n",
      "Columns: 314 entries, power to 311\n",
      "dtypes: float64(314)\n",
      "memory usage: 583.2 MB\n"
     ]
    }
   ],
   "source": [
    "features_train_ohe.info()"
   ]
  },
  {
   "cell_type": "code",
   "execution_count": 156,
   "metadata": {},
   "outputs": [
    {
     "data": {
      "text/html": [
       "<div>\n",
       "<style scoped>\n",
       "    .dataframe tbody tr th:only-of-type {\n",
       "        vertical-align: middle;\n",
       "    }\n",
       "\n",
       "    .dataframe tbody tr th {\n",
       "        vertical-align: top;\n",
       "    }\n",
       "\n",
       "    .dataframe thead th {\n",
       "        text-align: right;\n",
       "    }\n",
       "</style>\n",
       "<table border=\"1\" class=\"dataframe\">\n",
       "  <thead>\n",
       "    <tr style=\"text-align: right;\">\n",
       "      <th></th>\n",
       "      <th>power</th>\n",
       "      <th>kilometer</th>\n",
       "      <th>0</th>\n",
       "      <th>1</th>\n",
       "      <th>2</th>\n",
       "      <th>3</th>\n",
       "      <th>4</th>\n",
       "      <th>5</th>\n",
       "      <th>6</th>\n",
       "      <th>7</th>\n",
       "      <th>...</th>\n",
       "      <th>302</th>\n",
       "      <th>303</th>\n",
       "      <th>304</th>\n",
       "      <th>305</th>\n",
       "      <th>306</th>\n",
       "      <th>307</th>\n",
       "      <th>308</th>\n",
       "      <th>309</th>\n",
       "      <th>310</th>\n",
       "      <th>311</th>\n",
       "    </tr>\n",
       "  </thead>\n",
       "  <tbody>\n",
       "    <tr>\n",
       "      <th>57689</th>\n",
       "      <td>218.0</td>\n",
       "      <td>100000.0</td>\n",
       "      <td>0.0</td>\n",
       "      <td>0.0</td>\n",
       "      <td>0.0</td>\n",
       "      <td>0.0</td>\n",
       "      <td>1.0</td>\n",
       "      <td>0.0</td>\n",
       "      <td>0.0</td>\n",
       "      <td>0.0</td>\n",
       "      <td>...</td>\n",
       "      <td>0.0</td>\n",
       "      <td>0.0</td>\n",
       "      <td>0.0</td>\n",
       "      <td>0.0</td>\n",
       "      <td>0.0</td>\n",
       "      <td>0.0</td>\n",
       "      <td>0.0</td>\n",
       "      <td>1.0</td>\n",
       "      <td>0.0</td>\n",
       "      <td>0.0</td>\n",
       "    </tr>\n",
       "    <tr>\n",
       "      <th>114974</th>\n",
       "      <td>150.0</td>\n",
       "      <td>150000.0</td>\n",
       "      <td>0.0</td>\n",
       "      <td>0.0</td>\n",
       "      <td>0.0</td>\n",
       "      <td>0.0</td>\n",
       "      <td>0.0</td>\n",
       "      <td>0.0</td>\n",
       "      <td>0.0</td>\n",
       "      <td>0.0</td>\n",
       "      <td>...</td>\n",
       "      <td>0.0</td>\n",
       "      <td>0.0</td>\n",
       "      <td>0.0</td>\n",
       "      <td>0.0</td>\n",
       "      <td>0.0</td>\n",
       "      <td>0.0</td>\n",
       "      <td>0.0</td>\n",
       "      <td>1.0</td>\n",
       "      <td>0.0</td>\n",
       "      <td>0.0</td>\n",
       "    </tr>\n",
       "    <tr>\n",
       "      <th>199910</th>\n",
       "      <td>69.0</td>\n",
       "      <td>50000.0</td>\n",
       "      <td>0.0</td>\n",
       "      <td>0.0</td>\n",
       "      <td>0.0</td>\n",
       "      <td>0.0</td>\n",
       "      <td>0.0</td>\n",
       "      <td>1.0</td>\n",
       "      <td>0.0</td>\n",
       "      <td>0.0</td>\n",
       "      <td>...</td>\n",
       "      <td>0.0</td>\n",
       "      <td>0.0</td>\n",
       "      <td>0.0</td>\n",
       "      <td>1.0</td>\n",
       "      <td>0.0</td>\n",
       "      <td>0.0</td>\n",
       "      <td>0.0</td>\n",
       "      <td>1.0</td>\n",
       "      <td>0.0</td>\n",
       "      <td>0.0</td>\n",
       "    </tr>\n",
       "    <tr>\n",
       "      <th>84566</th>\n",
       "      <td>136.0</td>\n",
       "      <td>60000.0</td>\n",
       "      <td>0.0</td>\n",
       "      <td>0.0</td>\n",
       "      <td>0.0</td>\n",
       "      <td>0.0</td>\n",
       "      <td>0.0</td>\n",
       "      <td>0.0</td>\n",
       "      <td>1.0</td>\n",
       "      <td>0.0</td>\n",
       "      <td>...</td>\n",
       "      <td>0.0</td>\n",
       "      <td>0.0</td>\n",
       "      <td>0.0</td>\n",
       "      <td>0.0</td>\n",
       "      <td>0.0</td>\n",
       "      <td>0.0</td>\n",
       "      <td>0.0</td>\n",
       "      <td>1.0</td>\n",
       "      <td>0.0</td>\n",
       "      <td>0.0</td>\n",
       "    </tr>\n",
       "    <tr>\n",
       "      <th>124408</th>\n",
       "      <td>150.0</td>\n",
       "      <td>150000.0</td>\n",
       "      <td>0.0</td>\n",
       "      <td>0.0</td>\n",
       "      <td>0.0</td>\n",
       "      <td>0.0</td>\n",
       "      <td>0.0</td>\n",
       "      <td>0.0</td>\n",
       "      <td>0.0</td>\n",
       "      <td>0.0</td>\n",
       "      <td>...</td>\n",
       "      <td>0.0</td>\n",
       "      <td>0.0</td>\n",
       "      <td>0.0</td>\n",
       "      <td>0.0</td>\n",
       "      <td>0.0</td>\n",
       "      <td>0.0</td>\n",
       "      <td>0.0</td>\n",
       "      <td>0.0</td>\n",
       "      <td>0.0</td>\n",
       "      <td>1.0</td>\n",
       "    </tr>\n",
       "  </tbody>\n",
       "</table>\n",
       "<p>5 rows × 314 columns</p>\n",
       "</div>"
      ],
      "text/plain": [
       "        power  kilometer    0    1    2    3    4    5    6    7  ...  302  \\\n",
       "57689   218.0   100000.0  0.0  0.0  0.0  0.0  1.0  0.0  0.0  0.0  ...  0.0   \n",
       "114974  150.0   150000.0  0.0  0.0  0.0  0.0  0.0  0.0  0.0  0.0  ...  0.0   \n",
       "199910   69.0    50000.0  0.0  0.0  0.0  0.0  0.0  1.0  0.0  0.0  ...  0.0   \n",
       "84566   136.0    60000.0  0.0  0.0  0.0  0.0  0.0  0.0  1.0  0.0  ...  0.0   \n",
       "124408  150.0   150000.0  0.0  0.0  0.0  0.0  0.0  0.0  0.0  0.0  ...  0.0   \n",
       "\n",
       "        303  304  305  306  307  308  309  310  311  \n",
       "57689   0.0  0.0  0.0  0.0  0.0  0.0  1.0  0.0  0.0  \n",
       "114974  0.0  0.0  0.0  0.0  0.0  0.0  1.0  0.0  0.0  \n",
       "199910  0.0  0.0  1.0  0.0  0.0  0.0  1.0  0.0  0.0  \n",
       "84566   0.0  0.0  0.0  0.0  0.0  0.0  1.0  0.0  0.0  \n",
       "124408  0.0  0.0  0.0  0.0  0.0  0.0  0.0  0.0  1.0  \n",
       "\n",
       "[5 rows x 314 columns]"
      ]
     },
     "execution_count": 156,
     "metadata": {},
     "output_type": "execute_result"
    }
   ],
   "source": [
    "features_train_ohe.head()"
   ]
  },
  {
   "cell_type": "markdown",
   "metadata": {},
   "source": [
    "#### Порядковое кодирование"
   ]
  },
  {
   "cell_type": "markdown",
   "metadata": {},
   "source": [
    "Для деревьев применяем такое преобразование для категориальных признаков"
   ]
  },
  {
   "cell_type": "code",
   "execution_count": 167,
   "metadata": {},
   "outputs": [],
   "source": [
    "ordinal_train = OrdinalEncoder(handle_unknown='use_encoded_value', unknown_value=-1) #применяем Encoder\n",
    "ordinal_train.fit(features_train.loc[:,list_features]) #обучаем на тренировочной\n",
    "\n",
    "def ordinal(features, target): #функция\n",
    "    features_ordinal = ordinal_train.transform(features.loc[:,list_features]) #трансформируем признаки\n",
    "    array_temp_features_ordinal = pd.DataFrame(features_ordinal) #преобразовываем массив в датасет\n",
    "    features_temp_or = features.drop(list_features, axis=1).reset_index(drop=True) #удаляем уже не нужные категориальные признаки\n",
    "    features_or = pd.concat([features_temp_or, array_temp_features_ordinal], axis=1) #склеиваем оставшие столбцы с новым датасетом\n",
    "    features_or, target_or = shuffle(features_or, target, random_state=RANDOM_STATE) #перемешиваем\n",
    "\n",
    "    return(features_or, target_or) #возвращаем датасет признаков и целевой признак"
   ]
  },
  {
   "cell_type": "code",
   "execution_count": 168,
   "metadata": {},
   "outputs": [],
   "source": [
    "features_train_ordinal, target_train_ordinal = ordinal(features_train, target_train)\n",
    "features_test_ordinal, target_test_ordinal = ordinal(features_test, target_test)"
   ]
  },
  {
   "cell_type": "code",
   "execution_count": 169,
   "metadata": {},
   "outputs": [
    {
     "data": {
      "text/html": [
       "<div>\n",
       "<style scoped>\n",
       "    .dataframe tbody tr th:only-of-type {\n",
       "        vertical-align: middle;\n",
       "    }\n",
       "\n",
       "    .dataframe tbody tr th {\n",
       "        vertical-align: top;\n",
       "    }\n",
       "\n",
       "    .dataframe thead th {\n",
       "        text-align: right;\n",
       "    }\n",
       "</style>\n",
       "<table border=\"1\" class=\"dataframe\">\n",
       "  <thead>\n",
       "    <tr style=\"text-align: right;\">\n",
       "      <th></th>\n",
       "      <th>power</th>\n",
       "      <th>kilometer</th>\n",
       "      <th>0</th>\n",
       "      <th>1</th>\n",
       "      <th>2</th>\n",
       "      <th>3</th>\n",
       "      <th>4</th>\n",
       "      <th>5</th>\n",
       "    </tr>\n",
       "  </thead>\n",
       "  <tbody>\n",
       "    <tr>\n",
       "      <th>57689</th>\n",
       "      <td>218.0</td>\n",
       "      <td>100000.0</td>\n",
       "      <td>4.0</td>\n",
       "      <td>1.0</td>\n",
       "      <td>11.0</td>\n",
       "      <td>6.0</td>\n",
       "      <td>2.0</td>\n",
       "      <td>0.0</td>\n",
       "    </tr>\n",
       "    <tr>\n",
       "      <th>114974</th>\n",
       "      <td>150.0</td>\n",
       "      <td>150000.0</td>\n",
       "      <td>8.0</td>\n",
       "      <td>0.0</td>\n",
       "      <td>233.0</td>\n",
       "      <td>2.0</td>\n",
       "      <td>24.0</td>\n",
       "      <td>0.0</td>\n",
       "    </tr>\n",
       "    <tr>\n",
       "      <th>199910</th>\n",
       "      <td>69.0</td>\n",
       "      <td>50000.0</td>\n",
       "      <td>5.0</td>\n",
       "      <td>1.0</td>\n",
       "      <td>244.0</td>\n",
       "      <td>6.0</td>\n",
       "      <td>36.0</td>\n",
       "      <td>0.0</td>\n",
       "    </tr>\n",
       "    <tr>\n",
       "      <th>84566</th>\n",
       "      <td>136.0</td>\n",
       "      <td>60000.0</td>\n",
       "      <td>6.0</td>\n",
       "      <td>1.0</td>\n",
       "      <td>135.0</td>\n",
       "      <td>2.0</td>\n",
       "      <td>10.0</td>\n",
       "      <td>0.0</td>\n",
       "    </tr>\n",
       "    <tr>\n",
       "      <th>124408</th>\n",
       "      <td>150.0</td>\n",
       "      <td>150000.0</td>\n",
       "      <td>8.0</td>\n",
       "      <td>1.0</td>\n",
       "      <td>0.0</td>\n",
       "      <td>6.0</td>\n",
       "      <td>1.0</td>\n",
       "      <td>2.0</td>\n",
       "    </tr>\n",
       "  </tbody>\n",
       "</table>\n",
       "</div>"
      ],
      "text/plain": [
       "        power  kilometer    0    1      2    3     4    5\n",
       "57689   218.0   100000.0  4.0  1.0   11.0  6.0   2.0  0.0\n",
       "114974  150.0   150000.0  8.0  0.0  233.0  2.0  24.0  0.0\n",
       "199910   69.0    50000.0  5.0  1.0  244.0  6.0  36.0  0.0\n",
       "84566   136.0    60000.0  6.0  1.0  135.0  2.0  10.0  0.0\n",
       "124408  150.0   150000.0  8.0  1.0    0.0  6.0   1.0  2.0"
      ]
     },
     "execution_count": 169,
     "metadata": {},
     "output_type": "execute_result"
    }
   ],
   "source": [
    "features_train_ordinal.head()"
   ]
  },
  {
   "cell_type": "markdown",
   "metadata": {},
   "source": [
    "Для того, чтобы модели отработали без ошибок типа в названиях столбцов, приведем тип признаков в строковый."
   ]
  },
  {
   "cell_type": "code",
   "execution_count": 173,
   "metadata": {},
   "outputs": [],
   "source": [
    "features_train_ohe.columns = features_train_ohe.columns.astype(str)\n",
    "\n",
    "features_train_ordinal.columns = features_train_ordinal.columns.astype(str)"
   ]
  },
  {
   "cell_type": "markdown",
   "metadata": {},
   "source": [
    "### Модели"
   ]
  },
  {
   "cell_type": "markdown",
   "metadata": {},
   "source": [
    "#### Линейная регрессия"
   ]
  },
  {
   "cell_type": "markdown",
   "metadata": {},
   "source": [
    "Для начала обучим модель линейной регрессии - она очень быстрая и даст результат для ориентира для метрики `RMSE`."
   ]
  },
  {
   "cell_type": "code",
   "execution_count": 164,
   "metadata": {},
   "outputs": [
    {
     "name": "stdout",
     "output_type": "stream",
     "text": [
      "Среднее значение метрики RMSE для модели линейной регрессии с использованием кросс-валидации: 2797.4549914170557\n",
      "CPU times: total: 58.1 s\n",
      "Wall time: 42.4 s\n"
     ]
    }
   ],
   "source": [
    "%%time\n",
    "\n",
    "lin_reg_cv = LinearRegression()\n",
    "lin_reg_cv_scores = cross_val_score(lin_reg_cv, features_train_ohe, target_train_ohe.values, scoring='neg_root_mean_squared_error', cv=10)\n",
    "lin_reg_cv_rmse = abs(lin_reg_cv_scores.mean())\n",
    "\n",
    "print(\"Среднее значение метрики RMSE для модели линейной регрессии \"\\\n",
    "    \"с использованием кросс-валидации:\", lin_reg_cv_rmse)"
   ]
  },
  {
   "cell_type": "markdown",
   "metadata": {},
   "source": [
    "Итак, линейная регрессия с кросс-валидацией показала значение `RMSE`, недостаточное для условия задачи, поэтому она не будет рассматриваться как кандидат для лучшей модели. Но она будет индикатором значений для других моделей. И она быстрая. \n",
    "\n",
    "Время выполнения проверки и получения среднего значения `RMSE` для cv=10 занимает 35 секунд."
   ]
  },
  {
   "cell_type": "markdown",
   "metadata": {},
   "source": [
    "#### Модель случайного леса"
   ]
  },
  {
   "cell_type": "markdown",
   "metadata": {},
   "source": [
    "С помощью метода кросс-валидации `RandomizedSearchCV` для леса можем оценить случайные результаты для минимальной метрики `RMSE`, а также ориентировочное время обучения.\n",
    "\n",
    "Зададим для рандома значение количества итераций `n_iter=20` (20 случайных значений) и значение кросс-валидации `cv=2`. Полученные результаты всегда будут разными, т.к. модель ищет случайные комбинации глубины и количества деревьев."
   ]
  },
  {
   "cell_type": "code",
   "execution_count": 176,
   "metadata": {},
   "outputs": [
    {
     "name": "stdout",
     "output_type": "stream",
     "text": [
      "Лучшие параметры для модели случайного леса с использованием кросс-валидации: {'n_estimators': 476, 'max_depth': 97}\n",
      "Наименьшее значение метрики RMSE для модели случайного леса при лучших гиперпараметрах с использованием кросс-валидации: 2174.7610343482525\n",
      "CPU times: total: 1min 30s\n",
      "Wall time: 8min 34s\n"
     ]
    }
   ],
   "source": [
    "%%time\n",
    "\n",
    "random_forest = RandomForestRegressor(random_state=RANDOM_STATE) #модель случайного леса\n",
    "parameters = {'n_estimators': range (1, 500), 'max_depth': range (1, 100)} #перебор гиперпараметров\n",
    "#применение метода гридсёрч со встроенной кросс-валидацией к модели леса с перебором указанных параметров\n",
    "\n",
    "randomized_random_forest = RandomizedSearchCV(random_forest, n_iter=20, param_distributions= parameters, scoring='neg_root_mean_squared_error', n_jobs= -1, cv=2, random_state=RANDOM_STATE)\n",
    "#обучение модели\n",
    "randomized_random_forest.fit(features_train_ordinal, target_train_ordinal.values)\n",
    "\n",
    "#лучшее значение после перебора параметров \n",
    "best_randomized_forest = abs(randomized_random_forest.best_score_)\n",
    "\n",
    "print(\"Лучшие параметры для модели случайного леса с \"\\\n",
    "    \"использованием кросс-валидации:\", randomized_random_forest.best_params_)\n",
    "print(\"Наименьшее значение метрики RMSE для модели случайного леса \"\\\n",
    "    \"при лучших гиперпараметрах с использованием кросс-валидации:\", best_randomized_forest)"
   ]
  },
  {
   "cell_type": "markdown",
   "metadata": {},
   "source": [
    "В процессе подбора гиперпараметров при заданных атрибутах, `RandomizedSearchCV` занимает около 8 минут. Лучшее значение метрики при расчете показывает результат 2174,76."
   ]
  },
  {
   "cell_type": "markdown",
   "metadata": {},
   "source": [
    "#### LightGBM"
   ]
  },
  {
   "cell_type": "markdown",
   "metadata": {},
   "source": [
    "LightGBM - одна из моделей с применением градиентного бустинга. Работает напрямую с категориальными признаками, поэтому исходными выборками будут датасеты без кодирования. Установим LightGBM:"
   ]
  },
  {
   "cell_type": "code",
   "execution_count": 178,
   "metadata": {},
   "outputs": [
    {
     "name": "stdout",
     "output_type": "stream",
     "text": [
      "Requirement already satisfied: lightgbm in c:\\users\\maxpe\\anaconda3\\envs\\ds_practicum_env\\lib\\site-packages (3.3.5)\n",
      "Requirement already satisfied: numpy in c:\\users\\maxpe\\anaconda3\\envs\\ds_practicum_env\\lib\\site-packages (from lightgbm) (1.20.1)\n",
      "Requirement already satisfied: scipy in c:\\users\\maxpe\\anaconda3\\envs\\ds_practicum_env\\lib\\site-packages (from lightgbm) (1.8.0)\n",
      "Requirement already satisfied: wheel in c:\\users\\maxpe\\anaconda3\\envs\\ds_practicum_env\\lib\\site-packages (from lightgbm) (0.37.1)\n",
      "Requirement already satisfied: scikit-learn!=0.22.0 in c:\\users\\maxpe\\anaconda3\\envs\\ds_practicum_env\\lib\\site-packages (from lightgbm) (1.2.2)\n",
      "Requirement already satisfied: joblib>=1.1.1 in c:\\users\\maxpe\\anaconda3\\envs\\ds_practicum_env\\lib\\site-packages (from scikit-learn!=0.22.0->lightgbm) (1.2.0)\n",
      "Requirement already satisfied: threadpoolctl>=2.0.0 in c:\\users\\maxpe\\anaconda3\\envs\\ds_practicum_env\\lib\\site-packages (from scikit-learn!=0.22.0->lightgbm) (3.1.0)\n",
      "Note: you may need to restart the kernel to use updated packages.\n"
     ]
    }
   ],
   "source": [
    "pip install lightgbm;"
   ]
  },
  {
   "cell_type": "markdown",
   "metadata": {},
   "source": [
    "Импортируем библиотеку после установки."
   ]
  },
  {
   "cell_type": "code",
   "execution_count": 179,
   "metadata": {},
   "outputs": [],
   "source": [
    "import lightgbm as lgb"
   ]
  },
  {
   "cell_type": "markdown",
   "metadata": {},
   "source": [
    "Обозначим выборки для модели новыми именами и переведем категориальные признаки выборок к типу `category`."
   ]
  },
  {
   "cell_type": "code",
   "execution_count": 180,
   "metadata": {},
   "outputs": [],
   "source": [
    "features_train_lgb = features_train.copy()\n",
    "features_test_lgb = features_test.copy()\n",
    "target_train_lgb = target_train.copy()\n",
    "target_test_lgb = target_test.copy()\n",
    "\n",
    "features_train_lgb.loc[:, list_features]  = features_train_lgb.loc[:, list_features].astype('category')\n",
    "features_test_lgb.loc[:, list_features]  = features_test_lgb.loc[:, list_features].astype('category')"
   ]
  },
  {
   "cell_type": "code",
   "execution_count": 214,
   "metadata": {},
   "outputs": [
    {
     "name": "stdout",
     "output_type": "stream",
     "text": [
      "Лучшие параметры для модели случайного леса с использованием кросс-валидации: {'n_estimators': 994, 'max_depth': 21}\n",
      "Наименьшее значение метрики RMSE для модели случайного леса при лучших гиперпараметрах с использованием кросс-валидации: 2052.9818710111294\n",
      "CPU times: total: 27.4 s\n",
      "Wall time: 29.6 s\n"
     ]
    }
   ],
   "source": [
    "%%time\n",
    "\n",
    "lgb_forest = lgb.LGBMModel(objective=\"regression\", learning_rate=0.3, random_state=RANDOM_STATE) #\n",
    "parameters = {'n_estimators': range (1, 1000), 'max_depth': range (1, 100)}\n",
    "#применение метода гридсёрч со встроенной кросс-валидацией\n",
    "\n",
    "rand_lgb_forest = RandomizedSearchCV(lgb_forest, n_iter=20, param_distributions= parameters, scoring='neg_root_mean_squared_error', n_jobs= -2, cv=2, random_state=RANDOM_STATE)\n",
    "#обучение модели\n",
    "rand_lgb_forest.fit(features_train_lgb, target_train_lgb.values)\n",
    "\n",
    "#лучшее значение после перебора параметров \n",
    "best_rand_lgb_forest = abs(rand_lgb_forest.best_score_)\n",
    "\n",
    "print(\"Лучшие параметры для модели случайного леса с \"\\\n",
    "    \"использованием кросс-валидации:\", rand_lgb_forest.best_params_)\n",
    "print(\"Наименьшее значение метрики RMSE для модели случайного леса \"\\\n",
    "    \"при лучших гиперпараметрах с использованием кросс-валидации:\", best_rand_lgb_forest)"
   ]
  },
  {
   "cell_type": "markdown",
   "metadata": {},
   "source": [
    "Модель обучается намного быстрее случайного леса, при одинаковых гиперпараметрах, при этом показывая лучший результат, `RMSE=2052,98`. Дополнительным гиперпараметром указан `learning_rate=0.3`, т.к. при таком значении модель показывает лучший результат, этот гиперпараметр мы не перебираем."
   ]
  },
  {
   "cell_type": "markdown",
   "metadata": {},
   "source": [
    "#### Модель котов"
   ]
  },
  {
   "cell_type": "code",
   "execution_count": 82,
   "metadata": {},
   "outputs": [
    {
     "name": "stdout",
     "output_type": "stream",
     "text": [
      "Requirement already satisfied: catboost in c:\\users\\maxpe\\anaconda3\\envs\\ds_practicum_env\\lib\\site-packages (1.0.3)\n",
      "Requirement already satisfied: matplotlib in c:\\users\\maxpe\\anaconda3\\envs\\ds_practicum_env\\lib\\site-packages (from catboost) (3.3.4)\n",
      "Requirement already satisfied: pandas>=0.24.0 in c:\\users\\maxpe\\anaconda3\\envs\\ds_practicum_env\\lib\\site-packages (from catboost) (1.2.4)\n",
      "Requirement already satisfied: plotly in c:\\users\\maxpe\\anaconda3\\envs\\ds_practicum_env\\lib\\site-packages (from catboost) (5.4.0)\n",
      "Requirement already satisfied: graphviz in c:\\users\\maxpe\\anaconda3\\envs\\ds_practicum_env\\lib\\site-packages (from catboost) (0.20.1)\n",
      "Requirement already satisfied: six in c:\\users\\maxpe\\anaconda3\\envs\\ds_practicum_env\\lib\\site-packages (from catboost) (1.16.0)\n",
      "Requirement already satisfied: numpy>=1.16.0 in c:\\users\\maxpe\\anaconda3\\envs\\ds_practicum_env\\lib\\site-packages (from catboost) (1.20.1)\n",
      "Requirement already satisfied: scipy in c:\\users\\maxpe\\anaconda3\\envs\\ds_practicum_env\\lib\\site-packages (from catboost) (1.8.0)\n",
      "Requirement already satisfied: pytz>=2017.3 in c:\\users\\maxpe\\anaconda3\\envs\\ds_practicum_env\\lib\\site-packages (from pandas>=0.24.0->catboost) (2022.2.1)\n",
      "Requirement already satisfied: python-dateutil>=2.7.3 in c:\\users\\maxpe\\anaconda3\\envs\\ds_practicum_env\\lib\\site-packages (from pandas>=0.24.0->catboost) (2.8.2)\n",
      "Requirement already satisfied: pyparsing!=2.0.4,!=2.1.2,!=2.1.6,>=2.0.3 in c:\\users\\maxpe\\anaconda3\\envs\\ds_practicum_env\\lib\\site-packages (from matplotlib->catboost) (3.0.9)\n",
      "Requirement already satisfied: cycler>=0.10 in c:\\users\\maxpe\\anaconda3\\envs\\ds_practicum_env\\lib\\site-packages (from matplotlib->catboost) (0.11.0)\n",
      "Requirement already satisfied: kiwisolver>=1.0.1 in c:\\users\\maxpe\\anaconda3\\envs\\ds_practicum_env\\lib\\site-packages (from matplotlib->catboost) (1.4.4)\n",
      "Requirement already satisfied: pillow>=6.2.0 in c:\\users\\maxpe\\anaconda3\\envs\\ds_practicum_env\\lib\\site-packages (from matplotlib->catboost) (8.4.0)\n",
      "Requirement already satisfied: tenacity>=6.2.0 in c:\\users\\maxpe\\anaconda3\\envs\\ds_practicum_env\\lib\\site-packages (from plotly->catboost) (8.0.1)\n",
      "Note: you may need to restart the kernel to use updated packages.\n"
     ]
    }
   ],
   "source": [
    "pip install catboost"
   ]
  },
  {
   "cell_type": "code",
   "execution_count": 83,
   "metadata": {},
   "outputs": [
    {
     "name": "stdout",
     "output_type": "stream",
     "text": [
      "Requirement already satisfied: ipywidgets in c:\\users\\maxpe\\anaconda3\\envs\\ds_practicum_env\\lib\\site-packages (8.0.1)\n",
      "Requirement already satisfied: ipykernel>=4.5.1 in c:\\users\\maxpe\\anaconda3\\envs\\ds_practicum_env\\lib\\site-packages (from ipywidgets) (6.15.1)\n",
      "Requirement already satisfied: traitlets>=4.3.1 in c:\\users\\maxpe\\anaconda3\\envs\\ds_practicum_env\\lib\\site-packages (from ipywidgets) (5.3.0)\n",
      "Requirement already satisfied: widgetsnbextension~=4.0 in c:\\users\\maxpe\\anaconda3\\envs\\ds_practicum_env\\lib\\site-packages (from ipywidgets) (4.0.2)\n",
      "Requirement already satisfied: jupyterlab-widgets~=3.0 in c:\\users\\maxpe\\anaconda3\\envs\\ds_practicum_env\\lib\\site-packages (from ipywidgets) (3.0.2)\n",
      "Requirement already satisfied: ipython>=6.1.0 in c:\\users\\maxpe\\anaconda3\\envs\\ds_practicum_env\\lib\\site-packages (from ipywidgets) (8.4.0)\n",
      "Requirement already satisfied: matplotlib-inline>=0.1 in c:\\users\\maxpe\\anaconda3\\envs\\ds_practicum_env\\lib\\site-packages (from ipykernel>=4.5.1->ipywidgets) (0.1.6)\n",
      "Requirement already satisfied: nest-asyncio in c:\\users\\maxpe\\anaconda3\\envs\\ds_practicum_env\\lib\\site-packages (from ipykernel>=4.5.1->ipywidgets) (1.5.5)\n",
      "Requirement already satisfied: jupyter-client>=6.1.12 in c:\\users\\maxpe\\anaconda3\\envs\\ds_practicum_env\\lib\\site-packages (from ipykernel>=4.5.1->ipywidgets) (7.3.4)\n",
      "Requirement already satisfied: psutil in c:\\users\\maxpe\\anaconda3\\envs\\ds_practicum_env\\lib\\site-packages (from ipykernel>=4.5.1->ipywidgets) (5.9.1)\n",
      "Requirement already satisfied: pyzmq>=17 in c:\\users\\maxpe\\anaconda3\\envs\\ds_practicum_env\\lib\\site-packages (from ipykernel>=4.5.1->ipywidgets) (23.2.1)\n",
      "Requirement already satisfied: debugpy>=1.0 in c:\\users\\maxpe\\anaconda3\\envs\\ds_practicum_env\\lib\\site-packages (from ipykernel>=4.5.1->ipywidgets) (1.6.3)\n",
      "Requirement already satisfied: tornado>=6.1 in c:\\users\\maxpe\\anaconda3\\envs\\ds_practicum_env\\lib\\site-packages (from ipykernel>=4.5.1->ipywidgets) (6.2)\n",
      "Requirement already satisfied: packaging in c:\\users\\maxpe\\anaconda3\\envs\\ds_practicum_env\\lib\\site-packages (from ipykernel>=4.5.1->ipywidgets) (21.3)\n",
      "Requirement already satisfied: pygments>=2.4.0 in c:\\users\\maxpe\\anaconda3\\envs\\ds_practicum_env\\lib\\site-packages (from ipython>=6.1.0->ipywidgets) (2.13.0)\n",
      "Requirement already satisfied: prompt-toolkit!=3.0.0,!=3.0.1,<3.1.0,>=2.0.0 in c:\\users\\maxpe\\anaconda3\\envs\\ds_practicum_env\\lib\\site-packages (from ipython>=6.1.0->ipywidgets) (3.0.30)\n",
      "Requirement already satisfied: colorama in c:\\users\\maxpe\\anaconda3\\envs\\ds_practicum_env\\lib\\site-packages (from ipython>=6.1.0->ipywidgets) (0.4.5)\n",
      "Requirement already satisfied: stack-data in c:\\users\\maxpe\\anaconda3\\envs\\ds_practicum_env\\lib\\site-packages (from ipython>=6.1.0->ipywidgets) (0.4.0)\n",
      "Requirement already satisfied: decorator in c:\\users\\maxpe\\anaconda3\\envs\\ds_practicum_env\\lib\\site-packages (from ipython>=6.1.0->ipywidgets) (5.1.1)\n",
      "Requirement already satisfied: backcall in c:\\users\\maxpe\\anaconda3\\envs\\ds_practicum_env\\lib\\site-packages (from ipython>=6.1.0->ipywidgets) (0.2.0)\n",
      "Requirement already satisfied: setuptools>=18.5 in c:\\users\\maxpe\\anaconda3\\envs\\ds_practicum_env\\lib\\site-packages (from ipython>=6.1.0->ipywidgets) (65.1.1)\n",
      "Requirement already satisfied: pickleshare in c:\\users\\maxpe\\anaconda3\\envs\\ds_practicum_env\\lib\\site-packages (from ipython>=6.1.0->ipywidgets) (0.7.5)\n",
      "Requirement already satisfied: jedi>=0.16 in c:\\users\\maxpe\\anaconda3\\envs\\ds_practicum_env\\lib\\site-packages (from ipython>=6.1.0->ipywidgets) (0.18.1)\n",
      "Requirement already satisfied: parso<0.9.0,>=0.8.0 in c:\\users\\maxpe\\anaconda3\\envs\\ds_practicum_env\\lib\\site-packages (from jedi>=0.16->ipython>=6.1.0->ipywidgets) (0.8.3)\n",
      "Requirement already satisfied: jupyter-core>=4.9.2 in c:\\users\\maxpe\\anaconda3\\envs\\ds_practicum_env\\lib\\site-packages (from jupyter-client>=6.1.12->ipykernel>=4.5.1->ipywidgets) (4.11.1)\n",
      "Requirement already satisfied: entrypoints in c:\\users\\maxpe\\anaconda3\\envs\\ds_practicum_env\\lib\\site-packages (from jupyter-client>=6.1.12->ipykernel>=4.5.1->ipywidgets) (0.4)\n",
      "Requirement already satisfied: python-dateutil>=2.8.2 in c:\\users\\maxpe\\anaconda3\\envs\\ds_practicum_env\\lib\\site-packages (from jupyter-client>=6.1.12->ipykernel>=4.5.1->ipywidgets) (2.8.2)\n",
      "Requirement already satisfied: wcwidth in c:\\users\\maxpe\\anaconda3\\envs\\ds_practicum_env\\lib\\site-packages (from prompt-toolkit!=3.0.0,!=3.0.1,<3.1.0,>=2.0.0->ipython>=6.1.0->ipywidgets) (0.2.5)\n",
      "Requirement already satisfied: pyparsing!=3.0.5,>=2.0.2 in c:\\users\\maxpe\\anaconda3\\envs\\ds_practicum_env\\lib\\site-packages (from packaging->ipykernel>=4.5.1->ipywidgets) (3.0.9)\n",
      "Requirement already satisfied: executing in c:\\users\\maxpe\\anaconda3\\envs\\ds_practicum_env\\lib\\site-packages (from stack-data->ipython>=6.1.0->ipywidgets) (0.10.0)\n",
      "Requirement already satisfied: pure-eval in c:\\users\\maxpe\\anaconda3\\envs\\ds_practicum_env\\lib\\site-packages (from stack-data->ipython>=6.1.0->ipywidgets) (0.2.2)\n",
      "Requirement already satisfied: asttokens in c:\\users\\maxpe\\anaconda3\\envs\\ds_practicum_env\\lib\\site-packages (from stack-data->ipython>=6.1.0->ipywidgets) (2.0.8)\n",
      "Requirement already satisfied: pywin32>=1.0 in c:\\users\\maxpe\\anaconda3\\envs\\ds_practicum_env\\lib\\site-packages (from jupyter-core>=4.9.2->jupyter-client>=6.1.12->ipykernel>=4.5.1->ipywidgets) (303)\n",
      "Requirement already satisfied: six>=1.5 in c:\\users\\maxpe\\anaconda3\\envs\\ds_practicum_env\\lib\\site-packages (from python-dateutil>=2.8.2->jupyter-client>=6.1.12->ipykernel>=4.5.1->ipywidgets) (1.16.0)\n",
      "Note: you may need to restart the kernel to use updated packages.\n"
     ]
    }
   ],
   "source": [
    "pip install ipywidgets"
   ]
  },
  {
   "cell_type": "code",
   "execution_count": 182,
   "metadata": {},
   "outputs": [],
   "source": [
    "import os \n",
    "import catboost as cb\n",
    "from catboost import CatBoostRegressor"
   ]
  },
  {
   "cell_type": "code",
   "execution_count": 85,
   "metadata": {},
   "outputs": [],
   "source": [
    "# jupyter nbextension enable --py widgetsnbextension"
   ]
  },
  {
   "cell_type": "code",
   "execution_count": 220,
   "metadata": {},
   "outputs": [
    {
     "name": "stdout",
     "output_type": "stream",
     "text": [
      "Лучшие параметры для модели CatBoost с использованием кросс-валидации: {'n_estimators': 400, 'max_depth': 12}\n",
      "Наименьшее значение метрики RMSE для модели CatBoost при лучших гиперпараметрах с использованием кросс-валидации: 2093.680305493312\n",
      "CPU times: total: 2min 4s\n",
      "Wall time: 17min 38s\n"
     ]
    }
   ],
   "source": [
    "%%time\n",
    "\n",
    "cat_model = cb.CatBoostRegressor(learning_rate=0.3, random_state=RANDOM_STATE)\n",
    "\n",
    "params = {'n_estimators': range (10, 500), 'max_depth': range (1, 15)}#применение метода гридсёрч со встроенной кросс-валидацией\n",
    "\n",
    "randomized_cat_model = RandomizedSearchCV(cat_model, n_iter=20, param_distributions= params, scoring='neg_root_mean_squared_error', n_jobs= -2, cv=2, random_state=RANDOM_STATE)\n",
    "#обучение модели\n",
    "randomized_cat_model.fit(features_train, target_train, cat_features=list_features, verbose=False)\n",
    "\n",
    "#лучшее значение после перебора параметров \n",
    "best_randomized_cat_model = abs(randomized_cat_model.best_score_)\n",
    "\n",
    "print(\"Лучшие параметры для модели CatBoost с \"\\\n",
    "    \"использованием кросс-валидации:\", randomized_cat_model.best_params_)\n",
    "print(\"Наименьшее значение метрики RMSE для модели CatBoost \"\\\n",
    "    \"при лучших гиперпараметрах с использованием кросс-валидации:\", best_randomized_cat_model)"
   ]
  },
  {
   "cell_type": "markdown",
   "metadata": {},
   "source": [
    "Модель обучается значительно медленнее случайного леса, и тем более, чем `LGBMModel`. В отличие от леса, не требует порядкового кодирования. Значение искомой метрики лучше, чем для случайного леса, но хуже, чем для `LGBMModel`, равно 2093.68."
   ]
  },
  {
   "cell_type": "markdown",
   "metadata": {},
   "source": [
    "## Анализ моделей"
   ]
  },
  {
   "cell_type": "markdown",
   "metadata": {},
   "source": [
    "Сравним полученные результаты."
   ]
  },
  {
   "cell_type": "markdown",
   "metadata": {},
   "source": [
    "### Случайный лес"
   ]
  },
  {
   "cell_type": "code",
   "execution_count": 185,
   "metadata": {},
   "outputs": [
    {
     "name": "stdout",
     "output_type": "stream",
     "text": [
      "Среднее время обучения модели на одной комбинации гиперпараметров, обеспечивших минимальное значение метрики RMSE для модели случайного леса с использованием кросс-валидации, сек: 214.11080706119537 \n",
      "\n",
      "Среднее время рассчета минимального значения метрики RMSE для этих гиперпараметров для модели случайного леса с использованием кросс-валидации, сек: 18.009066820144653 \n",
      "\n",
      "Лучшие параметры для модели случайного леса с использованием кросс-валидации: {'n_estimators': 476, 'max_depth': 97} \n",
      "\n",
      "Наименьшее значение метрики RMSE для модели случайного леса при лучших гиперпараметрах с использованием кросс-валидации: 2174.7610343482525\n"
     ]
    }
   ],
   "source": [
    "result_random_forest = pd.DataFrame(randomized_random_forest.cv_results_)\n",
    "fit_time_random_forest = result_random_forest[result_random_forest['rank_test_score'] == 1]['mean_fit_time'].values[0]\n",
    "score_time_random_forest = result_random_forest[result_random_forest['rank_test_score'] == 1]['mean_score_time'].values[0]\n",
    "print(\"Среднее время обучения модели на одной комбинации гиперпараметров, обеспечивших минимальное значение \"\\\n",
    "    \"метрики RMSE для модели случайного леса с использованием кросс-валидации, сек:\", fit_time_random_forest, '\\n')\n",
    "print(\"Среднее время рассчета минимального значения метрики RMSE для этих гиперпараметров \"\\\n",
    "    \"для модели случайного леса с использованием кросс-валидации, сек:\", score_time_random_forest, '\\n')\n",
    "print(\"Лучшие параметры для модели случайного леса с \"\\\n",
    "    \"использованием кросс-валидации:\", randomized_random_forest.best_params_, '\\n')\n",
    "print(\"Наименьшее значение метрики RMSE для модели случайного леса \"\\\n",
    "    \"при лучших гиперпараметрах с использованием кросс-валидации:\", best_randomized_forest)\n"
   ]
  },
  {
   "cell_type": "markdown",
   "metadata": {},
   "source": [
    "### LightGBM"
   ]
  },
  {
   "cell_type": "code",
   "execution_count": 186,
   "metadata": {},
   "outputs": [
    {
     "name": "stdout",
     "output_type": "stream",
     "text": [
      "Среднее время обучения модели на одной комбинации гиперпараметров, обеспечивших минимальное значение метрики RMSE для модели LightGBM с использованием кросс-валидации, сек: 6.919445514678955 \n",
      "\n",
      "Среднее время рассчета минимального значения метрики RMSE для этих гиперпараметров для модели LightGBM с использованием кросс-валидации, сек: 12.121872305870056 \n",
      "\n",
      "Лучшие параметры для модели LightGBM с использованием кросс-валидации: {'n_estimators': 994, 'max_depth': 21} \n",
      "\n",
      "Наименьшее значение метрики RMSE для модели LightGBM при лучших гиперпараметрах с использованием кросс-валидации: 2052.9818710111294\n"
     ]
    }
   ],
   "source": [
    "result_lgb_forest = pd.DataFrame(rand_lgb_forest.cv_results_)\n",
    "fit_time_lgb_forest = result_lgb_forest[result_lgb_forest['rank_test_score'] == 1]['mean_fit_time'].values[0]\n",
    "score_time_lgb_forest = result_lgb_forest[result_lgb_forest['rank_test_score'] == 1]['mean_score_time'].values[0]\n",
    "print(\"Среднее время обучения модели на одной комбинации гиперпараметров, обеспечивших минимальное значение \"\\\n",
    "    \"метрики RMSE для модели LightGBM с использованием кросс-валидации, сек:\", fit_time_lgb_forest, '\\n')\n",
    "print(\"Среднее время рассчета минимального значения метрики RMSE для этих гиперпараметров \"\\\n",
    "    \"для модели LightGBM с использованием кросс-валидации, сек:\", score_time_lgb_forest, '\\n')\n",
    "print(\"Лучшие параметры для модели LightGBM с \"\\\n",
    "    \"использованием кросс-валидации:\", rand_lgb_forest.best_params_, '\\n')\n",
    "print(\"Наименьшее значение метрики RMSE для модели LightGBM \"\\\n",
    "    \"при лучших гиперпараметрах с использованием кросс-валидации:\", best_rand_lgb_forest)"
   ]
  },
  {
   "cell_type": "markdown",
   "metadata": {},
   "source": [
    "### CatBoost\n"
   ]
  },
  {
   "cell_type": "code",
   "execution_count": 221,
   "metadata": {},
   "outputs": [
    {
     "name": "stdout",
     "output_type": "stream",
     "text": [
      "Среднее время обучения модели на одной комбинации гиперпараметров, обеспечивших минимальное значение метрики RMSE для модели CatBoost с использованием кросс-валидации, сек: 351.66154289245605 \n",
      "\n",
      "Среднее время рассчета минимального значения метрики RMSE для этих гиперпараметров для модели CatBoost с использованием кросс-валидации, сек: 0.6480938196182251 \n",
      "\n",
      "Лучшие параметры для модели CatBoost с использованием кросс-валидации: {'n_estimators': 400, 'max_depth': 12} \n",
      "\n",
      "Наименьшее значение метрики RMSE для модели CatBoost при лучших гиперпараметрах с использованием кросс-валидации: 2093.680305493312\n"
     ]
    }
   ],
   "source": [
    "result_cat = pd.DataFrame(randomized_cat_model.cv_results_)\n",
    "fit_time_result_cat = result_cat[result_cat['rank_test_score'] == 1]['mean_fit_time'].values[0]\n",
    "score_time_result_cat = result_cat[result_cat['rank_test_score'] == 1]['mean_score_time'].values[0]\n",
    "print(\"Среднее время обучения модели на одной комбинации гиперпараметров, обеспечивших минимальное значение \"\\\n",
    "    \"метрики RMSE для модели CatBoost с использованием кросс-валидации, сек:\", fit_time_result_cat, '\\n')\n",
    "print(\"Среднее время рассчета минимального значения метрики RMSE для этих гиперпараметров \"\\\n",
    "    \"для модели CatBoost с использованием кросс-валидации, сек:\", score_time_result_cat, '\\n')\n",
    "print(\"Лучшие параметры для модели CatBoost с \"\\\n",
    "    \"использованием кросс-валидации:\", randomized_cat_model.best_params_, '\\n')\n",
    "print(\"Наименьшее значение метрики RMSE для модели CatBoost \"\\\n",
    "    \"при лучших гиперпараметрах с использованием кросс-валидации:\", best_randomized_cat_model)"
   ]
  },
  {
   "cell_type": "markdown",
   "metadata": {},
   "source": [
    "### Итоговая таблица"
   ]
  },
  {
   "cell_type": "markdown",
   "metadata": {},
   "source": [
    "Соберем данные в сводную таблицу:"
   ]
  },
  {
   "cell_type": "code",
   "execution_count": 222,
   "metadata": {},
   "outputs": [
    {
     "data": {
      "text/html": [
       "<div>\n",
       "<style scoped>\n",
       "    .dataframe tbody tr th:only-of-type {\n",
       "        vertical-align: middle;\n",
       "    }\n",
       "\n",
       "    .dataframe tbody tr th {\n",
       "        vertical-align: top;\n",
       "    }\n",
       "\n",
       "    .dataframe thead th {\n",
       "        text-align: right;\n",
       "    }\n",
       "</style>\n",
       "<table border=\"1\" class=\"dataframe\">\n",
       "  <thead>\n",
       "    <tr style=\"text-align: right;\">\n",
       "      <th></th>\n",
       "      <th>Модель</th>\n",
       "      <th>Значение метрики RMSE</th>\n",
       "      <th>Лучшие гиперпараметры</th>\n",
       "      <th>Время обучения одной итерации, сек.</th>\n",
       "      <th>Время рассчета одной итерации, сек.</th>\n",
       "      <th>Общее затраченное время на перебор гиперпараметров, мин.</th>\n",
       "    </tr>\n",
       "  </thead>\n",
       "  <tbody>\n",
       "    <tr>\n",
       "      <th>0</th>\n",
       "      <td>Случайный лес</td>\n",
       "      <td>2174.761034</td>\n",
       "      <td>{'n_estimators': 476, 'max_depth': 97}</td>\n",
       "      <td>214.110807</td>\n",
       "      <td>18.009067</td>\n",
       "      <td>8 минут</td>\n",
       "    </tr>\n",
       "    <tr>\n",
       "      <th>1</th>\n",
       "      <td>LGBMModel</td>\n",
       "      <td>2052.981871</td>\n",
       "      <td>{'n_estimators': 994, 'max_depth': 21}</td>\n",
       "      <td>6.919446</td>\n",
       "      <td>12.121872</td>\n",
       "      <td>30 секунд</td>\n",
       "    </tr>\n",
       "    <tr>\n",
       "      <th>2</th>\n",
       "      <td>CatBoostRegressor</td>\n",
       "      <td>2093.680305</td>\n",
       "      <td>{'n_estimators': 400, 'max_depth': 12}</td>\n",
       "      <td>351.661543</td>\n",
       "      <td>0.648094</td>\n",
       "      <td>20 минут</td>\n",
       "    </tr>\n",
       "  </tbody>\n",
       "</table>\n",
       "</div>"
      ],
      "text/plain": [
       "              Модель  Значение метрики RMSE  \\\n",
       "0      Случайный лес            2174.761034   \n",
       "1          LGBMModel            2052.981871   \n",
       "2  CatBoostRegressor            2093.680305   \n",
       "\n",
       "                    Лучшие гиперпараметры  \\\n",
       "0  {'n_estimators': 476, 'max_depth': 97}   \n",
       "1  {'n_estimators': 994, 'max_depth': 21}   \n",
       "2  {'n_estimators': 400, 'max_depth': 12}   \n",
       "\n",
       "   Время обучения одной итерации, сек.  Время рассчета одной итерации, сек.  \\\n",
       "0                           214.110807                            18.009067   \n",
       "1                             6.919446                            12.121872   \n",
       "2                           351.661543                             0.648094   \n",
       "\n",
       "  Общее затраченное время на перебор гиперпараметров, мин.  \n",
       "0                                            8 минут        \n",
       "1                                          30 секунд        \n",
       "2                                           20 минут        "
      ]
     },
     "execution_count": 222,
     "metadata": {},
     "output_type": "execute_result"
    }
   ],
   "source": [
    "models = ['Случайный лес', 'LGBMModel', 'CatBoostRegressor']\n",
    "rmse = [best_randomized_forest, best_rand_lgb_forest, best_randomized_cat_model]\n",
    "best_param = [randomized_random_forest.best_params_, rand_lgb_forest.best_params_, randomized_cat_model.best_params_]\n",
    "time_iter = [fit_time_random_forest, fit_time_lgb_forest, fit_time_result_cat]\n",
    "time_score = [score_time_random_forest, score_time_lgb_forest, score_time_result_cat]\n",
    "total_time = ['8 минут', '30 секунд', '20 минут']\n",
    "\n",
    "result_table = pd.DataFrame({ #созаем датафрейм\n",
    "    'Модель': models, #\n",
    "    'Значение метрики RMSE': rmse,\n",
    "    'Лучшие гиперпараметры': best_param,\n",
    "    'Время обучения одной итерации, сек.': time_iter, #\n",
    "    'Время рассчета одной итерации, сек.': time_score, \n",
    "    'Общее затраченное время на перебор гиперпараметров, мин.': total_time\n",
    "}) #\n",
    "result_table"
   ]
  },
  {
   "cell_type": "markdown",
   "metadata": {},
   "source": [
    "### Итоговые результаты"
   ]
  },
  {
   "cell_type": "markdown",
   "metadata": {},
   "source": [
    "Лучшей по всем параметрам, включая искомую метрику `RMSE` является `LGBMModel`. К тому же обучается и считает метрику при подборе гиперпараметров практически на 2 порядка быстрее."
   ]
  },
  {
   "cell_type": "code",
   "execution_count": 223,
   "metadata": {},
   "outputs": [
    {
     "name": "stdout",
     "output_type": "stream",
     "text": [
      "Наименьшее значение метрики RMSE на тестовых данных 1987.158428637997\n",
      "CPU times: total: 34.3 s\n",
      "Wall time: 2.37 s\n"
     ]
    }
   ],
   "source": [
    "%%time\n",
    "lgb_forest_1 = lgb.LGBMModel(\n",
    "    objective=\"regression\", \n",
    "    n_estimators=rand_lgb_forest.best_params_['n_estimators'], \n",
    "    max_depth=rand_lgb_forest.best_params_['max_depth'], \n",
    "    learning_rate=0.3)\n",
    "lgb_forest_1.fit(features_train_lgb, target_train_lgb.values)\n",
    "\n",
    "predictions_lgb_forest_1 = lgb_forest_1.predict(features_test_lgb)\n",
    "\n",
    "lgb_forest_1_rmse = (abs(mean_squared_error(target_test_lgb, predictions_lgb_forest_1)))**0.5\n",
    "print(\"Наименьшее значение метрики RMSE на тестовых данных\", lgb_forest_1_rmse)"
   ]
  },
  {
   "cell_type": "markdown",
   "metadata": {},
   "source": [
    "При использовании лучшей модели модели `LGBMModel` было получено значение метрики `RMSE` удовлетворяющее условию задания."
   ]
  },
  {
   "cell_type": "markdown",
   "metadata": {},
   "source": [
    "## Вывод"
   ]
  },
  {
   "cell_type": "markdown",
   "metadata": {},
   "source": [
    "В работе была проведена оценка производительности разных моделей: линейных, лесов, использующих бустинг. \n",
    "\n",
    "Для данных, которые имеются в работе, лучший результат показала модель с бустингом `LGBMModel`. Она обучается быстрее других моделей и показывает самое низкое значение метрики `RMSE`. \n",
    "\n",
    "На тестовых данных модель также показала результат, который полностью удовлетворяет условию: значение метрики `RMSE` равно 1987."
   ]
  }
 ],
 "metadata": {
  "ExecuteTimeLog": [
   {
    "duration": 2626,
    "start_time": "2023-01-29T07:40:37.481Z"
   },
   {
    "duration": 2,
    "start_time": "2023-01-29T07:40:40.109Z"
   },
   {
    "duration": 1736,
    "start_time": "2023-01-29T07:40:40.167Z"
   },
   {
    "duration": 281,
    "start_time": "2023-01-29T07:40:41.905Z"
   },
   {
    "duration": 184,
    "start_time": "2023-01-29T07:40:42.188Z"
   },
   {
    "duration": 318,
    "start_time": "2023-01-29T07:40:42.374Z"
   },
   {
    "duration": 2090,
    "start_time": "2023-01-29T07:40:42.694Z"
   },
   {
    "duration": 15,
    "start_time": "2023-01-29T07:40:44.786Z"
   },
   {
    "duration": 670,
    "start_time": "2023-01-29T07:40:44.803Z"
   },
   {
    "duration": 529,
    "start_time": "2023-01-29T07:40:45.476Z"
   },
   {
    "duration": 604,
    "start_time": "2023-01-29T07:40:46.006Z"
   },
   {
    "duration": 62,
    "start_time": "2023-01-29T07:40:46.612Z"
   },
   {
    "duration": 635,
    "start_time": "2023-01-29T07:40:46.676Z"
   },
   {
    "duration": 496,
    "start_time": "2023-01-29T07:40:47.312Z"
   },
   {
    "duration": 374,
    "start_time": "2023-01-29T07:40:47.810Z"
   },
   {
    "duration": 491,
    "start_time": "2023-01-29T07:40:48.187Z"
   },
   {
    "duration": 20,
    "start_time": "2023-01-29T07:40:48.680Z"
   },
   {
    "duration": 513,
    "start_time": "2023-01-29T07:40:48.701Z"
   },
   {
    "duration": 336,
    "start_time": "2023-01-29T07:40:49.268Z"
   },
   {
    "duration": 587,
    "start_time": "2023-01-29T07:40:49.605Z"
   },
   {
    "duration": 714,
    "start_time": "2023-01-29T07:40:50.194Z"
   },
   {
    "duration": 599,
    "start_time": "2023-01-29T07:40:50.909Z"
   },
   {
    "duration": 95,
    "start_time": "2023-01-29T07:40:51.509Z"
   },
   {
    "duration": 69,
    "start_time": "2023-01-29T07:40:51.605Z"
   },
   {
    "duration": 91,
    "start_time": "2023-01-29T07:40:51.676Z"
   },
   {
    "duration": 442,
    "start_time": "2023-01-29T07:40:51.769Z"
   },
   {
    "duration": 92,
    "start_time": "2023-01-29T07:40:52.213Z"
   },
   {
    "duration": 18,
    "start_time": "2023-01-29T07:40:52.369Z"
   },
   {
    "duration": 414,
    "start_time": "2023-01-29T07:40:52.389Z"
   },
   {
    "duration": 175,
    "start_time": "2023-01-29T07:40:52.806Z"
   },
   {
    "duration": 84,
    "start_time": "2023-01-29T07:40:52.983Z"
   },
   {
    "duration": 31,
    "start_time": "2023-01-29T07:40:53.070Z"
   },
   {
    "duration": 98,
    "start_time": "2023-01-29T07:40:53.102Z"
   },
   {
    "duration": 74,
    "start_time": "2023-01-29T07:40:53.202Z"
   },
   {
    "duration": 21,
    "start_time": "2023-01-29T07:40:53.277Z"
   },
   {
    "duration": 94,
    "start_time": "2023-01-29T07:40:53.299Z"
   },
   {
    "duration": 111,
    "start_time": "2023-01-29T07:40:53.395Z"
   },
   {
    "duration": 83,
    "start_time": "2023-01-29T07:40:53.508Z"
   },
   {
    "duration": 87,
    "start_time": "2023-01-29T07:40:53.592Z"
   },
   {
    "duration": 11,
    "start_time": "2023-01-29T07:40:53.681Z"
   },
   {
    "duration": 85,
    "start_time": "2023-01-29T07:40:53.694Z"
   },
   {
    "duration": 15,
    "start_time": "2023-01-29T07:40:53.781Z"
   },
   {
    "duration": 616,
    "start_time": "2023-01-29T07:40:53.799Z"
   },
   {
    "duration": 311,
    "start_time": "2023-01-29T07:40:54.466Z"
   },
   {
    "duration": 16,
    "start_time": "2023-01-29T07:40:54.779Z"
   },
   {
    "duration": 96,
    "start_time": "2023-01-29T07:40:54.797Z"
   },
   {
    "duration": 181,
    "start_time": "2023-01-29T07:40:54.895Z"
   },
   {
    "duration": 624,
    "start_time": "2023-01-29T07:40:55.078Z"
   },
   {
    "duration": 699,
    "start_time": "2023-01-29T07:40:55.704Z"
   },
   {
    "duration": 764,
    "start_time": "2023-01-29T07:40:56.405Z"
   },
   {
    "duration": 9,
    "start_time": "2023-01-29T07:40:57.171Z"
   },
   {
    "duration": 493,
    "start_time": "2023-01-29T07:40:57.182Z"
   },
   {
    "duration": 18,
    "start_time": "2023-01-29T07:40:57.677Z"
   },
   {
    "duration": 180,
    "start_time": "2023-01-29T07:40:57.697Z"
   },
   {
    "duration": 121,
    "start_time": "2023-01-29T07:40:57.879Z"
   },
   {
    "duration": 3,
    "start_time": "2023-01-29T07:40:58.001Z"
   },
   {
    "duration": 488,
    "start_time": "2023-01-29T07:40:58.006Z"
   },
   {
    "duration": 482,
    "start_time": "2023-01-29T07:40:58.496Z"
   },
   {
    "duration": 125,
    "start_time": "2023-01-29T07:40:58.980Z"
   },
   {
    "duration": 507,
    "start_time": "2023-01-29T07:40:59.107Z"
   },
   {
    "duration": 919,
    "start_time": "2023-01-29T07:40:59.667Z"
   },
   {
    "duration": 18,
    "start_time": "2023-01-29T07:41:00.588Z"
   },
   {
    "duration": 27,
    "start_time": "2023-01-29T07:41:00.667Z"
   },
   {
    "duration": 15,
    "start_time": "2023-01-29T07:41:00.696Z"
   },
   {
    "duration": 202,
    "start_time": "2023-01-29T07:41:00.714Z"
   },
   {
    "duration": 141,
    "start_time": "2023-01-29T07:41:00.967Z"
   },
   {
    "duration": 8368,
    "start_time": "2023-01-29T07:41:01.109Z"
   },
   {
    "duration": 4,
    "start_time": "2023-01-29T07:41:09.479Z"
   },
   {
    "duration": 411,
    "start_time": "2023-01-29T07:41:09.485Z"
   },
   {
    "duration": 20,
    "start_time": "2023-01-29T07:41:09.899Z"
   },
   {
    "duration": 27,
    "start_time": "2023-01-29T07:41:09.921Z"
   },
   {
    "duration": 96,
    "start_time": "2023-01-29T07:41:09.950Z"
   },
   {
    "duration": 440,
    "start_time": "2023-01-29T07:41:10.048Z"
   },
   {
    "duration": 13,
    "start_time": "2023-01-29T07:41:10.490Z"
   },
   {
    "duration": 297969,
    "start_time": "2023-01-29T07:41:10.504Z"
   },
   {
    "duration": 46,
    "start_time": "2023-01-29T07:54:42.566Z"
   },
   {
    "duration": 1416,
    "start_time": "2023-01-29T07:54:47.341Z"
   },
   {
    "duration": 3,
    "start_time": "2023-01-29T07:54:48.759Z"
   },
   {
    "duration": 2833,
    "start_time": "2023-01-29T07:54:48.766Z"
   },
   {
    "duration": 119,
    "start_time": "2023-01-29T07:54:51.601Z"
   },
   {
    "duration": 62,
    "start_time": "2023-01-29T07:54:51.721Z"
   },
   {
    "duration": 119,
    "start_time": "2023-01-29T07:54:51.785Z"
   },
   {
    "duration": 957,
    "start_time": "2023-01-29T07:54:51.905Z"
   },
   {
    "duration": 13,
    "start_time": "2023-01-29T07:54:52.867Z"
   },
   {
    "duration": 290,
    "start_time": "2023-01-29T07:54:52.881Z"
   },
   {
    "duration": 263,
    "start_time": "2023-01-29T07:54:53.173Z"
   },
   {
    "duration": 291,
    "start_time": "2023-01-29T07:54:53.437Z"
   },
   {
    "duration": 14,
    "start_time": "2023-01-29T07:54:53.730Z"
   },
   {
    "duration": 323,
    "start_time": "2023-01-29T07:54:53.746Z"
   },
   {
    "duration": 232,
    "start_time": "2023-01-29T07:54:54.071Z"
   },
   {
    "duration": 169,
    "start_time": "2023-01-29T07:54:54.305Z"
   },
   {
    "duration": 244,
    "start_time": "2023-01-29T07:54:54.475Z"
   },
   {
    "duration": 24,
    "start_time": "2023-01-29T07:54:54.721Z"
   },
   {
    "duration": 309,
    "start_time": "2023-01-29T07:54:54.747Z"
   },
   {
    "duration": 176,
    "start_time": "2023-01-29T07:54:55.058Z"
   },
   {
    "duration": 249,
    "start_time": "2023-01-29T07:54:55.236Z"
   },
   {
    "duration": 364,
    "start_time": "2023-01-29T07:54:55.486Z"
   },
   {
    "duration": 259,
    "start_time": "2023-01-29T07:54:55.852Z"
   },
   {
    "duration": 39,
    "start_time": "2023-01-29T07:54:56.113Z"
   },
   {
    "duration": 16,
    "start_time": "2023-01-29T07:54:56.166Z"
   },
   {
    "duration": 22,
    "start_time": "2023-01-29T07:54:56.184Z"
   },
   {
    "duration": 227,
    "start_time": "2023-01-29T07:54:56.208Z"
   },
   {
    "duration": 44,
    "start_time": "2023-01-29T07:54:56.437Z"
   },
   {
    "duration": 15,
    "start_time": "2023-01-29T07:54:56.485Z"
   },
   {
    "duration": 200,
    "start_time": "2023-01-29T07:54:56.501Z"
   },
   {
    "duration": 40,
    "start_time": "2023-01-29T07:54:56.703Z"
   },
   {
    "duration": 28,
    "start_time": "2023-01-29T07:54:56.745Z"
   },
   {
    "duration": 27,
    "start_time": "2023-01-29T07:54:56.775Z"
   },
   {
    "duration": 68,
    "start_time": "2023-01-29T07:54:56.804Z"
   },
   {
    "duration": 15,
    "start_time": "2023-01-29T07:54:56.874Z"
   },
   {
    "duration": 19,
    "start_time": "2023-01-29T07:54:56.891Z"
   },
   {
    "duration": 56,
    "start_time": "2023-01-29T07:54:56.912Z"
   },
   {
    "duration": 42,
    "start_time": "2023-01-29T07:54:56.970Z"
   },
   {
    "duration": 21,
    "start_time": "2023-01-29T07:54:57.014Z"
   },
   {
    "duration": 47,
    "start_time": "2023-01-29T07:54:57.037Z"
   },
   {
    "duration": 9,
    "start_time": "2023-01-29T07:54:57.086Z"
   },
   {
    "duration": 21,
    "start_time": "2023-01-29T07:54:57.096Z"
   },
   {
    "duration": 12,
    "start_time": "2023-01-29T07:54:57.118Z"
   },
   {
    "duration": 279,
    "start_time": "2023-01-29T07:54:57.132Z"
   },
   {
    "duration": 158,
    "start_time": "2023-01-29T07:54:57.413Z"
   },
   {
    "duration": 12,
    "start_time": "2023-01-29T07:54:57.572Z"
   },
   {
    "duration": 18,
    "start_time": "2023-01-29T07:54:57.586Z"
   },
   {
    "duration": 92,
    "start_time": "2023-01-29T07:54:57.605Z"
   },
   {
    "duration": 272,
    "start_time": "2023-01-29T07:54:57.699Z"
   },
   {
    "duration": 345,
    "start_time": "2023-01-29T07:54:57.973Z"
   },
   {
    "duration": 331,
    "start_time": "2023-01-29T07:54:58.320Z"
   },
   {
    "duration": 18,
    "start_time": "2023-01-29T07:54:58.653Z"
   },
   {
    "duration": 237,
    "start_time": "2023-01-29T07:54:58.673Z"
   },
   {
    "duration": 13,
    "start_time": "2023-01-29T07:54:58.912Z"
   },
   {
    "duration": 90,
    "start_time": "2023-01-29T07:54:58.926Z"
   },
   {
    "duration": 69,
    "start_time": "2023-01-29T07:54:59.017Z"
   },
   {
    "duration": 2,
    "start_time": "2023-01-29T07:54:59.087Z"
   },
   {
    "duration": 221,
    "start_time": "2023-01-29T07:54:59.091Z"
   },
   {
    "duration": 229,
    "start_time": "2023-01-29T07:54:59.314Z"
   },
   {
    "duration": 69,
    "start_time": "2023-01-29T07:54:59.545Z"
   },
   {
    "duration": 254,
    "start_time": "2023-01-29T07:54:59.615Z"
   },
   {
    "duration": 396,
    "start_time": "2023-01-29T07:54:59.871Z"
   },
   {
    "duration": 14,
    "start_time": "2023-01-29T07:55:00.269Z"
   },
   {
    "duration": 48,
    "start_time": "2023-01-29T07:55:00.285Z"
   },
   {
    "duration": 16,
    "start_time": "2023-01-29T07:55:00.335Z"
   },
   {
    "duration": 100,
    "start_time": "2023-01-29T07:55:00.353Z"
   },
   {
    "duration": 56,
    "start_time": "2023-01-29T07:55:00.455Z"
   },
   {
    "duration": 5002,
    "start_time": "2023-01-29T07:55:00.512Z"
   },
   {
    "duration": 4,
    "start_time": "2023-01-29T07:55:05.516Z"
   },
   {
    "duration": 417,
    "start_time": "2023-01-29T07:55:05.522Z"
   },
   {
    "duration": 25,
    "start_time": "2023-01-29T07:55:05.942Z"
   },
   {
    "duration": 25,
    "start_time": "2023-01-29T07:55:05.969Z"
   },
   {
    "duration": 24,
    "start_time": "2023-01-29T07:55:05.996Z"
   },
   {
    "duration": 100,
    "start_time": "2023-01-29T07:55:06.022Z"
   },
   {
    "duration": 464,
    "start_time": "2023-01-29T07:55:06.124Z"
   },
   {
    "duration": 14,
    "start_time": "2023-01-29T07:55:06.590Z"
   },
   {
    "duration": 280864,
    "start_time": "2023-01-29T07:55:06.605Z"
   },
   {
    "duration": 1523,
    "start_time": "2023-01-29T08:35:16.682Z"
   },
   {
    "duration": 3,
    "start_time": "2023-01-29T08:35:18.207Z"
   },
   {
    "duration": 3150,
    "start_time": "2023-01-29T08:35:18.211Z"
   },
   {
    "duration": 127,
    "start_time": "2023-01-29T08:35:21.363Z"
   },
   {
    "duration": 67,
    "start_time": "2023-01-29T08:35:21.492Z"
   },
   {
    "duration": 142,
    "start_time": "2023-01-29T08:35:21.561Z"
   },
   {
    "duration": 1185,
    "start_time": "2023-01-29T08:35:21.705Z"
   },
   {
    "duration": 15,
    "start_time": "2023-01-29T08:35:22.891Z"
   },
   {
    "duration": 255,
    "start_time": "2023-01-29T08:35:22.907Z"
   },
   {
    "duration": 316,
    "start_time": "2023-01-29T08:35:23.165Z"
   },
   {
    "duration": 355,
    "start_time": "2023-01-29T08:35:23.483Z"
   },
   {
    "duration": 16,
    "start_time": "2023-01-29T08:35:23.840Z"
   },
   {
    "duration": 345,
    "start_time": "2023-01-29T08:35:23.858Z"
   },
   {
    "duration": 224,
    "start_time": "2023-01-29T08:35:24.205Z"
   },
   {
    "duration": 171,
    "start_time": "2023-01-29T08:35:24.430Z"
   },
   {
    "duration": 287,
    "start_time": "2023-01-29T08:35:24.602Z"
   },
   {
    "duration": 22,
    "start_time": "2023-01-29T08:35:24.891Z"
   },
   {
    "duration": 181,
    "start_time": "2023-01-29T08:35:40.774Z"
   },
   {
    "duration": 155,
    "start_time": "2023-01-29T08:35:55.333Z"
   },
   {
    "duration": 127,
    "start_time": "2023-01-29T08:36:10.645Z"
   },
   {
    "duration": 34,
    "start_time": "2023-01-29T08:36:42.025Z"
   },
   {
    "duration": 19,
    "start_time": "2023-01-29T08:37:27.579Z"
   },
   {
    "duration": 126,
    "start_time": "2023-01-29T08:37:50.241Z"
   },
   {
    "duration": 13,
    "start_time": "2023-01-29T08:37:53.605Z"
   },
   {
    "duration": 12,
    "start_time": "2023-01-29T09:19:25.035Z"
   },
   {
    "duration": 17,
    "start_time": "2023-01-29T09:19:30.965Z"
   },
   {
    "duration": 17,
    "start_time": "2023-01-29T09:19:36.868Z"
   },
   {
    "duration": 12,
    "start_time": "2023-01-29T09:19:41.825Z"
   },
   {
    "duration": 63,
    "start_time": "2023-01-29T09:21:07.764Z"
   },
   {
    "duration": 29,
    "start_time": "2023-01-29T09:21:26.536Z"
   },
   {
    "duration": 123,
    "start_time": "2023-01-29T09:22:25.472Z"
   },
   {
    "duration": 277,
    "start_time": "2023-01-29T09:23:16.230Z"
   },
   {
    "duration": 193,
    "start_time": "2023-01-29T09:23:29.773Z"
   },
   {
    "duration": 267,
    "start_time": "2023-01-29T09:23:32.673Z"
   },
   {
    "duration": 293,
    "start_time": "2023-01-29T09:23:35.591Z"
   },
   {
    "duration": 291,
    "start_time": "2023-01-29T09:23:37.881Z"
   },
   {
    "duration": 39,
    "start_time": "2023-01-29T09:23:40.001Z"
   },
   {
    "duration": 15,
    "start_time": "2023-01-29T09:23:40.700Z"
   },
   {
    "duration": 25,
    "start_time": "2023-01-29T09:23:40.964Z"
   },
   {
    "duration": 272,
    "start_time": "2023-01-29T09:23:41.116Z"
   },
   {
    "duration": 37,
    "start_time": "2023-01-29T09:23:41.902Z"
   },
   {
    "duration": 16,
    "start_time": "2023-01-29T09:23:42.473Z"
   },
   {
    "duration": 233,
    "start_time": "2023-01-29T09:23:43.039Z"
   },
   {
    "duration": 39,
    "start_time": "2023-01-29T09:23:44.077Z"
   },
   {
    "duration": 16,
    "start_time": "2023-01-29T09:23:45.794Z"
   },
   {
    "duration": 35,
    "start_time": "2023-01-29T09:23:46.044Z"
   },
   {
    "duration": 38,
    "start_time": "2023-01-29T09:23:46.774Z"
   },
   {
    "duration": 15,
    "start_time": "2023-01-29T09:23:46.975Z"
   },
   {
    "duration": 20,
    "start_time": "2023-01-29T09:23:47.673Z"
   },
   {
    "duration": 48,
    "start_time": "2023-01-29T09:23:49.366Z"
   },
   {
    "duration": 39,
    "start_time": "2023-01-29T09:23:52.075Z"
   },
   {
    "duration": 19,
    "start_time": "2023-01-29T09:23:52.767Z"
   },
   {
    "duration": 19,
    "start_time": "2023-01-29T09:23:54.593Z"
   },
   {
    "duration": 9,
    "start_time": "2023-01-29T09:23:55.289Z"
   },
   {
    "duration": 28,
    "start_time": "2023-01-29T09:23:58.234Z"
   },
   {
    "duration": 13,
    "start_time": "2023-01-29T09:23:58.985Z"
   },
   {
    "duration": 313,
    "start_time": "2023-01-29T09:24:03.394Z"
   },
   {
    "duration": 274,
    "start_time": "2023-01-29T09:24:04.579Z"
   },
   {
    "duration": 13,
    "start_time": "2023-01-29T09:24:05.172Z"
   },
   {
    "duration": 22,
    "start_time": "2023-01-29T09:24:58.778Z"
   },
   {
    "duration": 84,
    "start_time": "2023-01-29T09:25:00.625Z"
   },
   {
    "duration": 295,
    "start_time": "2023-01-29T09:25:35.591Z"
   },
   {
    "duration": 260,
    "start_time": "2023-01-29T09:25:36.948Z"
   },
   {
    "duration": 373,
    "start_time": "2023-01-29T09:25:38.171Z"
   },
   {
    "duration": 11,
    "start_time": "2023-01-29T09:25:38.548Z"
   },
   {
    "duration": 268,
    "start_time": "2023-01-29T09:25:56.542Z"
   },
   {
    "duration": 13,
    "start_time": "2023-01-29T09:25:57.316Z"
   },
   {
    "duration": 89,
    "start_time": "2023-01-29T09:26:01.242Z"
   },
   {
    "duration": 66,
    "start_time": "2023-01-29T09:26:02.996Z"
   },
   {
    "duration": 2,
    "start_time": "2023-01-29T09:26:07.402Z"
   },
   {
    "duration": 237,
    "start_time": "2023-01-29T09:26:07.873Z"
   },
   {
    "duration": 362,
    "start_time": "2023-01-29T09:26:09.733Z"
   },
   {
    "duration": 68,
    "start_time": "2023-01-29T09:26:11.474Z"
   },
   {
    "duration": 364,
    "start_time": "2023-01-29T09:26:13.102Z"
   },
   {
    "duration": 281,
    "start_time": "2023-01-29T09:26:18.331Z"
   },
   {
    "duration": 4,
    "start_time": "2023-01-29T09:26:30.432Z"
   },
   {
    "duration": 231,
    "start_time": "2023-01-29T09:27:57.171Z"
   },
   {
    "duration": 177,
    "start_time": "2023-01-29T09:27:57.829Z"
   },
   {
    "duration": 296,
    "start_time": "2023-01-29T09:27:58.008Z"
   },
   {
    "duration": 296,
    "start_time": "2023-01-29T09:27:58.306Z"
   },
   {
    "duration": 427,
    "start_time": "2023-01-29T09:27:58.604Z"
   },
   {
    "duration": 61,
    "start_time": "2023-01-29T09:27:59.033Z"
   },
   {
    "duration": 20,
    "start_time": "2023-01-29T09:27:59.097Z"
   },
   {
    "duration": 45,
    "start_time": "2023-01-29T09:27:59.119Z"
   },
   {
    "duration": 273,
    "start_time": "2023-01-29T09:27:59.166Z"
   },
   {
    "duration": 57,
    "start_time": "2023-01-29T09:27:59.441Z"
   },
   {
    "duration": 20,
    "start_time": "2023-01-29T09:27:59.500Z"
   },
   {
    "duration": 225,
    "start_time": "2023-01-29T09:27:59.521Z"
   },
   {
    "duration": 50,
    "start_time": "2023-01-29T09:27:59.748Z"
   },
   {
    "duration": 14,
    "start_time": "2023-01-29T09:27:59.800Z"
   },
   {
    "duration": 44,
    "start_time": "2023-01-29T09:27:59.816Z"
   },
   {
    "duration": 41,
    "start_time": "2023-01-29T09:27:59.868Z"
   },
   {
    "duration": 15,
    "start_time": "2023-01-29T09:27:59.910Z"
   },
   {
    "duration": 22,
    "start_time": "2023-01-29T09:27:59.926Z"
   },
   {
    "duration": 59,
    "start_time": "2023-01-29T09:27:59.950Z"
   },
   {
    "duration": 61,
    "start_time": "2023-01-29T09:28:00.011Z"
   },
   {
    "duration": 19,
    "start_time": "2023-01-29T09:28:00.074Z"
   },
   {
    "duration": 31,
    "start_time": "2023-01-29T09:28:00.094Z"
   },
   {
    "duration": 20,
    "start_time": "2023-01-29T09:28:00.127Z"
   },
   {
    "duration": 23,
    "start_time": "2023-01-29T09:28:00.242Z"
   },
   {
    "duration": 19,
    "start_time": "2023-01-29T09:28:00.470Z"
   },
   {
    "duration": 6,
    "start_time": "2023-01-29T09:28:25.944Z"
   },
   {
    "duration": 31,
    "start_time": "2023-01-29T09:28:25.954Z"
   },
   {
    "duration": 888,
    "start_time": "2023-01-29T09:28:25.987Z"
   },
   {
    "duration": 142,
    "start_time": "2023-01-29T09:28:26.877Z"
   },
   {
    "duration": 46,
    "start_time": "2023-01-29T09:28:27.020Z"
   },
   {
    "duration": 159,
    "start_time": "2023-01-29T09:28:27.068Z"
   },
   {
    "duration": 1050,
    "start_time": "2023-01-29T09:28:27.229Z"
   },
   {
    "duration": 13,
    "start_time": "2023-01-29T09:28:28.281Z"
   },
   {
    "duration": 248,
    "start_time": "2023-01-29T09:28:28.296Z"
   },
   {
    "duration": 326,
    "start_time": "2023-01-29T09:28:28.546Z"
   },
   {
    "duration": 354,
    "start_time": "2023-01-29T09:28:28.874Z"
   },
   {
    "duration": 13,
    "start_time": "2023-01-29T09:28:29.230Z"
   },
   {
    "duration": 292,
    "start_time": "2023-01-29T09:28:29.250Z"
   },
   {
    "duration": 252,
    "start_time": "2023-01-29T09:28:29.543Z"
   },
   {
    "duration": 197,
    "start_time": "2023-01-29T09:28:29.797Z"
   },
   {
    "duration": 425,
    "start_time": "2023-01-29T09:28:29.995Z"
   },
   {
    "duration": 33,
    "start_time": "2023-01-29T09:28:30.422Z"
   },
   {
    "duration": 290,
    "start_time": "2023-01-29T09:28:30.456Z"
   },
   {
    "duration": 212,
    "start_time": "2023-01-29T09:28:30.747Z"
   },
   {
    "duration": 338,
    "start_time": "2023-01-29T09:28:30.961Z"
   },
   {
    "duration": 325,
    "start_time": "2023-01-29T09:28:31.301Z"
   },
   {
    "duration": 307,
    "start_time": "2023-01-29T09:28:31.628Z"
   },
   {
    "duration": 61,
    "start_time": "2023-01-29T09:28:31.936Z"
   },
   {
    "duration": 18,
    "start_time": "2023-01-29T09:28:31.999Z"
   },
   {
    "duration": 41,
    "start_time": "2023-01-29T09:28:32.019Z"
   },
   {
    "duration": 256,
    "start_time": "2023-01-29T09:28:32.078Z"
   },
   {
    "duration": 58,
    "start_time": "2023-01-29T09:28:32.335Z"
   },
   {
    "duration": 17,
    "start_time": "2023-01-29T09:28:32.397Z"
   },
   {
    "duration": 277,
    "start_time": "2023-01-29T09:28:32.416Z"
   },
   {
    "duration": 40,
    "start_time": "2023-01-29T09:28:32.694Z"
   },
   {
    "duration": 46,
    "start_time": "2023-01-29T09:28:32.736Z"
   },
   {
    "duration": 24,
    "start_time": "2023-01-29T09:28:32.783Z"
   },
   {
    "duration": 66,
    "start_time": "2023-01-29T09:28:32.809Z"
   },
   {
    "duration": 22,
    "start_time": "2023-01-29T09:28:32.877Z"
   },
   {
    "duration": 24,
    "start_time": "2023-01-29T09:28:32.900Z"
   },
   {
    "duration": 58,
    "start_time": "2023-01-29T09:28:32.926Z"
   },
   {
    "duration": 56,
    "start_time": "2023-01-29T09:28:32.986Z"
   },
   {
    "duration": 30,
    "start_time": "2023-01-29T09:28:33.044Z"
   },
   {
    "duration": 31,
    "start_time": "2023-01-29T09:28:33.076Z"
   },
   {
    "duration": 10,
    "start_time": "2023-01-29T09:28:33.108Z"
   },
   {
    "duration": 57,
    "start_time": "2023-01-29T09:28:33.119Z"
   },
   {
    "duration": 12,
    "start_time": "2023-01-29T09:28:33.178Z"
   },
   {
    "duration": 330,
    "start_time": "2023-01-29T09:28:33.192Z"
   },
   {
    "duration": 190,
    "start_time": "2023-01-29T09:28:33.524Z"
   },
   {
    "duration": 13,
    "start_time": "2023-01-29T09:28:33.716Z"
   },
   {
    "duration": 41,
    "start_time": "2023-01-29T09:28:33.730Z"
   },
   {
    "duration": 95,
    "start_time": "2023-01-29T09:28:33.773Z"
   },
   {
    "duration": 332,
    "start_time": "2023-01-29T09:28:33.873Z"
   },
   {
    "duration": 439,
    "start_time": "2023-01-29T09:28:34.206Z"
   },
   {
    "duration": 387,
    "start_time": "2023-01-29T09:28:34.647Z"
   },
   {
    "duration": 28,
    "start_time": "2023-01-29T09:28:35.036Z"
   },
   {
    "duration": 270,
    "start_time": "2023-01-29T09:28:35.071Z"
   },
   {
    "duration": 28,
    "start_time": "2023-01-29T09:28:35.343Z"
   },
   {
    "duration": 108,
    "start_time": "2023-01-29T09:28:35.377Z"
   },
   {
    "duration": 81,
    "start_time": "2023-01-29T09:28:35.488Z"
   },
   {
    "duration": 14,
    "start_time": "2023-01-29T09:28:35.578Z"
   },
   {
    "duration": 301,
    "start_time": "2023-01-29T09:28:35.593Z"
   },
   {
    "duration": 294,
    "start_time": "2023-01-29T09:28:35.896Z"
   },
   {
    "duration": 87,
    "start_time": "2023-01-29T09:28:36.191Z"
   },
   {
    "duration": 369,
    "start_time": "2023-01-29T09:28:36.281Z"
   },
   {
    "duration": 372,
    "start_time": "2023-01-29T09:28:36.653Z"
   },
   {
    "duration": 4,
    "start_time": "2023-01-29T09:28:55.476Z"
   },
   {
    "duration": 13,
    "start_time": "2023-01-29T09:32:21.628Z"
   },
   {
    "duration": 5,
    "start_time": "2023-01-29T09:32:26.229Z"
   },
   {
    "duration": 11,
    "start_time": "2023-01-29T09:32:26.236Z"
   },
   {
    "duration": 836,
    "start_time": "2023-01-29T09:32:26.251Z"
   },
   {
    "duration": 135,
    "start_time": "2023-01-29T09:32:27.089Z"
   },
   {
    "duration": 44,
    "start_time": "2023-01-29T09:32:27.227Z"
   },
   {
    "duration": 145,
    "start_time": "2023-01-29T09:32:27.272Z"
   },
   {
    "duration": 1216,
    "start_time": "2023-01-29T09:32:27.419Z"
   },
   {
    "duration": 24,
    "start_time": "2023-01-29T09:32:28.637Z"
   },
   {
    "duration": 240,
    "start_time": "2023-01-29T09:32:28.663Z"
   },
   {
    "duration": 284,
    "start_time": "2023-01-29T09:32:28.905Z"
   },
   {
    "duration": 333,
    "start_time": "2023-01-29T09:32:29.191Z"
   },
   {
    "duration": 12,
    "start_time": "2023-01-29T09:32:29.526Z"
   },
   {
    "duration": 268,
    "start_time": "2023-01-29T09:32:29.540Z"
   },
   {
    "duration": 260,
    "start_time": "2023-01-29T09:32:29.810Z"
   },
   {
    "duration": 180,
    "start_time": "2023-01-29T09:32:30.072Z"
   },
   {
    "duration": 274,
    "start_time": "2023-01-29T09:32:30.255Z"
   },
   {
    "duration": 278,
    "start_time": "2023-01-29T09:32:32.083Z"
   },
   {
    "duration": 18,
    "start_time": "2023-01-29T09:32:33.325Z"
   },
   {
    "duration": 257,
    "start_time": "2023-01-29T09:43:44.136Z"
   },
   {
    "duration": 3,
    "start_time": "2023-01-29T09:47:20.525Z"
   },
   {
    "duration": 6,
    "start_time": "2023-01-29T09:49:11.528Z"
   },
   {
    "duration": 17,
    "start_time": "2023-01-29T09:49:46.024Z"
   },
   {
    "duration": 6,
    "start_time": "2023-01-29T09:50:00.685Z"
   },
   {
    "duration": 23,
    "start_time": "2023-01-29T09:50:00.694Z"
   },
   {
    "duration": 1075,
    "start_time": "2023-01-29T09:50:00.722Z"
   },
   {
    "duration": 184,
    "start_time": "2023-01-29T09:50:01.800Z"
   },
   {
    "duration": 41,
    "start_time": "2023-01-29T09:50:01.988Z"
   },
   {
    "duration": 57,
    "start_time": "2023-01-29T09:50:02.031Z"
   },
   {
    "duration": 258,
    "start_time": "2023-01-29T09:50:02.090Z"
   },
   {
    "duration": 1254,
    "start_time": "2023-01-29T09:50:02.350Z"
   },
   {
    "duration": 23,
    "start_time": "2023-01-29T09:50:03.605Z"
   },
   {
    "duration": 403,
    "start_time": "2023-01-29T09:50:03.630Z"
   },
   {
    "duration": 444,
    "start_time": "2023-01-29T09:50:04.035Z"
   },
   {
    "duration": 378,
    "start_time": "2023-01-29T09:50:04.486Z"
   },
   {
    "duration": 15,
    "start_time": "2023-01-29T09:50:04.868Z"
   },
   {
    "duration": 558,
    "start_time": "2023-01-29T09:50:04.888Z"
   },
   {
    "duration": 379,
    "start_time": "2023-01-29T09:50:05.448Z"
   },
   {
    "duration": 265,
    "start_time": "2023-01-29T09:50:05.829Z"
   },
   {
    "duration": 402,
    "start_time": "2023-01-29T09:50:06.096Z"
   },
   {
    "duration": 25,
    "start_time": "2023-01-29T09:50:06.500Z"
   },
   {
    "duration": 394,
    "start_time": "2023-01-29T09:50:06.527Z"
   },
   {
    "duration": 278,
    "start_time": "2023-01-29T09:50:06.923Z"
   },
   {
    "duration": 438,
    "start_time": "2023-01-29T09:50:07.204Z"
   },
   {
    "duration": 418,
    "start_time": "2023-01-29T09:50:07.644Z"
   },
   {
    "duration": 435,
    "start_time": "2023-01-29T09:50:08.065Z"
   },
   {
    "duration": 77,
    "start_time": "2023-01-29T09:50:08.502Z"
   },
   {
    "duration": 29,
    "start_time": "2023-01-29T09:50:08.581Z"
   },
   {
    "duration": 48,
    "start_time": "2023-01-29T09:50:08.613Z"
   },
   {
    "duration": 405,
    "start_time": "2023-01-29T09:50:08.664Z"
   },
   {
    "duration": 82,
    "start_time": "2023-01-29T09:50:09.072Z"
   },
   {
    "duration": 32,
    "start_time": "2023-01-29T09:50:09.156Z"
   },
   {
    "duration": 366,
    "start_time": "2023-01-29T09:50:09.189Z"
   },
   {
    "duration": 79,
    "start_time": "2023-01-29T09:50:09.557Z"
   },
   {
    "duration": 36,
    "start_time": "2023-01-29T09:50:09.639Z"
   },
   {
    "duration": 41,
    "start_time": "2023-01-29T09:50:09.677Z"
   },
   {
    "duration": 94,
    "start_time": "2023-01-29T09:50:09.721Z"
   },
   {
    "duration": 33,
    "start_time": "2023-01-29T09:50:09.817Z"
   },
   {
    "duration": 38,
    "start_time": "2023-01-29T09:50:09.852Z"
   },
   {
    "duration": 85,
    "start_time": "2023-01-29T09:50:09.893Z"
   },
   {
    "duration": 79,
    "start_time": "2023-01-29T09:50:09.981Z"
   },
   {
    "duration": 31,
    "start_time": "2023-01-29T09:50:10.062Z"
   },
   {
    "duration": 41,
    "start_time": "2023-01-29T09:50:10.095Z"
   },
   {
    "duration": 13,
    "start_time": "2023-01-29T09:50:10.151Z"
   },
   {
    "duration": 29,
    "start_time": "2023-01-29T09:50:10.166Z"
   },
   {
    "duration": 21,
    "start_time": "2023-01-29T09:50:10.197Z"
   },
   {
    "duration": 488,
    "start_time": "2023-01-29T09:50:10.220Z"
   },
   {
    "duration": 245,
    "start_time": "2023-01-29T09:50:10.710Z"
   },
   {
    "duration": 24,
    "start_time": "2023-01-29T09:50:10.963Z"
   },
   {
    "duration": 54,
    "start_time": "2023-01-29T09:50:10.989Z"
   },
   {
    "duration": 84,
    "start_time": "2023-01-29T09:50:11.045Z"
   },
   {
    "duration": 580,
    "start_time": "2023-01-29T09:50:11.134Z"
   },
   {
    "duration": 388,
    "start_time": "2023-01-29T09:50:11.716Z"
   },
   {
    "duration": 572,
    "start_time": "2023-01-29T09:50:12.106Z"
   },
   {
    "duration": 12,
    "start_time": "2023-01-29T09:50:12.681Z"
   },
   {
    "duration": 404,
    "start_time": "2023-01-29T09:50:12.696Z"
   },
   {
    "duration": 19,
    "start_time": "2023-01-29T09:50:13.103Z"
   },
   {
    "duration": 130,
    "start_time": "2023-01-29T09:50:13.125Z"
   },
   {
    "duration": 104,
    "start_time": "2023-01-29T09:50:13.258Z"
   },
   {
    "duration": 3,
    "start_time": "2023-01-29T09:50:13.365Z"
   },
   {
    "duration": 417,
    "start_time": "2023-01-29T09:50:13.370Z"
   },
   {
    "duration": 362,
    "start_time": "2023-01-29T09:50:13.789Z"
   },
   {
    "duration": 7,
    "start_time": "2023-01-29T09:50:39.490Z"
   },
   {
    "duration": 5,
    "start_time": "2023-01-29T09:50:51.037Z"
   },
   {
    "duration": 6,
    "start_time": "2023-01-29T09:51:05.138Z"
   },
   {
    "duration": 5,
    "start_time": "2023-01-29T09:51:09.948Z"
   },
   {
    "duration": 17,
    "start_time": "2023-01-29T09:51:23.005Z"
   },
   {
    "duration": 6,
    "start_time": "2023-01-29T09:51:40.857Z"
   },
   {
    "duration": 6,
    "start_time": "2023-01-29T09:51:51.680Z"
   },
   {
    "duration": 5,
    "start_time": "2023-01-29T09:52:58.629Z"
   },
   {
    "duration": 6,
    "start_time": "2023-01-29T09:53:06.727Z"
   },
   {
    "duration": 413,
    "start_time": "2023-01-29T09:54:14.453Z"
   },
   {
    "duration": 242,
    "start_time": "2023-01-29T10:04:12.029Z"
   },
   {
    "duration": 256,
    "start_time": "2023-01-29T10:04:27.932Z"
   },
   {
    "duration": 218,
    "start_time": "2023-01-29T10:05:19.036Z"
   },
   {
    "duration": 194,
    "start_time": "2023-01-29T10:05:42.195Z"
   },
   {
    "duration": 232,
    "start_time": "2023-01-29T10:05:46.567Z"
   },
   {
    "duration": 5,
    "start_time": "2023-01-29T10:06:00.841Z"
   },
   {
    "duration": 39,
    "start_time": "2023-01-29T10:06:00.848Z"
   },
   {
    "duration": 778,
    "start_time": "2023-01-29T10:06:00.889Z"
   },
   {
    "duration": 127,
    "start_time": "2023-01-29T10:06:01.669Z"
   },
   {
    "duration": 34,
    "start_time": "2023-01-29T10:06:01.799Z"
   },
   {
    "duration": 43,
    "start_time": "2023-01-29T10:06:01.835Z"
   },
   {
    "duration": 140,
    "start_time": "2023-01-29T10:06:01.880Z"
   },
   {
    "duration": 1136,
    "start_time": "2023-01-29T10:06:02.022Z"
   },
   {
    "duration": 13,
    "start_time": "2023-01-29T10:06:03.160Z"
   },
   {
    "duration": 262,
    "start_time": "2023-01-29T10:06:03.174Z"
   },
   {
    "duration": 262,
    "start_time": "2023-01-29T10:06:03.438Z"
   },
   {
    "duration": 315,
    "start_time": "2023-01-29T10:06:03.702Z"
   },
   {
    "duration": 14,
    "start_time": "2023-01-29T10:06:04.019Z"
   },
   {
    "duration": 272,
    "start_time": "2023-01-29T10:06:04.035Z"
   },
   {
    "duration": 229,
    "start_time": "2023-01-29T10:06:07.288Z"
   },
   {
    "duration": 260,
    "start_time": "2023-01-29T10:06:53.877Z"
   },
   {
    "duration": 230,
    "start_time": "2023-01-29T10:10:20.957Z"
   },
   {
    "duration": 261,
    "start_time": "2023-01-29T10:10:35.225Z"
   },
   {
    "duration": 4,
    "start_time": "2023-01-29T10:10:42.226Z"
   },
   {
    "duration": 10,
    "start_time": "2023-01-29T10:10:42.233Z"
   },
   {
    "duration": 678,
    "start_time": "2023-01-29T10:10:42.245Z"
   },
   {
    "duration": 133,
    "start_time": "2023-01-29T10:10:42.925Z"
   },
   {
    "duration": 27,
    "start_time": "2023-01-29T10:10:43.060Z"
   },
   {
    "duration": 31,
    "start_time": "2023-01-29T10:10:43.089Z"
   },
   {
    "duration": 147,
    "start_time": "2023-01-29T10:10:43.122Z"
   },
   {
    "duration": 1086,
    "start_time": "2023-01-29T10:10:43.271Z"
   },
   {
    "duration": 13,
    "start_time": "2023-01-29T10:10:44.359Z"
   },
   {
    "duration": 239,
    "start_time": "2023-01-29T10:10:44.374Z"
   },
   {
    "duration": 253,
    "start_time": "2023-01-29T10:10:44.615Z"
   },
   {
    "duration": 293,
    "start_time": "2023-01-29T10:10:44.870Z"
   },
   {
    "duration": 14,
    "start_time": "2023-01-29T10:10:45.165Z"
   },
   {
    "duration": 284,
    "start_time": "2023-01-29T10:10:45.182Z"
   },
   {
    "duration": 244,
    "start_time": "2023-01-29T10:10:45.467Z"
   },
   {
    "duration": 175,
    "start_time": "2023-01-29T10:10:45.713Z"
   },
   {
    "duration": 235,
    "start_time": "2023-01-29T10:10:45.889Z"
   },
   {
    "duration": 26,
    "start_time": "2023-01-29T10:10:46.126Z"
   },
   {
    "duration": 262,
    "start_time": "2023-01-29T10:10:46.154Z"
   },
   {
    "duration": 497,
    "start_time": "2023-01-29T10:10:50.784Z"
   },
   {
    "duration": 233,
    "start_time": "2023-01-29T10:11:41.744Z"
   },
   {
    "duration": 275,
    "start_time": "2023-01-29T10:11:51.736Z"
   },
   {
    "duration": 273,
    "start_time": "2023-01-29T10:12:57.629Z"
   },
   {
    "duration": 205,
    "start_time": "2023-01-29T10:13:14.594Z"
   },
   {
    "duration": 232,
    "start_time": "2023-01-29T10:13:18.201Z"
   },
   {
    "duration": 264,
    "start_time": "2023-01-29T10:14:08.039Z"
   },
   {
    "duration": 4,
    "start_time": "2023-01-29T10:14:42.274Z"
   },
   {
    "duration": 6,
    "start_time": "2023-01-29T10:14:42.281Z"
   },
   {
    "duration": 683,
    "start_time": "2023-01-29T10:14:42.288Z"
   },
   {
    "duration": 133,
    "start_time": "2023-01-29T10:14:42.973Z"
   },
   {
    "duration": 47,
    "start_time": "2023-01-29T10:14:43.108Z"
   },
   {
    "duration": 33,
    "start_time": "2023-01-29T10:14:43.157Z"
   },
   {
    "duration": 142,
    "start_time": "2023-01-29T10:14:43.191Z"
   },
   {
    "duration": 1018,
    "start_time": "2023-01-29T10:14:43.335Z"
   },
   {
    "duration": 15,
    "start_time": "2023-01-29T10:14:44.355Z"
   },
   {
    "duration": 214,
    "start_time": "2023-01-29T10:14:44.372Z"
   },
   {
    "duration": 244,
    "start_time": "2023-01-29T10:14:44.588Z"
   },
   {
    "duration": 279,
    "start_time": "2023-01-29T10:14:44.834Z"
   },
   {
    "duration": 14,
    "start_time": "2023-01-29T10:14:45.115Z"
   },
   {
    "duration": 282,
    "start_time": "2023-01-29T10:14:45.131Z"
   },
   {
    "duration": 265,
    "start_time": "2023-01-29T10:14:59.241Z"
   },
   {
    "duration": 230,
    "start_time": "2023-01-29T10:15:12.599Z"
   },
   {
    "duration": 162,
    "start_time": "2023-01-29T10:15:12.941Z"
   },
   {
    "duration": 226,
    "start_time": "2023-01-29T10:15:15.937Z"
   },
   {
    "duration": 19,
    "start_time": "2023-01-29T10:15:18.812Z"
   },
   {
    "duration": 529,
    "start_time": "2023-01-29T10:15:45.941Z"
   },
   {
    "duration": 184,
    "start_time": "2023-01-29T10:16:12.167Z"
   },
   {
    "duration": 277,
    "start_time": "2023-01-29T10:16:25.429Z"
   },
   {
    "duration": 279,
    "start_time": "2023-01-29T10:16:31.941Z"
   },
   {
    "duration": 291,
    "start_time": "2023-01-29T10:16:44.135Z"
   },
   {
    "duration": 221,
    "start_time": "2023-01-29T10:18:19.535Z"
   },
   {
    "duration": 16,
    "start_time": "2023-01-29T10:18:24.441Z"
   },
   {
    "duration": 19,
    "start_time": "2023-01-29T10:18:24.825Z"
   },
   {
    "duration": 281,
    "start_time": "2023-01-29T10:18:26.151Z"
   },
   {
    "duration": 5,
    "start_time": "2023-01-29T10:18:39.754Z"
   },
   {
    "duration": 7,
    "start_time": "2023-01-29T10:18:39.761Z"
   },
   {
    "duration": 704,
    "start_time": "2023-01-29T10:18:39.770Z"
   },
   {
    "duration": 135,
    "start_time": "2023-01-29T10:18:40.476Z"
   },
   {
    "duration": 41,
    "start_time": "2023-01-29T10:18:40.614Z"
   },
   {
    "duration": 30,
    "start_time": "2023-01-29T10:18:40.657Z"
   },
   {
    "duration": 134,
    "start_time": "2023-01-29T10:18:40.689Z"
   },
   {
    "duration": 943,
    "start_time": "2023-01-29T10:18:40.824Z"
   },
   {
    "duration": 14,
    "start_time": "2023-01-29T10:18:41.769Z"
   },
   {
    "duration": 222,
    "start_time": "2023-01-29T10:18:41.785Z"
   },
   {
    "duration": 255,
    "start_time": "2023-01-29T10:18:42.009Z"
   },
   {
    "duration": 262,
    "start_time": "2023-01-29T10:18:42.266Z"
   },
   {
    "duration": 14,
    "start_time": "2023-01-29T10:18:42.529Z"
   },
   {
    "duration": 269,
    "start_time": "2023-01-29T10:18:42.550Z"
   },
   {
    "duration": 254,
    "start_time": "2023-01-29T10:18:42.821Z"
   },
   {
    "duration": 183,
    "start_time": "2023-01-29T10:18:43.076Z"
   },
   {
    "duration": 258,
    "start_time": "2023-01-29T10:18:43.260Z"
   },
   {
    "duration": 34,
    "start_time": "2023-01-29T10:18:43.520Z"
   },
   {
    "duration": 285,
    "start_time": "2023-01-29T10:18:43.556Z"
   },
   {
    "duration": 198,
    "start_time": "2023-01-29T10:18:43.843Z"
   },
   {
    "duration": 538,
    "start_time": "2023-01-29T10:18:44.042Z"
   },
   {
    "duration": 275,
    "start_time": "2023-01-29T10:18:44.581Z"
   },
   {
    "duration": 307,
    "start_time": "2023-01-29T10:18:44.858Z"
   },
   {
    "duration": 42,
    "start_time": "2023-01-29T10:18:45.166Z"
   },
   {
    "duration": 17,
    "start_time": "2023-01-29T10:18:45.209Z"
   },
   {
    "duration": 40,
    "start_time": "2023-01-29T10:18:45.227Z"
   },
   {
    "duration": 283,
    "start_time": "2023-01-29T10:18:45.269Z"
   },
   {
    "duration": 39,
    "start_time": "2023-01-29T10:18:45.553Z"
   },
   {
    "duration": 16,
    "start_time": "2023-01-29T10:18:45.593Z"
   },
   {
    "duration": 286,
    "start_time": "2023-01-29T10:19:38.857Z"
   },
   {
    "duration": 251,
    "start_time": "2023-01-29T10:20:06.944Z"
   },
   {
    "duration": 4,
    "start_time": "2023-01-29T10:21:10.138Z"
   },
   {
    "duration": 13,
    "start_time": "2023-01-29T10:21:10.144Z"
   },
   {
    "duration": 698,
    "start_time": "2023-01-29T10:21:10.159Z"
   },
   {
    "duration": 129,
    "start_time": "2023-01-29T10:21:10.859Z"
   },
   {
    "duration": 37,
    "start_time": "2023-01-29T10:21:10.990Z"
   },
   {
    "duration": 51,
    "start_time": "2023-01-29T10:21:11.028Z"
   },
   {
    "duration": 137,
    "start_time": "2023-01-29T10:21:11.081Z"
   },
   {
    "duration": 943,
    "start_time": "2023-01-29T10:21:11.220Z"
   },
   {
    "duration": 14,
    "start_time": "2023-01-29T10:21:12.165Z"
   },
   {
    "duration": 223,
    "start_time": "2023-01-29T10:21:12.181Z"
   },
   {
    "duration": 250,
    "start_time": "2023-01-29T10:21:12.405Z"
   },
   {
    "duration": 266,
    "start_time": "2023-01-29T10:21:12.657Z"
   },
   {
    "duration": 14,
    "start_time": "2023-01-29T10:21:12.925Z"
   },
   {
    "duration": 265,
    "start_time": "2023-01-29T10:21:12.948Z"
   },
   {
    "duration": 279,
    "start_time": "2023-01-29T10:21:13.215Z"
   },
   {
    "duration": 205,
    "start_time": "2023-01-29T10:21:13.495Z"
   },
   {
    "duration": 270,
    "start_time": "2023-01-29T10:21:13.702Z"
   },
   {
    "duration": 19,
    "start_time": "2023-01-29T10:21:13.973Z"
   },
   {
    "duration": 272,
    "start_time": "2023-01-29T10:21:13.994Z"
   },
   {
    "duration": 184,
    "start_time": "2023-01-29T10:21:14.268Z"
   },
   {
    "duration": 283,
    "start_time": "2023-01-29T10:21:14.453Z"
   },
   {
    "duration": 539,
    "start_time": "2023-01-29T10:21:19.155Z"
   },
   {
    "duration": 267,
    "start_time": "2023-01-29T10:21:22.798Z"
   },
   {
    "duration": 270,
    "start_time": "2023-01-29T10:23:02.862Z"
   },
   {
    "duration": 300,
    "start_time": "2023-01-29T10:23:25.561Z"
   },
   {
    "duration": 292,
    "start_time": "2023-01-29T10:23:47.745Z"
   },
   {
    "duration": 317,
    "start_time": "2023-01-29T10:23:49.263Z"
   },
   {
    "duration": 64,
    "start_time": "2023-01-29T10:23:51.537Z"
   },
   {
    "duration": 19,
    "start_time": "2023-01-29T10:23:52.601Z"
   },
   {
    "duration": 23,
    "start_time": "2023-01-29T10:23:52.932Z"
   },
   {
    "duration": 272,
    "start_time": "2023-01-29T10:23:53.333Z"
   },
   {
    "duration": 41,
    "start_time": "2023-01-29T10:24:00.592Z"
   },
   {
    "duration": 25,
    "start_time": "2023-01-29T10:24:00.736Z"
   },
   {
    "duration": 221,
    "start_time": "2023-01-29T10:24:07.991Z"
   },
   {
    "duration": 44,
    "start_time": "2023-01-29T10:24:25.291Z"
   },
   {
    "duration": 18,
    "start_time": "2023-01-29T10:24:26.062Z"
   },
   {
    "duration": 19,
    "start_time": "2023-01-29T10:24:26.687Z"
   },
   {
    "duration": 45,
    "start_time": "2023-01-29T10:24:34.784Z"
   },
   {
    "duration": 36,
    "start_time": "2023-01-29T10:24:37.033Z"
   },
   {
    "duration": 21,
    "start_time": "2023-01-29T10:25:10.493Z"
   },
   {
    "duration": 47,
    "start_time": "2023-01-29T10:25:14.968Z"
   },
   {
    "duration": 46,
    "start_time": "2023-01-29T10:25:16.298Z"
   },
   {
    "duration": 17,
    "start_time": "2023-01-29T10:25:16.574Z"
   },
   {
    "duration": 28,
    "start_time": "2023-01-29T10:25:17.402Z"
   },
   {
    "duration": 12,
    "start_time": "2023-01-29T10:25:18.756Z"
   },
   {
    "duration": 29,
    "start_time": "2023-01-29T10:25:22.037Z"
   },
   {
    "duration": 16,
    "start_time": "2023-01-29T10:25:22.259Z"
   },
   {
    "duration": 288,
    "start_time": "2023-01-29T10:27:08.449Z"
   },
   {
    "duration": 294,
    "start_time": "2023-01-29T10:27:18.019Z"
   },
   {
    "duration": 157,
    "start_time": "2023-01-29T10:27:33.657Z"
   },
   {
    "duration": 14,
    "start_time": "2023-01-29T10:27:38.402Z"
   },
   {
    "duration": 19,
    "start_time": "2023-01-29T10:27:41.053Z"
   },
   {
    "duration": 72,
    "start_time": "2023-01-29T10:27:43.388Z"
   },
   {
    "duration": 294,
    "start_time": "2023-01-29T10:28:09.300Z"
   },
   {
    "duration": 121,
    "start_time": "2023-01-29T10:28:17.754Z"
   },
   {
    "duration": 238,
    "start_time": "2023-01-29T10:28:22.487Z"
   },
   {
    "duration": 337,
    "start_time": "2023-01-29T10:28:28.355Z"
   },
   {
    "duration": 10,
    "start_time": "2023-01-29T10:28:28.694Z"
   },
   {
    "duration": 218,
    "start_time": "2023-01-29T10:28:34.461Z"
   },
   {
    "duration": 16,
    "start_time": "2023-01-29T10:28:38.891Z"
   },
   {
    "duration": 71,
    "start_time": "2023-01-29T10:28:40.783Z"
   },
   {
    "duration": 68,
    "start_time": "2023-01-29T10:28:43.564Z"
   },
   {
    "duration": 500,
    "start_time": "2023-01-29T10:28:49.085Z"
   },
   {
    "duration": 227,
    "start_time": "2023-01-29T10:29:04.013Z"
   },
   {
    "duration": 229,
    "start_time": "2023-01-29T10:29:13.186Z"
   },
   {
    "duration": 251,
    "start_time": "2023-01-29T10:29:17.001Z"
   },
   {
    "duration": 248,
    "start_time": "2023-01-29T10:29:20.486Z"
   },
   {
    "duration": 66,
    "start_time": "2023-01-29T10:29:29.851Z"
   },
   {
    "duration": 251,
    "start_time": "2023-01-29T10:29:34.953Z"
   },
   {
    "duration": 278,
    "start_time": "2023-01-29T10:30:17.073Z"
   },
   {
    "duration": 111,
    "start_time": "2023-01-29T10:30:35.876Z"
   },
   {
    "duration": 264,
    "start_time": "2023-01-29T10:30:49.730Z"
   },
   {
    "duration": 258,
    "start_time": "2023-01-29T10:30:56.932Z"
   },
   {
    "duration": 275,
    "start_time": "2023-01-29T10:31:48.141Z"
   },
   {
    "duration": 4,
    "start_time": "2023-01-29T10:31:57.148Z"
   },
   {
    "duration": 4,
    "start_time": "2023-01-29T10:32:03.073Z"
   },
   {
    "duration": 7,
    "start_time": "2023-01-29T10:32:03.079Z"
   },
   {
    "duration": 782,
    "start_time": "2023-01-29T10:32:03.088Z"
   },
   {
    "duration": 129,
    "start_time": "2023-01-29T10:32:03.872Z"
   },
   {
    "duration": 29,
    "start_time": "2023-01-29T10:32:04.003Z"
   },
   {
    "duration": 36,
    "start_time": "2023-01-29T10:32:04.049Z"
   },
   {
    "duration": 139,
    "start_time": "2023-01-29T10:32:04.087Z"
   },
   {
    "duration": 1338,
    "start_time": "2023-01-29T10:32:04.227Z"
   },
   {
    "duration": 14,
    "start_time": "2023-01-29T10:32:05.567Z"
   },
   {
    "duration": 228,
    "start_time": "2023-01-29T10:32:05.583Z"
   },
   {
    "duration": 256,
    "start_time": "2023-01-29T10:32:05.813Z"
   },
   {
    "duration": 317,
    "start_time": "2023-01-29T10:32:06.071Z"
   },
   {
    "duration": 26,
    "start_time": "2023-01-29T10:32:06.390Z"
   },
   {
    "duration": 389,
    "start_time": "2023-01-29T10:32:06.418Z"
   },
   {
    "duration": 273,
    "start_time": "2023-01-29T10:32:06.809Z"
   },
   {
    "duration": 206,
    "start_time": "2023-01-29T10:32:07.084Z"
   },
   {
    "duration": 287,
    "start_time": "2023-01-29T10:32:07.292Z"
   },
   {
    "duration": 23,
    "start_time": "2023-01-29T10:32:07.581Z"
   },
   {
    "duration": 283,
    "start_time": "2023-01-29T10:32:07.606Z"
   },
   {
    "duration": 194,
    "start_time": "2023-01-29T10:32:07.892Z"
   },
   {
    "duration": 291,
    "start_time": "2023-01-29T10:32:08.088Z"
   },
   {
    "duration": 295,
    "start_time": "2023-01-29T10:32:08.381Z"
   },
   {
    "duration": 290,
    "start_time": "2023-01-29T10:32:08.678Z"
   },
   {
    "duration": 43,
    "start_time": "2023-01-29T10:32:08.971Z"
   },
   {
    "duration": 34,
    "start_time": "2023-01-29T10:32:09.016Z"
   },
   {
    "duration": 27,
    "start_time": "2023-01-29T10:32:09.052Z"
   },
   {
    "duration": 263,
    "start_time": "2023-01-29T10:32:09.080Z"
   },
   {
    "duration": 50,
    "start_time": "2023-01-29T10:32:09.350Z"
   },
   {
    "duration": 48,
    "start_time": "2023-01-29T10:32:09.402Z"
   },
   {
    "duration": 257,
    "start_time": "2023-01-29T10:32:09.453Z"
   },
   {
    "duration": 47,
    "start_time": "2023-01-29T10:32:09.712Z"
   },
   {
    "duration": 26,
    "start_time": "2023-01-29T10:32:09.761Z"
   },
   {
    "duration": 30,
    "start_time": "2023-01-29T10:32:09.789Z"
   },
   {
    "duration": 47,
    "start_time": "2023-01-29T10:32:09.821Z"
   },
   {
    "duration": 17,
    "start_time": "2023-01-29T10:32:09.870Z"
   },
   {
    "duration": 36,
    "start_time": "2023-01-29T10:32:09.888Z"
   },
   {
    "duration": 59,
    "start_time": "2023-01-29T10:32:09.926Z"
   },
   {
    "duration": 63,
    "start_time": "2023-01-29T10:32:09.987Z"
   },
   {
    "duration": 18,
    "start_time": "2023-01-29T10:32:10.051Z"
   },
   {
    "duration": 26,
    "start_time": "2023-01-29T10:32:10.071Z"
   },
   {
    "duration": 12,
    "start_time": "2023-01-29T10:32:10.099Z"
   },
   {
    "duration": 60,
    "start_time": "2023-01-29T10:32:10.113Z"
   },
   {
    "duration": 20,
    "start_time": "2023-01-29T10:32:10.175Z"
   },
   {
    "duration": 315,
    "start_time": "2023-01-29T10:32:10.197Z"
   },
   {
    "duration": 173,
    "start_time": "2023-01-29T10:32:10.514Z"
   },
   {
    "duration": 13,
    "start_time": "2023-01-29T10:32:10.689Z"
   },
   {
    "duration": 19,
    "start_time": "2023-01-29T10:32:10.704Z"
   },
   {
    "duration": 75,
    "start_time": "2023-01-29T10:32:10.749Z"
   },
   {
    "duration": 580,
    "start_time": "2023-01-29T10:32:10.826Z"
   },
   {
    "duration": 270,
    "start_time": "2023-01-29T10:32:11.408Z"
   },
   {
    "duration": 355,
    "start_time": "2023-01-29T10:32:11.680Z"
   },
   {
    "duration": 15,
    "start_time": "2023-01-29T10:32:12.037Z"
   },
   {
    "duration": 247,
    "start_time": "2023-01-29T10:32:12.053Z"
   },
   {
    "duration": 14,
    "start_time": "2023-01-29T10:32:12.302Z"
   },
   {
    "duration": 87,
    "start_time": "2023-01-29T10:32:12.318Z"
   },
   {
    "duration": 73,
    "start_time": "2023-01-29T10:32:12.407Z"
   },
   {
    "duration": 3,
    "start_time": "2023-01-29T10:32:12.482Z"
   },
   {
    "duration": 244,
    "start_time": "2023-01-29T10:32:12.487Z"
   },
   {
    "duration": 235,
    "start_time": "2023-01-29T10:32:12.733Z"
   },
   {
    "duration": 66,
    "start_time": "2023-01-29T10:32:12.970Z"
   },
   {
    "duration": 288,
    "start_time": "2023-01-29T10:32:13.049Z"
   },
   {
    "duration": 365,
    "start_time": "2023-01-29T10:32:13.339Z"
   },
   {
    "duration": 5,
    "start_time": "2023-01-29T10:32:13.705Z"
   },
   {
    "duration": 4,
    "start_time": "2023-01-29T10:32:17.991Z"
   },
   {
    "duration": 17,
    "start_time": "2023-01-29T10:33:03.443Z"
   },
   {
    "duration": 27,
    "start_time": "2023-01-29T10:33:04.884Z"
   },
   {
    "duration": 6,
    "start_time": "2023-01-29T10:33:06.041Z"
   },
   {
    "duration": 81,
    "start_time": "2023-01-29T10:33:08.096Z"
   },
   {
    "duration": 57,
    "start_time": "2023-01-29T10:33:11.633Z"
   },
   {
    "duration": 1442,
    "start_time": "2023-01-29T10:33:30.134Z"
   },
   {
    "duration": 3,
    "start_time": "2023-01-29T10:33:31.578Z"
   },
   {
    "duration": 3268,
    "start_time": "2023-01-29T10:33:31.583Z"
   },
   {
    "duration": 132,
    "start_time": "2023-01-29T10:33:34.852Z"
   },
   {
    "duration": 70,
    "start_time": "2023-01-29T10:33:34.987Z"
   },
   {
    "duration": 72,
    "start_time": "2023-01-29T10:33:35.059Z"
   },
   {
    "duration": 177,
    "start_time": "2023-01-29T10:33:35.133Z"
   },
   {
    "duration": 983,
    "start_time": "2023-01-29T10:33:35.312Z"
   },
   {
    "duration": 38,
    "start_time": "2023-01-29T10:33:36.298Z"
   },
   {
    "duration": 356,
    "start_time": "2023-01-29T10:33:36.338Z"
   },
   {
    "duration": 293,
    "start_time": "2023-01-29T10:33:36.696Z"
   },
   {
    "duration": 322,
    "start_time": "2023-01-29T10:33:36.990Z"
   },
   {
    "duration": 13,
    "start_time": "2023-01-29T10:33:37.313Z"
   },
   {
    "duration": 336,
    "start_time": "2023-01-29T10:33:37.329Z"
   },
   {
    "duration": 246,
    "start_time": "2023-01-29T10:33:37.667Z"
   },
   {
    "duration": 175,
    "start_time": "2023-01-29T10:33:37.915Z"
   },
   {
    "duration": 244,
    "start_time": "2023-01-29T10:33:38.091Z"
   },
   {
    "duration": 22,
    "start_time": "2023-01-29T10:33:38.337Z"
   },
   {
    "duration": 256,
    "start_time": "2023-01-29T10:33:38.360Z"
   },
   {
    "duration": 183,
    "start_time": "2023-01-29T10:33:38.618Z"
   },
   {
    "duration": 277,
    "start_time": "2023-01-29T10:33:38.803Z"
   },
   {
    "duration": 395,
    "start_time": "2023-01-29T10:33:39.082Z"
   },
   {
    "duration": 332,
    "start_time": "2023-01-29T10:33:39.479Z"
   },
   {
    "duration": 55,
    "start_time": "2023-01-29T10:33:39.813Z"
   },
   {
    "duration": 16,
    "start_time": "2023-01-29T10:33:39.869Z"
   },
   {
    "duration": 23,
    "start_time": "2023-01-29T10:33:39.887Z"
   },
   {
    "duration": 260,
    "start_time": "2023-01-29T10:33:39.911Z"
   },
   {
    "duration": 38,
    "start_time": "2023-01-29T10:33:40.173Z"
   },
   {
    "duration": 36,
    "start_time": "2023-01-29T10:33:40.213Z"
   },
   {
    "duration": 224,
    "start_time": "2023-01-29T10:33:40.250Z"
   },
   {
    "duration": 42,
    "start_time": "2023-01-29T10:33:40.477Z"
   },
   {
    "duration": 34,
    "start_time": "2023-01-29T10:33:40.521Z"
   },
   {
    "duration": 21,
    "start_time": "2023-01-29T10:33:40.557Z"
   },
   {
    "duration": 40,
    "start_time": "2023-01-29T10:33:40.580Z"
   },
   {
    "duration": 42,
    "start_time": "2023-01-29T10:33:40.621Z"
   },
   {
    "duration": 21,
    "start_time": "2023-01-29T10:33:40.665Z"
   },
   {
    "duration": 62,
    "start_time": "2023-01-29T10:33:40.688Z"
   },
   {
    "duration": 41,
    "start_time": "2023-01-29T10:33:40.752Z"
   },
   {
    "duration": 16,
    "start_time": "2023-01-29T10:33:40.795Z"
   },
   {
    "duration": 48,
    "start_time": "2023-01-29T10:33:40.813Z"
   },
   {
    "duration": 8,
    "start_time": "2023-01-29T10:33:40.865Z"
   },
   {
    "duration": 23,
    "start_time": "2023-01-29T10:33:40.875Z"
   },
   {
    "duration": 13,
    "start_time": "2023-01-29T10:33:40.900Z"
   },
   {
    "duration": 311,
    "start_time": "2023-01-29T10:33:40.915Z"
   },
   {
    "duration": 169,
    "start_time": "2023-01-29T10:33:41.228Z"
   },
   {
    "duration": 14,
    "start_time": "2023-01-29T10:33:41.399Z"
   },
   {
    "duration": 39,
    "start_time": "2023-01-29T10:33:41.415Z"
   },
   {
    "duration": 68,
    "start_time": "2023-01-29T10:33:41.456Z"
   },
   {
    "duration": 287,
    "start_time": "2023-01-29T10:33:41.526Z"
   },
   {
    "duration": 351,
    "start_time": "2023-01-29T10:33:41.814Z"
   },
   {
    "duration": 339,
    "start_time": "2023-01-29T10:33:42.166Z"
   },
   {
    "duration": 10,
    "start_time": "2023-01-29T10:33:42.507Z"
   },
   {
    "duration": 249,
    "start_time": "2023-01-29T10:33:42.518Z"
   },
   {
    "duration": 16,
    "start_time": "2023-01-29T10:33:42.769Z"
   },
   {
    "duration": 92,
    "start_time": "2023-01-29T10:33:42.787Z"
   },
   {
    "duration": 80,
    "start_time": "2023-01-29T10:33:42.881Z"
   },
   {
    "duration": 3,
    "start_time": "2023-01-29T10:33:42.963Z"
   },
   {
    "duration": 241,
    "start_time": "2023-01-29T10:33:42.968Z"
   },
   {
    "duration": 270,
    "start_time": "2023-01-29T10:33:43.211Z"
   },
   {
    "duration": 82,
    "start_time": "2023-01-29T10:33:43.483Z"
   },
   {
    "duration": 313,
    "start_time": "2023-01-29T10:33:43.568Z"
   },
   {
    "duration": 408,
    "start_time": "2023-01-29T10:33:43.882Z"
   },
   {
    "duration": 4,
    "start_time": "2023-01-29T10:33:44.292Z"
   },
   {
    "duration": 18,
    "start_time": "2023-01-29T10:33:44.297Z"
   },
   {
    "duration": 49,
    "start_time": "2023-01-29T10:33:44.316Z"
   },
   {
    "duration": 5,
    "start_time": "2023-01-29T10:33:44.367Z"
   },
   {
    "duration": 90,
    "start_time": "2023-01-29T10:33:44.373Z"
   },
   {
    "duration": 59,
    "start_time": "2023-01-29T10:33:44.465Z"
   },
   {
    "duration": 5434,
    "start_time": "2023-01-29T10:33:55.076Z"
   },
   {
    "duration": 4,
    "start_time": "2023-01-29T10:34:02.932Z"
   },
   {
    "duration": 408,
    "start_time": "2023-01-29T10:34:05.165Z"
   },
   {
    "duration": 16,
    "start_time": "2023-01-29T10:34:06.269Z"
   },
   {
    "duration": 25,
    "start_time": "2023-01-29T10:34:10.131Z"
   },
   {
    "duration": 77,
    "start_time": "2023-01-29T10:34:11.939Z"
   },
   {
    "duration": 478,
    "start_time": "2023-01-29T10:34:12.947Z"
   },
   {
    "duration": 13,
    "start_time": "2023-01-29T10:34:14.390Z"
   }
  ],
  "kernelspec": {
   "display_name": "Python 3 (ipykernel)",
   "language": "python",
   "name": "python3"
  },
  "language_info": {
   "codemirror_mode": {
    "name": "ipython",
    "version": 3
   },
   "file_extension": ".py",
   "mimetype": "text/x-python",
   "name": "python",
   "nbconvert_exporter": "python",
   "pygments_lexer": "ipython3",
   "version": "3.9.13"
  },
  "toc": {
   "base_numbering": 1,
   "nav_menu": {},
   "number_sections": true,
   "sideBar": true,
   "skip_h1_title": true,
   "title_cell": "Содержание",
   "title_sidebar": "Contents",
   "toc_cell": true,
   "toc_position": {
    "height": "calc(100% - 180px)",
    "left": "10px",
    "top": "150px",
    "width": "384px"
   },
   "toc_section_display": true,
   "toc_window_display": true
  },
  "vscode": {
   "interpreter": {
    "hash": "af7472ffbb6f11e94eca2dc243fc9b09d1dc0fb11170c3918ea151f7aad82d25"
   }
  }
 },
 "nbformat": 4,
 "nbformat_minor": 2
}
