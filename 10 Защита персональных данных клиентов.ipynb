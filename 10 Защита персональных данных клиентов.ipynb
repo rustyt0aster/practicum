{
 "cells": [
  {
   "cell_type": "markdown",
   "metadata": {},
   "source": [
    "# Защита персональных данных клиентов"
   ]
  },
  {
   "cell_type": "markdown",
   "metadata": {},
   "source": [
    "Вам нужно защитить данные клиентов страховой компании «Хоть потоп». Разработайте такой метод преобразования данных, чтобы по ним было сложно восстановить персональную информацию. Обоснуйте корректность его работы.\n",
    "\n",
    "Нужно защитить данные, чтобы при преобразовании качество моделей машинного обучения не ухудшилось. Подбирать наилучшую модель не требуется."
   ]
  },
  {
   "cell_type": "markdown",
   "metadata": {},
   "source": [
    "## Загрузка данных"
   ]
  },
  {
   "cell_type": "markdown",
   "metadata": {},
   "source": [
    "### Импорт библиотек"
   ]
  },
  {
   "cell_type": "code",
   "execution_count": 1,
   "metadata": {},
   "outputs": [],
   "source": [
    "import pandas as pd\n",
    "import matplotlib.pyplot as plt\n",
    "\n",
    "import numpy as np\n",
    "from numpy import linalg as LA\n",
    "\n",
    "from sklearn.model_selection import train_test_split\n",
    "from sklearn.metrics import mean_squared_error\n",
    "from sklearn.metrics import r2_score\n",
    "from sklearn.linear_model import LinearRegression\n"
   ]
  },
  {
   "cell_type": "markdown",
   "metadata": {},
   "source": [
    "### Загрузка датасета и общая информация"
   ]
  },
  {
   "cell_type": "code",
   "execution_count": 2,
   "metadata": {},
   "outputs": [
    {
     "data": {
      "text/plain": [
       "(5000, 5)"
      ]
     },
     "metadata": {},
     "output_type": "display_data"
    }
   ],
   "source": [
    "# открываем таблицу:\n",
    "try:\n",
    "    df = pd.read_csv('/datasets/insurance.csv')\n",
    "except:\n",
    "    try:\n",
    "        df = pd.read_csv('\\\\Users\\maxpe\\Downloads\\Practicum\\Projects\\project10\\insurance.csv')\n",
    "    except:\n",
    "        df = pd.read_csv('insurance.csv')\n",
    "display(df.shape);"
   ]
  },
  {
   "cell_type": "code",
   "execution_count": 3,
   "metadata": {},
   "outputs": [
    {
     "name": "stdout",
     "output_type": "stream",
     "text": [
      "<class 'pandas.core.frame.DataFrame'>\n",
      "RangeIndex: 5000 entries, 0 to 4999\n",
      "Data columns (total 5 columns):\n",
      " #   Column             Non-Null Count  Dtype  \n",
      "---  ------             --------------  -----  \n",
      " 0   Пол                5000 non-null   int64  \n",
      " 1   Возраст            5000 non-null   float64\n",
      " 2   Зарплата           5000 non-null   float64\n",
      " 3   Члены семьи        5000 non-null   int64  \n",
      " 4   Страховые выплаты  5000 non-null   int64  \n",
      "dtypes: float64(2), int64(3)\n",
      "memory usage: 195.4 KB\n"
     ]
    }
   ],
   "source": [
    "df.info()"
   ]
  },
  {
   "cell_type": "markdown",
   "metadata": {},
   "source": [
    "Датасет содержит 5000 строк и 5 столбцов. Пустых ячеек нет. Тип столбца `Пол` - целочисленный (выражен 0 и 1). Типы остальный данных - соответствует логике. "
   ]
  },
  {
   "cell_type": "code",
   "execution_count": 4,
   "metadata": {},
   "outputs": [
    {
     "data": {
      "image/png": "[encoded data removed]",
      "text/plain": [
       "<Figure size 720x504 with 6 Axes>"
      ]
     },
     "metadata": {
      "needs_background": "light"
     },
     "output_type": "display_data"
    }
   ],
   "source": [
    "df.hist(figsize=(10,7));"
   ]
  },
  {
   "cell_type": "markdown",
   "metadata": {},
   "source": [
    "Каких-либо выбросов не наблюдается."
   ]
  },
  {
   "cell_type": "code",
   "execution_count": 5,
   "metadata": {},
   "outputs": [
    {
     "data": {
      "text/html": [
       "<div>\n",
       "<style scoped>\n",
       "    .dataframe tbody tr th:only-of-type {\n",
       "        vertical-align: middle;\n",
       "    }\n",
       "\n",
       "    .dataframe tbody tr th {\n",
       "        vertical-align: top;\n",
       "    }\n",
       "\n",
       "    .dataframe thead th {\n",
       "        text-align: right;\n",
       "    }\n",
       "</style>\n",
       "<table border=\"1\" class=\"dataframe\">\n",
       "  <thead>\n",
       "    <tr style=\"text-align: right;\">\n",
       "      <th></th>\n",
       "      <th>Пол</th>\n",
       "      <th>Возраст</th>\n",
       "      <th>Зарплата</th>\n",
       "      <th>Члены семьи</th>\n",
       "      <th>Страховые выплаты</th>\n",
       "    </tr>\n",
       "  </thead>\n",
       "  <tbody>\n",
       "    <tr>\n",
       "      <th>281</th>\n",
       "      <td>1</td>\n",
       "      <td>39.0</td>\n",
       "      <td>48100.0</td>\n",
       "      <td>1</td>\n",
       "      <td>0</td>\n",
       "    </tr>\n",
       "    <tr>\n",
       "      <th>488</th>\n",
       "      <td>1</td>\n",
       "      <td>24.0</td>\n",
       "      <td>32900.0</td>\n",
       "      <td>1</td>\n",
       "      <td>0</td>\n",
       "    </tr>\n",
       "    <tr>\n",
       "      <th>513</th>\n",
       "      <td>0</td>\n",
       "      <td>31.0</td>\n",
       "      <td>37400.0</td>\n",
       "      <td>2</td>\n",
       "      <td>0</td>\n",
       "    </tr>\n",
       "    <tr>\n",
       "      <th>718</th>\n",
       "      <td>1</td>\n",
       "      <td>22.0</td>\n",
       "      <td>32600.0</td>\n",
       "      <td>1</td>\n",
       "      <td>0</td>\n",
       "    </tr>\n",
       "    <tr>\n",
       "      <th>785</th>\n",
       "      <td>0</td>\n",
       "      <td>20.0</td>\n",
       "      <td>35800.0</td>\n",
       "      <td>0</td>\n",
       "      <td>0</td>\n",
       "    </tr>\n",
       "    <tr>\n",
       "      <th>...</th>\n",
       "      <td>...</td>\n",
       "      <td>...</td>\n",
       "      <td>...</td>\n",
       "      <td>...</td>\n",
       "      <td>...</td>\n",
       "    </tr>\n",
       "    <tr>\n",
       "      <th>4793</th>\n",
       "      <td>1</td>\n",
       "      <td>24.0</td>\n",
       "      <td>37800.0</td>\n",
       "      <td>0</td>\n",
       "      <td>0</td>\n",
       "    </tr>\n",
       "    <tr>\n",
       "      <th>4902</th>\n",
       "      <td>1</td>\n",
       "      <td>35.0</td>\n",
       "      <td>38700.0</td>\n",
       "      <td>1</td>\n",
       "      <td>0</td>\n",
       "    </tr>\n",
       "    <tr>\n",
       "      <th>4935</th>\n",
       "      <td>1</td>\n",
       "      <td>19.0</td>\n",
       "      <td>32700.0</td>\n",
       "      <td>0</td>\n",
       "      <td>0</td>\n",
       "    </tr>\n",
       "    <tr>\n",
       "      <th>4945</th>\n",
       "      <td>1</td>\n",
       "      <td>21.0</td>\n",
       "      <td>45800.0</td>\n",
       "      <td>0</td>\n",
       "      <td>0</td>\n",
       "    </tr>\n",
       "    <tr>\n",
       "      <th>4965</th>\n",
       "      <td>0</td>\n",
       "      <td>22.0</td>\n",
       "      <td>40100.0</td>\n",
       "      <td>1</td>\n",
       "      <td>0</td>\n",
       "    </tr>\n",
       "  </tbody>\n",
       "</table>\n",
       "<p>153 rows × 5 columns</p>\n",
       "</div>"
      ],
      "text/plain": [
       "      Пол  Возраст  Зарплата  Члены семьи  Страховые выплаты\n",
       "281     1     39.0   48100.0            1                  0\n",
       "488     1     24.0   32900.0            1                  0\n",
       "513     0     31.0   37400.0            2                  0\n",
       "718     1     22.0   32600.0            1                  0\n",
       "785     0     20.0   35800.0            0                  0\n",
       "...   ...      ...       ...          ...                ...\n",
       "4793    1     24.0   37800.0            0                  0\n",
       "4902    1     35.0   38700.0            1                  0\n",
       "4935    1     19.0   32700.0            0                  0\n",
       "4945    1     21.0   45800.0            0                  0\n",
       "4965    0     22.0   40100.0            1                  0\n",
       "\n",
       "[153 rows x 5 columns]"
      ]
     },
     "metadata": {},
     "output_type": "display_data"
    }
   ],
   "source": [
    "duplicated_df = df[df.duplicated()]\n",
    "display(duplicated_df)"
   ]
  },
  {
   "cell_type": "markdown",
   "metadata": {},
   "source": [
    "Имеем 153 явных дубликата, которые могут и не являться дубликатами, т.к. признаков мало, большая часть из них - категориальная, а, например, зарплата - округлена. Оставляем без изменений.\n",
    "\n",
    "Загрузка данных завершена. Данные не требуют предобработки."
   ]
  },
  {
   "cell_type": "markdown",
   "metadata": {},
   "source": [
    "### Описание данных"
   ]
  },
  {
   "cell_type": "markdown",
   "metadata": {},
   "source": [
    "- `Признаки`: `Пол`, `Возраст`, `Зарплата` и `Члены семьи` застрахованного.\n",
    "- `Целевой признак`: `Страховые выплаты` клиенту за последние 5 лет."
   ]
  },
  {
   "cell_type": "markdown",
   "metadata": {},
   "source": [
    "### Разбиение данных"
   ]
  },
  {
   "cell_type": "code",
   "execution_count": 6,
   "metadata": {},
   "outputs": [],
   "source": [
    "df_features = df.drop(['Страховые выплаты'], axis=1)\n",
    "df_target = df['Страховые выплаты']"
   ]
  },
  {
   "cell_type": "code",
   "execution_count": 7,
   "metadata": {
    "tags": []
   },
   "outputs": [],
   "source": [
    "df_features_train, df_features_valid, df_target_train, df_target_valid = train_test_split( #создаем 4 датасета, два признаков (тест+валидация) и два целевых, \n",
    "    df.drop(columns='Страховые выплаты'), #для датасетов признаков удаляем целевой\n",
    "    df['Страховые выплаты'], #для целевого оставляем только целевой\n",
    "    test_size=0.25, #с соотношением 75/25\n",
    "    random_state=100) #с заданной опорой для рандома "
   ]
  },
  {
   "cell_type": "markdown",
   "metadata": {},
   "source": [
    "## Умножение матриц"
   ]
  },
  {
   "cell_type": "markdown",
   "metadata": {},
   "source": [
    "Основные свойства матриц, необходимые для доказательства:\n",
    "\n",
    "$$\n",
    "AE = A\n",
    "$$\n",
    "\n",
    "$$\n",
    "AA^{-1} = E\n",
    "$$"
   ]
  },
  {
   "cell_type": "markdown",
   "metadata": {},
   "source": [
    "где $A$ и $E$ - матрицы одного размера, квадратные;\n",
    "\n",
    "Нужно учесть, что $XX^{-1}$ не равно $E$, т.к. матрица $X$ не квадратная."
   ]
  },
  {
   "cell_type": "markdown",
   "metadata": {},
   "source": [
    "$$\n",
    "(AB)^T = B^TA^T\n",
    "$$\n",
    "\n"
   ]
  },
  {
   "cell_type": "markdown",
   "metadata": {},
   "source": [
    "$$\n",
    "(AB)^{-1} = B^{-1}A^{-1}\n",
    "$$"
   ]
  },
  {
   "cell_type": "markdown",
   "metadata": {},
   "source": [
    "Обозначения для текущей задачи:\n",
    "\n",
    "- $X$ — матрица признаков (нулевой столбец состоит из единиц)\n",
    "\n",
    "- $y$ — вектор целевого признака\n",
    "\n",
    "- $P$ — матрица, на которую умножаются признаки\n",
    "\n",
    "- $w$ — вектор весов линейной регрессии (нулевой элемент равен сдвигу)"
   ]
  },
  {
   "cell_type": "markdown",
   "metadata": {},
   "source": [
    "Предсказания:\n",
    "\n",
    "$$\n",
    "a = Xw\n",
    "$$\n",
    "\n",
    "Задача обучения:\n",
    "\n",
    "$$\n",
    "w = \\arg\\min_w MSE(Xw, y)\n",
    "$$\n",
    "\n",
    "Формула обучения - веса вектора $w$:\n",
    "\n",
    "$$\n",
    "w = (X^T X)^{-1} X^T y\n",
    "$$"
   ]
  },
  {
   "cell_type": "markdown",
   "metadata": {},
   "source": [
    "<b>Признаки умножают на обратимую матрицу. Изменится ли качество линейной регрессии?\n",
    "\n",
    "Ответ:</b> \n",
    "\n",
    "Не изменится"
   ]
  },
  {
   "cell_type": "markdown",
   "metadata": {},
   "source": [
    "<b>Обоснование:</b>\n",
    "\n",
    "Пусть существует матрица $X'$, для которой справедливо равенство:\n",
    "\n",
    "$$X' = XP$$\n",
    "\n",
    "где $P$ - обратимая матрица (в т.ч. квадратная). Обратимая матрица - это такая матрица, при умножении которой на ей обратную, получаем единичную матрицу:\n",
    "\n",
    "$$PP^{-1} = E$$"
   ]
  },
  {
   "cell_type": "markdown",
   "metadata": {},
   "source": [
    "Пусть предсказания для матрицы $X'$ вычисляются с такими значениями:\n",
    "\n",
    "$$a' = X'w'$$\n",
    "\n",
    "где $a'$ - предсказание по $X'$, $w'$ - вектор, на основе $X'$:\n",
    "\n",
    "$$w' = ((X')^T X')^{-1} (X')^T y$$"
   ]
  },
  {
   "cell_type": "markdown",
   "metadata": {},
   "source": [
    "Подставим значение вектора в значение предсказания $a'$:\n",
    "\n",
    "$$a' = X' ((X')^T X')^{-1} (X')^T y$$"
   ]
  },
  {
   "cell_type": "markdown",
   "metadata": {},
   "source": [
    "Раскроем $X'$:\n",
    "\n",
    "$$a' = XP ((XP)^T XP)^{-1} (XP)^T y$$\n",
    "\n",
    "отсюда, раскрыв $(X P)^T$, получим\n",
    "\n",
    "$$a' = XP (P^T X^T X P)^{-1} P^T X^T y$$"
   ]
  },
  {
   "cell_type": "markdown",
   "metadata": {},
   "source": [
    "Произведение матрицы $X$ на нее же транспонированную $X^T$ даст обратимую матрицу, обозначим ее $A$\n",
    "\n",
    "$$a' = XP (P^T A P)^{-1} P^T X^T y$$\n",
    "\n",
    "Матрицу $A$ можем умножить на матрицу $P$, либо матрицу $P^T$ умножить на $A$, матрицы имеют одинаковые размерности. Пойдем по второму пути. Обозначим эту матрицу $B$.\n",
    "\n",
    "$$a' = XP (B P)^{-1} P^T X^T y$$\n"
   ]
  },
  {
   "cell_type": "markdown",
   "metadata": {},
   "source": [
    "Теперь, когда внутри скобки лежат обратимые матрицы, можем воспользоваться свойством матриц и раскрыть скобки:\n",
    "\n",
    "$$a' = XP P^{-1} B^{-1} P^T X^T y$$"
   ]
  },
  {
   "cell_type": "markdown",
   "metadata": {},
   "source": [
    "Где $P P^{-1} = E$. Умножение матрицы на единичную ничего не изменяет, следовательно $E$ можем сократить. Отсюда, раскрывая скобки, получим:"
   ]
  },
  {
   "cell_type": "markdown",
   "metadata": {},
   "source": [
    "$$a' = X B^{-1} P^T X^T y$$\n",
    "\n",
    "Раскроем $B$:\n",
    "\n",
    "$$a' = X A^{-1} (P^T)^{-1} P^T X^T y$$"
   ]
  },
  {
   "cell_type": "markdown",
   "metadata": {},
   "source": [
    "Так как справедливо то, что $((P)^T)^{-1} P^T = E$, получим:\n",
    "\n",
    "$$a' = X A^{-1} X^T y$$"
   ]
  },
  {
   "cell_type": "markdown",
   "metadata": {},
   "source": [
    "Если отобразить матрицу $A$ через исходные до замены, получим:\n",
    "\n",
    "$$a' = X(X^T X)^{-1} X^T y = a$$"
   ]
  },
  {
   "cell_type": "markdown",
   "metadata": {},
   "source": [
    "Отсюда можем сделать вывод о том, что если умножить признаки на обратимую матрицу, это никак не повлияет на качество линейной регрессии. Так как в конечном счете, после всех преобразований, обратимая матрица, на которую мы домножили признаки, просто сокращается."
   ]
  },
  {
   "cell_type": "markdown",
   "metadata": {},
   "source": [
    "### Проверка коэффициентов для линейной регрессии"
   ]
  },
  {
   "cell_type": "markdown",
   "metadata": {},
   "source": [
    "Согласно условию, в матрице признаков нулевой столбец состоит из единиц, вектор $y$ - это целевой признак, а $w$ - это вектор весов, в котором нулевой элемент - это сдвиг."
   ]
  },
  {
   "cell_type": "code",
   "execution_count": 8,
   "metadata": {},
   "outputs": [
    {
     "name": "stdout",
     "output_type": "stream",
     "text": [
      "Смещение и вектор весов: [-9.36500489e-01 -3.39317012e-03  3.58974211e-02 -2.44012518e-07\n",
      " -1.25896107e-02]\n"
     ]
    }
   ],
   "source": [
    "#создаем массив из тренировочных признаков, добавляем нулевым столбцом - единичный столбец. аналогично и для валидационного.\n",
    "X = np.concatenate( #\"склеиваем этим методом массивы\"\n",
    "    (np.ones((df_features_train.shape[0], 1)), #создается массив состоящий из 1, длиной в количество строк и с 1 столбцом\n",
    "    df_features_train), #второй массив - признаков, \n",
    "    axis=1) #применяем построчно\n",
    "y = df_target_train \n",
    "w = np.linalg.inv(X.T @ X) @ X.T @ y #формула для w, @ - умножение массивов, .Т - транспонирование\n",
    "print(\"Смещение и вектор весов:\", w)"
   ]
  },
  {
   "cell_type": "markdown",
   "metadata": {},
   "source": [
    "Полученный массив показывает смещение $w0$ (первое значение) и веса каждого признака для линейной регрессии.\n",
    "\n",
    "Их можно сравнить с коэффициентами линейной регрессии из библиотеки `sklearn`:"
   ]
  },
  {
   "cell_type": "code",
   "execution_count": 9,
   "metadata": {},
   "outputs": [
    {
     "name": "stdout",
     "output_type": "stream",
     "text": [
      "Вектор весов: [-3.39317012e-03  3.58974211e-02 -2.44012518e-07 -1.25896107e-02]\n"
     ]
    }
   ],
   "source": [
    "lin_reg_train = LinearRegression()\n",
    "lin_reg_train.fit(df_features_train, df_target_train) #обучаем на обучающей\n",
    "print(\"Вектор весов:\", lin_reg_train.coef_) #выводим коэффициенты для признаков"
   ]
  },
  {
   "cell_type": "markdown",
   "metadata": {},
   "source": [
    "Коэффициенты совпадают. Смещение в этом случае не выводится в массив, т.к. `coef_` показывает только коэффициенты для веса признаков."
   ]
  },
  {
   "cell_type": "markdown",
   "metadata": {},
   "source": [
    "## Алгоритм преобразования"
   ]
  },
  {
   "cell_type": "markdown",
   "metadata": {},
   "source": [
    "**Алгоритм**\n",
    "\n",
    "Как было рассмотрено выше, умножение матрицы признаков на **любую** обратимую матрицу с размерностью, равной количеству признаков, не меняет значение предсказания и не искажает линейную регрессию.\n",
    "\n",
    "- Создаем класс с функциями обучения и предсказания,\n",
    "- Генерируем квадратную обратимую матрицу,\n",
    "- Шифруем массив признаков умножением на сгенерированную матрицу,\n",
    "- Обучаем модель и предсказываем целевой признак,\n",
    "- Считаем необходимые метрики и сравниваем резельтаты."
   ]
  },
  {
   "cell_type": "markdown",
   "metadata": {},
   "source": [
    "**Обоснование**\n",
    "\n",
    "Если предсказание\n",
    "\n",
    "$$a=a'$$\n",
    "\n",
    "$$Xw = X'w'$$\n",
    "\n",
    "Тогда\n",
    "\n",
    "$$X ((X)^T X)^{-1} (X)^T y = XP ((XP)^T XP)^{-1} (XP)^T y$$\n",
    "\n",
    "Умножение на обратимую матрицу не искажает предсказания, т.к. после математических операций, сгенерированная матрица сокращается и не влияет на результат."
   ]
  },
  {
   "cell_type": "markdown",
   "metadata": {},
   "source": [
    "## Проверка алгоритма"
   ]
  },
  {
   "cell_type": "markdown",
   "metadata": {},
   "source": [
    "### Создание класса"
   ]
  },
  {
   "cell_type": "code",
   "execution_count": 10,
   "metadata": {},
   "outputs": [],
   "source": [
    "class LinearRegressionFunc: #создаем класс\n",
    "    def fit(self, train_features, train_target): #создаем функцию с двумя аргументами (и self для класса)\n",
    "        X = np.concatenate((np.ones((train_features.shape[0], 1)), train_features), axis=1)\n",
    "        y = train_target\n",
    "        w = np.linalg.inv(X.T @ X) @ X.T @ y\n",
    "        self.w = w[1:] #значения вектора весов начинаются с первого w, присваиваем значение\n",
    "        self.w0 = w[0] #смещение - нулевое значение w, присваиваем значение\n",
    "\n",
    "    def predict(self, test_features): #функция предсказания, в аргументе - признаки\n",
    "        return test_features.dot(self.w) + self.w0 #возвращаем матрица признаков*вектор весов + смещение"
   ]
  },
  {
   "cell_type": "markdown",
   "metadata": {},
   "source": [
    "### Создание шифрующей матрицы"
   ]
  },
  {
   "cell_type": "markdown",
   "metadata": {},
   "source": [
    "Матрица должна быть обратимой, а ее размерность должна быть равной количеству признаков."
   ]
  },
  {
   "cell_type": "markdown",
   "metadata": {},
   "source": [
    "Введем рандомную обратимую матрицу со стороной 4х4."
   ]
  },
  {
   "cell_type": "code",
   "execution_count": 11,
   "metadata": {},
   "outputs": [
    {
     "data": {
      "text/plain": [
       "array([[79, 34, 68, 39],\n",
       "       [69, 18, 75, 19],\n",
       "       [45, 88, 70, 69],\n",
       "       [29, 81, 95, 16]])"
      ]
     },
     "execution_count": 11,
     "metadata": {},
     "output_type": "execute_result"
    }
   ],
   "source": [
    "P = np.random.randint (0, 100, (4, 4))\n",
    "P"
   ]
  },
  {
   "cell_type": "markdown",
   "metadata": {},
   "source": [
    "Так как необратимых матриц крайне мало, можем создать обычную квадратную матрицу, и проверить существование для нее обратной. Запись выше каждый раз генерирует новую матрицу, запись ниже - обратную ей. Их произведение дает нам единичную матрицу."
   ]
  },
  {
   "cell_type": "code",
   "execution_count": 12,
   "metadata": {},
   "outputs": [
    {
     "data": {
      "text/plain": [
       "array([[ 0.07375234, -0.05649901, -0.02922318,  0.0133462 ],\n",
       "       [ 0.06530352, -0.07039354, -0.02360832,  0.02622588],\n",
       "       [-0.06761928,  0.06746838,  0.02210511, -0.010625  ],\n",
       "       [-0.06278574,  0.05817827,  0.04123504, -0.03137256]])"
      ]
     },
     "execution_count": 12,
     "metadata": {},
     "output_type": "execute_result"
    }
   ],
   "source": [
    "P_inv = LA.inv(P)\n",
    "P_inv"
   ]
  },
  {
   "cell_type": "code",
   "execution_count": 13,
   "metadata": {},
   "outputs": [
    {
     "data": {
      "text/plain": [
       "array([[ 1., -0., -0.,  0.],\n",
       "       [-0.,  1.,  0., -0.],\n",
       "       [-0.,  0.,  1., -0.],\n",
       "       [ 0., -0., -0.,  1.]])"
      ]
     },
     "execution_count": 13,
     "metadata": {},
     "output_type": "execute_result"
    }
   ],
   "source": [
    "np.dot(P, P_inv).round(5)"
   ]
  },
  {
   "cell_type": "markdown",
   "metadata": {},
   "source": [
    "Получили единичную матрицу. В главной диаголали единицы, кроме них нули (-0 возникает из-за особенностей округления при работе с числами float). Если ошибки не возникает - матрица обратимая."
   ]
  },
  {
   "cell_type": "markdown",
   "metadata": {},
   "source": [
    "### Значение метрики $r2$ без шифрования"
   ]
  },
  {
   "cell_type": "markdown",
   "metadata": {},
   "source": [
    "Найдем значение метрики $r2$ для данных, без изменений."
   ]
  },
  {
   "cell_type": "markdown",
   "metadata": {},
   "source": [
    "Для стандартной функции, с предсказанием на основе встроенных библиотек:"
   ]
  },
  {
   "cell_type": "code",
   "execution_count": 14,
   "metadata": {},
   "outputs": [
    {
     "name": "stdout",
     "output_type": "stream",
     "text": [
      "R2 = 0.421836437073455\n"
     ]
    }
   ],
   "source": [
    "lin_orig = LinearRegression()\n",
    "lin_orig.fit(df_features_train, df_target_train)\n",
    "prediction_lin_orig = lin_orig.predict(df_features_valid) #предсказываем на валидационной\n",
    "lin_orig_r2 = r2_score(df_target_valid, prediction_lin_orig) #считаем метрику r2\n",
    "print(\"R2 =\", lin_orig_r2)"
   ]
  },
  {
   "cell_type": "markdown",
   "metadata": {},
   "source": [
    "Для созданного класса и предсказаний в нем, согласно расчетов выше:"
   ]
  },
  {
   "cell_type": "code",
   "execution_count": 15,
   "metadata": {},
   "outputs": [
    {
     "name": "stdout",
     "output_type": "stream",
     "text": [
      "R2 = 0.42183643707345175\n"
     ]
    }
   ],
   "source": [
    "lin_func = LinearRegressionFunc()\n",
    "lin_func.fit(df_features_train, df_target_train) #обучение\n",
    "predictions_lin_func = lin_func.predict(df_features_valid) #предсказание с помощью функции класса на основе валидационных признаков\n",
    "lin_func_r2 = r2_score(df_target_valid, predictions_lin_func)\n",
    "print(\"R2 =\", lin_func_r2) #метрика r2 на основе предиктов класса"
   ]
  },
  {
   "cell_type": "markdown",
   "metadata": {},
   "source": [
    "Мы получили значение метрики $r2$ для данных без шифрования. \n",
    "\n",
    "Метрика $r2$ для обоих вариантов одинакова, с точностью до 14 знаков после запятой."
   ]
  },
  {
   "cell_type": "markdown",
   "metadata": {},
   "source": [
    "### MSE без шифрования"
   ]
  },
  {
   "cell_type": "markdown",
   "metadata": {},
   "source": [
    "Сверим значения метрик MSE."
   ]
  },
  {
   "cell_type": "code",
   "execution_count": 16,
   "metadata": {},
   "outputs": [
    {
     "name": "stdout",
     "output_type": "stream",
     "text": [
      "MSE_stand 0.12668312963698153\n",
      "MSE_class 0.12668312963698225\n"
     ]
    }
   ],
   "source": [
    "mse_orig = mean_squared_error(df_target_valid, prediction_lin_orig) #считаем метрику MSE\n",
    "mse_func = mean_squared_error(df_target_valid, predictions_lin_func)\n",
    "\n",
    "print('MSE_stand', mse_orig)\n",
    "print('MSE_class', mse_func)"
   ]
  },
  {
   "cell_type": "markdown",
   "metadata": {},
   "source": [
    "Аналогичная ситуация для $MSE$. Стандартная LinearRegression() и класс LinearRegressionFunc(), предсказывают одинаково точно."
   ]
  },
  {
   "cell_type": "markdown",
   "metadata": {},
   "source": [
    "### Шифрование признаков"
   ]
  },
  {
   "cell_type": "code",
   "execution_count": 17,
   "metadata": {},
   "outputs": [],
   "source": [
    "class LinearRegressionFunc_P:\n",
    "    def fit(self, train_features, train_target):\n",
    "        X = np.concatenate((np.ones((train_features.shape[0], 1)), train_features), axis=1)\n",
    "        y = train_target\n",
    "        w = np.linalg.inv(X.T @ X) @ X.T @ y\n",
    "        self.w = w[1:]\n",
    "        self.w0 = w[0]\n",
    "        print(\"Смещение и вектор весов:\", w)\n",
    "\n",
    "    def predict(self, test_features):\n",
    "        return test_features.dot(self.w) + self.w0\n",
    "\n",
    "df_features_train_P = df_features_train @ P #получаем зашифрованные матрицы: умножаем матрицы признаков на обратимую рандомную\n",
    "df_features_valid_P = df_features_valid @ P"
   ]
  },
  {
   "cell_type": "markdown",
   "metadata": {},
   "source": [
    "### Значение метрики $r2$ после шифрования признаков"
   ]
  },
  {
   "cell_type": "code",
   "execution_count": 18,
   "metadata": {},
   "outputs": [
    {
     "name": "stdout",
     "output_type": "stream",
     "text": [
      "Смещение и вектор весов: [-0.93651437 -0.00244633 -0.0030786   0.00278504  0.00269635]\n",
      "R2 = 0.42183668399350527\n",
      "MSE_class_P 0.12668307553359842\n"
     ]
    }
   ],
   "source": [
    "lin_func_P = LinearRegressionFunc_P()\n",
    "lin_func_P.fit(df_features_train_P, df_target_train)\n",
    "predictions_lin_func_P = lin_func_P.predict(df_features_valid_P)\n",
    "lin_func_P_r2 = r2_score(df_target_valid, predictions_lin_func_P)\n",
    "mse_func_P = mean_squared_error(df_target_valid, predictions_lin_func_P)\n",
    "print(\"R2 =\", lin_func_P_r2)\n",
    "\n",
    "print('MSE_class_P', mse_func_P)"
   ]
  },
  {
   "cell_type": "markdown",
   "metadata": {},
   "source": [
    "Если провести генерацию матрицы и дальнейший расчет несколько раз, можем увидеть, что смещение - нулевой элемент вектора $w$ не изменяется, в то время как все коэффициенты изменяются.\n",
    "\n",
    "При этом, значение метрики $r2$, а также и $MSE$ не изменяется (есть изменение значения в пределах погрешности, связано с работой python с числами float)."
   ]
  },
  {
   "cell_type": "markdown",
   "metadata": {},
   "source": [
    "### Матрицы: исходная, закодированная и декодированная"
   ]
  },
  {
   "cell_type": "markdown",
   "metadata": {},
   "source": [
    "Посмотрим на содержание исходной матрицы"
   ]
  },
  {
   "cell_type": "code",
   "execution_count": 19,
   "metadata": {},
   "outputs": [
    {
     "data": {
      "text/html": [
       "<div>\n",
       "<style scoped>\n",
       "    .dataframe tbody tr th:only-of-type {\n",
       "        vertical-align: middle;\n",
       "    }\n",
       "\n",
       "    .dataframe tbody tr th {\n",
       "        vertical-align: top;\n",
       "    }\n",
       "\n",
       "    .dataframe thead th {\n",
       "        text-align: right;\n",
       "    }\n",
       "</style>\n",
       "<table border=\"1\" class=\"dataframe\">\n",
       "  <thead>\n",
       "    <tr style=\"text-align: right;\">\n",
       "      <th></th>\n",
       "      <th>Пол</th>\n",
       "      <th>Возраст</th>\n",
       "      <th>Зарплата</th>\n",
       "      <th>Члены семьи</th>\n",
       "    </tr>\n",
       "  </thead>\n",
       "  <tbody>\n",
       "    <tr>\n",
       "      <th>789</th>\n",
       "      <td>0</td>\n",
       "      <td>29.0</td>\n",
       "      <td>40200.0</td>\n",
       "      <td>0</td>\n",
       "    </tr>\n",
       "    <tr>\n",
       "      <th>2507</th>\n",
       "      <td>1</td>\n",
       "      <td>39.0</td>\n",
       "      <td>54200.0</td>\n",
       "      <td>0</td>\n",
       "    </tr>\n",
       "    <tr>\n",
       "      <th>2376</th>\n",
       "      <td>0</td>\n",
       "      <td>31.0</td>\n",
       "      <td>28300.0</td>\n",
       "      <td>1</td>\n",
       "    </tr>\n",
       "    <tr>\n",
       "      <th>1378</th>\n",
       "      <td>0</td>\n",
       "      <td>36.0</td>\n",
       "      <td>26400.0</td>\n",
       "      <td>0</td>\n",
       "    </tr>\n",
       "    <tr>\n",
       "      <th>598</th>\n",
       "      <td>1</td>\n",
       "      <td>26.0</td>\n",
       "      <td>42900.0</td>\n",
       "      <td>2</td>\n",
       "    </tr>\n",
       "    <tr>\n",
       "      <th>...</th>\n",
       "      <td>...</td>\n",
       "      <td>...</td>\n",
       "      <td>...</td>\n",
       "      <td>...</td>\n",
       "    </tr>\n",
       "    <tr>\n",
       "      <th>2987</th>\n",
       "      <td>1</td>\n",
       "      <td>23.0</td>\n",
       "      <td>49900.0</td>\n",
       "      <td>1</td>\n",
       "    </tr>\n",
       "    <tr>\n",
       "      <th>3016</th>\n",
       "      <td>1</td>\n",
       "      <td>22.0</td>\n",
       "      <td>40500.0</td>\n",
       "      <td>0</td>\n",
       "    </tr>\n",
       "    <tr>\n",
       "      <th>2167</th>\n",
       "      <td>1</td>\n",
       "      <td>39.0</td>\n",
       "      <td>23900.0</td>\n",
       "      <td>0</td>\n",
       "    </tr>\n",
       "    <tr>\n",
       "      <th>1079</th>\n",
       "      <td>0</td>\n",
       "      <td>21.0</td>\n",
       "      <td>21200.0</td>\n",
       "      <td>1</td>\n",
       "    </tr>\n",
       "    <tr>\n",
       "      <th>255</th>\n",
       "      <td>0</td>\n",
       "      <td>23.0</td>\n",
       "      <td>42800.0</td>\n",
       "      <td>0</td>\n",
       "    </tr>\n",
       "  </tbody>\n",
       "</table>\n",
       "<p>1250 rows × 4 columns</p>\n",
       "</div>"
      ],
      "text/plain": [
       "      Пол  Возраст  Зарплата  Члены семьи\n",
       "789     0     29.0   40200.0            0\n",
       "2507    1     39.0   54200.0            0\n",
       "2376    0     31.0   28300.0            1\n",
       "1378    0     36.0   26400.0            0\n",
       "598     1     26.0   42900.0            2\n",
       "...   ...      ...       ...          ...\n",
       "2987    1     23.0   49900.0            1\n",
       "3016    1     22.0   40500.0            0\n",
       "2167    1     39.0   23900.0            0\n",
       "1079    0     21.0   21200.0            1\n",
       "255     0     23.0   42800.0            0\n",
       "\n",
       "[1250 rows x 4 columns]"
      ]
     },
     "execution_count": 19,
     "metadata": {},
     "output_type": "execute_result"
    }
   ],
   "source": [
    "df_features_valid"
   ]
  },
  {
   "cell_type": "markdown",
   "metadata": {},
   "source": [
    "Это закодированные данные"
   ]
  },
  {
   "cell_type": "code",
   "execution_count": 20,
   "metadata": {},
   "outputs": [
    {
     "data": {
      "text/html": [
       "<div>\n",
       "<style scoped>\n",
       "    .dataframe tbody tr th:only-of-type {\n",
       "        vertical-align: middle;\n",
       "    }\n",
       "\n",
       "    .dataframe tbody tr th {\n",
       "        vertical-align: top;\n",
       "    }\n",
       "\n",
       "    .dataframe thead th {\n",
       "        text-align: right;\n",
       "    }\n",
       "</style>\n",
       "<table border=\"1\" class=\"dataframe\">\n",
       "  <thead>\n",
       "    <tr style=\"text-align: right;\">\n",
       "      <th></th>\n",
       "      <th>0</th>\n",
       "      <th>1</th>\n",
       "      <th>2</th>\n",
       "      <th>3</th>\n",
       "    </tr>\n",
       "  </thead>\n",
       "  <tbody>\n",
       "    <tr>\n",
       "      <th>789</th>\n",
       "      <td>1811001.0</td>\n",
       "      <td>3538122.0</td>\n",
       "      <td>2816175.0</td>\n",
       "      <td>2774351.0</td>\n",
       "    </tr>\n",
       "    <tr>\n",
       "      <th>2507</th>\n",
       "      <td>2441770.0</td>\n",
       "      <td>4770336.0</td>\n",
       "      <td>3796993.0</td>\n",
       "      <td>3740580.0</td>\n",
       "    </tr>\n",
       "    <tr>\n",
       "      <th>2376</th>\n",
       "      <td>1275668.0</td>\n",
       "      <td>2491039.0</td>\n",
       "      <td>1983420.0</td>\n",
       "      <td>1953305.0</td>\n",
       "    </tr>\n",
       "    <tr>\n",
       "      <th>1378</th>\n",
       "      <td>1190484.0</td>\n",
       "      <td>2323848.0</td>\n",
       "      <td>1850700.0</td>\n",
       "      <td>1822284.0</td>\n",
       "    </tr>\n",
       "    <tr>\n",
       "      <th>598</th>\n",
       "      <td>1932431.0</td>\n",
       "      <td>3775864.0</td>\n",
       "      <td>3005208.0</td>\n",
       "      <td>2960665.0</td>\n",
       "    </tr>\n",
       "    <tr>\n",
       "      <th>...</th>\n",
       "      <td>...</td>\n",
       "      <td>...</td>\n",
       "      <td>...</td>\n",
       "      <td>...</td>\n",
       "    </tr>\n",
       "    <tr>\n",
       "      <th>2987</th>\n",
       "      <td>2247195.0</td>\n",
       "      <td>4391729.0</td>\n",
       "      <td>3494888.0</td>\n",
       "      <td>3443592.0</td>\n",
       "    </tr>\n",
       "    <tr>\n",
       "      <th>3016</th>\n",
       "      <td>1824097.0</td>\n",
       "      <td>3564430.0</td>\n",
       "      <td>2836718.0</td>\n",
       "      <td>2794957.0</td>\n",
       "    </tr>\n",
       "    <tr>\n",
       "      <th>2167</th>\n",
       "      <td>1078270.0</td>\n",
       "      <td>2103936.0</td>\n",
       "      <td>1675993.0</td>\n",
       "      <td>1649880.0</td>\n",
       "    </tr>\n",
       "    <tr>\n",
       "      <th>1079</th>\n",
       "      <td>955478.0</td>\n",
       "      <td>1866059.0</td>\n",
       "      <td>1485670.0</td>\n",
       "      <td>1463215.0</td>\n",
       "    </tr>\n",
       "    <tr>\n",
       "      <th>255</th>\n",
       "      <td>1927587.0</td>\n",
       "      <td>3766814.0</td>\n",
       "      <td>2997725.0</td>\n",
       "      <td>2953637.0</td>\n",
       "    </tr>\n",
       "  </tbody>\n",
       "</table>\n",
       "<p>1250 rows × 4 columns</p>\n",
       "</div>"
      ],
      "text/plain": [
       "              0          1          2          3\n",
       "789   1811001.0  3538122.0  2816175.0  2774351.0\n",
       "2507  2441770.0  4770336.0  3796993.0  3740580.0\n",
       "2376  1275668.0  2491039.0  1983420.0  1953305.0\n",
       "1378  1190484.0  2323848.0  1850700.0  1822284.0\n",
       "598   1932431.0  3775864.0  3005208.0  2960665.0\n",
       "...         ...        ...        ...        ...\n",
       "2987  2247195.0  4391729.0  3494888.0  3443592.0\n",
       "3016  1824097.0  3564430.0  2836718.0  2794957.0\n",
       "2167  1078270.0  2103936.0  1675993.0  1649880.0\n",
       "1079   955478.0  1866059.0  1485670.0  1463215.0\n",
       "255   1927587.0  3766814.0  2997725.0  2953637.0\n",
       "\n",
       "[1250 rows x 4 columns]"
      ]
     },
     "execution_count": 20,
     "metadata": {},
     "output_type": "execute_result"
    }
   ],
   "source": [
    "df_features_valid_P"
   ]
  },
  {
   "cell_type": "markdown",
   "metadata": {},
   "source": [
    "Чтобы декодировать данные, нам нужен ключ - обратная матрица Р (либо сама матрица P, через которую мы получим обратную)."
   ]
  },
  {
   "cell_type": "code",
   "execution_count": 26,
   "metadata": {},
   "outputs": [
    {
     "data": {
      "text/html": [
       "<div>\n",
       "<style scoped>\n",
       "    .dataframe tbody tr th:only-of-type {\n",
       "        vertical-align: middle;\n",
       "    }\n",
       "\n",
       "    .dataframe tbody tr th {\n",
       "        vertical-align: top;\n",
       "    }\n",
       "\n",
       "    .dataframe thead th {\n",
       "        text-align: right;\n",
       "    }\n",
       "</style>\n",
       "<table border=\"1\" class=\"dataframe\">\n",
       "  <thead>\n",
       "    <tr style=\"text-align: right;\">\n",
       "      <th></th>\n",
       "      <th>0</th>\n",
       "      <th>1</th>\n",
       "      <th>2</th>\n",
       "      <th>3</th>\n",
       "    </tr>\n",
       "  </thead>\n",
       "  <tbody>\n",
       "    <tr>\n",
       "      <th>789</th>\n",
       "      <td>-0.0</td>\n",
       "      <td>29.0</td>\n",
       "      <td>40200.0</td>\n",
       "      <td>-0.0</td>\n",
       "    </tr>\n",
       "    <tr>\n",
       "      <th>2507</th>\n",
       "      <td>1.0</td>\n",
       "      <td>39.0</td>\n",
       "      <td>54200.0</td>\n",
       "      <td>0.0</td>\n",
       "    </tr>\n",
       "    <tr>\n",
       "      <th>2376</th>\n",
       "      <td>-0.0</td>\n",
       "      <td>31.0</td>\n",
       "      <td>28300.0</td>\n",
       "      <td>1.0</td>\n",
       "    </tr>\n",
       "    <tr>\n",
       "      <th>1378</th>\n",
       "      <td>-0.0</td>\n",
       "      <td>36.0</td>\n",
       "      <td>26400.0</td>\n",
       "      <td>-0.0</td>\n",
       "    </tr>\n",
       "    <tr>\n",
       "      <th>598</th>\n",
       "      <td>1.0</td>\n",
       "      <td>26.0</td>\n",
       "      <td>42900.0</td>\n",
       "      <td>2.0</td>\n",
       "    </tr>\n",
       "    <tr>\n",
       "      <th>...</th>\n",
       "      <td>...</td>\n",
       "      <td>...</td>\n",
       "      <td>...</td>\n",
       "      <td>...</td>\n",
       "    </tr>\n",
       "    <tr>\n",
       "      <th>2987</th>\n",
       "      <td>1.0</td>\n",
       "      <td>23.0</td>\n",
       "      <td>49900.0</td>\n",
       "      <td>1.0</td>\n",
       "    </tr>\n",
       "    <tr>\n",
       "      <th>3016</th>\n",
       "      <td>1.0</td>\n",
       "      <td>22.0</td>\n",
       "      <td>40500.0</td>\n",
       "      <td>-0.0</td>\n",
       "    </tr>\n",
       "    <tr>\n",
       "      <th>2167</th>\n",
       "      <td>1.0</td>\n",
       "      <td>39.0</td>\n",
       "      <td>23900.0</td>\n",
       "      <td>-0.0</td>\n",
       "    </tr>\n",
       "    <tr>\n",
       "      <th>1079</th>\n",
       "      <td>-0.0</td>\n",
       "      <td>21.0</td>\n",
       "      <td>21200.0</td>\n",
       "      <td>1.0</td>\n",
       "    </tr>\n",
       "    <tr>\n",
       "      <th>255</th>\n",
       "      <td>-0.0</td>\n",
       "      <td>23.0</td>\n",
       "      <td>42800.0</td>\n",
       "      <td>0.0</td>\n",
       "    </tr>\n",
       "  </tbody>\n",
       "</table>\n",
       "<p>1250 rows × 4 columns</p>\n",
       "</div>"
      ],
      "text/plain": [
       "        0     1        2    3\n",
       "789  -0.0  29.0  40200.0 -0.0\n",
       "2507  1.0  39.0  54200.0  0.0\n",
       "2376 -0.0  31.0  28300.0  1.0\n",
       "1378 -0.0  36.0  26400.0 -0.0\n",
       "598   1.0  26.0  42900.0  2.0\n",
       "...   ...   ...      ...  ...\n",
       "2987  1.0  23.0  49900.0  1.0\n",
       "3016  1.0  22.0  40500.0 -0.0\n",
       "2167  1.0  39.0  23900.0 -0.0\n",
       "1079 -0.0  21.0  21200.0  1.0\n",
       "255  -0.0  23.0  42800.0  0.0\n",
       "\n",
       "[1250 rows x 4 columns]"
      ]
     },
     "execution_count": 26,
     "metadata": {},
     "output_type": "execute_result"
    }
   ],
   "source": [
    "check = df_features_valid_P @ np.linalg.inv(P)\n",
    "check.round(5)"
   ]
  },
  {
   "cell_type": "markdown",
   "metadata": {},
   "source": [
    "## Выводы"
   ]
  },
  {
   "cell_type": "markdown",
   "metadata": {},
   "source": [
    "Соберем полученные значения в одну таблицу:"
   ]
  },
  {
   "cell_type": "code",
   "execution_count": 22,
   "metadata": {},
   "outputs": [
    {
     "data": {
      "text/html": [
       "<div>\n",
       "<style scoped>\n",
       "    .dataframe tbody tr th:only-of-type {\n",
       "        vertical-align: middle;\n",
       "    }\n",
       "\n",
       "    .dataframe tbody tr th {\n",
       "        vertical-align: top;\n",
       "    }\n",
       "\n",
       "    .dataframe thead th {\n",
       "        text-align: right;\n",
       "    }\n",
       "</style>\n",
       "<table border=\"1\" class=\"dataframe\">\n",
       "  <thead>\n",
       "    <tr style=\"text-align: right;\">\n",
       "      <th></th>\n",
       "      <th>R2</th>\n",
       "      <th>MSE</th>\n",
       "    </tr>\n",
       "  </thead>\n",
       "  <tbody>\n",
       "    <tr>\n",
       "      <th>Линейная регрессия стандарт</th>\n",
       "      <td>0.421836</td>\n",
       "      <td>0.126683</td>\n",
       "    </tr>\n",
       "    <tr>\n",
       "      <th>Линейная регрессия класс</th>\n",
       "      <td>0.421836</td>\n",
       "      <td>0.126683</td>\n",
       "    </tr>\n",
       "    <tr>\n",
       "      <th>Линейная регрессия класс шифр</th>\n",
       "      <td>0.421837</td>\n",
       "      <td>0.126683</td>\n",
       "    </tr>\n",
       "  </tbody>\n",
       "</table>\n",
       "</div>"
      ],
      "text/plain": [
       "                                     R2       MSE\n",
       "Линейная регрессия стандарт    0.421836  0.126683\n",
       "Линейная регрессия класс       0.421836  0.126683\n",
       "Линейная регрессия класс шифр  0.421837  0.126683"
      ]
     },
     "execution_count": 22,
     "metadata": {},
     "output_type": "execute_result"
    }
   ],
   "source": [
    "#собираем датасет из полученных данных\n",
    "resuls_table = pd.DataFrame(index=['Линейная регрессия стандарт', 'Линейная регрессия класс', 'Линейная регрессия класс шифр'], \\\n",
    "    columns=['R2','MSE'])\n",
    "\n",
    "resuls_table['R2'] = lin_orig_r2, lin_func_r2, lin_func_P_r2\n",
    "resuls_table['MSE'] = mse_orig, mse_func, mse_func_P\n",
    "resuls_table"
   ]
  },
  {
   "cell_type": "markdown",
   "metadata": {},
   "source": [
    "В проекте было рассмотрено шифрование данных пользователей, без влияния этого шифрования на итоговое значение метрики R2.\n",
    "\n",
    "Был дан ответ на вопрос: изменяется ли качество линейной регрессии после умножения признаков на обратимую матрицу. Ответ - нет. \n",
    "\n",
    "В работе приведены расчеты - обоснование такого ответа, а также выполнено шифрование таким методом, которое показало на практике, что такое взаимодействие матриц не сказывается на результатах обучения. "
   ]
  }
 ],
 "metadata": {
  "ExecuteTimeLog": [
   {
    "duration": 1882,
    "start_time": "2023-01-10T19:07:59.402Z"
   },
   {
    "duration": 104,
    "start_time": "2023-01-10T19:08:01.286Z"
   },
   {
    "duration": 15,
    "start_time": "2023-01-10T19:08:01.392Z"
   },
   {
    "duration": 605,
    "start_time": "2023-01-10T19:08:01.409Z"
   },
   {
    "duration": 36,
    "start_time": "2023-01-10T19:08:02.016Z"
   },
   {
    "duration": 6,
    "start_time": "2023-01-10T19:08:02.054Z"
   },
   {
    "duration": 35,
    "start_time": "2023-01-10T19:08:02.062Z"
   },
   {
    "duration": 17,
    "start_time": "2023-01-10T19:08:02.100Z"
   },
   {
    "duration": 145,
    "start_time": "2023-01-10T19:08:02.118Z"
   },
   {
    "duration": 22,
    "start_time": "2023-01-10T19:08:02.266Z"
   },
   {
    "duration": 18,
    "start_time": "2023-01-10T19:08:02.290Z"
   },
   {
    "duration": 45,
    "start_time": "2023-01-10T19:08:02.310Z"
   },
   {
    "duration": 95,
    "start_time": "2023-01-10T19:08:02.358Z"
   },
   {
    "duration": 95,
    "start_time": "2023-01-10T19:08:02.457Z"
   },
   {
    "duration": 10,
    "start_time": "2023-01-10T19:08:02.554Z"
   },
   {
    "duration": 87,
    "start_time": "2023-01-10T19:08:02.567Z"
   },
   {
    "duration": 9,
    "start_time": "2023-01-10T19:08:02.657Z"
   },
   {
    "duration": 13,
    "start_time": "2023-01-10T19:08:02.752Z"
   },
   {
    "duration": 183,
    "start_time": "2023-01-10T19:08:02.768Z"
   },
   {
    "duration": 6,
    "start_time": "2023-01-10T19:13:07.428Z"
   },
   {
    "duration": 118,
    "start_time": "2023-01-10T19:14:25.526Z"
   },
   {
    "duration": 18,
    "start_time": "2023-01-10T19:15:06.881Z"
   },
   {
    "duration": 24,
    "start_time": "2023-01-10T19:15:19.617Z"
   },
   {
    "duration": 14,
    "start_time": "2023-01-10T19:16:44.635Z"
   },
   {
    "duration": 19,
    "start_time": "2023-01-10T19:16:48.730Z"
   },
   {
    "duration": 18,
    "start_time": "2023-01-10T19:16:51.542Z"
   },
   {
    "duration": 8,
    "start_time": "2023-01-10T19:17:31.874Z"
   },
   {
    "duration": 19,
    "start_time": "2023-01-10T19:19:01.775Z"
   },
   {
    "duration": 22,
    "start_time": "2023-01-10T19:19:10.176Z"
   },
   {
    "duration": 14,
    "start_time": "2023-01-10T19:19:16.796Z"
   },
   {
    "duration": 6,
    "start_time": "2023-01-10T19:20:14.573Z"
   },
   {
    "duration": 6,
    "start_time": "2023-01-10T19:20:27.699Z"
   },
   {
    "duration": 6,
    "start_time": "2023-01-10T19:20:31.352Z"
   },
   {
    "duration": 13,
    "start_time": "2023-01-10T19:20:41.504Z"
   },
   {
    "duration": 21,
    "start_time": "2023-01-10T19:20:42.467Z"
   },
   {
    "duration": 6,
    "start_time": "2023-01-10T19:20:42.862Z"
   },
   {
    "duration": 6,
    "start_time": "2023-01-10T19:20:43.252Z"
   },
   {
    "duration": 18,
    "start_time": "2023-01-10T19:21:00.802Z"
   },
   {
    "duration": 21,
    "start_time": "2023-01-10T19:21:01.347Z"
   },
   {
    "duration": 6,
    "start_time": "2023-01-10T19:21:01.561Z"
   },
   {
    "duration": 6,
    "start_time": "2023-01-10T19:21:01.797Z"
   },
   {
    "duration": 297,
    "start_time": "2023-01-10T19:22:36.448Z"
   },
   {
    "duration": 14,
    "start_time": "2023-01-10T19:23:58.449Z"
   },
   {
    "duration": 17,
    "start_time": "2023-01-10T19:24:31.493Z"
   },
   {
    "duration": 27,
    "start_time": "2023-01-10T19:24:57.734Z"
   },
   {
    "duration": 20,
    "start_time": "2023-01-10T19:25:01.049Z"
   },
   {
    "duration": 20,
    "start_time": "2023-01-10T19:25:08.282Z"
   },
   {
    "duration": 93,
    "start_time": "2023-01-10T19:25:16.158Z"
   },
   {
    "duration": 18,
    "start_time": "2023-01-10T19:26:12.509Z"
   },
   {
    "duration": 20,
    "start_time": "2023-01-10T19:26:36.028Z"
   },
   {
    "duration": 20,
    "start_time": "2023-01-10T19:26:41.738Z"
   },
   {
    "duration": 18,
    "start_time": "2023-01-10T19:26:44.653Z"
   },
   {
    "duration": 52,
    "start_time": "2023-01-10T19:27:10.901Z"
   },
   {
    "duration": 51,
    "start_time": "2023-01-10T19:31:52.299Z"
   },
   {
    "duration": 1402,
    "start_time": "2023-01-10T19:33:31.395Z"
   },
   {
    "duration": 32,
    "start_time": "2023-01-10T19:33:32.799Z"
   },
   {
    "duration": 13,
    "start_time": "2023-01-10T19:33:32.832Z"
   },
   {
    "duration": 582,
    "start_time": "2023-01-10T19:33:32.847Z"
   },
   {
    "duration": 25,
    "start_time": "2023-01-10T19:33:33.431Z"
   },
   {
    "duration": 4,
    "start_time": "2023-01-10T19:33:33.457Z"
   },
   {
    "duration": 8,
    "start_time": "2023-01-10T19:33:33.463Z"
   },
   {
    "duration": 7,
    "start_time": "2023-01-10T19:33:33.473Z"
   },
   {
    "duration": 73,
    "start_time": "2023-01-10T19:33:33.482Z"
   },
   {
    "duration": 94,
    "start_time": "2023-01-10T19:33:33.557Z"
   },
   {
    "duration": 8,
    "start_time": "2023-01-10T19:33:33.653Z"
   },
   {
    "duration": 29,
    "start_time": "2023-01-10T19:33:33.662Z"
   },
   {
    "duration": 6,
    "start_time": "2023-01-10T19:33:33.693Z"
   },
   {
    "duration": 60,
    "start_time": "2023-01-10T19:33:33.702Z"
   },
   {
    "duration": 91,
    "start_time": "2023-01-10T19:33:33.765Z"
   },
   {
    "duration": 94,
    "start_time": "2023-01-10T19:33:33.859Z"
   },
   {
    "duration": 10,
    "start_time": "2023-01-10T19:33:33.954Z"
   },
   {
    "duration": 12,
    "start_time": "2023-01-10T19:33:33.966Z"
   },
   {
    "duration": 174,
    "start_time": "2023-01-10T19:33:33.982Z"
   },
   {
    "duration": 35,
    "start_time": "2023-01-10T19:33:34.158Z"
   },
   {
    "duration": 59,
    "start_time": "2023-01-10T19:33:34.195Z"
   },
   {
    "duration": 95,
    "start_time": "2023-01-10T19:33:34.257Z"
   },
   {
    "duration": 17,
    "start_time": "2023-01-10T19:34:11.543Z"
   },
   {
    "duration": 17,
    "start_time": "2023-01-10T19:34:14.827Z"
   },
   {
    "duration": 20,
    "start_time": "2023-01-10T19:34:17.794Z"
   },
   {
    "duration": 17,
    "start_time": "2023-01-10T19:34:23.698Z"
   }
  ],
  "kernelspec": {
   "display_name": "Python 3 (ipykernel)",
   "language": "python",
   "name": "python3"
  },
  "language_info": {
   "codemirror_mode": {
    "name": "ipython",
    "version": 3
   },
   "file_extension": ".py",
   "mimetype": "text/x-python",
   "name": "python",
   "nbconvert_exporter": "python",
   "pygments_lexer": "ipython3",
   "version": "3.9.5"
  },
  "toc": {
   "base_numbering": 1,
   "nav_menu": {},
   "number_sections": true,
   "sideBar": true,
   "skip_h1_title": true,
   "title_cell": "Содержание",
   "title_sidebar": "Contents",
   "toc_cell": true,
   "toc_position": {},
   "toc_section_display": true,
   "toc_window_display": true
  },
  "vscode": {
   "interpreter": {
    "hash": "af7472ffbb6f11e94eca2dc243fc9b09d1dc0fb11170c3918ea151f7aad82d25"
   }
  }
 },
 "nbformat": 4,
 "nbformat_minor": 2
}
