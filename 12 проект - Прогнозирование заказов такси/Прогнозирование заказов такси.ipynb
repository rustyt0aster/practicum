{
 "cells": [
  {
   "cell_type": "markdown",
   "metadata": {
    "toc": true
   },
   "source": [
    "<h1>Содержание<span class=\"tocSkip\"></span></h1>\n",
    "<div class=\"toc\"><ul class=\"toc-item\"><li><span><a href=\"#Подготовка\" data-toc-modified-id=\"Подготовка-1\"><span class=\"toc-item-num\">1&nbsp;&nbsp;</span>Подготовка</a></span><ul class=\"toc-item\"><li><span><a href=\"#Импорт-библиотек\" data-toc-modified-id=\"Импорт-библиотек-1.1\"><span class=\"toc-item-num\">1.1&nbsp;&nbsp;</span>Импорт библиотек</a></span></li><li><span><a href=\"#Подготовка-констант\" data-toc-modified-id=\"Подготовка-констант-1.2\"><span class=\"toc-item-num\">1.2&nbsp;&nbsp;</span>Подготовка констант</a></span></li><li><span><a href=\"#Знакомство-с-данными\" data-toc-modified-id=\"Знакомство-с-данными-1.3\"><span class=\"toc-item-num\">1.3&nbsp;&nbsp;</span>Знакомство с данными</a></span></li><li><span><a href=\"#Подготовка-данных\" data-toc-modified-id=\"Подготовка-данных-1.4\"><span class=\"toc-item-num\">1.4&nbsp;&nbsp;</span>Подготовка данных</a></span></li><li><span><a href=\"#Ресемплирование\" data-toc-modified-id=\"Ресемплирование-1.5\"><span class=\"toc-item-num\">1.5&nbsp;&nbsp;</span>Ресемплирование</a></span></li><li><span><a href=\"#Описание-ряда\" data-toc-modified-id=\"Описание-ряда-1.6\"><span class=\"toc-item-num\">1.6&nbsp;&nbsp;</span>Описание ряда</a></span></li><li><span><a href=\"#Тренды-и-сезонность\" data-toc-modified-id=\"Тренды-и-сезонность-1.7\"><span class=\"toc-item-num\">1.7&nbsp;&nbsp;</span>Тренды и сезонность</a></span></li></ul></li><li><span><a href=\"#Анализ\" data-toc-modified-id=\"Анализ-2\"><span class=\"toc-item-num\">2&nbsp;&nbsp;</span>Анализ</a></span><ul class=\"toc-item\"><li><span><a href=\"#Создание-признаков\" data-toc-modified-id=\"Создание-признаков-2.1\"><span class=\"toc-item-num\">2.1&nbsp;&nbsp;</span>Создание признаков</a></span></li><li><span><a href=\"#Разбиение-данных\" data-toc-modified-id=\"Разбиение-данных-2.2\"><span class=\"toc-item-num\">2.2&nbsp;&nbsp;</span>Разбиение данных</a></span></li><li><span><a href=\"#Прогноз-по-предыдущему-значению\" data-toc-modified-id=\"Прогноз-по-предыдущему-значению-2.3\"><span class=\"toc-item-num\">2.3&nbsp;&nbsp;</span>Прогноз по предыдущему значению</a></span></li></ul></li><li><span><a href=\"#Обучение\" data-toc-modified-id=\"Обучение-3\"><span class=\"toc-item-num\">3&nbsp;&nbsp;</span>Обучение</a></span><ul class=\"toc-item\"><li><span><a href=\"#Линейная-регрессия\" data-toc-modified-id=\"Линейная-регрессия-3.1\"><span class=\"toc-item-num\">3.1&nbsp;&nbsp;</span>Линейная регрессия</a></span></li><li><span><a href=\"#Случайный-лес\" data-toc-modified-id=\"Случайный-лес-3.2\"><span class=\"toc-item-num\">3.2&nbsp;&nbsp;</span>Случайный лес</a></span></li><li><span><a href=\"#LightGBM\" data-toc-modified-id=\"LightGBM-3.3\"><span class=\"toc-item-num\">3.3&nbsp;&nbsp;</span>LightGBM</a></span></li></ul></li><li><span><a href=\"#Тестирование\" data-toc-modified-id=\"Тестирование-4\"><span class=\"toc-item-num\">4&nbsp;&nbsp;</span>Тестирование</a></span></li><li><span><a href=\"#Выводы\" data-toc-modified-id=\"Выводы-5\"><span class=\"toc-item-num\">5&nbsp;&nbsp;</span>Выводы</a></span></li></ul></div>"
   ]
  },
  {
   "cell_type": "markdown",
   "metadata": {},
   "source": [
    "#  Прогнозирование заказов такси"
   ]
  },
  {
   "cell_type": "markdown",
   "metadata": {},
   "source": [
    "Компания «Чётенькое такси» собрала исторические данные о заказах такси в аэропортах. Чтобы привлекать больше водителей в период пиковой нагрузки, нужно спрогнозировать количество заказов такси на следующий час. Постройте модель для такого предсказания.\n",
    "\n",
    "Значение метрики *RMSE* на тестовой выборке должно быть не больше 48.\n",
    "\n",
    "Вам нужно:\n",
    "\n",
    "1. Загрузить данные и выполнить их ресемплирование по одному часу.\n",
    "2. Проанализировать данные.\n",
    "3. Обучить разные модели с различными гиперпараметрами. Сделать тестовую выборку размером 10% от исходных данных.\n",
    "4. Проверить данные на тестовой выборке и сделать выводы.\n",
    "\n",
    "\n",
    "Данные лежат в файле `taxi.csv`. Количество заказов находится в столбце `num_orders` (от англ. *number of orders*, «число заказов»)."
   ]
  },
  {
   "cell_type": "markdown",
   "metadata": {},
   "source": [
    "## Подготовка"
   ]
  },
  {
   "cell_type": "markdown",
   "metadata": {},
   "source": [
    "### Импорт библиотек"
   ]
  },
  {
   "cell_type": "code",
   "execution_count": 1,
   "metadata": {},
   "outputs": [],
   "source": [
    "import pandas as pd\n",
    "import numpy as np\n",
    "import matplotlib.pyplot as plt\n",
    "import lightgbm as lgb"
   ]
  },
  {
   "cell_type": "code",
   "execution_count": 2,
   "metadata": {},
   "outputs": [],
   "source": [
    "from sklearn.ensemble import RandomForestRegressor\n",
    "from sklearn.linear_model import LinearRegression\n",
    "from sklearn.metrics import mean_squared_error\n",
    "\n",
    "from sklearn.model_selection import train_test_split\n",
    "from sklearn.model_selection import cross_val_score\n",
    "from sklearn.model_selection import RandomizedSearchCV\n",
    "from sklearn.model_selection import TimeSeriesSplit\n",
    "\n",
    "from statsmodels.tsa.seasonal import seasonal_decompose\n",
    "from statsmodels.tsa.stattools import adfuller"
   ]
  },
  {
   "cell_type": "code",
   "execution_count": 3,
   "metadata": {},
   "outputs": [
    {
     "data": {
      "text/plain": [
       "(26496, 1)"
      ]
     },
     "metadata": {},
     "output_type": "display_data"
    }
   ],
   "source": [
    "try:\n",
    "    df = pd.read_csv('/datasets/taxi.csv', index_col=[0], parse_dates=[0])\n",
    "except:\n",
    "    df = pd.read_csv(r'E:\\Practicum\\2_Projects_Git\\12_forecasting_taxi_orders\\taxi.csv', index_col=[0], parse_dates=[0])\n",
    "\n",
    "display(df.shape);"
   ]
  },
  {
   "cell_type": "markdown",
   "metadata": {},
   "source": [
    "### Подготовка констант"
   ]
  },
  {
   "cell_type": "code",
   "execution_count": 4,
   "metadata": {},
   "outputs": [],
   "source": [
    "RANDOM_STATE = 1"
   ]
  },
  {
   "cell_type": "markdown",
   "metadata": {},
   "source": [
    "### Знакомство с данными"
   ]
  },
  {
   "cell_type": "code",
   "execution_count": 5,
   "metadata": {},
   "outputs": [
    {
     "data": {
      "text/html": [
       "<div>\n",
       "<style scoped>\n",
       "    .dataframe tbody tr th:only-of-type {\n",
       "        vertical-align: middle;\n",
       "    }\n",
       "\n",
       "    .dataframe tbody tr th {\n",
       "        vertical-align: top;\n",
       "    }\n",
       "\n",
       "    .dataframe thead th {\n",
       "        text-align: right;\n",
       "    }\n",
       "</style>\n",
       "<table border=\"1\" class=\"dataframe\">\n",
       "  <thead>\n",
       "    <tr style=\"text-align: right;\">\n",
       "      <th></th>\n",
       "      <th>num_orders</th>\n",
       "    </tr>\n",
       "    <tr>\n",
       "      <th>datetime</th>\n",
       "      <th></th>\n",
       "    </tr>\n",
       "  </thead>\n",
       "  <tbody>\n",
       "    <tr>\n",
       "      <th>2018-03-01 00:00:00</th>\n",
       "      <td>9</td>\n",
       "    </tr>\n",
       "    <tr>\n",
       "      <th>2018-03-01 00:10:00</th>\n",
       "      <td>14</td>\n",
       "    </tr>\n",
       "    <tr>\n",
       "      <th>2018-03-01 00:20:00</th>\n",
       "      <td>28</td>\n",
       "    </tr>\n",
       "    <tr>\n",
       "      <th>2018-03-01 00:30:00</th>\n",
       "      <td>20</td>\n",
       "    </tr>\n",
       "    <tr>\n",
       "      <th>2018-03-01 00:40:00</th>\n",
       "      <td>32</td>\n",
       "    </tr>\n",
       "  </tbody>\n",
       "</table>\n",
       "</div>"
      ],
      "text/plain": [
       "                     num_orders\n",
       "datetime                       \n",
       "2018-03-01 00:00:00           9\n",
       "2018-03-01 00:10:00          14\n",
       "2018-03-01 00:20:00          28\n",
       "2018-03-01 00:30:00          20\n",
       "2018-03-01 00:40:00          32"
      ]
     },
     "execution_count": 5,
     "metadata": {},
     "output_type": "execute_result"
    }
   ],
   "source": [
    "df.head()"
   ]
  },
  {
   "cell_type": "code",
   "execution_count": 6,
   "metadata": {},
   "outputs": [
    {
     "name": "stdout",
     "output_type": "stream",
     "text": [
      "<class 'pandas.core.frame.DataFrame'>\n",
      "DatetimeIndex: 26496 entries, 2018-03-01 00:00:00 to 2018-08-31 23:50:00\n",
      "Data columns (total 1 columns):\n",
      " #   Column      Non-Null Count  Dtype\n",
      "---  ------      --------------  -----\n",
      " 0   num_orders  26496 non-null  int64\n",
      "dtypes: int64(1)\n",
      "memory usage: 414.0 KB\n"
     ]
    }
   ],
   "source": [
    "df.info()"
   ]
  },
  {
   "cell_type": "markdown",
   "metadata": {},
   "source": [
    "Датасет содержит 26496 строк, теперь уже 1 столбцец (т.к. даты были вынесены в индекс) и 0 нулевых значений."
   ]
  },
  {
   "cell_type": "markdown",
   "metadata": {},
   "source": [
    "### Подготовка данных"
   ]
  },
  {
   "cell_type": "code",
   "execution_count": 7,
   "metadata": {},
   "outputs": [
    {
     "data": {
      "text/html": [
       "<div>\n",
       "<style scoped>\n",
       "    .dataframe tbody tr th:only-of-type {\n",
       "        vertical-align: middle;\n",
       "    }\n",
       "\n",
       "    .dataframe tbody tr th {\n",
       "        vertical-align: top;\n",
       "    }\n",
       "\n",
       "    .dataframe thead th {\n",
       "        text-align: right;\n",
       "    }\n",
       "</style>\n",
       "<table border=\"1\" class=\"dataframe\">\n",
       "  <thead>\n",
       "    <tr style=\"text-align: right;\">\n",
       "      <th></th>\n",
       "      <th>num_orders</th>\n",
       "    </tr>\n",
       "    <tr>\n",
       "      <th>datetime</th>\n",
       "      <th></th>\n",
       "    </tr>\n",
       "  </thead>\n",
       "  <tbody>\n",
       "    <tr>\n",
       "      <th>2018-03-01 00:00:00</th>\n",
       "      <td>9</td>\n",
       "    </tr>\n",
       "    <tr>\n",
       "      <th>2018-03-01 00:10:00</th>\n",
       "      <td>14</td>\n",
       "    </tr>\n",
       "    <tr>\n",
       "      <th>2018-03-01 00:20:00</th>\n",
       "      <td>28</td>\n",
       "    </tr>\n",
       "    <tr>\n",
       "      <th>2018-03-01 00:30:00</th>\n",
       "      <td>20</td>\n",
       "    </tr>\n",
       "    <tr>\n",
       "      <th>2018-03-01 00:40:00</th>\n",
       "      <td>32</td>\n",
       "    </tr>\n",
       "    <tr>\n",
       "      <th>...</th>\n",
       "      <td>...</td>\n",
       "    </tr>\n",
       "    <tr>\n",
       "      <th>2018-08-31 23:10:00</th>\n",
       "      <td>32</td>\n",
       "    </tr>\n",
       "    <tr>\n",
       "      <th>2018-08-31 23:20:00</th>\n",
       "      <td>24</td>\n",
       "    </tr>\n",
       "    <tr>\n",
       "      <th>2018-08-31 23:30:00</th>\n",
       "      <td>27</td>\n",
       "    </tr>\n",
       "    <tr>\n",
       "      <th>2018-08-31 23:40:00</th>\n",
       "      <td>39</td>\n",
       "    </tr>\n",
       "    <tr>\n",
       "      <th>2018-08-31 23:50:00</th>\n",
       "      <td>53</td>\n",
       "    </tr>\n",
       "  </tbody>\n",
       "</table>\n",
       "<p>26496 rows × 1 columns</p>\n",
       "</div>"
      ],
      "text/plain": [
       "                     num_orders\n",
       "datetime                       \n",
       "2018-03-01 00:00:00           9\n",
       "2018-03-01 00:10:00          14\n",
       "2018-03-01 00:20:00          28\n",
       "2018-03-01 00:30:00          20\n",
       "2018-03-01 00:40:00          32\n",
       "...                         ...\n",
       "2018-08-31 23:10:00          32\n",
       "2018-08-31 23:20:00          24\n",
       "2018-08-31 23:30:00          27\n",
       "2018-08-31 23:40:00          39\n",
       "2018-08-31 23:50:00          53\n",
       "\n",
       "[26496 rows x 1 columns]"
      ]
     },
     "execution_count": 7,
     "metadata": {},
     "output_type": "execute_result"
    }
   ],
   "source": [
    "df"
   ]
  },
  {
   "cell_type": "markdown",
   "metadata": {},
   "source": [
    "Проверим, лежат ли данные упорядоченно по времени."
   ]
  },
  {
   "cell_type": "code",
   "execution_count": 8,
   "metadata": {},
   "outputs": [
    {
     "data": {
      "text/plain": [
       "True"
      ]
     },
     "execution_count": 8,
     "metadata": {},
     "output_type": "execute_result"
    }
   ],
   "source": [
    "df.index.is_monotonic"
   ]
  },
  {
   "cell_type": "markdown",
   "metadata": {},
   "source": [
    "### Ресемплирование"
   ]
  },
  {
   "cell_type": "code",
   "execution_count": 9,
   "metadata": {},
   "outputs": [
    {
     "data": {
      "text/html": [
       "<div>\n",
       "<style scoped>\n",
       "    .dataframe tbody tr th:only-of-type {\n",
       "        vertical-align: middle;\n",
       "    }\n",
       "\n",
       "    .dataframe tbody tr th {\n",
       "        vertical-align: top;\n",
       "    }\n",
       "\n",
       "    .dataframe thead th {\n",
       "        text-align: right;\n",
       "    }\n",
       "</style>\n",
       "<table border=\"1\" class=\"dataframe\">\n",
       "  <thead>\n",
       "    <tr style=\"text-align: right;\">\n",
       "      <th></th>\n",
       "      <th>num_orders</th>\n",
       "    </tr>\n",
       "    <tr>\n",
       "      <th>datetime</th>\n",
       "      <th></th>\n",
       "    </tr>\n",
       "  </thead>\n",
       "  <tbody>\n",
       "    <tr>\n",
       "      <th>2018-03-01 00:00:00</th>\n",
       "      <td>124</td>\n",
       "    </tr>\n",
       "    <tr>\n",
       "      <th>2018-03-01 01:00:00</th>\n",
       "      <td>85</td>\n",
       "    </tr>\n",
       "    <tr>\n",
       "      <th>2018-03-01 02:00:00</th>\n",
       "      <td>71</td>\n",
       "    </tr>\n",
       "    <tr>\n",
       "      <th>2018-03-01 03:00:00</th>\n",
       "      <td>66</td>\n",
       "    </tr>\n",
       "    <tr>\n",
       "      <th>2018-03-01 04:00:00</th>\n",
       "      <td>43</td>\n",
       "    </tr>\n",
       "    <tr>\n",
       "      <th>...</th>\n",
       "      <td>...</td>\n",
       "    </tr>\n",
       "    <tr>\n",
       "      <th>2018-08-31 19:00:00</th>\n",
       "      <td>136</td>\n",
       "    </tr>\n",
       "    <tr>\n",
       "      <th>2018-08-31 20:00:00</th>\n",
       "      <td>154</td>\n",
       "    </tr>\n",
       "    <tr>\n",
       "      <th>2018-08-31 21:00:00</th>\n",
       "      <td>159</td>\n",
       "    </tr>\n",
       "    <tr>\n",
       "      <th>2018-08-31 22:00:00</th>\n",
       "      <td>223</td>\n",
       "    </tr>\n",
       "    <tr>\n",
       "      <th>2018-08-31 23:00:00</th>\n",
       "      <td>205</td>\n",
       "    </tr>\n",
       "  </tbody>\n",
       "</table>\n",
       "<p>4416 rows × 1 columns</p>\n",
       "</div>"
      ],
      "text/plain": [
       "                     num_orders\n",
       "datetime                       \n",
       "2018-03-01 00:00:00         124\n",
       "2018-03-01 01:00:00          85\n",
       "2018-03-01 02:00:00          71\n",
       "2018-03-01 03:00:00          66\n",
       "2018-03-01 04:00:00          43\n",
       "...                         ...\n",
       "2018-08-31 19:00:00         136\n",
       "2018-08-31 20:00:00         154\n",
       "2018-08-31 21:00:00         159\n",
       "2018-08-31 22:00:00         223\n",
       "2018-08-31 23:00:00         205\n",
       "\n",
       "[4416 rows x 1 columns]"
      ]
     },
     "execution_count": 9,
     "metadata": {},
     "output_type": "execute_result"
    }
   ],
   "source": [
    "df = df.resample('1H').sum()\n",
    "df"
   ]
  },
  {
   "cell_type": "markdown",
   "metadata": {},
   "source": [
    "На выходе, после обработки данных имеем датасет из 4416 строк, с индексами - датами и временем, с интервалом в один час. Данные в столбце отражают количество заказов такси за каждый час."
   ]
  },
  {
   "cell_type": "markdown",
   "metadata": {},
   "source": [
    "### Описание ряда"
   ]
  },
  {
   "cell_type": "code",
   "execution_count": 10,
   "metadata": {},
   "outputs": [
    {
     "data": {
      "text/html": [
       "<div>\n",
       "<style scoped>\n",
       "    .dataframe tbody tr th:only-of-type {\n",
       "        vertical-align: middle;\n",
       "    }\n",
       "\n",
       "    .dataframe tbody tr th {\n",
       "        vertical-align: top;\n",
       "    }\n",
       "\n",
       "    .dataframe thead th {\n",
       "        text-align: right;\n",
       "    }\n",
       "</style>\n",
       "<table border=\"1\" class=\"dataframe\">\n",
       "  <thead>\n",
       "    <tr style=\"text-align: right;\">\n",
       "      <th></th>\n",
       "      <th>num_orders</th>\n",
       "      <th>rolling_mean</th>\n",
       "      <th>std</th>\n",
       "    </tr>\n",
       "    <tr>\n",
       "      <th>datetime</th>\n",
       "      <th></th>\n",
       "      <th></th>\n",
       "      <th></th>\n",
       "    </tr>\n",
       "  </thead>\n",
       "  <tbody>\n",
       "    <tr>\n",
       "      <th>2018-03-01 00:00:00</th>\n",
       "      <td>124</td>\n",
       "      <td>NaN</td>\n",
       "      <td>NaN</td>\n",
       "    </tr>\n",
       "    <tr>\n",
       "      <th>2018-03-01 01:00:00</th>\n",
       "      <td>85</td>\n",
       "      <td>NaN</td>\n",
       "      <td>NaN</td>\n",
       "    </tr>\n",
       "    <tr>\n",
       "      <th>2018-03-01 02:00:00</th>\n",
       "      <td>71</td>\n",
       "      <td>NaN</td>\n",
       "      <td>NaN</td>\n",
       "    </tr>\n",
       "    <tr>\n",
       "      <th>2018-03-01 03:00:00</th>\n",
       "      <td>66</td>\n",
       "      <td>NaN</td>\n",
       "      <td>NaN</td>\n",
       "    </tr>\n",
       "    <tr>\n",
       "      <th>2018-03-01 04:00:00</th>\n",
       "      <td>43</td>\n",
       "      <td>NaN</td>\n",
       "      <td>NaN</td>\n",
       "    </tr>\n",
       "    <tr>\n",
       "      <th>...</th>\n",
       "      <td>...</td>\n",
       "      <td>...</td>\n",
       "      <td>...</td>\n",
       "    </tr>\n",
       "    <tr>\n",
       "      <th>2018-08-31 19:00:00</th>\n",
       "      <td>136</td>\n",
       "      <td>156.74</td>\n",
       "      <td>58.703952</td>\n",
       "    </tr>\n",
       "    <tr>\n",
       "      <th>2018-08-31 20:00:00</th>\n",
       "      <td>154</td>\n",
       "      <td>156.63</td>\n",
       "      <td>58.698623</td>\n",
       "    </tr>\n",
       "    <tr>\n",
       "      <th>2018-08-31 21:00:00</th>\n",
       "      <td>159</td>\n",
       "      <td>156.40</td>\n",
       "      <td>58.643246</td>\n",
       "    </tr>\n",
       "    <tr>\n",
       "      <th>2018-08-31 22:00:00</th>\n",
       "      <td>223</td>\n",
       "      <td>157.52</td>\n",
       "      <td>58.836613</td>\n",
       "    </tr>\n",
       "    <tr>\n",
       "      <th>2018-08-31 23:00:00</th>\n",
       "      <td>205</td>\n",
       "      <td>158.05</td>\n",
       "      <td>59.024798</td>\n",
       "    </tr>\n",
       "  </tbody>\n",
       "</table>\n",
       "<p>4416 rows × 3 columns</p>\n",
       "</div>"
      ],
      "text/plain": [
       "                     num_orders  rolling_mean        std\n",
       "datetime                                                \n",
       "2018-03-01 00:00:00         124           NaN        NaN\n",
       "2018-03-01 01:00:00          85           NaN        NaN\n",
       "2018-03-01 02:00:00          71           NaN        NaN\n",
       "2018-03-01 03:00:00          66           NaN        NaN\n",
       "2018-03-01 04:00:00          43           NaN        NaN\n",
       "...                         ...           ...        ...\n",
       "2018-08-31 19:00:00         136        156.74  58.703952\n",
       "2018-08-31 20:00:00         154        156.63  58.698623\n",
       "2018-08-31 21:00:00         159        156.40  58.643246\n",
       "2018-08-31 22:00:00         223        157.52  58.836613\n",
       "2018-08-31 23:00:00         205        158.05  59.024798\n",
       "\n",
       "[4416 rows x 3 columns]"
      ]
     },
     "execution_count": 10,
     "metadata": {},
     "output_type": "execute_result"
    }
   ],
   "source": [
    "df1 = df.copy()\n",
    "df1['rolling_mean'] = df1.rolling(100).mean()\n",
    "df1['std'] =df1['num_orders'].rolling(100).std()\n",
    "df1"
   ]
  },
  {
   "cell_type": "code",
   "execution_count": 11,
   "metadata": {
    "scrolled": true
   },
   "outputs": [
    {
     "data": {
      "image/png": "[encoded data removed]",
      "text/plain": [
       "<Figure size 1400x800 with 1 Axes>"
      ]
     },
     "metadata": {},
     "output_type": "display_data"
    }
   ],
   "source": [
    "df1.plot(figsize=(14, 8));"
   ]
  },
  {
   "cell_type": "code",
   "execution_count": 12,
   "metadata": {},
   "outputs": [
    {
     "data": {
      "image/png": "[encoded data removed]",
      "text/plain": [
       "<Figure size 1400x800 with 1 Axes>"
      ]
     },
     "metadata": {},
     "output_type": "display_data"
    }
   ],
   "source": [
    "df2 = df1 - df1.shift()\n",
    "df2.plot(figsize=(14, 8));"
   ]
  },
  {
   "cell_type": "code",
   "execution_count": 13,
   "metadata": {},
   "outputs": [
    {
     "name": "stdout",
     "output_type": "stream",
     "text": [
      "Нулевая гипотеза: Ряд не стационарный\n",
      "Отвергаем H0: Ряд стационарный\n"
     ]
    }
   ],
   "source": [
    "ts = df['num_orders']\n",
    "st_test = adfuller(ts, regression='ctt')\n",
    "\n",
    "print('Нулевая гипотеза: Ряд не стационарный')\n",
    "if st_test[1] < 0.05:\n",
    "    print('Отвергаем H0: Ряд стационарный')\n",
    "else:\n",
    "    print('Принимаем H0: Ряд не стационарный')"
   ]
  },
  {
   "cell_type": "markdown",
   "metadata": {},
   "source": [
    "### Тренды и сезонность"
   ]
  },
  {
   "cell_type": "code",
   "execution_count": 14,
   "metadata": {},
   "outputs": [
    {
     "data": {
      "image/png": "[encoded data removed]",
      "text/plain": [
       "<Figure size 600x800 with 3 Axes>"
      ]
     },
     "metadata": {},
     "output_type": "display_data"
    }
   ],
   "source": [
    "decomposed = seasonal_decompose(df['num_orders'])\n",
    "#decomposed.plot()\n",
    "\n",
    "plt.figure(figsize=(6, 8))\n",
    "plt.subplot(311)\n",
    "decomposed.trend.plot(ax=plt.gca())\n",
    "plt.title('Тренд')\n",
    "\n",
    "plt.subplot(312)\n",
    "#сезонность выводим за 5 дней. очевидно, что 1 сезон - это одни сутки\n",
    "decomposed.seasonal['2018-04':'2018-04-5'].plot(ax=plt.gca()) \n",
    "plt.title('Сезонность')\n",
    "\n",
    "plt.subplot(313)\n",
    "decomposed.resid.plot(ax=plt.gca())\n",
    "plt.title('Остаток декомпозиции')\n",
    "plt.tight_layout()"
   ]
  },
  {
   "cell_type": "markdown",
   "metadata": {},
   "source": [
    "Прослеживается явный тренд - увеличение количества заказов в день."
   ]
  },
  {
   "cell_type": "markdown",
   "metadata": {},
   "source": [
    "## Анализ"
   ]
  },
  {
   "cell_type": "markdown",
   "metadata": {},
   "source": [
    "### Создание признаков"
   ]
  },
  {
   "cell_type": "code",
   "execution_count": 15,
   "metadata": {},
   "outputs": [],
   "source": [
    "#создаем функцию с 3 аргументами: датасет, количество смещений и окно для скользящего среднего\n",
    "def make_features(data, max_lag, rolling_mean_size):  \n",
    "    data['week'] = data.index.isocalendar().week.astype('int') #день\n",
    "    data['dayofweek'] = data.index.dayofweek + 1 #день недели + 1 (так как с 0 начинается)\n",
    "    data['hour'] = data.index.hour #час\n",
    "\n",
    "    for lag in range(1, max_lag + 1): #делаем цикл для смещений\n",
    "        #создаем столбец с номером смещения и с таким же количеством смещений назад как в аргументе\n",
    "        data['lag_{}'.format(lag)] = data['num_orders'].shift(lag) \n",
    "\n",
    "    #создаем столбец скользящего среднего, смещенного на -1, с окном, равным значению в аргументе\n",
    "    data['rolling_mean'] = data['num_orders'].shift().rolling(rolling_mean_size).mean() \n"
   ]
  },
  {
   "cell_type": "code",
   "execution_count": 16,
   "metadata": {},
   "outputs": [
    {
     "name": "stdout",
     "output_type": "stream",
     "text": [
      "<class 'pandas.core.frame.DataFrame'>\n",
      "DatetimeIndex: 4416 entries, 2018-03-01 00:00:00 to 2018-08-31 23:00:00\n",
      "Freq: H\n",
      "Data columns (total 1 columns):\n",
      " #   Column      Non-Null Count  Dtype\n",
      "---  ------      --------------  -----\n",
      " 0   num_orders  4416 non-null   int64\n",
      "dtypes: int64(1)\n",
      "memory usage: 69.0 KB\n"
     ]
    }
   ],
   "source": [
    "df.info()"
   ]
  },
  {
   "cell_type": "code",
   "execution_count": 17,
   "metadata": {},
   "outputs": [],
   "source": [
    "make_features(df, 50, 10)"
   ]
  },
  {
   "cell_type": "code",
   "execution_count": 18,
   "metadata": {},
   "outputs": [
    {
     "data": {
      "text/html": [
       "<div>\n",
       "<style scoped>\n",
       "    .dataframe tbody tr th:only-of-type {\n",
       "        vertical-align: middle;\n",
       "    }\n",
       "\n",
       "    .dataframe tbody tr th {\n",
       "        vertical-align: top;\n",
       "    }\n",
       "\n",
       "    .dataframe thead th {\n",
       "        text-align: right;\n",
       "    }\n",
       "</style>\n",
       "<table border=\"1\" class=\"dataframe\">\n",
       "  <thead>\n",
       "    <tr style=\"text-align: right;\">\n",
       "      <th></th>\n",
       "      <th>num_orders</th>\n",
       "      <th>week</th>\n",
       "      <th>dayofweek</th>\n",
       "      <th>hour</th>\n",
       "      <th>lag_1</th>\n",
       "      <th>lag_2</th>\n",
       "      <th>lag_3</th>\n",
       "      <th>lag_4</th>\n",
       "      <th>lag_5</th>\n",
       "      <th>lag_6</th>\n",
       "      <th>...</th>\n",
       "      <th>lag_42</th>\n",
       "      <th>lag_43</th>\n",
       "      <th>lag_44</th>\n",
       "      <th>lag_45</th>\n",
       "      <th>lag_46</th>\n",
       "      <th>lag_47</th>\n",
       "      <th>lag_48</th>\n",
       "      <th>lag_49</th>\n",
       "      <th>lag_50</th>\n",
       "      <th>rolling_mean</th>\n",
       "    </tr>\n",
       "    <tr>\n",
       "      <th>datetime</th>\n",
       "      <th></th>\n",
       "      <th></th>\n",
       "      <th></th>\n",
       "      <th></th>\n",
       "      <th></th>\n",
       "      <th></th>\n",
       "      <th></th>\n",
       "      <th></th>\n",
       "      <th></th>\n",
       "      <th></th>\n",
       "      <th></th>\n",
       "      <th></th>\n",
       "      <th></th>\n",
       "      <th></th>\n",
       "      <th></th>\n",
       "      <th></th>\n",
       "      <th></th>\n",
       "      <th></th>\n",
       "      <th></th>\n",
       "      <th></th>\n",
       "      <th></th>\n",
       "    </tr>\n",
       "  </thead>\n",
       "  <tbody>\n",
       "    <tr>\n",
       "      <th>2018-03-01 00:00:00</th>\n",
       "      <td>124</td>\n",
       "      <td>9</td>\n",
       "      <td>4</td>\n",
       "      <td>0</td>\n",
       "      <td>NaN</td>\n",
       "      <td>NaN</td>\n",
       "      <td>NaN</td>\n",
       "      <td>NaN</td>\n",
       "      <td>NaN</td>\n",
       "      <td>NaN</td>\n",
       "      <td>...</td>\n",
       "      <td>NaN</td>\n",
       "      <td>NaN</td>\n",
       "      <td>NaN</td>\n",
       "      <td>NaN</td>\n",
       "      <td>NaN</td>\n",
       "      <td>NaN</td>\n",
       "      <td>NaN</td>\n",
       "      <td>NaN</td>\n",
       "      <td>NaN</td>\n",
       "      <td>NaN</td>\n",
       "    </tr>\n",
       "    <tr>\n",
       "      <th>2018-03-01 01:00:00</th>\n",
       "      <td>85</td>\n",
       "      <td>9</td>\n",
       "      <td>4</td>\n",
       "      <td>1</td>\n",
       "      <td>124.0</td>\n",
       "      <td>NaN</td>\n",
       "      <td>NaN</td>\n",
       "      <td>NaN</td>\n",
       "      <td>NaN</td>\n",
       "      <td>NaN</td>\n",
       "      <td>...</td>\n",
       "      <td>NaN</td>\n",
       "      <td>NaN</td>\n",
       "      <td>NaN</td>\n",
       "      <td>NaN</td>\n",
       "      <td>NaN</td>\n",
       "      <td>NaN</td>\n",
       "      <td>NaN</td>\n",
       "      <td>NaN</td>\n",
       "      <td>NaN</td>\n",
       "      <td>NaN</td>\n",
       "    </tr>\n",
       "    <tr>\n",
       "      <th>2018-03-01 02:00:00</th>\n",
       "      <td>71</td>\n",
       "      <td>9</td>\n",
       "      <td>4</td>\n",
       "      <td>2</td>\n",
       "      <td>85.0</td>\n",
       "      <td>124.0</td>\n",
       "      <td>NaN</td>\n",
       "      <td>NaN</td>\n",
       "      <td>NaN</td>\n",
       "      <td>NaN</td>\n",
       "      <td>...</td>\n",
       "      <td>NaN</td>\n",
       "      <td>NaN</td>\n",
       "      <td>NaN</td>\n",
       "      <td>NaN</td>\n",
       "      <td>NaN</td>\n",
       "      <td>NaN</td>\n",
       "      <td>NaN</td>\n",
       "      <td>NaN</td>\n",
       "      <td>NaN</td>\n",
       "      <td>NaN</td>\n",
       "    </tr>\n",
       "    <tr>\n",
       "      <th>2018-03-01 03:00:00</th>\n",
       "      <td>66</td>\n",
       "      <td>9</td>\n",
       "      <td>4</td>\n",
       "      <td>3</td>\n",
       "      <td>71.0</td>\n",
       "      <td>85.0</td>\n",
       "      <td>124.0</td>\n",
       "      <td>NaN</td>\n",
       "      <td>NaN</td>\n",
       "      <td>NaN</td>\n",
       "      <td>...</td>\n",
       "      <td>NaN</td>\n",
       "      <td>NaN</td>\n",
       "      <td>NaN</td>\n",
       "      <td>NaN</td>\n",
       "      <td>NaN</td>\n",
       "      <td>NaN</td>\n",
       "      <td>NaN</td>\n",
       "      <td>NaN</td>\n",
       "      <td>NaN</td>\n",
       "      <td>NaN</td>\n",
       "    </tr>\n",
       "    <tr>\n",
       "      <th>2018-03-01 04:00:00</th>\n",
       "      <td>43</td>\n",
       "      <td>9</td>\n",
       "      <td>4</td>\n",
       "      <td>4</td>\n",
       "      <td>66.0</td>\n",
       "      <td>71.0</td>\n",
       "      <td>85.0</td>\n",
       "      <td>124.0</td>\n",
       "      <td>NaN</td>\n",
       "      <td>NaN</td>\n",
       "      <td>...</td>\n",
       "      <td>NaN</td>\n",
       "      <td>NaN</td>\n",
       "      <td>NaN</td>\n",
       "      <td>NaN</td>\n",
       "      <td>NaN</td>\n",
       "      <td>NaN</td>\n",
       "      <td>NaN</td>\n",
       "      <td>NaN</td>\n",
       "      <td>NaN</td>\n",
       "      <td>NaN</td>\n",
       "    </tr>\n",
       "  </tbody>\n",
       "</table>\n",
       "<p>5 rows × 55 columns</p>\n",
       "</div>"
      ],
      "text/plain": [
       "                     num_orders  week  dayofweek  hour  lag_1  lag_2  lag_3  \\\n",
       "datetime                                                                      \n",
       "2018-03-01 00:00:00         124     9          4     0    NaN    NaN    NaN   \n",
       "2018-03-01 01:00:00          85     9          4     1  124.0    NaN    NaN   \n",
       "2018-03-01 02:00:00          71     9          4     2   85.0  124.0    NaN   \n",
       "2018-03-01 03:00:00          66     9          4     3   71.0   85.0  124.0   \n",
       "2018-03-01 04:00:00          43     9          4     4   66.0   71.0   85.0   \n",
       "\n",
       "                     lag_4  lag_5  lag_6  ...  lag_42  lag_43  lag_44  lag_45  \\\n",
       "datetime                                  ...                                   \n",
       "2018-03-01 00:00:00    NaN    NaN    NaN  ...     NaN     NaN     NaN     NaN   \n",
       "2018-03-01 01:00:00    NaN    NaN    NaN  ...     NaN     NaN     NaN     NaN   \n",
       "2018-03-01 02:00:00    NaN    NaN    NaN  ...     NaN     NaN     NaN     NaN   \n",
       "2018-03-01 03:00:00    NaN    NaN    NaN  ...     NaN     NaN     NaN     NaN   \n",
       "2018-03-01 04:00:00  124.0    NaN    NaN  ...     NaN     NaN     NaN     NaN   \n",
       "\n",
       "                     lag_46  lag_47  lag_48  lag_49  lag_50  rolling_mean  \n",
       "datetime                                                                   \n",
       "2018-03-01 00:00:00     NaN     NaN     NaN     NaN     NaN           NaN  \n",
       "2018-03-01 01:00:00     NaN     NaN     NaN     NaN     NaN           NaN  \n",
       "2018-03-01 02:00:00     NaN     NaN     NaN     NaN     NaN           NaN  \n",
       "2018-03-01 03:00:00     NaN     NaN     NaN     NaN     NaN           NaN  \n",
       "2018-03-01 04:00:00     NaN     NaN     NaN     NaN     NaN           NaN  \n",
       "\n",
       "[5 rows x 55 columns]"
      ]
     },
     "execution_count": 18,
     "metadata": {},
     "output_type": "execute_result"
    }
   ],
   "source": [
    "df.head()"
   ]
  },
  {
   "cell_type": "markdown",
   "metadata": {},
   "source": [
    "### Разбиение данных"
   ]
  },
  {
   "cell_type": "code",
   "execution_count": 19,
   "metadata": {},
   "outputs": [],
   "source": [
    "train, test = train_test_split(df, shuffle=False, test_size=0.1)"
   ]
  },
  {
   "cell_type": "markdown",
   "metadata": {},
   "source": [
    "После разбиения данных в обучающей выборке (т.е. от начала ряда, т.к. мы не перемешиваем), образовались пустые значения. Их нужно удалить."
   ]
  },
  {
   "cell_type": "code",
   "execution_count": 20,
   "metadata": {},
   "outputs": [],
   "source": [
    "train = train.dropna()"
   ]
  },
  {
   "cell_type": "code",
   "execution_count": 21,
   "metadata": {},
   "outputs": [],
   "source": [
    "features_train = train.drop('num_orders', axis=1)\n",
    "features_test = test.drop('num_orders', axis=1)\n",
    "target_train = train['num_orders']\n",
    "target_test = test['num_orders']"
   ]
  },
  {
   "cell_type": "markdown",
   "metadata": {},
   "source": [
    "Все признаки готовы для дальнейшего обучения."
   ]
  },
  {
   "cell_type": "markdown",
   "metadata": {},
   "source": [
    "### Прогноз по предыдущему значению"
   ]
  },
  {
   "cell_type": "code",
   "execution_count": 22,
   "metadata": {},
   "outputs": [
    {
     "name": "stdout",
     "output_type": "stream",
     "text": [
      "RMSE: 58.86\n"
     ]
    }
   ],
   "source": [
    "pred_previous = target_test.shift()\n",
    "pred_previous.iloc[0] = target_train.iloc[-1]\n",
    "print(\"RMSE:\", round((mean_squared_error(target_test, pred_previous))**(0.5), 2))"
   ]
  },
  {
   "cell_type": "markdown",
   "metadata": {},
   "source": [
    "Получили значение метрики RMSE около 59, что, конечно же не удовлетворяет условию, но имеет смыс для сравнения с реальными моделями в дальнейшем."
   ]
  },
  {
   "cell_type": "markdown",
   "metadata": {},
   "source": [
    "## Обучение"
   ]
  },
  {
   "cell_type": "markdown",
   "metadata": {},
   "source": [
    "Кросс-валидацию зададим методом `TimeSeriesSplit`, для того, чтобы при каждом делении выборки, тестовые индексы были позже обучающих. "
   ]
  },
  {
   "cell_type": "code",
   "execution_count": 23,
   "metadata": {},
   "outputs": [],
   "source": [
    "tscv = TimeSeriesSplit(n_splits=10)"
   ]
  },
  {
   "cell_type": "markdown",
   "metadata": {},
   "source": [
    "### Линейная регрессия"
   ]
  },
  {
   "cell_type": "markdown",
   "metadata": {},
   "source": [
    "Начнем с довольно простой и очень быстрой модели - линейной регрессии:"
   ]
  },
  {
   "cell_type": "code",
   "execution_count": 24,
   "metadata": {},
   "outputs": [
    {
     "name": "stdout",
     "output_type": "stream",
     "text": [
      "Среднее значение метрики RMSE для модели линейной регрессии с использованием кросс-валидации: 24.13\n",
      "CPU times: total: 15.6 ms\n",
      "Wall time: 210 ms\n"
     ]
    }
   ],
   "source": [
    "%%time\n",
    "\n",
    "lin_reg_cv = LinearRegression()\n",
    "lin_reg_cv_scores = cross_val_score(lin_reg_cv, features_train, target_train.values, scoring='neg_root_mean_squared_error', cv=tscv)\n",
    "lin_reg_cv_rmse = round(abs(lin_reg_cv_scores.mean()), 2)\n",
    "\n",
    "print(\"Среднее значение метрики RMSE для модели линейной регрессии \"\\\n",
    "    \"с использованием кросс-валидации:\", lin_reg_cv_rmse)"
   ]
  },
  {
   "cell_type": "markdown",
   "metadata": {},
   "source": [
    "Итак, линейная регрессия показывает отличный результат для метрики RMSE. Рассмотрим также модель случайного леса, а также модель с использованием бустинга - `LightGBM`."
   ]
  },
  {
   "cell_type": "markdown",
   "metadata": {},
   "source": [
    "### Случайный лес"
   ]
  },
  {
   "cell_type": "markdown",
   "metadata": {},
   "source": [
    "Гиперпараметры для модели случайного леса будем перебирать с помощью `RandomizedSearchCV` - это значительно ускорит подбор параметров, не сильно ухудшив значение итоговой метрики `RMSE`. "
   ]
  },
  {
   "cell_type": "code",
   "execution_count": 25,
   "metadata": {},
   "outputs": [
    {
     "name": "stdout",
     "output_type": "stream",
     "text": [
      "Лучшие параметры для модели случайного леса с использованием кросс-валидации: {'n_estimators': 88, 'max_depth': 43}\n",
      "Наименьшее значение метрики RMSE для модели случайного леса при лучших гиперпараметрах с использованием кросс-валидации: 23.34\n",
      "CPU times: total: 3.17 s\n",
      "Wall time: 5min 3s\n"
     ]
    }
   ],
   "source": [
    "%%time\n",
    "\n",
    "random_forest = RandomForestRegressor(random_state=RANDOM_STATE) #модель случайного леса\n",
    "parameters = {'n_estimators': range (1, 300), 'max_depth': range (1, 100)} #перебор гиперпараметров\n",
    "#применение метода гридсёрч со встроенной кросс-валидацией к модели леса с перебором указанных параметров\n",
    "\n",
    "randomized_random_forest = RandomizedSearchCV(random_forest, n_iter=20, param_distributions= parameters, scoring='neg_root_mean_squared_error', n_jobs= -2, cv=tscv, random_state=RANDOM_STATE)\n",
    "#обучение модели\n",
    "randomized_random_forest.fit(features_train, target_train.values)\n",
    "\n",
    "#лучшее значение после перебора параметров \n",
    "best_randomized_forest = abs(randomized_random_forest.best_score_)\n",
    "\n",
    "print(\"Лучшие параметры для модели случайного леса с \"\\\n",
    "    \"использованием кросс-валидации:\", randomized_random_forest.best_params_)\n",
    "print(\"Наименьшее значение метрики RMSE для модели случайного леса \"\\\n",
    "    \"при лучших гиперпараметрах с использованием кросс-валидации:\", round(best_randomized_forest, 2))"
   ]
  },
  {
   "cell_type": "markdown",
   "metadata": {},
   "source": [
    "Модель случайного леса показывает меньшее значение метрики `RMSE`, чем модель линейной регрессии, но для нее требуется большее время."
   ]
  },
  {
   "cell_type": "markdown",
   "metadata": {},
   "source": [
    "### LightGBM"
   ]
  },
  {
   "cell_type": "markdown",
   "metadata": {},
   "source": [
    "Среди признаков нет таких, которые нужно вынести в категории для модели `LightGBM`, поэтому можно сразу использовать исходные выборки."
   ]
  },
  {
   "cell_type": "code",
   "execution_count": 26,
   "metadata": {},
   "outputs": [
    {
     "name": "stdout",
     "output_type": "stream",
     "text": [
      "Лучшие параметры для модели LightGBM с использованием кросс-валидации: {'n_estimators': 750, 'max_depth': 32, 'learning_rate': 0.01}\n",
      "Наименьшее значение метрики RMSE для модели LightGBM при лучших гиперпараметрах с использованием кросс-валидации: 23.15\n",
      "CPU times: total: 14.7 s\n",
      "Wall time: 45.7 s\n"
     ]
    }
   ],
   "source": [
    "%%time\n",
    "\n",
    "lgb_forest = lgb.LGBMModel(objective=\"regression\", random_state=RANDOM_STATE) #\n",
    "parameters = {'n_estimators': range (1, 1000), 'max_depth': range (1, 100), 'learning_rate': (0.01, 0.5, 0.01)}\n",
    "#применение метода гридсёрч со встроенной кросс-валидацией\n",
    "\n",
    "rand_lgb_forest = RandomizedSearchCV(lgb_forest, n_iter=20, param_distributions= parameters, scoring='neg_root_mean_squared_error', n_jobs= -2, cv=tscv, random_state=RANDOM_STATE)\n",
    "#обучение модели\n",
    "rand_lgb_forest.fit(features_train, target_train.values)\n",
    "\n",
    "#лучшее значение после перебора параметров \n",
    "best_rand_lgb_forest = abs(rand_lgb_forest.best_score_)\n",
    "\n",
    "print(\"Лучшие параметры для модели LightGBM с \"\\\n",
    "    \"использованием кросс-валидации:\", rand_lgb_forest.best_params_)\n",
    "print(\"Наименьшее значение метрики RMSE для модели LightGBM \"\\\n",
    "    \"при лучших гиперпараметрах с использованием кросс-валидации:\", round(best_rand_lgb_forest, 2))"
   ]
  },
  {
   "cell_type": "markdown",
   "metadata": {},
   "source": [
    "`LightGBM` показала самые невысокие значения метрики `RMSE`, а значит, именно на этой модели будем считать `RMSE` на тестовых данных."
   ]
  },
  {
   "cell_type": "markdown",
   "metadata": {},
   "source": [
    "## Тестирование"
   ]
  },
  {
   "cell_type": "markdown",
   "metadata": {},
   "source": [
    "Обучаем лучшую модель с лучшим набором гиперпараметров на обучающих данных и тестируем на тестовых."
   ]
  },
  {
   "cell_type": "code",
   "execution_count": 27,
   "metadata": {},
   "outputs": [
    {
     "name": "stdout",
     "output_type": "stream",
     "text": [
      "Наименьшее значение метрики RMSE на тестовых данных 39.48\n"
     ]
    }
   ],
   "source": [
    "lgb_forest_1 = lgb.LGBMModel(\n",
    "    objective=\"regression\", \n",
    "    n_estimators=rand_lgb_forest.best_params_['n_estimators'], \n",
    "    max_depth=rand_lgb_forest.best_params_['max_depth'], \n",
    "    learning_rate=rand_lgb_forest.best_params_['learning_rate'])\n",
    "lgb_forest_1.fit(features_train, target_train.values)\n",
    "\n",
    "predictions_lgb_forest_1 = lgb_forest_1.predict(features_test)\n",
    "\n",
    "lgb_forest_1_rmse = (abs(mean_squared_error(target_test, predictions_lgb_forest_1)))**0.5\n",
    "print(\"Наименьшее значение метрики RMSE на тестовых данных\", round(lgb_forest_1_rmse, 2))"
   ]
  },
  {
   "cell_type": "markdown",
   "metadata": {},
   "source": [
    "## Выводы"
   ]
  },
  {
   "cell_type": "markdown",
   "metadata": {},
   "source": [
    "В проекте мы обработали данные и подготовили их к обучению. Итоговой метрикой в проекте принята `RMSE`. Минимальное значение `RMSE` было получено у модели `LightGBM`. Именно на этой модели были сделаны предсказания для тестовой выборки.\n",
    "\n",
    "При условии получения значения `RMSE` меньше 48 на тестовых данных получили `RMSE` равным 39,48."
   ]
  }
 ],
 "metadata": {
  "ExecuteTimeLog": [
   {
    "duration": 52,
    "start_time": "2023-02-01T17:59:44.283Z"
   },
   {
    "duration": 3,
    "start_time": "2023-02-01T18:00:04.711Z"
   },
   {
    "duration": 394,
    "start_time": "2023-02-01T18:00:23.946Z"
   },
   {
    "duration": 145,
    "start_time": "2023-02-01T18:00:24.888Z"
   },
   {
    "duration": 9,
    "start_time": "2023-02-01T18:00:43.832Z"
   },
   {
    "duration": 12,
    "start_time": "2023-02-01T18:01:49.447Z"
   },
   {
    "duration": 36,
    "start_time": "2023-02-01T18:05:34.066Z"
   },
   {
    "duration": 9,
    "start_time": "2023-02-01T18:06:37.045Z"
   },
   {
    "duration": 3,
    "start_time": "2023-02-01T18:06:52.389Z"
   },
   {
    "duration": 7,
    "start_time": "2023-02-01T18:07:00.641Z"
   },
   {
    "duration": 9,
    "start_time": "2023-02-01T18:08:43.037Z"
   },
   {
    "duration": 693,
    "start_time": "2023-02-01T18:08:48.847Z"
   },
   {
    "duration": 706,
    "start_time": "2023-02-01T18:09:04.713Z"
   },
   {
    "duration": 663,
    "start_time": "2023-02-01T18:09:09.532Z"
   },
   {
    "duration": 3,
    "start_time": "2023-02-01T18:09:16.054Z"
   },
   {
    "duration": 91,
    "start_time": "2023-02-01T18:09:16.059Z"
   },
   {
    "duration": 6,
    "start_time": "2023-02-01T18:09:17.689Z"
   },
   {
    "duration": 15,
    "start_time": "2023-02-01T18:09:18.236Z"
   },
   {
    "duration": 13,
    "start_time": "2023-02-01T18:09:21.281Z"
   },
   {
    "duration": 10,
    "start_time": "2023-02-01T18:09:33.341Z"
   },
   {
    "duration": 3,
    "start_time": "2023-02-01T18:10:02.605Z"
   },
   {
    "duration": 59,
    "start_time": "2023-02-01T18:10:02.610Z"
   },
   {
    "duration": 8,
    "start_time": "2023-02-01T18:10:02.670Z"
   },
   {
    "duration": 24,
    "start_time": "2023-02-01T18:10:02.680Z"
   },
   {
    "duration": 15,
    "start_time": "2023-02-01T18:10:04.184Z"
   },
   {
    "duration": 11,
    "start_time": "2023-02-01T18:10:05.398Z"
   },
   {
    "duration": 4,
    "start_time": "2023-02-01T18:10:50.193Z"
   },
   {
    "duration": 7,
    "start_time": "2023-02-01T18:11:53.920Z"
   },
   {
    "duration": 13,
    "start_time": "2023-02-01T18:11:57.591Z"
   },
   {
    "duration": 9,
    "start_time": "2023-02-01T18:12:07.684Z"
   },
   {
    "duration": 3,
    "start_time": "2023-02-01T18:12:11.941Z"
   },
   {
    "duration": 43,
    "start_time": "2023-02-01T18:12:11.945Z"
   },
   {
    "duration": 16,
    "start_time": "2023-02-01T18:12:11.990Z"
   },
   {
    "duration": 35,
    "start_time": "2023-02-01T18:12:12.008Z"
   },
   {
    "duration": 11,
    "start_time": "2023-02-01T18:12:12.046Z"
   },
   {
    "duration": 18,
    "start_time": "2023-02-01T18:12:12.059Z"
   },
   {
    "duration": 18,
    "start_time": "2023-02-01T18:12:12.079Z"
   },
   {
    "duration": 18,
    "start_time": "2023-02-01T18:12:12.098Z"
   },
   {
    "duration": 9,
    "start_time": "2023-02-01T18:12:13.281Z"
   },
   {
    "duration": 15,
    "start_time": "2023-02-01T18:12:20.833Z"
   },
   {
    "duration": 10,
    "start_time": "2023-02-01T18:12:34.827Z"
   },
   {
    "duration": 10,
    "start_time": "2023-02-01T18:12:39.681Z"
   },
   {
    "duration": 11,
    "start_time": "2023-02-01T18:14:01.933Z"
   },
   {
    "duration": 9,
    "start_time": "2023-02-01T18:15:03.638Z"
   },
   {
    "duration": 5,
    "start_time": "2023-02-01T18:15:09.867Z"
   },
   {
    "duration": 4,
    "start_time": "2023-02-01T18:15:18.287Z"
   },
   {
    "duration": 2,
    "start_time": "2023-02-01T18:15:36.118Z"
   },
   {
    "duration": 46,
    "start_time": "2023-02-01T18:15:36.122Z"
   },
   {
    "duration": 6,
    "start_time": "2023-02-01T18:15:36.170Z"
   },
   {
    "duration": 22,
    "start_time": "2023-02-01T18:15:36.178Z"
   },
   {
    "duration": 13,
    "start_time": "2023-02-01T18:15:36.202Z"
   },
   {
    "duration": 14,
    "start_time": "2023-02-01T18:15:36.217Z"
   },
   {
    "duration": 7,
    "start_time": "2023-02-01T18:15:36.232Z"
   },
   {
    "duration": 12,
    "start_time": "2023-02-01T18:15:46.185Z"
   },
   {
    "duration": 10,
    "start_time": "2023-02-01T18:17:30.020Z"
   },
   {
    "duration": 12,
    "start_time": "2023-02-01T18:17:43.394Z"
   },
   {
    "duration": 11,
    "start_time": "2023-02-01T18:17:50.389Z"
   },
   {
    "duration": 14,
    "start_time": "2023-02-01T18:17:58.013Z"
   },
   {
    "duration": 15,
    "start_time": "2023-02-01T18:18:05.521Z"
   },
   {
    "duration": 12,
    "start_time": "2023-02-01T18:18:30.154Z"
   },
   {
    "duration": 12,
    "start_time": "2023-02-01T18:18:36.701Z"
   },
   {
    "duration": 13,
    "start_time": "2023-02-01T18:21:33.025Z"
   },
   {
    "duration": 15,
    "start_time": "2023-02-01T18:21:49.916Z"
   },
   {
    "duration": 586,
    "start_time": "2023-02-01T18:23:46.918Z"
   },
   {
    "duration": 19,
    "start_time": "2023-02-01T18:23:59.585Z"
   },
   {
    "duration": 274,
    "start_time": "2023-02-01T18:24:03.929Z"
   },
   {
    "duration": 260,
    "start_time": "2023-02-01T18:24:08.906Z"
   },
   {
    "duration": 12,
    "start_time": "2023-02-01T18:40:30.191Z"
   },
   {
    "duration": 14,
    "start_time": "2023-02-01T18:40:39.118Z"
   },
   {
    "duration": 248,
    "start_time": "2023-02-01T18:41:49.121Z"
   },
   {
    "duration": 9,
    "start_time": "2023-02-01T18:41:55.994Z"
   },
   {
    "duration": 2,
    "start_time": "2023-02-01T18:41:59.793Z"
   },
   {
    "duration": 80,
    "start_time": "2023-02-01T18:41:59.797Z"
   },
   {
    "duration": 21,
    "start_time": "2023-02-01T18:41:59.878Z"
   },
   {
    "duration": 49,
    "start_time": "2023-02-01T18:41:59.900Z"
   },
   {
    "duration": 52,
    "start_time": "2023-02-01T18:41:59.950Z"
   },
   {
    "duration": 68,
    "start_time": "2023-02-01T18:42:00.004Z"
   },
   {
    "duration": 57,
    "start_time": "2023-02-01T18:42:00.074Z"
   },
   {
    "duration": 45,
    "start_time": "2023-02-01T18:42:00.132Z"
   },
   {
    "duration": 7,
    "start_time": "2023-02-01T18:42:01.841Z"
   },
   {
    "duration": 218,
    "start_time": "2023-02-01T18:42:20.321Z"
   },
   {
    "duration": 13,
    "start_time": "2023-02-01T18:42:23.563Z"
   },
   {
    "duration": 12,
    "start_time": "2023-02-01T18:42:56.361Z"
   },
   {
    "duration": 12,
    "start_time": "2023-02-01T18:43:03.380Z"
   },
   {
    "duration": 14,
    "start_time": "2023-02-01T18:43:08.786Z"
   },
   {
    "duration": 14,
    "start_time": "2023-02-01T18:43:21.495Z"
   },
   {
    "duration": 10,
    "start_time": "2023-02-01T18:43:31.094Z"
   },
   {
    "duration": 11,
    "start_time": "2023-02-01T18:43:35.871Z"
   },
   {
    "duration": 13,
    "start_time": "2023-02-01T18:44:01.338Z"
   },
   {
    "duration": 12,
    "start_time": "2023-02-01T18:44:14.657Z"
   },
   {
    "duration": 6,
    "start_time": "2023-02-01T18:44:57.317Z"
   },
   {
    "duration": 13,
    "start_time": "2023-02-01T18:45:03.734Z"
   },
   {
    "duration": 2,
    "start_time": "2023-02-01T18:45:07.034Z"
   },
   {
    "duration": 71,
    "start_time": "2023-02-01T18:45:07.040Z"
   },
   {
    "duration": 7,
    "start_time": "2023-02-01T18:45:07.113Z"
   },
   {
    "duration": 39,
    "start_time": "2023-02-01T18:45:07.123Z"
   },
   {
    "duration": 26,
    "start_time": "2023-02-01T18:45:07.164Z"
   },
   {
    "duration": 28,
    "start_time": "2023-02-01T18:45:07.192Z"
   },
   {
    "duration": 21,
    "start_time": "2023-02-01T18:45:07.221Z"
   },
   {
    "duration": 30,
    "start_time": "2023-02-01T18:45:07.244Z"
   },
   {
    "duration": 12,
    "start_time": "2023-02-01T18:45:10.424Z"
   },
   {
    "duration": 496,
    "start_time": "2023-02-01T18:46:43.216Z"
   },
   {
    "duration": 11,
    "start_time": "2023-02-01T18:47:15.169Z"
   },
   {
    "duration": 223,
    "start_time": "2023-02-01T18:47:35.598Z"
   },
   {
    "duration": 944,
    "start_time": "2023-02-01T18:47:49.457Z"
   },
   {
    "duration": 796,
    "start_time": "2023-02-01T18:49:31.890Z"
   },
   {
    "duration": 9,
    "start_time": "2023-02-01T18:49:51.228Z"
   },
   {
    "duration": 689,
    "start_time": "2023-02-01T18:49:52.385Z"
   },
   {
    "duration": 3,
    "start_time": "2023-02-01T18:49:58.220Z"
   },
   {
    "duration": 47,
    "start_time": "2023-02-01T18:49:58.225Z"
   },
   {
    "duration": 7,
    "start_time": "2023-02-01T18:49:58.273Z"
   },
   {
    "duration": 14,
    "start_time": "2023-02-01T18:49:58.281Z"
   },
   {
    "duration": 10,
    "start_time": "2023-02-01T18:49:58.297Z"
   },
   {
    "duration": 12,
    "start_time": "2023-02-01T18:49:58.309Z"
   },
   {
    "duration": 8,
    "start_time": "2023-02-01T18:49:58.323Z"
   },
   {
    "duration": 19,
    "start_time": "2023-02-01T18:49:58.333Z"
   },
   {
    "duration": 10,
    "start_time": "2023-02-01T18:49:58.354Z"
   },
   {
    "duration": 682,
    "start_time": "2023-02-01T18:49:58.366Z"
   },
   {
    "duration": 717,
    "start_time": "2023-02-01T18:50:00.801Z"
   },
   {
    "duration": 13,
    "start_time": "2023-02-01T18:50:06.198Z"
   },
   {
    "duration": 40,
    "start_time": "2023-02-01T18:50:07.522Z"
   },
   {
    "duration": 3,
    "start_time": "2023-02-01T18:50:11.193Z"
   },
   {
    "duration": 63,
    "start_time": "2023-02-01T18:50:11.198Z"
   },
   {
    "duration": 9,
    "start_time": "2023-02-01T18:50:11.263Z"
   },
   {
    "duration": 26,
    "start_time": "2023-02-01T18:50:11.273Z"
   },
   {
    "duration": 13,
    "start_time": "2023-02-01T18:50:11.301Z"
   },
   {
    "duration": 14,
    "start_time": "2023-02-01T18:50:11.315Z"
   },
   {
    "duration": 6,
    "start_time": "2023-02-01T18:50:11.331Z"
   },
   {
    "duration": 17,
    "start_time": "2023-02-01T18:50:11.339Z"
   },
   {
    "duration": 155,
    "start_time": "2023-02-01T18:50:11.358Z"
   },
   {
    "duration": 10,
    "start_time": "2023-02-01T18:50:14.662Z"
   },
   {
    "duration": 2,
    "start_time": "2023-02-01T18:50:22.126Z"
   },
   {
    "duration": 71,
    "start_time": "2023-02-01T18:50:22.133Z"
   },
   {
    "duration": 6,
    "start_time": "2023-02-01T18:50:22.207Z"
   },
   {
    "duration": 29,
    "start_time": "2023-02-01T18:50:22.215Z"
   },
   {
    "duration": 50,
    "start_time": "2023-02-01T18:50:22.245Z"
   },
   {
    "duration": 52,
    "start_time": "2023-02-01T18:50:22.298Z"
   },
   {
    "duration": 39,
    "start_time": "2023-02-01T18:50:22.353Z"
   },
   {
    "duration": 52,
    "start_time": "2023-02-01T18:50:22.394Z"
   },
   {
    "duration": 79,
    "start_time": "2023-02-01T18:50:22.448Z"
   },
   {
    "duration": 11,
    "start_time": "2023-02-01T18:50:25.523Z"
   },
   {
    "duration": 11,
    "start_time": "2023-02-01T18:50:55.551Z"
   },
   {
    "duration": 233,
    "start_time": "2023-02-01T18:50:56.389Z"
   },
   {
    "duration": 12,
    "start_time": "2023-02-01T18:51:07.372Z"
   },
   {
    "duration": 1014,
    "start_time": "2023-02-01T18:52:28.515Z"
   },
   {
    "duration": 93,
    "start_time": "2023-02-01T18:52:29.530Z"
   },
   {
    "duration": 9,
    "start_time": "2023-02-01T18:52:29.624Z"
   },
   {
    "duration": 16,
    "start_time": "2023-02-01T18:52:29.636Z"
   },
   {
    "duration": 18,
    "start_time": "2023-02-01T18:52:29.653Z"
   },
   {
    "duration": 12,
    "start_time": "2023-02-01T18:52:29.673Z"
   },
   {
    "duration": 12,
    "start_time": "2023-02-01T18:52:29.687Z"
   },
   {
    "duration": 18,
    "start_time": "2023-02-01T18:52:29.700Z"
   },
   {
    "duration": 11,
    "start_time": "2023-02-01T18:52:29.720Z"
   },
   {
    "duration": 111,
    "start_time": "2023-02-01T18:52:34.198Z"
   },
   {
    "duration": 10,
    "start_time": "2023-02-01T18:52:59.511Z"
   },
   {
    "duration": 10,
    "start_time": "2023-02-01T18:53:10.823Z"
   },
   {
    "duration": 13,
    "start_time": "2023-02-01T18:53:21.352Z"
   },
   {
    "duration": 3,
    "start_time": "2023-02-01T18:54:13.188Z"
   },
   {
    "duration": 45,
    "start_time": "2023-02-01T18:54:13.193Z"
   },
   {
    "duration": 7,
    "start_time": "2023-02-01T18:54:13.240Z"
   },
   {
    "duration": 16,
    "start_time": "2023-02-01T18:54:13.249Z"
   },
   {
    "duration": 10,
    "start_time": "2023-02-01T18:54:13.267Z"
   },
   {
    "duration": 10,
    "start_time": "2023-02-01T18:54:13.279Z"
   },
   {
    "duration": 5,
    "start_time": "2023-02-01T18:54:13.291Z"
   },
   {
    "duration": 14,
    "start_time": "2023-02-01T18:54:13.297Z"
   },
   {
    "duration": 9,
    "start_time": "2023-02-01T18:54:14.601Z"
   },
   {
    "duration": 1333,
    "start_time": "2023-02-01T18:54:15.891Z"
   },
   {
    "duration": 204,
    "start_time": "2023-02-01T18:54:39.262Z"
   },
   {
    "duration": 11,
    "start_time": "2023-02-01T18:56:56.905Z"
   },
   {
    "duration": 3,
    "start_time": "2023-02-01T18:57:07.221Z"
   },
   {
    "duration": 108,
    "start_time": "2023-02-01T18:57:07.226Z"
   },
   {
    "duration": 7,
    "start_time": "2023-02-01T18:57:07.336Z"
   },
   {
    "duration": 32,
    "start_time": "2023-02-01T18:57:07.344Z"
   },
   {
    "duration": 29,
    "start_time": "2023-02-01T18:57:07.377Z"
   },
   {
    "duration": 32,
    "start_time": "2023-02-01T18:57:07.407Z"
   },
   {
    "duration": 33,
    "start_time": "2023-02-01T18:57:07.441Z"
   },
   {
    "duration": 12,
    "start_time": "2023-02-01T18:57:08.583Z"
   },
   {
    "duration": 10,
    "start_time": "2023-02-01T18:57:09.836Z"
   },
   {
    "duration": 229,
    "start_time": "2023-02-01T18:57:10.703Z"
   },
   {
    "duration": 275,
    "start_time": "2023-02-01T18:57:11.967Z"
   },
   {
    "duration": 3,
    "start_time": "2023-02-01T18:57:23.885Z"
   },
   {
    "duration": 93,
    "start_time": "2023-02-01T18:57:23.890Z"
   },
   {
    "duration": 8,
    "start_time": "2023-02-01T18:57:23.985Z"
   },
   {
    "duration": 41,
    "start_time": "2023-02-01T18:57:23.995Z"
   },
   {
    "duration": 55,
    "start_time": "2023-02-01T18:57:24.039Z"
   },
   {
    "duration": 32,
    "start_time": "2023-02-01T18:57:24.097Z"
   },
   {
    "duration": 41,
    "start_time": "2023-02-01T18:57:24.131Z"
   },
   {
    "duration": 12,
    "start_time": "2023-02-01T18:57:25.586Z"
   },
   {
    "duration": 9,
    "start_time": "2023-02-01T18:57:26.880Z"
   },
   {
    "duration": 202,
    "start_time": "2023-02-01T18:57:28.134Z"
   },
   {
    "duration": 675,
    "start_time": "2023-02-01T18:57:37.794Z"
   },
   {
    "duration": 12,
    "start_time": "2023-02-01T18:57:50.579Z"
   },
   {
    "duration": 13,
    "start_time": "2023-02-01T18:57:51.656Z"
   },
   {
    "duration": 741,
    "start_time": "2023-02-01T18:58:20.546Z"
   },
   {
    "duration": 253,
    "start_time": "2023-02-01T18:58:21.293Z"
   },
   {
    "duration": 1087,
    "start_time": "2023-02-01T18:58:27.680Z"
   },
   {
    "duration": 105,
    "start_time": "2023-02-01T18:58:28.769Z"
   },
   {
    "duration": 9,
    "start_time": "2023-02-01T18:58:28.876Z"
   },
   {
    "duration": 15,
    "start_time": "2023-02-01T18:58:28.887Z"
   },
   {
    "duration": 18,
    "start_time": "2023-02-01T18:58:28.904Z"
   },
   {
    "duration": 13,
    "start_time": "2023-02-01T18:58:28.924Z"
   },
   {
    "duration": 13,
    "start_time": "2023-02-01T18:58:28.939Z"
   },
   {
    "duration": 19,
    "start_time": "2023-02-01T18:58:28.954Z"
   },
   {
    "duration": 12,
    "start_time": "2023-02-01T18:58:28.974Z"
   },
   {
    "duration": 676,
    "start_time": "2023-02-01T18:58:28.988Z"
   },
   {
    "duration": 244,
    "start_time": "2023-02-01T18:58:29.666Z"
   },
   {
    "duration": 6,
    "start_time": "2023-02-01T19:00:56.488Z"
   },
   {
    "duration": 7,
    "start_time": "2023-02-01T19:01:04.018Z"
   },
   {
    "duration": 7,
    "start_time": "2023-02-01T19:01:39.658Z"
   },
   {
    "duration": 6,
    "start_time": "2023-02-01T19:01:56.285Z"
   },
   {
    "duration": 6,
    "start_time": "2023-02-01T19:02:01.858Z"
   },
   {
    "duration": 12,
    "start_time": "2023-02-01T19:05:05.254Z"
   },
   {
    "duration": 235,
    "start_time": "2023-02-01T19:05:09.216Z"
   },
   {
    "duration": 12,
    "start_time": "2023-02-01T19:05:19.035Z"
   },
   {
    "duration": 300,
    "start_time": "2023-02-01T19:05:24.003Z"
   },
   {
    "duration": 95,
    "start_time": "2023-02-01T19:07:00.817Z"
   },
   {
    "duration": 12,
    "start_time": "2023-02-01T19:07:08.554Z"
   },
   {
    "duration": 18,
    "start_time": "2023-02-01T19:07:14.282Z"
   },
   {
    "duration": 315,
    "start_time": "2023-02-01T19:07:17.319Z"
   },
   {
    "duration": 16,
    "start_time": "2023-02-01T19:07:23.283Z"
   },
   {
    "duration": 261,
    "start_time": "2023-02-01T19:07:24.844Z"
   },
   {
    "duration": 16,
    "start_time": "2023-02-01T19:08:24.963Z"
   },
   {
    "duration": 260,
    "start_time": "2023-02-01T19:08:25.183Z"
   },
   {
    "duration": 362,
    "start_time": "2023-02-01T19:17:49.540Z"
   },
   {
    "duration": 15,
    "start_time": "2023-02-01T19:19:09.641Z"
   },
   {
    "duration": 48,
    "start_time": "2023-02-02T08:12:37.186Z"
   },
   {
    "duration": 1356,
    "start_time": "2023-02-02T08:12:41.784Z"
   },
   {
    "duration": 152,
    "start_time": "2023-02-02T08:12:43.143Z"
   },
   {
    "duration": 8,
    "start_time": "2023-02-02T08:12:43.297Z"
   },
   {
    "duration": 19,
    "start_time": "2023-02-02T08:12:43.307Z"
   },
   {
    "duration": 8,
    "start_time": "2023-02-02T08:12:43.328Z"
   },
   {
    "duration": 13,
    "start_time": "2023-02-02T08:12:43.338Z"
   },
   {
    "duration": 30,
    "start_time": "2023-02-02T08:12:43.352Z"
   },
   {
    "duration": 14,
    "start_time": "2023-02-02T08:12:43.384Z"
   },
   {
    "duration": 14,
    "start_time": "2023-02-02T08:12:43.400Z"
   },
   {
    "duration": 363,
    "start_time": "2023-02-02T08:12:43.416Z"
   },
   {
    "duration": 316,
    "start_time": "2023-02-02T08:12:43.781Z"
   },
   {
    "duration": 339,
    "start_time": "2023-02-02T08:12:51.290Z"
   },
   {
    "duration": 815,
    "start_time": "2023-02-02T08:13:15.010Z"
   },
   {
    "duration": 587,
    "start_time": "2023-02-02T08:13:22.706Z"
   },
   {
    "duration": 606,
    "start_time": "2023-02-02T08:13:27.706Z"
   },
   {
    "duration": 192,
    "start_time": "2023-02-02T08:14:33.322Z"
   },
   {
    "duration": 378,
    "start_time": "2023-02-02T08:14:44.922Z"
   },
   {
    "duration": 177,
    "start_time": "2023-02-02T08:14:50.954Z"
   },
   {
    "duration": 239,
    "start_time": "2023-02-02T08:15:14.479Z"
   },
   {
    "duration": 191,
    "start_time": "2023-02-02T08:15:20.314Z"
   },
   {
    "duration": 19,
    "start_time": "2023-02-02T08:15:26.553Z"
   },
   {
    "duration": 19,
    "start_time": "2023-02-02T08:15:32.563Z"
   },
   {
    "duration": 19,
    "start_time": "2023-02-02T08:15:36.224Z"
   },
   {
    "duration": 193,
    "start_time": "2023-02-02T08:15:39.065Z"
   },
   {
    "duration": 186,
    "start_time": "2023-02-02T08:15:45.058Z"
   },
   {
    "duration": 17,
    "start_time": "2023-02-02T08:15:50.284Z"
   },
   {
    "duration": 17,
    "start_time": "2023-02-02T08:15:59.681Z"
   },
   {
    "duration": 17,
    "start_time": "2023-02-02T08:16:03.574Z"
   },
   {
    "duration": 26,
    "start_time": "2023-02-02T08:16:08.301Z"
   },
   {
    "duration": 15,
    "start_time": "2023-02-02T08:16:12.314Z"
   },
   {
    "duration": 17,
    "start_time": "2023-02-02T08:16:23.826Z"
   },
   {
    "duration": 16,
    "start_time": "2023-02-02T08:16:26.894Z"
   },
   {
    "duration": 250,
    "start_time": "2023-02-02T08:16:29.788Z"
   },
   {
    "duration": 479,
    "start_time": "2023-02-02T08:16:43.887Z"
   },
   {
    "duration": 405,
    "start_time": "2023-02-02T08:16:50.794Z"
   },
   {
    "duration": 430,
    "start_time": "2023-02-02T08:16:54.802Z"
   },
   {
    "duration": 679,
    "start_time": "2023-02-02T08:17:09.155Z"
   },
   {
    "duration": 592,
    "start_time": "2023-02-02T08:18:32.018Z"
   },
   {
    "duration": 575,
    "start_time": "2023-02-02T08:18:39.687Z"
   },
   {
    "duration": 656,
    "start_time": "2023-02-02T08:19:29.954Z"
   },
   {
    "duration": 721,
    "start_time": "2023-02-02T08:19:38.307Z"
   },
   {
    "duration": 645,
    "start_time": "2023-02-02T08:19:43.388Z"
   },
   {
    "duration": 757,
    "start_time": "2023-02-02T08:19:54.702Z"
   },
   {
    "duration": 592,
    "start_time": "2023-02-02T08:20:39.396Z"
   },
   {
    "duration": 608,
    "start_time": "2023-02-02T08:24:23.212Z"
   },
   {
    "duration": 308,
    "start_time": "2023-02-02T08:24:35.397Z"
   },
   {
    "duration": 195,
    "start_time": "2023-02-02T08:24:38.458Z"
   },
   {
    "duration": 470,
    "start_time": "2023-02-02T08:24:43.443Z"
   },
   {
    "duration": 230,
    "start_time": "2023-02-02T08:24:49.572Z"
   },
   {
    "duration": 353,
    "start_time": "2023-02-02T08:24:53.959Z"
   },
   {
    "duration": 630,
    "start_time": "2023-02-02T08:25:00.268Z"
   },
   {
    "duration": 277,
    "start_time": "2023-02-02T09:59:35.644Z"
   },
   {
    "duration": 373,
    "start_time": "2023-02-02T09:59:41.462Z"
   },
   {
    "duration": 616,
    "start_time": "2023-02-02T10:00:32.398Z"
   },
   {
    "duration": 426,
    "start_time": "2023-02-02T10:00:56.893Z"
   },
   {
    "duration": 17,
    "start_time": "2023-02-02T10:01:26.370Z"
   },
   {
    "duration": 9,
    "start_time": "2023-02-02T10:01:30.962Z"
   },
   {
    "duration": 5,
    "start_time": "2023-02-02T10:01:35.048Z"
   },
   {
    "duration": 3,
    "start_time": "2023-02-02T10:09:21.484Z"
   },
   {
    "duration": 17,
    "start_time": "2023-02-02T10:11:14.344Z"
   },
   {
    "duration": 5,
    "start_time": "2023-02-02T10:11:26.542Z"
   },
   {
    "duration": 13,
    "start_time": "2023-02-02T10:11:30.534Z"
   },
   {
    "duration": 21,
    "start_time": "2023-02-02T10:11:52.198Z"
   },
   {
    "duration": 12,
    "start_time": "2023-02-02T10:12:46.060Z"
   },
   {
    "duration": 16,
    "start_time": "2023-02-02T10:13:07.169Z"
   },
   {
    "duration": 17,
    "start_time": "2023-02-02T10:13:16.432Z"
   },
   {
    "duration": 5,
    "start_time": "2023-02-02T10:14:04.312Z"
   },
   {
    "duration": 4,
    "start_time": "2023-02-02T10:14:23.078Z"
   },
   {
    "duration": 6,
    "start_time": "2023-02-02T10:14:25.853Z"
   },
   {
    "duration": 11,
    "start_time": "2023-02-02T10:14:46.322Z"
   },
   {
    "duration": 5,
    "start_time": "2023-02-02T10:15:02.556Z"
   },
   {
    "duration": 4,
    "start_time": "2023-02-02T10:15:16.786Z"
   },
   {
    "duration": 4,
    "start_time": "2023-02-02T10:15:26.178Z"
   },
   {
    "duration": 5,
    "start_time": "2023-02-02T10:16:07.532Z"
   },
   {
    "duration": 4,
    "start_time": "2023-02-02T10:17:12.217Z"
   },
   {
    "duration": 5,
    "start_time": "2023-02-02T10:17:15.417Z"
   },
   {
    "duration": 4,
    "start_time": "2023-02-02T10:18:39.939Z"
   },
   {
    "duration": 4,
    "start_time": "2023-02-02T10:19:09.324Z"
   },
   {
    "duration": 10,
    "start_time": "2023-02-02T10:19:47.907Z"
   },
   {
    "duration": 7,
    "start_time": "2023-02-02T10:19:59.750Z"
   },
   {
    "duration": 11,
    "start_time": "2023-02-02T10:25:46.926Z"
   },
   {
    "duration": 14,
    "start_time": "2023-02-02T10:25:55.110Z"
   },
   {
    "duration": 12,
    "start_time": "2023-02-02T10:26:17.683Z"
   },
   {
    "duration": 11,
    "start_time": "2023-02-02T10:26:22.080Z"
   },
   {
    "duration": 16,
    "start_time": "2023-02-02T10:27:44.089Z"
   },
   {
    "duration": 13,
    "start_time": "2023-02-02T10:28:05.495Z"
   },
   {
    "duration": 7,
    "start_time": "2023-02-02T10:28:19.768Z"
   },
   {
    "duration": 37,
    "start_time": "2023-02-02T10:28:30.041Z"
   },
   {
    "duration": 12,
    "start_time": "2023-02-02T10:28:43.768Z"
   },
   {
    "duration": 10,
    "start_time": "2023-02-02T10:28:49.832Z"
   },
   {
    "duration": 5,
    "start_time": "2023-02-02T10:28:56.288Z"
   },
   {
    "duration": 10,
    "start_time": "2023-02-02T10:29:16.729Z"
   },
   {
    "duration": 5,
    "start_time": "2023-02-02T10:29:34.513Z"
   },
   {
    "duration": 9,
    "start_time": "2023-02-02T10:43:24.907Z"
   },
   {
    "duration": 8,
    "start_time": "2023-02-02T10:43:38.495Z"
   },
   {
    "duration": 17,
    "start_time": "2023-02-02T10:44:42.903Z"
   },
   {
    "duration": 3,
    "start_time": "2023-02-02T11:19:36.870Z"
   },
   {
    "duration": 45,
    "start_time": "2023-02-02T11:19:36.875Z"
   },
   {
    "duration": 6,
    "start_time": "2023-02-02T11:19:36.922Z"
   },
   {
    "duration": 12,
    "start_time": "2023-02-02T11:19:36.930Z"
   },
   {
    "duration": 41,
    "start_time": "2023-02-02T11:19:36.944Z"
   },
   {
    "duration": 9,
    "start_time": "2023-02-02T11:19:36.986Z"
   },
   {
    "duration": 5,
    "start_time": "2023-02-02T11:19:36.997Z"
   },
   {
    "duration": 13,
    "start_time": "2023-02-02T11:19:37.003Z"
   },
   {
    "duration": 13,
    "start_time": "2023-02-02T11:19:37.018Z"
   },
   {
    "duration": 248,
    "start_time": "2023-02-02T11:19:37.032Z"
   },
   {
    "duration": 299,
    "start_time": "2023-02-02T11:19:43.858Z"
   },
   {
    "duration": 675,
    "start_time": "2023-02-02T11:19:48.652Z"
   },
   {
    "duration": 4,
    "start_time": "2023-02-02T11:19:52.857Z"
   },
   {
    "duration": 4,
    "start_time": "2023-02-02T11:19:54.221Z"
   },
   {
    "duration": 5,
    "start_time": "2023-02-02T11:19:56.396Z"
   },
   {
    "duration": 15,
    "start_time": "2023-02-02T11:19:59.539Z"
   },
   {
    "duration": 3,
    "start_time": "2023-02-02T11:22:12.409Z"
   },
   {
    "duration": 7,
    "start_time": "2023-02-02T11:22:25.625Z"
   },
   {
    "duration": 25,
    "start_time": "2023-02-02T11:22:30.931Z"
   },
   {
    "duration": 3,
    "start_time": "2023-02-02T11:23:35.080Z"
   },
   {
    "duration": 47,
    "start_time": "2023-02-02T11:23:35.087Z"
   },
   {
    "duration": 6,
    "start_time": "2023-02-02T11:23:35.136Z"
   },
   {
    "duration": 30,
    "start_time": "2023-02-02T11:23:35.144Z"
   },
   {
    "duration": 8,
    "start_time": "2023-02-02T11:23:35.176Z"
   },
   {
    "duration": 13,
    "start_time": "2023-02-02T11:23:35.186Z"
   },
   {
    "duration": 6,
    "start_time": "2023-02-02T11:23:35.201Z"
   },
   {
    "duration": 14,
    "start_time": "2023-02-02T11:23:35.208Z"
   },
   {
    "duration": 13,
    "start_time": "2023-02-02T11:23:35.224Z"
   },
   {
    "duration": 261,
    "start_time": "2023-02-02T11:23:35.238Z"
   },
   {
    "duration": 309,
    "start_time": "2023-02-02T11:23:35.501Z"
   },
   {
    "duration": 597,
    "start_time": "2023-02-02T11:23:35.811Z"
   },
   {
    "duration": 4,
    "start_time": "2023-02-02T11:23:36.409Z"
   },
   {
    "duration": 9,
    "start_time": "2023-02-02T11:23:36.414Z"
   },
   {
    "duration": 6,
    "start_time": "2023-02-02T11:23:36.425Z"
   },
   {
    "duration": 5,
    "start_time": "2023-02-02T11:23:36.452Z"
   },
   {
    "duration": 2,
    "start_time": "2023-02-02T11:23:37.883Z"
   },
   {
    "duration": 11,
    "start_time": "2023-02-02T11:23:38.044Z"
   },
   {
    "duration": 12,
    "start_time": "2023-02-02T11:23:45.357Z"
   },
   {
    "duration": 4,
    "start_time": "2023-02-02T11:26:24.126Z"
   },
   {
    "duration": 8,
    "start_time": "2023-02-02T11:26:41.557Z"
   },
   {
    "duration": 24,
    "start_time": "2023-02-02T11:26:43.139Z"
   },
   {
    "duration": 6,
    "start_time": "2023-02-02T11:26:52.922Z"
   },
   {
    "duration": 16,
    "start_time": "2023-02-02T11:26:53.404Z"
   },
   {
    "duration": 8,
    "start_time": "2023-02-02T11:27:14.657Z"
   },
   {
    "duration": 15,
    "start_time": "2023-02-02T11:27:15.669Z"
   },
   {
    "duration": 4,
    "start_time": "2023-02-02T11:27:31.315Z"
   },
   {
    "duration": 7,
    "start_time": "2023-02-02T11:27:32.587Z"
   },
   {
    "duration": 15,
    "start_time": "2023-02-02T11:27:32.916Z"
   },
   {
    "duration": 6,
    "start_time": "2023-02-02T11:27:38.596Z"
   },
   {
    "duration": 14,
    "start_time": "2023-02-02T11:27:38.861Z"
   },
   {
    "duration": 4,
    "start_time": "2023-02-02T11:30:44.863Z"
   },
   {
    "duration": 6,
    "start_time": "2023-02-02T11:30:45.228Z"
   },
   {
    "duration": 17,
    "start_time": "2023-02-02T11:30:45.903Z"
   },
   {
    "duration": 7,
    "start_time": "2023-02-02T11:30:50.341Z"
   },
   {
    "duration": 16,
    "start_time": "2023-02-02T11:30:50.924Z"
   },
   {
    "duration": 11,
    "start_time": "2023-02-02T11:31:08.374Z"
   },
   {
    "duration": 27,
    "start_time": "2023-02-02T11:31:09.142Z"
   },
   {
    "duration": 3,
    "start_time": "2023-02-02T11:31:25.412Z"
   },
   {
    "duration": 70,
    "start_time": "2023-02-02T11:31:25.417Z"
   },
   {
    "duration": 7,
    "start_time": "2023-02-02T11:31:25.489Z"
   },
   {
    "duration": 13,
    "start_time": "2023-02-02T11:31:25.498Z"
   },
   {
    "duration": 16,
    "start_time": "2023-02-02T11:31:25.513Z"
   },
   {
    "duration": 28,
    "start_time": "2023-02-02T11:31:25.530Z"
   },
   {
    "duration": 6,
    "start_time": "2023-02-02T11:31:25.559Z"
   },
   {
    "duration": 18,
    "start_time": "2023-02-02T11:31:25.567Z"
   },
   {
    "duration": 15,
    "start_time": "2023-02-02T11:31:25.587Z"
   },
   {
    "duration": 293,
    "start_time": "2023-02-02T11:31:25.605Z"
   },
   {
    "duration": 307,
    "start_time": "2023-02-02T11:31:25.900Z"
   },
   {
    "duration": 599,
    "start_time": "2023-02-02T11:31:26.209Z"
   },
   {
    "duration": 4,
    "start_time": "2023-02-02T11:31:26.810Z"
   },
   {
    "duration": 11,
    "start_time": "2023-02-02T11:31:26.815Z"
   },
   {
    "duration": 24,
    "start_time": "2023-02-02T11:31:26.827Z"
   },
   {
    "duration": 16,
    "start_time": "2023-02-02T11:31:26.852Z"
   },
   {
    "duration": 23,
    "start_time": "2023-02-02T11:31:26.869Z"
   },
   {
    "duration": 7,
    "start_time": "2023-02-02T11:31:28.380Z"
   },
   {
    "duration": 22,
    "start_time": "2023-02-02T11:31:28.902Z"
   },
   {
    "duration": 6,
    "start_time": "2023-02-02T11:32:31.236Z"
   },
   {
    "duration": 21,
    "start_time": "2023-02-02T11:32:31.761Z"
   },
   {
    "duration": 3,
    "start_time": "2023-02-02T11:32:36.661Z"
   },
   {
    "duration": 46,
    "start_time": "2023-02-02T11:32:36.665Z"
   },
   {
    "duration": 6,
    "start_time": "2023-02-02T11:32:36.712Z"
   },
   {
    "duration": 11,
    "start_time": "2023-02-02T11:32:36.721Z"
   },
   {
    "duration": 13,
    "start_time": "2023-02-02T11:32:36.734Z"
   },
   {
    "duration": 27,
    "start_time": "2023-02-02T11:32:36.754Z"
   },
   {
    "duration": 6,
    "start_time": "2023-02-02T11:32:36.782Z"
   },
   {
    "duration": 15,
    "start_time": "2023-02-02T11:32:36.789Z"
   },
   {
    "duration": 121,
    "start_time": "2023-02-02T11:32:36.806Z"
   },
   {
    "duration": 236,
    "start_time": "2023-02-02T11:32:36.929Z"
   },
   {
    "duration": 301,
    "start_time": "2023-02-02T11:32:37.167Z"
   },
   {
    "duration": 632,
    "start_time": "2023-02-02T11:32:37.469Z"
   },
   {
    "duration": 4,
    "start_time": "2023-02-02T11:32:38.102Z"
   },
   {
    "duration": 8,
    "start_time": "2023-02-02T11:32:38.107Z"
   },
   {
    "duration": 8,
    "start_time": "2023-02-02T11:32:38.116Z"
   },
   {
    "duration": 29,
    "start_time": "2023-02-02T11:32:38.125Z"
   },
   {
    "duration": 7,
    "start_time": "2023-02-02T11:32:38.157Z"
   },
   {
    "duration": 6,
    "start_time": "2023-02-02T11:32:39.203Z"
   },
   {
    "duration": 14,
    "start_time": "2023-02-02T11:32:39.597Z"
   },
   {
    "duration": 6,
    "start_time": "2023-02-02T11:32:47.204Z"
   },
   {
    "duration": 13,
    "start_time": "2023-02-02T11:32:48.476Z"
   },
   {
    "duration": 4,
    "start_time": "2023-02-02T11:35:51.166Z"
   },
   {
    "duration": 46,
    "start_time": "2023-02-02T11:35:51.172Z"
   },
   {
    "duration": 6,
    "start_time": "2023-02-02T11:35:51.220Z"
   },
   {
    "duration": 29,
    "start_time": "2023-02-02T11:35:51.228Z"
   },
   {
    "duration": 23,
    "start_time": "2023-02-02T11:35:51.259Z"
   },
   {
    "duration": 20,
    "start_time": "2023-02-02T11:35:51.284Z"
   },
   {
    "duration": 7,
    "start_time": "2023-02-02T11:35:51.306Z"
   },
   {
    "duration": 15,
    "start_time": "2023-02-02T11:35:51.315Z"
   },
   {
    "duration": 35,
    "start_time": "2023-02-02T11:35:51.331Z"
   },
   {
    "duration": 253,
    "start_time": "2023-02-02T11:35:51.367Z"
   },
   {
    "duration": 415,
    "start_time": "2023-02-02T11:35:51.622Z"
   },
   {
    "duration": 568,
    "start_time": "2023-02-02T11:35:52.039Z"
   },
   {
    "duration": 8,
    "start_time": "2023-02-02T11:36:05.145Z"
   },
   {
    "duration": 7,
    "start_time": "2023-02-02T11:36:06.325Z"
   },
   {
    "duration": 16,
    "start_time": "2023-02-02T11:36:07.557Z"
   },
   {
    "duration": 3,
    "start_time": "2023-02-02T11:36:15.733Z"
   },
   {
    "duration": 59,
    "start_time": "2023-02-02T11:36:15.738Z"
   },
   {
    "duration": 8,
    "start_time": "2023-02-02T11:36:15.798Z"
   },
   {
    "duration": 13,
    "start_time": "2023-02-02T11:36:15.807Z"
   },
   {
    "duration": 22,
    "start_time": "2023-02-02T11:36:15.822Z"
   },
   {
    "duration": 23,
    "start_time": "2023-02-02T11:36:15.845Z"
   },
   {
    "duration": 5,
    "start_time": "2023-02-02T11:36:15.870Z"
   },
   {
    "duration": 13,
    "start_time": "2023-02-02T11:36:15.877Z"
   },
   {
    "duration": 16,
    "start_time": "2023-02-02T11:36:15.891Z"
   },
   {
    "duration": 230,
    "start_time": "2023-02-02T11:36:15.908Z"
   },
   {
    "duration": 263,
    "start_time": "2023-02-02T11:36:16.143Z"
   },
   {
    "duration": 565,
    "start_time": "2023-02-02T11:36:16.407Z"
   },
   {
    "duration": 4,
    "start_time": "2023-02-02T11:36:16.974Z"
   },
   {
    "duration": 4,
    "start_time": "2023-02-02T11:36:19.414Z"
   },
   {
    "duration": 36,
    "start_time": "2023-02-02T11:36:19.789Z"
   },
   {
    "duration": 33,
    "start_time": "2023-02-02T11:36:20.401Z"
   },
   {
    "duration": 25,
    "start_time": "2023-02-02T11:36:30.638Z"
   },
   {
    "duration": 4,
    "start_time": "2023-02-02T11:39:24.536Z"
   },
   {
    "duration": 21,
    "start_time": "2023-02-02T11:39:26.666Z"
   },
   {
    "duration": 170,
    "start_time": "2023-02-02T11:39:30.032Z"
   },
   {
    "duration": 3,
    "start_time": "2023-02-02T11:39:38.021Z"
   },
   {
    "duration": 63,
    "start_time": "2023-02-02T11:39:38.026Z"
   },
   {
    "duration": 7,
    "start_time": "2023-02-02T11:39:38.091Z"
   },
   {
    "duration": 12,
    "start_time": "2023-02-02T11:39:38.100Z"
   },
   {
    "duration": 10,
    "start_time": "2023-02-02T11:39:38.115Z"
   },
   {
    "duration": 46,
    "start_time": "2023-02-02T11:39:38.126Z"
   },
   {
    "duration": 8,
    "start_time": "2023-02-02T11:39:38.174Z"
   },
   {
    "duration": 14,
    "start_time": "2023-02-02T11:39:38.184Z"
   },
   {
    "duration": 15,
    "start_time": "2023-02-02T11:39:38.199Z"
   },
   {
    "duration": 273,
    "start_time": "2023-02-02T11:39:38.215Z"
   },
   {
    "duration": 320,
    "start_time": "2023-02-02T11:39:38.491Z"
   },
   {
    "duration": 614,
    "start_time": "2023-02-02T11:39:38.813Z"
   },
   {
    "duration": 4,
    "start_time": "2023-02-02T11:39:39.428Z"
   },
   {
    "duration": 51,
    "start_time": "2023-02-02T11:39:39.434Z"
   },
   {
    "duration": 18,
    "start_time": "2023-02-02T11:39:41.666Z"
   },
   {
    "duration": 22,
    "start_time": "2023-02-02T11:39:42.371Z"
   },
   {
    "duration": 6,
    "start_time": "2023-02-02T11:40:17.824Z"
   },
   {
    "duration": 6,
    "start_time": "2023-02-02T11:40:20.486Z"
   },
   {
    "duration": 5,
    "start_time": "2023-02-02T11:40:23.511Z"
   },
   {
    "duration": 28,
    "start_time": "2023-02-02T11:40:38.886Z"
   },
   {
    "duration": 13,
    "start_time": "2023-02-02T11:41:59.448Z"
   },
   {
    "duration": 6,
    "start_time": "2023-02-02T11:44:09.661Z"
   },
   {
    "duration": 7,
    "start_time": "2023-02-02T11:47:36.932Z"
   },
   {
    "duration": 28,
    "start_time": "2023-02-02T11:47:43.316Z"
   },
   {
    "duration": 28,
    "start_time": "2023-02-02T11:48:02.370Z"
   },
   {
    "duration": 30,
    "start_time": "2023-02-02T11:48:27.208Z"
   },
   {
    "duration": 27,
    "start_time": "2023-02-02T11:48:33.363Z"
   },
   {
    "duration": 40,
    "start_time": "2023-02-02T11:48:51.947Z"
   },
   {
    "duration": 8,
    "start_time": "2023-02-02T11:54:52.117Z"
   },
   {
    "duration": 3,
    "start_time": "2023-02-02T11:54:56.428Z"
   },
   {
    "duration": 127,
    "start_time": "2023-02-02T11:54:56.432Z"
   },
   {
    "duration": 0,
    "start_time": "2023-02-02T11:54:56.561Z"
   },
   {
    "duration": 0,
    "start_time": "2023-02-02T11:54:56.562Z"
   },
   {
    "duration": 0,
    "start_time": "2023-02-02T11:54:56.563Z"
   },
   {
    "duration": 0,
    "start_time": "2023-02-02T11:54:56.564Z"
   },
   {
    "duration": 0,
    "start_time": "2023-02-02T11:54:56.565Z"
   },
   {
    "duration": 0,
    "start_time": "2023-02-02T11:54:56.566Z"
   },
   {
    "duration": 0,
    "start_time": "2023-02-02T11:54:56.567Z"
   },
   {
    "duration": 0,
    "start_time": "2023-02-02T11:54:56.568Z"
   },
   {
    "duration": 0,
    "start_time": "2023-02-02T11:54:56.569Z"
   },
   {
    "duration": 0,
    "start_time": "2023-02-02T11:54:56.570Z"
   },
   {
    "duration": 0,
    "start_time": "2023-02-02T11:54:56.571Z"
   },
   {
    "duration": 0,
    "start_time": "2023-02-02T11:54:56.571Z"
   },
   {
    "duration": 0,
    "start_time": "2023-02-02T11:54:56.573Z"
   },
   {
    "duration": 0,
    "start_time": "2023-02-02T11:54:56.574Z"
   },
   {
    "duration": 0,
    "start_time": "2023-02-02T11:54:56.575Z"
   },
   {
    "duration": 13,
    "start_time": "2023-02-02T11:55:02.753Z"
   },
   {
    "duration": 6,
    "start_time": "2023-02-02T11:55:03.501Z"
   },
   {
    "duration": 37,
    "start_time": "2023-02-02T11:55:10.140Z"
   },
   {
    "duration": 16,
    "start_time": "2023-02-02T11:55:32.141Z"
   },
   {
    "duration": 6,
    "start_time": "2023-02-02T11:55:38.608Z"
   },
   {
    "duration": 22,
    "start_time": "2023-02-02T11:57:44.362Z"
   },
   {
    "duration": 59,
    "start_time": "2023-02-02T11:57:47.015Z"
   },
   {
    "duration": 0,
    "start_time": "2023-02-02T12:29:47.464Z"
   },
   {
    "duration": 1486,
    "start_time": "2023-02-02T12:30:22.512Z"
   },
   {
    "duration": 61,
    "start_time": "2023-02-02T12:30:24.000Z"
   },
   {
    "duration": 9,
    "start_time": "2023-02-02T12:30:25.190Z"
   },
   {
    "duration": 18,
    "start_time": "2023-02-02T12:30:25.740Z"
   },
   {
    "duration": 9,
    "start_time": "2023-02-02T12:30:26.822Z"
   },
   {
    "duration": 8,
    "start_time": "2023-02-02T12:30:27.183Z"
   },
   {
    "duration": 4,
    "start_time": "2023-02-02T12:30:27.974Z"
   },
   {
    "duration": 14,
    "start_time": "2023-02-02T12:30:28.726Z"
   },
   {
    "duration": 16,
    "start_time": "2023-02-02T12:30:30.158Z"
   },
   {
    "duration": 262,
    "start_time": "2023-02-02T12:30:30.510Z"
   },
   {
    "duration": 273,
    "start_time": "2023-02-02T12:30:30.857Z"
   },
   {
    "duration": 663,
    "start_time": "2023-02-02T12:30:32.342Z"
   },
   {
    "duration": 5,
    "start_time": "2023-02-02T12:30:33.765Z"
   },
   {
    "duration": 33,
    "start_time": "2023-02-02T12:30:35.774Z"
   },
   {
    "duration": 19,
    "start_time": "2023-02-02T12:30:36.167Z"
   },
   {
    "duration": 3,
    "start_time": "2023-02-02T12:30:36.960Z"
   },
   {
    "duration": 13,
    "start_time": "2023-02-02T12:30:37.330Z"
   },
   {
    "duration": 6,
    "start_time": "2023-02-02T12:30:38.536Z"
   },
   {
    "duration": 103,
    "start_time": "2023-02-02T12:30:40.837Z"
   },
   {
    "duration": 9,
    "start_time": "2023-02-02T12:31:45.417Z"
   },
   {
    "duration": 4,
    "start_time": "2023-02-02T12:31:53.230Z"
   },
   {
    "duration": 5,
    "start_time": "2023-02-02T12:32:23.873Z"
   },
   {
    "duration": 46,
    "start_time": "2023-02-02T14:46:43.604Z"
   },
   {
    "duration": 1390,
    "start_time": "2023-02-02T14:46:50.229Z"
   },
   {
    "duration": 130,
    "start_time": "2023-02-02T14:46:54.044Z"
   },
   {
    "duration": 9,
    "start_time": "2023-02-02T14:46:55.416Z"
   },
   {
    "duration": 12,
    "start_time": "2023-02-02T14:46:55.701Z"
   },
   {
    "duration": 11,
    "start_time": "2023-02-02T14:46:56.780Z"
   },
   {
    "duration": 10,
    "start_time": "2023-02-02T14:46:57.028Z"
   },
   {
    "duration": 3,
    "start_time": "2023-02-02T14:46:57.501Z"
   },
   {
    "duration": 13,
    "start_time": "2023-02-02T14:46:57.880Z"
   },
   {
    "duration": 16,
    "start_time": "2023-02-02T14:46:58.516Z"
   },
   {
    "duration": 236,
    "start_time": "2023-02-02T14:46:58.732Z"
   },
   {
    "duration": 336,
    "start_time": "2023-02-02T14:46:58.970Z"
   },
   {
    "duration": 663,
    "start_time": "2023-02-02T14:47:00.438Z"
   },
   {
    "duration": 4,
    "start_time": "2023-02-02T14:47:47.717Z"
   },
   {
    "duration": 36,
    "start_time": "2023-02-02T14:47:48.109Z"
   },
   {
    "duration": 22,
    "start_time": "2023-02-02T14:47:48.949Z"
   },
   {
    "duration": 2,
    "start_time": "2023-02-02T14:47:50.598Z"
   },
   {
    "duration": 11,
    "start_time": "2023-02-02T14:47:51.429Z"
   },
   {
    "duration": 7,
    "start_time": "2023-02-02T14:47:52.324Z"
   },
   {
    "duration": 5,
    "start_time": "2023-02-02T14:47:53.638Z"
   },
   {
    "duration": 6,
    "start_time": "2023-02-02T14:47:55.054Z"
   },
   {
    "duration": 75,
    "start_time": "2023-02-02T14:47:57.012Z"
   },
   {
    "duration": 16,
    "start_time": "2023-02-02T14:48:41.210Z"
   },
   {
    "duration": 3,
    "start_time": "2023-02-02T14:49:36.768Z"
   },
   {
    "duration": 100,
    "start_time": "2023-02-02T14:49:36.772Z"
   },
   {
    "duration": 7,
    "start_time": "2023-02-02T14:49:36.874Z"
   },
   {
    "duration": 15,
    "start_time": "2023-02-02T14:49:36.882Z"
   },
   {
    "duration": 8,
    "start_time": "2023-02-02T14:49:36.898Z"
   },
   {
    "duration": 11,
    "start_time": "2023-02-02T14:49:36.908Z"
   },
   {
    "duration": 8,
    "start_time": "2023-02-02T14:49:36.920Z"
   },
   {
    "duration": 24,
    "start_time": "2023-02-02T14:49:36.929Z"
   },
   {
    "duration": 14,
    "start_time": "2023-02-02T14:49:36.955Z"
   },
   {
    "duration": 260,
    "start_time": "2023-02-02T14:49:36.971Z"
   },
   {
    "duration": 274,
    "start_time": "2023-02-02T14:49:37.233Z"
   },
   {
    "duration": 613,
    "start_time": "2023-02-02T14:49:37.508Z"
   },
   {
    "duration": 4,
    "start_time": "2023-02-02T14:49:38.123Z"
   },
   {
    "duration": 64,
    "start_time": "2023-02-02T14:49:38.128Z"
   },
   {
    "duration": 21,
    "start_time": "2023-02-02T14:49:38.194Z"
   },
   {
    "duration": 2,
    "start_time": "2023-02-02T14:49:38.217Z"
   },
   {
    "duration": 19,
    "start_time": "2023-02-02T14:49:38.221Z"
   },
   {
    "duration": 8,
    "start_time": "2023-02-02T14:49:40.140Z"
   },
   {
    "duration": 3,
    "start_time": "2023-02-02T14:49:58.413Z"
   },
   {
    "duration": 76,
    "start_time": "2023-02-02T14:49:58.418Z"
   },
   {
    "duration": 6,
    "start_time": "2023-02-02T14:49:58.496Z"
   },
   {
    "duration": 30,
    "start_time": "2023-02-02T14:49:58.504Z"
   },
   {
    "duration": 39,
    "start_time": "2023-02-02T14:49:58.535Z"
   },
   {
    "duration": 30,
    "start_time": "2023-02-02T14:49:58.575Z"
   },
   {
    "duration": 34,
    "start_time": "2023-02-02T14:49:58.607Z"
   },
   {
    "duration": 26,
    "start_time": "2023-02-02T14:49:58.642Z"
   },
   {
    "duration": 30,
    "start_time": "2023-02-02T14:49:58.669Z"
   },
   {
    "duration": 270,
    "start_time": "2023-02-02T14:49:58.700Z"
   },
   {
    "duration": 268,
    "start_time": "2023-02-02T14:49:58.972Z"
   },
   {
    "duration": 647,
    "start_time": "2023-02-02T14:49:59.241Z"
   },
   {
    "duration": 4,
    "start_time": "2023-02-02T14:49:59.889Z"
   },
   {
    "duration": 45,
    "start_time": "2023-02-02T14:49:59.895Z"
   },
   {
    "duration": 18,
    "start_time": "2023-02-02T14:49:59.942Z"
   },
   {
    "duration": 12,
    "start_time": "2023-02-02T14:49:59.961Z"
   },
   {
    "duration": 6,
    "start_time": "2023-02-02T14:50:02.116Z"
   },
   {
    "duration": 6,
    "start_time": "2023-02-02T14:50:31.853Z"
   },
   {
    "duration": 4,
    "start_time": "2023-02-02T14:50:33.526Z"
   },
   {
    "duration": 5,
    "start_time": "2023-02-02T14:50:35.044Z"
   },
   {
    "duration": 139,
    "start_time": "2023-02-02T14:50:37.357Z"
   },
   {
    "duration": 3,
    "start_time": "2023-02-02T14:50:38.567Z"
   },
   {
    "duration": 57,
    "start_time": "2023-02-02T14:54:35.760Z"
   },
   {
    "duration": 3,
    "start_time": "2023-02-02T14:55:00.406Z"
   },
   {
    "duration": 951,
    "start_time": "2023-02-02T14:55:06.336Z"
   },
   {
    "duration": 2538,
    "start_time": "2023-02-04T17:45:33.560Z"
   },
   {
    "duration": 450,
    "start_time": "2023-02-04T17:45:36.103Z"
   },
   {
    "duration": 11,
    "start_time": "2023-02-04T17:45:36.555Z"
   },
   {
    "duration": 14,
    "start_time": "2023-02-04T17:45:36.568Z"
   },
   {
    "duration": 10,
    "start_time": "2023-02-04T17:45:36.583Z"
   },
   {
    "duration": 60,
    "start_time": "2023-02-04T17:45:36.595Z"
   },
   {
    "duration": 19,
    "start_time": "2023-02-04T17:45:36.656Z"
   },
   {
    "duration": 17,
    "start_time": "2023-02-04T17:45:36.677Z"
   },
   {
    "duration": 511,
    "start_time": "2023-02-04T17:45:36.696Z"
   },
   {
    "duration": 388,
    "start_time": "2023-02-04T17:45:37.211Z"
   },
   {
    "duration": 5773,
    "start_time": "2023-02-04T17:45:39.728Z"
   },
   {
    "duration": 100,
    "start_time": "2023-02-04T17:45:53.488Z"
   },
   {
    "duration": 113,
    "start_time": "2023-02-04T17:45:57.558Z"
   },
   {
    "duration": 6677,
    "start_time": "2023-02-04T17:45:59.054Z"
   },
   {
    "duration": 4438,
    "start_time": "2023-02-04T17:46:33.996Z"
   },
   {
    "duration": 15,
    "start_time": "2023-02-04T17:46:40.124Z"
   },
   {
    "duration": 5535,
    "start_time": "2023-02-04T17:46:44.397Z"
   },
   {
    "duration": 17,
    "start_time": "2023-02-04T17:46:51.135Z"
   },
   {
    "duration": 17,
    "start_time": "2023-02-04T17:46:52.454Z"
   },
   {
    "duration": 135,
    "start_time": "2023-02-04T17:47:08.552Z"
   },
   {
    "duration": 5481,
    "start_time": "2023-02-04T17:47:14.853Z"
   },
   {
    "duration": 16,
    "start_time": "2023-02-04T17:47:26.150Z"
   },
   {
    "duration": 6130,
    "start_time": "2023-02-04T17:47:32.496Z"
   }
  ],
  "kernelspec": {
   "display_name": "Python 3 (ipykernel)",
   "language": "python",
   "name": "python3"
  },
  "language_info": {
   "codemirror_mode": {
    "name": "ipython",
    "version": 3
   },
   "file_extension": ".py",
   "mimetype": "text/x-python",
   "name": "python",
   "nbconvert_exporter": "python",
   "pygments_lexer": "ipython3",
   "version": "3.9.13"
  },
  "toc": {
   "base_numbering": 1,
   "nav_menu": {},
   "number_sections": true,
   "sideBar": true,
   "skip_h1_title": true,
   "title_cell": "Содержание",
   "title_sidebar": "Contents",
   "toc_cell": true,
   "toc_position": {
    "height": "calc(100% - 180px)",
    "left": "10px",
    "top": "150px",
    "width": "374.391px"
   },
   "toc_section_display": true,
   "toc_window_display": true
  },
  "vscode": {
   "interpreter": {
    "hash": "af7472ffbb6f11e94eca2dc243fc9b09d1dc0fb11170c3918ea151f7aad82d25"
   }
  }
 },
 "nbformat": 4,
 "nbformat_minor": 2
}
